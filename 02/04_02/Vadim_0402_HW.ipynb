{
  "nbformat": 4,
  "nbformat_minor": 0,
  "metadata": {
    "colab": {
      "name": "Vadim_0402_HW.ipynb",
      "provenance": [],
      "collapsed_sections": [],
      "toc_visible": true
    },
    "kernelspec": {
      "name": "python3",
      "display_name": "Python 3"
    }
  },
  "cells": [
    {
      "cell_type": "markdown",
      "metadata": {
        "id": "N8vJRadWWovv"
      },
      "source": [
        "# Мемы"
      ]
    },
    {
      "cell_type": "code",
      "metadata": {
        "id": "mG-ozKlkWncr",
        "colab": {
          "base_uri": "https://localhost:8080/"
        },
        "outputId": "f013282f-9443-4265-aa72-cb36fea9d6c8"
      },
      "source": [
        "from google.colab import drive\r\n",
        "drive.mount('/content/drive')"
      ],
      "execution_count": 1,
      "outputs": [
        {
          "output_type": "stream",
          "text": [
            "Mounted at /content/drive\n"
          ],
          "name": "stdout"
        }
      ]
    },
    {
      "cell_type": "code",
      "metadata": {
        "id": "WS5hRH1TaLfD"
      },
      "source": [
        "import pandas as pd\r\n",
        "import numpy as np"
      ],
      "execution_count": 2,
      "outputs": []
    },
    {
      "cell_type": "code",
      "metadata": {
        "id": "hOz4VP-2aLho"
      },
      "source": [
        "path = 'drive/MyDrive/DS/meme'\r\n"
      ],
      "execution_count": 5,
      "outputs": []
    },
    {
      "cell_type": "code",
      "metadata": {
        "id": "30ZnaJjqaLkX"
      },
      "source": [
        "event = pd.read_csv(path+'/danila_event.csv')\r\n"
      ],
      "execution_count": 6,
      "outputs": []
    },
    {
      "cell_type": "code",
      "metadata": {
        "id": "_N8X8xUUaLmY"
      },
      "source": [
        "meme = pd.read_csv(path+'/danila_meme.csv')\r\n",
        "user = pd.read_csv(path+'/danila_user.csv')"
      ],
      "execution_count": 7,
      "outputs": []
    },
    {
      "cell_type": "code",
      "metadata": {
        "colab": {
          "base_uri": "https://localhost:8080/",
          "height": 281
        },
        "id": "-NkokV15bC1Q",
        "outputId": "6316b993-8eea-4cc6-82c7-ea1b6dc0fa4a"
      },
      "source": [
        "meme.head()"
      ],
      "execution_count": 8,
      "outputs": [
        {
          "output_type": "execute_result",
          "data": {
            "text/html": [
              "<div>\n",
              "<style scoped>\n",
              "    .dataframe tbody tr th:only-of-type {\n",
              "        vertical-align: middle;\n",
              "    }\n",
              "\n",
              "    .dataframe tbody tr th {\n",
              "        vertical-align: top;\n",
              "    }\n",
              "\n",
              "    .dataframe thead th {\n",
              "        text-align: right;\n",
              "    }\n",
              "</style>\n",
              "<table border=\"1\" class=\"dataframe\">\n",
              "  <thead>\n",
              "    <tr style=\"text-align: right;\">\n",
              "      <th></th>\n",
              "      <th>meme_id</th>\n",
              "      <th>meme_type</th>\n",
              "      <th>source_id</th>\n",
              "      <th>published_at</th>\n",
              "      <th>caption</th>\n",
              "      <th>content_lang</th>\n",
              "      <th>is_available</th>\n",
              "      <th>likes</th>\n",
              "      <th>dislikes</th>\n",
              "      <th>created_at</th>\n",
              "      <th>updated_at</th>\n",
              "      <th>is_broken</th>\n",
              "      <th>content_text</th>\n",
              "      <th>caption_lang</th>\n",
              "      <th>language_id</th>\n",
              "    </tr>\n",
              "  </thead>\n",
              "  <tbody>\n",
              "    <tr>\n",
              "      <th>0</th>\n",
              "      <td>28997</td>\n",
              "      <td>photo</td>\n",
              "      <td>79.0</td>\n",
              "      <td>2020-04-12 01:48:13+00</td>\n",
              "      <td>I mean shitt it ain't their fault</td>\n",
              "      <td>en</td>\n",
              "      <td>True</td>\n",
              "      <td>17</td>\n",
              "      <td>14</td>\n",
              "      <td>2020-04-12 09:04:37.341908+00</td>\n",
              "      <td>2020-10-26 19:20:58.198825+00</td>\n",
              "      <td>False</td>\n",
              "      <td>brandon @brndvx females live on recruit diffic...</td>\n",
              "      <td>en</td>\n",
              "      <td>3.0</td>\n",
              "    </tr>\n",
              "    <tr>\n",
              "      <th>1</th>\n",
              "      <td>10873</td>\n",
              "      <td>photo</td>\n",
              "      <td>43.0</td>\n",
              "      <td>2020-03-25 11:48:14+00</td>\n",
              "      <td>NaN</td>\n",
              "      <td>ru</td>\n",
              "      <td>True</td>\n",
              "      <td>79</td>\n",
              "      <td>74</td>\n",
              "      <td>2020-03-25 20:00:01.154096+00</td>\n",
              "      <td>2020-10-26 19:20:58.226846+00</td>\n",
              "      <td>False</td>\n",
              "      <td>Я не робот Докажите, что всякое односвязное Ит...</td>\n",
              "      <td>ww</td>\n",
              "      <td>2.0</td>\n",
              "    </tr>\n",
              "    <tr>\n",
              "      <th>2</th>\n",
              "      <td>9874</td>\n",
              "      <td>photo</td>\n",
              "      <td>78.0</td>\n",
              "      <td>2020-03-24 07:18:03+00</td>\n",
              "      <td>Anime toddies expert</td>\n",
              "      <td>en</td>\n",
              "      <td>True</td>\n",
              "      <td>1</td>\n",
              "      <td>7</td>\n",
              "      <td>2020-03-24 13:06:18.588359+00</td>\n",
              "      <td>2020-10-26 19:20:58.259045+00</td>\n",
              "      <td>False</td>\n",
              "      <td>When you find the actual interview and it does...</td>\n",
              "      <td>en</td>\n",
              "      <td>3.0</td>\n",
              "    </tr>\n",
              "    <tr>\n",
              "      <th>3</th>\n",
              "      <td>43458</td>\n",
              "      <td>photo</td>\n",
              "      <td>43.0</td>\n",
              "      <td>2020-05-23 12:50:52+00</td>\n",
              "      <td>NaN</td>\n",
              "      <td>ru</td>\n",
              "      <td>False</td>\n",
              "      <td>8</td>\n",
              "      <td>12</td>\n",
              "      <td>2020-05-24 22:03:34.926116+00</td>\n",
              "      <td>2020-10-26 19:20:58.265179+00</td>\n",
              "      <td>False</td>\n",
              "      <td>Google сколько калорий в грамме урана а Все В ...</td>\n",
              "      <td>ww</td>\n",
              "      <td>2.0</td>\n",
              "    </tr>\n",
              "    <tr>\n",
              "      <th>4</th>\n",
              "      <td>9000</td>\n",
              "      <td>photo</td>\n",
              "      <td>76.0</td>\n",
              "      <td>2020-03-23 07:16:05+00</td>\n",
              "      <td>New treasure</td>\n",
              "      <td>und</td>\n",
              "      <td>True</td>\n",
              "      <td>2</td>\n",
              "      <td>9</td>\n",
              "      <td>2020-03-23 13:04:55.258554+00</td>\n",
              "      <td>2020-10-26 19:20:58.29742+00</td>\n",
              "      <td>False</td>\n",
              "      <td>YRO .20.</td>\n",
              "      <td>en</td>\n",
              "      <td>3.0</td>\n",
              "    </tr>\n",
              "  </tbody>\n",
              "</table>\n",
              "</div>"
            ],
            "text/plain": [
              "   meme_id meme_type  ...  caption_lang language_id\n",
              "0    28997     photo  ...            en         3.0\n",
              "1    10873     photo  ...            ww         2.0\n",
              "2     9874     photo  ...            en         3.0\n",
              "3    43458     photo  ...            ww         2.0\n",
              "4     9000     photo  ...            en         3.0\n",
              "\n",
              "[5 rows x 15 columns]"
            ]
          },
          "metadata": {
            "tags": []
          },
          "execution_count": 8
        }
      ]
    },
    {
      "cell_type": "code",
      "metadata": {
        "colab": {
          "base_uri": "https://localhost:8080/",
          "height": 197
        },
        "id": "ndKHSUtVbCyx",
        "outputId": "5221841e-7c8b-4989-af4c-e5d2f3c1315b"
      },
      "source": [
        "user.head()"
      ],
      "execution_count": 9,
      "outputs": [
        {
          "output_type": "execute_result",
          "data": {
            "text/html": [
              "<div>\n",
              "<style scoped>\n",
              "    .dataframe tbody tr th:only-of-type {\n",
              "        vertical-align: middle;\n",
              "    }\n",
              "\n",
              "    .dataframe tbody tr th {\n",
              "        vertical-align: top;\n",
              "    }\n",
              "\n",
              "    .dataframe thead th {\n",
              "        text-align: right;\n",
              "    }\n",
              "</style>\n",
              "<table border=\"1\" class=\"dataframe\">\n",
              "  <thead>\n",
              "    <tr style=\"text-align: right;\">\n",
              "      <th></th>\n",
              "      <th>user_id</th>\n",
              "      <th>deep_link</th>\n",
              "      <th>is_blocked_bot</th>\n",
              "      <th>is_banned</th>\n",
              "      <th>is_moderator</th>\n",
              "      <th>sessions</th>\n",
              "      <th>last_session_memes</th>\n",
              "      <th>watched_memes</th>\n",
              "      <th>created_at</th>\n",
              "      <th>updated_at</th>\n",
              "      <th>interface_lang</th>\n",
              "      <th>gender</th>\n",
              "    </tr>\n",
              "  </thead>\n",
              "  <tbody>\n",
              "    <tr>\n",
              "      <th>0</th>\n",
              "      <td>820326025</td>\n",
              "      <td>anime0ch_lang_ru</td>\n",
              "      <td>False</td>\n",
              "      <td>False</td>\n",
              "      <td>False</td>\n",
              "      <td>6</td>\n",
              "      <td>1</td>\n",
              "      <td>20</td>\n",
              "      <td>2020-09-12 20:07:11.668743+00</td>\n",
              "      <td>2020-10-26 12:16:18.458654+00</td>\n",
              "      <td>ru</td>\n",
              "      <td>M</td>\n",
              "    </tr>\n",
              "    <tr>\n",
              "      <th>1</th>\n",
              "      <td>1040875164</td>\n",
              "      <td>likemeupbot_lang_en</td>\n",
              "      <td>False</td>\n",
              "      <td>False</td>\n",
              "      <td>False</td>\n",
              "      <td>2</td>\n",
              "      <td>1</td>\n",
              "      <td>7</td>\n",
              "      <td>2020-07-21 05:54:12.671036+00</td>\n",
              "      <td>2020-10-26 14:37:05.637591+00</td>\n",
              "      <td>en</td>\n",
              "      <td>NaN</td>\n",
              "    </tr>\n",
              "    <tr>\n",
              "      <th>2</th>\n",
              "      <td>449432539</td>\n",
              "      <td>debil_ebaniy</td>\n",
              "      <td>True</td>\n",
              "      <td>False</td>\n",
              "      <td>False</td>\n",
              "      <td>2</td>\n",
              "      <td>1</td>\n",
              "      <td>9</td>\n",
              "      <td>2020-09-14 19:02:06.80911+00</td>\n",
              "      <td>2020-10-17 21:26:52.029824+00</td>\n",
              "      <td>ru</td>\n",
              "      <td>F</td>\n",
              "    </tr>\n",
              "    <tr>\n",
              "      <th>3</th>\n",
              "      <td>230248850</td>\n",
              "      <td>NaN</td>\n",
              "      <td>False</td>\n",
              "      <td>False</td>\n",
              "      <td>False</td>\n",
              "      <td>26</td>\n",
              "      <td>1</td>\n",
              "      <td>38</td>\n",
              "      <td>2020-03-16 00:36:42.252438+00</td>\n",
              "      <td>2020-10-26 12:11:02.159405+00</td>\n",
              "      <td>ru</td>\n",
              "      <td>M</td>\n",
              "    </tr>\n",
              "    <tr>\n",
              "      <th>4</th>\n",
              "      <td>7719424</td>\n",
              "      <td>NaN</td>\n",
              "      <td>True</td>\n",
              "      <td>False</td>\n",
              "      <td>False</td>\n",
              "      <td>27</td>\n",
              "      <td>6</td>\n",
              "      <td>49</td>\n",
              "      <td>2020-03-15 22:30:45.300242+00</td>\n",
              "      <td>2020-10-17 21:26:52.19941+00</td>\n",
              "      <td>ru</td>\n",
              "      <td>M</td>\n",
              "    </tr>\n",
              "  </tbody>\n",
              "</table>\n",
              "</div>"
            ],
            "text/plain": [
              "      user_id            deep_link  ...  interface_lang  gender\n",
              "0   820326025     anime0ch_lang_ru  ...              ru       M\n",
              "1  1040875164  likemeupbot_lang_en  ...              en     NaN\n",
              "2   449432539         debil_ebaniy  ...              ru       F\n",
              "3   230248850                  NaN  ...              ru       M\n",
              "4     7719424                  NaN  ...              ru       M\n",
              "\n",
              "[5 rows x 12 columns]"
            ]
          },
          "metadata": {
            "tags": []
          },
          "execution_count": 9
        }
      ]
    },
    {
      "cell_type": "code",
      "metadata": {
        "colab": {
          "base_uri": "https://localhost:8080/",
          "height": 197
        },
        "id": "hL3Xc3q_bCwK",
        "outputId": "87824e4b-8fff-41b2-c819-e86e06dabef8"
      },
      "source": [
        "event.head()"
      ],
      "execution_count": 10,
      "outputs": [
        {
          "output_type": "execute_result",
          "data": {
            "text/html": [
              "<div>\n",
              "<style scoped>\n",
              "    .dataframe tbody tr th:only-of-type {\n",
              "        vertical-align: middle;\n",
              "    }\n",
              "\n",
              "    .dataframe tbody tr th {\n",
              "        vertical-align: top;\n",
              "    }\n",
              "\n",
              "    .dataframe thead th {\n",
              "        text-align: right;\n",
              "    }\n",
              "</style>\n",
              "<table border=\"1\" class=\"dataframe\">\n",
              "  <thead>\n",
              "    <tr style=\"text-align: right;\">\n",
              "      <th></th>\n",
              "      <th>event_id</th>\n",
              "      <th>reaction_id</th>\n",
              "      <th>session_idx</th>\n",
              "      <th>meme_idx</th>\n",
              "      <th>created_at</th>\n",
              "      <th>updated_at</th>\n",
              "      <th>meme_id</th>\n",
              "      <th>user_id</th>\n",
              "    </tr>\n",
              "  </thead>\n",
              "  <tbody>\n",
              "    <tr>\n",
              "      <th>0</th>\n",
              "      <td>3607617</td>\n",
              "      <td>2.0</td>\n",
              "      <td>55</td>\n",
              "      <td>11</td>\n",
              "      <td>2020-10-24 19:45:50.964474+00</td>\n",
              "      <td>2020-10-24 19:45:51.049752+00</td>\n",
              "      <td>24379</td>\n",
              "      <td>280747086</td>\n",
              "    </tr>\n",
              "    <tr>\n",
              "      <th>1</th>\n",
              "      <td>3608100</td>\n",
              "      <td>1.0</td>\n",
              "      <td>280</td>\n",
              "      <td>45</td>\n",
              "      <td>2020-10-24 19:52:33.681933+00</td>\n",
              "      <td>2020-10-24 19:52:33.763993+00</td>\n",
              "      <td>49173</td>\n",
              "      <td>285739883</td>\n",
              "    </tr>\n",
              "    <tr>\n",
              "      <th>2</th>\n",
              "      <td>3607629</td>\n",
              "      <td>1.0</td>\n",
              "      <td>55</td>\n",
              "      <td>13</td>\n",
              "      <td>2020-10-24 19:46:08.690407+00</td>\n",
              "      <td>2020-10-24 19:46:08.779079+00</td>\n",
              "      <td>8340</td>\n",
              "      <td>280747086</td>\n",
              "    </tr>\n",
              "    <tr>\n",
              "      <th>3</th>\n",
              "      <td>3607649</td>\n",
              "      <td>NaN</td>\n",
              "      <td>30</td>\n",
              "      <td>2</td>\n",
              "      <td>2020-10-24 19:46:24.443014+00</td>\n",
              "      <td>2020-10-24 19:46:24.519787+00</td>\n",
              "      <td>64748</td>\n",
              "      <td>78991522</td>\n",
              "    </tr>\n",
              "    <tr>\n",
              "      <th>4</th>\n",
              "      <td>3608045</td>\n",
              "      <td>2.0</td>\n",
              "      <td>35</td>\n",
              "      <td>341</td>\n",
              "      <td>2020-10-24 19:51:28.544856+00</td>\n",
              "      <td>2020-10-24 19:51:28.586788+00</td>\n",
              "      <td>45163</td>\n",
              "      <td>860086058</td>\n",
              "    </tr>\n",
              "  </tbody>\n",
              "</table>\n",
              "</div>"
            ],
            "text/plain": [
              "   event_id  reaction_id  ...  meme_id    user_id\n",
              "0   3607617          2.0  ...    24379  280747086\n",
              "1   3608100          1.0  ...    49173  285739883\n",
              "2   3607629          1.0  ...     8340  280747086\n",
              "3   3607649          NaN  ...    64748   78991522\n",
              "4   3608045          2.0  ...    45163  860086058\n",
              "\n",
              "[5 rows x 8 columns]"
            ]
          },
          "metadata": {
            "tags": []
          },
          "execution_count": 10
        }
      ]
    },
    {
      "cell_type": "code",
      "metadata": {
        "id": "_vtxTPoebuHd"
      },
      "source": [
        "# Создать рекомендательную систему для каждого пользователя"
      ],
      "execution_count": 11,
      "outputs": []
    },
    {
      "cell_type": "markdown",
      "metadata": {
        "id": "Klr4Oz0XWlrN"
      },
      "source": [
        "## Создать рекомендательную систему для каждого пользователя"
      ]
    },
    {
      "cell_type": "code",
      "metadata": {
        "id": "v6bCqNj-buFM"
      },
      "source": [
        "#meme['is_broken'].value_counts()\r\n",
        "\r\n",
        "meme = meme[meme['is_broken'] == False]"
      ],
      "execution_count": 12,
      "outputs": []
    },
    {
      "cell_type": "code",
      "metadata": {
        "colab": {
          "base_uri": "https://localhost:8080/",
          "height": 573
        },
        "id": "qnRjg53pbuCt",
        "outputId": "37caa1ac-878b-4a48-f533-de97b4224094"
      },
      "source": [
        "meme"
      ],
      "execution_count": 13,
      "outputs": [
        {
          "output_type": "execute_result",
          "data": {
            "text/html": [
              "<div>\n",
              "<style scoped>\n",
              "    .dataframe tbody tr th:only-of-type {\n",
              "        vertical-align: middle;\n",
              "    }\n",
              "\n",
              "    .dataframe tbody tr th {\n",
              "        vertical-align: top;\n",
              "    }\n",
              "\n",
              "    .dataframe thead th {\n",
              "        text-align: right;\n",
              "    }\n",
              "</style>\n",
              "<table border=\"1\" class=\"dataframe\">\n",
              "  <thead>\n",
              "    <tr style=\"text-align: right;\">\n",
              "      <th></th>\n",
              "      <th>meme_id</th>\n",
              "      <th>meme_type</th>\n",
              "      <th>source_id</th>\n",
              "      <th>published_at</th>\n",
              "      <th>caption</th>\n",
              "      <th>content_lang</th>\n",
              "      <th>is_available</th>\n",
              "      <th>likes</th>\n",
              "      <th>dislikes</th>\n",
              "      <th>created_at</th>\n",
              "      <th>updated_at</th>\n",
              "      <th>is_broken</th>\n",
              "      <th>content_text</th>\n",
              "      <th>caption_lang</th>\n",
              "      <th>language_id</th>\n",
              "    </tr>\n",
              "  </thead>\n",
              "  <tbody>\n",
              "    <tr>\n",
              "      <th>0</th>\n",
              "      <td>28997</td>\n",
              "      <td>photo</td>\n",
              "      <td>79.0</td>\n",
              "      <td>2020-04-12 01:48:13+00</td>\n",
              "      <td>I mean shitt it ain't their fault</td>\n",
              "      <td>en</td>\n",
              "      <td>True</td>\n",
              "      <td>17</td>\n",
              "      <td>14</td>\n",
              "      <td>2020-04-12 09:04:37.341908+00</td>\n",
              "      <td>2020-10-26 19:20:58.198825+00</td>\n",
              "      <td>False</td>\n",
              "      <td>brandon @brndvx females live on recruit diffic...</td>\n",
              "      <td>en</td>\n",
              "      <td>3.0</td>\n",
              "    </tr>\n",
              "    <tr>\n",
              "      <th>1</th>\n",
              "      <td>10873</td>\n",
              "      <td>photo</td>\n",
              "      <td>43.0</td>\n",
              "      <td>2020-03-25 11:48:14+00</td>\n",
              "      <td>NaN</td>\n",
              "      <td>ru</td>\n",
              "      <td>True</td>\n",
              "      <td>79</td>\n",
              "      <td>74</td>\n",
              "      <td>2020-03-25 20:00:01.154096+00</td>\n",
              "      <td>2020-10-26 19:20:58.226846+00</td>\n",
              "      <td>False</td>\n",
              "      <td>Я не робот Докажите, что всякое односвязное Ит...</td>\n",
              "      <td>ww</td>\n",
              "      <td>2.0</td>\n",
              "    </tr>\n",
              "    <tr>\n",
              "      <th>2</th>\n",
              "      <td>9874</td>\n",
              "      <td>photo</td>\n",
              "      <td>78.0</td>\n",
              "      <td>2020-03-24 07:18:03+00</td>\n",
              "      <td>Anime toddies expert</td>\n",
              "      <td>en</td>\n",
              "      <td>True</td>\n",
              "      <td>1</td>\n",
              "      <td>7</td>\n",
              "      <td>2020-03-24 13:06:18.588359+00</td>\n",
              "      <td>2020-10-26 19:20:58.259045+00</td>\n",
              "      <td>False</td>\n",
              "      <td>When you find the actual interview and it does...</td>\n",
              "      <td>en</td>\n",
              "      <td>3.0</td>\n",
              "    </tr>\n",
              "    <tr>\n",
              "      <th>3</th>\n",
              "      <td>43458</td>\n",
              "      <td>photo</td>\n",
              "      <td>43.0</td>\n",
              "      <td>2020-05-23 12:50:52+00</td>\n",
              "      <td>NaN</td>\n",
              "      <td>ru</td>\n",
              "      <td>False</td>\n",
              "      <td>8</td>\n",
              "      <td>12</td>\n",
              "      <td>2020-05-24 22:03:34.926116+00</td>\n",
              "      <td>2020-10-26 19:20:58.265179+00</td>\n",
              "      <td>False</td>\n",
              "      <td>Google сколько калорий в грамме урана а Все В ...</td>\n",
              "      <td>ww</td>\n",
              "      <td>2.0</td>\n",
              "    </tr>\n",
              "    <tr>\n",
              "      <th>4</th>\n",
              "      <td>9000</td>\n",
              "      <td>photo</td>\n",
              "      <td>76.0</td>\n",
              "      <td>2020-03-23 07:16:05+00</td>\n",
              "      <td>New treasure</td>\n",
              "      <td>und</td>\n",
              "      <td>True</td>\n",
              "      <td>2</td>\n",
              "      <td>9</td>\n",
              "      <td>2020-03-23 13:04:55.258554+00</td>\n",
              "      <td>2020-10-26 19:20:58.29742+00</td>\n",
              "      <td>False</td>\n",
              "      <td>YRO .20.</td>\n",
              "      <td>en</td>\n",
              "      <td>3.0</td>\n",
              "    </tr>\n",
              "    <tr>\n",
              "      <th>...</th>\n",
              "      <td>...</td>\n",
              "      <td>...</td>\n",
              "      <td>...</td>\n",
              "      <td>...</td>\n",
              "      <td>...</td>\n",
              "      <td>...</td>\n",
              "      <td>...</td>\n",
              "      <td>...</td>\n",
              "      <td>...</td>\n",
              "      <td>...</td>\n",
              "      <td>...</td>\n",
              "      <td>...</td>\n",
              "      <td>...</td>\n",
              "      <td>...</td>\n",
              "      <td>...</td>\n",
              "    </tr>\n",
              "    <tr>\n",
              "      <th>61851</th>\n",
              "      <td>29440</td>\n",
              "      <td>photo</td>\n",
              "      <td>80.0</td>\n",
              "      <td>2020-04-12 16:52:08+00</td>\n",
              "      <td>She never needed makeup</td>\n",
              "      <td>en</td>\n",
              "      <td>True</td>\n",
              "      <td>2</td>\n",
              "      <td>8</td>\n",
              "      <td>2020-04-12 21:02:06.757845+00</td>\n",
              "      <td>2020-10-26 19:20:58.103871+00</td>\n",
              "      <td>False</td>\n",
              "      <td>When your girlfriend takes off her makeup but ...</td>\n",
              "      <td>en</td>\n",
              "      <td>3.0</td>\n",
              "    </tr>\n",
              "    <tr>\n",
              "      <th>61852</th>\n",
              "      <td>50912</td>\n",
              "      <td>photo</td>\n",
              "      <td>18.0</td>\n",
              "      <td>2020-07-18 17:00:07+00</td>\n",
              "      <td>NaN</td>\n",
              "      <td>ru</td>\n",
              "      <td>True</td>\n",
              "      <td>539</td>\n",
              "      <td>225</td>\n",
              "      <td>2020-07-19 06:14:42.821713+00</td>\n",
              "      <td>2020-10-26 19:20:58.113269+00</td>\n",
              "      <td>False</td>\n",
              "      <td>katevictoriax Парней нужно чаще ласкать. Клади...</td>\n",
              "      <td>ww</td>\n",
              "      <td>2.0</td>\n",
              "    </tr>\n",
              "    <tr>\n",
              "      <th>61853</th>\n",
              "      <td>22646</td>\n",
              "      <td>photo</td>\n",
              "      <td>2.0</td>\n",
              "      <td>2020-04-06 06:52:16+00</td>\n",
              "      <td>NaN</td>\n",
              "      <td>en</td>\n",
              "      <td>False</td>\n",
              "      <td>1</td>\n",
              "      <td>2</td>\n",
              "      <td>2020-04-06 08:00:00.352386+00</td>\n",
              "      <td>2020-10-26 19:20:58.143725+00</td>\n",
              "      <td>False</td>\n",
              "      <td>I COME TOTHEDARKSIDE WE HAVE RESPIRATOR MASKS</td>\n",
              "      <td>ww</td>\n",
              "      <td>3.0</td>\n",
              "    </tr>\n",
              "    <tr>\n",
              "      <th>61854</th>\n",
              "      <td>49822</td>\n",
              "      <td>photo</td>\n",
              "      <td>NaN</td>\n",
              "      <td>2020-07-10 12:08:55+00</td>\n",
              "      <td>NaN</td>\n",
              "      <td>ru</td>\n",
              "      <td>True</td>\n",
              "      <td>5</td>\n",
              "      <td>17</td>\n",
              "      <td>2020-07-10 18:15:20.413744+00</td>\n",
              "      <td>2020-10-26 19:20:58.148913+00</td>\n",
              "      <td>False</td>\n",
              "      <td>Шаг Не знаете, куда поехать? Едьте в центр! Ян...</td>\n",
              "      <td>ww</td>\n",
              "      <td>2.0</td>\n",
              "    </tr>\n",
              "    <tr>\n",
              "      <th>61855</th>\n",
              "      <td>21074</td>\n",
              "      <td>photo</td>\n",
              "      <td>79.0</td>\n",
              "      <td>2020-04-04 12:20:31+00</td>\n",
              "      <td>Damn straight! You can't stop the rock!</td>\n",
              "      <td>en</td>\n",
              "      <td>True</td>\n",
              "      <td>4</td>\n",
              "      <td>10</td>\n",
              "      <td>2020-04-04 17:04:08.832725+00</td>\n",
              "      <td>2020-10-26 19:20:58.158679+00</td>\n",
              "      <td>False</td>\n",
              "      <td>Pøgba Senior @TheSaltIsHere · 16h You just kno...</td>\n",
              "      <td>en</td>\n",
              "      <td>3.0</td>\n",
              "    </tr>\n",
              "  </tbody>\n",
              "</table>\n",
              "<p>61516 rows × 15 columns</p>\n",
              "</div>"
            ],
            "text/plain": [
              "       meme_id meme_type  ...  caption_lang language_id\n",
              "0        28997     photo  ...            en         3.0\n",
              "1        10873     photo  ...            ww         2.0\n",
              "2         9874     photo  ...            en         3.0\n",
              "3        43458     photo  ...            ww         2.0\n",
              "4         9000     photo  ...            en         3.0\n",
              "...        ...       ...  ...           ...         ...\n",
              "61851    29440     photo  ...            en         3.0\n",
              "61852    50912     photo  ...            ww         2.0\n",
              "61853    22646     photo  ...            ww         3.0\n",
              "61854    49822     photo  ...            ww         2.0\n",
              "61855    21074     photo  ...            en         3.0\n",
              "\n",
              "[61516 rows x 15 columns]"
            ]
          },
          "metadata": {
            "tags": []
          },
          "execution_count": 13
        }
      ]
    },
    {
      "cell_type": "code",
      "metadata": {
        "colab": {
          "base_uri": "https://localhost:8080/"
        },
        "id": "vAgGGXxFbuAB",
        "outputId": "e27ba7da-1374-41c6-e0ab-8a1b730a1e48"
      },
      "source": [
        "user['is_banned'].value_counts()"
      ],
      "execution_count": 14,
      "outputs": [
        {
          "output_type": "execute_result",
          "data": {
            "text/plain": [
              "False    19918\n",
              "Name: is_banned, dtype: int64"
            ]
          },
          "metadata": {
            "tags": []
          },
          "execution_count": 14
        }
      ]
    },
    {
      "cell_type": "code",
      "metadata": {
        "id": "VV3Wtbzhbt9b"
      },
      "source": [
        "# Проверить гипотезу: англ пользователи более активные чем русские\r\n",
        "# лайки\r\n",
        "# дизлайки\r\n",
        "# отношение L/D\r\n",
        "# Диаграмма (рус в среднем и eng в среднем)"
      ],
      "execution_count": 15,
      "outputs": []
    },
    {
      "cell_type": "code",
      "metadata": {
        "colab": {
          "base_uri": "https://localhost:8080/"
        },
        "id": "vlIngkyHdiGv",
        "outputId": "4de4f7a9-f028-48f2-b486-ad1c25e9cbac"
      },
      "source": [
        "user['interface_lang'].value_counts()"
      ],
      "execution_count": 16,
      "outputs": [
        {
          "output_type": "execute_result",
          "data": {
            "text/plain": [
              "ru    14156\n",
              "en     5714\n",
              "Name: interface_lang, dtype: int64"
            ]
          },
          "metadata": {
            "tags": []
          },
          "execution_count": 16
        }
      ]
    },
    {
      "cell_type": "code",
      "metadata": {
        "colab": {
          "base_uri": "https://localhost:8080/"
        },
        "id": "8souLvXUeiC3",
        "outputId": "943e627a-7407-4c85-fe4c-38445b09eb30"
      },
      "source": [
        "reactions = event.groupby('user_id').count()['event_id']\r\n",
        "reactions"
      ],
      "execution_count": 17,
      "outputs": [
        {
          "output_type": "execute_result",
          "data": {
            "text/plain": [
              "user_id\n",
              "1615           47\n",
              "3859          193\n",
              "12199           3\n",
              "13934           6\n",
              "14229          15\n",
              "             ... \n",
              "1399229617      1\n",
              "1399329801      1\n",
              "1399419434     11\n",
              "1399511615      2\n",
              "1399599499      9\n",
              "Name: event_id, Length: 19699, dtype: int64"
            ]
          },
          "metadata": {
            "tags": []
          },
          "execution_count": 17
        }
      ]
    },
    {
      "cell_type": "code",
      "metadata": {
        "colab": {
          "base_uri": "https://localhost:8080/"
        },
        "id": "jI8Qq9xJf-R0",
        "outputId": "1b5286e7-c0c3-444d-87e1-daebda142621"
      },
      "source": [
        "# 1 - лайк\r\n",
        "# 2 - дизлайк\r\n",
        "likes = event[event['reaction_id'] == 1].groupby('user_id').count()['event_id']\r\n",
        "#likes.rename(columns = {'event_id':'likes'})\r\n",
        "likes\r\n"
      ],
      "execution_count": 18,
      "outputs": [
        {
          "output_type": "execute_result",
          "data": {
            "text/plain": [
              "user_id\n",
              "1615           25\n",
              "3859          106\n",
              "13934           1\n",
              "14229           2\n",
              "16060          14\n",
              "             ... \n",
              "1398188580      5\n",
              "1398529159     12\n",
              "1398799657      6\n",
              "1399419434      6\n",
              "1399599499      8\n",
              "Name: event_id, Length: 16633, dtype: int64"
            ]
          },
          "metadata": {
            "tags": []
          },
          "execution_count": 18
        }
      ]
    },
    {
      "cell_type": "code",
      "metadata": {
        "colab": {
          "base_uri": "https://localhost:8080/"
        },
        "id": "J-En8pdweiAe",
        "outputId": "5aeb2d84-5e25-484b-82f4-398c1b967429"
      },
      "source": [
        "dislikes =  event[event['reaction_id'] == 2].groupby('user_id').count()['event_id']\r\n",
        "dislikes\r\n"
      ],
      "execution_count": 19,
      "outputs": [
        {
          "output_type": "execute_result",
          "data": {
            "text/plain": [
              "user_id\n",
              "1615           11\n",
              "3859           83\n",
              "14229          10\n",
              "16060         111\n",
              "20535          10\n",
              "             ... \n",
              "1397824939      2\n",
              "1397992921      5\n",
              "1397993276      3\n",
              "1398022998     14\n",
              "1398799657      1\n",
              "Name: event_id, Length: 15881, dtype: int64"
            ]
          },
          "metadata": {
            "tags": []
          },
          "execution_count": 19
        }
      ]
    },
    {
      "cell_type": "code",
      "metadata": {
        "id": "mjjkoZUSeh94"
      },
      "source": [
        "event_reactions = pd.DataFrame([likes.values,dislikes.values, reactions.values]).transpose()\r\n",
        "event_reactions.rename(columns = {0:'likes', 1:'dislikes', 2:'reactions'}, inplace = True)\r\n"
      ],
      "execution_count": 20,
      "outputs": []
    },
    {
      "cell_type": "code",
      "metadata": {
        "colab": {
          "base_uri": "https://localhost:8080/",
          "height": 436
        },
        "id": "oVpocRU_iqUN",
        "outputId": "205c9e40-bea2-4f79-bba3-27c3b8558892"
      },
      "source": [
        "event_reactions.index = reactions.index\r\n",
        "event_reactions"
      ],
      "execution_count": 21,
      "outputs": [
        {
          "output_type": "execute_result",
          "data": {
            "text/html": [
              "<div>\n",
              "<style scoped>\n",
              "    .dataframe tbody tr th:only-of-type {\n",
              "        vertical-align: middle;\n",
              "    }\n",
              "\n",
              "    .dataframe tbody tr th {\n",
              "        vertical-align: top;\n",
              "    }\n",
              "\n",
              "    .dataframe thead th {\n",
              "        text-align: right;\n",
              "    }\n",
              "</style>\n",
              "<table border=\"1\" class=\"dataframe\">\n",
              "  <thead>\n",
              "    <tr style=\"text-align: right;\">\n",
              "      <th></th>\n",
              "      <th>likes</th>\n",
              "      <th>dislikes</th>\n",
              "      <th>reactions</th>\n",
              "    </tr>\n",
              "    <tr>\n",
              "      <th>user_id</th>\n",
              "      <th></th>\n",
              "      <th></th>\n",
              "      <th></th>\n",
              "    </tr>\n",
              "  </thead>\n",
              "  <tbody>\n",
              "    <tr>\n",
              "      <th>1615</th>\n",
              "      <td>25.0</td>\n",
              "      <td>11.0</td>\n",
              "      <td>47.0</td>\n",
              "    </tr>\n",
              "    <tr>\n",
              "      <th>3859</th>\n",
              "      <td>106.0</td>\n",
              "      <td>83.0</td>\n",
              "      <td>193.0</td>\n",
              "    </tr>\n",
              "    <tr>\n",
              "      <th>12199</th>\n",
              "      <td>1.0</td>\n",
              "      <td>10.0</td>\n",
              "      <td>3.0</td>\n",
              "    </tr>\n",
              "    <tr>\n",
              "      <th>13934</th>\n",
              "      <td>2.0</td>\n",
              "      <td>111.0</td>\n",
              "      <td>6.0</td>\n",
              "    </tr>\n",
              "    <tr>\n",
              "      <th>14229</th>\n",
              "      <td>14.0</td>\n",
              "      <td>10.0</td>\n",
              "      <td>15.0</td>\n",
              "    </tr>\n",
              "    <tr>\n",
              "      <th>...</th>\n",
              "      <td>...</td>\n",
              "      <td>...</td>\n",
              "      <td>...</td>\n",
              "    </tr>\n",
              "    <tr>\n",
              "      <th>1399229617</th>\n",
              "      <td>NaN</td>\n",
              "      <td>NaN</td>\n",
              "      <td>1.0</td>\n",
              "    </tr>\n",
              "    <tr>\n",
              "      <th>1399329801</th>\n",
              "      <td>NaN</td>\n",
              "      <td>NaN</td>\n",
              "      <td>1.0</td>\n",
              "    </tr>\n",
              "    <tr>\n",
              "      <th>1399419434</th>\n",
              "      <td>NaN</td>\n",
              "      <td>NaN</td>\n",
              "      <td>11.0</td>\n",
              "    </tr>\n",
              "    <tr>\n",
              "      <th>1399511615</th>\n",
              "      <td>NaN</td>\n",
              "      <td>NaN</td>\n",
              "      <td>2.0</td>\n",
              "    </tr>\n",
              "    <tr>\n",
              "      <th>1399599499</th>\n",
              "      <td>NaN</td>\n",
              "      <td>NaN</td>\n",
              "      <td>9.0</td>\n",
              "    </tr>\n",
              "  </tbody>\n",
              "</table>\n",
              "<p>19699 rows × 3 columns</p>\n",
              "</div>"
            ],
            "text/plain": [
              "            likes  dislikes  reactions\n",
              "user_id                               \n",
              "1615         25.0      11.0       47.0\n",
              "3859        106.0      83.0      193.0\n",
              "12199         1.0      10.0        3.0\n",
              "13934         2.0     111.0        6.0\n",
              "14229        14.0      10.0       15.0\n",
              "...           ...       ...        ...\n",
              "1399229617    NaN       NaN        1.0\n",
              "1399329801    NaN       NaN        1.0\n",
              "1399419434    NaN       NaN       11.0\n",
              "1399511615    NaN       NaN        2.0\n",
              "1399599499    NaN       NaN        9.0\n",
              "\n",
              "[19699 rows x 3 columns]"
            ]
          },
          "metadata": {
            "tags": []
          },
          "execution_count": 21
        }
      ]
    },
    {
      "cell_type": "markdown",
      "metadata": {
        "id": "2xe92e9nXm2O"
      },
      "source": [
        "### Построить график для лайков"
      ]
    },
    {
      "cell_type": "code",
      "metadata": {
        "colab": {
          "base_uri": "https://localhost:8080/"
        },
        "id": "MsTMqHQbiqYw",
        "outputId": "18fd0625-c724-45cc-dfe3-20c284acf1df"
      },
      "source": [
        "likes_users_ids = likes.index\r\n",
        "likes_users_ids"
      ],
      "execution_count": 22,
      "outputs": [
        {
          "output_type": "execute_result",
          "data": {
            "text/plain": [
              "Int64Index([      1615,       3859,      13934,      14229,      16060,\n",
              "                 20535,      28327,      30767,      37459,      39129,\n",
              "            ...\n",
              "            1397540701, 1397824939, 1397992921, 1397993276, 1398022998,\n",
              "            1398188580, 1398529159, 1398799657, 1399419434, 1399599499],\n",
              "           dtype='int64', name='user_id', length=16633)"
            ]
          },
          "metadata": {
            "tags": []
          },
          "execution_count": 22
        }
      ]
    },
    {
      "cell_type": "code",
      "metadata": {
        "colab": {
          "base_uri": "https://localhost:8080/"
        },
        "id": "-EBo49TKlPaG",
        "outputId": "e9b625e9-77eb-488d-939d-c1790a9868fd"
      },
      "source": [
        "users_likes = user[user.user_id.isin(likes_users_ids)].set_index('user_id')['interface_lang'].copy()\r\n",
        "users_likes"
      ],
      "execution_count": 23,
      "outputs": [
        {
          "output_type": "execute_result",
          "data": {
            "text/plain": [
              "user_id\n",
              "820326025     ru\n",
              "1040875164    en\n",
              "449432539     ru\n",
              "1008072970    en\n",
              "8239465       ru\n",
              "              ..\n",
              "125474047     ru\n",
              "608727447     ru\n",
              "1254871249    ru\n",
              "184147840     ru\n",
              "761418142     ru\n",
              "Name: interface_lang, Length: 16633, dtype: object"
            ]
          },
          "metadata": {
            "tags": []
          },
          "execution_count": 23
        }
      ]
    },
    {
      "cell_type": "code",
      "metadata": {
        "colab": {
          "base_uri": "https://localhost:8080/",
          "height": 137
        },
        "id": "veglbolWlPYE",
        "outputId": "e06375b9-0bb9-44c3-f55d-210f94ee9c6a"
      },
      "source": [
        "detailed_likes =  pd.DataFrame([users_likes, likes]).transpose()\r\n",
        "grouped_det_likes = detailed_likes.groupby('interface_lang').count()\r\n",
        "grouped_det_likes"
      ],
      "execution_count": 24,
      "outputs": [
        {
          "output_type": "execute_result",
          "data": {
            "text/html": [
              "<div>\n",
              "<style scoped>\n",
              "    .dataframe tbody tr th:only-of-type {\n",
              "        vertical-align: middle;\n",
              "    }\n",
              "\n",
              "    .dataframe tbody tr th {\n",
              "        vertical-align: top;\n",
              "    }\n",
              "\n",
              "    .dataframe thead th {\n",
              "        text-align: right;\n",
              "    }\n",
              "</style>\n",
              "<table border=\"1\" class=\"dataframe\">\n",
              "  <thead>\n",
              "    <tr style=\"text-align: right;\">\n",
              "      <th></th>\n",
              "      <th>event_id</th>\n",
              "    </tr>\n",
              "    <tr>\n",
              "      <th>interface_lang</th>\n",
              "      <th></th>\n",
              "    </tr>\n",
              "  </thead>\n",
              "  <tbody>\n",
              "    <tr>\n",
              "      <th>en</th>\n",
              "      <td>4546</td>\n",
              "    </tr>\n",
              "    <tr>\n",
              "      <th>ru</th>\n",
              "      <td>12087</td>\n",
              "    </tr>\n",
              "  </tbody>\n",
              "</table>\n",
              "</div>"
            ],
            "text/plain": [
              "                event_id\n",
              "interface_lang          \n",
              "en                  4546\n",
              "ru                 12087"
            ]
          },
          "metadata": {
            "tags": []
          },
          "execution_count": 24
        }
      ]
    },
    {
      "cell_type": "code",
      "metadata": {
        "colab": {
          "base_uri": "https://localhost:8080/",
          "height": 542
        },
        "id": "8R3bd1wVlPVN",
        "outputId": "5bf0d883-1c1b-4c10-bccc-b8ec06e4e3b2"
      },
      "source": [
        "import plotly.express as px\r\n",
        "fig = px.bar(grouped_det_likes, x = grouped_det_likes.index, y = 'event_id')\r\n",
        "fig.show()"
      ],
      "execution_count": 25,
      "outputs": [
        {
          "output_type": "display_data",
          "data": {
            "text/html": [
              "<html>\n",
              "<head><meta charset=\"utf-8\" /></head>\n",
              "<body>\n",
              "    <div>\n",
              "            <script src=\"https://cdnjs.cloudflare.com/ajax/libs/mathjax/2.7.5/MathJax.js?config=TeX-AMS-MML_SVG\"></script><script type=\"text/javascript\">if (window.MathJax) {MathJax.Hub.Config({SVG: {font: \"STIX-Web\"}});}</script>\n",
              "                <script type=\"text/javascript\">window.PlotlyConfig = {MathJaxConfig: 'local'};</script>\n",
              "        <script src=\"https://cdn.plot.ly/plotly-latest.min.js\"></script>    \n",
              "            <div id=\"47a0f70a-bec5-4e13-840e-190cb28fc0f8\" class=\"plotly-graph-div\" style=\"height:525px; width:100%;\"></div>\n",
              "            <script type=\"text/javascript\">\n",
              "                \n",
              "                    window.PLOTLYENV=window.PLOTLYENV || {};\n",
              "                    \n",
              "                if (document.getElementById(\"47a0f70a-bec5-4e13-840e-190cb28fc0f8\")) {\n",
              "                    Plotly.newPlot(\n",
              "                        '47a0f70a-bec5-4e13-840e-190cb28fc0f8',\n",
              "                        [{\"alignmentgroup\": \"True\", \"hoverlabel\": {\"namelength\": 0}, \"hovertemplate\": \"x=%{x}<br>event_id=%{y}\", \"legendgroup\": \"\", \"marker\": {\"color\": \"#636efa\"}, \"name\": \"\", \"offsetgroup\": \"\", \"orientation\": \"v\", \"showlegend\": false, \"textposition\": \"auto\", \"type\": \"bar\", \"x\": [\"en\", \"ru\"], \"xaxis\": \"x\", \"y\": [4546, 12087], \"yaxis\": \"y\"}],\n",
              "                        {\"barmode\": \"relative\", \"legend\": {\"tracegroupgap\": 0}, \"margin\": {\"t\": 60}, \"template\": {\"data\": {\"bar\": [{\"error_x\": {\"color\": \"#2a3f5f\"}, \"error_y\": {\"color\": \"#2a3f5f\"}, \"marker\": {\"line\": {\"color\": \"#E5ECF6\", \"width\": 0.5}}, \"type\": \"bar\"}], \"barpolar\": [{\"marker\": {\"line\": {\"color\": \"#E5ECF6\", \"width\": 0.5}}, \"type\": \"barpolar\"}], \"carpet\": [{\"aaxis\": {\"endlinecolor\": \"#2a3f5f\", \"gridcolor\": \"white\", \"linecolor\": \"white\", \"minorgridcolor\": \"white\", \"startlinecolor\": \"#2a3f5f\"}, \"baxis\": {\"endlinecolor\": \"#2a3f5f\", \"gridcolor\": \"white\", \"linecolor\": \"white\", \"minorgridcolor\": \"white\", \"startlinecolor\": \"#2a3f5f\"}, \"type\": \"carpet\"}], \"choropleth\": [{\"colorbar\": {\"outlinewidth\": 0, \"ticks\": \"\"}, \"type\": \"choropleth\"}], \"contour\": [{\"colorbar\": {\"outlinewidth\": 0, \"ticks\": \"\"}, \"colorscale\": [[0.0, \"#0d0887\"], [0.1111111111111111, \"#46039f\"], [0.2222222222222222, \"#7201a8\"], [0.3333333333333333, \"#9c179e\"], [0.4444444444444444, \"#bd3786\"], [0.5555555555555556, \"#d8576b\"], [0.6666666666666666, \"#ed7953\"], [0.7777777777777778, \"#fb9f3a\"], [0.8888888888888888, \"#fdca26\"], [1.0, \"#f0f921\"]], \"type\": \"contour\"}], \"contourcarpet\": [{\"colorbar\": {\"outlinewidth\": 0, \"ticks\": \"\"}, \"type\": \"contourcarpet\"}], \"heatmap\": [{\"colorbar\": {\"outlinewidth\": 0, \"ticks\": \"\"}, \"colorscale\": [[0.0, \"#0d0887\"], [0.1111111111111111, \"#46039f\"], [0.2222222222222222, \"#7201a8\"], [0.3333333333333333, \"#9c179e\"], [0.4444444444444444, \"#bd3786\"], [0.5555555555555556, \"#d8576b\"], [0.6666666666666666, \"#ed7953\"], [0.7777777777777778, \"#fb9f3a\"], [0.8888888888888888, \"#fdca26\"], [1.0, \"#f0f921\"]], \"type\": \"heatmap\"}], \"heatmapgl\": [{\"colorbar\": {\"outlinewidth\": 0, \"ticks\": \"\"}, \"colorscale\": [[0.0, \"#0d0887\"], [0.1111111111111111, \"#46039f\"], [0.2222222222222222, \"#7201a8\"], [0.3333333333333333, \"#9c179e\"], [0.4444444444444444, \"#bd3786\"], [0.5555555555555556, \"#d8576b\"], [0.6666666666666666, \"#ed7953\"], [0.7777777777777778, \"#fb9f3a\"], [0.8888888888888888, \"#fdca26\"], [1.0, \"#f0f921\"]], \"type\": \"heatmapgl\"}], \"histogram\": [{\"marker\": {\"colorbar\": {\"outlinewidth\": 0, \"ticks\": \"\"}}, \"type\": \"histogram\"}], \"histogram2d\": [{\"colorbar\": {\"outlinewidth\": 0, \"ticks\": \"\"}, \"colorscale\": [[0.0, \"#0d0887\"], [0.1111111111111111, \"#46039f\"], [0.2222222222222222, \"#7201a8\"], [0.3333333333333333, \"#9c179e\"], [0.4444444444444444, \"#bd3786\"], [0.5555555555555556, \"#d8576b\"], [0.6666666666666666, \"#ed7953\"], [0.7777777777777778, \"#fb9f3a\"], [0.8888888888888888, \"#fdca26\"], [1.0, \"#f0f921\"]], \"type\": \"histogram2d\"}], \"histogram2dcontour\": [{\"colorbar\": {\"outlinewidth\": 0, \"ticks\": \"\"}, \"colorscale\": [[0.0, \"#0d0887\"], [0.1111111111111111, \"#46039f\"], [0.2222222222222222, \"#7201a8\"], [0.3333333333333333, \"#9c179e\"], [0.4444444444444444, \"#bd3786\"], [0.5555555555555556, \"#d8576b\"], [0.6666666666666666, \"#ed7953\"], [0.7777777777777778, \"#fb9f3a\"], [0.8888888888888888, \"#fdca26\"], [1.0, \"#f0f921\"]], \"type\": \"histogram2dcontour\"}], \"mesh3d\": [{\"colorbar\": {\"outlinewidth\": 0, \"ticks\": \"\"}, \"type\": \"mesh3d\"}], \"parcoords\": [{\"line\": {\"colorbar\": {\"outlinewidth\": 0, \"ticks\": \"\"}}, \"type\": \"parcoords\"}], \"pie\": [{\"automargin\": true, \"type\": \"pie\"}], \"scatter\": [{\"marker\": {\"colorbar\": {\"outlinewidth\": 0, \"ticks\": \"\"}}, \"type\": \"scatter\"}], \"scatter3d\": [{\"line\": {\"colorbar\": {\"outlinewidth\": 0, \"ticks\": \"\"}}, \"marker\": {\"colorbar\": {\"outlinewidth\": 0, \"ticks\": \"\"}}, \"type\": \"scatter3d\"}], \"scattercarpet\": [{\"marker\": {\"colorbar\": {\"outlinewidth\": 0, \"ticks\": \"\"}}, \"type\": \"scattercarpet\"}], \"scattergeo\": [{\"marker\": {\"colorbar\": {\"outlinewidth\": 0, \"ticks\": \"\"}}, \"type\": \"scattergeo\"}], \"scattergl\": [{\"marker\": {\"colorbar\": {\"outlinewidth\": 0, \"ticks\": \"\"}}, \"type\": \"scattergl\"}], \"scattermapbox\": [{\"marker\": {\"colorbar\": {\"outlinewidth\": 0, \"ticks\": \"\"}}, \"type\": \"scattermapbox\"}], \"scatterpolar\": [{\"marker\": {\"colorbar\": {\"outlinewidth\": 0, \"ticks\": \"\"}}, \"type\": \"scatterpolar\"}], \"scatterpolargl\": [{\"marker\": {\"colorbar\": {\"outlinewidth\": 0, \"ticks\": \"\"}}, \"type\": \"scatterpolargl\"}], \"scatterternary\": [{\"marker\": {\"colorbar\": {\"outlinewidth\": 0, \"ticks\": \"\"}}, \"type\": \"scatterternary\"}], \"surface\": [{\"colorbar\": {\"outlinewidth\": 0, \"ticks\": \"\"}, \"colorscale\": [[0.0, \"#0d0887\"], [0.1111111111111111, \"#46039f\"], [0.2222222222222222, \"#7201a8\"], [0.3333333333333333, \"#9c179e\"], [0.4444444444444444, \"#bd3786\"], [0.5555555555555556, \"#d8576b\"], [0.6666666666666666, \"#ed7953\"], [0.7777777777777778, \"#fb9f3a\"], [0.8888888888888888, \"#fdca26\"], [1.0, \"#f0f921\"]], \"type\": \"surface\"}], \"table\": [{\"cells\": {\"fill\": {\"color\": \"#EBF0F8\"}, \"line\": {\"color\": \"white\"}}, \"header\": {\"fill\": {\"color\": \"#C8D4E3\"}, \"line\": {\"color\": \"white\"}}, \"type\": \"table\"}]}, \"layout\": {\"annotationdefaults\": {\"arrowcolor\": \"#2a3f5f\", \"arrowhead\": 0, \"arrowwidth\": 1}, \"coloraxis\": {\"colorbar\": {\"outlinewidth\": 0, \"ticks\": \"\"}}, \"colorscale\": {\"diverging\": [[0, \"#8e0152\"], [0.1, \"#c51b7d\"], [0.2, \"#de77ae\"], [0.3, \"#f1b6da\"], [0.4, \"#fde0ef\"], [0.5, \"#f7f7f7\"], [0.6, \"#e6f5d0\"], [0.7, \"#b8e186\"], [0.8, \"#7fbc41\"], [0.9, \"#4d9221\"], [1, \"#276419\"]], \"sequential\": [[0.0, \"#0d0887\"], [0.1111111111111111, \"#46039f\"], [0.2222222222222222, \"#7201a8\"], [0.3333333333333333, \"#9c179e\"], [0.4444444444444444, \"#bd3786\"], [0.5555555555555556, \"#d8576b\"], [0.6666666666666666, \"#ed7953\"], [0.7777777777777778, \"#fb9f3a\"], [0.8888888888888888, \"#fdca26\"], [1.0, \"#f0f921\"]], \"sequentialminus\": [[0.0, \"#0d0887\"], [0.1111111111111111, \"#46039f\"], [0.2222222222222222, \"#7201a8\"], [0.3333333333333333, \"#9c179e\"], [0.4444444444444444, \"#bd3786\"], [0.5555555555555556, \"#d8576b\"], [0.6666666666666666, \"#ed7953\"], [0.7777777777777778, \"#fb9f3a\"], [0.8888888888888888, \"#fdca26\"], [1.0, \"#f0f921\"]]}, \"colorway\": [\"#636efa\", \"#EF553B\", \"#00cc96\", \"#ab63fa\", \"#FFA15A\", \"#19d3f3\", \"#FF6692\", \"#B6E880\", \"#FF97FF\", \"#FECB52\"], \"font\": {\"color\": \"#2a3f5f\"}, \"geo\": {\"bgcolor\": \"white\", \"lakecolor\": \"white\", \"landcolor\": \"#E5ECF6\", \"showlakes\": true, \"showland\": true, \"subunitcolor\": \"white\"}, \"hoverlabel\": {\"align\": \"left\"}, \"hovermode\": \"closest\", \"mapbox\": {\"style\": \"light\"}, \"paper_bgcolor\": \"white\", \"plot_bgcolor\": \"#E5ECF6\", \"polar\": {\"angularaxis\": {\"gridcolor\": \"white\", \"linecolor\": \"white\", \"ticks\": \"\"}, \"bgcolor\": \"#E5ECF6\", \"radialaxis\": {\"gridcolor\": \"white\", \"linecolor\": \"white\", \"ticks\": \"\"}}, \"scene\": {\"xaxis\": {\"backgroundcolor\": \"#E5ECF6\", \"gridcolor\": \"white\", \"gridwidth\": 2, \"linecolor\": \"white\", \"showbackground\": true, \"ticks\": \"\", \"zerolinecolor\": \"white\"}, \"yaxis\": {\"backgroundcolor\": \"#E5ECF6\", \"gridcolor\": \"white\", \"gridwidth\": 2, \"linecolor\": \"white\", \"showbackground\": true, \"ticks\": \"\", \"zerolinecolor\": \"white\"}, \"zaxis\": {\"backgroundcolor\": \"#E5ECF6\", \"gridcolor\": \"white\", \"gridwidth\": 2, \"linecolor\": \"white\", \"showbackground\": true, \"ticks\": \"\", \"zerolinecolor\": \"white\"}}, \"shapedefaults\": {\"line\": {\"color\": \"#2a3f5f\"}}, \"ternary\": {\"aaxis\": {\"gridcolor\": \"white\", \"linecolor\": \"white\", \"ticks\": \"\"}, \"baxis\": {\"gridcolor\": \"white\", \"linecolor\": \"white\", \"ticks\": \"\"}, \"bgcolor\": \"#E5ECF6\", \"caxis\": {\"gridcolor\": \"white\", \"linecolor\": \"white\", \"ticks\": \"\"}}, \"title\": {\"x\": 0.05}, \"xaxis\": {\"automargin\": true, \"gridcolor\": \"white\", \"linecolor\": \"white\", \"ticks\": \"\", \"title\": {\"standoff\": 15}, \"zerolinecolor\": \"white\", \"zerolinewidth\": 2}, \"yaxis\": {\"automargin\": true, \"gridcolor\": \"white\", \"linecolor\": \"white\", \"ticks\": \"\", \"title\": {\"standoff\": 15}, \"zerolinecolor\": \"white\", \"zerolinewidth\": 2}}}, \"xaxis\": {\"anchor\": \"y\", \"domain\": [0.0, 1.0], \"title\": {\"text\": \"x\"}}, \"yaxis\": {\"anchor\": \"x\", \"domain\": [0.0, 1.0], \"title\": {\"text\": \"event_id\"}}},\n",
              "                        {\"responsive\": true}\n",
              "                    ).then(function(){\n",
              "                            \n",
              "var gd = document.getElementById('47a0f70a-bec5-4e13-840e-190cb28fc0f8');\n",
              "var x = new MutationObserver(function (mutations, observer) {{\n",
              "        var display = window.getComputedStyle(gd).display;\n",
              "        if (!display || display === 'none') {{\n",
              "            console.log([gd, 'removed!']);\n",
              "            Plotly.purge(gd);\n",
              "            observer.disconnect();\n",
              "        }}\n",
              "}});\n",
              "\n",
              "// Listen for the removal of the full notebook cells\n",
              "var notebookContainer = gd.closest('#notebook-container');\n",
              "if (notebookContainer) {{\n",
              "    x.observe(notebookContainer, {childList: true});\n",
              "}}\n",
              "\n",
              "// Listen for the clearing of the current output cell\n",
              "var outputEl = gd.closest('.output');\n",
              "if (outputEl) {{\n",
              "    x.observe(outputEl, {childList: true});\n",
              "}}\n",
              "\n",
              "                        })\n",
              "                };\n",
              "                \n",
              "            </script>\n",
              "        </div>\n",
              "</body>\n",
              "</html>"
            ]
          },
          "metadata": {
            "tags": []
          }
        }
      ]
    },
    {
      "cell_type": "markdown",
      "metadata": {
        "id": "3oO2w4JqWhcT"
      },
      "source": [
        "### Для каждого source соотношение лайков дизлайков"
      ]
    },
    {
      "cell_type": "code",
      "metadata": {
        "colab": {
          "base_uri": "https://localhost:8080/",
          "height": 436
        },
        "id": "r7VvUxDpncSE",
        "outputId": "0c2ba404-698e-4a3e-9dbc-f6babc5fd169"
      },
      "source": [
        "memes_grouped = meme[['source_id', 'likes', 'dislikes']]\r\n",
        "memes_grouped_sum = memes_grouped.groupby('source_id').sum()\r\n",
        "memes_grouped_sum['l\\\\d'] = memes_grouped_sum['likes'] / memes_grouped_sum['dislikes']\r\n",
        "memes_grouped_sum"
      ],
      "execution_count": 26,
      "outputs": [
        {
          "output_type": "execute_result",
          "data": {
            "text/html": [
              "<div>\n",
              "<style scoped>\n",
              "    .dataframe tbody tr th:only-of-type {\n",
              "        vertical-align: middle;\n",
              "    }\n",
              "\n",
              "    .dataframe tbody tr th {\n",
              "        vertical-align: top;\n",
              "    }\n",
              "\n",
              "    .dataframe thead th {\n",
              "        text-align: right;\n",
              "    }\n",
              "</style>\n",
              "<table border=\"1\" class=\"dataframe\">\n",
              "  <thead>\n",
              "    <tr style=\"text-align: right;\">\n",
              "      <th></th>\n",
              "      <th>likes</th>\n",
              "      <th>dislikes</th>\n",
              "      <th>l\\d</th>\n",
              "    </tr>\n",
              "    <tr>\n",
              "      <th>source_id</th>\n",
              "      <th></th>\n",
              "      <th></th>\n",
              "      <th></th>\n",
              "    </tr>\n",
              "  </thead>\n",
              "  <tbody>\n",
              "    <tr>\n",
              "      <th>1.0</th>\n",
              "      <td>141</td>\n",
              "      <td>447</td>\n",
              "      <td>0.315436</td>\n",
              "    </tr>\n",
              "    <tr>\n",
              "      <th>2.0</th>\n",
              "      <td>8753</td>\n",
              "      <td>11876</td>\n",
              "      <td>0.737033</td>\n",
              "    </tr>\n",
              "    <tr>\n",
              "      <th>3.0</th>\n",
              "      <td>17852</td>\n",
              "      <td>19303</td>\n",
              "      <td>0.924830</td>\n",
              "    </tr>\n",
              "    <tr>\n",
              "      <th>4.0</th>\n",
              "      <td>17265</td>\n",
              "      <td>27841</td>\n",
              "      <td>0.620129</td>\n",
              "    </tr>\n",
              "    <tr>\n",
              "      <th>5.0</th>\n",
              "      <td>11334</td>\n",
              "      <td>15323</td>\n",
              "      <td>0.739672</td>\n",
              "    </tr>\n",
              "    <tr>\n",
              "      <th>...</th>\n",
              "      <td>...</td>\n",
              "      <td>...</td>\n",
              "      <td>...</td>\n",
              "    </tr>\n",
              "    <tr>\n",
              "      <th>155.0</th>\n",
              "      <td>172</td>\n",
              "      <td>463</td>\n",
              "      <td>0.371490</td>\n",
              "    </tr>\n",
              "    <tr>\n",
              "      <th>156.0</th>\n",
              "      <td>741</td>\n",
              "      <td>1331</td>\n",
              "      <td>0.556724</td>\n",
              "    </tr>\n",
              "    <tr>\n",
              "      <th>157.0</th>\n",
              "      <td>823</td>\n",
              "      <td>1532</td>\n",
              "      <td>0.537206</td>\n",
              "    </tr>\n",
              "    <tr>\n",
              "      <th>158.0</th>\n",
              "      <td>387</td>\n",
              "      <td>592</td>\n",
              "      <td>0.653716</td>\n",
              "    </tr>\n",
              "    <tr>\n",
              "      <th>159.0</th>\n",
              "      <td>24</td>\n",
              "      <td>110</td>\n",
              "      <td>0.218182</td>\n",
              "    </tr>\n",
              "  </tbody>\n",
              "</table>\n",
              "<p>142 rows × 3 columns</p>\n",
              "</div>"
            ],
            "text/plain": [
              "           likes  dislikes       l\\d\n",
              "source_id                           \n",
              "1.0          141       447  0.315436\n",
              "2.0         8753     11876  0.737033\n",
              "3.0        17852     19303  0.924830\n",
              "4.0        17265     27841  0.620129\n",
              "5.0        11334     15323  0.739672\n",
              "...          ...       ...       ...\n",
              "155.0        172       463  0.371490\n",
              "156.0        741      1331  0.556724\n",
              "157.0        823      1532  0.537206\n",
              "158.0        387       592  0.653716\n",
              "159.0         24       110  0.218182\n",
              "\n",
              "[142 rows x 3 columns]"
            ]
          },
          "metadata": {
            "tags": []
          },
          "execution_count": 26
        }
      ]
    },
    {
      "cell_type": "markdown",
      "metadata": {
        "id": "-lZlpLucWfhI"
      },
      "source": [
        "### Проделать ту же работу для дизлайков и всех реакций"
      ]
    },
    {
      "cell_type": "markdown",
      "metadata": {
        "id": "woYd5nCiZaVb"
      },
      "source": [
        "#### Дизлайки"
      ]
    },
    {
      "cell_type": "code",
      "metadata": {
        "colab": {
          "base_uri": "https://localhost:8080/"
        },
        "id": "Csh6DKGBWx-x",
        "outputId": "387cf7e7-72d1-4936-dcf6-9d5dd68e6184"
      },
      "source": [
        "dislikes_users_ids = dislikes.index\r\n",
        "dislikes_users_ids"
      ],
      "execution_count": 27,
      "outputs": [
        {
          "output_type": "execute_result",
          "data": {
            "text/plain": [
              "Int64Index([      1615,       3859,      14229,      16060,      20535,\n",
              "                 28327,      30767,      37459,      45215,      45795,\n",
              "            ...\n",
              "            1396154939, 1396196160, 1397068897, 1397208607, 1397490541,\n",
              "            1397824939, 1397992921, 1397993276, 1398022998, 1398799657],\n",
              "           dtype='int64', name='user_id', length=15881)"
            ]
          },
          "metadata": {
            "tags": []
          },
          "execution_count": 27
        }
      ]
    },
    {
      "cell_type": "code",
      "metadata": {
        "colab": {
          "base_uri": "https://localhost:8080/"
        },
        "id": "w0o-bzwTWx55",
        "outputId": "33bd3938-be9a-4ed1-938a-f3d3eb212cae"
      },
      "source": [
        "users_dislikes = user[user.user_id.isin(dislikes_users_ids)].set_index('user_id')['interface_lang'].copy()\r\n",
        "users_dislikes"
      ],
      "execution_count": 28,
      "outputs": [
        {
          "output_type": "execute_result",
          "data": {
            "text/plain": [
              "user_id\n",
              "820326025     ru\n",
              "1040875164    en\n",
              "7719424       ru\n",
              "8239465       ru\n",
              "379260363     ru\n",
              "              ..\n",
              "125474047     ru\n",
              "608727447     ru\n",
              "1254871249    ru\n",
              "184147840     ru\n",
              "761418142     ru\n",
              "Name: interface_lang, Length: 15881, dtype: object"
            ]
          },
          "metadata": {
            "tags": []
          },
          "execution_count": 28
        }
      ]
    },
    {
      "cell_type": "code",
      "metadata": {
        "colab": {
          "base_uri": "https://localhost:8080/",
          "height": 137
        },
        "id": "zVUmhGXCWx1V",
        "outputId": "6f813d7d-8d33-4a85-d90c-67253ccfc099"
      },
      "source": [
        "detailed_dislikes =  pd.DataFrame([users_dislikes, dislikes]).transpose()\r\n",
        "grouped_det_dislikes = detailed_dislikes.groupby('interface_lang').count()\r\n",
        "grouped_det_dislikes"
      ],
      "execution_count": 29,
      "outputs": [
        {
          "output_type": "execute_result",
          "data": {
            "text/html": [
              "<div>\n",
              "<style scoped>\n",
              "    .dataframe tbody tr th:only-of-type {\n",
              "        vertical-align: middle;\n",
              "    }\n",
              "\n",
              "    .dataframe tbody tr th {\n",
              "        vertical-align: top;\n",
              "    }\n",
              "\n",
              "    .dataframe thead th {\n",
              "        text-align: right;\n",
              "    }\n",
              "</style>\n",
              "<table border=\"1\" class=\"dataframe\">\n",
              "  <thead>\n",
              "    <tr style=\"text-align: right;\">\n",
              "      <th></th>\n",
              "      <th>event_id</th>\n",
              "    </tr>\n",
              "    <tr>\n",
              "      <th>interface_lang</th>\n",
              "      <th></th>\n",
              "    </tr>\n",
              "  </thead>\n",
              "  <tbody>\n",
              "    <tr>\n",
              "      <th>en</th>\n",
              "      <td>3532</td>\n",
              "    </tr>\n",
              "    <tr>\n",
              "      <th>ru</th>\n",
              "      <td>12349</td>\n",
              "    </tr>\n",
              "  </tbody>\n",
              "</table>\n",
              "</div>"
            ],
            "text/plain": [
              "                event_id\n",
              "interface_lang          \n",
              "en                  3532\n",
              "ru                 12349"
            ]
          },
          "metadata": {
            "tags": []
          },
          "execution_count": 29
        }
      ]
    },
    {
      "cell_type": "code",
      "metadata": {
        "colab": {
          "base_uri": "https://localhost:8080/",
          "height": 542
        },
        "id": "FcBAGrBFXXr3",
        "outputId": "f3ebf6e5-e0a1-4850-e865-83c82c7ed972"
      },
      "source": [
        "fig = px.bar(grouped_det_dislikes, x = grouped_det_dislikes.index, y = 'event_id')\r\n",
        "fig.show()"
      ],
      "execution_count": 30,
      "outputs": [
        {
          "output_type": "display_data",
          "data": {
            "text/html": [
              "<html>\n",
              "<head><meta charset=\"utf-8\" /></head>\n",
              "<body>\n",
              "    <div>\n",
              "            <script src=\"https://cdnjs.cloudflare.com/ajax/libs/mathjax/2.7.5/MathJax.js?config=TeX-AMS-MML_SVG\"></script><script type=\"text/javascript\">if (window.MathJax) {MathJax.Hub.Config({SVG: {font: \"STIX-Web\"}});}</script>\n",
              "                <script type=\"text/javascript\">window.PlotlyConfig = {MathJaxConfig: 'local'};</script>\n",
              "        <script src=\"https://cdn.plot.ly/plotly-latest.min.js\"></script>    \n",
              "            <div id=\"f8b151a3-5ce4-48f0-a429-28c9cf17df61\" class=\"plotly-graph-div\" style=\"height:525px; width:100%;\"></div>\n",
              "            <script type=\"text/javascript\">\n",
              "                \n",
              "                    window.PLOTLYENV=window.PLOTLYENV || {};\n",
              "                    \n",
              "                if (document.getElementById(\"f8b151a3-5ce4-48f0-a429-28c9cf17df61\")) {\n",
              "                    Plotly.newPlot(\n",
              "                        'f8b151a3-5ce4-48f0-a429-28c9cf17df61',\n",
              "                        [{\"alignmentgroup\": \"True\", \"hoverlabel\": {\"namelength\": 0}, \"hovertemplate\": \"x=%{x}<br>event_id=%{y}\", \"legendgroup\": \"\", \"marker\": {\"color\": \"#636efa\"}, \"name\": \"\", \"offsetgroup\": \"\", \"orientation\": \"v\", \"showlegend\": false, \"textposition\": \"auto\", \"type\": \"bar\", \"x\": [\"en\", \"ru\"], \"xaxis\": \"x\", \"y\": [3532, 12349], \"yaxis\": \"y\"}],\n",
              "                        {\"barmode\": \"relative\", \"legend\": {\"tracegroupgap\": 0}, \"margin\": {\"t\": 60}, \"template\": {\"data\": {\"bar\": [{\"error_x\": {\"color\": \"#2a3f5f\"}, \"error_y\": {\"color\": \"#2a3f5f\"}, \"marker\": {\"line\": {\"color\": \"#E5ECF6\", \"width\": 0.5}}, \"type\": \"bar\"}], \"barpolar\": [{\"marker\": {\"line\": {\"color\": \"#E5ECF6\", \"width\": 0.5}}, \"type\": \"barpolar\"}], \"carpet\": [{\"aaxis\": {\"endlinecolor\": \"#2a3f5f\", \"gridcolor\": \"white\", \"linecolor\": \"white\", \"minorgridcolor\": \"white\", \"startlinecolor\": \"#2a3f5f\"}, \"baxis\": {\"endlinecolor\": \"#2a3f5f\", \"gridcolor\": \"white\", \"linecolor\": \"white\", \"minorgridcolor\": \"white\", \"startlinecolor\": \"#2a3f5f\"}, \"type\": \"carpet\"}], \"choropleth\": [{\"colorbar\": {\"outlinewidth\": 0, \"ticks\": \"\"}, \"type\": \"choropleth\"}], \"contour\": [{\"colorbar\": {\"outlinewidth\": 0, \"ticks\": \"\"}, \"colorscale\": [[0.0, \"#0d0887\"], [0.1111111111111111, \"#46039f\"], [0.2222222222222222, \"#7201a8\"], [0.3333333333333333, \"#9c179e\"], [0.4444444444444444, \"#bd3786\"], [0.5555555555555556, \"#d8576b\"], [0.6666666666666666, \"#ed7953\"], [0.7777777777777778, \"#fb9f3a\"], [0.8888888888888888, \"#fdca26\"], [1.0, \"#f0f921\"]], \"type\": \"contour\"}], \"contourcarpet\": [{\"colorbar\": {\"outlinewidth\": 0, \"ticks\": \"\"}, \"type\": \"contourcarpet\"}], \"heatmap\": [{\"colorbar\": {\"outlinewidth\": 0, \"ticks\": \"\"}, \"colorscale\": [[0.0, \"#0d0887\"], [0.1111111111111111, \"#46039f\"], [0.2222222222222222, \"#7201a8\"], [0.3333333333333333, \"#9c179e\"], [0.4444444444444444, \"#bd3786\"], [0.5555555555555556, \"#d8576b\"], [0.6666666666666666, \"#ed7953\"], [0.7777777777777778, \"#fb9f3a\"], [0.8888888888888888, \"#fdca26\"], [1.0, \"#f0f921\"]], \"type\": \"heatmap\"}], \"heatmapgl\": [{\"colorbar\": {\"outlinewidth\": 0, \"ticks\": \"\"}, \"colorscale\": [[0.0, \"#0d0887\"], [0.1111111111111111, \"#46039f\"], [0.2222222222222222, \"#7201a8\"], [0.3333333333333333, \"#9c179e\"], [0.4444444444444444, \"#bd3786\"], [0.5555555555555556, \"#d8576b\"], [0.6666666666666666, \"#ed7953\"], [0.7777777777777778, \"#fb9f3a\"], [0.8888888888888888, \"#fdca26\"], [1.0, \"#f0f921\"]], \"type\": \"heatmapgl\"}], \"histogram\": [{\"marker\": {\"colorbar\": {\"outlinewidth\": 0, \"ticks\": \"\"}}, \"type\": \"histogram\"}], \"histogram2d\": [{\"colorbar\": {\"outlinewidth\": 0, \"ticks\": \"\"}, \"colorscale\": [[0.0, \"#0d0887\"], [0.1111111111111111, \"#46039f\"], [0.2222222222222222, \"#7201a8\"], [0.3333333333333333, \"#9c179e\"], [0.4444444444444444, \"#bd3786\"], [0.5555555555555556, \"#d8576b\"], [0.6666666666666666, \"#ed7953\"], [0.7777777777777778, \"#fb9f3a\"], [0.8888888888888888, \"#fdca26\"], [1.0, \"#f0f921\"]], \"type\": \"histogram2d\"}], \"histogram2dcontour\": [{\"colorbar\": {\"outlinewidth\": 0, \"ticks\": \"\"}, \"colorscale\": [[0.0, \"#0d0887\"], [0.1111111111111111, \"#46039f\"], [0.2222222222222222, \"#7201a8\"], [0.3333333333333333, \"#9c179e\"], [0.4444444444444444, \"#bd3786\"], [0.5555555555555556, \"#d8576b\"], [0.6666666666666666, \"#ed7953\"], [0.7777777777777778, \"#fb9f3a\"], [0.8888888888888888, \"#fdca26\"], [1.0, \"#f0f921\"]], \"type\": \"histogram2dcontour\"}], \"mesh3d\": [{\"colorbar\": {\"outlinewidth\": 0, \"ticks\": \"\"}, \"type\": \"mesh3d\"}], \"parcoords\": [{\"line\": {\"colorbar\": {\"outlinewidth\": 0, \"ticks\": \"\"}}, \"type\": \"parcoords\"}], \"pie\": [{\"automargin\": true, \"type\": \"pie\"}], \"scatter\": [{\"marker\": {\"colorbar\": {\"outlinewidth\": 0, \"ticks\": \"\"}}, \"type\": \"scatter\"}], \"scatter3d\": [{\"line\": {\"colorbar\": {\"outlinewidth\": 0, \"ticks\": \"\"}}, \"marker\": {\"colorbar\": {\"outlinewidth\": 0, \"ticks\": \"\"}}, \"type\": \"scatter3d\"}], \"scattercarpet\": [{\"marker\": {\"colorbar\": {\"outlinewidth\": 0, \"ticks\": \"\"}}, \"type\": \"scattercarpet\"}], \"scattergeo\": [{\"marker\": {\"colorbar\": {\"outlinewidth\": 0, \"ticks\": \"\"}}, \"type\": \"scattergeo\"}], \"scattergl\": [{\"marker\": {\"colorbar\": {\"outlinewidth\": 0, \"ticks\": \"\"}}, \"type\": \"scattergl\"}], \"scattermapbox\": [{\"marker\": {\"colorbar\": {\"outlinewidth\": 0, \"ticks\": \"\"}}, \"type\": \"scattermapbox\"}], \"scatterpolar\": [{\"marker\": {\"colorbar\": {\"outlinewidth\": 0, \"ticks\": \"\"}}, \"type\": \"scatterpolar\"}], \"scatterpolargl\": [{\"marker\": {\"colorbar\": {\"outlinewidth\": 0, \"ticks\": \"\"}}, \"type\": \"scatterpolargl\"}], \"scatterternary\": [{\"marker\": {\"colorbar\": {\"outlinewidth\": 0, \"ticks\": \"\"}}, \"type\": \"scatterternary\"}], \"surface\": [{\"colorbar\": {\"outlinewidth\": 0, \"ticks\": \"\"}, \"colorscale\": [[0.0, \"#0d0887\"], [0.1111111111111111, \"#46039f\"], [0.2222222222222222, \"#7201a8\"], [0.3333333333333333, \"#9c179e\"], [0.4444444444444444, \"#bd3786\"], [0.5555555555555556, \"#d8576b\"], [0.6666666666666666, \"#ed7953\"], [0.7777777777777778, \"#fb9f3a\"], [0.8888888888888888, \"#fdca26\"], [1.0, \"#f0f921\"]], \"type\": \"surface\"}], \"table\": [{\"cells\": {\"fill\": {\"color\": \"#EBF0F8\"}, \"line\": {\"color\": \"white\"}}, \"header\": {\"fill\": {\"color\": \"#C8D4E3\"}, \"line\": {\"color\": \"white\"}}, \"type\": \"table\"}]}, \"layout\": {\"annotationdefaults\": {\"arrowcolor\": \"#2a3f5f\", \"arrowhead\": 0, \"arrowwidth\": 1}, \"coloraxis\": {\"colorbar\": {\"outlinewidth\": 0, \"ticks\": \"\"}}, \"colorscale\": {\"diverging\": [[0, \"#8e0152\"], [0.1, \"#c51b7d\"], [0.2, \"#de77ae\"], [0.3, \"#f1b6da\"], [0.4, \"#fde0ef\"], [0.5, \"#f7f7f7\"], [0.6, \"#e6f5d0\"], [0.7, \"#b8e186\"], [0.8, \"#7fbc41\"], [0.9, \"#4d9221\"], [1, \"#276419\"]], \"sequential\": [[0.0, \"#0d0887\"], [0.1111111111111111, \"#46039f\"], [0.2222222222222222, \"#7201a8\"], [0.3333333333333333, \"#9c179e\"], [0.4444444444444444, \"#bd3786\"], [0.5555555555555556, \"#d8576b\"], [0.6666666666666666, \"#ed7953\"], [0.7777777777777778, \"#fb9f3a\"], [0.8888888888888888, \"#fdca26\"], [1.0, \"#f0f921\"]], \"sequentialminus\": [[0.0, \"#0d0887\"], [0.1111111111111111, \"#46039f\"], [0.2222222222222222, \"#7201a8\"], [0.3333333333333333, \"#9c179e\"], [0.4444444444444444, \"#bd3786\"], [0.5555555555555556, \"#d8576b\"], [0.6666666666666666, \"#ed7953\"], [0.7777777777777778, \"#fb9f3a\"], [0.8888888888888888, \"#fdca26\"], [1.0, \"#f0f921\"]]}, \"colorway\": [\"#636efa\", \"#EF553B\", \"#00cc96\", \"#ab63fa\", \"#FFA15A\", \"#19d3f3\", \"#FF6692\", \"#B6E880\", \"#FF97FF\", \"#FECB52\"], \"font\": {\"color\": \"#2a3f5f\"}, \"geo\": {\"bgcolor\": \"white\", \"lakecolor\": \"white\", \"landcolor\": \"#E5ECF6\", \"showlakes\": true, \"showland\": true, \"subunitcolor\": \"white\"}, \"hoverlabel\": {\"align\": \"left\"}, \"hovermode\": \"closest\", \"mapbox\": {\"style\": \"light\"}, \"paper_bgcolor\": \"white\", \"plot_bgcolor\": \"#E5ECF6\", \"polar\": {\"angularaxis\": {\"gridcolor\": \"white\", \"linecolor\": \"white\", \"ticks\": \"\"}, \"bgcolor\": \"#E5ECF6\", \"radialaxis\": {\"gridcolor\": \"white\", \"linecolor\": \"white\", \"ticks\": \"\"}}, \"scene\": {\"xaxis\": {\"backgroundcolor\": \"#E5ECF6\", \"gridcolor\": \"white\", \"gridwidth\": 2, \"linecolor\": \"white\", \"showbackground\": true, \"ticks\": \"\", \"zerolinecolor\": \"white\"}, \"yaxis\": {\"backgroundcolor\": \"#E5ECF6\", \"gridcolor\": \"white\", \"gridwidth\": 2, \"linecolor\": \"white\", \"showbackground\": true, \"ticks\": \"\", \"zerolinecolor\": \"white\"}, \"zaxis\": {\"backgroundcolor\": \"#E5ECF6\", \"gridcolor\": \"white\", \"gridwidth\": 2, \"linecolor\": \"white\", \"showbackground\": true, \"ticks\": \"\", \"zerolinecolor\": \"white\"}}, \"shapedefaults\": {\"line\": {\"color\": \"#2a3f5f\"}}, \"ternary\": {\"aaxis\": {\"gridcolor\": \"white\", \"linecolor\": \"white\", \"ticks\": \"\"}, \"baxis\": {\"gridcolor\": \"white\", \"linecolor\": \"white\", \"ticks\": \"\"}, \"bgcolor\": \"#E5ECF6\", \"caxis\": {\"gridcolor\": \"white\", \"linecolor\": \"white\", \"ticks\": \"\"}}, \"title\": {\"x\": 0.05}, \"xaxis\": {\"automargin\": true, \"gridcolor\": \"white\", \"linecolor\": \"white\", \"ticks\": \"\", \"title\": {\"standoff\": 15}, \"zerolinecolor\": \"white\", \"zerolinewidth\": 2}, \"yaxis\": {\"automargin\": true, \"gridcolor\": \"white\", \"linecolor\": \"white\", \"ticks\": \"\", \"title\": {\"standoff\": 15}, \"zerolinecolor\": \"white\", \"zerolinewidth\": 2}}}, \"xaxis\": {\"anchor\": \"y\", \"domain\": [0.0, 1.0], \"title\": {\"text\": \"x\"}}, \"yaxis\": {\"anchor\": \"x\", \"domain\": [0.0, 1.0], \"title\": {\"text\": \"event_id\"}}},\n",
              "                        {\"responsive\": true}\n",
              "                    ).then(function(){\n",
              "                            \n",
              "var gd = document.getElementById('f8b151a3-5ce4-48f0-a429-28c9cf17df61');\n",
              "var x = new MutationObserver(function (mutations, observer) {{\n",
              "        var display = window.getComputedStyle(gd).display;\n",
              "        if (!display || display === 'none') {{\n",
              "            console.log([gd, 'removed!']);\n",
              "            Plotly.purge(gd);\n",
              "            observer.disconnect();\n",
              "        }}\n",
              "}});\n",
              "\n",
              "// Listen for the removal of the full notebook cells\n",
              "var notebookContainer = gd.closest('#notebook-container');\n",
              "if (notebookContainer) {{\n",
              "    x.observe(notebookContainer, {childList: true});\n",
              "}}\n",
              "\n",
              "// Listen for the clearing of the current output cell\n",
              "var outputEl = gd.closest('.output');\n",
              "if (outputEl) {{\n",
              "    x.observe(outputEl, {childList: true});\n",
              "}}\n",
              "\n",
              "                        })\n",
              "                };\n",
              "                \n",
              "            </script>\n",
              "        </div>\n",
              "</body>\n",
              "</html>"
            ]
          },
          "metadata": {
            "tags": []
          }
        }
      ]
    },
    {
      "cell_type": "markdown",
      "metadata": {
        "id": "JXq3jkERZco7"
      },
      "source": [
        "### Все реакции"
      ]
    },
    {
      "cell_type": "code",
      "metadata": {
        "colab": {
          "base_uri": "https://localhost:8080/"
        },
        "id": "kW6uABNhXXpv",
        "outputId": "69ab9bc7-7591-4589-b3eb-f1b8db4dc848"
      },
      "source": [
        "reactions_users_ids = reactions.index\r\n",
        "reactions_users_ids"
      ],
      "execution_count": 31,
      "outputs": [
        {
          "output_type": "execute_result",
          "data": {
            "text/plain": [
              "Int64Index([      1615,       3859,      12199,      13934,      14229,\n",
              "                 16060,      20535,      28327,      30767,      37459,\n",
              "            ...\n",
              "            1398022998, 1398188580, 1398529159, 1398678076, 1398799657,\n",
              "            1399229617, 1399329801, 1399419434, 1399511615, 1399599499],\n",
              "           dtype='int64', name='user_id', length=19699)"
            ]
          },
          "metadata": {
            "tags": []
          },
          "execution_count": 31
        }
      ]
    },
    {
      "cell_type": "code",
      "metadata": {
        "colab": {
          "base_uri": "https://localhost:8080/"
        },
        "id": "X9zznfncXXmw",
        "outputId": "0a1d6101-3e01-48ec-a39a-df94557e219d"
      },
      "source": [
        "users_reactions = user[user.user_id.isin(reactions_users_ids)].set_index('user_id')['interface_lang'].copy()\r\n",
        "users_reactions"
      ],
      "execution_count": 32,
      "outputs": [
        {
          "output_type": "execute_result",
          "data": {
            "text/plain": [
              "user_id\n",
              "820326025     ru\n",
              "1040875164    en\n",
              "449432539     ru\n",
              "230248850     ru\n",
              "7719424       ru\n",
              "              ..\n",
              "125474047     ru\n",
              "608727447     ru\n",
              "1254871249    ru\n",
              "184147840     ru\n",
              "761418142     ru\n",
              "Name: interface_lang, Length: 19699, dtype: object"
            ]
          },
          "metadata": {
            "tags": []
          },
          "execution_count": 32
        }
      ]
    },
    {
      "cell_type": "code",
      "metadata": {
        "id": "RlKHtVWQXXkE"
      },
      "source": [
        "detailed_reactions = pd.DataFrame([users_reactions, reactions]).transpose()\r\n",
        "grouped_det_reactions = detailed_reactions.groupby('interface_lang').count()"
      ],
      "execution_count": 33,
      "outputs": []
    },
    {
      "cell_type": "code",
      "metadata": {
        "colab": {
          "base_uri": "https://localhost:8080/",
          "height": 542
        },
        "id": "AJeUNpw0am7V",
        "outputId": "3449c54c-3b4a-4cee-a0a4-8418274e1fe8"
      },
      "source": [
        "fig = px.bar(grouped_det_reactions, x = grouped_det_reactions.index, y = 'event_id')\r\n",
        "fig.show()"
      ],
      "execution_count": 34,
      "outputs": [
        {
          "output_type": "display_data",
          "data": {
            "text/html": [
              "<html>\n",
              "<head><meta charset=\"utf-8\" /></head>\n",
              "<body>\n",
              "    <div>\n",
              "            <script src=\"https://cdnjs.cloudflare.com/ajax/libs/mathjax/2.7.5/MathJax.js?config=TeX-AMS-MML_SVG\"></script><script type=\"text/javascript\">if (window.MathJax) {MathJax.Hub.Config({SVG: {font: \"STIX-Web\"}});}</script>\n",
              "                <script type=\"text/javascript\">window.PlotlyConfig = {MathJaxConfig: 'local'};</script>\n",
              "        <script src=\"https://cdn.plot.ly/plotly-latest.min.js\"></script>    \n",
              "            <div id=\"3cd9a777-1d2c-41a0-b9fb-138ae866f864\" class=\"plotly-graph-div\" style=\"height:525px; width:100%;\"></div>\n",
              "            <script type=\"text/javascript\">\n",
              "                \n",
              "                    window.PLOTLYENV=window.PLOTLYENV || {};\n",
              "                    \n",
              "                if (document.getElementById(\"3cd9a777-1d2c-41a0-b9fb-138ae866f864\")) {\n",
              "                    Plotly.newPlot(\n",
              "                        '3cd9a777-1d2c-41a0-b9fb-138ae866f864',\n",
              "                        [{\"alignmentgroup\": \"True\", \"hoverlabel\": {\"namelength\": 0}, \"hovertemplate\": \"x=%{x}<br>event_id=%{y}\", \"legendgroup\": \"\", \"marker\": {\"color\": \"#636efa\"}, \"name\": \"\", \"offsetgroup\": \"\", \"orientation\": \"v\", \"showlegend\": false, \"textposition\": \"auto\", \"type\": \"bar\", \"x\": [\"en\", \"ru\"], \"xaxis\": \"x\", \"y\": [5684, 14015], \"yaxis\": \"y\"}],\n",
              "                        {\"barmode\": \"relative\", \"legend\": {\"tracegroupgap\": 0}, \"margin\": {\"t\": 60}, \"template\": {\"data\": {\"bar\": [{\"error_x\": {\"color\": \"#2a3f5f\"}, \"error_y\": {\"color\": \"#2a3f5f\"}, \"marker\": {\"line\": {\"color\": \"#E5ECF6\", \"width\": 0.5}}, \"type\": \"bar\"}], \"barpolar\": [{\"marker\": {\"line\": {\"color\": \"#E5ECF6\", \"width\": 0.5}}, \"type\": \"barpolar\"}], \"carpet\": [{\"aaxis\": {\"endlinecolor\": \"#2a3f5f\", \"gridcolor\": \"white\", \"linecolor\": \"white\", \"minorgridcolor\": \"white\", \"startlinecolor\": \"#2a3f5f\"}, \"baxis\": {\"endlinecolor\": \"#2a3f5f\", \"gridcolor\": \"white\", \"linecolor\": \"white\", \"minorgridcolor\": \"white\", \"startlinecolor\": \"#2a3f5f\"}, \"type\": \"carpet\"}], \"choropleth\": [{\"colorbar\": {\"outlinewidth\": 0, \"ticks\": \"\"}, \"type\": \"choropleth\"}], \"contour\": [{\"colorbar\": {\"outlinewidth\": 0, \"ticks\": \"\"}, \"colorscale\": [[0.0, \"#0d0887\"], [0.1111111111111111, \"#46039f\"], [0.2222222222222222, \"#7201a8\"], [0.3333333333333333, \"#9c179e\"], [0.4444444444444444, \"#bd3786\"], [0.5555555555555556, \"#d8576b\"], [0.6666666666666666, \"#ed7953\"], [0.7777777777777778, \"#fb9f3a\"], [0.8888888888888888, \"#fdca26\"], [1.0, \"#f0f921\"]], \"type\": \"contour\"}], \"contourcarpet\": [{\"colorbar\": {\"outlinewidth\": 0, \"ticks\": \"\"}, \"type\": \"contourcarpet\"}], \"heatmap\": [{\"colorbar\": {\"outlinewidth\": 0, \"ticks\": \"\"}, \"colorscale\": [[0.0, \"#0d0887\"], [0.1111111111111111, \"#46039f\"], [0.2222222222222222, \"#7201a8\"], [0.3333333333333333, \"#9c179e\"], [0.4444444444444444, \"#bd3786\"], [0.5555555555555556, \"#d8576b\"], [0.6666666666666666, \"#ed7953\"], [0.7777777777777778, \"#fb9f3a\"], [0.8888888888888888, \"#fdca26\"], [1.0, \"#f0f921\"]], \"type\": \"heatmap\"}], \"heatmapgl\": [{\"colorbar\": {\"outlinewidth\": 0, \"ticks\": \"\"}, \"colorscale\": [[0.0, \"#0d0887\"], [0.1111111111111111, \"#46039f\"], [0.2222222222222222, \"#7201a8\"], [0.3333333333333333, \"#9c179e\"], [0.4444444444444444, \"#bd3786\"], [0.5555555555555556, \"#d8576b\"], [0.6666666666666666, \"#ed7953\"], [0.7777777777777778, \"#fb9f3a\"], [0.8888888888888888, \"#fdca26\"], [1.0, \"#f0f921\"]], \"type\": \"heatmapgl\"}], \"histogram\": [{\"marker\": {\"colorbar\": {\"outlinewidth\": 0, \"ticks\": \"\"}}, \"type\": \"histogram\"}], \"histogram2d\": [{\"colorbar\": {\"outlinewidth\": 0, \"ticks\": \"\"}, \"colorscale\": [[0.0, \"#0d0887\"], [0.1111111111111111, \"#46039f\"], [0.2222222222222222, \"#7201a8\"], [0.3333333333333333, \"#9c179e\"], [0.4444444444444444, \"#bd3786\"], [0.5555555555555556, \"#d8576b\"], [0.6666666666666666, \"#ed7953\"], [0.7777777777777778, \"#fb9f3a\"], [0.8888888888888888, \"#fdca26\"], [1.0, \"#f0f921\"]], \"type\": \"histogram2d\"}], \"histogram2dcontour\": [{\"colorbar\": {\"outlinewidth\": 0, \"ticks\": \"\"}, \"colorscale\": [[0.0, \"#0d0887\"], [0.1111111111111111, \"#46039f\"], [0.2222222222222222, \"#7201a8\"], [0.3333333333333333, \"#9c179e\"], [0.4444444444444444, \"#bd3786\"], [0.5555555555555556, \"#d8576b\"], [0.6666666666666666, \"#ed7953\"], [0.7777777777777778, \"#fb9f3a\"], [0.8888888888888888, \"#fdca26\"], [1.0, \"#f0f921\"]], \"type\": \"histogram2dcontour\"}], \"mesh3d\": [{\"colorbar\": {\"outlinewidth\": 0, \"ticks\": \"\"}, \"type\": \"mesh3d\"}], \"parcoords\": [{\"line\": {\"colorbar\": {\"outlinewidth\": 0, \"ticks\": \"\"}}, \"type\": \"parcoords\"}], \"pie\": [{\"automargin\": true, \"type\": \"pie\"}], \"scatter\": [{\"marker\": {\"colorbar\": {\"outlinewidth\": 0, \"ticks\": \"\"}}, \"type\": \"scatter\"}], \"scatter3d\": [{\"line\": {\"colorbar\": {\"outlinewidth\": 0, \"ticks\": \"\"}}, \"marker\": {\"colorbar\": {\"outlinewidth\": 0, \"ticks\": \"\"}}, \"type\": \"scatter3d\"}], \"scattercarpet\": [{\"marker\": {\"colorbar\": {\"outlinewidth\": 0, \"ticks\": \"\"}}, \"type\": \"scattercarpet\"}], \"scattergeo\": [{\"marker\": {\"colorbar\": {\"outlinewidth\": 0, \"ticks\": \"\"}}, \"type\": \"scattergeo\"}], \"scattergl\": [{\"marker\": {\"colorbar\": {\"outlinewidth\": 0, \"ticks\": \"\"}}, \"type\": \"scattergl\"}], \"scattermapbox\": [{\"marker\": {\"colorbar\": {\"outlinewidth\": 0, \"ticks\": \"\"}}, \"type\": \"scattermapbox\"}], \"scatterpolar\": [{\"marker\": {\"colorbar\": {\"outlinewidth\": 0, \"ticks\": \"\"}}, \"type\": \"scatterpolar\"}], \"scatterpolargl\": [{\"marker\": {\"colorbar\": {\"outlinewidth\": 0, \"ticks\": \"\"}}, \"type\": \"scatterpolargl\"}], \"scatterternary\": [{\"marker\": {\"colorbar\": {\"outlinewidth\": 0, \"ticks\": \"\"}}, \"type\": \"scatterternary\"}], \"surface\": [{\"colorbar\": {\"outlinewidth\": 0, \"ticks\": \"\"}, \"colorscale\": [[0.0, \"#0d0887\"], [0.1111111111111111, \"#46039f\"], [0.2222222222222222, \"#7201a8\"], [0.3333333333333333, \"#9c179e\"], [0.4444444444444444, \"#bd3786\"], [0.5555555555555556, \"#d8576b\"], [0.6666666666666666, \"#ed7953\"], [0.7777777777777778, \"#fb9f3a\"], [0.8888888888888888, \"#fdca26\"], [1.0, \"#f0f921\"]], \"type\": \"surface\"}], \"table\": [{\"cells\": {\"fill\": {\"color\": \"#EBF0F8\"}, \"line\": {\"color\": \"white\"}}, \"header\": {\"fill\": {\"color\": \"#C8D4E3\"}, \"line\": {\"color\": \"white\"}}, \"type\": \"table\"}]}, \"layout\": {\"annotationdefaults\": {\"arrowcolor\": \"#2a3f5f\", \"arrowhead\": 0, \"arrowwidth\": 1}, \"coloraxis\": {\"colorbar\": {\"outlinewidth\": 0, \"ticks\": \"\"}}, \"colorscale\": {\"diverging\": [[0, \"#8e0152\"], [0.1, \"#c51b7d\"], [0.2, \"#de77ae\"], [0.3, \"#f1b6da\"], [0.4, \"#fde0ef\"], [0.5, \"#f7f7f7\"], [0.6, \"#e6f5d0\"], [0.7, \"#b8e186\"], [0.8, \"#7fbc41\"], [0.9, \"#4d9221\"], [1, \"#276419\"]], \"sequential\": [[0.0, \"#0d0887\"], [0.1111111111111111, \"#46039f\"], [0.2222222222222222, \"#7201a8\"], [0.3333333333333333, \"#9c179e\"], [0.4444444444444444, \"#bd3786\"], [0.5555555555555556, \"#d8576b\"], [0.6666666666666666, \"#ed7953\"], [0.7777777777777778, \"#fb9f3a\"], [0.8888888888888888, \"#fdca26\"], [1.0, \"#f0f921\"]], \"sequentialminus\": [[0.0, \"#0d0887\"], [0.1111111111111111, \"#46039f\"], [0.2222222222222222, \"#7201a8\"], [0.3333333333333333, \"#9c179e\"], [0.4444444444444444, \"#bd3786\"], [0.5555555555555556, \"#d8576b\"], [0.6666666666666666, \"#ed7953\"], [0.7777777777777778, \"#fb9f3a\"], [0.8888888888888888, \"#fdca26\"], [1.0, \"#f0f921\"]]}, \"colorway\": [\"#636efa\", \"#EF553B\", \"#00cc96\", \"#ab63fa\", \"#FFA15A\", \"#19d3f3\", \"#FF6692\", \"#B6E880\", \"#FF97FF\", \"#FECB52\"], \"font\": {\"color\": \"#2a3f5f\"}, \"geo\": {\"bgcolor\": \"white\", \"lakecolor\": \"white\", \"landcolor\": \"#E5ECF6\", \"showlakes\": true, \"showland\": true, \"subunitcolor\": \"white\"}, \"hoverlabel\": {\"align\": \"left\"}, \"hovermode\": \"closest\", \"mapbox\": {\"style\": \"light\"}, \"paper_bgcolor\": \"white\", \"plot_bgcolor\": \"#E5ECF6\", \"polar\": {\"angularaxis\": {\"gridcolor\": \"white\", \"linecolor\": \"white\", \"ticks\": \"\"}, \"bgcolor\": \"#E5ECF6\", \"radialaxis\": {\"gridcolor\": \"white\", \"linecolor\": \"white\", \"ticks\": \"\"}}, \"scene\": {\"xaxis\": {\"backgroundcolor\": \"#E5ECF6\", \"gridcolor\": \"white\", \"gridwidth\": 2, \"linecolor\": \"white\", \"showbackground\": true, \"ticks\": \"\", \"zerolinecolor\": \"white\"}, \"yaxis\": {\"backgroundcolor\": \"#E5ECF6\", \"gridcolor\": \"white\", \"gridwidth\": 2, \"linecolor\": \"white\", \"showbackground\": true, \"ticks\": \"\", \"zerolinecolor\": \"white\"}, \"zaxis\": {\"backgroundcolor\": \"#E5ECF6\", \"gridcolor\": \"white\", \"gridwidth\": 2, \"linecolor\": \"white\", \"showbackground\": true, \"ticks\": \"\", \"zerolinecolor\": \"white\"}}, \"shapedefaults\": {\"line\": {\"color\": \"#2a3f5f\"}}, \"ternary\": {\"aaxis\": {\"gridcolor\": \"white\", \"linecolor\": \"white\", \"ticks\": \"\"}, \"baxis\": {\"gridcolor\": \"white\", \"linecolor\": \"white\", \"ticks\": \"\"}, \"bgcolor\": \"#E5ECF6\", \"caxis\": {\"gridcolor\": \"white\", \"linecolor\": \"white\", \"ticks\": \"\"}}, \"title\": {\"x\": 0.05}, \"xaxis\": {\"automargin\": true, \"gridcolor\": \"white\", \"linecolor\": \"white\", \"ticks\": \"\", \"title\": {\"standoff\": 15}, \"zerolinecolor\": \"white\", \"zerolinewidth\": 2}, \"yaxis\": {\"automargin\": true, \"gridcolor\": \"white\", \"linecolor\": \"white\", \"ticks\": \"\", \"title\": {\"standoff\": 15}, \"zerolinecolor\": \"white\", \"zerolinewidth\": 2}}}, \"xaxis\": {\"anchor\": \"y\", \"domain\": [0.0, 1.0], \"title\": {\"text\": \"x\"}}, \"yaxis\": {\"anchor\": \"x\", \"domain\": [0.0, 1.0], \"title\": {\"text\": \"event_id\"}}},\n",
              "                        {\"responsive\": true}\n",
              "                    ).then(function(){\n",
              "                            \n",
              "var gd = document.getElementById('3cd9a777-1d2c-41a0-b9fb-138ae866f864');\n",
              "var x = new MutationObserver(function (mutations, observer) {{\n",
              "        var display = window.getComputedStyle(gd).display;\n",
              "        if (!display || display === 'none') {{\n",
              "            console.log([gd, 'removed!']);\n",
              "            Plotly.purge(gd);\n",
              "            observer.disconnect();\n",
              "        }}\n",
              "}});\n",
              "\n",
              "// Listen for the removal of the full notebook cells\n",
              "var notebookContainer = gd.closest('#notebook-container');\n",
              "if (notebookContainer) {{\n",
              "    x.observe(notebookContainer, {childList: true});\n",
              "}}\n",
              "\n",
              "// Listen for the clearing of the current output cell\n",
              "var outputEl = gd.closest('.output');\n",
              "if (outputEl) {{\n",
              "    x.observe(outputEl, {childList: true});\n",
              "}}\n",
              "\n",
              "                        })\n",
              "                };\n",
              "                \n",
              "            </script>\n",
              "        </div>\n",
              "</body>\n",
              "</html>"
            ]
          },
          "metadata": {
            "tags": []
          }
        }
      ]
    },
    {
      "cell_type": "code",
      "metadata": {
        "colab": {
          "base_uri": "https://localhost:8080/",
          "height": 137
        },
        "id": "iR0MzlGXczKx",
        "outputId": "04a17d71-b707-4138-92a2-791e5f15128c"
      },
      "source": [
        "grouped_det_likes"
      ],
      "execution_count": 35,
      "outputs": [
        {
          "output_type": "execute_result",
          "data": {
            "text/html": [
              "<div>\n",
              "<style scoped>\n",
              "    .dataframe tbody tr th:only-of-type {\n",
              "        vertical-align: middle;\n",
              "    }\n",
              "\n",
              "    .dataframe tbody tr th {\n",
              "        vertical-align: top;\n",
              "    }\n",
              "\n",
              "    .dataframe thead th {\n",
              "        text-align: right;\n",
              "    }\n",
              "</style>\n",
              "<table border=\"1\" class=\"dataframe\">\n",
              "  <thead>\n",
              "    <tr style=\"text-align: right;\">\n",
              "      <th></th>\n",
              "      <th>event_id</th>\n",
              "    </tr>\n",
              "    <tr>\n",
              "      <th>interface_lang</th>\n",
              "      <th></th>\n",
              "    </tr>\n",
              "  </thead>\n",
              "  <tbody>\n",
              "    <tr>\n",
              "      <th>en</th>\n",
              "      <td>4546</td>\n",
              "    </tr>\n",
              "    <tr>\n",
              "      <th>ru</th>\n",
              "      <td>12087</td>\n",
              "    </tr>\n",
              "  </tbody>\n",
              "</table>\n",
              "</div>"
            ],
            "text/plain": [
              "                event_id\n",
              "interface_lang          \n",
              "en                  4546\n",
              "ru                 12087"
            ]
          },
          "metadata": {
            "tags": []
          },
          "execution_count": 35
        }
      ]
    },
    {
      "cell_type": "code",
      "metadata": {
        "colab": {
          "base_uri": "https://localhost:8080/",
          "height": 137
        },
        "id": "5SMDIjt6bG7s",
        "outputId": "30f33ed9-4e31-4fdd-923c-b3b65dd0a5e6"
      },
      "source": [
        "grouped_det_dislikes"
      ],
      "execution_count": 36,
      "outputs": [
        {
          "output_type": "execute_result",
          "data": {
            "text/html": [
              "<div>\n",
              "<style scoped>\n",
              "    .dataframe tbody tr th:only-of-type {\n",
              "        vertical-align: middle;\n",
              "    }\n",
              "\n",
              "    .dataframe tbody tr th {\n",
              "        vertical-align: top;\n",
              "    }\n",
              "\n",
              "    .dataframe thead th {\n",
              "        text-align: right;\n",
              "    }\n",
              "</style>\n",
              "<table border=\"1\" class=\"dataframe\">\n",
              "  <thead>\n",
              "    <tr style=\"text-align: right;\">\n",
              "      <th></th>\n",
              "      <th>event_id</th>\n",
              "    </tr>\n",
              "    <tr>\n",
              "      <th>interface_lang</th>\n",
              "      <th></th>\n",
              "    </tr>\n",
              "  </thead>\n",
              "  <tbody>\n",
              "    <tr>\n",
              "      <th>en</th>\n",
              "      <td>3532</td>\n",
              "    </tr>\n",
              "    <tr>\n",
              "      <th>ru</th>\n",
              "      <td>12349</td>\n",
              "    </tr>\n",
              "  </tbody>\n",
              "</table>\n",
              "</div>"
            ],
            "text/plain": [
              "                event_id\n",
              "interface_lang          \n",
              "en                  3532\n",
              "ru                 12349"
            ]
          },
          "metadata": {
            "tags": []
          },
          "execution_count": 36
        }
      ]
    },
    {
      "cell_type": "code",
      "metadata": {
        "colab": {
          "base_uri": "https://localhost:8080/",
          "height": 137
        },
        "id": "QxTE_EM2bG0n",
        "outputId": "22c892da-ec76-46d8-9775-c73ba3f02bd7"
      },
      "source": [
        "grouped_det_likes / grouped_det_dislikes"
      ],
      "execution_count": 37,
      "outputs": [
        {
          "output_type": "execute_result",
          "data": {
            "text/html": [
              "<div>\n",
              "<style scoped>\n",
              "    .dataframe tbody tr th:only-of-type {\n",
              "        vertical-align: middle;\n",
              "    }\n",
              "\n",
              "    .dataframe tbody tr th {\n",
              "        vertical-align: top;\n",
              "    }\n",
              "\n",
              "    .dataframe thead th {\n",
              "        text-align: right;\n",
              "    }\n",
              "</style>\n",
              "<table border=\"1\" class=\"dataframe\">\n",
              "  <thead>\n",
              "    <tr style=\"text-align: right;\">\n",
              "      <th></th>\n",
              "      <th>event_id</th>\n",
              "    </tr>\n",
              "    <tr>\n",
              "      <th>interface_lang</th>\n",
              "      <th></th>\n",
              "    </tr>\n",
              "  </thead>\n",
              "  <tbody>\n",
              "    <tr>\n",
              "      <th>en</th>\n",
              "      <td>1.287089</td>\n",
              "    </tr>\n",
              "    <tr>\n",
              "      <th>ru</th>\n",
              "      <td>0.978784</td>\n",
              "    </tr>\n",
              "  </tbody>\n",
              "</table>\n",
              "</div>"
            ],
            "text/plain": [
              "                event_id\n",
              "interface_lang          \n",
              "en              1.287089\n",
              "ru              0.978784"
            ]
          },
          "metadata": {
            "tags": []
          },
          "execution_count": 37
        }
      ]
    },
    {
      "cell_type": "code",
      "metadata": {
        "colab": {
          "base_uri": "https://localhost:8080/",
          "height": 137
        },
        "id": "YN0AmAv7cZxo",
        "outputId": "b3871a3e-9438-44c5-9e0e-4c5ac53c4750"
      },
      "source": [
        "grouped_det_reactions"
      ],
      "execution_count": 38,
      "outputs": [
        {
          "output_type": "execute_result",
          "data": {
            "text/html": [
              "<div>\n",
              "<style scoped>\n",
              "    .dataframe tbody tr th:only-of-type {\n",
              "        vertical-align: middle;\n",
              "    }\n",
              "\n",
              "    .dataframe tbody tr th {\n",
              "        vertical-align: top;\n",
              "    }\n",
              "\n",
              "    .dataframe thead th {\n",
              "        text-align: right;\n",
              "    }\n",
              "</style>\n",
              "<table border=\"1\" class=\"dataframe\">\n",
              "  <thead>\n",
              "    <tr style=\"text-align: right;\">\n",
              "      <th></th>\n",
              "      <th>event_id</th>\n",
              "    </tr>\n",
              "    <tr>\n",
              "      <th>interface_lang</th>\n",
              "      <th></th>\n",
              "    </tr>\n",
              "  </thead>\n",
              "  <tbody>\n",
              "    <tr>\n",
              "      <th>en</th>\n",
              "      <td>5684</td>\n",
              "    </tr>\n",
              "    <tr>\n",
              "      <th>ru</th>\n",
              "      <td>14015</td>\n",
              "    </tr>\n",
              "  </tbody>\n",
              "</table>\n",
              "</div>"
            ],
            "text/plain": [
              "                event_id\n",
              "interface_lang          \n",
              "en                  5684\n",
              "ru                 14015"
            ]
          },
          "metadata": {
            "tags": []
          },
          "execution_count": 38
        }
      ]
    },
    {
      "cell_type": "markdown",
      "metadata": {
        "id": "OyhWP3L0avQX"
      },
      "source": [
        "Выводы, которые можно сделать из проделанной работы из имеющихся данных:\r\n",
        "- В наблюдении кол-во людей с RU интерфейсом преобладает над иными значениями в ~3 раза, но это не означает, что они более активны\r\n",
        "- Люди с EN интерфейсом предпочитают лайкать мемы (L/D показатель = 1.28 для EN и ~0.98 для RU)"
      ]
    },
    {
      "cell_type": "markdown",
      "metadata": {
        "id": "VZ37kIc-o3QM"
      },
      "source": [
        "# ДЗ\r\n",
        "- Построить гипотезы (2-3 штуки)\r\n",
        "- Датасет + модель (какой мем какому пользователю зайдет)\r\n",
        "- Реком система в цикле(как вариант) будет смотреть каждый мем и классифицировать на 1 или 0\r\n",
        "- Презентация"
      ]
    },
    {
      "cell_type": "code",
      "metadata": {
        "colab": {
          "base_uri": "https://localhost:8080/"
        },
        "id": "Em4GZJl7ncMv",
        "outputId": "6cdb7d75-9eb7-4037-8f5d-4425716a74ed"
      },
      "source": [
        "meme.meme_type.value_counts()"
      ],
      "execution_count": 39,
      "outputs": [
        {
          "output_type": "execute_result",
          "data": {
            "text/plain": [
              "photo        55917\n",
              "animation     2885\n",
              "video         2714\n",
              "Name: meme_type, dtype: int64"
            ]
          },
          "metadata": {
            "tags": []
          },
          "execution_count": 39
        }
      ]
    },
    {
      "cell_type": "markdown",
      "metadata": {
        "id": "rerdt2X9zFuS"
      },
      "source": [
        "## Гипотеза №1: отношение l/d у мужчин ниже, чем у женщин"
      ]
    },
    {
      "cell_type": "code",
      "metadata": {
        "id": "KQBgpg1VpvaI"
      },
      "source": [
        "data_for_gender = event[['reaction_id', 'user_id']].copy()"
      ],
      "execution_count": 40,
      "outputs": []
    },
    {
      "cell_type": "code",
      "metadata": {
        "colab": {
          "base_uri": "https://localhost:8080/",
          "height": 406
        },
        "id": "_wDR64GIzO-T",
        "outputId": "531fc2a7-1361-47c5-ed03-15b398bedb74"
      },
      "source": [
        "data_for_gender"
      ],
      "execution_count": 41,
      "outputs": [
        {
          "output_type": "execute_result",
          "data": {
            "text/html": [
              "<div>\n",
              "<style scoped>\n",
              "    .dataframe tbody tr th:only-of-type {\n",
              "        vertical-align: middle;\n",
              "    }\n",
              "\n",
              "    .dataframe tbody tr th {\n",
              "        vertical-align: top;\n",
              "    }\n",
              "\n",
              "    .dataframe thead th {\n",
              "        text-align: right;\n",
              "    }\n",
              "</style>\n",
              "<table border=\"1\" class=\"dataframe\">\n",
              "  <thead>\n",
              "    <tr style=\"text-align: right;\">\n",
              "      <th></th>\n",
              "      <th>reaction_id</th>\n",
              "      <th>user_id</th>\n",
              "    </tr>\n",
              "  </thead>\n",
              "  <tbody>\n",
              "    <tr>\n",
              "      <th>0</th>\n",
              "      <td>2.0</td>\n",
              "      <td>280747086</td>\n",
              "    </tr>\n",
              "    <tr>\n",
              "      <th>1</th>\n",
              "      <td>1.0</td>\n",
              "      <td>285739883</td>\n",
              "    </tr>\n",
              "    <tr>\n",
              "      <th>2</th>\n",
              "      <td>1.0</td>\n",
              "      <td>280747086</td>\n",
              "    </tr>\n",
              "    <tr>\n",
              "      <th>3</th>\n",
              "      <td>NaN</td>\n",
              "      <td>78991522</td>\n",
              "    </tr>\n",
              "    <tr>\n",
              "      <th>4</th>\n",
              "      <td>2.0</td>\n",
              "      <td>860086058</td>\n",
              "    </tr>\n",
              "    <tr>\n",
              "      <th>...</th>\n",
              "      <td>...</td>\n",
              "      <td>...</td>\n",
              "    </tr>\n",
              "    <tr>\n",
              "      <th>3652698</th>\n",
              "      <td>2.0</td>\n",
              "      <td>860086058</td>\n",
              "    </tr>\n",
              "    <tr>\n",
              "      <th>3652699</th>\n",
              "      <td>2.0</td>\n",
              "      <td>381510059</td>\n",
              "    </tr>\n",
              "    <tr>\n",
              "      <th>3652700</th>\n",
              "      <td>2.0</td>\n",
              "      <td>285739883</td>\n",
              "    </tr>\n",
              "    <tr>\n",
              "      <th>3652701</th>\n",
              "      <td>1.0</td>\n",
              "      <td>245482</td>\n",
              "    </tr>\n",
              "    <tr>\n",
              "      <th>3652702</th>\n",
              "      <td>2.0</td>\n",
              "      <td>1023088184</td>\n",
              "    </tr>\n",
              "  </tbody>\n",
              "</table>\n",
              "<p>3652703 rows × 2 columns</p>\n",
              "</div>"
            ],
            "text/plain": [
              "         reaction_id     user_id\n",
              "0                2.0   280747086\n",
              "1                1.0   285739883\n",
              "2                1.0   280747086\n",
              "3                NaN    78991522\n",
              "4                2.0   860086058\n",
              "...              ...         ...\n",
              "3652698          2.0   860086058\n",
              "3652699          2.0   381510059\n",
              "3652700          2.0   285739883\n",
              "3652701          1.0      245482\n",
              "3652702          2.0  1023088184\n",
              "\n",
              "[3652703 rows x 2 columns]"
            ]
          },
          "metadata": {
            "tags": []
          },
          "execution_count": 41
        }
      ]
    },
    {
      "cell_type": "code",
      "metadata": {
        "id": "Q5ptG8WYzubu"
      },
      "source": [
        "users = user[['user_id', 'gender']].copy()"
      ],
      "execution_count": 42,
      "outputs": []
    },
    {
      "cell_type": "code",
      "metadata": {
        "colab": {
          "base_uri": "https://localhost:8080/",
          "height": 406
        },
        "id": "Rl_LOq-Fk5it",
        "outputId": "0e4d9700-a8cc-4803-f911-a73dc4486996"
      },
      "source": [
        "users"
      ],
      "execution_count": 43,
      "outputs": [
        {
          "output_type": "execute_result",
          "data": {
            "text/html": [
              "<div>\n",
              "<style scoped>\n",
              "    .dataframe tbody tr th:only-of-type {\n",
              "        vertical-align: middle;\n",
              "    }\n",
              "\n",
              "    .dataframe tbody tr th {\n",
              "        vertical-align: top;\n",
              "    }\n",
              "\n",
              "    .dataframe thead th {\n",
              "        text-align: right;\n",
              "    }\n",
              "</style>\n",
              "<table border=\"1\" class=\"dataframe\">\n",
              "  <thead>\n",
              "    <tr style=\"text-align: right;\">\n",
              "      <th></th>\n",
              "      <th>user_id</th>\n",
              "      <th>gender</th>\n",
              "    </tr>\n",
              "  </thead>\n",
              "  <tbody>\n",
              "    <tr>\n",
              "      <th>0</th>\n",
              "      <td>820326025</td>\n",
              "      <td>M</td>\n",
              "    </tr>\n",
              "    <tr>\n",
              "      <th>1</th>\n",
              "      <td>1040875164</td>\n",
              "      <td>NaN</td>\n",
              "    </tr>\n",
              "    <tr>\n",
              "      <th>2</th>\n",
              "      <td>449432539</td>\n",
              "      <td>F</td>\n",
              "    </tr>\n",
              "    <tr>\n",
              "      <th>3</th>\n",
              "      <td>230248850</td>\n",
              "      <td>M</td>\n",
              "    </tr>\n",
              "    <tr>\n",
              "      <th>4</th>\n",
              "      <td>7719424</td>\n",
              "      <td>M</td>\n",
              "    </tr>\n",
              "    <tr>\n",
              "      <th>...</th>\n",
              "      <td>...</td>\n",
              "      <td>...</td>\n",
              "    </tr>\n",
              "    <tr>\n",
              "      <th>19913</th>\n",
              "      <td>184147840</td>\n",
              "      <td>NaN</td>\n",
              "    </tr>\n",
              "    <tr>\n",
              "      <th>19914</th>\n",
              "      <td>663303657</td>\n",
              "      <td>NaN</td>\n",
              "    </tr>\n",
              "    <tr>\n",
              "      <th>19915</th>\n",
              "      <td>761418142</td>\n",
              "      <td>NaN</td>\n",
              "    </tr>\n",
              "    <tr>\n",
              "      <th>19916</th>\n",
              "      <td>669142397</td>\n",
              "      <td>NaN</td>\n",
              "    </tr>\n",
              "    <tr>\n",
              "      <th>19917</th>\n",
              "      <td>1952378</td>\n",
              "      <td>NaN</td>\n",
              "    </tr>\n",
              "  </tbody>\n",
              "</table>\n",
              "<p>19918 rows × 2 columns</p>\n",
              "</div>"
            ],
            "text/plain": [
              "          user_id gender\n",
              "0       820326025      M\n",
              "1      1040875164    NaN\n",
              "2       449432539      F\n",
              "3       230248850      M\n",
              "4         7719424      M\n",
              "...           ...    ...\n",
              "19913   184147840    NaN\n",
              "19914   663303657    NaN\n",
              "19915   761418142    NaN\n",
              "19916   669142397    NaN\n",
              "19917     1952378    NaN\n",
              "\n",
              "[19918 rows x 2 columns]"
            ]
          },
          "metadata": {
            "tags": []
          },
          "execution_count": 43
        }
      ]
    },
    {
      "cell_type": "code",
      "metadata": {
        "colab": {
          "base_uri": "https://localhost:8080/"
        },
        "id": "OoB6HxXA0h-_",
        "outputId": "317bb063-4f35-42ee-8658-39b444717d5b"
      },
      "source": [
        "users['gender'].value_counts()"
      ],
      "execution_count": 44,
      "outputs": [
        {
          "output_type": "execute_result",
          "data": {
            "text/plain": [
              "M    2679\n",
              "N    1927\n",
              "F    1109\n",
              "Name: gender, dtype: int64"
            ]
          },
          "metadata": {
            "tags": []
          },
          "execution_count": 44
        }
      ]
    },
    {
      "cell_type": "code",
      "metadata": {
        "id": "QOcLA0sZkt-z"
      },
      "source": [
        "inner = pd.merge(users, data_for_gender, on='user_id')"
      ],
      "execution_count": 45,
      "outputs": []
    },
    {
      "cell_type": "code",
      "metadata": {
        "id": "B1Gynrxgk9JO"
      },
      "source": [
        "users_likes_w_gender = inner[inner['reaction_id'] == 1].copy()\r\n",
        "users_dislikes_w_gender = inner[inner['reaction_id'] == 2].copy()\r\n"
      ],
      "execution_count": 46,
      "outputs": []
    },
    {
      "cell_type": "code",
      "metadata": {
        "colab": {
          "base_uri": "https://localhost:8080/",
          "height": 406
        },
        "id": "nyGPRR60l1ta",
        "outputId": "ea652025-7199-4f7e-aadf-dc5e4128bb97"
      },
      "source": [
        "users_likes_w_gender"
      ],
      "execution_count": 47,
      "outputs": [
        {
          "output_type": "execute_result",
          "data": {
            "text/html": [
              "<div>\n",
              "<style scoped>\n",
              "    .dataframe tbody tr th:only-of-type {\n",
              "        vertical-align: middle;\n",
              "    }\n",
              "\n",
              "    .dataframe tbody tr th {\n",
              "        vertical-align: top;\n",
              "    }\n",
              "\n",
              "    .dataframe thead th {\n",
              "        text-align: right;\n",
              "    }\n",
              "</style>\n",
              "<table border=\"1\" class=\"dataframe\">\n",
              "  <thead>\n",
              "    <tr style=\"text-align: right;\">\n",
              "      <th></th>\n",
              "      <th>user_id</th>\n",
              "      <th>gender</th>\n",
              "      <th>reaction_id</th>\n",
              "    </tr>\n",
              "  </thead>\n",
              "  <tbody>\n",
              "    <tr>\n",
              "      <th>15</th>\n",
              "      <td>820326025</td>\n",
              "      <td>M</td>\n",
              "      <td>1.0</td>\n",
              "    </tr>\n",
              "    <tr>\n",
              "      <th>16</th>\n",
              "      <td>820326025</td>\n",
              "      <td>M</td>\n",
              "      <td>1.0</td>\n",
              "    </tr>\n",
              "    <tr>\n",
              "      <th>17</th>\n",
              "      <td>820326025</td>\n",
              "      <td>M</td>\n",
              "      <td>1.0</td>\n",
              "    </tr>\n",
              "    <tr>\n",
              "      <th>22</th>\n",
              "      <td>820326025</td>\n",
              "      <td>M</td>\n",
              "      <td>1.0</td>\n",
              "    </tr>\n",
              "    <tr>\n",
              "      <th>24</th>\n",
              "      <td>1040875164</td>\n",
              "      <td>NaN</td>\n",
              "      <td>1.0</td>\n",
              "    </tr>\n",
              "    <tr>\n",
              "      <th>...</th>\n",
              "      <td>...</td>\n",
              "      <td>...</td>\n",
              "      <td>...</td>\n",
              "    </tr>\n",
              "    <tr>\n",
              "      <th>3652689</th>\n",
              "      <td>761418142</td>\n",
              "      <td>NaN</td>\n",
              "      <td>1.0</td>\n",
              "    </tr>\n",
              "    <tr>\n",
              "      <th>3652690</th>\n",
              "      <td>761418142</td>\n",
              "      <td>NaN</td>\n",
              "      <td>1.0</td>\n",
              "    </tr>\n",
              "    <tr>\n",
              "      <th>3652692</th>\n",
              "      <td>761418142</td>\n",
              "      <td>NaN</td>\n",
              "      <td>1.0</td>\n",
              "    </tr>\n",
              "    <tr>\n",
              "      <th>3652694</th>\n",
              "      <td>761418142</td>\n",
              "      <td>NaN</td>\n",
              "      <td>1.0</td>\n",
              "    </tr>\n",
              "    <tr>\n",
              "      <th>3652696</th>\n",
              "      <td>761418142</td>\n",
              "      <td>NaN</td>\n",
              "      <td>1.0</td>\n",
              "    </tr>\n",
              "  </tbody>\n",
              "</table>\n",
              "<p>1866242 rows × 3 columns</p>\n",
              "</div>"
            ],
            "text/plain": [
              "            user_id gender  reaction_id\n",
              "15        820326025      M          1.0\n",
              "16        820326025      M          1.0\n",
              "17        820326025      M          1.0\n",
              "22        820326025      M          1.0\n",
              "24       1040875164    NaN          1.0\n",
              "...             ...    ...          ...\n",
              "3652689   761418142    NaN          1.0\n",
              "3652690   761418142    NaN          1.0\n",
              "3652692   761418142    NaN          1.0\n",
              "3652694   761418142    NaN          1.0\n",
              "3652696   761418142    NaN          1.0\n",
              "\n",
              "[1866242 rows x 3 columns]"
            ]
          },
          "metadata": {
            "tags": []
          },
          "execution_count": 47
        }
      ]
    },
    {
      "cell_type": "code",
      "metadata": {
        "id": "9LgKIpkjlwew"
      },
      "source": [
        "M_likes = users_likes_w_gender[users_likes_w_gender['gender'] == 'M'].copy()\r\n",
        "F_likes = users_likes_w_gender[users_likes_w_gender['gender'] == 'F'].copy()\r\n",
        "M_dislikes = users_dislikes_w_gender[users_dislikes_w_gender['gender'] == 'M'].copy()\r\n",
        "F_dislikes = users_dislikes_w_gender[users_dislikes_w_gender['gender'] == 'F'].copy()"
      ],
      "execution_count": 48,
      "outputs": []
    },
    {
      "cell_type": "code",
      "metadata": {
        "colab": {
          "base_uri": "https://localhost:8080/",
          "height": 107
        },
        "id": "pMErjPEJnJ9A",
        "outputId": "e885551a-8d00-40ef-ffb5-3e0e54f1ae3a"
      },
      "source": [
        "MF_values_dict = {'M/F_ratio':[len(M_likes) / len (M_dislikes), len(F_likes) / len (F_dislikes)]}\r\n",
        "MF_values = pd.DataFrame(MF_values_dict)\r\n",
        "MF_values.rename(index={0:'M',1:'F'}, inplace = True)\r\n",
        "MF_values"
      ],
      "execution_count": 49,
      "outputs": [
        {
          "output_type": "execute_result",
          "data": {
            "text/html": [
              "<div>\n",
              "<style scoped>\n",
              "    .dataframe tbody tr th:only-of-type {\n",
              "        vertical-align: middle;\n",
              "    }\n",
              "\n",
              "    .dataframe tbody tr th {\n",
              "        vertical-align: top;\n",
              "    }\n",
              "\n",
              "    .dataframe thead th {\n",
              "        text-align: right;\n",
              "    }\n",
              "</style>\n",
              "<table border=\"1\" class=\"dataframe\">\n",
              "  <thead>\n",
              "    <tr style=\"text-align: right;\">\n",
              "      <th></th>\n",
              "      <th>M/F_ratio</th>\n",
              "    </tr>\n",
              "  </thead>\n",
              "  <tbody>\n",
              "    <tr>\n",
              "      <th>M</th>\n",
              "      <td>1.337439</td>\n",
              "    </tr>\n",
              "    <tr>\n",
              "      <th>F</th>\n",
              "      <td>1.653884</td>\n",
              "    </tr>\n",
              "  </tbody>\n",
              "</table>\n",
              "</div>"
            ],
            "text/plain": [
              "   M/F_ratio\n",
              "M   1.337439\n",
              "F   1.653884"
            ]
          },
          "metadata": {
            "tags": []
          },
          "execution_count": 49
        }
      ]
    },
    {
      "cell_type": "markdown",
      "metadata": {
        "id": "FIk0KSJoyBo_"
      },
      "source": [
        "Как и предполагалось, L/D отношение у мужчин ниже, чем у женщин. Возможно, это связано с тем, что мужчины в целом как юзеры более активны чем женщины. Возможно, мужчины в Интернете более категоричны и при недовольстве чаще ставят дизлайк, когда представительницы женского пола просто проигнорируют и пойдут дальше  "
      ]
    },
    {
      "cell_type": "markdown",
      "metadata": {
        "id": "_yKMoxBqyBmO"
      },
      "source": [
        ""
      ]
    },
    {
      "cell_type": "markdown",
      "metadata": {
        "id": "53Tb2oKB0ZDU"
      },
      "source": [
        "## Гипотеза №2: фото мемы в среднем лайкают больше, чем мемы иного типа"
      ]
    },
    {
      "cell_type": "code",
      "metadata": {
        "colab": {
          "base_uri": "https://localhost:8080/"
        },
        "id": "anuKQwBV0f9l",
        "outputId": "6b792d41-18a0-46ed-e4a2-960ec0498f7e"
      },
      "source": [
        "meme.meme_type.value_counts()"
      ],
      "execution_count": 50,
      "outputs": [
        {
          "output_type": "execute_result",
          "data": {
            "text/plain": [
              "photo        55917\n",
              "animation     2885\n",
              "video         2714\n",
              "Name: meme_type, dtype: int64"
            ]
          },
          "metadata": {
            "tags": []
          },
          "execution_count": 50
        }
      ]
    },
    {
      "cell_type": "code",
      "metadata": {
        "colab": {
          "base_uri": "https://localhost:8080/",
          "height": 167
        },
        "id": "2bbQEQmW0tch",
        "outputId": "19d6ceea-fd54-4291-ea4e-d199a4a29cdf"
      },
      "source": [
        "detailed_meme = meme[['meme_type', 'likes', 'dislikes']].copy()\r\n",
        "detailed_meme.groupby('meme_type').mean()"
      ],
      "execution_count": 51,
      "outputs": [
        {
          "output_type": "execute_result",
          "data": {
            "text/html": [
              "<div>\n",
              "<style scoped>\n",
              "    .dataframe tbody tr th:only-of-type {\n",
              "        vertical-align: middle;\n",
              "    }\n",
              "\n",
              "    .dataframe tbody tr th {\n",
              "        vertical-align: top;\n",
              "    }\n",
              "\n",
              "    .dataframe thead th {\n",
              "        text-align: right;\n",
              "    }\n",
              "</style>\n",
              "<table border=\"1\" class=\"dataframe\">\n",
              "  <thead>\n",
              "    <tr style=\"text-align: right;\">\n",
              "      <th></th>\n",
              "      <th>likes</th>\n",
              "      <th>dislikes</th>\n",
              "    </tr>\n",
              "    <tr>\n",
              "      <th>meme_type</th>\n",
              "      <th></th>\n",
              "      <th></th>\n",
              "    </tr>\n",
              "  </thead>\n",
              "  <tbody>\n",
              "    <tr>\n",
              "      <th>animation</th>\n",
              "      <td>14.407972</td>\n",
              "      <td>21.242288</td>\n",
              "    </tr>\n",
              "    <tr>\n",
              "      <th>photo</th>\n",
              "      <td>33.899691</td>\n",
              "      <td>28.570274</td>\n",
              "    </tr>\n",
              "    <tr>\n",
              "      <th>video</th>\n",
              "      <td>12.654753</td>\n",
              "      <td>23.306559</td>\n",
              "    </tr>\n",
              "  </tbody>\n",
              "</table>\n",
              "</div>"
            ],
            "text/plain": [
              "               likes   dislikes\n",
              "meme_type                      \n",
              "animation  14.407972  21.242288\n",
              "photo      33.899691  28.570274\n",
              "video      12.654753  23.306559"
            ]
          },
          "metadata": {
            "tags": []
          },
          "execution_count": 51
        }
      ]
    },
    {
      "cell_type": "markdown",
      "metadata": {
        "id": "hms8-T_H1ImV"
      },
      "source": [
        "Как и предполагалось, в среднем из 3 типов мемов, большее кол-во лайков собирают мемы-картинки, а не мемы в виде видео или анимации. Это можно объяснить тем, что юзеру удобнее(быстрее) посмотреть картинку, и ему не нужно тратить много времени на ее просмотр, поэтому и лайк проще получить картинке. "
      ]
    },
    {
      "cell_type": "markdown",
      "metadata": {
        "id": "m4jZ4ViN_UHW"
      },
      "source": [
        "## Датасет + модель (какой мем какому пользователю зайдет)"
      ]
    },
    {
      "cell_type": "markdown",
      "metadata": {
        "id": "GMd4K4CRJ7ba"
      },
      "source": [
        "* Подготовка данных"
      ]
    },
    {
      "cell_type": "code",
      "metadata": {
        "colab": {
          "base_uri": "https://localhost:8080/",
          "height": 197
        },
        "id": "GNZ4jFPE_jF8",
        "outputId": "8d2a4fa3-6c6f-4089-8a86-ea9ef33a05dd"
      },
      "source": [
        "event.head()"
      ],
      "execution_count": 52,
      "outputs": [
        {
          "output_type": "execute_result",
          "data": {
            "text/html": [
              "<div>\n",
              "<style scoped>\n",
              "    .dataframe tbody tr th:only-of-type {\n",
              "        vertical-align: middle;\n",
              "    }\n",
              "\n",
              "    .dataframe tbody tr th {\n",
              "        vertical-align: top;\n",
              "    }\n",
              "\n",
              "    .dataframe thead th {\n",
              "        text-align: right;\n",
              "    }\n",
              "</style>\n",
              "<table border=\"1\" class=\"dataframe\">\n",
              "  <thead>\n",
              "    <tr style=\"text-align: right;\">\n",
              "      <th></th>\n",
              "      <th>event_id</th>\n",
              "      <th>reaction_id</th>\n",
              "      <th>session_idx</th>\n",
              "      <th>meme_idx</th>\n",
              "      <th>created_at</th>\n",
              "      <th>updated_at</th>\n",
              "      <th>meme_id</th>\n",
              "      <th>user_id</th>\n",
              "    </tr>\n",
              "  </thead>\n",
              "  <tbody>\n",
              "    <tr>\n",
              "      <th>0</th>\n",
              "      <td>3607617</td>\n",
              "      <td>2.0</td>\n",
              "      <td>55</td>\n",
              "      <td>11</td>\n",
              "      <td>2020-10-24 19:45:50.964474+00</td>\n",
              "      <td>2020-10-24 19:45:51.049752+00</td>\n",
              "      <td>24379</td>\n",
              "      <td>280747086</td>\n",
              "    </tr>\n",
              "    <tr>\n",
              "      <th>1</th>\n",
              "      <td>3608100</td>\n",
              "      <td>1.0</td>\n",
              "      <td>280</td>\n",
              "      <td>45</td>\n",
              "      <td>2020-10-24 19:52:33.681933+00</td>\n",
              "      <td>2020-10-24 19:52:33.763993+00</td>\n",
              "      <td>49173</td>\n",
              "      <td>285739883</td>\n",
              "    </tr>\n",
              "    <tr>\n",
              "      <th>2</th>\n",
              "      <td>3607629</td>\n",
              "      <td>1.0</td>\n",
              "      <td>55</td>\n",
              "      <td>13</td>\n",
              "      <td>2020-10-24 19:46:08.690407+00</td>\n",
              "      <td>2020-10-24 19:46:08.779079+00</td>\n",
              "      <td>8340</td>\n",
              "      <td>280747086</td>\n",
              "    </tr>\n",
              "    <tr>\n",
              "      <th>3</th>\n",
              "      <td>3607649</td>\n",
              "      <td>NaN</td>\n",
              "      <td>30</td>\n",
              "      <td>2</td>\n",
              "      <td>2020-10-24 19:46:24.443014+00</td>\n",
              "      <td>2020-10-24 19:46:24.519787+00</td>\n",
              "      <td>64748</td>\n",
              "      <td>78991522</td>\n",
              "    </tr>\n",
              "    <tr>\n",
              "      <th>4</th>\n",
              "      <td>3608045</td>\n",
              "      <td>2.0</td>\n",
              "      <td>35</td>\n",
              "      <td>341</td>\n",
              "      <td>2020-10-24 19:51:28.544856+00</td>\n",
              "      <td>2020-10-24 19:51:28.586788+00</td>\n",
              "      <td>45163</td>\n",
              "      <td>860086058</td>\n",
              "    </tr>\n",
              "  </tbody>\n",
              "</table>\n",
              "</div>"
            ],
            "text/plain": [
              "   event_id  reaction_id  ...  meme_id    user_id\n",
              "0   3607617          2.0  ...    24379  280747086\n",
              "1   3608100          1.0  ...    49173  285739883\n",
              "2   3607629          1.0  ...     8340  280747086\n",
              "3   3607649          NaN  ...    64748   78991522\n",
              "4   3608045          2.0  ...    45163  860086058\n",
              "\n",
              "[5 rows x 8 columns]"
            ]
          },
          "metadata": {
            "tags": []
          },
          "execution_count": 52
        }
      ]
    },
    {
      "cell_type": "code",
      "metadata": {
        "colab": {
          "base_uri": "https://localhost:8080/",
          "height": 281
        },
        "id": "-stkfOwnIf14",
        "outputId": "9d54daa5-fb90-43b3-c41c-e7e98f69f450"
      },
      "source": [
        "meme.head()"
      ],
      "execution_count": 53,
      "outputs": [
        {
          "output_type": "execute_result",
          "data": {
            "text/html": [
              "<div>\n",
              "<style scoped>\n",
              "    .dataframe tbody tr th:only-of-type {\n",
              "        vertical-align: middle;\n",
              "    }\n",
              "\n",
              "    .dataframe tbody tr th {\n",
              "        vertical-align: top;\n",
              "    }\n",
              "\n",
              "    .dataframe thead th {\n",
              "        text-align: right;\n",
              "    }\n",
              "</style>\n",
              "<table border=\"1\" class=\"dataframe\">\n",
              "  <thead>\n",
              "    <tr style=\"text-align: right;\">\n",
              "      <th></th>\n",
              "      <th>meme_id</th>\n",
              "      <th>meme_type</th>\n",
              "      <th>source_id</th>\n",
              "      <th>published_at</th>\n",
              "      <th>caption</th>\n",
              "      <th>content_lang</th>\n",
              "      <th>is_available</th>\n",
              "      <th>likes</th>\n",
              "      <th>dislikes</th>\n",
              "      <th>created_at</th>\n",
              "      <th>updated_at</th>\n",
              "      <th>is_broken</th>\n",
              "      <th>content_text</th>\n",
              "      <th>caption_lang</th>\n",
              "      <th>language_id</th>\n",
              "    </tr>\n",
              "  </thead>\n",
              "  <tbody>\n",
              "    <tr>\n",
              "      <th>0</th>\n",
              "      <td>28997</td>\n",
              "      <td>photo</td>\n",
              "      <td>79.0</td>\n",
              "      <td>2020-04-12 01:48:13+00</td>\n",
              "      <td>I mean shitt it ain't their fault</td>\n",
              "      <td>en</td>\n",
              "      <td>True</td>\n",
              "      <td>17</td>\n",
              "      <td>14</td>\n",
              "      <td>2020-04-12 09:04:37.341908+00</td>\n",
              "      <td>2020-10-26 19:20:58.198825+00</td>\n",
              "      <td>False</td>\n",
              "      <td>brandon @brndvx females live on recruit diffic...</td>\n",
              "      <td>en</td>\n",
              "      <td>3.0</td>\n",
              "    </tr>\n",
              "    <tr>\n",
              "      <th>1</th>\n",
              "      <td>10873</td>\n",
              "      <td>photo</td>\n",
              "      <td>43.0</td>\n",
              "      <td>2020-03-25 11:48:14+00</td>\n",
              "      <td>NaN</td>\n",
              "      <td>ru</td>\n",
              "      <td>True</td>\n",
              "      <td>79</td>\n",
              "      <td>74</td>\n",
              "      <td>2020-03-25 20:00:01.154096+00</td>\n",
              "      <td>2020-10-26 19:20:58.226846+00</td>\n",
              "      <td>False</td>\n",
              "      <td>Я не робот Докажите, что всякое односвязное Ит...</td>\n",
              "      <td>ww</td>\n",
              "      <td>2.0</td>\n",
              "    </tr>\n",
              "    <tr>\n",
              "      <th>2</th>\n",
              "      <td>9874</td>\n",
              "      <td>photo</td>\n",
              "      <td>78.0</td>\n",
              "      <td>2020-03-24 07:18:03+00</td>\n",
              "      <td>Anime toddies expert</td>\n",
              "      <td>en</td>\n",
              "      <td>True</td>\n",
              "      <td>1</td>\n",
              "      <td>7</td>\n",
              "      <td>2020-03-24 13:06:18.588359+00</td>\n",
              "      <td>2020-10-26 19:20:58.259045+00</td>\n",
              "      <td>False</td>\n",
              "      <td>When you find the actual interview and it does...</td>\n",
              "      <td>en</td>\n",
              "      <td>3.0</td>\n",
              "    </tr>\n",
              "    <tr>\n",
              "      <th>3</th>\n",
              "      <td>43458</td>\n",
              "      <td>photo</td>\n",
              "      <td>43.0</td>\n",
              "      <td>2020-05-23 12:50:52+00</td>\n",
              "      <td>NaN</td>\n",
              "      <td>ru</td>\n",
              "      <td>False</td>\n",
              "      <td>8</td>\n",
              "      <td>12</td>\n",
              "      <td>2020-05-24 22:03:34.926116+00</td>\n",
              "      <td>2020-10-26 19:20:58.265179+00</td>\n",
              "      <td>False</td>\n",
              "      <td>Google сколько калорий в грамме урана а Все В ...</td>\n",
              "      <td>ww</td>\n",
              "      <td>2.0</td>\n",
              "    </tr>\n",
              "    <tr>\n",
              "      <th>4</th>\n",
              "      <td>9000</td>\n",
              "      <td>photo</td>\n",
              "      <td>76.0</td>\n",
              "      <td>2020-03-23 07:16:05+00</td>\n",
              "      <td>New treasure</td>\n",
              "      <td>und</td>\n",
              "      <td>True</td>\n",
              "      <td>2</td>\n",
              "      <td>9</td>\n",
              "      <td>2020-03-23 13:04:55.258554+00</td>\n",
              "      <td>2020-10-26 19:20:58.29742+00</td>\n",
              "      <td>False</td>\n",
              "      <td>YRO .20.</td>\n",
              "      <td>en</td>\n",
              "      <td>3.0</td>\n",
              "    </tr>\n",
              "  </tbody>\n",
              "</table>\n",
              "</div>"
            ],
            "text/plain": [
              "   meme_id meme_type  ...  caption_lang language_id\n",
              "0    28997     photo  ...            en         3.0\n",
              "1    10873     photo  ...            ww         2.0\n",
              "2     9874     photo  ...            en         3.0\n",
              "3    43458     photo  ...            ww         2.0\n",
              "4     9000     photo  ...            en         3.0\n",
              "\n",
              "[5 rows x 15 columns]"
            ]
          },
          "metadata": {
            "tags": []
          },
          "execution_count": 53
        }
      ]
    },
    {
      "cell_type": "code",
      "metadata": {
        "colab": {
          "base_uri": "https://localhost:8080/",
          "height": 197
        },
        "id": "nk0UJ-RdIis6",
        "outputId": "6f375366-fa1a-49f3-c833-862b5fc8bb8b"
      },
      "source": [
        "user.head()"
      ],
      "execution_count": 54,
      "outputs": [
        {
          "output_type": "execute_result",
          "data": {
            "text/html": [
              "<div>\n",
              "<style scoped>\n",
              "    .dataframe tbody tr th:only-of-type {\n",
              "        vertical-align: middle;\n",
              "    }\n",
              "\n",
              "    .dataframe tbody tr th {\n",
              "        vertical-align: top;\n",
              "    }\n",
              "\n",
              "    .dataframe thead th {\n",
              "        text-align: right;\n",
              "    }\n",
              "</style>\n",
              "<table border=\"1\" class=\"dataframe\">\n",
              "  <thead>\n",
              "    <tr style=\"text-align: right;\">\n",
              "      <th></th>\n",
              "      <th>user_id</th>\n",
              "      <th>deep_link</th>\n",
              "      <th>is_blocked_bot</th>\n",
              "      <th>is_banned</th>\n",
              "      <th>is_moderator</th>\n",
              "      <th>sessions</th>\n",
              "      <th>last_session_memes</th>\n",
              "      <th>watched_memes</th>\n",
              "      <th>created_at</th>\n",
              "      <th>updated_at</th>\n",
              "      <th>interface_lang</th>\n",
              "      <th>gender</th>\n",
              "    </tr>\n",
              "  </thead>\n",
              "  <tbody>\n",
              "    <tr>\n",
              "      <th>0</th>\n",
              "      <td>820326025</td>\n",
              "      <td>anime0ch_lang_ru</td>\n",
              "      <td>False</td>\n",
              "      <td>False</td>\n",
              "      <td>False</td>\n",
              "      <td>6</td>\n",
              "      <td>1</td>\n",
              "      <td>20</td>\n",
              "      <td>2020-09-12 20:07:11.668743+00</td>\n",
              "      <td>2020-10-26 12:16:18.458654+00</td>\n",
              "      <td>ru</td>\n",
              "      <td>M</td>\n",
              "    </tr>\n",
              "    <tr>\n",
              "      <th>1</th>\n",
              "      <td>1040875164</td>\n",
              "      <td>likemeupbot_lang_en</td>\n",
              "      <td>False</td>\n",
              "      <td>False</td>\n",
              "      <td>False</td>\n",
              "      <td>2</td>\n",
              "      <td>1</td>\n",
              "      <td>7</td>\n",
              "      <td>2020-07-21 05:54:12.671036+00</td>\n",
              "      <td>2020-10-26 14:37:05.637591+00</td>\n",
              "      <td>en</td>\n",
              "      <td>NaN</td>\n",
              "    </tr>\n",
              "    <tr>\n",
              "      <th>2</th>\n",
              "      <td>449432539</td>\n",
              "      <td>debil_ebaniy</td>\n",
              "      <td>True</td>\n",
              "      <td>False</td>\n",
              "      <td>False</td>\n",
              "      <td>2</td>\n",
              "      <td>1</td>\n",
              "      <td>9</td>\n",
              "      <td>2020-09-14 19:02:06.80911+00</td>\n",
              "      <td>2020-10-17 21:26:52.029824+00</td>\n",
              "      <td>ru</td>\n",
              "      <td>F</td>\n",
              "    </tr>\n",
              "    <tr>\n",
              "      <th>3</th>\n",
              "      <td>230248850</td>\n",
              "      <td>NaN</td>\n",
              "      <td>False</td>\n",
              "      <td>False</td>\n",
              "      <td>False</td>\n",
              "      <td>26</td>\n",
              "      <td>1</td>\n",
              "      <td>38</td>\n",
              "      <td>2020-03-16 00:36:42.252438+00</td>\n",
              "      <td>2020-10-26 12:11:02.159405+00</td>\n",
              "      <td>ru</td>\n",
              "      <td>M</td>\n",
              "    </tr>\n",
              "    <tr>\n",
              "      <th>4</th>\n",
              "      <td>7719424</td>\n",
              "      <td>NaN</td>\n",
              "      <td>True</td>\n",
              "      <td>False</td>\n",
              "      <td>False</td>\n",
              "      <td>27</td>\n",
              "      <td>6</td>\n",
              "      <td>49</td>\n",
              "      <td>2020-03-15 22:30:45.300242+00</td>\n",
              "      <td>2020-10-17 21:26:52.19941+00</td>\n",
              "      <td>ru</td>\n",
              "      <td>M</td>\n",
              "    </tr>\n",
              "  </tbody>\n",
              "</table>\n",
              "</div>"
            ],
            "text/plain": [
              "      user_id            deep_link  ...  interface_lang  gender\n",
              "0   820326025     anime0ch_lang_ru  ...              ru       M\n",
              "1  1040875164  likemeupbot_lang_en  ...              en     NaN\n",
              "2   449432539         debil_ebaniy  ...              ru       F\n",
              "3   230248850                  NaN  ...              ru       M\n",
              "4     7719424                  NaN  ...              ru       M\n",
              "\n",
              "[5 rows x 12 columns]"
            ]
          },
          "metadata": {
            "tags": []
          },
          "execution_count": 54
        }
      ]
    },
    {
      "cell_type": "code",
      "metadata": {
        "id": "DU0gFK30IklI"
      },
      "source": [
        "# Создал копии датасетов, чтобы не изменять начальные файлы\r\n",
        "event_df = event.copy()\r\n",
        "meme_df = meme.copy()\r\n",
        "user_df = user.copy()"
      ],
      "execution_count": 55,
      "outputs": []
    },
    {
      "cell_type": "code",
      "metadata": {
        "id": "CyQqIKr6Iwpf"
      },
      "source": [
        "#Удаление данных, которые неинформативны в рамках исследования\r\n",
        "event_df.drop(['session_idx', 'meme_idx', 'created_at', 'updated_at', 'event_id'], axis = 1, inplace = True)"
      ],
      "execution_count": 56,
      "outputs": []
    },
    {
      "cell_type": "code",
      "metadata": {
        "colab": {
          "base_uri": "https://localhost:8080/"
        },
        "id": "oLykg4DUJiOd",
        "outputId": "913f831f-fc8d-4896-9730-f371ff98c2b7"
      },
      "source": [
        "meme_df.columns"
      ],
      "execution_count": 57,
      "outputs": [
        {
          "output_type": "execute_result",
          "data": {
            "text/plain": [
              "Index(['meme_id', 'meme_type', 'source_id', 'published_at', 'caption',\n",
              "       'content_lang', 'is_available', 'likes', 'dislikes', 'created_at',\n",
              "       'updated_at', 'is_broken', 'content_text', 'caption_lang',\n",
              "       'language_id'],\n",
              "      dtype='object')"
            ]
          },
          "metadata": {
            "tags": []
          },
          "execution_count": 57
        }
      ]
    },
    {
      "cell_type": "code",
      "metadata": {
        "id": "j2nyJdLkJiht"
      },
      "source": [
        "#Удаление данных, которые неинформативны в рамках исследования\r\n",
        "meme_df.drop(['published_at', 'caption','created_at', 'updated_at','content_text'], axis = 1, inplace = True)"
      ],
      "execution_count": 58,
      "outputs": []
    },
    {
      "cell_type": "code",
      "metadata": {
        "colab": {
          "base_uri": "https://localhost:8080/"
        },
        "id": "kxjAaih-Jie_",
        "outputId": "0f842974-f62e-47ab-b65d-8d62badc8424"
      },
      "source": [
        "user_df.columns"
      ],
      "execution_count": 59,
      "outputs": [
        {
          "output_type": "execute_result",
          "data": {
            "text/plain": [
              "Index(['user_id', 'deep_link', 'is_blocked_bot', 'is_banned', 'is_moderator',\n",
              "       'sessions', 'last_session_memes', 'watched_memes', 'created_at',\n",
              "       'updated_at', 'interface_lang', 'gender'],\n",
              "      dtype='object')"
            ]
          },
          "metadata": {
            "tags": []
          },
          "execution_count": 59
        }
      ]
    },
    {
      "cell_type": "markdown",
      "metadata": {
        "id": "gezcvdNSVb12"
      },
      "source": [
        "### Работа с user_df"
      ]
    },
    {
      "cell_type": "code",
      "metadata": {
        "id": "LSjsmD5xJ6OY"
      },
      "source": [
        "#Удаление данных, которые неинформативны в рамках исследования (тут хотел бы отметить, что поле gender не хотелось удалять, но по нему нет данных по большинству записей, поэтому был вынужден удалить это поле)\r\n",
        "user_df.drop(['deep_link','last_session_memes', 'created_at', 'updated_at', 'is_banned','is_moderator', 'gender', 'is_blocked_bot'], axis = 1, inplace = True)"
      ],
      "execution_count": 60,
      "outputs": []
    },
    {
      "cell_type": "code",
      "metadata": {
        "id": "Hese8yOjOjkE"
      },
      "source": [
        "user_df.interface_lang.replace({'en':1, 'ru':0}, inplace = True) # 1 если интерфейс английский, 0 если русский"
      ],
      "execution_count": 61,
      "outputs": []
    },
    {
      "cell_type": "code",
      "metadata": {
        "colab": {
          "base_uri": "https://localhost:8080/"
        },
        "id": "9KrgRYV2T1vt",
        "outputId": "6b6866ee-519d-4762-cec8-82241943fcc3"
      },
      "source": [
        "user_df.interface_lang.value_counts() # ~75% используют русский интерфейс"
      ],
      "execution_count": 62,
      "outputs": [
        {
          "output_type": "execute_result",
          "data": {
            "text/plain": [
              "0.0    14156\n",
              "1.0     5714\n",
              "Name: interface_lang, dtype: int64"
            ]
          },
          "metadata": {
            "tags": []
          },
          "execution_count": 62
        }
      ]
    },
    {
      "cell_type": "code",
      "metadata": {
        "colab": {
          "base_uri": "https://localhost:8080/"
        },
        "id": "vM_mg4dyTyXi",
        "outputId": "9f24eb99-76bf-498d-e24a-7bea398c7ef7"
      },
      "source": [
        "user_df.isna().sum()"
      ],
      "execution_count": 63,
      "outputs": [
        {
          "output_type": "execute_result",
          "data": {
            "text/plain": [
              "user_id            0\n",
              "sessions           0\n",
              "watched_memes      0\n",
              "interface_lang    48\n",
              "dtype: int64"
            ]
          },
          "metadata": {
            "tags": []
          },
          "execution_count": 63
        }
      ]
    },
    {
      "cell_type": "code",
      "metadata": {
        "colab": {
          "base_uri": "https://localhost:8080/"
        },
        "id": "UJVJLHQ9UoEm",
        "outputId": "7ca2bb00-c647-4ea0-9a15-a30b4d90cf99"
      },
      "source": [
        "# Конечно, 48 nan можно было запихнуть в любую категорию, т.к. малое число пропусков, но захотел распределить пропорционально\r\n",
        "import random\r\n",
        "nans = user_df['interface_lang'].isna()\r\n",
        "length = sum(nans)\r\n",
        "replacement = random.choices([0, 1], weights=[.75, .25], k=length)\r\n",
        "user_df.loc[nans,'interface_lang'] = replacement\r\n",
        "user_df.isna().sum()"
      ],
      "execution_count": 64,
      "outputs": [
        {
          "output_type": "execute_result",
          "data": {
            "text/plain": [
              "user_id           0\n",
              "sessions          0\n",
              "watched_memes     0\n",
              "interface_lang    0\n",
              "dtype: int64"
            ]
          },
          "metadata": {
            "tags": []
          },
          "execution_count": 64
        }
      ]
    },
    {
      "cell_type": "code",
      "metadata": {
        "colab": {
          "base_uri": "https://localhost:8080/"
        },
        "id": "F5I6hgL8VFjp",
        "outputId": "b277d2ad-34d0-4eb8-b30f-63ae8b0561b1"
      },
      "source": [
        "user_df.interface_lang.value_counts() # Не получилось :)"
      ],
      "execution_count": 65,
      "outputs": [
        {
          "output_type": "execute_result",
          "data": {
            "text/plain": [
              "0.0    14198\n",
              "1.0     5720\n",
              "Name: interface_lang, dtype: int64"
            ]
          },
          "metadata": {
            "tags": []
          },
          "execution_count": 65
        }
      ]
    },
    {
      "cell_type": "code",
      "metadata": {
        "colab": {
          "base_uri": "https://localhost:8080/",
          "height": 197
        },
        "id": "R6HK25ZUQ60B",
        "outputId": "331531b4-97be-4299-9aa0-7ccb537fe911"
      },
      "source": [
        "user_df.head() # отформатированный датасэт"
      ],
      "execution_count": 66,
      "outputs": [
        {
          "output_type": "execute_result",
          "data": {
            "text/html": [
              "<div>\n",
              "<style scoped>\n",
              "    .dataframe tbody tr th:only-of-type {\n",
              "        vertical-align: middle;\n",
              "    }\n",
              "\n",
              "    .dataframe tbody tr th {\n",
              "        vertical-align: top;\n",
              "    }\n",
              "\n",
              "    .dataframe thead th {\n",
              "        text-align: right;\n",
              "    }\n",
              "</style>\n",
              "<table border=\"1\" class=\"dataframe\">\n",
              "  <thead>\n",
              "    <tr style=\"text-align: right;\">\n",
              "      <th></th>\n",
              "      <th>user_id</th>\n",
              "      <th>sessions</th>\n",
              "      <th>watched_memes</th>\n",
              "      <th>interface_lang</th>\n",
              "    </tr>\n",
              "  </thead>\n",
              "  <tbody>\n",
              "    <tr>\n",
              "      <th>0</th>\n",
              "      <td>820326025</td>\n",
              "      <td>6</td>\n",
              "      <td>20</td>\n",
              "      <td>0.0</td>\n",
              "    </tr>\n",
              "    <tr>\n",
              "      <th>1</th>\n",
              "      <td>1040875164</td>\n",
              "      <td>2</td>\n",
              "      <td>7</td>\n",
              "      <td>1.0</td>\n",
              "    </tr>\n",
              "    <tr>\n",
              "      <th>2</th>\n",
              "      <td>449432539</td>\n",
              "      <td>2</td>\n",
              "      <td>9</td>\n",
              "      <td>0.0</td>\n",
              "    </tr>\n",
              "    <tr>\n",
              "      <th>3</th>\n",
              "      <td>230248850</td>\n",
              "      <td>26</td>\n",
              "      <td>38</td>\n",
              "      <td>0.0</td>\n",
              "    </tr>\n",
              "    <tr>\n",
              "      <th>4</th>\n",
              "      <td>7719424</td>\n",
              "      <td>27</td>\n",
              "      <td>49</td>\n",
              "      <td>0.0</td>\n",
              "    </tr>\n",
              "  </tbody>\n",
              "</table>\n",
              "</div>"
            ],
            "text/plain": [
              "      user_id  sessions  watched_memes  interface_lang\n",
              "0   820326025         6             20             0.0\n",
              "1  1040875164         2              7             1.0\n",
              "2   449432539         2              9             0.0\n",
              "3   230248850        26             38             0.0\n",
              "4     7719424        27             49             0.0"
            ]
          },
          "metadata": {
            "tags": []
          },
          "execution_count": 66
        }
      ]
    },
    {
      "cell_type": "markdown",
      "metadata": {
        "id": "qVwHIdJSVeqZ"
      },
      "source": [
        "### Работа с event_df"
      ]
    },
    {
      "cell_type": "code",
      "metadata": {
        "colab": {
          "base_uri": "https://localhost:8080/",
          "height": 197
        },
        "id": "w3LewgpFRvEO",
        "outputId": "da20bd70-490c-4984-95ad-acb9937c86ec"
      },
      "source": [
        "event_df.head()"
      ],
      "execution_count": 67,
      "outputs": [
        {
          "output_type": "execute_result",
          "data": {
            "text/html": [
              "<div>\n",
              "<style scoped>\n",
              "    .dataframe tbody tr th:only-of-type {\n",
              "        vertical-align: middle;\n",
              "    }\n",
              "\n",
              "    .dataframe tbody tr th {\n",
              "        vertical-align: top;\n",
              "    }\n",
              "\n",
              "    .dataframe thead th {\n",
              "        text-align: right;\n",
              "    }\n",
              "</style>\n",
              "<table border=\"1\" class=\"dataframe\">\n",
              "  <thead>\n",
              "    <tr style=\"text-align: right;\">\n",
              "      <th></th>\n",
              "      <th>reaction_id</th>\n",
              "      <th>meme_id</th>\n",
              "      <th>user_id</th>\n",
              "    </tr>\n",
              "  </thead>\n",
              "  <tbody>\n",
              "    <tr>\n",
              "      <th>0</th>\n",
              "      <td>2.0</td>\n",
              "      <td>24379</td>\n",
              "      <td>280747086</td>\n",
              "    </tr>\n",
              "    <tr>\n",
              "      <th>1</th>\n",
              "      <td>1.0</td>\n",
              "      <td>49173</td>\n",
              "      <td>285739883</td>\n",
              "    </tr>\n",
              "    <tr>\n",
              "      <th>2</th>\n",
              "      <td>1.0</td>\n",
              "      <td>8340</td>\n",
              "      <td>280747086</td>\n",
              "    </tr>\n",
              "    <tr>\n",
              "      <th>3</th>\n",
              "      <td>NaN</td>\n",
              "      <td>64748</td>\n",
              "      <td>78991522</td>\n",
              "    </tr>\n",
              "    <tr>\n",
              "      <th>4</th>\n",
              "      <td>2.0</td>\n",
              "      <td>45163</td>\n",
              "      <td>860086058</td>\n",
              "    </tr>\n",
              "  </tbody>\n",
              "</table>\n",
              "</div>"
            ],
            "text/plain": [
              "   reaction_id  meme_id    user_id\n",
              "0          2.0    24379  280747086\n",
              "1          1.0    49173  285739883\n",
              "2          1.0     8340  280747086\n",
              "3          NaN    64748   78991522\n",
              "4          2.0    45163  860086058"
            ]
          },
          "metadata": {
            "tags": []
          },
          "execution_count": 67
        }
      ]
    },
    {
      "cell_type": "code",
      "metadata": {
        "id": "CLv9nmyBSPnr"
      },
      "source": [
        "event_df = event_df.drop(event_df[(event_df.reaction_id == 3) | (event_df.reaction_id == 4) |(event_df.reaction_id == 5) ].index) # Удаление действий админов"
      ],
      "execution_count": 68,
      "outputs": []
    },
    {
      "cell_type": "code",
      "metadata": {
        "colab": {
          "base_uri": "https://localhost:8080/"
        },
        "id": "Q0jW3s7RTgdZ",
        "outputId": "b6212347-8f87-4d7f-e80d-9a5151f451f3"
      },
      "source": [
        "event_df.isna().sum()"
      ],
      "execution_count": 69,
      "outputs": [
        {
          "output_type": "execute_result",
          "data": {
            "text/plain": [
              "reaction_id    41960\n",
              "meme_id            0\n",
              "user_id            0\n",
              "dtype: int64"
            ]
          },
          "metadata": {
            "tags": []
          },
          "execution_count": 69
        }
      ]
    },
    {
      "cell_type": "code",
      "metadata": {
        "colab": {
          "base_uri": "https://localhost:8080/"
        },
        "id": "dTUxn8t8VaB8",
        "outputId": "3a04dc69-46c0-4329-a181-673b9bedcb52"
      },
      "source": [
        "event_df.reaction_id.value_counts()"
      ],
      "execution_count": 70,
      "outputs": [
        {
          "output_type": "execute_result",
          "data": {
            "text/plain": [
              "1.0    1866242\n",
              "2.0    1611488\n",
              "Name: reaction_id, dtype: int64"
            ]
          },
          "metadata": {
            "tags": []
          },
          "execution_count": 70
        }
      ]
    },
    {
      "cell_type": "code",
      "metadata": {
        "colab": {
          "base_uri": "https://localhost:8080/"
        },
        "id": "O58HkAVIVrMq",
        "outputId": "9d94e585-55b1-4c08-fb5f-df6e8cb36e7b"
      },
      "source": [
        "nans = event_df['reaction_id'].isna()  # пропорциональное распределение лайков/дизлайков по nan значениям\r\n",
        "length = sum(nans)\r\n",
        "replacement = random.choices([1, 2], weights=[.5, .5], k=length)\r\n",
        "event_df.loc[nans,'reaction_id'] = replacement\r\n",
        "event_df.isna().sum()"
      ],
      "execution_count": 71,
      "outputs": [
        {
          "output_type": "execute_result",
          "data": {
            "text/plain": [
              "reaction_id    0\n",
              "meme_id        0\n",
              "user_id        0\n",
              "dtype: int64"
            ]
          },
          "metadata": {
            "tags": []
          },
          "execution_count": 71
        }
      ]
    },
    {
      "cell_type": "code",
      "metadata": {
        "colab": {
          "base_uri": "https://localhost:8080/"
        },
        "id": "BfUbs7lOWrGA",
        "outputId": "f5f82cde-3545-438e-f4d1-a90e63dec31f"
      },
      "source": [
        "event_df.reaction_id.value_counts()"
      ],
      "execution_count": 72,
      "outputs": [
        {
          "output_type": "execute_result",
          "data": {
            "text/plain": [
              "1.0    1887371\n",
              "2.0    1632319\n",
              "Name: reaction_id, dtype: int64"
            ]
          },
          "metadata": {
            "tags": []
          },
          "execution_count": 72
        }
      ]
    },
    {
      "cell_type": "code",
      "metadata": {
        "colab": {
          "base_uri": "https://localhost:8080/",
          "height": 197
        },
        "id": "WuWmZ6DGW7ZF",
        "outputId": "7c8da5cf-80fe-497c-e49f-0b89c8a11656"
      },
      "source": [
        "event_df.head() # отформатированный датасэт"
      ],
      "execution_count": 73,
      "outputs": [
        {
          "output_type": "execute_result",
          "data": {
            "text/html": [
              "<div>\n",
              "<style scoped>\n",
              "    .dataframe tbody tr th:only-of-type {\n",
              "        vertical-align: middle;\n",
              "    }\n",
              "\n",
              "    .dataframe tbody tr th {\n",
              "        vertical-align: top;\n",
              "    }\n",
              "\n",
              "    .dataframe thead th {\n",
              "        text-align: right;\n",
              "    }\n",
              "</style>\n",
              "<table border=\"1\" class=\"dataframe\">\n",
              "  <thead>\n",
              "    <tr style=\"text-align: right;\">\n",
              "      <th></th>\n",
              "      <th>reaction_id</th>\n",
              "      <th>meme_id</th>\n",
              "      <th>user_id</th>\n",
              "    </tr>\n",
              "  </thead>\n",
              "  <tbody>\n",
              "    <tr>\n",
              "      <th>0</th>\n",
              "      <td>2.0</td>\n",
              "      <td>24379</td>\n",
              "      <td>280747086</td>\n",
              "    </tr>\n",
              "    <tr>\n",
              "      <th>1</th>\n",
              "      <td>1.0</td>\n",
              "      <td>49173</td>\n",
              "      <td>285739883</td>\n",
              "    </tr>\n",
              "    <tr>\n",
              "      <th>2</th>\n",
              "      <td>1.0</td>\n",
              "      <td>8340</td>\n",
              "      <td>280747086</td>\n",
              "    </tr>\n",
              "    <tr>\n",
              "      <th>3</th>\n",
              "      <td>2.0</td>\n",
              "      <td>64748</td>\n",
              "      <td>78991522</td>\n",
              "    </tr>\n",
              "    <tr>\n",
              "      <th>4</th>\n",
              "      <td>2.0</td>\n",
              "      <td>45163</td>\n",
              "      <td>860086058</td>\n",
              "    </tr>\n",
              "  </tbody>\n",
              "</table>\n",
              "</div>"
            ],
            "text/plain": [
              "   reaction_id  meme_id    user_id\n",
              "0          2.0    24379  280747086\n",
              "1          1.0    49173  285739883\n",
              "2          1.0     8340  280747086\n",
              "3          2.0    64748   78991522\n",
              "4          2.0    45163  860086058"
            ]
          },
          "metadata": {
            "tags": []
          },
          "execution_count": 73
        }
      ]
    },
    {
      "cell_type": "markdown",
      "metadata": {
        "id": "XgnPoaqpXA0F"
      },
      "source": [
        "### Работа с meme_df"
      ]
    },
    {
      "cell_type": "code",
      "metadata": {
        "colab": {
          "base_uri": "https://localhost:8080/",
          "height": 197
        },
        "id": "AonAl7veXFpS",
        "outputId": "bd86e18f-2780-432e-962f-703ec7c6e08a"
      },
      "source": [
        "meme_df.head()"
      ],
      "execution_count": 74,
      "outputs": [
        {
          "output_type": "execute_result",
          "data": {
            "text/html": [
              "<div>\n",
              "<style scoped>\n",
              "    .dataframe tbody tr th:only-of-type {\n",
              "        vertical-align: middle;\n",
              "    }\n",
              "\n",
              "    .dataframe tbody tr th {\n",
              "        vertical-align: top;\n",
              "    }\n",
              "\n",
              "    .dataframe thead th {\n",
              "        text-align: right;\n",
              "    }\n",
              "</style>\n",
              "<table border=\"1\" class=\"dataframe\">\n",
              "  <thead>\n",
              "    <tr style=\"text-align: right;\">\n",
              "      <th></th>\n",
              "      <th>meme_id</th>\n",
              "      <th>meme_type</th>\n",
              "      <th>source_id</th>\n",
              "      <th>content_lang</th>\n",
              "      <th>is_available</th>\n",
              "      <th>likes</th>\n",
              "      <th>dislikes</th>\n",
              "      <th>is_broken</th>\n",
              "      <th>caption_lang</th>\n",
              "      <th>language_id</th>\n",
              "    </tr>\n",
              "  </thead>\n",
              "  <tbody>\n",
              "    <tr>\n",
              "      <th>0</th>\n",
              "      <td>28997</td>\n",
              "      <td>photo</td>\n",
              "      <td>79.0</td>\n",
              "      <td>en</td>\n",
              "      <td>True</td>\n",
              "      <td>17</td>\n",
              "      <td>14</td>\n",
              "      <td>False</td>\n",
              "      <td>en</td>\n",
              "      <td>3.0</td>\n",
              "    </tr>\n",
              "    <tr>\n",
              "      <th>1</th>\n",
              "      <td>10873</td>\n",
              "      <td>photo</td>\n",
              "      <td>43.0</td>\n",
              "      <td>ru</td>\n",
              "      <td>True</td>\n",
              "      <td>79</td>\n",
              "      <td>74</td>\n",
              "      <td>False</td>\n",
              "      <td>ww</td>\n",
              "      <td>2.0</td>\n",
              "    </tr>\n",
              "    <tr>\n",
              "      <th>2</th>\n",
              "      <td>9874</td>\n",
              "      <td>photo</td>\n",
              "      <td>78.0</td>\n",
              "      <td>en</td>\n",
              "      <td>True</td>\n",
              "      <td>1</td>\n",
              "      <td>7</td>\n",
              "      <td>False</td>\n",
              "      <td>en</td>\n",
              "      <td>3.0</td>\n",
              "    </tr>\n",
              "    <tr>\n",
              "      <th>3</th>\n",
              "      <td>43458</td>\n",
              "      <td>photo</td>\n",
              "      <td>43.0</td>\n",
              "      <td>ru</td>\n",
              "      <td>False</td>\n",
              "      <td>8</td>\n",
              "      <td>12</td>\n",
              "      <td>False</td>\n",
              "      <td>ww</td>\n",
              "      <td>2.0</td>\n",
              "    </tr>\n",
              "    <tr>\n",
              "      <th>4</th>\n",
              "      <td>9000</td>\n",
              "      <td>photo</td>\n",
              "      <td>76.0</td>\n",
              "      <td>und</td>\n",
              "      <td>True</td>\n",
              "      <td>2</td>\n",
              "      <td>9</td>\n",
              "      <td>False</td>\n",
              "      <td>en</td>\n",
              "      <td>3.0</td>\n",
              "    </tr>\n",
              "  </tbody>\n",
              "</table>\n",
              "</div>"
            ],
            "text/plain": [
              "   meme_id meme_type  source_id  ... is_broken  caption_lang  language_id\n",
              "0    28997     photo       79.0  ...     False            en          3.0\n",
              "1    10873     photo       43.0  ...     False            ww          2.0\n",
              "2     9874     photo       78.0  ...     False            en          3.0\n",
              "3    43458     photo       43.0  ...     False            ww          2.0\n",
              "4     9000     photo       76.0  ...     False            en          3.0\n",
              "\n",
              "[5 rows x 10 columns]"
            ]
          },
          "metadata": {
            "tags": []
          },
          "execution_count": 74
        }
      ]
    },
    {
      "cell_type": "code",
      "metadata": {
        "colab": {
          "base_uri": "https://localhost:8080/"
        },
        "id": "YHMACYPOXKdm",
        "outputId": "68654e6e-26fb-48a3-d3b7-0d9708b0e791"
      },
      "source": [
        "meme_df.drop(['content_lang', 'caption_lang', 'is_broken'], axis = 1, inplace = True)\r\n",
        "meme_df.is_available.value_counts()"
      ],
      "execution_count": 75,
      "outputs": [
        {
          "output_type": "execute_result",
          "data": {
            "text/plain": [
              "True     42837\n",
              "False    18679\n",
              "Name: is_available, dtype: int64"
            ]
          },
          "metadata": {
            "tags": []
          },
          "execution_count": 75
        }
      ]
    },
    {
      "cell_type": "code",
      "metadata": {
        "colab": {
          "base_uri": "https://localhost:8080/"
        },
        "id": "uSAD3Wvlcp5M",
        "outputId": "677aae41-9f75-4de9-aa1e-cc9df5390ea5"
      },
      "source": [
        "meme_df.isna().sum()"
      ],
      "execution_count": 76,
      "outputs": [
        {
          "output_type": "execute_result",
          "data": {
            "text/plain": [
              "meme_id            0\n",
              "meme_type          0\n",
              "source_id       1877\n",
              "is_available       0\n",
              "likes              0\n",
              "dislikes           0\n",
              "language_id      297\n",
              "dtype: int64"
            ]
          },
          "metadata": {
            "tags": []
          },
          "execution_count": 76
        }
      ]
    },
    {
      "cell_type": "code",
      "metadata": {
        "id": "LlzrWYGWegPg"
      },
      "source": [
        "meme_df = pd.get_dummies(meme_df, columns = ['meme_type'])"
      ],
      "execution_count": 77,
      "outputs": []
    },
    {
      "cell_type": "code",
      "metadata": {
        "id": "Ao7-16A9gmLV"
      },
      "source": [
        "result = meme_df['is_available'].astype(int)\r\n",
        "meme_df['is_available'] = result\r\n",
        "del result"
      ],
      "execution_count": 78,
      "outputs": []
    },
    {
      "cell_type": "code",
      "metadata": {
        "colab": {
          "base_uri": "https://localhost:8080/"
        },
        "id": "bKDzsP-tj4lm",
        "outputId": "6f315164-f1a0-4c90-f172-95f6d961d77c"
      },
      "source": [
        "meme_df.source_id.value_counts()"
      ],
      "execution_count": 79,
      "outputs": [
        {
          "output_type": "execute_result",
          "data": {
            "text/plain": [
              "75.0     4885\n",
              "78.0     3815\n",
              "76.0     2648\n",
              "4.0      2508\n",
              "80.0     2471\n",
              "         ... \n",
              "128.0       6\n",
              "93.0        6\n",
              "142.0       6\n",
              "144.0       4\n",
              "107.0       3\n",
              "Name: source_id, Length: 142, dtype: int64"
            ]
          },
          "metadata": {
            "tags": []
          },
          "execution_count": 79
        }
      ]
    },
    {
      "cell_type": "code",
      "metadata": {
        "id": "MQ-i0NfmhqfL"
      },
      "source": [
        "nans = meme_df['source_id'].isna() # пропорциональное распределение источников по nan значениям\r\n",
        "source_ids = meme_df.source_id.unique()\r\n",
        "source_ids = source_ids[np.isnan(source_ids) == False]\r\n",
        "length = sum(nans)\r\n",
        "replacement = random.choices(source_ids, k=length)\r\n",
        "meme_df.loc[nans,'source_id'] = replacement"
      ],
      "execution_count": 80,
      "outputs": []
    },
    {
      "cell_type": "code",
      "metadata": {
        "colab": {
          "base_uri": "https://localhost:8080/"
        },
        "id": "Bm7DMbtwj8Wd",
        "outputId": "a835c3db-3579-412f-d590-33402645ffe3"
      },
      "source": [
        "meme_df.source_id.value_counts()"
      ],
      "execution_count": 81,
      "outputs": [
        {
          "output_type": "execute_result",
          "data": {
            "text/plain": [
              "75.0     4894\n",
              "78.0     3831\n",
              "76.0     2663\n",
              "4.0      2516\n",
              "80.0     2484\n",
              "         ... \n",
              "105.0      20\n",
              "103.0      20\n",
              "144.0      18\n",
              "85.0       16\n",
              "128.0      14\n",
              "Name: source_id, Length: 142, dtype: int64"
            ]
          },
          "metadata": {
            "tags": []
          },
          "execution_count": 81
        }
      ]
    },
    {
      "cell_type": "code",
      "metadata": {
        "colab": {
          "base_uri": "https://localhost:8080/"
        },
        "id": "ul7haj9gjtOs",
        "outputId": "b9063ac6-d820-402c-9b57-4e74861cf36a"
      },
      "source": [
        "meme_df.isna().sum()"
      ],
      "execution_count": 82,
      "outputs": [
        {
          "output_type": "execute_result",
          "data": {
            "text/plain": [
              "meme_id                  0\n",
              "source_id                0\n",
              "is_available             0\n",
              "likes                    0\n",
              "dislikes                 0\n",
              "language_id            297\n",
              "meme_type_animation      0\n",
              "meme_type_photo          0\n",
              "meme_type_video          0\n",
              "dtype: int64"
            ]
          },
          "metadata": {
            "tags": []
          },
          "execution_count": 82
        }
      ]
    },
    {
      "cell_type": "code",
      "metadata": {
        "colab": {
          "base_uri": "https://localhost:8080/"
        },
        "id": "rIv7XUW-lnxH",
        "outputId": "44fc3f06-f0c7-4208-acda-32ce7f620413"
      },
      "source": [
        "meme_df.language_id.value_counts()"
      ],
      "execution_count": 83,
      "outputs": [
        {
          "output_type": "execute_result",
          "data": {
            "text/plain": [
              "3.0    32151\n",
              "2.0    22094\n",
              "1.0     6336\n",
              "4.0      638\n",
              "Name: language_id, dtype: int64"
            ]
          },
          "metadata": {
            "tags": []
          },
          "execution_count": 83
        }
      ]
    },
    {
      "cell_type": "code",
      "metadata": {
        "id": "DD5JGdZTldLy"
      },
      "source": [
        "nans = meme_df['language_id'].isna() # пропорциональное распределение языков по nan значениям\r\n",
        "language_ids = meme_df.language_id.unique()\r\n",
        "language_ids = language_ids[np.isnan(language_ids) == False]\r\n",
        "length = sum(nans)\r\n",
        "replacement = random.choices(language_ids, k=length)\r\n",
        "meme_df.loc[nans,'language_id'] = replacement"
      ],
      "execution_count": 84,
      "outputs": []
    },
    {
      "cell_type": "code",
      "metadata": {
        "colab": {
          "base_uri": "https://localhost:8080/"
        },
        "id": "wVOATll4lrdh",
        "outputId": "2b15aeec-f765-4713-9882-f96e45da60cd"
      },
      "source": [
        "meme_df.language_id.value_counts()"
      ],
      "execution_count": 85,
      "outputs": [
        {
          "output_type": "execute_result",
          "data": {
            "text/plain": [
              "3.0    32236\n",
              "2.0    22163\n",
              "1.0     6398\n",
              "4.0      719\n",
              "Name: language_id, dtype: int64"
            ]
          },
          "metadata": {
            "tags": []
          },
          "execution_count": 85
        }
      ]
    },
    {
      "cell_type": "code",
      "metadata": {
        "colab": {
          "base_uri": "https://localhost:8080/"
        },
        "id": "WLvjgAxblwzc",
        "outputId": "acf33a91-517d-475c-bdcd-ecea2e27333d"
      },
      "source": [
        "meme_df.isna().sum()"
      ],
      "execution_count": 86,
      "outputs": [
        {
          "output_type": "execute_result",
          "data": {
            "text/plain": [
              "meme_id                0\n",
              "source_id              0\n",
              "is_available           0\n",
              "likes                  0\n",
              "dislikes               0\n",
              "language_id            0\n",
              "meme_type_animation    0\n",
              "meme_type_photo        0\n",
              "meme_type_video        0\n",
              "dtype: int64"
            ]
          },
          "metadata": {
            "tags": []
          },
          "execution_count": 86
        }
      ]
    },
    {
      "cell_type": "code",
      "metadata": {
        "colab": {
          "base_uri": "https://localhost:8080/",
          "height": 197
        },
        "id": "jdKQ3CGslyTb",
        "outputId": "c4864516-c091-4e22-9f70-3171e437dcfd"
      },
      "source": [
        "meme_df.head() # готовый датафрейм"
      ],
      "execution_count": 87,
      "outputs": [
        {
          "output_type": "execute_result",
          "data": {
            "text/html": [
              "<div>\n",
              "<style scoped>\n",
              "    .dataframe tbody tr th:only-of-type {\n",
              "        vertical-align: middle;\n",
              "    }\n",
              "\n",
              "    .dataframe tbody tr th {\n",
              "        vertical-align: top;\n",
              "    }\n",
              "\n",
              "    .dataframe thead th {\n",
              "        text-align: right;\n",
              "    }\n",
              "</style>\n",
              "<table border=\"1\" class=\"dataframe\">\n",
              "  <thead>\n",
              "    <tr style=\"text-align: right;\">\n",
              "      <th></th>\n",
              "      <th>meme_id</th>\n",
              "      <th>source_id</th>\n",
              "      <th>is_available</th>\n",
              "      <th>likes</th>\n",
              "      <th>dislikes</th>\n",
              "      <th>language_id</th>\n",
              "      <th>meme_type_animation</th>\n",
              "      <th>meme_type_photo</th>\n",
              "      <th>meme_type_video</th>\n",
              "    </tr>\n",
              "  </thead>\n",
              "  <tbody>\n",
              "    <tr>\n",
              "      <th>0</th>\n",
              "      <td>28997</td>\n",
              "      <td>79.0</td>\n",
              "      <td>1</td>\n",
              "      <td>17</td>\n",
              "      <td>14</td>\n",
              "      <td>3.0</td>\n",
              "      <td>0</td>\n",
              "      <td>1</td>\n",
              "      <td>0</td>\n",
              "    </tr>\n",
              "    <tr>\n",
              "      <th>1</th>\n",
              "      <td>10873</td>\n",
              "      <td>43.0</td>\n",
              "      <td>1</td>\n",
              "      <td>79</td>\n",
              "      <td>74</td>\n",
              "      <td>2.0</td>\n",
              "      <td>0</td>\n",
              "      <td>1</td>\n",
              "      <td>0</td>\n",
              "    </tr>\n",
              "    <tr>\n",
              "      <th>2</th>\n",
              "      <td>9874</td>\n",
              "      <td>78.0</td>\n",
              "      <td>1</td>\n",
              "      <td>1</td>\n",
              "      <td>7</td>\n",
              "      <td>3.0</td>\n",
              "      <td>0</td>\n",
              "      <td>1</td>\n",
              "      <td>0</td>\n",
              "    </tr>\n",
              "    <tr>\n",
              "      <th>3</th>\n",
              "      <td>43458</td>\n",
              "      <td>43.0</td>\n",
              "      <td>0</td>\n",
              "      <td>8</td>\n",
              "      <td>12</td>\n",
              "      <td>2.0</td>\n",
              "      <td>0</td>\n",
              "      <td>1</td>\n",
              "      <td>0</td>\n",
              "    </tr>\n",
              "    <tr>\n",
              "      <th>4</th>\n",
              "      <td>9000</td>\n",
              "      <td>76.0</td>\n",
              "      <td>1</td>\n",
              "      <td>2</td>\n",
              "      <td>9</td>\n",
              "      <td>3.0</td>\n",
              "      <td>0</td>\n",
              "      <td>1</td>\n",
              "      <td>0</td>\n",
              "    </tr>\n",
              "  </tbody>\n",
              "</table>\n",
              "</div>"
            ],
            "text/plain": [
              "   meme_id  source_id  ...  meme_type_photo  meme_type_video\n",
              "0    28997       79.0  ...                1                0\n",
              "1    10873       43.0  ...                1                0\n",
              "2     9874       78.0  ...                1                0\n",
              "3    43458       43.0  ...                1                0\n",
              "4     9000       76.0  ...                1                0\n",
              "\n",
              "[5 rows x 9 columns]"
            ]
          },
          "metadata": {
            "tags": []
          },
          "execution_count": 87
        }
      ]
    },
    {
      "cell_type": "markdown",
      "metadata": {
        "id": "-HNyqrPPbarX"
      },
      "source": [
        "## Объединение датасэтов"
      ]
    },
    {
      "cell_type": "code",
      "metadata": {
        "colab": {
          "base_uri": "https://localhost:8080/",
          "height": 406
        },
        "id": "d4e97XibbisB",
        "outputId": "4d28d0dd-a3b4-4052-bac2-ff0261755b4d"
      },
      "source": [
        "event_df"
      ],
      "execution_count": 93,
      "outputs": [
        {
          "output_type": "execute_result",
          "data": {
            "text/html": [
              "<div>\n",
              "<style scoped>\n",
              "    .dataframe tbody tr th:only-of-type {\n",
              "        vertical-align: middle;\n",
              "    }\n",
              "\n",
              "    .dataframe tbody tr th {\n",
              "        vertical-align: top;\n",
              "    }\n",
              "\n",
              "    .dataframe thead th {\n",
              "        text-align: right;\n",
              "    }\n",
              "</style>\n",
              "<table border=\"1\" class=\"dataframe\">\n",
              "  <thead>\n",
              "    <tr style=\"text-align: right;\">\n",
              "      <th></th>\n",
              "      <th>reaction_id</th>\n",
              "      <th>meme_id</th>\n",
              "      <th>user_id</th>\n",
              "    </tr>\n",
              "  </thead>\n",
              "  <tbody>\n",
              "    <tr>\n",
              "      <th>0</th>\n",
              "      <td>2.0</td>\n",
              "      <td>24379</td>\n",
              "      <td>280747086</td>\n",
              "    </tr>\n",
              "    <tr>\n",
              "      <th>1</th>\n",
              "      <td>1.0</td>\n",
              "      <td>49173</td>\n",
              "      <td>285739883</td>\n",
              "    </tr>\n",
              "    <tr>\n",
              "      <th>2</th>\n",
              "      <td>1.0</td>\n",
              "      <td>8340</td>\n",
              "      <td>280747086</td>\n",
              "    </tr>\n",
              "    <tr>\n",
              "      <th>3</th>\n",
              "      <td>2.0</td>\n",
              "      <td>64748</td>\n",
              "      <td>78991522</td>\n",
              "    </tr>\n",
              "    <tr>\n",
              "      <th>4</th>\n",
              "      <td>2.0</td>\n",
              "      <td>45163</td>\n",
              "      <td>860086058</td>\n",
              "    </tr>\n",
              "    <tr>\n",
              "      <th>...</th>\n",
              "      <td>...</td>\n",
              "      <td>...</td>\n",
              "      <td>...</td>\n",
              "    </tr>\n",
              "    <tr>\n",
              "      <th>3652698</th>\n",
              "      <td>2.0</td>\n",
              "      <td>53209</td>\n",
              "      <td>860086058</td>\n",
              "    </tr>\n",
              "    <tr>\n",
              "      <th>3652699</th>\n",
              "      <td>2.0</td>\n",
              "      <td>54890</td>\n",
              "      <td>381510059</td>\n",
              "    </tr>\n",
              "    <tr>\n",
              "      <th>3652700</th>\n",
              "      <td>2.0</td>\n",
              "      <td>38116</td>\n",
              "      <td>285739883</td>\n",
              "    </tr>\n",
              "    <tr>\n",
              "      <th>3652701</th>\n",
              "      <td>1.0</td>\n",
              "      <td>10188</td>\n",
              "      <td>245482</td>\n",
              "    </tr>\n",
              "    <tr>\n",
              "      <th>3652702</th>\n",
              "      <td>2.0</td>\n",
              "      <td>13534</td>\n",
              "      <td>1023088184</td>\n",
              "    </tr>\n",
              "  </tbody>\n",
              "</table>\n",
              "<p>3519690 rows × 3 columns</p>\n",
              "</div>"
            ],
            "text/plain": [
              "         reaction_id  meme_id     user_id\n",
              "0                2.0    24379   280747086\n",
              "1                1.0    49173   285739883\n",
              "2                1.0     8340   280747086\n",
              "3                2.0    64748    78991522\n",
              "4                2.0    45163   860086058\n",
              "...              ...      ...         ...\n",
              "3652698          2.0    53209   860086058\n",
              "3652699          2.0    54890   381510059\n",
              "3652700          2.0    38116   285739883\n",
              "3652701          1.0    10188      245482\n",
              "3652702          2.0    13534  1023088184\n",
              "\n",
              "[3519690 rows x 3 columns]"
            ]
          },
          "metadata": {
            "tags": []
          },
          "execution_count": 93
        }
      ]
    },
    {
      "cell_type": "code",
      "metadata": {
        "colab": {
          "base_uri": "https://localhost:8080/",
          "height": 197
        },
        "id": "Cu5v0hIBbndN",
        "outputId": "6ed6df73-dd45-492f-e49e-1ea01615138c"
      },
      "source": [
        "meme_df.head()"
      ],
      "execution_count": 89,
      "outputs": [
        {
          "output_type": "execute_result",
          "data": {
            "text/html": [
              "<div>\n",
              "<style scoped>\n",
              "    .dataframe tbody tr th:only-of-type {\n",
              "        vertical-align: middle;\n",
              "    }\n",
              "\n",
              "    .dataframe tbody tr th {\n",
              "        vertical-align: top;\n",
              "    }\n",
              "\n",
              "    .dataframe thead th {\n",
              "        text-align: right;\n",
              "    }\n",
              "</style>\n",
              "<table border=\"1\" class=\"dataframe\">\n",
              "  <thead>\n",
              "    <tr style=\"text-align: right;\">\n",
              "      <th></th>\n",
              "      <th>meme_id</th>\n",
              "      <th>source_id</th>\n",
              "      <th>is_available</th>\n",
              "      <th>likes</th>\n",
              "      <th>dislikes</th>\n",
              "      <th>language_id</th>\n",
              "      <th>meme_type_animation</th>\n",
              "      <th>meme_type_photo</th>\n",
              "      <th>meme_type_video</th>\n",
              "    </tr>\n",
              "  </thead>\n",
              "  <tbody>\n",
              "    <tr>\n",
              "      <th>0</th>\n",
              "      <td>28997</td>\n",
              "      <td>79.0</td>\n",
              "      <td>1</td>\n",
              "      <td>17</td>\n",
              "      <td>14</td>\n",
              "      <td>3.0</td>\n",
              "      <td>0</td>\n",
              "      <td>1</td>\n",
              "      <td>0</td>\n",
              "    </tr>\n",
              "    <tr>\n",
              "      <th>1</th>\n",
              "      <td>10873</td>\n",
              "      <td>43.0</td>\n",
              "      <td>1</td>\n",
              "      <td>79</td>\n",
              "      <td>74</td>\n",
              "      <td>2.0</td>\n",
              "      <td>0</td>\n",
              "      <td>1</td>\n",
              "      <td>0</td>\n",
              "    </tr>\n",
              "    <tr>\n",
              "      <th>2</th>\n",
              "      <td>9874</td>\n",
              "      <td>78.0</td>\n",
              "      <td>1</td>\n",
              "      <td>1</td>\n",
              "      <td>7</td>\n",
              "      <td>3.0</td>\n",
              "      <td>0</td>\n",
              "      <td>1</td>\n",
              "      <td>0</td>\n",
              "    </tr>\n",
              "    <tr>\n",
              "      <th>3</th>\n",
              "      <td>43458</td>\n",
              "      <td>43.0</td>\n",
              "      <td>0</td>\n",
              "      <td>8</td>\n",
              "      <td>12</td>\n",
              "      <td>2.0</td>\n",
              "      <td>0</td>\n",
              "      <td>1</td>\n",
              "      <td>0</td>\n",
              "    </tr>\n",
              "    <tr>\n",
              "      <th>4</th>\n",
              "      <td>9000</td>\n",
              "      <td>76.0</td>\n",
              "      <td>1</td>\n",
              "      <td>2</td>\n",
              "      <td>9</td>\n",
              "      <td>3.0</td>\n",
              "      <td>0</td>\n",
              "      <td>1</td>\n",
              "      <td>0</td>\n",
              "    </tr>\n",
              "  </tbody>\n",
              "</table>\n",
              "</div>"
            ],
            "text/plain": [
              "   meme_id  source_id  ...  meme_type_photo  meme_type_video\n",
              "0    28997       79.0  ...                1                0\n",
              "1    10873       43.0  ...                1                0\n",
              "2     9874       78.0  ...                1                0\n",
              "3    43458       43.0  ...                1                0\n",
              "4     9000       76.0  ...                1                0\n",
              "\n",
              "[5 rows x 9 columns]"
            ]
          },
          "metadata": {
            "tags": []
          },
          "execution_count": 89
        }
      ]
    },
    {
      "cell_type": "code",
      "metadata": {
        "colab": {
          "base_uri": "https://localhost:8080/",
          "height": 197
        },
        "id": "yAd_ckvuboMl",
        "outputId": "2f0318fd-3b18-4e81-af4d-768d3b70ad6d"
      },
      "source": [
        "user_df.head()"
      ],
      "execution_count": 90,
      "outputs": [
        {
          "output_type": "execute_result",
          "data": {
            "text/html": [
              "<div>\n",
              "<style scoped>\n",
              "    .dataframe tbody tr th:only-of-type {\n",
              "        vertical-align: middle;\n",
              "    }\n",
              "\n",
              "    .dataframe tbody tr th {\n",
              "        vertical-align: top;\n",
              "    }\n",
              "\n",
              "    .dataframe thead th {\n",
              "        text-align: right;\n",
              "    }\n",
              "</style>\n",
              "<table border=\"1\" class=\"dataframe\">\n",
              "  <thead>\n",
              "    <tr style=\"text-align: right;\">\n",
              "      <th></th>\n",
              "      <th>user_id</th>\n",
              "      <th>sessions</th>\n",
              "      <th>watched_memes</th>\n",
              "      <th>interface_lang</th>\n",
              "    </tr>\n",
              "  </thead>\n",
              "  <tbody>\n",
              "    <tr>\n",
              "      <th>0</th>\n",
              "      <td>820326025</td>\n",
              "      <td>6</td>\n",
              "      <td>20</td>\n",
              "      <td>0.0</td>\n",
              "    </tr>\n",
              "    <tr>\n",
              "      <th>1</th>\n",
              "      <td>1040875164</td>\n",
              "      <td>2</td>\n",
              "      <td>7</td>\n",
              "      <td>1.0</td>\n",
              "    </tr>\n",
              "    <tr>\n",
              "      <th>2</th>\n",
              "      <td>449432539</td>\n",
              "      <td>2</td>\n",
              "      <td>9</td>\n",
              "      <td>0.0</td>\n",
              "    </tr>\n",
              "    <tr>\n",
              "      <th>3</th>\n",
              "      <td>230248850</td>\n",
              "      <td>26</td>\n",
              "      <td>38</td>\n",
              "      <td>0.0</td>\n",
              "    </tr>\n",
              "    <tr>\n",
              "      <th>4</th>\n",
              "      <td>7719424</td>\n",
              "      <td>27</td>\n",
              "      <td>49</td>\n",
              "      <td>0.0</td>\n",
              "    </tr>\n",
              "  </tbody>\n",
              "</table>\n",
              "</div>"
            ],
            "text/plain": [
              "      user_id  sessions  watched_memes  interface_lang\n",
              "0   820326025         6             20             0.0\n",
              "1  1040875164         2              7             1.0\n",
              "2   449432539         2              9             0.0\n",
              "3   230248850        26             38             0.0\n",
              "4     7719424        27             49             0.0"
            ]
          },
          "metadata": {
            "tags": []
          },
          "execution_count": 90
        }
      ]
    },
    {
      "cell_type": "code",
      "metadata": {
        "colab": {
          "base_uri": "https://localhost:8080/",
          "height": 406
        },
        "id": "cOcXukLJb4Dj",
        "outputId": "fac022b5-b827-4cbd-95ad-ac64eb543034"
      },
      "source": [
        "event_meme = pd.merge(event_df, meme_df, on = 'meme_id')\r\n",
        "event_meme_user = pd.merge(event_meme, user_df, on = 'user_id')\r\n",
        "event_meme_user.drop(['meme_id', 'user_id'], axis = 1, inplace = True)\r\n",
        "event_meme_user"
      ],
      "execution_count": 95,
      "outputs": [
        {
          "output_type": "execute_result",
          "data": {
            "text/html": [
              "<div>\n",
              "<style scoped>\n",
              "    .dataframe tbody tr th:only-of-type {\n",
              "        vertical-align: middle;\n",
              "    }\n",
              "\n",
              "    .dataframe tbody tr th {\n",
              "        vertical-align: top;\n",
              "    }\n",
              "\n",
              "    .dataframe thead th {\n",
              "        text-align: right;\n",
              "    }\n",
              "</style>\n",
              "<table border=\"1\" class=\"dataframe\">\n",
              "  <thead>\n",
              "    <tr style=\"text-align: right;\">\n",
              "      <th></th>\n",
              "      <th>reaction_id</th>\n",
              "      <th>source_id</th>\n",
              "      <th>is_available</th>\n",
              "      <th>likes</th>\n",
              "      <th>dislikes</th>\n",
              "      <th>language_id</th>\n",
              "      <th>meme_type_animation</th>\n",
              "      <th>meme_type_photo</th>\n",
              "      <th>meme_type_video</th>\n",
              "      <th>sessions</th>\n",
              "      <th>watched_memes</th>\n",
              "      <th>interface_lang</th>\n",
              "    </tr>\n",
              "  </thead>\n",
              "  <tbody>\n",
              "    <tr>\n",
              "      <th>0</th>\n",
              "      <td>2.0</td>\n",
              "      <td>45.0</td>\n",
              "      <td>1</td>\n",
              "      <td>22</td>\n",
              "      <td>33</td>\n",
              "      <td>2.0</td>\n",
              "      <td>0</td>\n",
              "      <td>1</td>\n",
              "      <td>0</td>\n",
              "      <td>64</td>\n",
              "      <td>4353</td>\n",
              "      <td>0.0</td>\n",
              "    </tr>\n",
              "    <tr>\n",
              "      <th>1</th>\n",
              "      <td>1.0</td>\n",
              "      <td>46.0</td>\n",
              "      <td>1</td>\n",
              "      <td>106</td>\n",
              "      <td>90</td>\n",
              "      <td>2.0</td>\n",
              "      <td>0</td>\n",
              "      <td>1</td>\n",
              "      <td>0</td>\n",
              "      <td>64</td>\n",
              "      <td>4353</td>\n",
              "      <td>0.0</td>\n",
              "    </tr>\n",
              "    <tr>\n",
              "      <th>2</th>\n",
              "      <td>1.0</td>\n",
              "      <td>43.0</td>\n",
              "      <td>1</td>\n",
              "      <td>63</td>\n",
              "      <td>69</td>\n",
              "      <td>2.0</td>\n",
              "      <td>0</td>\n",
              "      <td>1</td>\n",
              "      <td>0</td>\n",
              "      <td>64</td>\n",
              "      <td>4353</td>\n",
              "      <td>0.0</td>\n",
              "    </tr>\n",
              "    <tr>\n",
              "      <th>3</th>\n",
              "      <td>2.0</td>\n",
              "      <td>8.0</td>\n",
              "      <td>1</td>\n",
              "      <td>43</td>\n",
              "      <td>52</td>\n",
              "      <td>2.0</td>\n",
              "      <td>0</td>\n",
              "      <td>1</td>\n",
              "      <td>0</td>\n",
              "      <td>64</td>\n",
              "      <td>4353</td>\n",
              "      <td>0.0</td>\n",
              "    </tr>\n",
              "    <tr>\n",
              "      <th>4</th>\n",
              "      <td>1.0</td>\n",
              "      <td>21.0</td>\n",
              "      <td>1</td>\n",
              "      <td>192</td>\n",
              "      <td>70</td>\n",
              "      <td>2.0</td>\n",
              "      <td>0</td>\n",
              "      <td>1</td>\n",
              "      <td>0</td>\n",
              "      <td>64</td>\n",
              "      <td>4353</td>\n",
              "      <td>0.0</td>\n",
              "    </tr>\n",
              "    <tr>\n",
              "      <th>...</th>\n",
              "      <td>...</td>\n",
              "      <td>...</td>\n",
              "      <td>...</td>\n",
              "      <td>...</td>\n",
              "      <td>...</td>\n",
              "      <td>...</td>\n",
              "      <td>...</td>\n",
              "      <td>...</td>\n",
              "      <td>...</td>\n",
              "      <td>...</td>\n",
              "      <td>...</td>\n",
              "      <td>...</td>\n",
              "    </tr>\n",
              "    <tr>\n",
              "      <th>3480367</th>\n",
              "      <td>1.0</td>\n",
              "      <td>75.0</td>\n",
              "      <td>1</td>\n",
              "      <td>77</td>\n",
              "      <td>28</td>\n",
              "      <td>3.0</td>\n",
              "      <td>0</td>\n",
              "      <td>1</td>\n",
              "      <td>0</td>\n",
              "      <td>1</td>\n",
              "      <td>1</td>\n",
              "      <td>1.0</td>\n",
              "    </tr>\n",
              "    <tr>\n",
              "      <th>3480368</th>\n",
              "      <td>1.0</td>\n",
              "      <td>75.0</td>\n",
              "      <td>1</td>\n",
              "      <td>77</td>\n",
              "      <td>28</td>\n",
              "      <td>3.0</td>\n",
              "      <td>0</td>\n",
              "      <td>1</td>\n",
              "      <td>0</td>\n",
              "      <td>1</td>\n",
              "      <td>1</td>\n",
              "      <td>1.0</td>\n",
              "    </tr>\n",
              "    <tr>\n",
              "      <th>3480369</th>\n",
              "      <td>1.0</td>\n",
              "      <td>78.0</td>\n",
              "      <td>1</td>\n",
              "      <td>9</td>\n",
              "      <td>16</td>\n",
              "      <td>3.0</td>\n",
              "      <td>0</td>\n",
              "      <td>1</td>\n",
              "      <td>0</td>\n",
              "      <td>1</td>\n",
              "      <td>1</td>\n",
              "      <td>0.0</td>\n",
              "    </tr>\n",
              "    <tr>\n",
              "      <th>3480370</th>\n",
              "      <td>2.0</td>\n",
              "      <td>78.0</td>\n",
              "      <td>1</td>\n",
              "      <td>23</td>\n",
              "      <td>12</td>\n",
              "      <td>3.0</td>\n",
              "      <td>0</td>\n",
              "      <td>1</td>\n",
              "      <td>0</td>\n",
              "      <td>1</td>\n",
              "      <td>1</td>\n",
              "      <td>1.0</td>\n",
              "    </tr>\n",
              "    <tr>\n",
              "      <th>3480371</th>\n",
              "      <td>2.0</td>\n",
              "      <td>75.0</td>\n",
              "      <td>1</td>\n",
              "      <td>19</td>\n",
              "      <td>18</td>\n",
              "      <td>3.0</td>\n",
              "      <td>0</td>\n",
              "      <td>1</td>\n",
              "      <td>0</td>\n",
              "      <td>1</td>\n",
              "      <td>1</td>\n",
              "      <td>1.0</td>\n",
              "    </tr>\n",
              "  </tbody>\n",
              "</table>\n",
              "<p>3480372 rows × 12 columns</p>\n",
              "</div>"
            ],
            "text/plain": [
              "         reaction_id  source_id  ...  watched_memes  interface_lang\n",
              "0                2.0       45.0  ...           4353             0.0\n",
              "1                1.0       46.0  ...           4353             0.0\n",
              "2                1.0       43.0  ...           4353             0.0\n",
              "3                2.0        8.0  ...           4353             0.0\n",
              "4                1.0       21.0  ...           4353             0.0\n",
              "...              ...        ...  ...            ...             ...\n",
              "3480367          1.0       75.0  ...              1             1.0\n",
              "3480368          1.0       75.0  ...              1             1.0\n",
              "3480369          1.0       78.0  ...              1             0.0\n",
              "3480370          2.0       78.0  ...              1             1.0\n",
              "3480371          2.0       75.0  ...              1             1.0\n",
              "\n",
              "[3480372 rows x 12 columns]"
            ]
          },
          "metadata": {
            "tags": []
          },
          "execution_count": 95
        }
      ]
    },
    {
      "cell_type": "code",
      "metadata": {
        "colab": {
          "base_uri": "https://localhost:8080/"
        },
        "id": "73y1ZjTBct7F",
        "outputId": "8294d566-b9c2-4baa-8412-7bfee97bf4ab"
      },
      "source": [
        "event_meme_user.isna().sum()"
      ],
      "execution_count": 97,
      "outputs": [
        {
          "output_type": "execute_result",
          "data": {
            "text/plain": [
              "reaction_id            0\n",
              "source_id              0\n",
              "is_available           0\n",
              "likes                  0\n",
              "dislikes               0\n",
              "language_id            0\n",
              "meme_type_animation    0\n",
              "meme_type_photo        0\n",
              "meme_type_video        0\n",
              "sessions               0\n",
              "watched_memes          0\n",
              "interface_lang         0\n",
              "dtype: int64"
            ]
          },
          "metadata": {
            "tags": []
          },
          "execution_count": 97
        }
      ]
    },
    {
      "cell_type": "markdown",
      "metadata": {
        "id": "yt8LkZS5c2rC"
      },
      "source": [
        "## Подготовка модели"
      ]
    },
    {
      "cell_type": "code",
      "metadata": {
        "id": "5RIjtz-0c4wZ"
      },
      "source": [
        "x = event_meme_user.iloc[:,1:]\r\n",
        "y = event_meme_user.iloc[:,0]\r\n",
        " "
      ],
      "execution_count": 105,
      "outputs": []
    },
    {
      "cell_type": "code",
      "metadata": {
        "colab": {
          "base_uri": "https://localhost:8080/",
          "height": 406
        },
        "id": "RAQZ3hdYdDfl",
        "outputId": "27eb79e7-cd64-4965-fb7b-a3329aadd561"
      },
      "source": [
        "x"
      ],
      "execution_count": 106,
      "outputs": [
        {
          "output_type": "execute_result",
          "data": {
            "text/html": [
              "<div>\n",
              "<style scoped>\n",
              "    .dataframe tbody tr th:only-of-type {\n",
              "        vertical-align: middle;\n",
              "    }\n",
              "\n",
              "    .dataframe tbody tr th {\n",
              "        vertical-align: top;\n",
              "    }\n",
              "\n",
              "    .dataframe thead th {\n",
              "        text-align: right;\n",
              "    }\n",
              "</style>\n",
              "<table border=\"1\" class=\"dataframe\">\n",
              "  <thead>\n",
              "    <tr style=\"text-align: right;\">\n",
              "      <th></th>\n",
              "      <th>source_id</th>\n",
              "      <th>is_available</th>\n",
              "      <th>likes</th>\n",
              "      <th>dislikes</th>\n",
              "      <th>language_id</th>\n",
              "      <th>meme_type_animation</th>\n",
              "      <th>meme_type_photo</th>\n",
              "      <th>meme_type_video</th>\n",
              "      <th>sessions</th>\n",
              "      <th>watched_memes</th>\n",
              "      <th>interface_lang</th>\n",
              "    </tr>\n",
              "  </thead>\n",
              "  <tbody>\n",
              "    <tr>\n",
              "      <th>0</th>\n",
              "      <td>45.0</td>\n",
              "      <td>1</td>\n",
              "      <td>22</td>\n",
              "      <td>33</td>\n",
              "      <td>2.0</td>\n",
              "      <td>0</td>\n",
              "      <td>1</td>\n",
              "      <td>0</td>\n",
              "      <td>64</td>\n",
              "      <td>4353</td>\n",
              "      <td>0.0</td>\n",
              "    </tr>\n",
              "    <tr>\n",
              "      <th>1</th>\n",
              "      <td>46.0</td>\n",
              "      <td>1</td>\n",
              "      <td>106</td>\n",
              "      <td>90</td>\n",
              "      <td>2.0</td>\n",
              "      <td>0</td>\n",
              "      <td>1</td>\n",
              "      <td>0</td>\n",
              "      <td>64</td>\n",
              "      <td>4353</td>\n",
              "      <td>0.0</td>\n",
              "    </tr>\n",
              "    <tr>\n",
              "      <th>2</th>\n",
              "      <td>43.0</td>\n",
              "      <td>1</td>\n",
              "      <td>63</td>\n",
              "      <td>69</td>\n",
              "      <td>2.0</td>\n",
              "      <td>0</td>\n",
              "      <td>1</td>\n",
              "      <td>0</td>\n",
              "      <td>64</td>\n",
              "      <td>4353</td>\n",
              "      <td>0.0</td>\n",
              "    </tr>\n",
              "    <tr>\n",
              "      <th>3</th>\n",
              "      <td>8.0</td>\n",
              "      <td>1</td>\n",
              "      <td>43</td>\n",
              "      <td>52</td>\n",
              "      <td>2.0</td>\n",
              "      <td>0</td>\n",
              "      <td>1</td>\n",
              "      <td>0</td>\n",
              "      <td>64</td>\n",
              "      <td>4353</td>\n",
              "      <td>0.0</td>\n",
              "    </tr>\n",
              "    <tr>\n",
              "      <th>4</th>\n",
              "      <td>21.0</td>\n",
              "      <td>1</td>\n",
              "      <td>192</td>\n",
              "      <td>70</td>\n",
              "      <td>2.0</td>\n",
              "      <td>0</td>\n",
              "      <td>1</td>\n",
              "      <td>0</td>\n",
              "      <td>64</td>\n",
              "      <td>4353</td>\n",
              "      <td>0.0</td>\n",
              "    </tr>\n",
              "    <tr>\n",
              "      <th>...</th>\n",
              "      <td>...</td>\n",
              "      <td>...</td>\n",
              "      <td>...</td>\n",
              "      <td>...</td>\n",
              "      <td>...</td>\n",
              "      <td>...</td>\n",
              "      <td>...</td>\n",
              "      <td>...</td>\n",
              "      <td>...</td>\n",
              "      <td>...</td>\n",
              "      <td>...</td>\n",
              "    </tr>\n",
              "    <tr>\n",
              "      <th>3480367</th>\n",
              "      <td>75.0</td>\n",
              "      <td>1</td>\n",
              "      <td>77</td>\n",
              "      <td>28</td>\n",
              "      <td>3.0</td>\n",
              "      <td>0</td>\n",
              "      <td>1</td>\n",
              "      <td>0</td>\n",
              "      <td>1</td>\n",
              "      <td>1</td>\n",
              "      <td>1.0</td>\n",
              "    </tr>\n",
              "    <tr>\n",
              "      <th>3480368</th>\n",
              "      <td>75.0</td>\n",
              "      <td>1</td>\n",
              "      <td>77</td>\n",
              "      <td>28</td>\n",
              "      <td>3.0</td>\n",
              "      <td>0</td>\n",
              "      <td>1</td>\n",
              "      <td>0</td>\n",
              "      <td>1</td>\n",
              "      <td>1</td>\n",
              "      <td>1.0</td>\n",
              "    </tr>\n",
              "    <tr>\n",
              "      <th>3480369</th>\n",
              "      <td>78.0</td>\n",
              "      <td>1</td>\n",
              "      <td>9</td>\n",
              "      <td>16</td>\n",
              "      <td>3.0</td>\n",
              "      <td>0</td>\n",
              "      <td>1</td>\n",
              "      <td>0</td>\n",
              "      <td>1</td>\n",
              "      <td>1</td>\n",
              "      <td>0.0</td>\n",
              "    </tr>\n",
              "    <tr>\n",
              "      <th>3480370</th>\n",
              "      <td>78.0</td>\n",
              "      <td>1</td>\n",
              "      <td>23</td>\n",
              "      <td>12</td>\n",
              "      <td>3.0</td>\n",
              "      <td>0</td>\n",
              "      <td>1</td>\n",
              "      <td>0</td>\n",
              "      <td>1</td>\n",
              "      <td>1</td>\n",
              "      <td>1.0</td>\n",
              "    </tr>\n",
              "    <tr>\n",
              "      <th>3480371</th>\n",
              "      <td>75.0</td>\n",
              "      <td>1</td>\n",
              "      <td>19</td>\n",
              "      <td>18</td>\n",
              "      <td>3.0</td>\n",
              "      <td>0</td>\n",
              "      <td>1</td>\n",
              "      <td>0</td>\n",
              "      <td>1</td>\n",
              "      <td>1</td>\n",
              "      <td>1.0</td>\n",
              "    </tr>\n",
              "  </tbody>\n",
              "</table>\n",
              "<p>3480372 rows × 11 columns</p>\n",
              "</div>"
            ],
            "text/plain": [
              "         source_id  is_available  ...  watched_memes  interface_lang\n",
              "0             45.0             1  ...           4353             0.0\n",
              "1             46.0             1  ...           4353             0.0\n",
              "2             43.0             1  ...           4353             0.0\n",
              "3              8.0             1  ...           4353             0.0\n",
              "4             21.0             1  ...           4353             0.0\n",
              "...            ...           ...  ...            ...             ...\n",
              "3480367       75.0             1  ...              1             1.0\n",
              "3480368       75.0             1  ...              1             1.0\n",
              "3480369       78.0             1  ...              1             0.0\n",
              "3480370       78.0             1  ...              1             1.0\n",
              "3480371       75.0             1  ...              1             1.0\n",
              "\n",
              "[3480372 rows x 11 columns]"
            ]
          },
          "metadata": {
            "tags": []
          },
          "execution_count": 106
        }
      ]
    },
    {
      "cell_type": "code",
      "metadata": {
        "colab": {
          "base_uri": "https://localhost:8080/"
        },
        "id": "GB7t5OV5deHK",
        "outputId": "650d9022-c485-4147-8e05-35e65f064d77"
      },
      "source": [
        "y"
      ],
      "execution_count": 107,
      "outputs": [
        {
          "output_type": "execute_result",
          "data": {
            "text/plain": [
              "0          2.0\n",
              "1          1.0\n",
              "2          1.0\n",
              "3          2.0\n",
              "4          1.0\n",
              "          ... \n",
              "3480367    1.0\n",
              "3480368    1.0\n",
              "3480369    1.0\n",
              "3480370    2.0\n",
              "3480371    2.0\n",
              "Name: reaction_id, Length: 3480372, dtype: float64"
            ]
          },
          "metadata": {
            "tags": []
          },
          "execution_count": 107
        }
      ]
    },
    {
      "cell_type": "code",
      "metadata": {
        "colab": {
          "base_uri": "https://localhost:8080/"
        },
        "id": "YfiAnoNfe6DX",
        "outputId": "3242c558-0660-4f2f-fb37-2248e7ceef59"
      },
      "source": [
        "len(y_tr)"
      ],
      "execution_count": 113,
      "outputs": [
        {
          "output_type": "execute_result",
          "data": {
            "text/plain": [
              "870093"
            ]
          },
          "metadata": {
            "tags": []
          },
          "execution_count": 113
        }
      ]
    },
    {
      "cell_type": "code",
      "metadata": {
        "id": "KMi5skO5dr6g"
      },
      "source": [
        "from sklearn.model_selection import train_test_split\r\n",
        "x_tr, x_ts, y_tr, y_ts = train_test_split(x, y, random_state = 1)"
      ],
      "execution_count": 114,
      "outputs": []
    },
    {
      "cell_type": "markdown",
      "metadata": {
        "id": "Rn7UThX9eauD"
      },
      "source": [
        "### Логистическая регрессия"
      ]
    },
    {
      "cell_type": "code",
      "metadata": {
        "colab": {
          "base_uri": "https://localhost:8080/"
        },
        "id": "VFNJ8gJBd6Bz",
        "outputId": "ae40db60-954c-44c8-ba16-e169174a743c"
      },
      "source": [
        "from sklearn.linear_model import LogisticRegression\r\n",
        "logreg = LogisticRegression()\r\n",
        "logreg.fit(x_tr, y_tr)\r\n",
        "print('Accuracy of Logistic regression classifier on training set: {:.2f}'\r\n",
        "     .format(logreg.score(x_tr, y_tr)))\r\n",
        "print('Accuracy of Logistic regression classifier on test set: {:.2f}'\r\n",
        "     .format(logreg.score(x_ts, y_ts)))"
      ],
      "execution_count": 115,
      "outputs": [
        {
          "output_type": "stream",
          "text": [
            "Accuracy of Logistic regression classifier on training set: 0.61\n",
            "Accuracy of Logistic regression classifier on test set: 0.61\n"
          ],
          "name": "stdout"
        }
      ]
    },
    {
      "cell_type": "markdown",
      "metadata": {
        "id": "64A7nTlkgLW0"
      },
      "source": [
        "### Дерево решений"
      ]
    },
    {
      "cell_type": "code",
      "metadata": {
        "colab": {
          "base_uri": "https://localhost:8080/"
        },
        "id": "GN9Cm1z1gNzM",
        "outputId": "fd3b4fe6-2402-4023-b85e-4c4eba74a955"
      },
      "source": [
        "from sklearn.tree import DecisionTreeClassifier\r\n",
        "clf = DecisionTreeClassifier().fit(x_tr, y_tr)\r\n",
        "print('Accuracy of Decision Tree classifier on training set: {:.2f}'\r\n",
        "     .format(clf.score(x_tr, y_tr)))\r\n",
        "print('Accuracy of Decision Tree classifier on test set: {:.2f}'\r\n",
        "     .format(clf.score(x_ts, y_ts)))"
      ],
      "execution_count": 118,
      "outputs": [
        {
          "output_type": "stream",
          "text": [
            "Accuracy of Decision Tree classifier on training set: 0.96\n",
            "Accuracy of Decision Tree classifier on test set: 0.74\n"
          ],
          "name": "stdout"
        }
      ]
    },
    {
      "cell_type": "markdown",
      "metadata": {
        "id": "2cC0R-y_hK7X"
      },
      "source": [
        "### KNN (Метод ближайших соседей)"
      ]
    },
    {
      "cell_type": "code",
      "metadata": {
        "colab": {
          "base_uri": "https://localhost:8080/"
        },
        "id": "6PuP32Ivh63u",
        "outputId": "f30c9807-179e-4809-bc13-09663235053f"
      },
      "source": [
        "from sklearn.neighbors import KNeighborsClassifier\r\n",
        "knn = KNeighborsClassifier()\r\n",
        "knn.fit(x_tr, y_tr)\r\n",
        "print('Accuracy of K-NN classifier on training set: {:.2f}'\r\n",
        "     .format(knn.score(x_tr, y_tr)))\r\n",
        "print('Accuracy of K-NN classifier on test set: {:.2f}'\r\n",
        "     .format(knn.score(x_ts, y_ts)))"
      ],
      "execution_count": 120,
      "outputs": [
        {
          "output_type": "stream",
          "text": [
            "Accuracy of K-NN classifier on training set: 0.82\n",
            "Accuracy of K-NN classifier on test set: 0.75\n"
          ],
          "name": "stdout"
        }
      ]
    },
    {
      "cell_type": "markdown",
      "metadata": {
        "id": "L_19GYoHi54S"
      },
      "source": [
        "### LDA (Линейный дискриминантный анализ)"
      ]
    },
    {
      "cell_type": "code",
      "metadata": {
        "colab": {
          "base_uri": "https://localhost:8080/"
        },
        "id": "XpMV4VFMjJW5",
        "outputId": "75eca52a-c49e-42d6-a27b-e5fcef809a94"
      },
      "source": [
        "from sklearn.discriminant_analysis import LinearDiscriminantAnalysis\r\n",
        "lda = LinearDiscriminantAnalysis()\r\n",
        "lda.fit(x_tr, y_tr)\r\n",
        "print('Accuracy of LDA classifier on training set: {:.2f}'\r\n",
        "     .format(lda.score(x_tr, y_tr)))\r\n",
        "print('Accuracy of LDA classifier on test set: {:.2f}'\r\n",
        "     .format(lda.score(x_ts, y_ts)))"
      ],
      "execution_count": 121,
      "outputs": [
        {
          "output_type": "stream",
          "text": [
            "Accuracy of LDA classifier on training set: 0.60\n",
            "Accuracy of LDA classifier on test set: 0.60\n"
          ],
          "name": "stdout"
        }
      ]
    },
    {
      "cell_type": "markdown",
      "metadata": {
        "id": "gtQRwVGCjQ2h"
      },
      "source": [
        "### Наинвый байес"
      ]
    },
    {
      "cell_type": "code",
      "metadata": {
        "colab": {
          "base_uri": "https://localhost:8080/"
        },
        "id": "fCDAJpCLjXWq",
        "outputId": "49553c14-ee78-4d8a-b9c8-1d9e20a24350"
      },
      "source": [
        "from sklearn.naive_bayes import GaussianNB\r\n",
        "gnb = GaussianNB()\r\n",
        "gnb.fit(x_tr, y_tr)\r\n",
        "print('Accuracy of GNB classifier on training set: {:.2f}'\r\n",
        "     .format(gnb.score(x_tr, y_tr)))\r\n",
        "print('Accuracy of GNB classifier on test set: {:.2f}'\r\n",
        "     .format(gnb.score(x_ts, y_ts)))"
      ],
      "execution_count": 122,
      "outputs": [
        {
          "output_type": "stream",
          "text": [
            "Accuracy of GNB classifier on training set: 0.59\n",
            "Accuracy of GNB classifier on test set: 0.58\n"
          ],
          "name": "stdout"
        }
      ]
    }
  ]
}