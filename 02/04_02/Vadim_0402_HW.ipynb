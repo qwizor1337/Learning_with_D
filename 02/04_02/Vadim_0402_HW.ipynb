{
  "nbformat": 4,
  "nbformat_minor": 0,
  "metadata": {
    "colab": {
      "name": "Vadim_0402_HW.ipynb",
      "provenance": [],
      "collapsed_sections": []
    },
    "kernelspec": {
      "name": "python3",
      "display_name": "Python 3"
    }
  },
  "cells": [
    {
      "cell_type": "markdown",
      "metadata": {
        "id": "N8vJRadWWovv"
      },
      "source": [
        "# Мемы"
      ]
    },
    {
      "cell_type": "code",
      "metadata": {
        "id": "mG-ozKlkWncr",
        "colab": {
          "base_uri": "https://localhost:8080/"
        },
        "outputId": "6a953bab-cbfe-4054-92c4-93fda30f384c"
      },
      "source": [
        "from google.colab import drive\r\n",
        "drive.mount('/content/drive')"
      ],
      "execution_count": 1,
      "outputs": [
        {
          "output_type": "stream",
          "text": [
            "Mounted at /content/drive\n"
          ],
          "name": "stdout"
        }
      ]
    },
    {
      "cell_type": "code",
      "metadata": {
        "id": "WS5hRH1TaLfD"
      },
      "source": [
        "import pandas as pd\r\n",
        "import numpy as np"
      ],
      "execution_count": 2,
      "outputs": []
    },
    {
      "cell_type": "code",
      "metadata": {
        "id": "hOz4VP-2aLho"
      },
      "source": [
        "path = 'drive/MyDrive/DS/meme'\r\n"
      ],
      "execution_count": 3,
      "outputs": []
    },
    {
      "cell_type": "code",
      "metadata": {
        "id": "30ZnaJjqaLkX"
      },
      "source": [
        "event = pd.read_csv(path+'/danila_event.csv')\r\n"
      ],
      "execution_count": 4,
      "outputs": []
    },
    {
      "cell_type": "code",
      "metadata": {
        "id": "_N8X8xUUaLmY"
      },
      "source": [
        "meme = pd.read_csv(path+'/danila_meme.csv')\r\n",
        "user = pd.read_csv(path+'/danila_user.csv')"
      ],
      "execution_count": 5,
      "outputs": []
    },
    {
      "cell_type": "code",
      "metadata": {
        "colab": {
          "base_uri": "https://localhost:8080/",
          "height": 281
        },
        "id": "-NkokV15bC1Q",
        "outputId": "eb222cc6-5c27-41bf-9507-153674b3decf"
      },
      "source": [
        "meme.head()"
      ],
      "execution_count": 6,
      "outputs": [
        {
          "output_type": "execute_result",
          "data": {
            "text/html": [
              "<div>\n",
              "<style scoped>\n",
              "    .dataframe tbody tr th:only-of-type {\n",
              "        vertical-align: middle;\n",
              "    }\n",
              "\n",
              "    .dataframe tbody tr th {\n",
              "        vertical-align: top;\n",
              "    }\n",
              "\n",
              "    .dataframe thead th {\n",
              "        text-align: right;\n",
              "    }\n",
              "</style>\n",
              "<table border=\"1\" class=\"dataframe\">\n",
              "  <thead>\n",
              "    <tr style=\"text-align: right;\">\n",
              "      <th></th>\n",
              "      <th>meme_id</th>\n",
              "      <th>meme_type</th>\n",
              "      <th>source_id</th>\n",
              "      <th>published_at</th>\n",
              "      <th>caption</th>\n",
              "      <th>content_lang</th>\n",
              "      <th>is_available</th>\n",
              "      <th>likes</th>\n",
              "      <th>dislikes</th>\n",
              "      <th>created_at</th>\n",
              "      <th>updated_at</th>\n",
              "      <th>is_broken</th>\n",
              "      <th>content_text</th>\n",
              "      <th>caption_lang</th>\n",
              "      <th>language_id</th>\n",
              "    </tr>\n",
              "  </thead>\n",
              "  <tbody>\n",
              "    <tr>\n",
              "      <th>0</th>\n",
              "      <td>28997</td>\n",
              "      <td>photo</td>\n",
              "      <td>79.0</td>\n",
              "      <td>2020-04-12 01:48:13+00</td>\n",
              "      <td>I mean shitt it ain't their fault</td>\n",
              "      <td>en</td>\n",
              "      <td>True</td>\n",
              "      <td>17</td>\n",
              "      <td>14</td>\n",
              "      <td>2020-04-12 09:04:37.341908+00</td>\n",
              "      <td>2020-10-26 19:20:58.198825+00</td>\n",
              "      <td>False</td>\n",
              "      <td>brandon @brndvx females live on recruit diffic...</td>\n",
              "      <td>en</td>\n",
              "      <td>3.0</td>\n",
              "    </tr>\n",
              "    <tr>\n",
              "      <th>1</th>\n",
              "      <td>10873</td>\n",
              "      <td>photo</td>\n",
              "      <td>43.0</td>\n",
              "      <td>2020-03-25 11:48:14+00</td>\n",
              "      <td>NaN</td>\n",
              "      <td>ru</td>\n",
              "      <td>True</td>\n",
              "      <td>79</td>\n",
              "      <td>74</td>\n",
              "      <td>2020-03-25 20:00:01.154096+00</td>\n",
              "      <td>2020-10-26 19:20:58.226846+00</td>\n",
              "      <td>False</td>\n",
              "      <td>Я не робот Докажите, что всякое односвязное Ит...</td>\n",
              "      <td>ww</td>\n",
              "      <td>2.0</td>\n",
              "    </tr>\n",
              "    <tr>\n",
              "      <th>2</th>\n",
              "      <td>9874</td>\n",
              "      <td>photo</td>\n",
              "      <td>78.0</td>\n",
              "      <td>2020-03-24 07:18:03+00</td>\n",
              "      <td>Anime toddies expert</td>\n",
              "      <td>en</td>\n",
              "      <td>True</td>\n",
              "      <td>1</td>\n",
              "      <td>7</td>\n",
              "      <td>2020-03-24 13:06:18.588359+00</td>\n",
              "      <td>2020-10-26 19:20:58.259045+00</td>\n",
              "      <td>False</td>\n",
              "      <td>When you find the actual interview and it does...</td>\n",
              "      <td>en</td>\n",
              "      <td>3.0</td>\n",
              "    </tr>\n",
              "    <tr>\n",
              "      <th>3</th>\n",
              "      <td>43458</td>\n",
              "      <td>photo</td>\n",
              "      <td>43.0</td>\n",
              "      <td>2020-05-23 12:50:52+00</td>\n",
              "      <td>NaN</td>\n",
              "      <td>ru</td>\n",
              "      <td>False</td>\n",
              "      <td>8</td>\n",
              "      <td>12</td>\n",
              "      <td>2020-05-24 22:03:34.926116+00</td>\n",
              "      <td>2020-10-26 19:20:58.265179+00</td>\n",
              "      <td>False</td>\n",
              "      <td>Google сколько калорий в грамме урана а Все В ...</td>\n",
              "      <td>ww</td>\n",
              "      <td>2.0</td>\n",
              "    </tr>\n",
              "    <tr>\n",
              "      <th>4</th>\n",
              "      <td>9000</td>\n",
              "      <td>photo</td>\n",
              "      <td>76.0</td>\n",
              "      <td>2020-03-23 07:16:05+00</td>\n",
              "      <td>New treasure</td>\n",
              "      <td>und</td>\n",
              "      <td>True</td>\n",
              "      <td>2</td>\n",
              "      <td>9</td>\n",
              "      <td>2020-03-23 13:04:55.258554+00</td>\n",
              "      <td>2020-10-26 19:20:58.29742+00</td>\n",
              "      <td>False</td>\n",
              "      <td>YRO .20.</td>\n",
              "      <td>en</td>\n",
              "      <td>3.0</td>\n",
              "    </tr>\n",
              "  </tbody>\n",
              "</table>\n",
              "</div>"
            ],
            "text/plain": [
              "   meme_id meme_type  ...  caption_lang language_id\n",
              "0    28997     photo  ...            en         3.0\n",
              "1    10873     photo  ...            ww         2.0\n",
              "2     9874     photo  ...            en         3.0\n",
              "3    43458     photo  ...            ww         2.0\n",
              "4     9000     photo  ...            en         3.0\n",
              "\n",
              "[5 rows x 15 columns]"
            ]
          },
          "metadata": {
            "tags": []
          },
          "execution_count": 6
        }
      ]
    },
    {
      "cell_type": "code",
      "metadata": {
        "colab": {
          "base_uri": "https://localhost:8080/",
          "height": 197
        },
        "id": "ndKHSUtVbCyx",
        "outputId": "dc8e7049-36f6-40b4-b2b1-410d010eac80"
      },
      "source": [
        "user.head()"
      ],
      "execution_count": 7,
      "outputs": [
        {
          "output_type": "execute_result",
          "data": {
            "text/html": [
              "<div>\n",
              "<style scoped>\n",
              "    .dataframe tbody tr th:only-of-type {\n",
              "        vertical-align: middle;\n",
              "    }\n",
              "\n",
              "    .dataframe tbody tr th {\n",
              "        vertical-align: top;\n",
              "    }\n",
              "\n",
              "    .dataframe thead th {\n",
              "        text-align: right;\n",
              "    }\n",
              "</style>\n",
              "<table border=\"1\" class=\"dataframe\">\n",
              "  <thead>\n",
              "    <tr style=\"text-align: right;\">\n",
              "      <th></th>\n",
              "      <th>user_id</th>\n",
              "      <th>deep_link</th>\n",
              "      <th>is_blocked_bot</th>\n",
              "      <th>is_banned</th>\n",
              "      <th>is_moderator</th>\n",
              "      <th>sessions</th>\n",
              "      <th>last_session_memes</th>\n",
              "      <th>watched_memes</th>\n",
              "      <th>created_at</th>\n",
              "      <th>updated_at</th>\n",
              "      <th>interface_lang</th>\n",
              "      <th>gender</th>\n",
              "    </tr>\n",
              "  </thead>\n",
              "  <tbody>\n",
              "    <tr>\n",
              "      <th>0</th>\n",
              "      <td>820326025</td>\n",
              "      <td>anime0ch_lang_ru</td>\n",
              "      <td>False</td>\n",
              "      <td>False</td>\n",
              "      <td>False</td>\n",
              "      <td>6</td>\n",
              "      <td>1</td>\n",
              "      <td>20</td>\n",
              "      <td>2020-09-12 20:07:11.668743+00</td>\n",
              "      <td>2020-10-26 12:16:18.458654+00</td>\n",
              "      <td>ru</td>\n",
              "      <td>M</td>\n",
              "    </tr>\n",
              "    <tr>\n",
              "      <th>1</th>\n",
              "      <td>1040875164</td>\n",
              "      <td>likemeupbot_lang_en</td>\n",
              "      <td>False</td>\n",
              "      <td>False</td>\n",
              "      <td>False</td>\n",
              "      <td>2</td>\n",
              "      <td>1</td>\n",
              "      <td>7</td>\n",
              "      <td>2020-07-21 05:54:12.671036+00</td>\n",
              "      <td>2020-10-26 14:37:05.637591+00</td>\n",
              "      <td>en</td>\n",
              "      <td>NaN</td>\n",
              "    </tr>\n",
              "    <tr>\n",
              "      <th>2</th>\n",
              "      <td>449432539</td>\n",
              "      <td>debil_ebaniy</td>\n",
              "      <td>True</td>\n",
              "      <td>False</td>\n",
              "      <td>False</td>\n",
              "      <td>2</td>\n",
              "      <td>1</td>\n",
              "      <td>9</td>\n",
              "      <td>2020-09-14 19:02:06.80911+00</td>\n",
              "      <td>2020-10-17 21:26:52.029824+00</td>\n",
              "      <td>ru</td>\n",
              "      <td>F</td>\n",
              "    </tr>\n",
              "    <tr>\n",
              "      <th>3</th>\n",
              "      <td>230248850</td>\n",
              "      <td>NaN</td>\n",
              "      <td>False</td>\n",
              "      <td>False</td>\n",
              "      <td>False</td>\n",
              "      <td>26</td>\n",
              "      <td>1</td>\n",
              "      <td>38</td>\n",
              "      <td>2020-03-16 00:36:42.252438+00</td>\n",
              "      <td>2020-10-26 12:11:02.159405+00</td>\n",
              "      <td>ru</td>\n",
              "      <td>M</td>\n",
              "    </tr>\n",
              "    <tr>\n",
              "      <th>4</th>\n",
              "      <td>7719424</td>\n",
              "      <td>NaN</td>\n",
              "      <td>True</td>\n",
              "      <td>False</td>\n",
              "      <td>False</td>\n",
              "      <td>27</td>\n",
              "      <td>6</td>\n",
              "      <td>49</td>\n",
              "      <td>2020-03-15 22:30:45.300242+00</td>\n",
              "      <td>2020-10-17 21:26:52.19941+00</td>\n",
              "      <td>ru</td>\n",
              "      <td>M</td>\n",
              "    </tr>\n",
              "  </tbody>\n",
              "</table>\n",
              "</div>"
            ],
            "text/plain": [
              "      user_id            deep_link  ...  interface_lang  gender\n",
              "0   820326025     anime0ch_lang_ru  ...              ru       M\n",
              "1  1040875164  likemeupbot_lang_en  ...              en     NaN\n",
              "2   449432539         debil_ebaniy  ...              ru       F\n",
              "3   230248850                  NaN  ...              ru       M\n",
              "4     7719424                  NaN  ...              ru       M\n",
              "\n",
              "[5 rows x 12 columns]"
            ]
          },
          "metadata": {
            "tags": []
          },
          "execution_count": 7
        }
      ]
    },
    {
      "cell_type": "code",
      "metadata": {
        "colab": {
          "base_uri": "https://localhost:8080/",
          "height": 197
        },
        "id": "hL3Xc3q_bCwK",
        "outputId": "7fefb67a-b47c-487e-9a77-fd1fe2681dc7"
      },
      "source": [
        "event.head()"
      ],
      "execution_count": 8,
      "outputs": [
        {
          "output_type": "execute_result",
          "data": {
            "text/html": [
              "<div>\n",
              "<style scoped>\n",
              "    .dataframe tbody tr th:only-of-type {\n",
              "        vertical-align: middle;\n",
              "    }\n",
              "\n",
              "    .dataframe tbody tr th {\n",
              "        vertical-align: top;\n",
              "    }\n",
              "\n",
              "    .dataframe thead th {\n",
              "        text-align: right;\n",
              "    }\n",
              "</style>\n",
              "<table border=\"1\" class=\"dataframe\">\n",
              "  <thead>\n",
              "    <tr style=\"text-align: right;\">\n",
              "      <th></th>\n",
              "      <th>event_id</th>\n",
              "      <th>reaction_id</th>\n",
              "      <th>session_idx</th>\n",
              "      <th>meme_idx</th>\n",
              "      <th>created_at</th>\n",
              "      <th>updated_at</th>\n",
              "      <th>meme_id</th>\n",
              "      <th>user_id</th>\n",
              "    </tr>\n",
              "  </thead>\n",
              "  <tbody>\n",
              "    <tr>\n",
              "      <th>0</th>\n",
              "      <td>3607617</td>\n",
              "      <td>2.0</td>\n",
              "      <td>55</td>\n",
              "      <td>11</td>\n",
              "      <td>2020-10-24 19:45:50.964474+00</td>\n",
              "      <td>2020-10-24 19:45:51.049752+00</td>\n",
              "      <td>24379</td>\n",
              "      <td>280747086</td>\n",
              "    </tr>\n",
              "    <tr>\n",
              "      <th>1</th>\n",
              "      <td>3608100</td>\n",
              "      <td>1.0</td>\n",
              "      <td>280</td>\n",
              "      <td>45</td>\n",
              "      <td>2020-10-24 19:52:33.681933+00</td>\n",
              "      <td>2020-10-24 19:52:33.763993+00</td>\n",
              "      <td>49173</td>\n",
              "      <td>285739883</td>\n",
              "    </tr>\n",
              "    <tr>\n",
              "      <th>2</th>\n",
              "      <td>3607629</td>\n",
              "      <td>1.0</td>\n",
              "      <td>55</td>\n",
              "      <td>13</td>\n",
              "      <td>2020-10-24 19:46:08.690407+00</td>\n",
              "      <td>2020-10-24 19:46:08.779079+00</td>\n",
              "      <td>8340</td>\n",
              "      <td>280747086</td>\n",
              "    </tr>\n",
              "    <tr>\n",
              "      <th>3</th>\n",
              "      <td>3607649</td>\n",
              "      <td>NaN</td>\n",
              "      <td>30</td>\n",
              "      <td>2</td>\n",
              "      <td>2020-10-24 19:46:24.443014+00</td>\n",
              "      <td>2020-10-24 19:46:24.519787+00</td>\n",
              "      <td>64748</td>\n",
              "      <td>78991522</td>\n",
              "    </tr>\n",
              "    <tr>\n",
              "      <th>4</th>\n",
              "      <td>3608045</td>\n",
              "      <td>2.0</td>\n",
              "      <td>35</td>\n",
              "      <td>341</td>\n",
              "      <td>2020-10-24 19:51:28.544856+00</td>\n",
              "      <td>2020-10-24 19:51:28.586788+00</td>\n",
              "      <td>45163</td>\n",
              "      <td>860086058</td>\n",
              "    </tr>\n",
              "  </tbody>\n",
              "</table>\n",
              "</div>"
            ],
            "text/plain": [
              "   event_id  reaction_id  ...  meme_id    user_id\n",
              "0   3607617          2.0  ...    24379  280747086\n",
              "1   3608100          1.0  ...    49173  285739883\n",
              "2   3607629          1.0  ...     8340  280747086\n",
              "3   3607649          NaN  ...    64748   78991522\n",
              "4   3608045          2.0  ...    45163  860086058\n",
              "\n",
              "[5 rows x 8 columns]"
            ]
          },
          "metadata": {
            "tags": []
          },
          "execution_count": 8
        }
      ]
    },
    {
      "cell_type": "code",
      "metadata": {
        "id": "_vtxTPoebuHd"
      },
      "source": [
        "# Создать рекомендательную систему для каждого пользователя"
      ],
      "execution_count": 9,
      "outputs": []
    },
    {
      "cell_type": "markdown",
      "metadata": {
        "id": "Klr4Oz0XWlrN"
      },
      "source": [
        "## Создать рекомендательную систему для каждого пользователя"
      ]
    },
    {
      "cell_type": "code",
      "metadata": {
        "id": "v6bCqNj-buFM"
      },
      "source": [
        "#meme['is_broken'].value_counts()\r\n",
        "\r\n",
        "meme = meme[meme['is_broken'] == False]"
      ],
      "execution_count": 10,
      "outputs": []
    },
    {
      "cell_type": "code",
      "metadata": {
        "colab": {
          "base_uri": "https://localhost:8080/",
          "height": 573
        },
        "id": "qnRjg53pbuCt",
        "outputId": "7a4f8e87-3d22-42a8-f78c-bdddd78a152d"
      },
      "source": [
        "meme"
      ],
      "execution_count": 11,
      "outputs": [
        {
          "output_type": "execute_result",
          "data": {
            "text/html": [
              "<div>\n",
              "<style scoped>\n",
              "    .dataframe tbody tr th:only-of-type {\n",
              "        vertical-align: middle;\n",
              "    }\n",
              "\n",
              "    .dataframe tbody tr th {\n",
              "        vertical-align: top;\n",
              "    }\n",
              "\n",
              "    .dataframe thead th {\n",
              "        text-align: right;\n",
              "    }\n",
              "</style>\n",
              "<table border=\"1\" class=\"dataframe\">\n",
              "  <thead>\n",
              "    <tr style=\"text-align: right;\">\n",
              "      <th></th>\n",
              "      <th>meme_id</th>\n",
              "      <th>meme_type</th>\n",
              "      <th>source_id</th>\n",
              "      <th>published_at</th>\n",
              "      <th>caption</th>\n",
              "      <th>content_lang</th>\n",
              "      <th>is_available</th>\n",
              "      <th>likes</th>\n",
              "      <th>dislikes</th>\n",
              "      <th>created_at</th>\n",
              "      <th>updated_at</th>\n",
              "      <th>is_broken</th>\n",
              "      <th>content_text</th>\n",
              "      <th>caption_lang</th>\n",
              "      <th>language_id</th>\n",
              "    </tr>\n",
              "  </thead>\n",
              "  <tbody>\n",
              "    <tr>\n",
              "      <th>0</th>\n",
              "      <td>28997</td>\n",
              "      <td>photo</td>\n",
              "      <td>79.0</td>\n",
              "      <td>2020-04-12 01:48:13+00</td>\n",
              "      <td>I mean shitt it ain't their fault</td>\n",
              "      <td>en</td>\n",
              "      <td>True</td>\n",
              "      <td>17</td>\n",
              "      <td>14</td>\n",
              "      <td>2020-04-12 09:04:37.341908+00</td>\n",
              "      <td>2020-10-26 19:20:58.198825+00</td>\n",
              "      <td>False</td>\n",
              "      <td>brandon @brndvx females live on recruit diffic...</td>\n",
              "      <td>en</td>\n",
              "      <td>3.0</td>\n",
              "    </tr>\n",
              "    <tr>\n",
              "      <th>1</th>\n",
              "      <td>10873</td>\n",
              "      <td>photo</td>\n",
              "      <td>43.0</td>\n",
              "      <td>2020-03-25 11:48:14+00</td>\n",
              "      <td>NaN</td>\n",
              "      <td>ru</td>\n",
              "      <td>True</td>\n",
              "      <td>79</td>\n",
              "      <td>74</td>\n",
              "      <td>2020-03-25 20:00:01.154096+00</td>\n",
              "      <td>2020-10-26 19:20:58.226846+00</td>\n",
              "      <td>False</td>\n",
              "      <td>Я не робот Докажите, что всякое односвязное Ит...</td>\n",
              "      <td>ww</td>\n",
              "      <td>2.0</td>\n",
              "    </tr>\n",
              "    <tr>\n",
              "      <th>2</th>\n",
              "      <td>9874</td>\n",
              "      <td>photo</td>\n",
              "      <td>78.0</td>\n",
              "      <td>2020-03-24 07:18:03+00</td>\n",
              "      <td>Anime toddies expert</td>\n",
              "      <td>en</td>\n",
              "      <td>True</td>\n",
              "      <td>1</td>\n",
              "      <td>7</td>\n",
              "      <td>2020-03-24 13:06:18.588359+00</td>\n",
              "      <td>2020-10-26 19:20:58.259045+00</td>\n",
              "      <td>False</td>\n",
              "      <td>When you find the actual interview and it does...</td>\n",
              "      <td>en</td>\n",
              "      <td>3.0</td>\n",
              "    </tr>\n",
              "    <tr>\n",
              "      <th>3</th>\n",
              "      <td>43458</td>\n",
              "      <td>photo</td>\n",
              "      <td>43.0</td>\n",
              "      <td>2020-05-23 12:50:52+00</td>\n",
              "      <td>NaN</td>\n",
              "      <td>ru</td>\n",
              "      <td>False</td>\n",
              "      <td>8</td>\n",
              "      <td>12</td>\n",
              "      <td>2020-05-24 22:03:34.926116+00</td>\n",
              "      <td>2020-10-26 19:20:58.265179+00</td>\n",
              "      <td>False</td>\n",
              "      <td>Google сколько калорий в грамме урана а Все В ...</td>\n",
              "      <td>ww</td>\n",
              "      <td>2.0</td>\n",
              "    </tr>\n",
              "    <tr>\n",
              "      <th>4</th>\n",
              "      <td>9000</td>\n",
              "      <td>photo</td>\n",
              "      <td>76.0</td>\n",
              "      <td>2020-03-23 07:16:05+00</td>\n",
              "      <td>New treasure</td>\n",
              "      <td>und</td>\n",
              "      <td>True</td>\n",
              "      <td>2</td>\n",
              "      <td>9</td>\n",
              "      <td>2020-03-23 13:04:55.258554+00</td>\n",
              "      <td>2020-10-26 19:20:58.29742+00</td>\n",
              "      <td>False</td>\n",
              "      <td>YRO .20.</td>\n",
              "      <td>en</td>\n",
              "      <td>3.0</td>\n",
              "    </tr>\n",
              "    <tr>\n",
              "      <th>...</th>\n",
              "      <td>...</td>\n",
              "      <td>...</td>\n",
              "      <td>...</td>\n",
              "      <td>...</td>\n",
              "      <td>...</td>\n",
              "      <td>...</td>\n",
              "      <td>...</td>\n",
              "      <td>...</td>\n",
              "      <td>...</td>\n",
              "      <td>...</td>\n",
              "      <td>...</td>\n",
              "      <td>...</td>\n",
              "      <td>...</td>\n",
              "      <td>...</td>\n",
              "      <td>...</td>\n",
              "    </tr>\n",
              "    <tr>\n",
              "      <th>61851</th>\n",
              "      <td>29440</td>\n",
              "      <td>photo</td>\n",
              "      <td>80.0</td>\n",
              "      <td>2020-04-12 16:52:08+00</td>\n",
              "      <td>She never needed makeup</td>\n",
              "      <td>en</td>\n",
              "      <td>True</td>\n",
              "      <td>2</td>\n",
              "      <td>8</td>\n",
              "      <td>2020-04-12 21:02:06.757845+00</td>\n",
              "      <td>2020-10-26 19:20:58.103871+00</td>\n",
              "      <td>False</td>\n",
              "      <td>When your girlfriend takes off her makeup but ...</td>\n",
              "      <td>en</td>\n",
              "      <td>3.0</td>\n",
              "    </tr>\n",
              "    <tr>\n",
              "      <th>61852</th>\n",
              "      <td>50912</td>\n",
              "      <td>photo</td>\n",
              "      <td>18.0</td>\n",
              "      <td>2020-07-18 17:00:07+00</td>\n",
              "      <td>NaN</td>\n",
              "      <td>ru</td>\n",
              "      <td>True</td>\n",
              "      <td>539</td>\n",
              "      <td>225</td>\n",
              "      <td>2020-07-19 06:14:42.821713+00</td>\n",
              "      <td>2020-10-26 19:20:58.113269+00</td>\n",
              "      <td>False</td>\n",
              "      <td>katevictoriax Парней нужно чаще ласкать. Клади...</td>\n",
              "      <td>ww</td>\n",
              "      <td>2.0</td>\n",
              "    </tr>\n",
              "    <tr>\n",
              "      <th>61853</th>\n",
              "      <td>22646</td>\n",
              "      <td>photo</td>\n",
              "      <td>2.0</td>\n",
              "      <td>2020-04-06 06:52:16+00</td>\n",
              "      <td>NaN</td>\n",
              "      <td>en</td>\n",
              "      <td>False</td>\n",
              "      <td>1</td>\n",
              "      <td>2</td>\n",
              "      <td>2020-04-06 08:00:00.352386+00</td>\n",
              "      <td>2020-10-26 19:20:58.143725+00</td>\n",
              "      <td>False</td>\n",
              "      <td>I COME TOTHEDARKSIDE WE HAVE RESPIRATOR MASKS</td>\n",
              "      <td>ww</td>\n",
              "      <td>3.0</td>\n",
              "    </tr>\n",
              "    <tr>\n",
              "      <th>61854</th>\n",
              "      <td>49822</td>\n",
              "      <td>photo</td>\n",
              "      <td>NaN</td>\n",
              "      <td>2020-07-10 12:08:55+00</td>\n",
              "      <td>NaN</td>\n",
              "      <td>ru</td>\n",
              "      <td>True</td>\n",
              "      <td>5</td>\n",
              "      <td>17</td>\n",
              "      <td>2020-07-10 18:15:20.413744+00</td>\n",
              "      <td>2020-10-26 19:20:58.148913+00</td>\n",
              "      <td>False</td>\n",
              "      <td>Шаг Не знаете, куда поехать? Едьте в центр! Ян...</td>\n",
              "      <td>ww</td>\n",
              "      <td>2.0</td>\n",
              "    </tr>\n",
              "    <tr>\n",
              "      <th>61855</th>\n",
              "      <td>21074</td>\n",
              "      <td>photo</td>\n",
              "      <td>79.0</td>\n",
              "      <td>2020-04-04 12:20:31+00</td>\n",
              "      <td>Damn straight! You can't stop the rock!</td>\n",
              "      <td>en</td>\n",
              "      <td>True</td>\n",
              "      <td>4</td>\n",
              "      <td>10</td>\n",
              "      <td>2020-04-04 17:04:08.832725+00</td>\n",
              "      <td>2020-10-26 19:20:58.158679+00</td>\n",
              "      <td>False</td>\n",
              "      <td>Pøgba Senior @TheSaltIsHere · 16h You just kno...</td>\n",
              "      <td>en</td>\n",
              "      <td>3.0</td>\n",
              "    </tr>\n",
              "  </tbody>\n",
              "</table>\n",
              "<p>61516 rows × 15 columns</p>\n",
              "</div>"
            ],
            "text/plain": [
              "       meme_id meme_type  ...  caption_lang language_id\n",
              "0        28997     photo  ...            en         3.0\n",
              "1        10873     photo  ...            ww         2.0\n",
              "2         9874     photo  ...            en         3.0\n",
              "3        43458     photo  ...            ww         2.0\n",
              "4         9000     photo  ...            en         3.0\n",
              "...        ...       ...  ...           ...         ...\n",
              "61851    29440     photo  ...            en         3.0\n",
              "61852    50912     photo  ...            ww         2.0\n",
              "61853    22646     photo  ...            ww         3.0\n",
              "61854    49822     photo  ...            ww         2.0\n",
              "61855    21074     photo  ...            en         3.0\n",
              "\n",
              "[61516 rows x 15 columns]"
            ]
          },
          "metadata": {
            "tags": []
          },
          "execution_count": 11
        }
      ]
    },
    {
      "cell_type": "code",
      "metadata": {
        "colab": {
          "base_uri": "https://localhost:8080/"
        },
        "id": "vAgGGXxFbuAB",
        "outputId": "e5df455d-e3fb-4d9c-a41b-2b8f50d4ba4f"
      },
      "source": [
        "user['is_banned'].value_counts()"
      ],
      "execution_count": 12,
      "outputs": [
        {
          "output_type": "execute_result",
          "data": {
            "text/plain": [
              "False    19918\n",
              "Name: is_banned, dtype: int64"
            ]
          },
          "metadata": {
            "tags": []
          },
          "execution_count": 12
        }
      ]
    },
    {
      "cell_type": "code",
      "metadata": {
        "id": "VV3Wtbzhbt9b"
      },
      "source": [
        "# Проверить гипотезу: англ пользователи более активные чем русские\r\n",
        "# лайки\r\n",
        "# дизлайки\r\n",
        "# отношение L/D\r\n",
        "# Диаграмма (рус в среднем и eng в среднем)"
      ],
      "execution_count": 13,
      "outputs": []
    },
    {
      "cell_type": "code",
      "metadata": {
        "colab": {
          "base_uri": "https://localhost:8080/"
        },
        "id": "vlIngkyHdiGv",
        "outputId": "dba53f7a-544f-4f97-f1b6-d8c8c5617a7b"
      },
      "source": [
        "user['interface_lang'].value_counts()"
      ],
      "execution_count": 14,
      "outputs": [
        {
          "output_type": "execute_result",
          "data": {
            "text/plain": [
              "ru    14156\n",
              "en     5714\n",
              "Name: interface_lang, dtype: int64"
            ]
          },
          "metadata": {
            "tags": []
          },
          "execution_count": 14
        }
      ]
    },
    {
      "cell_type": "code",
      "metadata": {
        "colab": {
          "base_uri": "https://localhost:8080/"
        },
        "id": "8souLvXUeiC3",
        "outputId": "04926260-7862-498f-c284-42bc23d239da"
      },
      "source": [
        "reactions = event.groupby('user_id').count()['event_id']\r\n",
        "reactions"
      ],
      "execution_count": 15,
      "outputs": [
        {
          "output_type": "execute_result",
          "data": {
            "text/plain": [
              "user_id\n",
              "1615           47\n",
              "3859          193\n",
              "12199           3\n",
              "13934           6\n",
              "14229          15\n",
              "             ... \n",
              "1399229617      1\n",
              "1399329801      1\n",
              "1399419434     11\n",
              "1399511615      2\n",
              "1399599499      9\n",
              "Name: event_id, Length: 19699, dtype: int64"
            ]
          },
          "metadata": {
            "tags": []
          },
          "execution_count": 15
        }
      ]
    },
    {
      "cell_type": "code",
      "metadata": {
        "colab": {
          "base_uri": "https://localhost:8080/"
        },
        "id": "jI8Qq9xJf-R0",
        "outputId": "226ac2b0-4f5e-4ebd-df3d-965e64f9a475"
      },
      "source": [
        "# 1 - лайк\r\n",
        "# 2 - дизлайк\r\n",
        "likes = event[event['reaction_id'] == 1].groupby('user_id').count()['event_id']\r\n",
        "#likes.rename(columns = {'event_id':'likes'})\r\n",
        "likes\r\n"
      ],
      "execution_count": 16,
      "outputs": [
        {
          "output_type": "execute_result",
          "data": {
            "text/plain": [
              "user_id\n",
              "1615           25\n",
              "3859          106\n",
              "13934           1\n",
              "14229           2\n",
              "16060          14\n",
              "             ... \n",
              "1398188580      5\n",
              "1398529159     12\n",
              "1398799657      6\n",
              "1399419434      6\n",
              "1399599499      8\n",
              "Name: event_id, Length: 16633, dtype: int64"
            ]
          },
          "metadata": {
            "tags": []
          },
          "execution_count": 16
        }
      ]
    },
    {
      "cell_type": "code",
      "metadata": {
        "colab": {
          "base_uri": "https://localhost:8080/"
        },
        "id": "J-En8pdweiAe",
        "outputId": "3950c5d5-b075-4c22-bfce-19cb008d26f8"
      },
      "source": [
        "dislikes =  event[event['reaction_id'] == 2].groupby('user_id').count()['event_id']\r\n",
        "dislikes\r\n"
      ],
      "execution_count": 17,
      "outputs": [
        {
          "output_type": "execute_result",
          "data": {
            "text/plain": [
              "user_id\n",
              "1615           11\n",
              "3859           83\n",
              "14229          10\n",
              "16060         111\n",
              "20535          10\n",
              "             ... \n",
              "1397824939      2\n",
              "1397992921      5\n",
              "1397993276      3\n",
              "1398022998     14\n",
              "1398799657      1\n",
              "Name: event_id, Length: 15881, dtype: int64"
            ]
          },
          "metadata": {
            "tags": []
          },
          "execution_count": 17
        }
      ]
    },
    {
      "cell_type": "code",
      "metadata": {
        "id": "mjjkoZUSeh94"
      },
      "source": [
        "event_reactions = pd.DataFrame([likes.values,dislikes.values, reactions.values]).transpose()\r\n",
        "event_reactions.rename(columns = {0:'likes', 1:'dislikes', 2:'reactions'}, inplace = True)\r\n"
      ],
      "execution_count": 18,
      "outputs": []
    },
    {
      "cell_type": "code",
      "metadata": {
        "colab": {
          "base_uri": "https://localhost:8080/",
          "height": 436
        },
        "id": "oVpocRU_iqUN",
        "outputId": "67287d47-5739-44ff-d406-6d24f89ced4d"
      },
      "source": [
        "event_reactions.index = reactions.index\r\n",
        "event_reactions"
      ],
      "execution_count": 19,
      "outputs": [
        {
          "output_type": "execute_result",
          "data": {
            "text/html": [
              "<div>\n",
              "<style scoped>\n",
              "    .dataframe tbody tr th:only-of-type {\n",
              "        vertical-align: middle;\n",
              "    }\n",
              "\n",
              "    .dataframe tbody tr th {\n",
              "        vertical-align: top;\n",
              "    }\n",
              "\n",
              "    .dataframe thead th {\n",
              "        text-align: right;\n",
              "    }\n",
              "</style>\n",
              "<table border=\"1\" class=\"dataframe\">\n",
              "  <thead>\n",
              "    <tr style=\"text-align: right;\">\n",
              "      <th></th>\n",
              "      <th>likes</th>\n",
              "      <th>dislikes</th>\n",
              "      <th>reactions</th>\n",
              "    </tr>\n",
              "    <tr>\n",
              "      <th>user_id</th>\n",
              "      <th></th>\n",
              "      <th></th>\n",
              "      <th></th>\n",
              "    </tr>\n",
              "  </thead>\n",
              "  <tbody>\n",
              "    <tr>\n",
              "      <th>1615</th>\n",
              "      <td>25.0</td>\n",
              "      <td>11.0</td>\n",
              "      <td>47.0</td>\n",
              "    </tr>\n",
              "    <tr>\n",
              "      <th>3859</th>\n",
              "      <td>106.0</td>\n",
              "      <td>83.0</td>\n",
              "      <td>193.0</td>\n",
              "    </tr>\n",
              "    <tr>\n",
              "      <th>12199</th>\n",
              "      <td>1.0</td>\n",
              "      <td>10.0</td>\n",
              "      <td>3.0</td>\n",
              "    </tr>\n",
              "    <tr>\n",
              "      <th>13934</th>\n",
              "      <td>2.0</td>\n",
              "      <td>111.0</td>\n",
              "      <td>6.0</td>\n",
              "    </tr>\n",
              "    <tr>\n",
              "      <th>14229</th>\n",
              "      <td>14.0</td>\n",
              "      <td>10.0</td>\n",
              "      <td>15.0</td>\n",
              "    </tr>\n",
              "    <tr>\n",
              "      <th>...</th>\n",
              "      <td>...</td>\n",
              "      <td>...</td>\n",
              "      <td>...</td>\n",
              "    </tr>\n",
              "    <tr>\n",
              "      <th>1399229617</th>\n",
              "      <td>NaN</td>\n",
              "      <td>NaN</td>\n",
              "      <td>1.0</td>\n",
              "    </tr>\n",
              "    <tr>\n",
              "      <th>1399329801</th>\n",
              "      <td>NaN</td>\n",
              "      <td>NaN</td>\n",
              "      <td>1.0</td>\n",
              "    </tr>\n",
              "    <tr>\n",
              "      <th>1399419434</th>\n",
              "      <td>NaN</td>\n",
              "      <td>NaN</td>\n",
              "      <td>11.0</td>\n",
              "    </tr>\n",
              "    <tr>\n",
              "      <th>1399511615</th>\n",
              "      <td>NaN</td>\n",
              "      <td>NaN</td>\n",
              "      <td>2.0</td>\n",
              "    </tr>\n",
              "    <tr>\n",
              "      <th>1399599499</th>\n",
              "      <td>NaN</td>\n",
              "      <td>NaN</td>\n",
              "      <td>9.0</td>\n",
              "    </tr>\n",
              "  </tbody>\n",
              "</table>\n",
              "<p>19699 rows × 3 columns</p>\n",
              "</div>"
            ],
            "text/plain": [
              "            likes  dislikes  reactions\n",
              "user_id                               \n",
              "1615         25.0      11.0       47.0\n",
              "3859        106.0      83.0      193.0\n",
              "12199         1.0      10.0        3.0\n",
              "13934         2.0     111.0        6.0\n",
              "14229        14.0      10.0       15.0\n",
              "...           ...       ...        ...\n",
              "1399229617    NaN       NaN        1.0\n",
              "1399329801    NaN       NaN        1.0\n",
              "1399419434    NaN       NaN       11.0\n",
              "1399511615    NaN       NaN        2.0\n",
              "1399599499    NaN       NaN        9.0\n",
              "\n",
              "[19699 rows x 3 columns]"
            ]
          },
          "metadata": {
            "tags": []
          },
          "execution_count": 19
        }
      ]
    },
    {
      "cell_type": "markdown",
      "metadata": {
        "id": "2xe92e9nXm2O"
      },
      "source": [
        "### Построить график для лайков"
      ]
    },
    {
      "cell_type": "code",
      "metadata": {
        "colab": {
          "base_uri": "https://localhost:8080/"
        },
        "id": "MsTMqHQbiqYw",
        "outputId": "be4fb1bf-2c3d-4eeb-fb66-0b2ceea6eaf6"
      },
      "source": [
        "likes_users_ids = likes.index\r\n",
        "likes_users_ids"
      ],
      "execution_count": 20,
      "outputs": [
        {
          "output_type": "execute_result",
          "data": {
            "text/plain": [
              "Int64Index([      1615,       3859,      13934,      14229,      16060,\n",
              "                 20535,      28327,      30767,      37459,      39129,\n",
              "            ...\n",
              "            1397540701, 1397824939, 1397992921, 1397993276, 1398022998,\n",
              "            1398188580, 1398529159, 1398799657, 1399419434, 1399599499],\n",
              "           dtype='int64', name='user_id', length=16633)"
            ]
          },
          "metadata": {
            "tags": []
          },
          "execution_count": 20
        }
      ]
    },
    {
      "cell_type": "code",
      "metadata": {
        "colab": {
          "base_uri": "https://localhost:8080/"
        },
        "id": "-EBo49TKlPaG",
        "outputId": "c9fb7af2-57c9-433b-f97e-e2e6971cf088"
      },
      "source": [
        "users_likes = user[user.user_id.isin(likes_users_ids)].set_index('user_id')['interface_lang'].copy()\r\n",
        "users_likes"
      ],
      "execution_count": 21,
      "outputs": [
        {
          "output_type": "execute_result",
          "data": {
            "text/plain": [
              "user_id\n",
              "820326025     ru\n",
              "1040875164    en\n",
              "449432539     ru\n",
              "1008072970    en\n",
              "8239465       ru\n",
              "              ..\n",
              "125474047     ru\n",
              "608727447     ru\n",
              "1254871249    ru\n",
              "184147840     ru\n",
              "761418142     ru\n",
              "Name: interface_lang, Length: 16633, dtype: object"
            ]
          },
          "metadata": {
            "tags": []
          },
          "execution_count": 21
        }
      ]
    },
    {
      "cell_type": "code",
      "metadata": {
        "colab": {
          "base_uri": "https://localhost:8080/",
          "height": 137
        },
        "id": "veglbolWlPYE",
        "outputId": "579d532a-2578-4efd-b84c-3a6771ca88f5"
      },
      "source": [
        "detailed_likes =  pd.DataFrame([users_likes, likes]).transpose()\r\n",
        "grouped_det_likes = detailed_likes.groupby('interface_lang').count()\r\n",
        "grouped_det_likes"
      ],
      "execution_count": 22,
      "outputs": [
        {
          "output_type": "execute_result",
          "data": {
            "text/html": [
              "<div>\n",
              "<style scoped>\n",
              "    .dataframe tbody tr th:only-of-type {\n",
              "        vertical-align: middle;\n",
              "    }\n",
              "\n",
              "    .dataframe tbody tr th {\n",
              "        vertical-align: top;\n",
              "    }\n",
              "\n",
              "    .dataframe thead th {\n",
              "        text-align: right;\n",
              "    }\n",
              "</style>\n",
              "<table border=\"1\" class=\"dataframe\">\n",
              "  <thead>\n",
              "    <tr style=\"text-align: right;\">\n",
              "      <th></th>\n",
              "      <th>event_id</th>\n",
              "    </tr>\n",
              "    <tr>\n",
              "      <th>interface_lang</th>\n",
              "      <th></th>\n",
              "    </tr>\n",
              "  </thead>\n",
              "  <tbody>\n",
              "    <tr>\n",
              "      <th>en</th>\n",
              "      <td>4546</td>\n",
              "    </tr>\n",
              "    <tr>\n",
              "      <th>ru</th>\n",
              "      <td>12087</td>\n",
              "    </tr>\n",
              "  </tbody>\n",
              "</table>\n",
              "</div>"
            ],
            "text/plain": [
              "                event_id\n",
              "interface_lang          \n",
              "en                  4546\n",
              "ru                 12087"
            ]
          },
          "metadata": {
            "tags": []
          },
          "execution_count": 22
        }
      ]
    },
    {
      "cell_type": "code",
      "metadata": {
        "colab": {
          "base_uri": "https://localhost:8080/",
          "height": 542
        },
        "id": "8R3bd1wVlPVN",
        "outputId": "f80e441d-74b6-4b2d-9e08-dab0f2af6d95"
      },
      "source": [
        "import plotly.express as px\r\n",
        "fig = px.bar(grouped_det_likes, x = grouped_det_likes.index, y = 'event_id')\r\n",
        "fig.show()"
      ],
      "execution_count": 23,
      "outputs": [
        {
          "output_type": "display_data",
          "data": {
            "text/html": [
              "<html>\n",
              "<head><meta charset=\"utf-8\" /></head>\n",
              "<body>\n",
              "    <div>\n",
              "            <script src=\"https://cdnjs.cloudflare.com/ajax/libs/mathjax/2.7.5/MathJax.js?config=TeX-AMS-MML_SVG\"></script><script type=\"text/javascript\">if (window.MathJax) {MathJax.Hub.Config({SVG: {font: \"STIX-Web\"}});}</script>\n",
              "                <script type=\"text/javascript\">window.PlotlyConfig = {MathJaxConfig: 'local'};</script>\n",
              "        <script src=\"https://cdn.plot.ly/plotly-latest.min.js\"></script>    \n",
              "            <div id=\"292af9dc-1a94-45dc-aa0c-eecffd2485e5\" class=\"plotly-graph-div\" style=\"height:525px; width:100%;\"></div>\n",
              "            <script type=\"text/javascript\">\n",
              "                \n",
              "                    window.PLOTLYENV=window.PLOTLYENV || {};\n",
              "                    \n",
              "                if (document.getElementById(\"292af9dc-1a94-45dc-aa0c-eecffd2485e5\")) {\n",
              "                    Plotly.newPlot(\n",
              "                        '292af9dc-1a94-45dc-aa0c-eecffd2485e5',\n",
              "                        [{\"alignmentgroup\": \"True\", \"hoverlabel\": {\"namelength\": 0}, \"hovertemplate\": \"x=%{x}<br>event_id=%{y}\", \"legendgroup\": \"\", \"marker\": {\"color\": \"#636efa\"}, \"name\": \"\", \"offsetgroup\": \"\", \"orientation\": \"v\", \"showlegend\": false, \"textposition\": \"auto\", \"type\": \"bar\", \"x\": [\"en\", \"ru\"], \"xaxis\": \"x\", \"y\": [4546, 12087], \"yaxis\": \"y\"}],\n",
              "                        {\"barmode\": \"relative\", \"legend\": {\"tracegroupgap\": 0}, \"margin\": {\"t\": 60}, \"template\": {\"data\": {\"bar\": [{\"error_x\": {\"color\": \"#2a3f5f\"}, \"error_y\": {\"color\": \"#2a3f5f\"}, \"marker\": {\"line\": {\"color\": \"#E5ECF6\", \"width\": 0.5}}, \"type\": \"bar\"}], \"barpolar\": [{\"marker\": {\"line\": {\"color\": \"#E5ECF6\", \"width\": 0.5}}, \"type\": \"barpolar\"}], \"carpet\": [{\"aaxis\": {\"endlinecolor\": \"#2a3f5f\", \"gridcolor\": \"white\", \"linecolor\": \"white\", \"minorgridcolor\": \"white\", \"startlinecolor\": \"#2a3f5f\"}, \"baxis\": {\"endlinecolor\": \"#2a3f5f\", \"gridcolor\": \"white\", \"linecolor\": \"white\", \"minorgridcolor\": \"white\", \"startlinecolor\": \"#2a3f5f\"}, \"type\": \"carpet\"}], \"choropleth\": [{\"colorbar\": {\"outlinewidth\": 0, \"ticks\": \"\"}, \"type\": \"choropleth\"}], \"contour\": [{\"colorbar\": {\"outlinewidth\": 0, \"ticks\": \"\"}, \"colorscale\": [[0.0, \"#0d0887\"], [0.1111111111111111, \"#46039f\"], [0.2222222222222222, \"#7201a8\"], [0.3333333333333333, \"#9c179e\"], [0.4444444444444444, \"#bd3786\"], [0.5555555555555556, \"#d8576b\"], [0.6666666666666666, \"#ed7953\"], [0.7777777777777778, \"#fb9f3a\"], [0.8888888888888888, \"#fdca26\"], [1.0, \"#f0f921\"]], \"type\": \"contour\"}], \"contourcarpet\": [{\"colorbar\": {\"outlinewidth\": 0, \"ticks\": \"\"}, \"type\": \"contourcarpet\"}], \"heatmap\": [{\"colorbar\": {\"outlinewidth\": 0, \"ticks\": \"\"}, \"colorscale\": [[0.0, \"#0d0887\"], [0.1111111111111111, \"#46039f\"], [0.2222222222222222, \"#7201a8\"], [0.3333333333333333, \"#9c179e\"], [0.4444444444444444, \"#bd3786\"], [0.5555555555555556, \"#d8576b\"], [0.6666666666666666, \"#ed7953\"], [0.7777777777777778, \"#fb9f3a\"], [0.8888888888888888, \"#fdca26\"], [1.0, \"#f0f921\"]], \"type\": \"heatmap\"}], \"heatmapgl\": [{\"colorbar\": {\"outlinewidth\": 0, \"ticks\": \"\"}, \"colorscale\": [[0.0, \"#0d0887\"], [0.1111111111111111, \"#46039f\"], [0.2222222222222222, \"#7201a8\"], [0.3333333333333333, \"#9c179e\"], [0.4444444444444444, \"#bd3786\"], [0.5555555555555556, \"#d8576b\"], [0.6666666666666666, \"#ed7953\"], [0.7777777777777778, \"#fb9f3a\"], [0.8888888888888888, \"#fdca26\"], [1.0, \"#f0f921\"]], \"type\": \"heatmapgl\"}], \"histogram\": [{\"marker\": {\"colorbar\": {\"outlinewidth\": 0, \"ticks\": \"\"}}, \"type\": \"histogram\"}], \"histogram2d\": [{\"colorbar\": {\"outlinewidth\": 0, \"ticks\": \"\"}, \"colorscale\": [[0.0, \"#0d0887\"], [0.1111111111111111, \"#46039f\"], [0.2222222222222222, \"#7201a8\"], [0.3333333333333333, \"#9c179e\"], [0.4444444444444444, \"#bd3786\"], [0.5555555555555556, \"#d8576b\"], [0.6666666666666666, \"#ed7953\"], [0.7777777777777778, \"#fb9f3a\"], [0.8888888888888888, \"#fdca26\"], [1.0, \"#f0f921\"]], \"type\": \"histogram2d\"}], \"histogram2dcontour\": [{\"colorbar\": {\"outlinewidth\": 0, \"ticks\": \"\"}, \"colorscale\": [[0.0, \"#0d0887\"], [0.1111111111111111, \"#46039f\"], [0.2222222222222222, \"#7201a8\"], [0.3333333333333333, \"#9c179e\"], [0.4444444444444444, \"#bd3786\"], [0.5555555555555556, \"#d8576b\"], [0.6666666666666666, \"#ed7953\"], [0.7777777777777778, \"#fb9f3a\"], [0.8888888888888888, \"#fdca26\"], [1.0, \"#f0f921\"]], \"type\": \"histogram2dcontour\"}], \"mesh3d\": [{\"colorbar\": {\"outlinewidth\": 0, \"ticks\": \"\"}, \"type\": \"mesh3d\"}], \"parcoords\": [{\"line\": {\"colorbar\": {\"outlinewidth\": 0, \"ticks\": \"\"}}, \"type\": \"parcoords\"}], \"pie\": [{\"automargin\": true, \"type\": \"pie\"}], \"scatter\": [{\"marker\": {\"colorbar\": {\"outlinewidth\": 0, \"ticks\": \"\"}}, \"type\": \"scatter\"}], \"scatter3d\": [{\"line\": {\"colorbar\": {\"outlinewidth\": 0, \"ticks\": \"\"}}, \"marker\": {\"colorbar\": {\"outlinewidth\": 0, \"ticks\": \"\"}}, \"type\": \"scatter3d\"}], \"scattercarpet\": [{\"marker\": {\"colorbar\": {\"outlinewidth\": 0, \"ticks\": \"\"}}, \"type\": \"scattercarpet\"}], \"scattergeo\": [{\"marker\": {\"colorbar\": {\"outlinewidth\": 0, \"ticks\": \"\"}}, \"type\": \"scattergeo\"}], \"scattergl\": [{\"marker\": {\"colorbar\": {\"outlinewidth\": 0, \"ticks\": \"\"}}, \"type\": \"scattergl\"}], \"scattermapbox\": [{\"marker\": {\"colorbar\": {\"outlinewidth\": 0, \"ticks\": \"\"}}, \"type\": \"scattermapbox\"}], \"scatterpolar\": [{\"marker\": {\"colorbar\": {\"outlinewidth\": 0, \"ticks\": \"\"}}, \"type\": \"scatterpolar\"}], \"scatterpolargl\": [{\"marker\": {\"colorbar\": {\"outlinewidth\": 0, \"ticks\": \"\"}}, \"type\": \"scatterpolargl\"}], \"scatterternary\": [{\"marker\": {\"colorbar\": {\"outlinewidth\": 0, \"ticks\": \"\"}}, \"type\": \"scatterternary\"}], \"surface\": [{\"colorbar\": {\"outlinewidth\": 0, \"ticks\": \"\"}, \"colorscale\": [[0.0, \"#0d0887\"], [0.1111111111111111, \"#46039f\"], [0.2222222222222222, \"#7201a8\"], [0.3333333333333333, \"#9c179e\"], [0.4444444444444444, \"#bd3786\"], [0.5555555555555556, \"#d8576b\"], [0.6666666666666666, \"#ed7953\"], [0.7777777777777778, \"#fb9f3a\"], [0.8888888888888888, \"#fdca26\"], [1.0, \"#f0f921\"]], \"type\": \"surface\"}], \"table\": [{\"cells\": {\"fill\": {\"color\": \"#EBF0F8\"}, \"line\": {\"color\": \"white\"}}, \"header\": {\"fill\": {\"color\": \"#C8D4E3\"}, \"line\": {\"color\": \"white\"}}, \"type\": \"table\"}]}, \"layout\": {\"annotationdefaults\": {\"arrowcolor\": \"#2a3f5f\", \"arrowhead\": 0, \"arrowwidth\": 1}, \"coloraxis\": {\"colorbar\": {\"outlinewidth\": 0, \"ticks\": \"\"}}, \"colorscale\": {\"diverging\": [[0, \"#8e0152\"], [0.1, \"#c51b7d\"], [0.2, \"#de77ae\"], [0.3, \"#f1b6da\"], [0.4, \"#fde0ef\"], [0.5, \"#f7f7f7\"], [0.6, \"#e6f5d0\"], [0.7, \"#b8e186\"], [0.8, \"#7fbc41\"], [0.9, \"#4d9221\"], [1, \"#276419\"]], \"sequential\": [[0.0, \"#0d0887\"], [0.1111111111111111, \"#46039f\"], [0.2222222222222222, \"#7201a8\"], [0.3333333333333333, \"#9c179e\"], [0.4444444444444444, \"#bd3786\"], [0.5555555555555556, \"#d8576b\"], [0.6666666666666666, \"#ed7953\"], [0.7777777777777778, \"#fb9f3a\"], [0.8888888888888888, \"#fdca26\"], [1.0, \"#f0f921\"]], \"sequentialminus\": [[0.0, \"#0d0887\"], [0.1111111111111111, \"#46039f\"], [0.2222222222222222, \"#7201a8\"], [0.3333333333333333, \"#9c179e\"], [0.4444444444444444, \"#bd3786\"], [0.5555555555555556, \"#d8576b\"], [0.6666666666666666, \"#ed7953\"], [0.7777777777777778, \"#fb9f3a\"], [0.8888888888888888, \"#fdca26\"], [1.0, \"#f0f921\"]]}, \"colorway\": [\"#636efa\", \"#EF553B\", \"#00cc96\", \"#ab63fa\", \"#FFA15A\", \"#19d3f3\", \"#FF6692\", \"#B6E880\", \"#FF97FF\", \"#FECB52\"], \"font\": {\"color\": \"#2a3f5f\"}, \"geo\": {\"bgcolor\": \"white\", \"lakecolor\": \"white\", \"landcolor\": \"#E5ECF6\", \"showlakes\": true, \"showland\": true, \"subunitcolor\": \"white\"}, \"hoverlabel\": {\"align\": \"left\"}, \"hovermode\": \"closest\", \"mapbox\": {\"style\": \"light\"}, \"paper_bgcolor\": \"white\", \"plot_bgcolor\": \"#E5ECF6\", \"polar\": {\"angularaxis\": {\"gridcolor\": \"white\", \"linecolor\": \"white\", \"ticks\": \"\"}, \"bgcolor\": \"#E5ECF6\", \"radialaxis\": {\"gridcolor\": \"white\", \"linecolor\": \"white\", \"ticks\": \"\"}}, \"scene\": {\"xaxis\": {\"backgroundcolor\": \"#E5ECF6\", \"gridcolor\": \"white\", \"gridwidth\": 2, \"linecolor\": \"white\", \"showbackground\": true, \"ticks\": \"\", \"zerolinecolor\": \"white\"}, \"yaxis\": {\"backgroundcolor\": \"#E5ECF6\", \"gridcolor\": \"white\", \"gridwidth\": 2, \"linecolor\": \"white\", \"showbackground\": true, \"ticks\": \"\", \"zerolinecolor\": \"white\"}, \"zaxis\": {\"backgroundcolor\": \"#E5ECF6\", \"gridcolor\": \"white\", \"gridwidth\": 2, \"linecolor\": \"white\", \"showbackground\": true, \"ticks\": \"\", \"zerolinecolor\": \"white\"}}, \"shapedefaults\": {\"line\": {\"color\": \"#2a3f5f\"}}, \"ternary\": {\"aaxis\": {\"gridcolor\": \"white\", \"linecolor\": \"white\", \"ticks\": \"\"}, \"baxis\": {\"gridcolor\": \"white\", \"linecolor\": \"white\", \"ticks\": \"\"}, \"bgcolor\": \"#E5ECF6\", \"caxis\": {\"gridcolor\": \"white\", \"linecolor\": \"white\", \"ticks\": \"\"}}, \"title\": {\"x\": 0.05}, \"xaxis\": {\"automargin\": true, \"gridcolor\": \"white\", \"linecolor\": \"white\", \"ticks\": \"\", \"title\": {\"standoff\": 15}, \"zerolinecolor\": \"white\", \"zerolinewidth\": 2}, \"yaxis\": {\"automargin\": true, \"gridcolor\": \"white\", \"linecolor\": \"white\", \"ticks\": \"\", \"title\": {\"standoff\": 15}, \"zerolinecolor\": \"white\", \"zerolinewidth\": 2}}}, \"xaxis\": {\"anchor\": \"y\", \"domain\": [0.0, 1.0], \"title\": {\"text\": \"x\"}}, \"yaxis\": {\"anchor\": \"x\", \"domain\": [0.0, 1.0], \"title\": {\"text\": \"event_id\"}}},\n",
              "                        {\"responsive\": true}\n",
              "                    ).then(function(){\n",
              "                            \n",
              "var gd = document.getElementById('292af9dc-1a94-45dc-aa0c-eecffd2485e5');\n",
              "var x = new MutationObserver(function (mutations, observer) {{\n",
              "        var display = window.getComputedStyle(gd).display;\n",
              "        if (!display || display === 'none') {{\n",
              "            console.log([gd, 'removed!']);\n",
              "            Plotly.purge(gd);\n",
              "            observer.disconnect();\n",
              "        }}\n",
              "}});\n",
              "\n",
              "// Listen for the removal of the full notebook cells\n",
              "var notebookContainer = gd.closest('#notebook-container');\n",
              "if (notebookContainer) {{\n",
              "    x.observe(notebookContainer, {childList: true});\n",
              "}}\n",
              "\n",
              "// Listen for the clearing of the current output cell\n",
              "var outputEl = gd.closest('.output');\n",
              "if (outputEl) {{\n",
              "    x.observe(outputEl, {childList: true});\n",
              "}}\n",
              "\n",
              "                        })\n",
              "                };\n",
              "                \n",
              "            </script>\n",
              "        </div>\n",
              "</body>\n",
              "</html>"
            ]
          },
          "metadata": {
            "tags": []
          }
        }
      ]
    },
    {
      "cell_type": "markdown",
      "metadata": {
        "id": "3oO2w4JqWhcT"
      },
      "source": [
        "### Для каждого source соотношение лайков дизлайков"
      ]
    },
    {
      "cell_type": "code",
      "metadata": {
        "colab": {
          "base_uri": "https://localhost:8080/",
          "height": 436
        },
        "id": "r7VvUxDpncSE",
        "outputId": "d251cb97-e333-428d-dfa0-24eaf65f3c31"
      },
      "source": [
        "memes_grouped = meme[['source_id', 'likes', 'dislikes']]\r\n",
        "memes_grouped_sum = memes_grouped.groupby('source_id').sum()\r\n",
        "memes_grouped_sum['l\\\\d'] = memes_grouped_sum['likes'] / memes_grouped_sum['dislikes']\r\n",
        "memes_grouped_sum"
      ],
      "execution_count": 24,
      "outputs": [
        {
          "output_type": "execute_result",
          "data": {
            "text/html": [
              "<div>\n",
              "<style scoped>\n",
              "    .dataframe tbody tr th:only-of-type {\n",
              "        vertical-align: middle;\n",
              "    }\n",
              "\n",
              "    .dataframe tbody tr th {\n",
              "        vertical-align: top;\n",
              "    }\n",
              "\n",
              "    .dataframe thead th {\n",
              "        text-align: right;\n",
              "    }\n",
              "</style>\n",
              "<table border=\"1\" class=\"dataframe\">\n",
              "  <thead>\n",
              "    <tr style=\"text-align: right;\">\n",
              "      <th></th>\n",
              "      <th>likes</th>\n",
              "      <th>dislikes</th>\n",
              "      <th>l\\d</th>\n",
              "    </tr>\n",
              "    <tr>\n",
              "      <th>source_id</th>\n",
              "      <th></th>\n",
              "      <th></th>\n",
              "      <th></th>\n",
              "    </tr>\n",
              "  </thead>\n",
              "  <tbody>\n",
              "    <tr>\n",
              "      <th>1.0</th>\n",
              "      <td>141</td>\n",
              "      <td>447</td>\n",
              "      <td>0.315436</td>\n",
              "    </tr>\n",
              "    <tr>\n",
              "      <th>2.0</th>\n",
              "      <td>8753</td>\n",
              "      <td>11876</td>\n",
              "      <td>0.737033</td>\n",
              "    </tr>\n",
              "    <tr>\n",
              "      <th>3.0</th>\n",
              "      <td>17852</td>\n",
              "      <td>19303</td>\n",
              "      <td>0.924830</td>\n",
              "    </tr>\n",
              "    <tr>\n",
              "      <th>4.0</th>\n",
              "      <td>17265</td>\n",
              "      <td>27841</td>\n",
              "      <td>0.620129</td>\n",
              "    </tr>\n",
              "    <tr>\n",
              "      <th>5.0</th>\n",
              "      <td>11334</td>\n",
              "      <td>15323</td>\n",
              "      <td>0.739672</td>\n",
              "    </tr>\n",
              "    <tr>\n",
              "      <th>...</th>\n",
              "      <td>...</td>\n",
              "      <td>...</td>\n",
              "      <td>...</td>\n",
              "    </tr>\n",
              "    <tr>\n",
              "      <th>155.0</th>\n",
              "      <td>172</td>\n",
              "      <td>463</td>\n",
              "      <td>0.371490</td>\n",
              "    </tr>\n",
              "    <tr>\n",
              "      <th>156.0</th>\n",
              "      <td>741</td>\n",
              "      <td>1331</td>\n",
              "      <td>0.556724</td>\n",
              "    </tr>\n",
              "    <tr>\n",
              "      <th>157.0</th>\n",
              "      <td>823</td>\n",
              "      <td>1532</td>\n",
              "      <td>0.537206</td>\n",
              "    </tr>\n",
              "    <tr>\n",
              "      <th>158.0</th>\n",
              "      <td>387</td>\n",
              "      <td>592</td>\n",
              "      <td>0.653716</td>\n",
              "    </tr>\n",
              "    <tr>\n",
              "      <th>159.0</th>\n",
              "      <td>24</td>\n",
              "      <td>110</td>\n",
              "      <td>0.218182</td>\n",
              "    </tr>\n",
              "  </tbody>\n",
              "</table>\n",
              "<p>142 rows × 3 columns</p>\n",
              "</div>"
            ],
            "text/plain": [
              "           likes  dislikes       l\\d\n",
              "source_id                           \n",
              "1.0          141       447  0.315436\n",
              "2.0         8753     11876  0.737033\n",
              "3.0        17852     19303  0.924830\n",
              "4.0        17265     27841  0.620129\n",
              "5.0        11334     15323  0.739672\n",
              "...          ...       ...       ...\n",
              "155.0        172       463  0.371490\n",
              "156.0        741      1331  0.556724\n",
              "157.0        823      1532  0.537206\n",
              "158.0        387       592  0.653716\n",
              "159.0         24       110  0.218182\n",
              "\n",
              "[142 rows x 3 columns]"
            ]
          },
          "metadata": {
            "tags": []
          },
          "execution_count": 24
        }
      ]
    },
    {
      "cell_type": "markdown",
      "metadata": {
        "id": "-lZlpLucWfhI"
      },
      "source": [
        "### Проделать ту же работу для дизлайков и всех реакций"
      ]
    },
    {
      "cell_type": "markdown",
      "metadata": {
        "id": "woYd5nCiZaVb"
      },
      "source": [
        "#### Дизлайки"
      ]
    },
    {
      "cell_type": "code",
      "metadata": {
        "colab": {
          "base_uri": "https://localhost:8080/"
        },
        "id": "Csh6DKGBWx-x",
        "outputId": "38fc680c-f680-42e3-a668-93eb27e6338b"
      },
      "source": [
        "dislikes_users_ids = dislikes.index\r\n",
        "dislikes_users_ids"
      ],
      "execution_count": 25,
      "outputs": [
        {
          "output_type": "execute_result",
          "data": {
            "text/plain": [
              "Int64Index([      1615,       3859,      14229,      16060,      20535,\n",
              "                 28327,      30767,      37459,      45215,      45795,\n",
              "            ...\n",
              "            1396154939, 1396196160, 1397068897, 1397208607, 1397490541,\n",
              "            1397824939, 1397992921, 1397993276, 1398022998, 1398799657],\n",
              "           dtype='int64', name='user_id', length=15881)"
            ]
          },
          "metadata": {
            "tags": []
          },
          "execution_count": 25
        }
      ]
    },
    {
      "cell_type": "code",
      "metadata": {
        "colab": {
          "base_uri": "https://localhost:8080/"
        },
        "id": "w0o-bzwTWx55",
        "outputId": "4ce2154e-171c-4eb9-85b2-ee5412b0a3f7"
      },
      "source": [
        "users_dislikes = user[user.user_id.isin(dislikes_users_ids)].set_index('user_id')['interface_lang'].copy()\r\n",
        "users_dislikes"
      ],
      "execution_count": 26,
      "outputs": [
        {
          "output_type": "execute_result",
          "data": {
            "text/plain": [
              "user_id\n",
              "820326025     ru\n",
              "1040875164    en\n",
              "7719424       ru\n",
              "8239465       ru\n",
              "379260363     ru\n",
              "              ..\n",
              "125474047     ru\n",
              "608727447     ru\n",
              "1254871249    ru\n",
              "184147840     ru\n",
              "761418142     ru\n",
              "Name: interface_lang, Length: 15881, dtype: object"
            ]
          },
          "metadata": {
            "tags": []
          },
          "execution_count": 26
        }
      ]
    },
    {
      "cell_type": "code",
      "metadata": {
        "colab": {
          "base_uri": "https://localhost:8080/",
          "height": 137
        },
        "id": "zVUmhGXCWx1V",
        "outputId": "1d03e310-2ede-4243-c549-6b4e4a5d267f"
      },
      "source": [
        "detailed_dislikes =  pd.DataFrame([users_dislikes, dislikes]).transpose()\r\n",
        "grouped_det_dislikes = detailed_dislikes.groupby('interface_lang').count()\r\n",
        "grouped_det_dislikes"
      ],
      "execution_count": 27,
      "outputs": [
        {
          "output_type": "execute_result",
          "data": {
            "text/html": [
              "<div>\n",
              "<style scoped>\n",
              "    .dataframe tbody tr th:only-of-type {\n",
              "        vertical-align: middle;\n",
              "    }\n",
              "\n",
              "    .dataframe tbody tr th {\n",
              "        vertical-align: top;\n",
              "    }\n",
              "\n",
              "    .dataframe thead th {\n",
              "        text-align: right;\n",
              "    }\n",
              "</style>\n",
              "<table border=\"1\" class=\"dataframe\">\n",
              "  <thead>\n",
              "    <tr style=\"text-align: right;\">\n",
              "      <th></th>\n",
              "      <th>event_id</th>\n",
              "    </tr>\n",
              "    <tr>\n",
              "      <th>interface_lang</th>\n",
              "      <th></th>\n",
              "    </tr>\n",
              "  </thead>\n",
              "  <tbody>\n",
              "    <tr>\n",
              "      <th>en</th>\n",
              "      <td>3532</td>\n",
              "    </tr>\n",
              "    <tr>\n",
              "      <th>ru</th>\n",
              "      <td>12349</td>\n",
              "    </tr>\n",
              "  </tbody>\n",
              "</table>\n",
              "</div>"
            ],
            "text/plain": [
              "                event_id\n",
              "interface_lang          \n",
              "en                  3532\n",
              "ru                 12349"
            ]
          },
          "metadata": {
            "tags": []
          },
          "execution_count": 27
        }
      ]
    },
    {
      "cell_type": "code",
      "metadata": {
        "colab": {
          "base_uri": "https://localhost:8080/",
          "height": 542
        },
        "id": "FcBAGrBFXXr3",
        "outputId": "6cc7369c-e09f-4da6-9027-b2e6f41d6005"
      },
      "source": [
        "fig = px.bar(grouped_det_dislikes, x = grouped_det_dislikes.index, y = 'event_id')\r\n",
        "fig.show()"
      ],
      "execution_count": 28,
      "outputs": [
        {
          "output_type": "display_data",
          "data": {
            "text/html": [
              "<html>\n",
              "<head><meta charset=\"utf-8\" /></head>\n",
              "<body>\n",
              "    <div>\n",
              "            <script src=\"https://cdnjs.cloudflare.com/ajax/libs/mathjax/2.7.5/MathJax.js?config=TeX-AMS-MML_SVG\"></script><script type=\"text/javascript\">if (window.MathJax) {MathJax.Hub.Config({SVG: {font: \"STIX-Web\"}});}</script>\n",
              "                <script type=\"text/javascript\">window.PlotlyConfig = {MathJaxConfig: 'local'};</script>\n",
              "        <script src=\"https://cdn.plot.ly/plotly-latest.min.js\"></script>    \n",
              "            <div id=\"5ce53d78-c217-4699-9b45-a67f06c59f8b\" class=\"plotly-graph-div\" style=\"height:525px; width:100%;\"></div>\n",
              "            <script type=\"text/javascript\">\n",
              "                \n",
              "                    window.PLOTLYENV=window.PLOTLYENV || {};\n",
              "                    \n",
              "                if (document.getElementById(\"5ce53d78-c217-4699-9b45-a67f06c59f8b\")) {\n",
              "                    Plotly.newPlot(\n",
              "                        '5ce53d78-c217-4699-9b45-a67f06c59f8b',\n",
              "                        [{\"alignmentgroup\": \"True\", \"hoverlabel\": {\"namelength\": 0}, \"hovertemplate\": \"x=%{x}<br>event_id=%{y}\", \"legendgroup\": \"\", \"marker\": {\"color\": \"#636efa\"}, \"name\": \"\", \"offsetgroup\": \"\", \"orientation\": \"v\", \"showlegend\": false, \"textposition\": \"auto\", \"type\": \"bar\", \"x\": [\"en\", \"ru\"], \"xaxis\": \"x\", \"y\": [3532, 12349], \"yaxis\": \"y\"}],\n",
              "                        {\"barmode\": \"relative\", \"legend\": {\"tracegroupgap\": 0}, \"margin\": {\"t\": 60}, \"template\": {\"data\": {\"bar\": [{\"error_x\": {\"color\": \"#2a3f5f\"}, \"error_y\": {\"color\": \"#2a3f5f\"}, \"marker\": {\"line\": {\"color\": \"#E5ECF6\", \"width\": 0.5}}, \"type\": \"bar\"}], \"barpolar\": [{\"marker\": {\"line\": {\"color\": \"#E5ECF6\", \"width\": 0.5}}, \"type\": \"barpolar\"}], \"carpet\": [{\"aaxis\": {\"endlinecolor\": \"#2a3f5f\", \"gridcolor\": \"white\", \"linecolor\": \"white\", \"minorgridcolor\": \"white\", \"startlinecolor\": \"#2a3f5f\"}, \"baxis\": {\"endlinecolor\": \"#2a3f5f\", \"gridcolor\": \"white\", \"linecolor\": \"white\", \"minorgridcolor\": \"white\", \"startlinecolor\": \"#2a3f5f\"}, \"type\": \"carpet\"}], \"choropleth\": [{\"colorbar\": {\"outlinewidth\": 0, \"ticks\": \"\"}, \"type\": \"choropleth\"}], \"contour\": [{\"colorbar\": {\"outlinewidth\": 0, \"ticks\": \"\"}, \"colorscale\": [[0.0, \"#0d0887\"], [0.1111111111111111, \"#46039f\"], [0.2222222222222222, \"#7201a8\"], [0.3333333333333333, \"#9c179e\"], [0.4444444444444444, \"#bd3786\"], [0.5555555555555556, \"#d8576b\"], [0.6666666666666666, \"#ed7953\"], [0.7777777777777778, \"#fb9f3a\"], [0.8888888888888888, \"#fdca26\"], [1.0, \"#f0f921\"]], \"type\": \"contour\"}], \"contourcarpet\": [{\"colorbar\": {\"outlinewidth\": 0, \"ticks\": \"\"}, \"type\": \"contourcarpet\"}], \"heatmap\": [{\"colorbar\": {\"outlinewidth\": 0, \"ticks\": \"\"}, \"colorscale\": [[0.0, \"#0d0887\"], [0.1111111111111111, \"#46039f\"], [0.2222222222222222, \"#7201a8\"], [0.3333333333333333, \"#9c179e\"], [0.4444444444444444, \"#bd3786\"], [0.5555555555555556, \"#d8576b\"], [0.6666666666666666, \"#ed7953\"], [0.7777777777777778, \"#fb9f3a\"], [0.8888888888888888, \"#fdca26\"], [1.0, \"#f0f921\"]], \"type\": \"heatmap\"}], \"heatmapgl\": [{\"colorbar\": {\"outlinewidth\": 0, \"ticks\": \"\"}, \"colorscale\": [[0.0, \"#0d0887\"], [0.1111111111111111, \"#46039f\"], [0.2222222222222222, \"#7201a8\"], [0.3333333333333333, \"#9c179e\"], [0.4444444444444444, \"#bd3786\"], [0.5555555555555556, \"#d8576b\"], [0.6666666666666666, \"#ed7953\"], [0.7777777777777778, \"#fb9f3a\"], [0.8888888888888888, \"#fdca26\"], [1.0, \"#f0f921\"]], \"type\": \"heatmapgl\"}], \"histogram\": [{\"marker\": {\"colorbar\": {\"outlinewidth\": 0, \"ticks\": \"\"}}, \"type\": \"histogram\"}], \"histogram2d\": [{\"colorbar\": {\"outlinewidth\": 0, \"ticks\": \"\"}, \"colorscale\": [[0.0, \"#0d0887\"], [0.1111111111111111, \"#46039f\"], [0.2222222222222222, \"#7201a8\"], [0.3333333333333333, \"#9c179e\"], [0.4444444444444444, \"#bd3786\"], [0.5555555555555556, \"#d8576b\"], [0.6666666666666666, \"#ed7953\"], [0.7777777777777778, \"#fb9f3a\"], [0.8888888888888888, \"#fdca26\"], [1.0, \"#f0f921\"]], \"type\": \"histogram2d\"}], \"histogram2dcontour\": [{\"colorbar\": {\"outlinewidth\": 0, \"ticks\": \"\"}, \"colorscale\": [[0.0, \"#0d0887\"], [0.1111111111111111, \"#46039f\"], [0.2222222222222222, \"#7201a8\"], [0.3333333333333333, \"#9c179e\"], [0.4444444444444444, \"#bd3786\"], [0.5555555555555556, \"#d8576b\"], [0.6666666666666666, \"#ed7953\"], [0.7777777777777778, \"#fb9f3a\"], [0.8888888888888888, \"#fdca26\"], [1.0, \"#f0f921\"]], \"type\": \"histogram2dcontour\"}], \"mesh3d\": [{\"colorbar\": {\"outlinewidth\": 0, \"ticks\": \"\"}, \"type\": \"mesh3d\"}], \"parcoords\": [{\"line\": {\"colorbar\": {\"outlinewidth\": 0, \"ticks\": \"\"}}, \"type\": \"parcoords\"}], \"pie\": [{\"automargin\": true, \"type\": \"pie\"}], \"scatter\": [{\"marker\": {\"colorbar\": {\"outlinewidth\": 0, \"ticks\": \"\"}}, \"type\": \"scatter\"}], \"scatter3d\": [{\"line\": {\"colorbar\": {\"outlinewidth\": 0, \"ticks\": \"\"}}, \"marker\": {\"colorbar\": {\"outlinewidth\": 0, \"ticks\": \"\"}}, \"type\": \"scatter3d\"}], \"scattercarpet\": [{\"marker\": {\"colorbar\": {\"outlinewidth\": 0, \"ticks\": \"\"}}, \"type\": \"scattercarpet\"}], \"scattergeo\": [{\"marker\": {\"colorbar\": {\"outlinewidth\": 0, \"ticks\": \"\"}}, \"type\": \"scattergeo\"}], \"scattergl\": [{\"marker\": {\"colorbar\": {\"outlinewidth\": 0, \"ticks\": \"\"}}, \"type\": \"scattergl\"}], \"scattermapbox\": [{\"marker\": {\"colorbar\": {\"outlinewidth\": 0, \"ticks\": \"\"}}, \"type\": \"scattermapbox\"}], \"scatterpolar\": [{\"marker\": {\"colorbar\": {\"outlinewidth\": 0, \"ticks\": \"\"}}, \"type\": \"scatterpolar\"}], \"scatterpolargl\": [{\"marker\": {\"colorbar\": {\"outlinewidth\": 0, \"ticks\": \"\"}}, \"type\": \"scatterpolargl\"}], \"scatterternary\": [{\"marker\": {\"colorbar\": {\"outlinewidth\": 0, \"ticks\": \"\"}}, \"type\": \"scatterternary\"}], \"surface\": [{\"colorbar\": {\"outlinewidth\": 0, \"ticks\": \"\"}, \"colorscale\": [[0.0, \"#0d0887\"], [0.1111111111111111, \"#46039f\"], [0.2222222222222222, \"#7201a8\"], [0.3333333333333333, \"#9c179e\"], [0.4444444444444444, \"#bd3786\"], [0.5555555555555556, \"#d8576b\"], [0.6666666666666666, \"#ed7953\"], [0.7777777777777778, \"#fb9f3a\"], [0.8888888888888888, \"#fdca26\"], [1.0, \"#f0f921\"]], \"type\": \"surface\"}], \"table\": [{\"cells\": {\"fill\": {\"color\": \"#EBF0F8\"}, \"line\": {\"color\": \"white\"}}, \"header\": {\"fill\": {\"color\": \"#C8D4E3\"}, \"line\": {\"color\": \"white\"}}, \"type\": \"table\"}]}, \"layout\": {\"annotationdefaults\": {\"arrowcolor\": \"#2a3f5f\", \"arrowhead\": 0, \"arrowwidth\": 1}, \"coloraxis\": {\"colorbar\": {\"outlinewidth\": 0, \"ticks\": \"\"}}, \"colorscale\": {\"diverging\": [[0, \"#8e0152\"], [0.1, \"#c51b7d\"], [0.2, \"#de77ae\"], [0.3, \"#f1b6da\"], [0.4, \"#fde0ef\"], [0.5, \"#f7f7f7\"], [0.6, \"#e6f5d0\"], [0.7, \"#b8e186\"], [0.8, \"#7fbc41\"], [0.9, \"#4d9221\"], [1, \"#276419\"]], \"sequential\": [[0.0, \"#0d0887\"], [0.1111111111111111, \"#46039f\"], [0.2222222222222222, \"#7201a8\"], [0.3333333333333333, \"#9c179e\"], [0.4444444444444444, \"#bd3786\"], [0.5555555555555556, \"#d8576b\"], [0.6666666666666666, \"#ed7953\"], [0.7777777777777778, \"#fb9f3a\"], [0.8888888888888888, \"#fdca26\"], [1.0, \"#f0f921\"]], \"sequentialminus\": [[0.0, \"#0d0887\"], [0.1111111111111111, \"#46039f\"], [0.2222222222222222, \"#7201a8\"], [0.3333333333333333, \"#9c179e\"], [0.4444444444444444, \"#bd3786\"], [0.5555555555555556, \"#d8576b\"], [0.6666666666666666, \"#ed7953\"], [0.7777777777777778, \"#fb9f3a\"], [0.8888888888888888, \"#fdca26\"], [1.0, \"#f0f921\"]]}, \"colorway\": [\"#636efa\", \"#EF553B\", \"#00cc96\", \"#ab63fa\", \"#FFA15A\", \"#19d3f3\", \"#FF6692\", \"#B6E880\", \"#FF97FF\", \"#FECB52\"], \"font\": {\"color\": \"#2a3f5f\"}, \"geo\": {\"bgcolor\": \"white\", \"lakecolor\": \"white\", \"landcolor\": \"#E5ECF6\", \"showlakes\": true, \"showland\": true, \"subunitcolor\": \"white\"}, \"hoverlabel\": {\"align\": \"left\"}, \"hovermode\": \"closest\", \"mapbox\": {\"style\": \"light\"}, \"paper_bgcolor\": \"white\", \"plot_bgcolor\": \"#E5ECF6\", \"polar\": {\"angularaxis\": {\"gridcolor\": \"white\", \"linecolor\": \"white\", \"ticks\": \"\"}, \"bgcolor\": \"#E5ECF6\", \"radialaxis\": {\"gridcolor\": \"white\", \"linecolor\": \"white\", \"ticks\": \"\"}}, \"scene\": {\"xaxis\": {\"backgroundcolor\": \"#E5ECF6\", \"gridcolor\": \"white\", \"gridwidth\": 2, \"linecolor\": \"white\", \"showbackground\": true, \"ticks\": \"\", \"zerolinecolor\": \"white\"}, \"yaxis\": {\"backgroundcolor\": \"#E5ECF6\", \"gridcolor\": \"white\", \"gridwidth\": 2, \"linecolor\": \"white\", \"showbackground\": true, \"ticks\": \"\", \"zerolinecolor\": \"white\"}, \"zaxis\": {\"backgroundcolor\": \"#E5ECF6\", \"gridcolor\": \"white\", \"gridwidth\": 2, \"linecolor\": \"white\", \"showbackground\": true, \"ticks\": \"\", \"zerolinecolor\": \"white\"}}, \"shapedefaults\": {\"line\": {\"color\": \"#2a3f5f\"}}, \"ternary\": {\"aaxis\": {\"gridcolor\": \"white\", \"linecolor\": \"white\", \"ticks\": \"\"}, \"baxis\": {\"gridcolor\": \"white\", \"linecolor\": \"white\", \"ticks\": \"\"}, \"bgcolor\": \"#E5ECF6\", \"caxis\": {\"gridcolor\": \"white\", \"linecolor\": \"white\", \"ticks\": \"\"}}, \"title\": {\"x\": 0.05}, \"xaxis\": {\"automargin\": true, \"gridcolor\": \"white\", \"linecolor\": \"white\", \"ticks\": \"\", \"title\": {\"standoff\": 15}, \"zerolinecolor\": \"white\", \"zerolinewidth\": 2}, \"yaxis\": {\"automargin\": true, \"gridcolor\": \"white\", \"linecolor\": \"white\", \"ticks\": \"\", \"title\": {\"standoff\": 15}, \"zerolinecolor\": \"white\", \"zerolinewidth\": 2}}}, \"xaxis\": {\"anchor\": \"y\", \"domain\": [0.0, 1.0], \"title\": {\"text\": \"x\"}}, \"yaxis\": {\"anchor\": \"x\", \"domain\": [0.0, 1.0], \"title\": {\"text\": \"event_id\"}}},\n",
              "                        {\"responsive\": true}\n",
              "                    ).then(function(){\n",
              "                            \n",
              "var gd = document.getElementById('5ce53d78-c217-4699-9b45-a67f06c59f8b');\n",
              "var x = new MutationObserver(function (mutations, observer) {{\n",
              "        var display = window.getComputedStyle(gd).display;\n",
              "        if (!display || display === 'none') {{\n",
              "            console.log([gd, 'removed!']);\n",
              "            Plotly.purge(gd);\n",
              "            observer.disconnect();\n",
              "        }}\n",
              "}});\n",
              "\n",
              "// Listen for the removal of the full notebook cells\n",
              "var notebookContainer = gd.closest('#notebook-container');\n",
              "if (notebookContainer) {{\n",
              "    x.observe(notebookContainer, {childList: true});\n",
              "}}\n",
              "\n",
              "// Listen for the clearing of the current output cell\n",
              "var outputEl = gd.closest('.output');\n",
              "if (outputEl) {{\n",
              "    x.observe(outputEl, {childList: true});\n",
              "}}\n",
              "\n",
              "                        })\n",
              "                };\n",
              "                \n",
              "            </script>\n",
              "        </div>\n",
              "</body>\n",
              "</html>"
            ]
          },
          "metadata": {
            "tags": []
          }
        }
      ]
    },
    {
      "cell_type": "markdown",
      "metadata": {
        "id": "JXq3jkERZco7"
      },
      "source": [
        "### Все реакции"
      ]
    },
    {
      "cell_type": "code",
      "metadata": {
        "colab": {
          "base_uri": "https://localhost:8080/"
        },
        "id": "kW6uABNhXXpv",
        "outputId": "31054d97-a029-49ac-cbfb-936eb276997f"
      },
      "source": [
        "reactions_users_ids = reactions.index\r\n",
        "reactions_users_ids"
      ],
      "execution_count": 29,
      "outputs": [
        {
          "output_type": "execute_result",
          "data": {
            "text/plain": [
              "Int64Index([      1615,       3859,      12199,      13934,      14229,\n",
              "                 16060,      20535,      28327,      30767,      37459,\n",
              "            ...\n",
              "            1398022998, 1398188580, 1398529159, 1398678076, 1398799657,\n",
              "            1399229617, 1399329801, 1399419434, 1399511615, 1399599499],\n",
              "           dtype='int64', name='user_id', length=19699)"
            ]
          },
          "metadata": {
            "tags": []
          },
          "execution_count": 29
        }
      ]
    },
    {
      "cell_type": "code",
      "metadata": {
        "colab": {
          "base_uri": "https://localhost:8080/"
        },
        "id": "X9zznfncXXmw",
        "outputId": "bee02a79-0677-4577-ebb6-d16b6649ad22"
      },
      "source": [
        "users_reactions = user[user.user_id.isin(reactions_users_ids)].set_index('user_id')['interface_lang'].copy()\r\n",
        "users_reactions"
      ],
      "execution_count": 30,
      "outputs": [
        {
          "output_type": "execute_result",
          "data": {
            "text/plain": [
              "user_id\n",
              "820326025     ru\n",
              "1040875164    en\n",
              "449432539     ru\n",
              "230248850     ru\n",
              "7719424       ru\n",
              "              ..\n",
              "125474047     ru\n",
              "608727447     ru\n",
              "1254871249    ru\n",
              "184147840     ru\n",
              "761418142     ru\n",
              "Name: interface_lang, Length: 19699, dtype: object"
            ]
          },
          "metadata": {
            "tags": []
          },
          "execution_count": 30
        }
      ]
    },
    {
      "cell_type": "code",
      "metadata": {
        "id": "RlKHtVWQXXkE"
      },
      "source": [
        "detailed_reactions = pd.DataFrame([users_reactions, reactions]).transpose()\r\n",
        "grouped_det_reactions = detailed_reactions.groupby('interface_lang').count()"
      ],
      "execution_count": 31,
      "outputs": []
    },
    {
      "cell_type": "code",
      "metadata": {
        "colab": {
          "base_uri": "https://localhost:8080/",
          "height": 542
        },
        "id": "AJeUNpw0am7V",
        "outputId": "ab286724-4c4f-40cd-d0c7-fe5c583cb3e6"
      },
      "source": [
        "fig = px.bar(grouped_det_reactions, x = grouped_det_reactions.index, y = 'event_id')\r\n",
        "fig.show()"
      ],
      "execution_count": 32,
      "outputs": [
        {
          "output_type": "display_data",
          "data": {
            "text/html": [
              "<html>\n",
              "<head><meta charset=\"utf-8\" /></head>\n",
              "<body>\n",
              "    <div>\n",
              "            <script src=\"https://cdnjs.cloudflare.com/ajax/libs/mathjax/2.7.5/MathJax.js?config=TeX-AMS-MML_SVG\"></script><script type=\"text/javascript\">if (window.MathJax) {MathJax.Hub.Config({SVG: {font: \"STIX-Web\"}});}</script>\n",
              "                <script type=\"text/javascript\">window.PlotlyConfig = {MathJaxConfig: 'local'};</script>\n",
              "        <script src=\"https://cdn.plot.ly/plotly-latest.min.js\"></script>    \n",
              "            <div id=\"1175da23-cca4-444d-8170-005bf1f479ef\" class=\"plotly-graph-div\" style=\"height:525px; width:100%;\"></div>\n",
              "            <script type=\"text/javascript\">\n",
              "                \n",
              "                    window.PLOTLYENV=window.PLOTLYENV || {};\n",
              "                    \n",
              "                if (document.getElementById(\"1175da23-cca4-444d-8170-005bf1f479ef\")) {\n",
              "                    Plotly.newPlot(\n",
              "                        '1175da23-cca4-444d-8170-005bf1f479ef',\n",
              "                        [{\"alignmentgroup\": \"True\", \"hoverlabel\": {\"namelength\": 0}, \"hovertemplate\": \"x=%{x}<br>event_id=%{y}\", \"legendgroup\": \"\", \"marker\": {\"color\": \"#636efa\"}, \"name\": \"\", \"offsetgroup\": \"\", \"orientation\": \"v\", \"showlegend\": false, \"textposition\": \"auto\", \"type\": \"bar\", \"x\": [\"en\", \"ru\"], \"xaxis\": \"x\", \"y\": [5684, 14015], \"yaxis\": \"y\"}],\n",
              "                        {\"barmode\": \"relative\", \"legend\": {\"tracegroupgap\": 0}, \"margin\": {\"t\": 60}, \"template\": {\"data\": {\"bar\": [{\"error_x\": {\"color\": \"#2a3f5f\"}, \"error_y\": {\"color\": \"#2a3f5f\"}, \"marker\": {\"line\": {\"color\": \"#E5ECF6\", \"width\": 0.5}}, \"type\": \"bar\"}], \"barpolar\": [{\"marker\": {\"line\": {\"color\": \"#E5ECF6\", \"width\": 0.5}}, \"type\": \"barpolar\"}], \"carpet\": [{\"aaxis\": {\"endlinecolor\": \"#2a3f5f\", \"gridcolor\": \"white\", \"linecolor\": \"white\", \"minorgridcolor\": \"white\", \"startlinecolor\": \"#2a3f5f\"}, \"baxis\": {\"endlinecolor\": \"#2a3f5f\", \"gridcolor\": \"white\", \"linecolor\": \"white\", \"minorgridcolor\": \"white\", \"startlinecolor\": \"#2a3f5f\"}, \"type\": \"carpet\"}], \"choropleth\": [{\"colorbar\": {\"outlinewidth\": 0, \"ticks\": \"\"}, \"type\": \"choropleth\"}], \"contour\": [{\"colorbar\": {\"outlinewidth\": 0, \"ticks\": \"\"}, \"colorscale\": [[0.0, \"#0d0887\"], [0.1111111111111111, \"#46039f\"], [0.2222222222222222, \"#7201a8\"], [0.3333333333333333, \"#9c179e\"], [0.4444444444444444, \"#bd3786\"], [0.5555555555555556, \"#d8576b\"], [0.6666666666666666, \"#ed7953\"], [0.7777777777777778, \"#fb9f3a\"], [0.8888888888888888, \"#fdca26\"], [1.0, \"#f0f921\"]], \"type\": \"contour\"}], \"contourcarpet\": [{\"colorbar\": {\"outlinewidth\": 0, \"ticks\": \"\"}, \"type\": \"contourcarpet\"}], \"heatmap\": [{\"colorbar\": {\"outlinewidth\": 0, \"ticks\": \"\"}, \"colorscale\": [[0.0, \"#0d0887\"], [0.1111111111111111, \"#46039f\"], [0.2222222222222222, \"#7201a8\"], [0.3333333333333333, \"#9c179e\"], [0.4444444444444444, \"#bd3786\"], [0.5555555555555556, \"#d8576b\"], [0.6666666666666666, \"#ed7953\"], [0.7777777777777778, \"#fb9f3a\"], [0.8888888888888888, \"#fdca26\"], [1.0, \"#f0f921\"]], \"type\": \"heatmap\"}], \"heatmapgl\": [{\"colorbar\": {\"outlinewidth\": 0, \"ticks\": \"\"}, \"colorscale\": [[0.0, \"#0d0887\"], [0.1111111111111111, \"#46039f\"], [0.2222222222222222, \"#7201a8\"], [0.3333333333333333, \"#9c179e\"], [0.4444444444444444, \"#bd3786\"], [0.5555555555555556, \"#d8576b\"], [0.6666666666666666, \"#ed7953\"], [0.7777777777777778, \"#fb9f3a\"], [0.8888888888888888, \"#fdca26\"], [1.0, \"#f0f921\"]], \"type\": \"heatmapgl\"}], \"histogram\": [{\"marker\": {\"colorbar\": {\"outlinewidth\": 0, \"ticks\": \"\"}}, \"type\": \"histogram\"}], \"histogram2d\": [{\"colorbar\": {\"outlinewidth\": 0, \"ticks\": \"\"}, \"colorscale\": [[0.0, \"#0d0887\"], [0.1111111111111111, \"#46039f\"], [0.2222222222222222, \"#7201a8\"], [0.3333333333333333, \"#9c179e\"], [0.4444444444444444, \"#bd3786\"], [0.5555555555555556, \"#d8576b\"], [0.6666666666666666, \"#ed7953\"], [0.7777777777777778, \"#fb9f3a\"], [0.8888888888888888, \"#fdca26\"], [1.0, \"#f0f921\"]], \"type\": \"histogram2d\"}], \"histogram2dcontour\": [{\"colorbar\": {\"outlinewidth\": 0, \"ticks\": \"\"}, \"colorscale\": [[0.0, \"#0d0887\"], [0.1111111111111111, \"#46039f\"], [0.2222222222222222, \"#7201a8\"], [0.3333333333333333, \"#9c179e\"], [0.4444444444444444, \"#bd3786\"], [0.5555555555555556, \"#d8576b\"], [0.6666666666666666, \"#ed7953\"], [0.7777777777777778, \"#fb9f3a\"], [0.8888888888888888, \"#fdca26\"], [1.0, \"#f0f921\"]], \"type\": \"histogram2dcontour\"}], \"mesh3d\": [{\"colorbar\": {\"outlinewidth\": 0, \"ticks\": \"\"}, \"type\": \"mesh3d\"}], \"parcoords\": [{\"line\": {\"colorbar\": {\"outlinewidth\": 0, \"ticks\": \"\"}}, \"type\": \"parcoords\"}], \"pie\": [{\"automargin\": true, \"type\": \"pie\"}], \"scatter\": [{\"marker\": {\"colorbar\": {\"outlinewidth\": 0, \"ticks\": \"\"}}, \"type\": \"scatter\"}], \"scatter3d\": [{\"line\": {\"colorbar\": {\"outlinewidth\": 0, \"ticks\": \"\"}}, \"marker\": {\"colorbar\": {\"outlinewidth\": 0, \"ticks\": \"\"}}, \"type\": \"scatter3d\"}], \"scattercarpet\": [{\"marker\": {\"colorbar\": {\"outlinewidth\": 0, \"ticks\": \"\"}}, \"type\": \"scattercarpet\"}], \"scattergeo\": [{\"marker\": {\"colorbar\": {\"outlinewidth\": 0, \"ticks\": \"\"}}, \"type\": \"scattergeo\"}], \"scattergl\": [{\"marker\": {\"colorbar\": {\"outlinewidth\": 0, \"ticks\": \"\"}}, \"type\": \"scattergl\"}], \"scattermapbox\": [{\"marker\": {\"colorbar\": {\"outlinewidth\": 0, \"ticks\": \"\"}}, \"type\": \"scattermapbox\"}], \"scatterpolar\": [{\"marker\": {\"colorbar\": {\"outlinewidth\": 0, \"ticks\": \"\"}}, \"type\": \"scatterpolar\"}], \"scatterpolargl\": [{\"marker\": {\"colorbar\": {\"outlinewidth\": 0, \"ticks\": \"\"}}, \"type\": \"scatterpolargl\"}], \"scatterternary\": [{\"marker\": {\"colorbar\": {\"outlinewidth\": 0, \"ticks\": \"\"}}, \"type\": \"scatterternary\"}], \"surface\": [{\"colorbar\": {\"outlinewidth\": 0, \"ticks\": \"\"}, \"colorscale\": [[0.0, \"#0d0887\"], [0.1111111111111111, \"#46039f\"], [0.2222222222222222, \"#7201a8\"], [0.3333333333333333, \"#9c179e\"], [0.4444444444444444, \"#bd3786\"], [0.5555555555555556, \"#d8576b\"], [0.6666666666666666, \"#ed7953\"], [0.7777777777777778, \"#fb9f3a\"], [0.8888888888888888, \"#fdca26\"], [1.0, \"#f0f921\"]], \"type\": \"surface\"}], \"table\": [{\"cells\": {\"fill\": {\"color\": \"#EBF0F8\"}, \"line\": {\"color\": \"white\"}}, \"header\": {\"fill\": {\"color\": \"#C8D4E3\"}, \"line\": {\"color\": \"white\"}}, \"type\": \"table\"}]}, \"layout\": {\"annotationdefaults\": {\"arrowcolor\": \"#2a3f5f\", \"arrowhead\": 0, \"arrowwidth\": 1}, \"coloraxis\": {\"colorbar\": {\"outlinewidth\": 0, \"ticks\": \"\"}}, \"colorscale\": {\"diverging\": [[0, \"#8e0152\"], [0.1, \"#c51b7d\"], [0.2, \"#de77ae\"], [0.3, \"#f1b6da\"], [0.4, \"#fde0ef\"], [0.5, \"#f7f7f7\"], [0.6, \"#e6f5d0\"], [0.7, \"#b8e186\"], [0.8, \"#7fbc41\"], [0.9, \"#4d9221\"], [1, \"#276419\"]], \"sequential\": [[0.0, \"#0d0887\"], [0.1111111111111111, \"#46039f\"], [0.2222222222222222, \"#7201a8\"], [0.3333333333333333, \"#9c179e\"], [0.4444444444444444, \"#bd3786\"], [0.5555555555555556, \"#d8576b\"], [0.6666666666666666, \"#ed7953\"], [0.7777777777777778, \"#fb9f3a\"], [0.8888888888888888, \"#fdca26\"], [1.0, \"#f0f921\"]], \"sequentialminus\": [[0.0, \"#0d0887\"], [0.1111111111111111, \"#46039f\"], [0.2222222222222222, \"#7201a8\"], [0.3333333333333333, \"#9c179e\"], [0.4444444444444444, \"#bd3786\"], [0.5555555555555556, \"#d8576b\"], [0.6666666666666666, \"#ed7953\"], [0.7777777777777778, \"#fb9f3a\"], [0.8888888888888888, \"#fdca26\"], [1.0, \"#f0f921\"]]}, \"colorway\": [\"#636efa\", \"#EF553B\", \"#00cc96\", \"#ab63fa\", \"#FFA15A\", \"#19d3f3\", \"#FF6692\", \"#B6E880\", \"#FF97FF\", \"#FECB52\"], \"font\": {\"color\": \"#2a3f5f\"}, \"geo\": {\"bgcolor\": \"white\", \"lakecolor\": \"white\", \"landcolor\": \"#E5ECF6\", \"showlakes\": true, \"showland\": true, \"subunitcolor\": \"white\"}, \"hoverlabel\": {\"align\": \"left\"}, \"hovermode\": \"closest\", \"mapbox\": {\"style\": \"light\"}, \"paper_bgcolor\": \"white\", \"plot_bgcolor\": \"#E5ECF6\", \"polar\": {\"angularaxis\": {\"gridcolor\": \"white\", \"linecolor\": \"white\", \"ticks\": \"\"}, \"bgcolor\": \"#E5ECF6\", \"radialaxis\": {\"gridcolor\": \"white\", \"linecolor\": \"white\", \"ticks\": \"\"}}, \"scene\": {\"xaxis\": {\"backgroundcolor\": \"#E5ECF6\", \"gridcolor\": \"white\", \"gridwidth\": 2, \"linecolor\": \"white\", \"showbackground\": true, \"ticks\": \"\", \"zerolinecolor\": \"white\"}, \"yaxis\": {\"backgroundcolor\": \"#E5ECF6\", \"gridcolor\": \"white\", \"gridwidth\": 2, \"linecolor\": \"white\", \"showbackground\": true, \"ticks\": \"\", \"zerolinecolor\": \"white\"}, \"zaxis\": {\"backgroundcolor\": \"#E5ECF6\", \"gridcolor\": \"white\", \"gridwidth\": 2, \"linecolor\": \"white\", \"showbackground\": true, \"ticks\": \"\", \"zerolinecolor\": \"white\"}}, \"shapedefaults\": {\"line\": {\"color\": \"#2a3f5f\"}}, \"ternary\": {\"aaxis\": {\"gridcolor\": \"white\", \"linecolor\": \"white\", \"ticks\": \"\"}, \"baxis\": {\"gridcolor\": \"white\", \"linecolor\": \"white\", \"ticks\": \"\"}, \"bgcolor\": \"#E5ECF6\", \"caxis\": {\"gridcolor\": \"white\", \"linecolor\": \"white\", \"ticks\": \"\"}}, \"title\": {\"x\": 0.05}, \"xaxis\": {\"automargin\": true, \"gridcolor\": \"white\", \"linecolor\": \"white\", \"ticks\": \"\", \"title\": {\"standoff\": 15}, \"zerolinecolor\": \"white\", \"zerolinewidth\": 2}, \"yaxis\": {\"automargin\": true, \"gridcolor\": \"white\", \"linecolor\": \"white\", \"ticks\": \"\", \"title\": {\"standoff\": 15}, \"zerolinecolor\": \"white\", \"zerolinewidth\": 2}}}, \"xaxis\": {\"anchor\": \"y\", \"domain\": [0.0, 1.0], \"title\": {\"text\": \"x\"}}, \"yaxis\": {\"anchor\": \"x\", \"domain\": [0.0, 1.0], \"title\": {\"text\": \"event_id\"}}},\n",
              "                        {\"responsive\": true}\n",
              "                    ).then(function(){\n",
              "                            \n",
              "var gd = document.getElementById('1175da23-cca4-444d-8170-005bf1f479ef');\n",
              "var x = new MutationObserver(function (mutations, observer) {{\n",
              "        var display = window.getComputedStyle(gd).display;\n",
              "        if (!display || display === 'none') {{\n",
              "            console.log([gd, 'removed!']);\n",
              "            Plotly.purge(gd);\n",
              "            observer.disconnect();\n",
              "        }}\n",
              "}});\n",
              "\n",
              "// Listen for the removal of the full notebook cells\n",
              "var notebookContainer = gd.closest('#notebook-container');\n",
              "if (notebookContainer) {{\n",
              "    x.observe(notebookContainer, {childList: true});\n",
              "}}\n",
              "\n",
              "// Listen for the clearing of the current output cell\n",
              "var outputEl = gd.closest('.output');\n",
              "if (outputEl) {{\n",
              "    x.observe(outputEl, {childList: true});\n",
              "}}\n",
              "\n",
              "                        })\n",
              "                };\n",
              "                \n",
              "            </script>\n",
              "        </div>\n",
              "</body>\n",
              "</html>"
            ]
          },
          "metadata": {
            "tags": []
          }
        }
      ]
    },
    {
      "cell_type": "code",
      "metadata": {
        "colab": {
          "base_uri": "https://localhost:8080/",
          "height": 137
        },
        "id": "iR0MzlGXczKx",
        "outputId": "44e4557b-99c3-4ae3-af5c-8b6bbac6068b"
      },
      "source": [
        "grouped_det_likes"
      ],
      "execution_count": 33,
      "outputs": [
        {
          "output_type": "execute_result",
          "data": {
            "text/html": [
              "<div>\n",
              "<style scoped>\n",
              "    .dataframe tbody tr th:only-of-type {\n",
              "        vertical-align: middle;\n",
              "    }\n",
              "\n",
              "    .dataframe tbody tr th {\n",
              "        vertical-align: top;\n",
              "    }\n",
              "\n",
              "    .dataframe thead th {\n",
              "        text-align: right;\n",
              "    }\n",
              "</style>\n",
              "<table border=\"1\" class=\"dataframe\">\n",
              "  <thead>\n",
              "    <tr style=\"text-align: right;\">\n",
              "      <th></th>\n",
              "      <th>event_id</th>\n",
              "    </tr>\n",
              "    <tr>\n",
              "      <th>interface_lang</th>\n",
              "      <th></th>\n",
              "    </tr>\n",
              "  </thead>\n",
              "  <tbody>\n",
              "    <tr>\n",
              "      <th>en</th>\n",
              "      <td>4546</td>\n",
              "    </tr>\n",
              "    <tr>\n",
              "      <th>ru</th>\n",
              "      <td>12087</td>\n",
              "    </tr>\n",
              "  </tbody>\n",
              "</table>\n",
              "</div>"
            ],
            "text/plain": [
              "                event_id\n",
              "interface_lang          \n",
              "en                  4546\n",
              "ru                 12087"
            ]
          },
          "metadata": {
            "tags": []
          },
          "execution_count": 33
        }
      ]
    },
    {
      "cell_type": "code",
      "metadata": {
        "colab": {
          "base_uri": "https://localhost:8080/",
          "height": 137
        },
        "id": "5SMDIjt6bG7s",
        "outputId": "59ae5b7a-9477-41ac-ad52-6dd2926623b2"
      },
      "source": [
        "grouped_det_dislikes"
      ],
      "execution_count": 34,
      "outputs": [
        {
          "output_type": "execute_result",
          "data": {
            "text/html": [
              "<div>\n",
              "<style scoped>\n",
              "    .dataframe tbody tr th:only-of-type {\n",
              "        vertical-align: middle;\n",
              "    }\n",
              "\n",
              "    .dataframe tbody tr th {\n",
              "        vertical-align: top;\n",
              "    }\n",
              "\n",
              "    .dataframe thead th {\n",
              "        text-align: right;\n",
              "    }\n",
              "</style>\n",
              "<table border=\"1\" class=\"dataframe\">\n",
              "  <thead>\n",
              "    <tr style=\"text-align: right;\">\n",
              "      <th></th>\n",
              "      <th>event_id</th>\n",
              "    </tr>\n",
              "    <tr>\n",
              "      <th>interface_lang</th>\n",
              "      <th></th>\n",
              "    </tr>\n",
              "  </thead>\n",
              "  <tbody>\n",
              "    <tr>\n",
              "      <th>en</th>\n",
              "      <td>3532</td>\n",
              "    </tr>\n",
              "    <tr>\n",
              "      <th>ru</th>\n",
              "      <td>12349</td>\n",
              "    </tr>\n",
              "  </tbody>\n",
              "</table>\n",
              "</div>"
            ],
            "text/plain": [
              "                event_id\n",
              "interface_lang          \n",
              "en                  3532\n",
              "ru                 12349"
            ]
          },
          "metadata": {
            "tags": []
          },
          "execution_count": 34
        }
      ]
    },
    {
      "cell_type": "code",
      "metadata": {
        "colab": {
          "base_uri": "https://localhost:8080/",
          "height": 137
        },
        "id": "QxTE_EM2bG0n",
        "outputId": "1d40bae5-c0c5-4ad6-dea4-a0e801610b5e"
      },
      "source": [
        "grouped_det_likes / grouped_det_dislikes"
      ],
      "execution_count": 35,
      "outputs": [
        {
          "output_type": "execute_result",
          "data": {
            "text/html": [
              "<div>\n",
              "<style scoped>\n",
              "    .dataframe tbody tr th:only-of-type {\n",
              "        vertical-align: middle;\n",
              "    }\n",
              "\n",
              "    .dataframe tbody tr th {\n",
              "        vertical-align: top;\n",
              "    }\n",
              "\n",
              "    .dataframe thead th {\n",
              "        text-align: right;\n",
              "    }\n",
              "</style>\n",
              "<table border=\"1\" class=\"dataframe\">\n",
              "  <thead>\n",
              "    <tr style=\"text-align: right;\">\n",
              "      <th></th>\n",
              "      <th>event_id</th>\n",
              "    </tr>\n",
              "    <tr>\n",
              "      <th>interface_lang</th>\n",
              "      <th></th>\n",
              "    </tr>\n",
              "  </thead>\n",
              "  <tbody>\n",
              "    <tr>\n",
              "      <th>en</th>\n",
              "      <td>1.287089</td>\n",
              "    </tr>\n",
              "    <tr>\n",
              "      <th>ru</th>\n",
              "      <td>0.978784</td>\n",
              "    </tr>\n",
              "  </tbody>\n",
              "</table>\n",
              "</div>"
            ],
            "text/plain": [
              "                event_id\n",
              "interface_lang          \n",
              "en              1.287089\n",
              "ru              0.978784"
            ]
          },
          "metadata": {
            "tags": []
          },
          "execution_count": 35
        }
      ]
    },
    {
      "cell_type": "code",
      "metadata": {
        "colab": {
          "base_uri": "https://localhost:8080/",
          "height": 137
        },
        "id": "YN0AmAv7cZxo",
        "outputId": "25a7610a-4636-4adb-c4a8-e837c52c0368"
      },
      "source": [
        "grouped_det_reactions"
      ],
      "execution_count": 36,
      "outputs": [
        {
          "output_type": "execute_result",
          "data": {
            "text/html": [
              "<div>\n",
              "<style scoped>\n",
              "    .dataframe tbody tr th:only-of-type {\n",
              "        vertical-align: middle;\n",
              "    }\n",
              "\n",
              "    .dataframe tbody tr th {\n",
              "        vertical-align: top;\n",
              "    }\n",
              "\n",
              "    .dataframe thead th {\n",
              "        text-align: right;\n",
              "    }\n",
              "</style>\n",
              "<table border=\"1\" class=\"dataframe\">\n",
              "  <thead>\n",
              "    <tr style=\"text-align: right;\">\n",
              "      <th></th>\n",
              "      <th>event_id</th>\n",
              "    </tr>\n",
              "    <tr>\n",
              "      <th>interface_lang</th>\n",
              "      <th></th>\n",
              "    </tr>\n",
              "  </thead>\n",
              "  <tbody>\n",
              "    <tr>\n",
              "      <th>en</th>\n",
              "      <td>5684</td>\n",
              "    </tr>\n",
              "    <tr>\n",
              "      <th>ru</th>\n",
              "      <td>14015</td>\n",
              "    </tr>\n",
              "  </tbody>\n",
              "</table>\n",
              "</div>"
            ],
            "text/plain": [
              "                event_id\n",
              "interface_lang          \n",
              "en                  5684\n",
              "ru                 14015"
            ]
          },
          "metadata": {
            "tags": []
          },
          "execution_count": 36
        }
      ]
    },
    {
      "cell_type": "markdown",
      "metadata": {
        "id": "OyhWP3L0avQX"
      },
      "source": [
        "Выводы, которые можно сделать из проделанной работы из имеющихся данных:\r\n",
        "- В наблюдении кол-во людей с RU интерфейсом преобладает над иными значениями в ~3 раза, но это не означает, что они более активны\r\n",
        "- Люди с EN интерфейсом предпочитают лайкать мемы (L/D показатель = 1.28 для EN и ~0.98 для RU)"
      ]
    },
    {
      "cell_type": "markdown",
      "metadata": {
        "id": "VZ37kIc-o3QM"
      },
      "source": [
        "# ДЗ\r\n",
        "- Построить гипотезы (2-3 штуки)\r\n",
        "- Датасет + модель (какой мем какому пользователю зайдет)\r\n",
        "- Реком система в цикле(как вариант) будет смотреть каждый мем и классифицировать на 1 или 0\r\n",
        "- Презентация"
      ]
    },
    {
      "cell_type": "code",
      "metadata": {
        "colab": {
          "base_uri": "https://localhost:8080/"
        },
        "id": "Em4GZJl7ncMv",
        "outputId": "e78db052-8831-4365-b467-b3fba71b2c04"
      },
      "source": [
        "meme.meme_type.value_counts()"
      ],
      "execution_count": 37,
      "outputs": [
        {
          "output_type": "execute_result",
          "data": {
            "text/plain": [
              "photo        55917\n",
              "animation     2885\n",
              "video         2714\n",
              "Name: meme_type, dtype: int64"
            ]
          },
          "metadata": {
            "tags": []
          },
          "execution_count": 37
        }
      ]
    },
    {
      "cell_type": "markdown",
      "metadata": {
        "id": "rerdt2X9zFuS"
      },
      "source": [
        "## Гипотеза №1: отношение l/d у мужчин ниже, чем у женщин"
      ]
    },
    {
      "cell_type": "code",
      "metadata": {
        "id": "KQBgpg1VpvaI"
      },
      "source": [
        "data_for_gender = event[['reaction_id', 'user_id']].copy()"
      ],
      "execution_count": 38,
      "outputs": []
    },
    {
      "cell_type": "code",
      "metadata": {
        "colab": {
          "base_uri": "https://localhost:8080/",
          "height": 406
        },
        "id": "_wDR64GIzO-T",
        "outputId": "1e1a2a62-ba8c-4cc4-e5bc-901bc7079f30"
      },
      "source": [
        "data_for_gender"
      ],
      "execution_count": 39,
      "outputs": [
        {
          "output_type": "execute_result",
          "data": {
            "text/html": [
              "<div>\n",
              "<style scoped>\n",
              "    .dataframe tbody tr th:only-of-type {\n",
              "        vertical-align: middle;\n",
              "    }\n",
              "\n",
              "    .dataframe tbody tr th {\n",
              "        vertical-align: top;\n",
              "    }\n",
              "\n",
              "    .dataframe thead th {\n",
              "        text-align: right;\n",
              "    }\n",
              "</style>\n",
              "<table border=\"1\" class=\"dataframe\">\n",
              "  <thead>\n",
              "    <tr style=\"text-align: right;\">\n",
              "      <th></th>\n",
              "      <th>reaction_id</th>\n",
              "      <th>user_id</th>\n",
              "    </tr>\n",
              "  </thead>\n",
              "  <tbody>\n",
              "    <tr>\n",
              "      <th>0</th>\n",
              "      <td>2.0</td>\n",
              "      <td>280747086</td>\n",
              "    </tr>\n",
              "    <tr>\n",
              "      <th>1</th>\n",
              "      <td>1.0</td>\n",
              "      <td>285739883</td>\n",
              "    </tr>\n",
              "    <tr>\n",
              "      <th>2</th>\n",
              "      <td>1.0</td>\n",
              "      <td>280747086</td>\n",
              "    </tr>\n",
              "    <tr>\n",
              "      <th>3</th>\n",
              "      <td>NaN</td>\n",
              "      <td>78991522</td>\n",
              "    </tr>\n",
              "    <tr>\n",
              "      <th>4</th>\n",
              "      <td>2.0</td>\n",
              "      <td>860086058</td>\n",
              "    </tr>\n",
              "    <tr>\n",
              "      <th>...</th>\n",
              "      <td>...</td>\n",
              "      <td>...</td>\n",
              "    </tr>\n",
              "    <tr>\n",
              "      <th>3652698</th>\n",
              "      <td>2.0</td>\n",
              "      <td>860086058</td>\n",
              "    </tr>\n",
              "    <tr>\n",
              "      <th>3652699</th>\n",
              "      <td>2.0</td>\n",
              "      <td>381510059</td>\n",
              "    </tr>\n",
              "    <tr>\n",
              "      <th>3652700</th>\n",
              "      <td>2.0</td>\n",
              "      <td>285739883</td>\n",
              "    </tr>\n",
              "    <tr>\n",
              "      <th>3652701</th>\n",
              "      <td>1.0</td>\n",
              "      <td>245482</td>\n",
              "    </tr>\n",
              "    <tr>\n",
              "      <th>3652702</th>\n",
              "      <td>2.0</td>\n",
              "      <td>1023088184</td>\n",
              "    </tr>\n",
              "  </tbody>\n",
              "</table>\n",
              "<p>3652703 rows × 2 columns</p>\n",
              "</div>"
            ],
            "text/plain": [
              "         reaction_id     user_id\n",
              "0                2.0   280747086\n",
              "1                1.0   285739883\n",
              "2                1.0   280747086\n",
              "3                NaN    78991522\n",
              "4                2.0   860086058\n",
              "...              ...         ...\n",
              "3652698          2.0   860086058\n",
              "3652699          2.0   381510059\n",
              "3652700          2.0   285739883\n",
              "3652701          1.0      245482\n",
              "3652702          2.0  1023088184\n",
              "\n",
              "[3652703 rows x 2 columns]"
            ]
          },
          "metadata": {
            "tags": []
          },
          "execution_count": 39
        }
      ]
    },
    {
      "cell_type": "code",
      "metadata": {
        "id": "Q5ptG8WYzubu"
      },
      "source": [
        "users = user[['user_id', 'gender']].copy()"
      ],
      "execution_count": 40,
      "outputs": []
    },
    {
      "cell_type": "code",
      "metadata": {
        "colab": {
          "base_uri": "https://localhost:8080/",
          "height": 406
        },
        "id": "Rl_LOq-Fk5it",
        "outputId": "974a6907-a5cc-4a94-9aa7-d7bd600c83b7"
      },
      "source": [
        "users"
      ],
      "execution_count": 41,
      "outputs": [
        {
          "output_type": "execute_result",
          "data": {
            "text/html": [
              "<div>\n",
              "<style scoped>\n",
              "    .dataframe tbody tr th:only-of-type {\n",
              "        vertical-align: middle;\n",
              "    }\n",
              "\n",
              "    .dataframe tbody tr th {\n",
              "        vertical-align: top;\n",
              "    }\n",
              "\n",
              "    .dataframe thead th {\n",
              "        text-align: right;\n",
              "    }\n",
              "</style>\n",
              "<table border=\"1\" class=\"dataframe\">\n",
              "  <thead>\n",
              "    <tr style=\"text-align: right;\">\n",
              "      <th></th>\n",
              "      <th>user_id</th>\n",
              "      <th>gender</th>\n",
              "    </tr>\n",
              "  </thead>\n",
              "  <tbody>\n",
              "    <tr>\n",
              "      <th>0</th>\n",
              "      <td>820326025</td>\n",
              "      <td>M</td>\n",
              "    </tr>\n",
              "    <tr>\n",
              "      <th>1</th>\n",
              "      <td>1040875164</td>\n",
              "      <td>NaN</td>\n",
              "    </tr>\n",
              "    <tr>\n",
              "      <th>2</th>\n",
              "      <td>449432539</td>\n",
              "      <td>F</td>\n",
              "    </tr>\n",
              "    <tr>\n",
              "      <th>3</th>\n",
              "      <td>230248850</td>\n",
              "      <td>M</td>\n",
              "    </tr>\n",
              "    <tr>\n",
              "      <th>4</th>\n",
              "      <td>7719424</td>\n",
              "      <td>M</td>\n",
              "    </tr>\n",
              "    <tr>\n",
              "      <th>...</th>\n",
              "      <td>...</td>\n",
              "      <td>...</td>\n",
              "    </tr>\n",
              "    <tr>\n",
              "      <th>19913</th>\n",
              "      <td>184147840</td>\n",
              "      <td>NaN</td>\n",
              "    </tr>\n",
              "    <tr>\n",
              "      <th>19914</th>\n",
              "      <td>663303657</td>\n",
              "      <td>NaN</td>\n",
              "    </tr>\n",
              "    <tr>\n",
              "      <th>19915</th>\n",
              "      <td>761418142</td>\n",
              "      <td>NaN</td>\n",
              "    </tr>\n",
              "    <tr>\n",
              "      <th>19916</th>\n",
              "      <td>669142397</td>\n",
              "      <td>NaN</td>\n",
              "    </tr>\n",
              "    <tr>\n",
              "      <th>19917</th>\n",
              "      <td>1952378</td>\n",
              "      <td>NaN</td>\n",
              "    </tr>\n",
              "  </tbody>\n",
              "</table>\n",
              "<p>19918 rows × 2 columns</p>\n",
              "</div>"
            ],
            "text/plain": [
              "          user_id gender\n",
              "0       820326025      M\n",
              "1      1040875164    NaN\n",
              "2       449432539      F\n",
              "3       230248850      M\n",
              "4         7719424      M\n",
              "...           ...    ...\n",
              "19913   184147840    NaN\n",
              "19914   663303657    NaN\n",
              "19915   761418142    NaN\n",
              "19916   669142397    NaN\n",
              "19917     1952378    NaN\n",
              "\n",
              "[19918 rows x 2 columns]"
            ]
          },
          "metadata": {
            "tags": []
          },
          "execution_count": 41
        }
      ]
    },
    {
      "cell_type": "code",
      "metadata": {
        "colab": {
          "base_uri": "https://localhost:8080/"
        },
        "id": "OoB6HxXA0h-_",
        "outputId": "7bee867d-8813-4546-b756-b46602b3fc71"
      },
      "source": [
        "users['gender'].value_counts()"
      ],
      "execution_count": 42,
      "outputs": [
        {
          "output_type": "execute_result",
          "data": {
            "text/plain": [
              "M    2679\n",
              "N    1927\n",
              "F    1109\n",
              "Name: gender, dtype: int64"
            ]
          },
          "metadata": {
            "tags": []
          },
          "execution_count": 42
        }
      ]
    },
    {
      "cell_type": "code",
      "metadata": {
        "id": "QOcLA0sZkt-z"
      },
      "source": [
        "inner = pd.merge(users, data_for_gender, on='user_id')"
      ],
      "execution_count": 43,
      "outputs": []
    },
    {
      "cell_type": "code",
      "metadata": {
        "id": "B1Gynrxgk9JO"
      },
      "source": [
        "users_likes_w_gender = inner[inner['reaction_id'] == 1].copy()\r\n",
        "users_dislikes_w_gender = inner[inner['reaction_id'] == 2].copy()\r\n"
      ],
      "execution_count": 44,
      "outputs": []
    },
    {
      "cell_type": "code",
      "metadata": {
        "colab": {
          "base_uri": "https://localhost:8080/",
          "height": 406
        },
        "id": "nyGPRR60l1ta",
        "outputId": "30b6fc61-1865-4410-c508-0c5aaf27a074"
      },
      "source": [
        "users_likes_w_gender"
      ],
      "execution_count": 45,
      "outputs": [
        {
          "output_type": "execute_result",
          "data": {
            "text/html": [
              "<div>\n",
              "<style scoped>\n",
              "    .dataframe tbody tr th:only-of-type {\n",
              "        vertical-align: middle;\n",
              "    }\n",
              "\n",
              "    .dataframe tbody tr th {\n",
              "        vertical-align: top;\n",
              "    }\n",
              "\n",
              "    .dataframe thead th {\n",
              "        text-align: right;\n",
              "    }\n",
              "</style>\n",
              "<table border=\"1\" class=\"dataframe\">\n",
              "  <thead>\n",
              "    <tr style=\"text-align: right;\">\n",
              "      <th></th>\n",
              "      <th>user_id</th>\n",
              "      <th>gender</th>\n",
              "      <th>reaction_id</th>\n",
              "    </tr>\n",
              "  </thead>\n",
              "  <tbody>\n",
              "    <tr>\n",
              "      <th>15</th>\n",
              "      <td>820326025</td>\n",
              "      <td>M</td>\n",
              "      <td>1.0</td>\n",
              "    </tr>\n",
              "    <tr>\n",
              "      <th>16</th>\n",
              "      <td>820326025</td>\n",
              "      <td>M</td>\n",
              "      <td>1.0</td>\n",
              "    </tr>\n",
              "    <tr>\n",
              "      <th>17</th>\n",
              "      <td>820326025</td>\n",
              "      <td>M</td>\n",
              "      <td>1.0</td>\n",
              "    </tr>\n",
              "    <tr>\n",
              "      <th>22</th>\n",
              "      <td>820326025</td>\n",
              "      <td>M</td>\n",
              "      <td>1.0</td>\n",
              "    </tr>\n",
              "    <tr>\n",
              "      <th>24</th>\n",
              "      <td>1040875164</td>\n",
              "      <td>NaN</td>\n",
              "      <td>1.0</td>\n",
              "    </tr>\n",
              "    <tr>\n",
              "      <th>...</th>\n",
              "      <td>...</td>\n",
              "      <td>...</td>\n",
              "      <td>...</td>\n",
              "    </tr>\n",
              "    <tr>\n",
              "      <th>3652689</th>\n",
              "      <td>761418142</td>\n",
              "      <td>NaN</td>\n",
              "      <td>1.0</td>\n",
              "    </tr>\n",
              "    <tr>\n",
              "      <th>3652690</th>\n",
              "      <td>761418142</td>\n",
              "      <td>NaN</td>\n",
              "      <td>1.0</td>\n",
              "    </tr>\n",
              "    <tr>\n",
              "      <th>3652692</th>\n",
              "      <td>761418142</td>\n",
              "      <td>NaN</td>\n",
              "      <td>1.0</td>\n",
              "    </tr>\n",
              "    <tr>\n",
              "      <th>3652694</th>\n",
              "      <td>761418142</td>\n",
              "      <td>NaN</td>\n",
              "      <td>1.0</td>\n",
              "    </tr>\n",
              "    <tr>\n",
              "      <th>3652696</th>\n",
              "      <td>761418142</td>\n",
              "      <td>NaN</td>\n",
              "      <td>1.0</td>\n",
              "    </tr>\n",
              "  </tbody>\n",
              "</table>\n",
              "<p>1866242 rows × 3 columns</p>\n",
              "</div>"
            ],
            "text/plain": [
              "            user_id gender  reaction_id\n",
              "15        820326025      M          1.0\n",
              "16        820326025      M          1.0\n",
              "17        820326025      M          1.0\n",
              "22        820326025      M          1.0\n",
              "24       1040875164    NaN          1.0\n",
              "...             ...    ...          ...\n",
              "3652689   761418142    NaN          1.0\n",
              "3652690   761418142    NaN          1.0\n",
              "3652692   761418142    NaN          1.0\n",
              "3652694   761418142    NaN          1.0\n",
              "3652696   761418142    NaN          1.0\n",
              "\n",
              "[1866242 rows x 3 columns]"
            ]
          },
          "metadata": {
            "tags": []
          },
          "execution_count": 45
        }
      ]
    },
    {
      "cell_type": "code",
      "metadata": {
        "id": "9LgKIpkjlwew"
      },
      "source": [
        "M_likes = users_likes_w_gender[users_likes_w_gender['gender'] == 'M'].copy()\r\n",
        "F_likes = users_likes_w_gender[users_likes_w_gender['gender'] == 'F'].copy()\r\n",
        "M_dislikes = users_dislikes_w_gender[users_dislikes_w_gender['gender'] == 'M'].copy()\r\n",
        "F_dislikes = users_dislikes_w_gender[users_dislikes_w_gender['gender'] == 'F'].copy()"
      ],
      "execution_count": 46,
      "outputs": []
    },
    {
      "cell_type": "code",
      "metadata": {
        "colab": {
          "base_uri": "https://localhost:8080/",
          "height": 107
        },
        "id": "pMErjPEJnJ9A",
        "outputId": "3901d54a-7acf-4f2a-c45e-4058ebcfa2bd"
      },
      "source": [
        "MF_values_dict = {'M/F_ratio':[len(M_likes) / len (M_dislikes), len(F_likes) / len (F_dislikes)]}\r\n",
        "MF_values = pd.DataFrame(MF_values_dict)\r\n",
        "MF_values.rename(index={0:'M',1:'F'}, inplace = True)\r\n",
        "MF_values"
      ],
      "execution_count": 47,
      "outputs": [
        {
          "output_type": "execute_result",
          "data": {
            "text/html": [
              "<div>\n",
              "<style scoped>\n",
              "    .dataframe tbody tr th:only-of-type {\n",
              "        vertical-align: middle;\n",
              "    }\n",
              "\n",
              "    .dataframe tbody tr th {\n",
              "        vertical-align: top;\n",
              "    }\n",
              "\n",
              "    .dataframe thead th {\n",
              "        text-align: right;\n",
              "    }\n",
              "</style>\n",
              "<table border=\"1\" class=\"dataframe\">\n",
              "  <thead>\n",
              "    <tr style=\"text-align: right;\">\n",
              "      <th></th>\n",
              "      <th>M/F_ratio</th>\n",
              "    </tr>\n",
              "  </thead>\n",
              "  <tbody>\n",
              "    <tr>\n",
              "      <th>M</th>\n",
              "      <td>1.337439</td>\n",
              "    </tr>\n",
              "    <tr>\n",
              "      <th>F</th>\n",
              "      <td>1.653884</td>\n",
              "    </tr>\n",
              "  </tbody>\n",
              "</table>\n",
              "</div>"
            ],
            "text/plain": [
              "   M/F_ratio\n",
              "M   1.337439\n",
              "F   1.653884"
            ]
          },
          "metadata": {
            "tags": []
          },
          "execution_count": 47
        }
      ]
    },
    {
      "cell_type": "markdown",
      "metadata": {
        "id": "FIk0KSJoyBo_"
      },
      "source": [
        "Как и предполагалось, L/D отношение у мужчин ниже, чем у женщин. Возможно, это связано с тем, что мужчины в целом как юзеры более активны чем женщины. Возможно, мужчины в Интернете более категоричны и при недовольстве чаще ставят дизлайк, когда представительницы женского пола просто проигнорируют и пойдут дальше  "
      ]
    },
    {
      "cell_type": "markdown",
      "metadata": {
        "id": "_yKMoxBqyBmO"
      },
      "source": [
        ""
      ]
    },
    {
      "cell_type": "markdown",
      "metadata": {
        "id": "53Tb2oKB0ZDU"
      },
      "source": [
        "## Гипотеза №2: фото мемы в среднем лайкают больше, чем мемы иного типа"
      ]
    },
    {
      "cell_type": "code",
      "metadata": {
        "colab": {
          "base_uri": "https://localhost:8080/"
        },
        "id": "anuKQwBV0f9l",
        "outputId": "bf666f9c-9431-4db6-b9b4-d1102c558ae0"
      },
      "source": [
        "meme.meme_type.value_counts()"
      ],
      "execution_count": 48,
      "outputs": [
        {
          "output_type": "execute_result",
          "data": {
            "text/plain": [
              "photo        55917\n",
              "animation     2885\n",
              "video         2714\n",
              "Name: meme_type, dtype: int64"
            ]
          },
          "metadata": {
            "tags": []
          },
          "execution_count": 48
        }
      ]
    },
    {
      "cell_type": "code",
      "metadata": {
        "colab": {
          "base_uri": "https://localhost:8080/",
          "height": 167
        },
        "id": "2bbQEQmW0tch",
        "outputId": "f3ecf848-7809-4989-dda8-da25990823b2"
      },
      "source": [
        "detailed_meme = meme[['meme_type', 'likes', 'dislikes']].copy()\r\n",
        "detailed_meme.groupby('meme_type').mean()"
      ],
      "execution_count": 49,
      "outputs": [
        {
          "output_type": "execute_result",
          "data": {
            "text/html": [
              "<div>\n",
              "<style scoped>\n",
              "    .dataframe tbody tr th:only-of-type {\n",
              "        vertical-align: middle;\n",
              "    }\n",
              "\n",
              "    .dataframe tbody tr th {\n",
              "        vertical-align: top;\n",
              "    }\n",
              "\n",
              "    .dataframe thead th {\n",
              "        text-align: right;\n",
              "    }\n",
              "</style>\n",
              "<table border=\"1\" class=\"dataframe\">\n",
              "  <thead>\n",
              "    <tr style=\"text-align: right;\">\n",
              "      <th></th>\n",
              "      <th>likes</th>\n",
              "      <th>dislikes</th>\n",
              "    </tr>\n",
              "    <tr>\n",
              "      <th>meme_type</th>\n",
              "      <th></th>\n",
              "      <th></th>\n",
              "    </tr>\n",
              "  </thead>\n",
              "  <tbody>\n",
              "    <tr>\n",
              "      <th>animation</th>\n",
              "      <td>14.407972</td>\n",
              "      <td>21.242288</td>\n",
              "    </tr>\n",
              "    <tr>\n",
              "      <th>photo</th>\n",
              "      <td>33.899691</td>\n",
              "      <td>28.570274</td>\n",
              "    </tr>\n",
              "    <tr>\n",
              "      <th>video</th>\n",
              "      <td>12.654753</td>\n",
              "      <td>23.306559</td>\n",
              "    </tr>\n",
              "  </tbody>\n",
              "</table>\n",
              "</div>"
            ],
            "text/plain": [
              "               likes   dislikes\n",
              "meme_type                      \n",
              "animation  14.407972  21.242288\n",
              "photo      33.899691  28.570274\n",
              "video      12.654753  23.306559"
            ]
          },
          "metadata": {
            "tags": []
          },
          "execution_count": 49
        }
      ]
    },
    {
      "cell_type": "markdown",
      "metadata": {
        "id": "hms8-T_H1ImV"
      },
      "source": [
        "Как и предполагалось, в среднем из 3 типов мемов, большее кол-во лайков собирают мемы-картинки, а не мемы в виде видео или анимации. Это можно объяснить тем, что юзеру удобнее(быстрее) посмотреть картинку, и ему не нужно тратить много времени на ее просмотр, поэтому и лайк проще получить картинке. "
      ]
    },
    {
      "cell_type": "markdown",
      "metadata": {
        "id": "m4jZ4ViN_UHW"
      },
      "source": [
        "## Датасет + модель (какой мем какому пользователю зайдет)"
      ]
    },
    {
      "cell_type": "markdown",
      "metadata": {
        "id": "GMd4K4CRJ7ba"
      },
      "source": [
        "* Подготовка данных"
      ]
    },
    {
      "cell_type": "code",
      "metadata": {
        "colab": {
          "base_uri": "https://localhost:8080/",
          "height": 197
        },
        "id": "GNZ4jFPE_jF8",
        "outputId": "c994dd4f-be52-49b3-bb86-b0b6d881453c"
      },
      "source": [
        "event.head()"
      ],
      "execution_count": 50,
      "outputs": [
        {
          "output_type": "execute_result",
          "data": {
            "text/html": [
              "<div>\n",
              "<style scoped>\n",
              "    .dataframe tbody tr th:only-of-type {\n",
              "        vertical-align: middle;\n",
              "    }\n",
              "\n",
              "    .dataframe tbody tr th {\n",
              "        vertical-align: top;\n",
              "    }\n",
              "\n",
              "    .dataframe thead th {\n",
              "        text-align: right;\n",
              "    }\n",
              "</style>\n",
              "<table border=\"1\" class=\"dataframe\">\n",
              "  <thead>\n",
              "    <tr style=\"text-align: right;\">\n",
              "      <th></th>\n",
              "      <th>event_id</th>\n",
              "      <th>reaction_id</th>\n",
              "      <th>session_idx</th>\n",
              "      <th>meme_idx</th>\n",
              "      <th>created_at</th>\n",
              "      <th>updated_at</th>\n",
              "      <th>meme_id</th>\n",
              "      <th>user_id</th>\n",
              "    </tr>\n",
              "  </thead>\n",
              "  <tbody>\n",
              "    <tr>\n",
              "      <th>0</th>\n",
              "      <td>3607617</td>\n",
              "      <td>2.0</td>\n",
              "      <td>55</td>\n",
              "      <td>11</td>\n",
              "      <td>2020-10-24 19:45:50.964474+00</td>\n",
              "      <td>2020-10-24 19:45:51.049752+00</td>\n",
              "      <td>24379</td>\n",
              "      <td>280747086</td>\n",
              "    </tr>\n",
              "    <tr>\n",
              "      <th>1</th>\n",
              "      <td>3608100</td>\n",
              "      <td>1.0</td>\n",
              "      <td>280</td>\n",
              "      <td>45</td>\n",
              "      <td>2020-10-24 19:52:33.681933+00</td>\n",
              "      <td>2020-10-24 19:52:33.763993+00</td>\n",
              "      <td>49173</td>\n",
              "      <td>285739883</td>\n",
              "    </tr>\n",
              "    <tr>\n",
              "      <th>2</th>\n",
              "      <td>3607629</td>\n",
              "      <td>1.0</td>\n",
              "      <td>55</td>\n",
              "      <td>13</td>\n",
              "      <td>2020-10-24 19:46:08.690407+00</td>\n",
              "      <td>2020-10-24 19:46:08.779079+00</td>\n",
              "      <td>8340</td>\n",
              "      <td>280747086</td>\n",
              "    </tr>\n",
              "    <tr>\n",
              "      <th>3</th>\n",
              "      <td>3607649</td>\n",
              "      <td>NaN</td>\n",
              "      <td>30</td>\n",
              "      <td>2</td>\n",
              "      <td>2020-10-24 19:46:24.443014+00</td>\n",
              "      <td>2020-10-24 19:46:24.519787+00</td>\n",
              "      <td>64748</td>\n",
              "      <td>78991522</td>\n",
              "    </tr>\n",
              "    <tr>\n",
              "      <th>4</th>\n",
              "      <td>3608045</td>\n",
              "      <td>2.0</td>\n",
              "      <td>35</td>\n",
              "      <td>341</td>\n",
              "      <td>2020-10-24 19:51:28.544856+00</td>\n",
              "      <td>2020-10-24 19:51:28.586788+00</td>\n",
              "      <td>45163</td>\n",
              "      <td>860086058</td>\n",
              "    </tr>\n",
              "  </tbody>\n",
              "</table>\n",
              "</div>"
            ],
            "text/plain": [
              "   event_id  reaction_id  ...  meme_id    user_id\n",
              "0   3607617          2.0  ...    24379  280747086\n",
              "1   3608100          1.0  ...    49173  285739883\n",
              "2   3607629          1.0  ...     8340  280747086\n",
              "3   3607649          NaN  ...    64748   78991522\n",
              "4   3608045          2.0  ...    45163  860086058\n",
              "\n",
              "[5 rows x 8 columns]"
            ]
          },
          "metadata": {
            "tags": []
          },
          "execution_count": 50
        }
      ]
    },
    {
      "cell_type": "code",
      "metadata": {
        "colab": {
          "base_uri": "https://localhost:8080/",
          "height": 281
        },
        "id": "-stkfOwnIf14",
        "outputId": "5a7fe9eb-0022-4ec8-df00-6ce5c4c421bb"
      },
      "source": [
        "meme.head()"
      ],
      "execution_count": 51,
      "outputs": [
        {
          "output_type": "execute_result",
          "data": {
            "text/html": [
              "<div>\n",
              "<style scoped>\n",
              "    .dataframe tbody tr th:only-of-type {\n",
              "        vertical-align: middle;\n",
              "    }\n",
              "\n",
              "    .dataframe tbody tr th {\n",
              "        vertical-align: top;\n",
              "    }\n",
              "\n",
              "    .dataframe thead th {\n",
              "        text-align: right;\n",
              "    }\n",
              "</style>\n",
              "<table border=\"1\" class=\"dataframe\">\n",
              "  <thead>\n",
              "    <tr style=\"text-align: right;\">\n",
              "      <th></th>\n",
              "      <th>meme_id</th>\n",
              "      <th>meme_type</th>\n",
              "      <th>source_id</th>\n",
              "      <th>published_at</th>\n",
              "      <th>caption</th>\n",
              "      <th>content_lang</th>\n",
              "      <th>is_available</th>\n",
              "      <th>likes</th>\n",
              "      <th>dislikes</th>\n",
              "      <th>created_at</th>\n",
              "      <th>updated_at</th>\n",
              "      <th>is_broken</th>\n",
              "      <th>content_text</th>\n",
              "      <th>caption_lang</th>\n",
              "      <th>language_id</th>\n",
              "    </tr>\n",
              "  </thead>\n",
              "  <tbody>\n",
              "    <tr>\n",
              "      <th>0</th>\n",
              "      <td>28997</td>\n",
              "      <td>photo</td>\n",
              "      <td>79.0</td>\n",
              "      <td>2020-04-12 01:48:13+00</td>\n",
              "      <td>I mean shitt it ain't their fault</td>\n",
              "      <td>en</td>\n",
              "      <td>True</td>\n",
              "      <td>17</td>\n",
              "      <td>14</td>\n",
              "      <td>2020-04-12 09:04:37.341908+00</td>\n",
              "      <td>2020-10-26 19:20:58.198825+00</td>\n",
              "      <td>False</td>\n",
              "      <td>brandon @brndvx females live on recruit diffic...</td>\n",
              "      <td>en</td>\n",
              "      <td>3.0</td>\n",
              "    </tr>\n",
              "    <tr>\n",
              "      <th>1</th>\n",
              "      <td>10873</td>\n",
              "      <td>photo</td>\n",
              "      <td>43.0</td>\n",
              "      <td>2020-03-25 11:48:14+00</td>\n",
              "      <td>NaN</td>\n",
              "      <td>ru</td>\n",
              "      <td>True</td>\n",
              "      <td>79</td>\n",
              "      <td>74</td>\n",
              "      <td>2020-03-25 20:00:01.154096+00</td>\n",
              "      <td>2020-10-26 19:20:58.226846+00</td>\n",
              "      <td>False</td>\n",
              "      <td>Я не робот Докажите, что всякое односвязное Ит...</td>\n",
              "      <td>ww</td>\n",
              "      <td>2.0</td>\n",
              "    </tr>\n",
              "    <tr>\n",
              "      <th>2</th>\n",
              "      <td>9874</td>\n",
              "      <td>photo</td>\n",
              "      <td>78.0</td>\n",
              "      <td>2020-03-24 07:18:03+00</td>\n",
              "      <td>Anime toddies expert</td>\n",
              "      <td>en</td>\n",
              "      <td>True</td>\n",
              "      <td>1</td>\n",
              "      <td>7</td>\n",
              "      <td>2020-03-24 13:06:18.588359+00</td>\n",
              "      <td>2020-10-26 19:20:58.259045+00</td>\n",
              "      <td>False</td>\n",
              "      <td>When you find the actual interview and it does...</td>\n",
              "      <td>en</td>\n",
              "      <td>3.0</td>\n",
              "    </tr>\n",
              "    <tr>\n",
              "      <th>3</th>\n",
              "      <td>43458</td>\n",
              "      <td>photo</td>\n",
              "      <td>43.0</td>\n",
              "      <td>2020-05-23 12:50:52+00</td>\n",
              "      <td>NaN</td>\n",
              "      <td>ru</td>\n",
              "      <td>False</td>\n",
              "      <td>8</td>\n",
              "      <td>12</td>\n",
              "      <td>2020-05-24 22:03:34.926116+00</td>\n",
              "      <td>2020-10-26 19:20:58.265179+00</td>\n",
              "      <td>False</td>\n",
              "      <td>Google сколько калорий в грамме урана а Все В ...</td>\n",
              "      <td>ww</td>\n",
              "      <td>2.0</td>\n",
              "    </tr>\n",
              "    <tr>\n",
              "      <th>4</th>\n",
              "      <td>9000</td>\n",
              "      <td>photo</td>\n",
              "      <td>76.0</td>\n",
              "      <td>2020-03-23 07:16:05+00</td>\n",
              "      <td>New treasure</td>\n",
              "      <td>und</td>\n",
              "      <td>True</td>\n",
              "      <td>2</td>\n",
              "      <td>9</td>\n",
              "      <td>2020-03-23 13:04:55.258554+00</td>\n",
              "      <td>2020-10-26 19:20:58.29742+00</td>\n",
              "      <td>False</td>\n",
              "      <td>YRO .20.</td>\n",
              "      <td>en</td>\n",
              "      <td>3.0</td>\n",
              "    </tr>\n",
              "  </tbody>\n",
              "</table>\n",
              "</div>"
            ],
            "text/plain": [
              "   meme_id meme_type  ...  caption_lang language_id\n",
              "0    28997     photo  ...            en         3.0\n",
              "1    10873     photo  ...            ww         2.0\n",
              "2     9874     photo  ...            en         3.0\n",
              "3    43458     photo  ...            ww         2.0\n",
              "4     9000     photo  ...            en         3.0\n",
              "\n",
              "[5 rows x 15 columns]"
            ]
          },
          "metadata": {
            "tags": []
          },
          "execution_count": 51
        }
      ]
    },
    {
      "cell_type": "code",
      "metadata": {
        "colab": {
          "base_uri": "https://localhost:8080/",
          "height": 197
        },
        "id": "nk0UJ-RdIis6",
        "outputId": "77dbd1d0-7318-4549-a68e-6bbcac1ddebe"
      },
      "source": [
        "user.head()"
      ],
      "execution_count": 52,
      "outputs": [
        {
          "output_type": "execute_result",
          "data": {
            "text/html": [
              "<div>\n",
              "<style scoped>\n",
              "    .dataframe tbody tr th:only-of-type {\n",
              "        vertical-align: middle;\n",
              "    }\n",
              "\n",
              "    .dataframe tbody tr th {\n",
              "        vertical-align: top;\n",
              "    }\n",
              "\n",
              "    .dataframe thead th {\n",
              "        text-align: right;\n",
              "    }\n",
              "</style>\n",
              "<table border=\"1\" class=\"dataframe\">\n",
              "  <thead>\n",
              "    <tr style=\"text-align: right;\">\n",
              "      <th></th>\n",
              "      <th>user_id</th>\n",
              "      <th>deep_link</th>\n",
              "      <th>is_blocked_bot</th>\n",
              "      <th>is_banned</th>\n",
              "      <th>is_moderator</th>\n",
              "      <th>sessions</th>\n",
              "      <th>last_session_memes</th>\n",
              "      <th>watched_memes</th>\n",
              "      <th>created_at</th>\n",
              "      <th>updated_at</th>\n",
              "      <th>interface_lang</th>\n",
              "      <th>gender</th>\n",
              "    </tr>\n",
              "  </thead>\n",
              "  <tbody>\n",
              "    <tr>\n",
              "      <th>0</th>\n",
              "      <td>820326025</td>\n",
              "      <td>anime0ch_lang_ru</td>\n",
              "      <td>False</td>\n",
              "      <td>False</td>\n",
              "      <td>False</td>\n",
              "      <td>6</td>\n",
              "      <td>1</td>\n",
              "      <td>20</td>\n",
              "      <td>2020-09-12 20:07:11.668743+00</td>\n",
              "      <td>2020-10-26 12:16:18.458654+00</td>\n",
              "      <td>ru</td>\n",
              "      <td>M</td>\n",
              "    </tr>\n",
              "    <tr>\n",
              "      <th>1</th>\n",
              "      <td>1040875164</td>\n",
              "      <td>likemeupbot_lang_en</td>\n",
              "      <td>False</td>\n",
              "      <td>False</td>\n",
              "      <td>False</td>\n",
              "      <td>2</td>\n",
              "      <td>1</td>\n",
              "      <td>7</td>\n",
              "      <td>2020-07-21 05:54:12.671036+00</td>\n",
              "      <td>2020-10-26 14:37:05.637591+00</td>\n",
              "      <td>en</td>\n",
              "      <td>NaN</td>\n",
              "    </tr>\n",
              "    <tr>\n",
              "      <th>2</th>\n",
              "      <td>449432539</td>\n",
              "      <td>debil_ebaniy</td>\n",
              "      <td>True</td>\n",
              "      <td>False</td>\n",
              "      <td>False</td>\n",
              "      <td>2</td>\n",
              "      <td>1</td>\n",
              "      <td>9</td>\n",
              "      <td>2020-09-14 19:02:06.80911+00</td>\n",
              "      <td>2020-10-17 21:26:52.029824+00</td>\n",
              "      <td>ru</td>\n",
              "      <td>F</td>\n",
              "    </tr>\n",
              "    <tr>\n",
              "      <th>3</th>\n",
              "      <td>230248850</td>\n",
              "      <td>NaN</td>\n",
              "      <td>False</td>\n",
              "      <td>False</td>\n",
              "      <td>False</td>\n",
              "      <td>26</td>\n",
              "      <td>1</td>\n",
              "      <td>38</td>\n",
              "      <td>2020-03-16 00:36:42.252438+00</td>\n",
              "      <td>2020-10-26 12:11:02.159405+00</td>\n",
              "      <td>ru</td>\n",
              "      <td>M</td>\n",
              "    </tr>\n",
              "    <tr>\n",
              "      <th>4</th>\n",
              "      <td>7719424</td>\n",
              "      <td>NaN</td>\n",
              "      <td>True</td>\n",
              "      <td>False</td>\n",
              "      <td>False</td>\n",
              "      <td>27</td>\n",
              "      <td>6</td>\n",
              "      <td>49</td>\n",
              "      <td>2020-03-15 22:30:45.300242+00</td>\n",
              "      <td>2020-10-17 21:26:52.19941+00</td>\n",
              "      <td>ru</td>\n",
              "      <td>M</td>\n",
              "    </tr>\n",
              "  </tbody>\n",
              "</table>\n",
              "</div>"
            ],
            "text/plain": [
              "      user_id            deep_link  ...  interface_lang  gender\n",
              "0   820326025     anime0ch_lang_ru  ...              ru       M\n",
              "1  1040875164  likemeupbot_lang_en  ...              en     NaN\n",
              "2   449432539         debil_ebaniy  ...              ru       F\n",
              "3   230248850                  NaN  ...              ru       M\n",
              "4     7719424                  NaN  ...              ru       M\n",
              "\n",
              "[5 rows x 12 columns]"
            ]
          },
          "metadata": {
            "tags": []
          },
          "execution_count": 52
        }
      ]
    },
    {
      "cell_type": "code",
      "metadata": {
        "id": "DU0gFK30IklI"
      },
      "source": [
        "# Создал копии датасетов, чтобы не изменять начальные файлы\r\n",
        "event_df = event.copy()\r\n",
        "meme_df = meme.copy()\r\n",
        "user_df = user.copy()"
      ],
      "execution_count": 53,
      "outputs": []
    },
    {
      "cell_type": "code",
      "metadata": {
        "id": "CyQqIKr6Iwpf"
      },
      "source": [
        "#Удаление данных, которые неинформативны в рамках исследования\r\n",
        "event_df.drop(['session_idx', 'meme_idx', 'created_at', 'updated_at', 'event_id'], axis = 1, inplace = True)"
      ],
      "execution_count": 54,
      "outputs": []
    },
    {
      "cell_type": "code",
      "metadata": {
        "colab": {
          "base_uri": "https://localhost:8080/"
        },
        "id": "oLykg4DUJiOd",
        "outputId": "bd63900f-2135-4d2d-91c3-b336e4eaccbd"
      },
      "source": [
        "meme_df.columns"
      ],
      "execution_count": 55,
      "outputs": [
        {
          "output_type": "execute_result",
          "data": {
            "text/plain": [
              "Index(['meme_id', 'meme_type', 'source_id', 'published_at', 'caption',\n",
              "       'content_lang', 'is_available', 'likes', 'dislikes', 'created_at',\n",
              "       'updated_at', 'is_broken', 'content_text', 'caption_lang',\n",
              "       'language_id'],\n",
              "      dtype='object')"
            ]
          },
          "metadata": {
            "tags": []
          },
          "execution_count": 55
        }
      ]
    },
    {
      "cell_type": "code",
      "metadata": {
        "id": "j2nyJdLkJiht"
      },
      "source": [
        "#Удаление данных, которые неинформативны в рамках исследования\r\n",
        "meme_df.drop(['published_at', 'caption','created_at', 'updated_at','content_text'], axis = 1, inplace = True)"
      ],
      "execution_count": 56,
      "outputs": []
    },
    {
      "cell_type": "code",
      "metadata": {
        "colab": {
          "base_uri": "https://localhost:8080/"
        },
        "id": "kxjAaih-Jie_",
        "outputId": "eb3077a1-2e41-4efb-fde6-e9c46e6b34c9"
      },
      "source": [
        "user_df.columns"
      ],
      "execution_count": 57,
      "outputs": [
        {
          "output_type": "execute_result",
          "data": {
            "text/plain": [
              "Index(['user_id', 'deep_link', 'is_blocked_bot', 'is_banned', 'is_moderator',\n",
              "       'sessions', 'last_session_memes', 'watched_memes', 'created_at',\n",
              "       'updated_at', 'interface_lang', 'gender'],\n",
              "      dtype='object')"
            ]
          },
          "metadata": {
            "tags": []
          },
          "execution_count": 57
        }
      ]
    },
    {
      "cell_type": "markdown",
      "metadata": {
        "id": "gezcvdNSVb12"
      },
      "source": [
        "### Работа с user_df"
      ]
    },
    {
      "cell_type": "code",
      "metadata": {
        "id": "LSjsmD5xJ6OY"
      },
      "source": [
        "#Удаление данных, которые неинформативны в рамках исследования (тут хотел бы отметить, что поле gender не хотелось удалять, но по нему нет данных по большинству записей, поэтому был вынужден удалить это поле)\r\n",
        "user_df.drop(['deep_link','last_session_memes', 'created_at', 'updated_at', 'is_banned','is_moderator', 'gender', 'is_blocked_bot'], axis = 1, inplace = True)"
      ],
      "execution_count": 58,
      "outputs": []
    },
    {
      "cell_type": "code",
      "metadata": {
        "id": "Hese8yOjOjkE"
      },
      "source": [
        "user_df.interface_lang.replace({'en':1, 'ru':0}, inplace = True) # 1 если интерфейс английский, 0 если русский"
      ],
      "execution_count": 59,
      "outputs": []
    },
    {
      "cell_type": "code",
      "metadata": {
        "colab": {
          "base_uri": "https://localhost:8080/"
        },
        "id": "9KrgRYV2T1vt",
        "outputId": "f883de73-8273-4709-ff7d-0a0b41dd47af"
      },
      "source": [
        "user_df.interface_lang.value_counts() # ~75% используют русский интерфейс"
      ],
      "execution_count": 60,
      "outputs": [
        {
          "output_type": "execute_result",
          "data": {
            "text/plain": [
              "0.0    14156\n",
              "1.0     5714\n",
              "Name: interface_lang, dtype: int64"
            ]
          },
          "metadata": {
            "tags": []
          },
          "execution_count": 60
        }
      ]
    },
    {
      "cell_type": "code",
      "metadata": {
        "colab": {
          "base_uri": "https://localhost:8080/"
        },
        "id": "vM_mg4dyTyXi",
        "outputId": "8c7e2519-cc6c-46dd-9019-f2b403185f85"
      },
      "source": [
        "user_df.isna().sum()"
      ],
      "execution_count": 61,
      "outputs": [
        {
          "output_type": "execute_result",
          "data": {
            "text/plain": [
              "user_id            0\n",
              "sessions           0\n",
              "watched_memes      0\n",
              "interface_lang    48\n",
              "dtype: int64"
            ]
          },
          "metadata": {
            "tags": []
          },
          "execution_count": 61
        }
      ]
    },
    {
      "cell_type": "code",
      "metadata": {
        "colab": {
          "base_uri": "https://localhost:8080/"
        },
        "id": "UJVJLHQ9UoEm",
        "outputId": "36e4f3a8-c3a3-4676-9c06-536c283bf8ae"
      },
      "source": [
        "# Конечно, 48 nan можно было запихнуть в любую категорию, т.к. малое число пропусков, но захотел распределить пропорционально\r\n",
        "import random\r\n",
        "nans = user_df['interface_lang'].isna()\r\n",
        "length = sum(nans)\r\n",
        "replacement = random.choices([0, 1], weights=[.75, .25], k=length)\r\n",
        "user_df.loc[nans,'interface_lang'] = replacement\r\n",
        "user_df.isna().sum()"
      ],
      "execution_count": 62,
      "outputs": [
        {
          "output_type": "execute_result",
          "data": {
            "text/plain": [
              "user_id           0\n",
              "sessions          0\n",
              "watched_memes     0\n",
              "interface_lang    0\n",
              "dtype: int64"
            ]
          },
          "metadata": {
            "tags": []
          },
          "execution_count": 62
        }
      ]
    },
    {
      "cell_type": "code",
      "metadata": {
        "colab": {
          "base_uri": "https://localhost:8080/"
        },
        "id": "F5I6hgL8VFjp",
        "outputId": "f0aac201-1b20-4e7e-c9c2-16d2f19bf358"
      },
      "source": [
        "user_df.interface_lang.value_counts() # Не получилось :)"
      ],
      "execution_count": 63,
      "outputs": [
        {
          "output_type": "execute_result",
          "data": {
            "text/plain": [
              "0.0    14187\n",
              "1.0     5731\n",
              "Name: interface_lang, dtype: int64"
            ]
          },
          "metadata": {
            "tags": []
          },
          "execution_count": 63
        }
      ]
    },
    {
      "cell_type": "code",
      "metadata": {
        "colab": {
          "base_uri": "https://localhost:8080/",
          "height": 197
        },
        "id": "R6HK25ZUQ60B",
        "outputId": "d8d50101-3f84-42c9-cb92-e626ccdb64e5"
      },
      "source": [
        "user_df.head() # отформатированный датасэт"
      ],
      "execution_count": 64,
      "outputs": [
        {
          "output_type": "execute_result",
          "data": {
            "text/html": [
              "<div>\n",
              "<style scoped>\n",
              "    .dataframe tbody tr th:only-of-type {\n",
              "        vertical-align: middle;\n",
              "    }\n",
              "\n",
              "    .dataframe tbody tr th {\n",
              "        vertical-align: top;\n",
              "    }\n",
              "\n",
              "    .dataframe thead th {\n",
              "        text-align: right;\n",
              "    }\n",
              "</style>\n",
              "<table border=\"1\" class=\"dataframe\">\n",
              "  <thead>\n",
              "    <tr style=\"text-align: right;\">\n",
              "      <th></th>\n",
              "      <th>user_id</th>\n",
              "      <th>sessions</th>\n",
              "      <th>watched_memes</th>\n",
              "      <th>interface_lang</th>\n",
              "    </tr>\n",
              "  </thead>\n",
              "  <tbody>\n",
              "    <tr>\n",
              "      <th>0</th>\n",
              "      <td>820326025</td>\n",
              "      <td>6</td>\n",
              "      <td>20</td>\n",
              "      <td>0.0</td>\n",
              "    </tr>\n",
              "    <tr>\n",
              "      <th>1</th>\n",
              "      <td>1040875164</td>\n",
              "      <td>2</td>\n",
              "      <td>7</td>\n",
              "      <td>1.0</td>\n",
              "    </tr>\n",
              "    <tr>\n",
              "      <th>2</th>\n",
              "      <td>449432539</td>\n",
              "      <td>2</td>\n",
              "      <td>9</td>\n",
              "      <td>0.0</td>\n",
              "    </tr>\n",
              "    <tr>\n",
              "      <th>3</th>\n",
              "      <td>230248850</td>\n",
              "      <td>26</td>\n",
              "      <td>38</td>\n",
              "      <td>0.0</td>\n",
              "    </tr>\n",
              "    <tr>\n",
              "      <th>4</th>\n",
              "      <td>7719424</td>\n",
              "      <td>27</td>\n",
              "      <td>49</td>\n",
              "      <td>0.0</td>\n",
              "    </tr>\n",
              "  </tbody>\n",
              "</table>\n",
              "</div>"
            ],
            "text/plain": [
              "      user_id  sessions  watched_memes  interface_lang\n",
              "0   820326025         6             20             0.0\n",
              "1  1040875164         2              7             1.0\n",
              "2   449432539         2              9             0.0\n",
              "3   230248850        26             38             0.0\n",
              "4     7719424        27             49             0.0"
            ]
          },
          "metadata": {
            "tags": []
          },
          "execution_count": 64
        }
      ]
    },
    {
      "cell_type": "markdown",
      "metadata": {
        "id": "qVwHIdJSVeqZ"
      },
      "source": [
        "### Работа с event_df"
      ]
    },
    {
      "cell_type": "code",
      "metadata": {
        "colab": {
          "base_uri": "https://localhost:8080/",
          "height": 197
        },
        "id": "w3LewgpFRvEO",
        "outputId": "752513a8-b191-4b93-e2d3-78bfaf218c16"
      },
      "source": [
        "event_df.head()"
      ],
      "execution_count": 65,
      "outputs": [
        {
          "output_type": "execute_result",
          "data": {
            "text/html": [
              "<div>\n",
              "<style scoped>\n",
              "    .dataframe tbody tr th:only-of-type {\n",
              "        vertical-align: middle;\n",
              "    }\n",
              "\n",
              "    .dataframe tbody tr th {\n",
              "        vertical-align: top;\n",
              "    }\n",
              "\n",
              "    .dataframe thead th {\n",
              "        text-align: right;\n",
              "    }\n",
              "</style>\n",
              "<table border=\"1\" class=\"dataframe\">\n",
              "  <thead>\n",
              "    <tr style=\"text-align: right;\">\n",
              "      <th></th>\n",
              "      <th>reaction_id</th>\n",
              "      <th>meme_id</th>\n",
              "      <th>user_id</th>\n",
              "    </tr>\n",
              "  </thead>\n",
              "  <tbody>\n",
              "    <tr>\n",
              "      <th>0</th>\n",
              "      <td>2.0</td>\n",
              "      <td>24379</td>\n",
              "      <td>280747086</td>\n",
              "    </tr>\n",
              "    <tr>\n",
              "      <th>1</th>\n",
              "      <td>1.0</td>\n",
              "      <td>49173</td>\n",
              "      <td>285739883</td>\n",
              "    </tr>\n",
              "    <tr>\n",
              "      <th>2</th>\n",
              "      <td>1.0</td>\n",
              "      <td>8340</td>\n",
              "      <td>280747086</td>\n",
              "    </tr>\n",
              "    <tr>\n",
              "      <th>3</th>\n",
              "      <td>NaN</td>\n",
              "      <td>64748</td>\n",
              "      <td>78991522</td>\n",
              "    </tr>\n",
              "    <tr>\n",
              "      <th>4</th>\n",
              "      <td>2.0</td>\n",
              "      <td>45163</td>\n",
              "      <td>860086058</td>\n",
              "    </tr>\n",
              "  </tbody>\n",
              "</table>\n",
              "</div>"
            ],
            "text/plain": [
              "   reaction_id  meme_id    user_id\n",
              "0          2.0    24379  280747086\n",
              "1          1.0    49173  285739883\n",
              "2          1.0     8340  280747086\n",
              "3          NaN    64748   78991522\n",
              "4          2.0    45163  860086058"
            ]
          },
          "metadata": {
            "tags": []
          },
          "execution_count": 65
        }
      ]
    },
    {
      "cell_type": "code",
      "metadata": {
        "id": "CLv9nmyBSPnr"
      },
      "source": [
        "event_df = event_df.drop(event_df[(event_df.reaction_id == 3) | (event_df.reaction_id == 4) |(event_df.reaction_id == 5) ].index) # Удаление действий админов"
      ],
      "execution_count": 66,
      "outputs": []
    },
    {
      "cell_type": "code",
      "metadata": {
        "colab": {
          "base_uri": "https://localhost:8080/"
        },
        "id": "Q0jW3s7RTgdZ",
        "outputId": "6051672c-bdd9-4c6a-f01a-c6235e972802"
      },
      "source": [
        "event_df.isna().sum()"
      ],
      "execution_count": 67,
      "outputs": [
        {
          "output_type": "execute_result",
          "data": {
            "text/plain": [
              "reaction_id    41960\n",
              "meme_id            0\n",
              "user_id            0\n",
              "dtype: int64"
            ]
          },
          "metadata": {
            "tags": []
          },
          "execution_count": 67
        }
      ]
    },
    {
      "cell_type": "code",
      "metadata": {
        "colab": {
          "base_uri": "https://localhost:8080/"
        },
        "id": "dTUxn8t8VaB8",
        "outputId": "2aee538b-b7b2-4a9a-99b7-1cd8f2c6b0f8"
      },
      "source": [
        "event_df.reaction_id.value_counts()"
      ],
      "execution_count": 68,
      "outputs": [
        {
          "output_type": "execute_result",
          "data": {
            "text/plain": [
              "1.0    1866242\n",
              "2.0    1611488\n",
              "Name: reaction_id, dtype: int64"
            ]
          },
          "metadata": {
            "tags": []
          },
          "execution_count": 68
        }
      ]
    },
    {
      "cell_type": "code",
      "metadata": {
        "colab": {
          "base_uri": "https://localhost:8080/"
        },
        "id": "O58HkAVIVrMq",
        "outputId": "850229d6-3f4e-4516-dd36-6861d9dfb3b7"
      },
      "source": [
        "nans = event_df['reaction_id'].isna()  # пропорциональное распределение лайков/дизлайков по nan значениям\r\n",
        "length = sum(nans)\r\n",
        "replacement = random.choices([1, 2], weights=[.5, .5], k=length)\r\n",
        "event_df.loc[nans,'reaction_id'] = replacement\r\n",
        "event_df.isna().sum()"
      ],
      "execution_count": 69,
      "outputs": [
        {
          "output_type": "execute_result",
          "data": {
            "text/plain": [
              "reaction_id    0\n",
              "meme_id        0\n",
              "user_id        0\n",
              "dtype: int64"
            ]
          },
          "metadata": {
            "tags": []
          },
          "execution_count": 69
        }
      ]
    },
    {
      "cell_type": "code",
      "metadata": {
        "colab": {
          "base_uri": "https://localhost:8080/"
        },
        "id": "BfUbs7lOWrGA",
        "outputId": "9ced5bdb-e7c9-44d0-f0cc-c178dbf298fa"
      },
      "source": [
        "event_df.reaction_id.value_counts()"
      ],
      "execution_count": 70,
      "outputs": [
        {
          "output_type": "execute_result",
          "data": {
            "text/plain": [
              "1.0    1887441\n",
              "2.0    1632249\n",
              "Name: reaction_id, dtype: int64"
            ]
          },
          "metadata": {
            "tags": []
          },
          "execution_count": 70
        }
      ]
    },
    {
      "cell_type": "code",
      "metadata": {
        "colab": {
          "base_uri": "https://localhost:8080/",
          "height": 197
        },
        "id": "WuWmZ6DGW7ZF",
        "outputId": "62068f99-3693-4e42-ae7a-da9eec890d1e"
      },
      "source": [
        "event_df.head() # отформатированный датасэт"
      ],
      "execution_count": 71,
      "outputs": [
        {
          "output_type": "execute_result",
          "data": {
            "text/html": [
              "<div>\n",
              "<style scoped>\n",
              "    .dataframe tbody tr th:only-of-type {\n",
              "        vertical-align: middle;\n",
              "    }\n",
              "\n",
              "    .dataframe tbody tr th {\n",
              "        vertical-align: top;\n",
              "    }\n",
              "\n",
              "    .dataframe thead th {\n",
              "        text-align: right;\n",
              "    }\n",
              "</style>\n",
              "<table border=\"1\" class=\"dataframe\">\n",
              "  <thead>\n",
              "    <tr style=\"text-align: right;\">\n",
              "      <th></th>\n",
              "      <th>reaction_id</th>\n",
              "      <th>meme_id</th>\n",
              "      <th>user_id</th>\n",
              "    </tr>\n",
              "  </thead>\n",
              "  <tbody>\n",
              "    <tr>\n",
              "      <th>0</th>\n",
              "      <td>2.0</td>\n",
              "      <td>24379</td>\n",
              "      <td>280747086</td>\n",
              "    </tr>\n",
              "    <tr>\n",
              "      <th>1</th>\n",
              "      <td>1.0</td>\n",
              "      <td>49173</td>\n",
              "      <td>285739883</td>\n",
              "    </tr>\n",
              "    <tr>\n",
              "      <th>2</th>\n",
              "      <td>1.0</td>\n",
              "      <td>8340</td>\n",
              "      <td>280747086</td>\n",
              "    </tr>\n",
              "    <tr>\n",
              "      <th>3</th>\n",
              "      <td>1.0</td>\n",
              "      <td>64748</td>\n",
              "      <td>78991522</td>\n",
              "    </tr>\n",
              "    <tr>\n",
              "      <th>4</th>\n",
              "      <td>2.0</td>\n",
              "      <td>45163</td>\n",
              "      <td>860086058</td>\n",
              "    </tr>\n",
              "  </tbody>\n",
              "</table>\n",
              "</div>"
            ],
            "text/plain": [
              "   reaction_id  meme_id    user_id\n",
              "0          2.0    24379  280747086\n",
              "1          1.0    49173  285739883\n",
              "2          1.0     8340  280747086\n",
              "3          1.0    64748   78991522\n",
              "4          2.0    45163  860086058"
            ]
          },
          "metadata": {
            "tags": []
          },
          "execution_count": 71
        }
      ]
    },
    {
      "cell_type": "markdown",
      "metadata": {
        "id": "XgnPoaqpXA0F"
      },
      "source": [
        "### Работа с meme_df"
      ]
    },
    {
      "cell_type": "code",
      "metadata": {
        "colab": {
          "base_uri": "https://localhost:8080/",
          "height": 197
        },
        "id": "AonAl7veXFpS",
        "outputId": "63b206a4-c801-4557-a772-5435782b0b59"
      },
      "source": [
        "meme_df.head()"
      ],
      "execution_count": 72,
      "outputs": [
        {
          "output_type": "execute_result",
          "data": {
            "text/html": [
              "<div>\n",
              "<style scoped>\n",
              "    .dataframe tbody tr th:only-of-type {\n",
              "        vertical-align: middle;\n",
              "    }\n",
              "\n",
              "    .dataframe tbody tr th {\n",
              "        vertical-align: top;\n",
              "    }\n",
              "\n",
              "    .dataframe thead th {\n",
              "        text-align: right;\n",
              "    }\n",
              "</style>\n",
              "<table border=\"1\" class=\"dataframe\">\n",
              "  <thead>\n",
              "    <tr style=\"text-align: right;\">\n",
              "      <th></th>\n",
              "      <th>meme_id</th>\n",
              "      <th>meme_type</th>\n",
              "      <th>source_id</th>\n",
              "      <th>content_lang</th>\n",
              "      <th>is_available</th>\n",
              "      <th>likes</th>\n",
              "      <th>dislikes</th>\n",
              "      <th>is_broken</th>\n",
              "      <th>caption_lang</th>\n",
              "      <th>language_id</th>\n",
              "    </tr>\n",
              "  </thead>\n",
              "  <tbody>\n",
              "    <tr>\n",
              "      <th>0</th>\n",
              "      <td>28997</td>\n",
              "      <td>photo</td>\n",
              "      <td>79.0</td>\n",
              "      <td>en</td>\n",
              "      <td>True</td>\n",
              "      <td>17</td>\n",
              "      <td>14</td>\n",
              "      <td>False</td>\n",
              "      <td>en</td>\n",
              "      <td>3.0</td>\n",
              "    </tr>\n",
              "    <tr>\n",
              "      <th>1</th>\n",
              "      <td>10873</td>\n",
              "      <td>photo</td>\n",
              "      <td>43.0</td>\n",
              "      <td>ru</td>\n",
              "      <td>True</td>\n",
              "      <td>79</td>\n",
              "      <td>74</td>\n",
              "      <td>False</td>\n",
              "      <td>ww</td>\n",
              "      <td>2.0</td>\n",
              "    </tr>\n",
              "    <tr>\n",
              "      <th>2</th>\n",
              "      <td>9874</td>\n",
              "      <td>photo</td>\n",
              "      <td>78.0</td>\n",
              "      <td>en</td>\n",
              "      <td>True</td>\n",
              "      <td>1</td>\n",
              "      <td>7</td>\n",
              "      <td>False</td>\n",
              "      <td>en</td>\n",
              "      <td>3.0</td>\n",
              "    </tr>\n",
              "    <tr>\n",
              "      <th>3</th>\n",
              "      <td>43458</td>\n",
              "      <td>photo</td>\n",
              "      <td>43.0</td>\n",
              "      <td>ru</td>\n",
              "      <td>False</td>\n",
              "      <td>8</td>\n",
              "      <td>12</td>\n",
              "      <td>False</td>\n",
              "      <td>ww</td>\n",
              "      <td>2.0</td>\n",
              "    </tr>\n",
              "    <tr>\n",
              "      <th>4</th>\n",
              "      <td>9000</td>\n",
              "      <td>photo</td>\n",
              "      <td>76.0</td>\n",
              "      <td>und</td>\n",
              "      <td>True</td>\n",
              "      <td>2</td>\n",
              "      <td>9</td>\n",
              "      <td>False</td>\n",
              "      <td>en</td>\n",
              "      <td>3.0</td>\n",
              "    </tr>\n",
              "  </tbody>\n",
              "</table>\n",
              "</div>"
            ],
            "text/plain": [
              "   meme_id meme_type  source_id  ... is_broken  caption_lang  language_id\n",
              "0    28997     photo       79.0  ...     False            en          3.0\n",
              "1    10873     photo       43.0  ...     False            ww          2.0\n",
              "2     9874     photo       78.0  ...     False            en          3.0\n",
              "3    43458     photo       43.0  ...     False            ww          2.0\n",
              "4     9000     photo       76.0  ...     False            en          3.0\n",
              "\n",
              "[5 rows x 10 columns]"
            ]
          },
          "metadata": {
            "tags": []
          },
          "execution_count": 72
        }
      ]
    },
    {
      "cell_type": "code",
      "metadata": {
        "colab": {
          "base_uri": "https://localhost:8080/"
        },
        "id": "YHMACYPOXKdm",
        "outputId": "31fa43f0-8676-424d-e967-c2727d342c1a"
      },
      "source": [
        "meme_df.drop(['content_lang', 'caption_lang', 'is_broken'], axis = 1, inplace = True)\r\n",
        "meme_df.is_available.value_counts()"
      ],
      "execution_count": 73,
      "outputs": [
        {
          "output_type": "execute_result",
          "data": {
            "text/plain": [
              "True     42837\n",
              "False    18679\n",
              "Name: is_available, dtype: int64"
            ]
          },
          "metadata": {
            "tags": []
          },
          "execution_count": 73
        }
      ]
    },
    {
      "cell_type": "code",
      "metadata": {
        "colab": {
          "base_uri": "https://localhost:8080/"
        },
        "id": "uSAD3Wvlcp5M",
        "outputId": "48491968-9d8b-4d70-9b23-ee3d0b3b8dbd"
      },
      "source": [
        "meme_df.isna().sum()"
      ],
      "execution_count": 74,
      "outputs": [
        {
          "output_type": "execute_result",
          "data": {
            "text/plain": [
              "meme_id            0\n",
              "meme_type          0\n",
              "source_id       1877\n",
              "is_available       0\n",
              "likes              0\n",
              "dislikes           0\n",
              "language_id      297\n",
              "dtype: int64"
            ]
          },
          "metadata": {
            "tags": []
          },
          "execution_count": 74
        }
      ]
    },
    {
      "cell_type": "code",
      "metadata": {
        "id": "LlzrWYGWegPg"
      },
      "source": [
        "meme_df = pd.get_dummies(meme_df, columns = ['meme_type'])"
      ],
      "execution_count": 75,
      "outputs": []
    },
    {
      "cell_type": "code",
      "metadata": {
        "id": "Ao7-16A9gmLV"
      },
      "source": [
        "result = meme_df['is_available'].astype(int)\r\n",
        "meme_df['is_available'] = result\r\n",
        "del result"
      ],
      "execution_count": 76,
      "outputs": []
    },
    {
      "cell_type": "code",
      "metadata": {
        "colab": {
          "base_uri": "https://localhost:8080/"
        },
        "id": "bKDzsP-tj4lm",
        "outputId": "34ebd579-2e92-4a87-ea08-7bd619991103"
      },
      "source": [
        "meme_df.source_id.value_counts()"
      ],
      "execution_count": 77,
      "outputs": [
        {
          "output_type": "execute_result",
          "data": {
            "text/plain": [
              "75.0     4885\n",
              "78.0     3815\n",
              "76.0     2648\n",
              "4.0      2508\n",
              "80.0     2471\n",
              "         ... \n",
              "128.0       6\n",
              "93.0        6\n",
              "142.0       6\n",
              "144.0       4\n",
              "107.0       3\n",
              "Name: source_id, Length: 142, dtype: int64"
            ]
          },
          "metadata": {
            "tags": []
          },
          "execution_count": 77
        }
      ]
    },
    {
      "cell_type": "code",
      "metadata": {
        "id": "MQ-i0NfmhqfL"
      },
      "source": [
        "nans = meme_df['source_id'].isna() # пропорциональное распределение источников по nan значениям\r\n",
        "source_ids = meme_df.source_id.unique()\r\n",
        "source_ids = source_ids[np.isnan(source_ids) == False]\r\n",
        "length = sum(nans)\r\n",
        "replacement = random.choices(source_ids, k=length)\r\n",
        "meme_df.loc[nans,'source_id'] = replacement"
      ],
      "execution_count": 78,
      "outputs": []
    },
    {
      "cell_type": "code",
      "metadata": {
        "colab": {
          "base_uri": "https://localhost:8080/"
        },
        "id": "Bm7DMbtwj8Wd",
        "outputId": "abf4341b-a8fa-4a2f-f4a2-14c028b2d3d3"
      },
      "source": [
        "meme_df.source_id.value_counts()"
      ],
      "execution_count": 79,
      "outputs": [
        {
          "output_type": "execute_result",
          "data": {
            "text/plain": [
              "75.0     4902\n",
              "78.0     3830\n",
              "76.0     2659\n",
              "4.0      2515\n",
              "80.0     2482\n",
              "         ... \n",
              "105.0      19\n",
              "93.0       18\n",
              "103.0      17\n",
              "144.0      16\n",
              "159.0      15\n",
              "Name: source_id, Length: 142, dtype: int64"
            ]
          },
          "metadata": {
            "tags": []
          },
          "execution_count": 79
        }
      ]
    },
    {
      "cell_type": "code",
      "metadata": {
        "colab": {
          "base_uri": "https://localhost:8080/"
        },
        "id": "ul7haj9gjtOs",
        "outputId": "f829850e-c482-418e-f234-4dfbcadaf5bd"
      },
      "source": [
        "meme_df.isna().sum()"
      ],
      "execution_count": 80,
      "outputs": [
        {
          "output_type": "execute_result",
          "data": {
            "text/plain": [
              "meme_id                  0\n",
              "source_id                0\n",
              "is_available             0\n",
              "likes                    0\n",
              "dislikes                 0\n",
              "language_id            297\n",
              "meme_type_animation      0\n",
              "meme_type_photo          0\n",
              "meme_type_video          0\n",
              "dtype: int64"
            ]
          },
          "metadata": {
            "tags": []
          },
          "execution_count": 80
        }
      ]
    },
    {
      "cell_type": "code",
      "metadata": {
        "colab": {
          "base_uri": "https://localhost:8080/"
        },
        "id": "rIv7XUW-lnxH",
        "outputId": "a78c03ee-67f0-40d5-a20c-564103a65433"
      },
      "source": [
        "meme_df.language_id.value_counts()"
      ],
      "execution_count": 81,
      "outputs": [
        {
          "output_type": "execute_result",
          "data": {
            "text/plain": [
              "3.0    32151\n",
              "2.0    22094\n",
              "1.0     6336\n",
              "4.0      638\n",
              "Name: language_id, dtype: int64"
            ]
          },
          "metadata": {
            "tags": []
          },
          "execution_count": 81
        }
      ]
    },
    {
      "cell_type": "code",
      "metadata": {
        "id": "DD5JGdZTldLy"
      },
      "source": [
        "nans = meme_df['language_id'].isna() # пропорциональное распределение языков по nan значениям\r\n",
        "language_ids = meme_df.language_id.unique()\r\n",
        "language_ids = language_ids[np.isnan(language_ids) == False]\r\n",
        "length = sum(nans)\r\n",
        "replacement = random.choices(language_ids, k=length)\r\n",
        "meme_df.loc[nans,'language_id'] = replacement"
      ],
      "execution_count": 82,
      "outputs": []
    },
    {
      "cell_type": "code",
      "metadata": {
        "colab": {
          "base_uri": "https://localhost:8080/"
        },
        "id": "wVOATll4lrdh",
        "outputId": "11b59037-968b-4560-b73d-ed389f429bd0"
      },
      "source": [
        "meme_df.language_id.value_counts()"
      ],
      "execution_count": 83,
      "outputs": [
        {
          "output_type": "execute_result",
          "data": {
            "text/plain": [
              "3.0    32211\n",
              "2.0    22169\n",
              "1.0     6418\n",
              "4.0      718\n",
              "Name: language_id, dtype: int64"
            ]
          },
          "metadata": {
            "tags": []
          },
          "execution_count": 83
        }
      ]
    },
    {
      "cell_type": "code",
      "metadata": {
        "colab": {
          "base_uri": "https://localhost:8080/"
        },
        "id": "WLvjgAxblwzc",
        "outputId": "af62ea42-4e1f-4235-8291-2cc496a6639f"
      },
      "source": [
        "meme_df.isna().sum()"
      ],
      "execution_count": 84,
      "outputs": [
        {
          "output_type": "execute_result",
          "data": {
            "text/plain": [
              "meme_id                0\n",
              "source_id              0\n",
              "is_available           0\n",
              "likes                  0\n",
              "dislikes               0\n",
              "language_id            0\n",
              "meme_type_animation    0\n",
              "meme_type_photo        0\n",
              "meme_type_video        0\n",
              "dtype: int64"
            ]
          },
          "metadata": {
            "tags": []
          },
          "execution_count": 84
        }
      ]
    },
    {
      "cell_type": "code",
      "metadata": {
        "colab": {
          "base_uri": "https://localhost:8080/",
          "height": 197
        },
        "id": "jdKQ3CGslyTb",
        "outputId": "0ab1f70b-54e0-40ff-9759-5de1a388ab79"
      },
      "source": [
        "meme_df.head() # готовый датафрейм"
      ],
      "execution_count": 85,
      "outputs": [
        {
          "output_type": "execute_result",
          "data": {
            "text/html": [
              "<div>\n",
              "<style scoped>\n",
              "    .dataframe tbody tr th:only-of-type {\n",
              "        vertical-align: middle;\n",
              "    }\n",
              "\n",
              "    .dataframe tbody tr th {\n",
              "        vertical-align: top;\n",
              "    }\n",
              "\n",
              "    .dataframe thead th {\n",
              "        text-align: right;\n",
              "    }\n",
              "</style>\n",
              "<table border=\"1\" class=\"dataframe\">\n",
              "  <thead>\n",
              "    <tr style=\"text-align: right;\">\n",
              "      <th></th>\n",
              "      <th>meme_id</th>\n",
              "      <th>source_id</th>\n",
              "      <th>is_available</th>\n",
              "      <th>likes</th>\n",
              "      <th>dislikes</th>\n",
              "      <th>language_id</th>\n",
              "      <th>meme_type_animation</th>\n",
              "      <th>meme_type_photo</th>\n",
              "      <th>meme_type_video</th>\n",
              "    </tr>\n",
              "  </thead>\n",
              "  <tbody>\n",
              "    <tr>\n",
              "      <th>0</th>\n",
              "      <td>28997</td>\n",
              "      <td>79.0</td>\n",
              "      <td>1</td>\n",
              "      <td>17</td>\n",
              "      <td>14</td>\n",
              "      <td>3.0</td>\n",
              "      <td>0</td>\n",
              "      <td>1</td>\n",
              "      <td>0</td>\n",
              "    </tr>\n",
              "    <tr>\n",
              "      <th>1</th>\n",
              "      <td>10873</td>\n",
              "      <td>43.0</td>\n",
              "      <td>1</td>\n",
              "      <td>79</td>\n",
              "      <td>74</td>\n",
              "      <td>2.0</td>\n",
              "      <td>0</td>\n",
              "      <td>1</td>\n",
              "      <td>0</td>\n",
              "    </tr>\n",
              "    <tr>\n",
              "      <th>2</th>\n",
              "      <td>9874</td>\n",
              "      <td>78.0</td>\n",
              "      <td>1</td>\n",
              "      <td>1</td>\n",
              "      <td>7</td>\n",
              "      <td>3.0</td>\n",
              "      <td>0</td>\n",
              "      <td>1</td>\n",
              "      <td>0</td>\n",
              "    </tr>\n",
              "    <tr>\n",
              "      <th>3</th>\n",
              "      <td>43458</td>\n",
              "      <td>43.0</td>\n",
              "      <td>0</td>\n",
              "      <td>8</td>\n",
              "      <td>12</td>\n",
              "      <td>2.0</td>\n",
              "      <td>0</td>\n",
              "      <td>1</td>\n",
              "      <td>0</td>\n",
              "    </tr>\n",
              "    <tr>\n",
              "      <th>4</th>\n",
              "      <td>9000</td>\n",
              "      <td>76.0</td>\n",
              "      <td>1</td>\n",
              "      <td>2</td>\n",
              "      <td>9</td>\n",
              "      <td>3.0</td>\n",
              "      <td>0</td>\n",
              "      <td>1</td>\n",
              "      <td>0</td>\n",
              "    </tr>\n",
              "  </tbody>\n",
              "</table>\n",
              "</div>"
            ],
            "text/plain": [
              "   meme_id  source_id  ...  meme_type_photo  meme_type_video\n",
              "0    28997       79.0  ...                1                0\n",
              "1    10873       43.0  ...                1                0\n",
              "2     9874       78.0  ...                1                0\n",
              "3    43458       43.0  ...                1                0\n",
              "4     9000       76.0  ...                1                0\n",
              "\n",
              "[5 rows x 9 columns]"
            ]
          },
          "metadata": {
            "tags": []
          },
          "execution_count": 85
        }
      ]
    },
    {
      "cell_type": "markdown",
      "metadata": {
        "id": "-HNyqrPPbarX"
      },
      "source": [
        "## Объединение датасэтов"
      ]
    },
    {
      "cell_type": "code",
      "metadata": {
        "colab": {
          "base_uri": "https://localhost:8080/",
          "height": 406
        },
        "id": "d4e97XibbisB",
        "outputId": "b793b373-c61b-496f-9ec0-15882220036b"
      },
      "source": [
        "event_df"
      ],
      "execution_count": 86,
      "outputs": [
        {
          "output_type": "execute_result",
          "data": {
            "text/html": [
              "<div>\n",
              "<style scoped>\n",
              "    .dataframe tbody tr th:only-of-type {\n",
              "        vertical-align: middle;\n",
              "    }\n",
              "\n",
              "    .dataframe tbody tr th {\n",
              "        vertical-align: top;\n",
              "    }\n",
              "\n",
              "    .dataframe thead th {\n",
              "        text-align: right;\n",
              "    }\n",
              "</style>\n",
              "<table border=\"1\" class=\"dataframe\">\n",
              "  <thead>\n",
              "    <tr style=\"text-align: right;\">\n",
              "      <th></th>\n",
              "      <th>reaction_id</th>\n",
              "      <th>meme_id</th>\n",
              "      <th>user_id</th>\n",
              "    </tr>\n",
              "  </thead>\n",
              "  <tbody>\n",
              "    <tr>\n",
              "      <th>0</th>\n",
              "      <td>2.0</td>\n",
              "      <td>24379</td>\n",
              "      <td>280747086</td>\n",
              "    </tr>\n",
              "    <tr>\n",
              "      <th>1</th>\n",
              "      <td>1.0</td>\n",
              "      <td>49173</td>\n",
              "      <td>285739883</td>\n",
              "    </tr>\n",
              "    <tr>\n",
              "      <th>2</th>\n",
              "      <td>1.0</td>\n",
              "      <td>8340</td>\n",
              "      <td>280747086</td>\n",
              "    </tr>\n",
              "    <tr>\n",
              "      <th>3</th>\n",
              "      <td>1.0</td>\n",
              "      <td>64748</td>\n",
              "      <td>78991522</td>\n",
              "    </tr>\n",
              "    <tr>\n",
              "      <th>4</th>\n",
              "      <td>2.0</td>\n",
              "      <td>45163</td>\n",
              "      <td>860086058</td>\n",
              "    </tr>\n",
              "    <tr>\n",
              "      <th>...</th>\n",
              "      <td>...</td>\n",
              "      <td>...</td>\n",
              "      <td>...</td>\n",
              "    </tr>\n",
              "    <tr>\n",
              "      <th>3652698</th>\n",
              "      <td>2.0</td>\n",
              "      <td>53209</td>\n",
              "      <td>860086058</td>\n",
              "    </tr>\n",
              "    <tr>\n",
              "      <th>3652699</th>\n",
              "      <td>2.0</td>\n",
              "      <td>54890</td>\n",
              "      <td>381510059</td>\n",
              "    </tr>\n",
              "    <tr>\n",
              "      <th>3652700</th>\n",
              "      <td>2.0</td>\n",
              "      <td>38116</td>\n",
              "      <td>285739883</td>\n",
              "    </tr>\n",
              "    <tr>\n",
              "      <th>3652701</th>\n",
              "      <td>1.0</td>\n",
              "      <td>10188</td>\n",
              "      <td>245482</td>\n",
              "    </tr>\n",
              "    <tr>\n",
              "      <th>3652702</th>\n",
              "      <td>2.0</td>\n",
              "      <td>13534</td>\n",
              "      <td>1023088184</td>\n",
              "    </tr>\n",
              "  </tbody>\n",
              "</table>\n",
              "<p>3519690 rows × 3 columns</p>\n",
              "</div>"
            ],
            "text/plain": [
              "         reaction_id  meme_id     user_id\n",
              "0                2.0    24379   280747086\n",
              "1                1.0    49173   285739883\n",
              "2                1.0     8340   280747086\n",
              "3                1.0    64748    78991522\n",
              "4                2.0    45163   860086058\n",
              "...              ...      ...         ...\n",
              "3652698          2.0    53209   860086058\n",
              "3652699          2.0    54890   381510059\n",
              "3652700          2.0    38116   285739883\n",
              "3652701          1.0    10188      245482\n",
              "3652702          2.0    13534  1023088184\n",
              "\n",
              "[3519690 rows x 3 columns]"
            ]
          },
          "metadata": {
            "tags": []
          },
          "execution_count": 86
        }
      ]
    },
    {
      "cell_type": "code",
      "metadata": {
        "colab": {
          "base_uri": "https://localhost:8080/",
          "height": 197
        },
        "id": "Cu5v0hIBbndN",
        "outputId": "ce041a2b-26a4-4784-c7e5-827a4932fc02"
      },
      "source": [
        "meme_df.head()"
      ],
      "execution_count": 87,
      "outputs": [
        {
          "output_type": "execute_result",
          "data": {
            "text/html": [
              "<div>\n",
              "<style scoped>\n",
              "    .dataframe tbody tr th:only-of-type {\n",
              "        vertical-align: middle;\n",
              "    }\n",
              "\n",
              "    .dataframe tbody tr th {\n",
              "        vertical-align: top;\n",
              "    }\n",
              "\n",
              "    .dataframe thead th {\n",
              "        text-align: right;\n",
              "    }\n",
              "</style>\n",
              "<table border=\"1\" class=\"dataframe\">\n",
              "  <thead>\n",
              "    <tr style=\"text-align: right;\">\n",
              "      <th></th>\n",
              "      <th>meme_id</th>\n",
              "      <th>source_id</th>\n",
              "      <th>is_available</th>\n",
              "      <th>likes</th>\n",
              "      <th>dislikes</th>\n",
              "      <th>language_id</th>\n",
              "      <th>meme_type_animation</th>\n",
              "      <th>meme_type_photo</th>\n",
              "      <th>meme_type_video</th>\n",
              "    </tr>\n",
              "  </thead>\n",
              "  <tbody>\n",
              "    <tr>\n",
              "      <th>0</th>\n",
              "      <td>28997</td>\n",
              "      <td>79.0</td>\n",
              "      <td>1</td>\n",
              "      <td>17</td>\n",
              "      <td>14</td>\n",
              "      <td>3.0</td>\n",
              "      <td>0</td>\n",
              "      <td>1</td>\n",
              "      <td>0</td>\n",
              "    </tr>\n",
              "    <tr>\n",
              "      <th>1</th>\n",
              "      <td>10873</td>\n",
              "      <td>43.0</td>\n",
              "      <td>1</td>\n",
              "      <td>79</td>\n",
              "      <td>74</td>\n",
              "      <td>2.0</td>\n",
              "      <td>0</td>\n",
              "      <td>1</td>\n",
              "      <td>0</td>\n",
              "    </tr>\n",
              "    <tr>\n",
              "      <th>2</th>\n",
              "      <td>9874</td>\n",
              "      <td>78.0</td>\n",
              "      <td>1</td>\n",
              "      <td>1</td>\n",
              "      <td>7</td>\n",
              "      <td>3.0</td>\n",
              "      <td>0</td>\n",
              "      <td>1</td>\n",
              "      <td>0</td>\n",
              "    </tr>\n",
              "    <tr>\n",
              "      <th>3</th>\n",
              "      <td>43458</td>\n",
              "      <td>43.0</td>\n",
              "      <td>0</td>\n",
              "      <td>8</td>\n",
              "      <td>12</td>\n",
              "      <td>2.0</td>\n",
              "      <td>0</td>\n",
              "      <td>1</td>\n",
              "      <td>0</td>\n",
              "    </tr>\n",
              "    <tr>\n",
              "      <th>4</th>\n",
              "      <td>9000</td>\n",
              "      <td>76.0</td>\n",
              "      <td>1</td>\n",
              "      <td>2</td>\n",
              "      <td>9</td>\n",
              "      <td>3.0</td>\n",
              "      <td>0</td>\n",
              "      <td>1</td>\n",
              "      <td>0</td>\n",
              "    </tr>\n",
              "  </tbody>\n",
              "</table>\n",
              "</div>"
            ],
            "text/plain": [
              "   meme_id  source_id  ...  meme_type_photo  meme_type_video\n",
              "0    28997       79.0  ...                1                0\n",
              "1    10873       43.0  ...                1                0\n",
              "2     9874       78.0  ...                1                0\n",
              "3    43458       43.0  ...                1                0\n",
              "4     9000       76.0  ...                1                0\n",
              "\n",
              "[5 rows x 9 columns]"
            ]
          },
          "metadata": {
            "tags": []
          },
          "execution_count": 87
        }
      ]
    },
    {
      "cell_type": "code",
      "metadata": {
        "colab": {
          "base_uri": "https://localhost:8080/",
          "height": 197
        },
        "id": "yAd_ckvuboMl",
        "outputId": "a3f68efa-483c-431b-b04d-44198e3a09dc"
      },
      "source": [
        "user_df.head()"
      ],
      "execution_count": 88,
      "outputs": [
        {
          "output_type": "execute_result",
          "data": {
            "text/html": [
              "<div>\n",
              "<style scoped>\n",
              "    .dataframe tbody tr th:only-of-type {\n",
              "        vertical-align: middle;\n",
              "    }\n",
              "\n",
              "    .dataframe tbody tr th {\n",
              "        vertical-align: top;\n",
              "    }\n",
              "\n",
              "    .dataframe thead th {\n",
              "        text-align: right;\n",
              "    }\n",
              "</style>\n",
              "<table border=\"1\" class=\"dataframe\">\n",
              "  <thead>\n",
              "    <tr style=\"text-align: right;\">\n",
              "      <th></th>\n",
              "      <th>user_id</th>\n",
              "      <th>sessions</th>\n",
              "      <th>watched_memes</th>\n",
              "      <th>interface_lang</th>\n",
              "    </tr>\n",
              "  </thead>\n",
              "  <tbody>\n",
              "    <tr>\n",
              "      <th>0</th>\n",
              "      <td>820326025</td>\n",
              "      <td>6</td>\n",
              "      <td>20</td>\n",
              "      <td>0.0</td>\n",
              "    </tr>\n",
              "    <tr>\n",
              "      <th>1</th>\n",
              "      <td>1040875164</td>\n",
              "      <td>2</td>\n",
              "      <td>7</td>\n",
              "      <td>1.0</td>\n",
              "    </tr>\n",
              "    <tr>\n",
              "      <th>2</th>\n",
              "      <td>449432539</td>\n",
              "      <td>2</td>\n",
              "      <td>9</td>\n",
              "      <td>0.0</td>\n",
              "    </tr>\n",
              "    <tr>\n",
              "      <th>3</th>\n",
              "      <td>230248850</td>\n",
              "      <td>26</td>\n",
              "      <td>38</td>\n",
              "      <td>0.0</td>\n",
              "    </tr>\n",
              "    <tr>\n",
              "      <th>4</th>\n",
              "      <td>7719424</td>\n",
              "      <td>27</td>\n",
              "      <td>49</td>\n",
              "      <td>0.0</td>\n",
              "    </tr>\n",
              "  </tbody>\n",
              "</table>\n",
              "</div>"
            ],
            "text/plain": [
              "      user_id  sessions  watched_memes  interface_lang\n",
              "0   820326025         6             20             0.0\n",
              "1  1040875164         2              7             1.0\n",
              "2   449432539         2              9             0.0\n",
              "3   230248850        26             38             0.0\n",
              "4     7719424        27             49             0.0"
            ]
          },
          "metadata": {
            "tags": []
          },
          "execution_count": 88
        }
      ]
    },
    {
      "cell_type": "code",
      "metadata": {
        "colab": {
          "base_uri": "https://localhost:8080/",
          "height": 406
        },
        "id": "cOcXukLJb4Dj",
        "outputId": "108b30c6-5d3e-498f-fbd2-8e15eba6eabf"
      },
      "source": [
        "event_meme = pd.merge(event_df, meme_df, on = 'meme_id')\r\n",
        "event_meme_user = pd.merge(event_meme, user_df, on = 'user_id')\r\n",
        "event_meme_user.drop(['meme_id', 'user_id'], axis = 1, inplace = True)\r\n",
        "event_meme_user"
      ],
      "execution_count": 89,
      "outputs": [
        {
          "output_type": "execute_result",
          "data": {
            "text/html": [
              "<div>\n",
              "<style scoped>\n",
              "    .dataframe tbody tr th:only-of-type {\n",
              "        vertical-align: middle;\n",
              "    }\n",
              "\n",
              "    .dataframe tbody tr th {\n",
              "        vertical-align: top;\n",
              "    }\n",
              "\n",
              "    .dataframe thead th {\n",
              "        text-align: right;\n",
              "    }\n",
              "</style>\n",
              "<table border=\"1\" class=\"dataframe\">\n",
              "  <thead>\n",
              "    <tr style=\"text-align: right;\">\n",
              "      <th></th>\n",
              "      <th>reaction_id</th>\n",
              "      <th>source_id</th>\n",
              "      <th>is_available</th>\n",
              "      <th>likes</th>\n",
              "      <th>dislikes</th>\n",
              "      <th>language_id</th>\n",
              "      <th>meme_type_animation</th>\n",
              "      <th>meme_type_photo</th>\n",
              "      <th>meme_type_video</th>\n",
              "      <th>sessions</th>\n",
              "      <th>watched_memes</th>\n",
              "      <th>interface_lang</th>\n",
              "    </tr>\n",
              "  </thead>\n",
              "  <tbody>\n",
              "    <tr>\n",
              "      <th>0</th>\n",
              "      <td>2.0</td>\n",
              "      <td>45.0</td>\n",
              "      <td>1</td>\n",
              "      <td>22</td>\n",
              "      <td>33</td>\n",
              "      <td>2.0</td>\n",
              "      <td>0</td>\n",
              "      <td>1</td>\n",
              "      <td>0</td>\n",
              "      <td>64</td>\n",
              "      <td>4353</td>\n",
              "      <td>0.0</td>\n",
              "    </tr>\n",
              "    <tr>\n",
              "      <th>1</th>\n",
              "      <td>1.0</td>\n",
              "      <td>46.0</td>\n",
              "      <td>1</td>\n",
              "      <td>106</td>\n",
              "      <td>90</td>\n",
              "      <td>2.0</td>\n",
              "      <td>0</td>\n",
              "      <td>1</td>\n",
              "      <td>0</td>\n",
              "      <td>64</td>\n",
              "      <td>4353</td>\n",
              "      <td>0.0</td>\n",
              "    </tr>\n",
              "    <tr>\n",
              "      <th>2</th>\n",
              "      <td>1.0</td>\n",
              "      <td>43.0</td>\n",
              "      <td>1</td>\n",
              "      <td>63</td>\n",
              "      <td>69</td>\n",
              "      <td>2.0</td>\n",
              "      <td>0</td>\n",
              "      <td>1</td>\n",
              "      <td>0</td>\n",
              "      <td>64</td>\n",
              "      <td>4353</td>\n",
              "      <td>0.0</td>\n",
              "    </tr>\n",
              "    <tr>\n",
              "      <th>3</th>\n",
              "      <td>2.0</td>\n",
              "      <td>8.0</td>\n",
              "      <td>1</td>\n",
              "      <td>43</td>\n",
              "      <td>52</td>\n",
              "      <td>2.0</td>\n",
              "      <td>0</td>\n",
              "      <td>1</td>\n",
              "      <td>0</td>\n",
              "      <td>64</td>\n",
              "      <td>4353</td>\n",
              "      <td>0.0</td>\n",
              "    </tr>\n",
              "    <tr>\n",
              "      <th>4</th>\n",
              "      <td>1.0</td>\n",
              "      <td>21.0</td>\n",
              "      <td>1</td>\n",
              "      <td>192</td>\n",
              "      <td>70</td>\n",
              "      <td>2.0</td>\n",
              "      <td>0</td>\n",
              "      <td>1</td>\n",
              "      <td>0</td>\n",
              "      <td>64</td>\n",
              "      <td>4353</td>\n",
              "      <td>0.0</td>\n",
              "    </tr>\n",
              "    <tr>\n",
              "      <th>...</th>\n",
              "      <td>...</td>\n",
              "      <td>...</td>\n",
              "      <td>...</td>\n",
              "      <td>...</td>\n",
              "      <td>...</td>\n",
              "      <td>...</td>\n",
              "      <td>...</td>\n",
              "      <td>...</td>\n",
              "      <td>...</td>\n",
              "      <td>...</td>\n",
              "      <td>...</td>\n",
              "      <td>...</td>\n",
              "    </tr>\n",
              "    <tr>\n",
              "      <th>3480367</th>\n",
              "      <td>2.0</td>\n",
              "      <td>75.0</td>\n",
              "      <td>1</td>\n",
              "      <td>77</td>\n",
              "      <td>28</td>\n",
              "      <td>3.0</td>\n",
              "      <td>0</td>\n",
              "      <td>1</td>\n",
              "      <td>0</td>\n",
              "      <td>1</td>\n",
              "      <td>1</td>\n",
              "      <td>1.0</td>\n",
              "    </tr>\n",
              "    <tr>\n",
              "      <th>3480368</th>\n",
              "      <td>1.0</td>\n",
              "      <td>75.0</td>\n",
              "      <td>1</td>\n",
              "      <td>77</td>\n",
              "      <td>28</td>\n",
              "      <td>3.0</td>\n",
              "      <td>0</td>\n",
              "      <td>1</td>\n",
              "      <td>0</td>\n",
              "      <td>1</td>\n",
              "      <td>1</td>\n",
              "      <td>1.0</td>\n",
              "    </tr>\n",
              "    <tr>\n",
              "      <th>3480369</th>\n",
              "      <td>1.0</td>\n",
              "      <td>78.0</td>\n",
              "      <td>1</td>\n",
              "      <td>9</td>\n",
              "      <td>16</td>\n",
              "      <td>3.0</td>\n",
              "      <td>0</td>\n",
              "      <td>1</td>\n",
              "      <td>0</td>\n",
              "      <td>1</td>\n",
              "      <td>1</td>\n",
              "      <td>0.0</td>\n",
              "    </tr>\n",
              "    <tr>\n",
              "      <th>3480370</th>\n",
              "      <td>1.0</td>\n",
              "      <td>78.0</td>\n",
              "      <td>1</td>\n",
              "      <td>23</td>\n",
              "      <td>12</td>\n",
              "      <td>3.0</td>\n",
              "      <td>0</td>\n",
              "      <td>1</td>\n",
              "      <td>0</td>\n",
              "      <td>1</td>\n",
              "      <td>1</td>\n",
              "      <td>1.0</td>\n",
              "    </tr>\n",
              "    <tr>\n",
              "      <th>3480371</th>\n",
              "      <td>2.0</td>\n",
              "      <td>75.0</td>\n",
              "      <td>1</td>\n",
              "      <td>19</td>\n",
              "      <td>18</td>\n",
              "      <td>3.0</td>\n",
              "      <td>0</td>\n",
              "      <td>1</td>\n",
              "      <td>0</td>\n",
              "      <td>1</td>\n",
              "      <td>1</td>\n",
              "      <td>1.0</td>\n",
              "    </tr>\n",
              "  </tbody>\n",
              "</table>\n",
              "<p>3480372 rows × 12 columns</p>\n",
              "</div>"
            ],
            "text/plain": [
              "         reaction_id  source_id  ...  watched_memes  interface_lang\n",
              "0                2.0       45.0  ...           4353             0.0\n",
              "1                1.0       46.0  ...           4353             0.0\n",
              "2                1.0       43.0  ...           4353             0.0\n",
              "3                2.0        8.0  ...           4353             0.0\n",
              "4                1.0       21.0  ...           4353             0.0\n",
              "...              ...        ...  ...            ...             ...\n",
              "3480367          2.0       75.0  ...              1             1.0\n",
              "3480368          1.0       75.0  ...              1             1.0\n",
              "3480369          1.0       78.0  ...              1             0.0\n",
              "3480370          1.0       78.0  ...              1             1.0\n",
              "3480371          2.0       75.0  ...              1             1.0\n",
              "\n",
              "[3480372 rows x 12 columns]"
            ]
          },
          "metadata": {
            "tags": []
          },
          "execution_count": 89
        }
      ]
    },
    {
      "cell_type": "code",
      "metadata": {
        "colab": {
          "base_uri": "https://localhost:8080/"
        },
        "id": "73y1ZjTBct7F",
        "outputId": "22eee7df-8961-40ef-8af0-16d7c40163f4"
      },
      "source": [
        "event_meme_user.isna().sum()"
      ],
      "execution_count": 90,
      "outputs": [
        {
          "output_type": "execute_result",
          "data": {
            "text/plain": [
              "reaction_id            0\n",
              "source_id              0\n",
              "is_available           0\n",
              "likes                  0\n",
              "dislikes               0\n",
              "language_id            0\n",
              "meme_type_animation    0\n",
              "meme_type_photo        0\n",
              "meme_type_video        0\n",
              "sessions               0\n",
              "watched_memes          0\n",
              "interface_lang         0\n",
              "dtype: int64"
            ]
          },
          "metadata": {
            "tags": []
          },
          "execution_count": 90
        }
      ]
    },
    {
      "cell_type": "markdown",
      "metadata": {
        "id": "yt8LkZS5c2rC"
      },
      "source": [
        "## Подготовка модели"
      ]
    },
    {
      "cell_type": "code",
      "metadata": {
        "id": "5RIjtz-0c4wZ"
      },
      "source": [
        "x = event_meme_user.iloc[:,1:]\r\n",
        "y = event_meme_user.iloc[:,0]\r\n",
        " "
      ],
      "execution_count": 91,
      "outputs": []
    },
    {
      "cell_type": "code",
      "metadata": {
        "colab": {
          "base_uri": "https://localhost:8080/",
          "height": 406
        },
        "id": "RAQZ3hdYdDfl",
        "outputId": "5b4f0a84-5442-4e89-9dfc-80a00188a004"
      },
      "source": [
        "x"
      ],
      "execution_count": 92,
      "outputs": [
        {
          "output_type": "execute_result",
          "data": {
            "text/html": [
              "<div>\n",
              "<style scoped>\n",
              "    .dataframe tbody tr th:only-of-type {\n",
              "        vertical-align: middle;\n",
              "    }\n",
              "\n",
              "    .dataframe tbody tr th {\n",
              "        vertical-align: top;\n",
              "    }\n",
              "\n",
              "    .dataframe thead th {\n",
              "        text-align: right;\n",
              "    }\n",
              "</style>\n",
              "<table border=\"1\" class=\"dataframe\">\n",
              "  <thead>\n",
              "    <tr style=\"text-align: right;\">\n",
              "      <th></th>\n",
              "      <th>source_id</th>\n",
              "      <th>is_available</th>\n",
              "      <th>likes</th>\n",
              "      <th>dislikes</th>\n",
              "      <th>language_id</th>\n",
              "      <th>meme_type_animation</th>\n",
              "      <th>meme_type_photo</th>\n",
              "      <th>meme_type_video</th>\n",
              "      <th>sessions</th>\n",
              "      <th>watched_memes</th>\n",
              "      <th>interface_lang</th>\n",
              "    </tr>\n",
              "  </thead>\n",
              "  <tbody>\n",
              "    <tr>\n",
              "      <th>0</th>\n",
              "      <td>45.0</td>\n",
              "      <td>1</td>\n",
              "      <td>22</td>\n",
              "      <td>33</td>\n",
              "      <td>2.0</td>\n",
              "      <td>0</td>\n",
              "      <td>1</td>\n",
              "      <td>0</td>\n",
              "      <td>64</td>\n",
              "      <td>4353</td>\n",
              "      <td>0.0</td>\n",
              "    </tr>\n",
              "    <tr>\n",
              "      <th>1</th>\n",
              "      <td>46.0</td>\n",
              "      <td>1</td>\n",
              "      <td>106</td>\n",
              "      <td>90</td>\n",
              "      <td>2.0</td>\n",
              "      <td>0</td>\n",
              "      <td>1</td>\n",
              "      <td>0</td>\n",
              "      <td>64</td>\n",
              "      <td>4353</td>\n",
              "      <td>0.0</td>\n",
              "    </tr>\n",
              "    <tr>\n",
              "      <th>2</th>\n",
              "      <td>43.0</td>\n",
              "      <td>1</td>\n",
              "      <td>63</td>\n",
              "      <td>69</td>\n",
              "      <td>2.0</td>\n",
              "      <td>0</td>\n",
              "      <td>1</td>\n",
              "      <td>0</td>\n",
              "      <td>64</td>\n",
              "      <td>4353</td>\n",
              "      <td>0.0</td>\n",
              "    </tr>\n",
              "    <tr>\n",
              "      <th>3</th>\n",
              "      <td>8.0</td>\n",
              "      <td>1</td>\n",
              "      <td>43</td>\n",
              "      <td>52</td>\n",
              "      <td>2.0</td>\n",
              "      <td>0</td>\n",
              "      <td>1</td>\n",
              "      <td>0</td>\n",
              "      <td>64</td>\n",
              "      <td>4353</td>\n",
              "      <td>0.0</td>\n",
              "    </tr>\n",
              "    <tr>\n",
              "      <th>4</th>\n",
              "      <td>21.0</td>\n",
              "      <td>1</td>\n",
              "      <td>192</td>\n",
              "      <td>70</td>\n",
              "      <td>2.0</td>\n",
              "      <td>0</td>\n",
              "      <td>1</td>\n",
              "      <td>0</td>\n",
              "      <td>64</td>\n",
              "      <td>4353</td>\n",
              "      <td>0.0</td>\n",
              "    </tr>\n",
              "    <tr>\n",
              "      <th>...</th>\n",
              "      <td>...</td>\n",
              "      <td>...</td>\n",
              "      <td>...</td>\n",
              "      <td>...</td>\n",
              "      <td>...</td>\n",
              "      <td>...</td>\n",
              "      <td>...</td>\n",
              "      <td>...</td>\n",
              "      <td>...</td>\n",
              "      <td>...</td>\n",
              "      <td>...</td>\n",
              "    </tr>\n",
              "    <tr>\n",
              "      <th>3480367</th>\n",
              "      <td>75.0</td>\n",
              "      <td>1</td>\n",
              "      <td>77</td>\n",
              "      <td>28</td>\n",
              "      <td>3.0</td>\n",
              "      <td>0</td>\n",
              "      <td>1</td>\n",
              "      <td>0</td>\n",
              "      <td>1</td>\n",
              "      <td>1</td>\n",
              "      <td>1.0</td>\n",
              "    </tr>\n",
              "    <tr>\n",
              "      <th>3480368</th>\n",
              "      <td>75.0</td>\n",
              "      <td>1</td>\n",
              "      <td>77</td>\n",
              "      <td>28</td>\n",
              "      <td>3.0</td>\n",
              "      <td>0</td>\n",
              "      <td>1</td>\n",
              "      <td>0</td>\n",
              "      <td>1</td>\n",
              "      <td>1</td>\n",
              "      <td>1.0</td>\n",
              "    </tr>\n",
              "    <tr>\n",
              "      <th>3480369</th>\n",
              "      <td>78.0</td>\n",
              "      <td>1</td>\n",
              "      <td>9</td>\n",
              "      <td>16</td>\n",
              "      <td>3.0</td>\n",
              "      <td>0</td>\n",
              "      <td>1</td>\n",
              "      <td>0</td>\n",
              "      <td>1</td>\n",
              "      <td>1</td>\n",
              "      <td>0.0</td>\n",
              "    </tr>\n",
              "    <tr>\n",
              "      <th>3480370</th>\n",
              "      <td>78.0</td>\n",
              "      <td>1</td>\n",
              "      <td>23</td>\n",
              "      <td>12</td>\n",
              "      <td>3.0</td>\n",
              "      <td>0</td>\n",
              "      <td>1</td>\n",
              "      <td>0</td>\n",
              "      <td>1</td>\n",
              "      <td>1</td>\n",
              "      <td>1.0</td>\n",
              "    </tr>\n",
              "    <tr>\n",
              "      <th>3480371</th>\n",
              "      <td>75.0</td>\n",
              "      <td>1</td>\n",
              "      <td>19</td>\n",
              "      <td>18</td>\n",
              "      <td>3.0</td>\n",
              "      <td>0</td>\n",
              "      <td>1</td>\n",
              "      <td>0</td>\n",
              "      <td>1</td>\n",
              "      <td>1</td>\n",
              "      <td>1.0</td>\n",
              "    </tr>\n",
              "  </tbody>\n",
              "</table>\n",
              "<p>3480372 rows × 11 columns</p>\n",
              "</div>"
            ],
            "text/plain": [
              "         source_id  is_available  ...  watched_memes  interface_lang\n",
              "0             45.0             1  ...           4353             0.0\n",
              "1             46.0             1  ...           4353             0.0\n",
              "2             43.0             1  ...           4353             0.0\n",
              "3              8.0             1  ...           4353             0.0\n",
              "4             21.0             1  ...           4353             0.0\n",
              "...            ...           ...  ...            ...             ...\n",
              "3480367       75.0             1  ...              1             1.0\n",
              "3480368       75.0             1  ...              1             1.0\n",
              "3480369       78.0             1  ...              1             0.0\n",
              "3480370       78.0             1  ...              1             1.0\n",
              "3480371       75.0             1  ...              1             1.0\n",
              "\n",
              "[3480372 rows x 11 columns]"
            ]
          },
          "metadata": {
            "tags": []
          },
          "execution_count": 92
        }
      ]
    },
    {
      "cell_type": "code",
      "metadata": {
        "colab": {
          "base_uri": "https://localhost:8080/"
        },
        "id": "GB7t5OV5deHK",
        "outputId": "6d98c4aa-3049-4a08-c51a-88a919ca1e78"
      },
      "source": [
        "y"
      ],
      "execution_count": 93,
      "outputs": [
        {
          "output_type": "execute_result",
          "data": {
            "text/plain": [
              "0          2.0\n",
              "1          1.0\n",
              "2          1.0\n",
              "3          2.0\n",
              "4          1.0\n",
              "          ... \n",
              "3480367    2.0\n",
              "3480368    1.0\n",
              "3480369    1.0\n",
              "3480370    1.0\n",
              "3480371    2.0\n",
              "Name: reaction_id, Length: 3480372, dtype: float64"
            ]
          },
          "metadata": {
            "tags": []
          },
          "execution_count": 93
        }
      ]
    },
    {
      "cell_type": "code",
      "metadata": {
        "id": "KMi5skO5dr6g"
      },
      "source": [
        "from sklearn.model_selection import train_test_split\r\n",
        "x_tr, x_ts, y_tr, y_ts = train_test_split(x, y, random_state = 1)"
      ],
      "execution_count": 95,
      "outputs": []
    },
    {
      "cell_type": "markdown",
      "metadata": {
        "id": "Rn7UThX9eauD"
      },
      "source": [
        "### Логистическая регрессия"
      ]
    },
    {
      "cell_type": "code",
      "metadata": {
        "colab": {
          "base_uri": "https://localhost:8080/"
        },
        "id": "VFNJ8gJBd6Bz",
        "outputId": "8caa7758-d766-4beb-fd8d-885af294a650"
      },
      "source": [
        "from sklearn.linear_model import LogisticRegression\r\n",
        "logreg = LogisticRegression()\r\n",
        "logreg.fit(x_tr, y_tr)\r\n",
        "print('Accuracy of Logistic regression classifier on training set: {:.2f}'\r\n",
        "     .format(logreg.score(x_tr, y_tr)))\r\n",
        "print('Accuracy of Logistic regression classifier on test set: {:.2f}'\r\n",
        "     .format(logreg.score(x_ts, y_ts)))"
      ],
      "execution_count": 96,
      "outputs": [
        {
          "output_type": "stream",
          "text": [
            "Accuracy of Logistic regression classifier on training set: 0.60\n",
            "Accuracy of Logistic regression classifier on test set: 0.60\n"
          ],
          "name": "stdout"
        }
      ]
    },
    {
      "cell_type": "markdown",
      "metadata": {
        "id": "64A7nTlkgLW0"
      },
      "source": [
        "### Дерево решений"
      ]
    },
    {
      "cell_type": "code",
      "metadata": {
        "colab": {
          "base_uri": "https://localhost:8080/"
        },
        "id": "GN9Cm1z1gNzM",
        "outputId": "58a40dad-fea4-4741-82a8-00ccb58c112d"
      },
      "source": [
        "from sklearn.tree import DecisionTreeClassifier\r\n",
        "clf = DecisionTreeClassifier().fit(x_tr, y_tr)\r\n",
        "print('Accuracy of Decision Tree classifier on training set: {:.2f}'\r\n",
        "     .format(clf.score(x_tr, y_tr)))\r\n",
        "print('Accuracy of Decision Tree classifier on test set: {:.2f}'\r\n",
        "     .format(clf.score(x_ts, y_ts)))"
      ],
      "execution_count": 97,
      "outputs": [
        {
          "output_type": "stream",
          "text": [
            "Accuracy of Decision Tree classifier on training set: 0.96\n",
            "Accuracy of Decision Tree classifier on test set: 0.74\n"
          ],
          "name": "stdout"
        }
      ]
    },
    {
      "cell_type": "markdown",
      "metadata": {
        "id": "2cC0R-y_hK7X"
      },
      "source": [
        "### KNN (Метод ближайших соседей)"
      ]
    },
    {
      "cell_type": "code",
      "metadata": {
        "colab": {
          "base_uri": "https://localhost:8080/"
        },
        "id": "6PuP32Ivh63u",
        "outputId": "1cc1bfc5-b56e-403c-8efb-3abf9c6d7b25"
      },
      "source": [
        "from sklearn.neighbors import KNeighborsClassifier\r\n",
        "knn = KNeighborsClassifier()\r\n",
        "knn.fit(x_tr, y_tr)\r\n",
        "print('Accuracy of K-NN classifier on training set: {:.2f}'\r\n",
        "     .format(knn.score(x_tr, y_tr)))\r\n",
        "print('Accuracy of K-NN classifier on test set: {:.2f}'\r\n",
        "     .format(knn.score(x_ts, y_ts)))"
      ],
      "execution_count": 98,
      "outputs": [
        {
          "output_type": "stream",
          "text": [
            "Accuracy of K-NN classifier on training set: 0.82\n",
            "Accuracy of K-NN classifier on test set: 0.75\n"
          ],
          "name": "stdout"
        }
      ]
    },
    {
      "cell_type": "markdown",
      "metadata": {
        "id": "L_19GYoHi54S"
      },
      "source": [
        "### LDA (Линейный дискриминантный анализ)"
      ]
    },
    {
      "cell_type": "code",
      "metadata": {
        "colab": {
          "base_uri": "https://localhost:8080/"
        },
        "id": "XpMV4VFMjJW5",
        "outputId": "a1ecff6e-dfb3-4082-cd92-877f4038a418"
      },
      "source": [
        "from sklearn.discriminant_analysis import LinearDiscriminantAnalysis\r\n",
        "lda = LinearDiscriminantAnalysis()\r\n",
        "lda.fit(x_tr, y_tr)\r\n",
        "print('Accuracy of LDA classifier on training set: {:.2f}'\r\n",
        "     .format(lda.score(x_tr, y_tr)))\r\n",
        "print('Accuracy of LDA classifier on test set: {:.2f}'\r\n",
        "     .format(lda.score(x_ts, y_ts)))"
      ],
      "execution_count": 99,
      "outputs": [
        {
          "output_type": "stream",
          "text": [
            "Accuracy of LDA classifier on training set: 0.60\n",
            "Accuracy of LDA classifier on test set: 0.60\n"
          ],
          "name": "stdout"
        }
      ]
    },
    {
      "cell_type": "markdown",
      "metadata": {
        "id": "gtQRwVGCjQ2h"
      },
      "source": [
        "### Наинвый байес"
      ]
    },
    {
      "cell_type": "code",
      "metadata": {
        "colab": {
          "base_uri": "https://localhost:8080/"
        },
        "id": "fCDAJpCLjXWq",
        "outputId": "4d24b003-12d8-4806-d44a-86b49d3ba15e"
      },
      "source": [
        "from sklearn.naive_bayes import GaussianNB\r\n",
        "gnb = GaussianNB()\r\n",
        "gnb.fit(x_tr, y_tr)\r\n",
        "print('Accuracy of GNB classifier on training set: {:.2f}'\r\n",
        "     .format(gnb.score(x_tr, y_tr)))\r\n",
        "print('Accuracy of GNB classifier on test set: {:.2f}'\r\n",
        "     .format(gnb.score(x_ts, y_ts)))"
      ],
      "execution_count": 100,
      "outputs": [
        {
          "output_type": "stream",
          "text": [
            "Accuracy of GNB classifier on training set: 0.59\n",
            "Accuracy of GNB classifier on test set: 0.59\n"
          ],
          "name": "stdout"
        }
      ]
    },
    {
      "cell_type": "markdown",
      "metadata": {
        "id": "6JsUuF9Qotqa"
      },
      "source": [
        "## Создание df со всеми имеющимися оценками"
      ]
    },
    {
      "cell_type": "code",
      "metadata": {
        "colab": {
          "base_uri": "https://localhost:8080/",
          "height": 406
        },
        "id": "Y3MQyqVcpKIP",
        "outputId": "3f9a401e-9b9b-4f1f-9348-e1bf6e5801ec"
      },
      "source": [
        "event_meme = pd.merge(event_df, meme_df, on = 'meme_id')\r\n",
        "full_info = pd.merge(event_meme, user_df, on = 'user_id')\r\n",
        "ratings_info = full_info.copy()\r\n",
        "ratings_info"
      ],
      "execution_count": 112,
      "outputs": [
        {
          "output_type": "execute_result",
          "data": {
            "text/html": [
              "<div>\n",
              "<style scoped>\n",
              "    .dataframe tbody tr th:only-of-type {\n",
              "        vertical-align: middle;\n",
              "    }\n",
              "\n",
              "    .dataframe tbody tr th {\n",
              "        vertical-align: top;\n",
              "    }\n",
              "\n",
              "    .dataframe thead th {\n",
              "        text-align: right;\n",
              "    }\n",
              "</style>\n",
              "<table border=\"1\" class=\"dataframe\">\n",
              "  <thead>\n",
              "    <tr style=\"text-align: right;\">\n",
              "      <th></th>\n",
              "      <th>reaction_id</th>\n",
              "      <th>meme_id</th>\n",
              "      <th>user_id</th>\n",
              "      <th>source_id</th>\n",
              "      <th>is_available</th>\n",
              "      <th>likes</th>\n",
              "      <th>dislikes</th>\n",
              "      <th>language_id</th>\n",
              "      <th>meme_type_animation</th>\n",
              "      <th>meme_type_photo</th>\n",
              "      <th>meme_type_video</th>\n",
              "      <th>sessions</th>\n",
              "      <th>watched_memes</th>\n",
              "      <th>interface_lang</th>\n",
              "    </tr>\n",
              "  </thead>\n",
              "  <tbody>\n",
              "    <tr>\n",
              "      <th>0</th>\n",
              "      <td>2.0</td>\n",
              "      <td>24379</td>\n",
              "      <td>280747086</td>\n",
              "      <td>45.0</td>\n",
              "      <td>1</td>\n",
              "      <td>22</td>\n",
              "      <td>33</td>\n",
              "      <td>2.0</td>\n",
              "      <td>0</td>\n",
              "      <td>1</td>\n",
              "      <td>0</td>\n",
              "      <td>64</td>\n",
              "      <td>4353</td>\n",
              "      <td>0.0</td>\n",
              "    </tr>\n",
              "    <tr>\n",
              "      <th>1</th>\n",
              "      <td>1.0</td>\n",
              "      <td>8340</td>\n",
              "      <td>280747086</td>\n",
              "      <td>46.0</td>\n",
              "      <td>1</td>\n",
              "      <td>106</td>\n",
              "      <td>90</td>\n",
              "      <td>2.0</td>\n",
              "      <td>0</td>\n",
              "      <td>1</td>\n",
              "      <td>0</td>\n",
              "      <td>64</td>\n",
              "      <td>4353</td>\n",
              "      <td>0.0</td>\n",
              "    </tr>\n",
              "    <tr>\n",
              "      <th>2</th>\n",
              "      <td>1.0</td>\n",
              "      <td>3810</td>\n",
              "      <td>280747086</td>\n",
              "      <td>43.0</td>\n",
              "      <td>1</td>\n",
              "      <td>63</td>\n",
              "      <td>69</td>\n",
              "      <td>2.0</td>\n",
              "      <td>0</td>\n",
              "      <td>1</td>\n",
              "      <td>0</td>\n",
              "      <td>64</td>\n",
              "      <td>4353</td>\n",
              "      <td>0.0</td>\n",
              "    </tr>\n",
              "    <tr>\n",
              "      <th>3</th>\n",
              "      <td>2.0</td>\n",
              "      <td>39101</td>\n",
              "      <td>280747086</td>\n",
              "      <td>8.0</td>\n",
              "      <td>1</td>\n",
              "      <td>43</td>\n",
              "      <td>52</td>\n",
              "      <td>2.0</td>\n",
              "      <td>0</td>\n",
              "      <td>1</td>\n",
              "      <td>0</td>\n",
              "      <td>64</td>\n",
              "      <td>4353</td>\n",
              "      <td>0.0</td>\n",
              "    </tr>\n",
              "    <tr>\n",
              "      <th>4</th>\n",
              "      <td>1.0</td>\n",
              "      <td>53977</td>\n",
              "      <td>280747086</td>\n",
              "      <td>21.0</td>\n",
              "      <td>1</td>\n",
              "      <td>192</td>\n",
              "      <td>70</td>\n",
              "      <td>2.0</td>\n",
              "      <td>0</td>\n",
              "      <td>1</td>\n",
              "      <td>0</td>\n",
              "      <td>64</td>\n",
              "      <td>4353</td>\n",
              "      <td>0.0</td>\n",
              "    </tr>\n",
              "    <tr>\n",
              "      <th>...</th>\n",
              "      <td>...</td>\n",
              "      <td>...</td>\n",
              "      <td>...</td>\n",
              "      <td>...</td>\n",
              "      <td>...</td>\n",
              "      <td>...</td>\n",
              "      <td>...</td>\n",
              "      <td>...</td>\n",
              "      <td>...</td>\n",
              "      <td>...</td>\n",
              "      <td>...</td>\n",
              "      <td>...</td>\n",
              "      <td>...</td>\n",
              "      <td>...</td>\n",
              "    </tr>\n",
              "    <tr>\n",
              "      <th>3480367</th>\n",
              "      <td>2.0</td>\n",
              "      <td>63565</td>\n",
              "      <td>1341702688</td>\n",
              "      <td>75.0</td>\n",
              "      <td>1</td>\n",
              "      <td>77</td>\n",
              "      <td>28</td>\n",
              "      <td>3.0</td>\n",
              "      <td>0</td>\n",
              "      <td>1</td>\n",
              "      <td>0</td>\n",
              "      <td>1</td>\n",
              "      <td>1</td>\n",
              "      <td>1.0</td>\n",
              "    </tr>\n",
              "    <tr>\n",
              "      <th>3480368</th>\n",
              "      <td>1.0</td>\n",
              "      <td>63565</td>\n",
              "      <td>1317754864</td>\n",
              "      <td>75.0</td>\n",
              "      <td>1</td>\n",
              "      <td>77</td>\n",
              "      <td>28</td>\n",
              "      <td>3.0</td>\n",
              "      <td>0</td>\n",
              "      <td>1</td>\n",
              "      <td>0</td>\n",
              "      <td>1</td>\n",
              "      <td>1</td>\n",
              "      <td>1.0</td>\n",
              "    </tr>\n",
              "    <tr>\n",
              "      <th>3480369</th>\n",
              "      <td>1.0</td>\n",
              "      <td>63801</td>\n",
              "      <td>444563898</td>\n",
              "      <td>78.0</td>\n",
              "      <td>1</td>\n",
              "      <td>9</td>\n",
              "      <td>16</td>\n",
              "      <td>3.0</td>\n",
              "      <td>0</td>\n",
              "      <td>1</td>\n",
              "      <td>0</td>\n",
              "      <td>1</td>\n",
              "      <td>1</td>\n",
              "      <td>0.0</td>\n",
              "    </tr>\n",
              "    <tr>\n",
              "      <th>3480370</th>\n",
              "      <td>1.0</td>\n",
              "      <td>64166</td>\n",
              "      <td>1231028764</td>\n",
              "      <td>78.0</td>\n",
              "      <td>1</td>\n",
              "      <td>23</td>\n",
              "      <td>12</td>\n",
              "      <td>3.0</td>\n",
              "      <td>0</td>\n",
              "      <td>1</td>\n",
              "      <td>0</td>\n",
              "      <td>1</td>\n",
              "      <td>1</td>\n",
              "      <td>1.0</td>\n",
              "    </tr>\n",
              "    <tr>\n",
              "      <th>3480371</th>\n",
              "      <td>2.0</td>\n",
              "      <td>64400</td>\n",
              "      <td>1135517763</td>\n",
              "      <td>75.0</td>\n",
              "      <td>1</td>\n",
              "      <td>19</td>\n",
              "      <td>18</td>\n",
              "      <td>3.0</td>\n",
              "      <td>0</td>\n",
              "      <td>1</td>\n",
              "      <td>0</td>\n",
              "      <td>1</td>\n",
              "      <td>1</td>\n",
              "      <td>1.0</td>\n",
              "    </tr>\n",
              "  </tbody>\n",
              "</table>\n",
              "<p>3480372 rows × 14 columns</p>\n",
              "</div>"
            ],
            "text/plain": [
              "         reaction_id  meme_id  ...  watched_memes  interface_lang\n",
              "0                2.0    24379  ...           4353             0.0\n",
              "1                1.0     8340  ...           4353             0.0\n",
              "2                1.0     3810  ...           4353             0.0\n",
              "3                2.0    39101  ...           4353             0.0\n",
              "4                1.0    53977  ...           4353             0.0\n",
              "...              ...      ...  ...            ...             ...\n",
              "3480367          2.0    63565  ...              1             1.0\n",
              "3480368          1.0    63565  ...              1             1.0\n",
              "3480369          1.0    63801  ...              1             0.0\n",
              "3480370          1.0    64166  ...              1             1.0\n",
              "3480371          2.0    64400  ...              1             1.0\n",
              "\n",
              "[3480372 rows x 14 columns]"
            ]
          },
          "metadata": {
            "tags": []
          },
          "execution_count": 112
        }
      ]
    },
    {
      "cell_type": "code",
      "metadata": {
        "id": "sYbhty1SotDt"
      },
      "source": [
        "unique_memes = pd.DataFrame(ratings_info.meme_id.unique(), columns = ['meme_id'])\r\n",
        "unique_users = pd.DataFrame(ratings_info.user_id.unique(), columns = ['user_id'])\r\n",
        "unique_combinations = pd.DataFrame()\r\n"
      ],
      "execution_count": 135,
      "outputs": []
    },
    {
      "cell_type": "code",
      "metadata": {
        "id": "nqdZRyMIyBmY"
      },
      "source": [
        "unique_combinations = pd.DataFrame(columns = ['user_id', 'meme_id'])"
      ],
      "execution_count": 144,
      "outputs": []
    }
  ]
}