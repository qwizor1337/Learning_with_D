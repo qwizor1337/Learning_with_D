{
  "nbformat": 4,
  "nbformat_minor": 0,
  "metadata": {
    "colab": {
      "name": "Vadim_0402_HW.ipynb",
      "provenance": [],
      "collapsed_sections": [],
      "toc_visible": true
    },
    "kernelspec": {
      "name": "python3",
      "display_name": "Python 3"
    }
  },
  "cells": [
    {
      "cell_type": "markdown",
      "metadata": {
        "id": "N8vJRadWWovv"
      },
      "source": [
        "# Мемы"
      ]
    },
    {
      "cell_type": "code",
      "metadata": {
        "id": "mG-ozKlkWncr",
        "colab": {
          "base_uri": "https://localhost:8080/"
        },
        "outputId": "64d0b4e2-147b-4752-b0b3-47aec61bcb14"
      },
      "source": [
        "from google.colab import drive\r\n",
        "drive.mount('/content/drive')"
      ],
      "execution_count": 101,
      "outputs": [
        {
          "output_type": "stream",
          "text": [
            "Drive already mounted at /content/drive; to attempt to forcibly remount, call drive.mount(\"/content/drive\", force_remount=True).\n"
          ],
          "name": "stdout"
        }
      ]
    },
    {
      "cell_type": "code",
      "metadata": {
        "id": "WS5hRH1TaLfD"
      },
      "source": [
        "import pandas as pd\r\n",
        "import numpy as np"
      ],
      "execution_count": 102,
      "outputs": []
    },
    {
      "cell_type": "code",
      "metadata": {
        "id": "hOz4VP-2aLho"
      },
      "source": [
        "path = 'drive/MyDrive/DS/meme'\r\n"
      ],
      "execution_count": 103,
      "outputs": []
    },
    {
      "cell_type": "code",
      "metadata": {
        "id": "30ZnaJjqaLkX"
      },
      "source": [
        "# event = pd.read_csv(path+'/danila_event.csv')\r\n",
        "# meme = pd.read_csv(path+'/danila_meme.csv')\r\n",
        "# user = pd.read_csv(path+'/danila_user.csv')\r\n",
        "event = pd.read_csv(path+'/tgbot_event.csv')\r\n",
        "meme = pd.read_csv(path+'/tgbot_meme.csv')\r\n",
        "user = pd.read_csv(path+'/tgbot_user.csv')"
      ],
      "execution_count": 104,
      "outputs": []
    },
    {
      "cell_type": "code",
      "metadata": {
        "id": "_N8X8xUUaLmY"
      },
      "source": [
        ""
      ],
      "execution_count": 104,
      "outputs": []
    },
    {
      "cell_type": "code",
      "metadata": {
        "colab": {
          "base_uri": "https://localhost:8080/",
          "height": 482
        },
        "id": "-NkokV15bC1Q",
        "outputId": "41246031-b96d-449c-cf69-106193b3f40e"
      },
      "source": [
        "meme.head()"
      ],
      "execution_count": 193,
      "outputs": [
        {
          "output_type": "execute_result",
          "data": {
            "text/html": [
              "<div>\n",
              "<style scoped>\n",
              "    .dataframe tbody tr th:only-of-type {\n",
              "        vertical-align: middle;\n",
              "    }\n",
              "\n",
              "    .dataframe tbody tr th {\n",
              "        vertical-align: top;\n",
              "    }\n",
              "\n",
              "    .dataframe thead th {\n",
              "        text-align: right;\n",
              "    }\n",
              "</style>\n",
              "<table border=\"1\" class=\"dataframe\">\n",
              "  <thead>\n",
              "    <tr style=\"text-align: right;\">\n",
              "      <th></th>\n",
              "      <th>meme_id</th>\n",
              "      <th>meme_type</th>\n",
              "      <th>original_post_link</th>\n",
              "      <th>source_name</th>\n",
              "      <th>published_at</th>\n",
              "      <th>telegram_file_id</th>\n",
              "      <th>content_url</th>\n",
              "      <th>caption</th>\n",
              "      <th>content_lang</th>\n",
              "      <th>is_available</th>\n",
              "      <th>likes</th>\n",
              "      <th>dislikes</th>\n",
              "      <th>created_at</th>\n",
              "      <th>updated_at</th>\n",
              "      <th>is_broken</th>\n",
              "      <th>source_id</th>\n",
              "      <th>content_text</th>\n",
              "      <th>caption_lang</th>\n",
              "      <th>language_id</th>\n",
              "    </tr>\n",
              "  </thead>\n",
              "  <tbody>\n",
              "    <tr>\n",
              "      <th>0</th>\n",
              "      <td>13395</td>\n",
              "      <td>photo</td>\n",
              "      <td>https://vk.com/saintbeobanka?w=wall-67185996_2...</td>\n",
              "      <td>https://vk.com/saintbeobanka</td>\n",
              "      <td>2020-03-28 00:22:26+00</td>\n",
              "      <td>AgACAgQAAx0EVqG9GwACyDJefsuwVgIydYSqXSt9L2-o3Y...</td>\n",
              "      <td>https://sun6-14.userapi.com/c7004/v7004381/823...</td>\n",
              "      <td>NaN</td>\n",
              "      <td>ru</td>\n",
              "      <td>True</td>\n",
              "      <td>28</td>\n",
              "      <td>38</td>\n",
              "      <td>2020-03-28 03:59:44.496141+00</td>\n",
              "      <td>2021-02-10 07:21:58.272992+00</td>\n",
              "      <td>False</td>\n",
              "      <td>10.0</td>\n",
              "      <td>Будильник Отложить на 10 мимут vk.com/jaimes_h...</td>\n",
              "      <td>ww</td>\n",
              "      <td>2.0</td>\n",
              "    </tr>\n",
              "    <tr>\n",
              "      <th>1</th>\n",
              "      <td>13952</td>\n",
              "      <td>photo</td>\n",
              "      <td>https://reddit.com/r/wholesomememes/comments/f...</td>\n",
              "      <td>https://www.reddit.com/r/wholesomememes/</td>\n",
              "      <td>2020-03-28 12:14:46+00</td>\n",
              "      <td>AgACAgQAAx0EVqG9GwAC0QZef4L5HUrdey1K4xOBNC0V0-...</td>\n",
              "      <td>https://i.redd.it/xo8ilxurnep41.png</td>\n",
              "      <td>Wholesome slavery?</td>\n",
              "      <td>en</td>\n",
              "      <td>True</td>\n",
              "      <td>9</td>\n",
              "      <td>16</td>\n",
              "      <td>2020-03-28 17:01:45.289559+00</td>\n",
              "      <td>2021-02-10 07:21:58.276687+00</td>\n",
              "      <td>False</td>\n",
              "      <td>80.0</td>\n",
              "      <td>Happy Thanksgiving ! I was gonna say Let's say...</td>\n",
              "      <td>en</td>\n",
              "      <td>3.0</td>\n",
              "    </tr>\n",
              "    <tr>\n",
              "      <th>2</th>\n",
              "      <td>15593</td>\n",
              "      <td>photo</td>\n",
              "      <td>https://t.me/LaQeque/41396</td>\n",
              "      <td>https://t.me/LaQeque</td>\n",
              "      <td>2020-03-30 09:11:04+00</td>\n",
              "      <td>AgACAgIAAx0CVqG9GwAC7X5egk_f1FcUOOXdwvQ6tCUBOP...</td>\n",
              "      <td>https://storage.googleapis.com/meme_imgs/15593...</td>\n",
              "      <td>NaN</td>\n",
              "      <td>ru</td>\n",
              "      <td>True</td>\n",
              "      <td>41</td>\n",
              "      <td>54</td>\n",
              "      <td>2020-03-30 12:02:40.780487+00</td>\n",
              "      <td>2021-02-10 07:21:58.28043+00</td>\n",
              "      <td>False</td>\n",
              "      <td>19.0</td>\n",
              "      <td>Ггграждане, мемння ззовут вваш преззидент, ппо...</td>\n",
              "      <td>ww</td>\n",
              "      <td>2.0</td>\n",
              "    </tr>\n",
              "    <tr>\n",
              "      <th>3</th>\n",
              "      <td>18442</td>\n",
              "      <td>photo</td>\n",
              "      <td>https://reddit.com/r/dankmemes/comments/ftalgn...</td>\n",
              "      <td>https://www.reddit.com/r/dankmemes/</td>\n",
              "      <td>2020-04-01 22:53:31+00</td>\n",
              "      <td>AgACAgQAAx0EVqG9GwABAQ8_XoVyYdS-2R9bcIpdH4YqK-...</td>\n",
              "      <td>https://i.redd.it/a3mp5spddaq41.jpg</td>\n",
              "      <td>You Won’t last 10 seconds</td>\n",
              "      <td>en</td>\n",
              "      <td>True</td>\n",
              "      <td>87</td>\n",
              "      <td>48</td>\n",
              "      <td>2020-04-02 05:04:33.300689+00</td>\n",
              "      <td>2021-02-10 07:21:58.28401+00</td>\n",
              "      <td>False</td>\n",
              "      <td>78.0</td>\n",
              "      <td>AL ALL WT Should we contact the hot milfs in o...</td>\n",
              "      <td>en</td>\n",
              "      <td>3.0</td>\n",
              "    </tr>\n",
              "    <tr>\n",
              "      <th>4</th>\n",
              "      <td>20798</td>\n",
              "      <td>photo</td>\n",
              "      <td>https://vk.com/wtf.rasha?w=wall-23486067_179559</td>\n",
              "      <td>https://vk.com/wtf.rasha</td>\n",
              "      <td>2020-04-04 11:15:01+00</td>\n",
              "      <td>AgACAgQAAx0EVqG9GwABATuvXonKXWZuSeRqN8vd8gVR09...</td>\n",
              "      <td>https://sun9-37.userapi.com/c858228/v858228646...</td>\n",
              "      <td>NaN</td>\n",
              "      <td>ru</td>\n",
              "      <td>True</td>\n",
              "      <td>234</td>\n",
              "      <td>178</td>\n",
              "      <td>2020-04-04 12:10:28.173755+00</td>\n",
              "      <td>2021-02-10 07:21:58.291519+00</td>\n",
              "      <td>False</td>\n",
              "      <td>9.0</td>\n",
              "      <td>Шляпа Патриарха Никона @NikonaShapka апрель 20...</td>\n",
              "      <td>ww</td>\n",
              "      <td>2.0</td>\n",
              "    </tr>\n",
              "  </tbody>\n",
              "</table>\n",
              "</div>"
            ],
            "text/plain": [
              "   meme_id meme_type  ... caption_lang language_id\n",
              "0    13395     photo  ...           ww         2.0\n",
              "1    13952     photo  ...           en         3.0\n",
              "2    15593     photo  ...           ww         2.0\n",
              "3    18442     photo  ...           en         3.0\n",
              "4    20798     photo  ...           ww         2.0\n",
              "\n",
              "[5 rows x 19 columns]"
            ]
          },
          "metadata": {
            "tags": []
          },
          "execution_count": 193
        }
      ]
    },
    {
      "cell_type": "code",
      "metadata": {
        "colab": {
          "base_uri": "https://localhost:8080/",
          "height": 289
        },
        "id": "ndKHSUtVbCyx",
        "outputId": "02c70e53-e046-41e5-ac61-babe89cde51e"
      },
      "source": [
        "user.head()"
      ],
      "execution_count": 106,
      "outputs": [
        {
          "output_type": "execute_result",
          "data": {
            "text/html": [
              "<div>\n",
              "<style scoped>\n",
              "    .dataframe tbody tr th:only-of-type {\n",
              "        vertical-align: middle;\n",
              "    }\n",
              "\n",
              "    .dataframe tbody tr th {\n",
              "        vertical-align: top;\n",
              "    }\n",
              "\n",
              "    .dataframe thead th {\n",
              "        text-align: right;\n",
              "    }\n",
              "</style>\n",
              "<table border=\"1\" class=\"dataframe\">\n",
              "  <thead>\n",
              "    <tr style=\"text-align: right;\">\n",
              "      <th></th>\n",
              "      <th>user_id</th>\n",
              "      <th>username</th>\n",
              "      <th>first_name</th>\n",
              "      <th>last_name</th>\n",
              "      <th>language_code</th>\n",
              "      <th>seed</th>\n",
              "      <th>deep_link</th>\n",
              "      <th>is_blocked_bot</th>\n",
              "      <th>is_banned</th>\n",
              "      <th>is_admin</th>\n",
              "      <th>is_moderator</th>\n",
              "      <th>sessions</th>\n",
              "      <th>last_session_memes</th>\n",
              "      <th>watched_memes</th>\n",
              "      <th>created_at</th>\n",
              "      <th>updated_at</th>\n",
              "      <th>interface_lang</th>\n",
              "      <th>gender</th>\n",
              "      <th>latest_meme_sent_at</th>\n",
              "    </tr>\n",
              "  </thead>\n",
              "  <tbody>\n",
              "    <tr>\n",
              "      <th>0</th>\n",
              "      <td>1235209430</td>\n",
              "      <td>NaN</td>\n",
              "      <td>Paras</td>\n",
              "      <td>Kamboj</td>\n",
              "      <td>NaN</td>\n",
              "      <td>6</td>\n",
              "      <td>likemeupbot_lang_en</td>\n",
              "      <td>True</td>\n",
              "      <td>False</td>\n",
              "      <td>False</td>\n",
              "      <td>0</td>\n",
              "      <td>3</td>\n",
              "      <td>4</td>\n",
              "      <td>8</td>\n",
              "      <td>2020-10-27 07:33:12.040495+00</td>\n",
              "      <td>2021-02-10 00:29:57.669801+00</td>\n",
              "      <td>en</td>\n",
              "      <td>NaN</td>\n",
              "      <td>NaN</td>\n",
              "    </tr>\n",
              "    <tr>\n",
              "      <th>1</th>\n",
              "      <td>113584040</td>\n",
              "      <td>nikrnrr</td>\n",
              "      <td>N</td>\n",
              "      <td>NaN</td>\n",
              "      <td>ru</td>\n",
              "      <td>26</td>\n",
              "      <td>NaN</td>\n",
              "      <td>True</td>\n",
              "      <td>False</td>\n",
              "      <td>False</td>\n",
              "      <td>0</td>\n",
              "      <td>1</td>\n",
              "      <td>1</td>\n",
              "      <td>0</td>\n",
              "      <td>2020-10-28 12:05:37.473558+00</td>\n",
              "      <td>2021-02-10 01:29:57.505289+00</td>\n",
              "      <td>ru</td>\n",
              "      <td>N</td>\n",
              "      <td>NaN</td>\n",
              "    </tr>\n",
              "    <tr>\n",
              "      <th>2</th>\n",
              "      <td>1142713343</td>\n",
              "      <td>NaN</td>\n",
              "      <td>Serik</td>\n",
              "      <td>NaN</td>\n",
              "      <td>NaN</td>\n",
              "      <td>32</td>\n",
              "      <td>NaN</td>\n",
              "      <td>True</td>\n",
              "      <td>False</td>\n",
              "      <td>False</td>\n",
              "      <td>0</td>\n",
              "      <td>1</td>\n",
              "      <td>1</td>\n",
              "      <td>0</td>\n",
              "      <td>2020-10-27 17:31:30.480084+00</td>\n",
              "      <td>2021-02-10 01:29:55.555919+00</td>\n",
              "      <td>en</td>\n",
              "      <td>NaN</td>\n",
              "      <td>NaN</td>\n",
              "    </tr>\n",
              "    <tr>\n",
              "      <th>3</th>\n",
              "      <td>187967374</td>\n",
              "      <td>Ddivanov</td>\n",
              "      <td>Dmitry</td>\n",
              "      <td>Ivanov</td>\n",
              "      <td>ru</td>\n",
              "      <td>13</td>\n",
              "      <td>NaN</td>\n",
              "      <td>True</td>\n",
              "      <td>False</td>\n",
              "      <td>False</td>\n",
              "      <td>0</td>\n",
              "      <td>2</td>\n",
              "      <td>5</td>\n",
              "      <td>9</td>\n",
              "      <td>2020-10-26 13:12:52.373779+00</td>\n",
              "      <td>2021-02-09 23:29:56.086916+00</td>\n",
              "      <td>ru</td>\n",
              "      <td>M</td>\n",
              "      <td>NaN</td>\n",
              "    </tr>\n",
              "    <tr>\n",
              "      <th>4</th>\n",
              "      <td>923016092</td>\n",
              "      <td>NaN</td>\n",
              "      <td>Joanna</td>\n",
              "      <td>NaN</td>\n",
              "      <td>es</td>\n",
              "      <td>99</td>\n",
              "      <td>NaN</td>\n",
              "      <td>False</td>\n",
              "      <td>False</td>\n",
              "      <td>False</td>\n",
              "      <td>0</td>\n",
              "      <td>39</td>\n",
              "      <td>1</td>\n",
              "      <td>35</td>\n",
              "      <td>2020-10-27 19:11:33.959974+00</td>\n",
              "      <td>2021-02-09 17:56:04.574689+00</td>\n",
              "      <td>en</td>\n",
              "      <td>NaN</td>\n",
              "      <td>2021-02-09 17:56:04.574558+00</td>\n",
              "    </tr>\n",
              "  </tbody>\n",
              "</table>\n",
              "</div>"
            ],
            "text/plain": [
              "      user_id  username  ... gender            latest_meme_sent_at\n",
              "0  1235209430       NaN  ...    NaN                            NaN\n",
              "1   113584040   nikrnrr  ...      N                            NaN\n",
              "2  1142713343       NaN  ...    NaN                            NaN\n",
              "3   187967374  Ddivanov  ...      M                            NaN\n",
              "4   923016092       NaN  ...    NaN  2021-02-09 17:56:04.574558+00\n",
              "\n",
              "[5 rows x 19 columns]"
            ]
          },
          "metadata": {
            "tags": []
          },
          "execution_count": 106
        }
      ]
    },
    {
      "cell_type": "code",
      "metadata": {
        "colab": {
          "base_uri": "https://localhost:8080/",
          "height": 202
        },
        "id": "hL3Xc3q_bCwK",
        "outputId": "ee66c03c-e5f1-4880-f0a3-5a6246f96bc3"
      },
      "source": [
        "event.head()"
      ],
      "execution_count": 107,
      "outputs": [
        {
          "output_type": "execute_result",
          "data": {
            "text/html": [
              "<div>\n",
              "<style scoped>\n",
              "    .dataframe tbody tr th:only-of-type {\n",
              "        vertical-align: middle;\n",
              "    }\n",
              "\n",
              "    .dataframe tbody tr th {\n",
              "        vertical-align: top;\n",
              "    }\n",
              "\n",
              "    .dataframe thead th {\n",
              "        text-align: right;\n",
              "    }\n",
              "</style>\n",
              "<table border=\"1\" class=\"dataframe\">\n",
              "  <thead>\n",
              "    <tr style=\"text-align: right;\">\n",
              "      <th></th>\n",
              "      <th>event_id</th>\n",
              "      <th>reaction_id</th>\n",
              "      <th>session_idx</th>\n",
              "      <th>meme_idx</th>\n",
              "      <th>created_at</th>\n",
              "      <th>reacted_at</th>\n",
              "      <th>meme_id</th>\n",
              "      <th>user_id</th>\n",
              "      <th>telegram_message_id</th>\n",
              "    </tr>\n",
              "  </thead>\n",
              "  <tbody>\n",
              "    <tr>\n",
              "      <th>0</th>\n",
              "      <td>1569409</td>\n",
              "      <td>1.0</td>\n",
              "      <td>1.0</td>\n",
              "      <td>171.0</td>\n",
              "      <td>2020-09-23 14:45:40.204598+00</td>\n",
              "      <td>2020-09-23 14:45:44.079206+00</td>\n",
              "      <td>9197</td>\n",
              "      <td>1153946021</td>\n",
              "      <td>1624299.0</td>\n",
              "    </tr>\n",
              "    <tr>\n",
              "      <th>1</th>\n",
              "      <td>1569228</td>\n",
              "      <td>2.0</td>\n",
              "      <td>199.0</td>\n",
              "      <td>189.0</td>\n",
              "      <td>2020-09-23 14:38:56.25774+00</td>\n",
              "      <td>2020-09-23 14:39:11.978709+00</td>\n",
              "      <td>34459</td>\n",
              "      <td>285739883</td>\n",
              "      <td>1624096.0</td>\n",
              "    </tr>\n",
              "    <tr>\n",
              "      <th>2</th>\n",
              "      <td>1569405</td>\n",
              "      <td>1.0</td>\n",
              "      <td>7.0</td>\n",
              "      <td>133.0</td>\n",
              "      <td>2020-09-23 14:45:34.244269+00</td>\n",
              "      <td>2020-09-23 14:45:46.699976+00</td>\n",
              "      <td>10879</td>\n",
              "      <td>751332478</td>\n",
              "      <td>1624295.0</td>\n",
              "    </tr>\n",
              "    <tr>\n",
              "      <th>3</th>\n",
              "      <td>1569239</td>\n",
              "      <td>1.0</td>\n",
              "      <td>2.0</td>\n",
              "      <td>265.0</td>\n",
              "      <td>2020-09-23 14:39:17.175786+00</td>\n",
              "      <td>2020-09-23 14:39:28.054075+00</td>\n",
              "      <td>46731</td>\n",
              "      <td>914220296</td>\n",
              "      <td>1624113.0</td>\n",
              "    </tr>\n",
              "    <tr>\n",
              "      <th>4</th>\n",
              "      <td>1569254</td>\n",
              "      <td>1.0</td>\n",
              "      <td>2.0</td>\n",
              "      <td>130.0</td>\n",
              "      <td>2020-09-23 14:39:57.24919+00</td>\n",
              "      <td>2020-09-23 14:39:58.963727+00</td>\n",
              "      <td>49571</td>\n",
              "      <td>1171473137</td>\n",
              "      <td>1624129.0</td>\n",
              "    </tr>\n",
              "  </tbody>\n",
              "</table>\n",
              "</div>"
            ],
            "text/plain": [
              "   event_id  reaction_id  session_idx  ...  meme_id     user_id telegram_message_id\n",
              "0   1569409          1.0          1.0  ...     9197  1153946021           1624299.0\n",
              "1   1569228          2.0        199.0  ...    34459   285739883           1624096.0\n",
              "2   1569405          1.0          7.0  ...    10879   751332478           1624295.0\n",
              "3   1569239          1.0          2.0  ...    46731   914220296           1624113.0\n",
              "4   1569254          1.0          2.0  ...    49571  1171473137           1624129.0\n",
              "\n",
              "[5 rows x 9 columns]"
            ]
          },
          "metadata": {
            "tags": []
          },
          "execution_count": 107
        }
      ]
    },
    {
      "cell_type": "code",
      "metadata": {
        "id": "_vtxTPoebuHd"
      },
      "source": [
        "# Создать рекомендательную систему для каждого пользователя"
      ],
      "execution_count": 108,
      "outputs": []
    },
    {
      "cell_type": "markdown",
      "metadata": {
        "id": "Klr4Oz0XWlrN"
      },
      "source": [
        "## Создать рекомендательную систему для каждого пользователя"
      ]
    },
    {
      "cell_type": "code",
      "metadata": {
        "id": "v6bCqNj-buFM"
      },
      "source": [
        "#meme['is_broken'].value_counts()\r\n",
        "\r\n",
        "meme = meme[meme['is_broken'] == False]"
      ],
      "execution_count": 109,
      "outputs": []
    },
    {
      "cell_type": "code",
      "metadata": {
        "colab": {
          "base_uri": "https://localhost:8080/",
          "height": 904
        },
        "id": "qnRjg53pbuCt",
        "outputId": "1a08e0a5-55df-4994-e548-89a90a3496e2"
      },
      "source": [
        "meme"
      ],
      "execution_count": 110,
      "outputs": [
        {
          "output_type": "execute_result",
          "data": {
            "text/html": [
              "<div>\n",
              "<style scoped>\n",
              "    .dataframe tbody tr th:only-of-type {\n",
              "        vertical-align: middle;\n",
              "    }\n",
              "\n",
              "    .dataframe tbody tr th {\n",
              "        vertical-align: top;\n",
              "    }\n",
              "\n",
              "    .dataframe thead th {\n",
              "        text-align: right;\n",
              "    }\n",
              "</style>\n",
              "<table border=\"1\" class=\"dataframe\">\n",
              "  <thead>\n",
              "    <tr style=\"text-align: right;\">\n",
              "      <th></th>\n",
              "      <th>meme_id</th>\n",
              "      <th>meme_type</th>\n",
              "      <th>original_post_link</th>\n",
              "      <th>source_name</th>\n",
              "      <th>published_at</th>\n",
              "      <th>telegram_file_id</th>\n",
              "      <th>content_url</th>\n",
              "      <th>caption</th>\n",
              "      <th>content_lang</th>\n",
              "      <th>is_available</th>\n",
              "      <th>likes</th>\n",
              "      <th>dislikes</th>\n",
              "      <th>created_at</th>\n",
              "      <th>updated_at</th>\n",
              "      <th>is_broken</th>\n",
              "      <th>source_id</th>\n",
              "      <th>content_text</th>\n",
              "      <th>caption_lang</th>\n",
              "      <th>language_id</th>\n",
              "    </tr>\n",
              "  </thead>\n",
              "  <tbody>\n",
              "    <tr>\n",
              "      <th>0</th>\n",
              "      <td>13395</td>\n",
              "      <td>photo</td>\n",
              "      <td>https://vk.com/saintbeobanka?w=wall-67185996_2...</td>\n",
              "      <td>https://vk.com/saintbeobanka</td>\n",
              "      <td>2020-03-28 00:22:26+00</td>\n",
              "      <td>AgACAgQAAx0EVqG9GwACyDJefsuwVgIydYSqXSt9L2-o3Y...</td>\n",
              "      <td>https://sun6-14.userapi.com/c7004/v7004381/823...</td>\n",
              "      <td>NaN</td>\n",
              "      <td>ru</td>\n",
              "      <td>True</td>\n",
              "      <td>28</td>\n",
              "      <td>38</td>\n",
              "      <td>2020-03-28 03:59:44.496141+00</td>\n",
              "      <td>2021-02-10 07:21:58.272992+00</td>\n",
              "      <td>False</td>\n",
              "      <td>10.0</td>\n",
              "      <td>Будильник Отложить на 10 мимут vk.com/jaimes_h...</td>\n",
              "      <td>ww</td>\n",
              "      <td>2.0</td>\n",
              "    </tr>\n",
              "    <tr>\n",
              "      <th>1</th>\n",
              "      <td>13952</td>\n",
              "      <td>photo</td>\n",
              "      <td>https://reddit.com/r/wholesomememes/comments/f...</td>\n",
              "      <td>https://www.reddit.com/r/wholesomememes/</td>\n",
              "      <td>2020-03-28 12:14:46+00</td>\n",
              "      <td>AgACAgQAAx0EVqG9GwAC0QZef4L5HUrdey1K4xOBNC0V0-...</td>\n",
              "      <td>https://i.redd.it/xo8ilxurnep41.png</td>\n",
              "      <td>Wholesome slavery?</td>\n",
              "      <td>en</td>\n",
              "      <td>True</td>\n",
              "      <td>9</td>\n",
              "      <td>16</td>\n",
              "      <td>2020-03-28 17:01:45.289559+00</td>\n",
              "      <td>2021-02-10 07:21:58.276687+00</td>\n",
              "      <td>False</td>\n",
              "      <td>80.0</td>\n",
              "      <td>Happy Thanksgiving ! I was gonna say Let's say...</td>\n",
              "      <td>en</td>\n",
              "      <td>3.0</td>\n",
              "    </tr>\n",
              "    <tr>\n",
              "      <th>2</th>\n",
              "      <td>15593</td>\n",
              "      <td>photo</td>\n",
              "      <td>https://t.me/LaQeque/41396</td>\n",
              "      <td>https://t.me/LaQeque</td>\n",
              "      <td>2020-03-30 09:11:04+00</td>\n",
              "      <td>AgACAgIAAx0CVqG9GwAC7X5egk_f1FcUOOXdwvQ6tCUBOP...</td>\n",
              "      <td>https://storage.googleapis.com/meme_imgs/15593...</td>\n",
              "      <td>NaN</td>\n",
              "      <td>ru</td>\n",
              "      <td>True</td>\n",
              "      <td>41</td>\n",
              "      <td>54</td>\n",
              "      <td>2020-03-30 12:02:40.780487+00</td>\n",
              "      <td>2021-02-10 07:21:58.28043+00</td>\n",
              "      <td>False</td>\n",
              "      <td>19.0</td>\n",
              "      <td>Ггграждане, мемння ззовут вваш преззидент, ппо...</td>\n",
              "      <td>ww</td>\n",
              "      <td>2.0</td>\n",
              "    </tr>\n",
              "    <tr>\n",
              "      <th>3</th>\n",
              "      <td>18442</td>\n",
              "      <td>photo</td>\n",
              "      <td>https://reddit.com/r/dankmemes/comments/ftalgn...</td>\n",
              "      <td>https://www.reddit.com/r/dankmemes/</td>\n",
              "      <td>2020-04-01 22:53:31+00</td>\n",
              "      <td>AgACAgQAAx0EVqG9GwABAQ8_XoVyYdS-2R9bcIpdH4YqK-...</td>\n",
              "      <td>https://i.redd.it/a3mp5spddaq41.jpg</td>\n",
              "      <td>You Won’t last 10 seconds</td>\n",
              "      <td>en</td>\n",
              "      <td>True</td>\n",
              "      <td>87</td>\n",
              "      <td>48</td>\n",
              "      <td>2020-04-02 05:04:33.300689+00</td>\n",
              "      <td>2021-02-10 07:21:58.28401+00</td>\n",
              "      <td>False</td>\n",
              "      <td>78.0</td>\n",
              "      <td>AL ALL WT Should we contact the hot milfs in o...</td>\n",
              "      <td>en</td>\n",
              "      <td>3.0</td>\n",
              "    </tr>\n",
              "    <tr>\n",
              "      <th>4</th>\n",
              "      <td>20798</td>\n",
              "      <td>photo</td>\n",
              "      <td>https://vk.com/wtf.rasha?w=wall-23486067_179559</td>\n",
              "      <td>https://vk.com/wtf.rasha</td>\n",
              "      <td>2020-04-04 11:15:01+00</td>\n",
              "      <td>AgACAgQAAx0EVqG9GwABATuvXonKXWZuSeRqN8vd8gVR09...</td>\n",
              "      <td>https://sun9-37.userapi.com/c858228/v858228646...</td>\n",
              "      <td>NaN</td>\n",
              "      <td>ru</td>\n",
              "      <td>True</td>\n",
              "      <td>234</td>\n",
              "      <td>178</td>\n",
              "      <td>2020-04-04 12:10:28.173755+00</td>\n",
              "      <td>2021-02-10 07:21:58.291519+00</td>\n",
              "      <td>False</td>\n",
              "      <td>9.0</td>\n",
              "      <td>Шляпа Патриарха Никона @NikonaShapka апрель 20...</td>\n",
              "      <td>ww</td>\n",
              "      <td>2.0</td>\n",
              "    </tr>\n",
              "    <tr>\n",
              "      <th>...</th>\n",
              "      <td>...</td>\n",
              "      <td>...</td>\n",
              "      <td>...</td>\n",
              "      <td>...</td>\n",
              "      <td>...</td>\n",
              "      <td>...</td>\n",
              "      <td>...</td>\n",
              "      <td>...</td>\n",
              "      <td>...</td>\n",
              "      <td>...</td>\n",
              "      <td>...</td>\n",
              "      <td>...</td>\n",
              "      <td>...</td>\n",
              "      <td>...</td>\n",
              "      <td>...</td>\n",
              "      <td>...</td>\n",
              "      <td>...</td>\n",
              "      <td>...</td>\n",
              "      <td>...</td>\n",
              "    </tr>\n",
              "    <tr>\n",
              "      <th>88914</th>\n",
              "      <td>50179</td>\n",
              "      <td>photo</td>\n",
              "      <td>https://vk.com/socialburr?w=wall-97042401_85287</td>\n",
              "      <td>https://vk.com/socialburr</td>\n",
              "      <td>2020-07-12 12:14:20+00</td>\n",
              "      <td>AgACAgQAAx0EVqG9GwABAiShXwykd6_u2zHTEWqDiQz0ww...</td>\n",
              "      <td>https://sun9-40.userapi.com/c858528/v858528708...</td>\n",
              "      <td>NaN</td>\n",
              "      <td>ru</td>\n",
              "      <td>True</td>\n",
              "      <td>662</td>\n",
              "      <td>624</td>\n",
              "      <td>2020-07-13 18:14:15.455631+00</td>\n",
              "      <td>2021-02-10 07:21:58.260401+00</td>\n",
              "      <td>False</td>\n",
              "      <td>46.0</td>\n",
              "      <td>Мы не употребляем мясо, лактозу, глютен, что н...</td>\n",
              "      <td>ww</td>\n",
              "      <td>2.0</td>\n",
              "    </tr>\n",
              "    <tr>\n",
              "      <th>88915</th>\n",
              "      <td>61616</td>\n",
              "      <td>photo</td>\n",
              "      <td>https://t.me/leninstreet/32006</td>\n",
              "      <td>https://t.me/leninstreet</td>\n",
              "      <td>2020-09-30 16:00:06+00</td>\n",
              "      <td>AgACAgIAAx0CVqG9GwABAoI7X3Wsk9iBIy5pcghNOaYewn...</td>\n",
              "      <td>https://storage.googleapis.com/meme_imgs/61616...</td>\n",
              "      <td>NaN</td>\n",
              "      <td>ru</td>\n",
              "      <td>True</td>\n",
              "      <td>133</td>\n",
              "      <td>150</td>\n",
              "      <td>2020-10-01 06:19:14.480151+00</td>\n",
              "      <td>2021-02-10 07:21:58.210773+00</td>\n",
              "      <td>False</td>\n",
              "      <td>29.0</td>\n",
              "      <td>решил завести собаку 15:06 Я конечно не собака...</td>\n",
              "      <td>ww</td>\n",
              "      <td>2.0</td>\n",
              "    </tr>\n",
              "    <tr>\n",
              "      <th>88916</th>\n",
              "      <td>22283</td>\n",
              "      <td>photo</td>\n",
              "      <td>https://vk.com/eternalclassic?w=wall-129440544...</td>\n",
              "      <td>https://vk.com/eternalclassic</td>\n",
              "      <td>2020-04-05 16:40:00+00</td>\n",
              "      <td>AgACAgQAAx0EVqG9GwABAUAPXoo6K5WekQRumii_kbBGMq...</td>\n",
              "      <td>https://sun6-14.userapi.com/c543105/v543105248...</td>\n",
              "      <td></td>\n",
              "      <td>en</td>\n",
              "      <td>False</td>\n",
              "      <td>5</td>\n",
              "      <td>11</td>\n",
              "      <td>2020-04-05 20:06:03.525906+00</td>\n",
              "      <td>2021-02-10 07:21:58.235317+00</td>\n",
              "      <td>False</td>\n",
              "      <td>4.0</td>\n",
              "      <td>Girlfriend GF Is your gf She's your gf She's y...</td>\n",
              "      <td>und</td>\n",
              "      <td>3.0</td>\n",
              "    </tr>\n",
              "    <tr>\n",
              "      <th>88917</th>\n",
              "      <td>80056</td>\n",
              "      <td>photo</td>\n",
              "      <td>https://t.me/low_content/9783</td>\n",
              "      <td>https://t.me/low_content</td>\n",
              "      <td>2020-12-31 05:03:01+00</td>\n",
              "      <td>AgACAgIAAx0CVqG9GwABAvxtX_EXEDRo0nYTids0Gq_X0A...</td>\n",
              "      <td>https://storage.googleapis.com/meme_imgs/80056...</td>\n",
              "      <td>NaN</td>\n",
              "      <td>ww</td>\n",
              "      <td>True</td>\n",
              "      <td>35</td>\n",
              "      <td>54</td>\n",
              "      <td>2021-01-03 01:00:01.165269+00</td>\n",
              "      <td>2021-02-10 07:21:58.239564+00</td>\n",
              "      <td>False</td>\n",
              "      <td>147.0</td>\n",
              "      <td>NaN</td>\n",
              "      <td>ww</td>\n",
              "      <td>2.0</td>\n",
              "    </tr>\n",
              "    <tr>\n",
              "      <th>88918</th>\n",
              "      <td>36686</td>\n",
              "      <td>photo</td>\n",
              "      <td>https://vk.com/eternalclassic?w=wall-129440544...</td>\n",
              "      <td>https://vk.com/eternalclassic</td>\n",
              "      <td>2020-05-05 17:40:00+00</td>\n",
              "      <td>AgACAgQAAx0EVqG9GwABAccZXrIZ8acOqRcrsPNpj8jDgC...</td>\n",
              "      <td>https://sun6-14.userapi.com/c543105/v543105290...</td>\n",
              "      <td></td>\n",
              "      <td>en</td>\n",
              "      <td>False</td>\n",
              "      <td>6</td>\n",
              "      <td>11</td>\n",
              "      <td>2020-05-05 21:59:57.567437+00</td>\n",
              "      <td>2021-02-10 07:21:58.244103+00</td>\n",
              "      <td>False</td>\n",
              "      <td>4.0</td>\n",
              "      <td>Andrew Turek @TurekAndrew Netflix adaptation o...</td>\n",
              "      <td>und</td>\n",
              "      <td>3.0</td>\n",
              "    </tr>\n",
              "  </tbody>\n",
              "</table>\n",
              "<p>88556 rows × 19 columns</p>\n",
              "</div>"
            ],
            "text/plain": [
              "       meme_id meme_type  ... caption_lang language_id\n",
              "0        13395     photo  ...           ww         2.0\n",
              "1        13952     photo  ...           en         3.0\n",
              "2        15593     photo  ...           ww         2.0\n",
              "3        18442     photo  ...           en         3.0\n",
              "4        20798     photo  ...           ww         2.0\n",
              "...        ...       ...  ...          ...         ...\n",
              "88914    50179     photo  ...           ww         2.0\n",
              "88915    61616     photo  ...           ww         2.0\n",
              "88916    22283     photo  ...          und         3.0\n",
              "88917    80056     photo  ...           ww         2.0\n",
              "88918    36686     photo  ...          und         3.0\n",
              "\n",
              "[88556 rows x 19 columns]"
            ]
          },
          "metadata": {
            "tags": []
          },
          "execution_count": 110
        }
      ]
    },
    {
      "cell_type": "code",
      "metadata": {
        "colab": {
          "base_uri": "https://localhost:8080/"
        },
        "id": "vAgGGXxFbuAB",
        "outputId": "33995118-9345-4592-a3b0-47cac2b09dd7"
      },
      "source": [
        "user['is_banned'].value_counts()"
      ],
      "execution_count": 111,
      "outputs": [
        {
          "output_type": "execute_result",
          "data": {
            "text/plain": [
              "False    28019\n",
              "Name: is_banned, dtype: int64"
            ]
          },
          "metadata": {
            "tags": []
          },
          "execution_count": 111
        }
      ]
    },
    {
      "cell_type": "code",
      "metadata": {
        "id": "VV3Wtbzhbt9b"
      },
      "source": [
        "# Проверить гипотезу: англ пользователи более активные чем русские\r\n",
        "# лайки\r\n",
        "# дизлайки\r\n",
        "# отношение L/D\r\n",
        "# Диаграмма (рус в среднем и eng в среднем)"
      ],
      "execution_count": 112,
      "outputs": []
    },
    {
      "cell_type": "code",
      "metadata": {
        "colab": {
          "base_uri": "https://localhost:8080/"
        },
        "id": "vlIngkyHdiGv",
        "outputId": "254d4eff-3bd2-432f-a008-2b6b1ed4103f"
      },
      "source": [
        "user['interface_lang'].value_counts()"
      ],
      "execution_count": 113,
      "outputs": [
        {
          "output_type": "execute_result",
          "data": {
            "text/plain": [
              "ru    17662\n",
              "en     9884\n",
              "in      262\n",
              "uk       34\n",
              "pt       22\n",
              "Name: interface_lang, dtype: int64"
            ]
          },
          "metadata": {
            "tags": []
          },
          "execution_count": 113
        }
      ]
    },
    {
      "cell_type": "code",
      "metadata": {
        "colab": {
          "base_uri": "https://localhost:8080/"
        },
        "id": "8souLvXUeiC3",
        "outputId": "c2e1949f-7866-477e-b03a-770e6400c7c9"
      },
      "source": [
        "reactions = event.groupby('user_id').count()['event_id']\r\n",
        "reactions"
      ],
      "execution_count": 114,
      "outputs": [
        {
          "output_type": "execute_result",
          "data": {
            "text/plain": [
              "user_id\n",
              "1615           61\n",
              "3859          352\n",
              "7530           13\n",
              "12199           9\n",
              "13934           6\n",
              "             ... \n",
              "1669487431     86\n",
              "1673757980    481\n",
              "1674375882     36\n",
              "1679813411    293\n",
              "1693249754    326\n",
              "Name: event_id, Length: 28064, dtype: int64"
            ]
          },
          "metadata": {
            "tags": []
          },
          "execution_count": 114
        }
      ]
    },
    {
      "cell_type": "code",
      "metadata": {
        "colab": {
          "base_uri": "https://localhost:8080/"
        },
        "id": "jI8Qq9xJf-R0",
        "outputId": "6dd62134-ba46-4179-a975-e766bc001761"
      },
      "source": [
        "# 1 - лайк\r\n",
        "# 2 - дизлайк\r\n",
        "likes = event[event['reaction_id'] == 1].groupby('user_id').count()['event_id']\r\n",
        "#likes.rename(columns = {'event_id':'likes'})\r\n",
        "likes\r\n"
      ],
      "execution_count": 115,
      "outputs": [
        {
          "output_type": "execute_result",
          "data": {
            "text/plain": [
              "user_id\n",
              "1615           31\n",
              "3859          209\n",
              "7530            1\n",
              "13934           1\n",
              "14229           2\n",
              "             ... \n",
              "1669487431     81\n",
              "1673757980    218\n",
              "1674375882     28\n",
              "1679813411    157\n",
              "1693249754     59\n",
              "Name: event_id, Length: 23004, dtype: int64"
            ]
          },
          "metadata": {
            "tags": []
          },
          "execution_count": 115
        }
      ]
    },
    {
      "cell_type": "code",
      "metadata": {
        "colab": {
          "base_uri": "https://localhost:8080/"
        },
        "id": "J-En8pdweiAe",
        "outputId": "abe4a1e4-cee5-4147-fa11-459ff64479fe"
      },
      "source": [
        "dislikes =  event[event['reaction_id'] == 2].groupby('user_id').count()['event_id']\r\n",
        "dislikes\r\n"
      ],
      "execution_count": 116,
      "outputs": [
        {
          "output_type": "execute_result",
          "data": {
            "text/plain": [
              "user_id\n",
              "1615           13\n",
              "3859           93\n",
              "7530            2\n",
              "14229          10\n",
              "16060         111\n",
              "             ... \n",
              "1669487431      4\n",
              "1673757980    260\n",
              "1674375882      6\n",
              "1679813411    124\n",
              "1693249754    265\n",
              "Name: event_id, Length: 21750, dtype: int64"
            ]
          },
          "metadata": {
            "tags": []
          },
          "execution_count": 116
        }
      ]
    },
    {
      "cell_type": "code",
      "metadata": {
        "id": "mjjkoZUSeh94"
      },
      "source": [
        "event_reactions = pd.DataFrame([likes.values,dislikes.values, reactions.values]).transpose()\r\n",
        "event_reactions.rename(columns = {0:'likes', 1:'dislikes', 2:'reactions'}, inplace = True)\r\n"
      ],
      "execution_count": 117,
      "outputs": []
    },
    {
      "cell_type": "code",
      "metadata": {
        "colab": {
          "base_uri": "https://localhost:8080/",
          "height": 446
        },
        "id": "oVpocRU_iqUN",
        "outputId": "38ae9ff6-89d1-4d1a-db5c-46a2697ab110"
      },
      "source": [
        "event_reactions.index = reactions.index\r\n",
        "event_reactions"
      ],
      "execution_count": 118,
      "outputs": [
        {
          "output_type": "execute_result",
          "data": {
            "text/html": [
              "<div>\n",
              "<style scoped>\n",
              "    .dataframe tbody tr th:only-of-type {\n",
              "        vertical-align: middle;\n",
              "    }\n",
              "\n",
              "    .dataframe tbody tr th {\n",
              "        vertical-align: top;\n",
              "    }\n",
              "\n",
              "    .dataframe thead th {\n",
              "        text-align: right;\n",
              "    }\n",
              "</style>\n",
              "<table border=\"1\" class=\"dataframe\">\n",
              "  <thead>\n",
              "    <tr style=\"text-align: right;\">\n",
              "      <th></th>\n",
              "      <th>likes</th>\n",
              "      <th>dislikes</th>\n",
              "      <th>reactions</th>\n",
              "    </tr>\n",
              "    <tr>\n",
              "      <th>user_id</th>\n",
              "      <th></th>\n",
              "      <th></th>\n",
              "      <th></th>\n",
              "    </tr>\n",
              "  </thead>\n",
              "  <tbody>\n",
              "    <tr>\n",
              "      <th>1615</th>\n",
              "      <td>31.0</td>\n",
              "      <td>13.0</td>\n",
              "      <td>61.0</td>\n",
              "    </tr>\n",
              "    <tr>\n",
              "      <th>3859</th>\n",
              "      <td>209.0</td>\n",
              "      <td>93.0</td>\n",
              "      <td>352.0</td>\n",
              "    </tr>\n",
              "    <tr>\n",
              "      <th>7530</th>\n",
              "      <td>1.0</td>\n",
              "      <td>2.0</td>\n",
              "      <td>13.0</td>\n",
              "    </tr>\n",
              "    <tr>\n",
              "      <th>12199</th>\n",
              "      <td>1.0</td>\n",
              "      <td>10.0</td>\n",
              "      <td>9.0</td>\n",
              "    </tr>\n",
              "    <tr>\n",
              "      <th>13934</th>\n",
              "      <td>2.0</td>\n",
              "      <td>111.0</td>\n",
              "      <td>6.0</td>\n",
              "    </tr>\n",
              "    <tr>\n",
              "      <th>...</th>\n",
              "      <td>...</td>\n",
              "      <td>...</td>\n",
              "      <td>...</td>\n",
              "    </tr>\n",
              "    <tr>\n",
              "      <th>1669487431</th>\n",
              "      <td>NaN</td>\n",
              "      <td>NaN</td>\n",
              "      <td>86.0</td>\n",
              "    </tr>\n",
              "    <tr>\n",
              "      <th>1673757980</th>\n",
              "      <td>NaN</td>\n",
              "      <td>NaN</td>\n",
              "      <td>481.0</td>\n",
              "    </tr>\n",
              "    <tr>\n",
              "      <th>1674375882</th>\n",
              "      <td>NaN</td>\n",
              "      <td>NaN</td>\n",
              "      <td>36.0</td>\n",
              "    </tr>\n",
              "    <tr>\n",
              "      <th>1679813411</th>\n",
              "      <td>NaN</td>\n",
              "      <td>NaN</td>\n",
              "      <td>293.0</td>\n",
              "    </tr>\n",
              "    <tr>\n",
              "      <th>1693249754</th>\n",
              "      <td>NaN</td>\n",
              "      <td>NaN</td>\n",
              "      <td>326.0</td>\n",
              "    </tr>\n",
              "  </tbody>\n",
              "</table>\n",
              "<p>28064 rows × 3 columns</p>\n",
              "</div>"
            ],
            "text/plain": [
              "            likes  dislikes  reactions\n",
              "user_id                               \n",
              "1615         31.0      13.0       61.0\n",
              "3859        209.0      93.0      352.0\n",
              "7530          1.0       2.0       13.0\n",
              "12199         1.0      10.0        9.0\n",
              "13934         2.0     111.0        6.0\n",
              "...           ...       ...        ...\n",
              "1669487431    NaN       NaN       86.0\n",
              "1673757980    NaN       NaN      481.0\n",
              "1674375882    NaN       NaN       36.0\n",
              "1679813411    NaN       NaN      293.0\n",
              "1693249754    NaN       NaN      326.0\n",
              "\n",
              "[28064 rows x 3 columns]"
            ]
          },
          "metadata": {
            "tags": []
          },
          "execution_count": 118
        }
      ]
    },
    {
      "cell_type": "markdown",
      "metadata": {
        "id": "2xe92e9nXm2O"
      },
      "source": [
        "### Построить график для лайков"
      ]
    },
    {
      "cell_type": "code",
      "metadata": {
        "colab": {
          "base_uri": "https://localhost:8080/"
        },
        "id": "MsTMqHQbiqYw",
        "outputId": "697ed595-a7b0-4667-9e85-375ce2fb78c8"
      },
      "source": [
        "likes_users_ids = likes.index\r\n",
        "likes_users_ids"
      ],
      "execution_count": 119,
      "outputs": [
        {
          "output_type": "execute_result",
          "data": {
            "text/plain": [
              "Int64Index([      1615,       3859,       7530,      13934,      14229,\n",
              "                 16060,      20535,      26961,      28327,      30767,\n",
              "            ...\n",
              "            1614671434, 1621350758, 1633384775, 1643656152, 1658592072,\n",
              "            1669487431, 1673757980, 1674375882, 1679813411, 1693249754],\n",
              "           dtype='int64', name='user_id', length=23004)"
            ]
          },
          "metadata": {
            "tags": []
          },
          "execution_count": 119
        }
      ]
    },
    {
      "cell_type": "code",
      "metadata": {
        "colab": {
          "base_uri": "https://localhost:8080/"
        },
        "id": "-EBo49TKlPaG",
        "outputId": "79c5f0be-6e99-4ea7-a357-9d5e18b6c6fb"
      },
      "source": [
        "users_likes = user[user.user_id.isin(likes_users_ids)].set_index('user_id')['interface_lang'].copy()\r\n",
        "users_likes"
      ],
      "execution_count": 120,
      "outputs": [
        {
          "output_type": "execute_result",
          "data": {
            "text/plain": [
              "user_id\n",
              "1235209430    en\n",
              "187967374     ru\n",
              "923016092     en\n",
              "69861816      ru\n",
              "664894269     ru\n",
              "              ..\n",
              "286288293     ru\n",
              "535976045     ru\n",
              "25657063      ru\n",
              "210046223     ru\n",
              "715409940     ru\n",
              "Name: interface_lang, Length: 22778, dtype: object"
            ]
          },
          "metadata": {
            "tags": []
          },
          "execution_count": 120
        }
      ]
    },
    {
      "cell_type": "code",
      "metadata": {
        "colab": {
          "base_uri": "https://localhost:8080/",
          "height": 233
        },
        "id": "veglbolWlPYE",
        "outputId": "7d5b6aaf-58a7-4b69-9588-1c389413376c"
      },
      "source": [
        "detailed_likes =  pd.DataFrame([users_likes, likes]).transpose()\r\n",
        "grouped_det_likes = detailed_likes.groupby('interface_lang').count()\r\n",
        "grouped_det_likes"
      ],
      "execution_count": 121,
      "outputs": [
        {
          "output_type": "execute_result",
          "data": {
            "text/html": [
              "<div>\n",
              "<style scoped>\n",
              "    .dataframe tbody tr th:only-of-type {\n",
              "        vertical-align: middle;\n",
              "    }\n",
              "\n",
              "    .dataframe tbody tr th {\n",
              "        vertical-align: top;\n",
              "    }\n",
              "\n",
              "    .dataframe thead th {\n",
              "        text-align: right;\n",
              "    }\n",
              "</style>\n",
              "<table border=\"1\" class=\"dataframe\">\n",
              "  <thead>\n",
              "    <tr style=\"text-align: right;\">\n",
              "      <th></th>\n",
              "      <th>event_id</th>\n",
              "    </tr>\n",
              "    <tr>\n",
              "      <th>interface_lang</th>\n",
              "      <th></th>\n",
              "    </tr>\n",
              "  </thead>\n",
              "  <tbody>\n",
              "    <tr>\n",
              "      <th>en</th>\n",
              "      <td>7285</td>\n",
              "    </tr>\n",
              "    <tr>\n",
              "      <th>in</th>\n",
              "      <td>229</td>\n",
              "    </tr>\n",
              "    <tr>\n",
              "      <th>pt</th>\n",
              "      <td>20</td>\n",
              "    </tr>\n",
              "    <tr>\n",
              "      <th>ru</th>\n",
              "      <td>15157</td>\n",
              "    </tr>\n",
              "    <tr>\n",
              "      <th>uk</th>\n",
              "      <td>32</td>\n",
              "    </tr>\n",
              "  </tbody>\n",
              "</table>\n",
              "</div>"
            ],
            "text/plain": [
              "                event_id\n",
              "interface_lang          \n",
              "en                  7285\n",
              "in                   229\n",
              "pt                    20\n",
              "ru                 15157\n",
              "uk                    32"
            ]
          },
          "metadata": {
            "tags": []
          },
          "execution_count": 121
        }
      ]
    },
    {
      "cell_type": "code",
      "metadata": {
        "colab": {
          "base_uri": "https://localhost:8080/",
          "height": 542
        },
        "id": "8R3bd1wVlPVN",
        "outputId": "94515327-f3cb-42ca-8271-994b8cfaff8f"
      },
      "source": [
        "import plotly.express as px\r\n",
        "fig = px.bar(grouped_det_likes, x = grouped_det_likes.index, y = 'event_id')\r\n",
        "fig.show()"
      ],
      "execution_count": 122,
      "outputs": [
        {
          "output_type": "display_data",
          "data": {
            "text/html": [
              "<html>\n",
              "<head><meta charset=\"utf-8\" /></head>\n",
              "<body>\n",
              "    <div>\n",
              "            <script src=\"https://cdnjs.cloudflare.com/ajax/libs/mathjax/2.7.5/MathJax.js?config=TeX-AMS-MML_SVG\"></script><script type=\"text/javascript\">if (window.MathJax) {MathJax.Hub.Config({SVG: {font: \"STIX-Web\"}});}</script>\n",
              "                <script type=\"text/javascript\">window.PlotlyConfig = {MathJaxConfig: 'local'};</script>\n",
              "        <script src=\"https://cdn.plot.ly/plotly-latest.min.js\"></script>    \n",
              "            <div id=\"b483775e-024e-4193-934e-614830d69416\" class=\"plotly-graph-div\" style=\"height:525px; width:100%;\"></div>\n",
              "            <script type=\"text/javascript\">\n",
              "                \n",
              "                    window.PLOTLYENV=window.PLOTLYENV || {};\n",
              "                    \n",
              "                if (document.getElementById(\"b483775e-024e-4193-934e-614830d69416\")) {\n",
              "                    Plotly.newPlot(\n",
              "                        'b483775e-024e-4193-934e-614830d69416',\n",
              "                        [{\"alignmentgroup\": \"True\", \"hoverlabel\": {\"namelength\": 0}, \"hovertemplate\": \"x=%{x}<br>event_id=%{y}\", \"legendgroup\": \"\", \"marker\": {\"color\": \"#636efa\"}, \"name\": \"\", \"offsetgroup\": \"\", \"orientation\": \"v\", \"showlegend\": false, \"textposition\": \"auto\", \"type\": \"bar\", \"x\": [\"en\", \"in\", \"pt\", \"ru\", \"uk\"], \"xaxis\": \"x\", \"y\": [7285, 229, 20, 15157, 32], \"yaxis\": \"y\"}],\n",
              "                        {\"barmode\": \"relative\", \"legend\": {\"tracegroupgap\": 0}, \"margin\": {\"t\": 60}, \"template\": {\"data\": {\"bar\": [{\"error_x\": {\"color\": \"#2a3f5f\"}, \"error_y\": {\"color\": \"#2a3f5f\"}, \"marker\": {\"line\": {\"color\": \"#E5ECF6\", \"width\": 0.5}}, \"type\": \"bar\"}], \"barpolar\": [{\"marker\": {\"line\": {\"color\": \"#E5ECF6\", \"width\": 0.5}}, \"type\": \"barpolar\"}], \"carpet\": [{\"aaxis\": {\"endlinecolor\": \"#2a3f5f\", \"gridcolor\": \"white\", \"linecolor\": \"white\", \"minorgridcolor\": \"white\", \"startlinecolor\": \"#2a3f5f\"}, \"baxis\": {\"endlinecolor\": \"#2a3f5f\", \"gridcolor\": \"white\", \"linecolor\": \"white\", \"minorgridcolor\": \"white\", \"startlinecolor\": \"#2a3f5f\"}, \"type\": \"carpet\"}], \"choropleth\": [{\"colorbar\": {\"outlinewidth\": 0, \"ticks\": \"\"}, \"type\": \"choropleth\"}], \"contour\": [{\"colorbar\": {\"outlinewidth\": 0, \"ticks\": \"\"}, \"colorscale\": [[0.0, \"#0d0887\"], [0.1111111111111111, \"#46039f\"], [0.2222222222222222, \"#7201a8\"], [0.3333333333333333, \"#9c179e\"], [0.4444444444444444, \"#bd3786\"], [0.5555555555555556, \"#d8576b\"], [0.6666666666666666, \"#ed7953\"], [0.7777777777777778, \"#fb9f3a\"], [0.8888888888888888, \"#fdca26\"], [1.0, \"#f0f921\"]], \"type\": \"contour\"}], \"contourcarpet\": [{\"colorbar\": {\"outlinewidth\": 0, \"ticks\": \"\"}, \"type\": \"contourcarpet\"}], \"heatmap\": [{\"colorbar\": {\"outlinewidth\": 0, \"ticks\": \"\"}, \"colorscale\": [[0.0, \"#0d0887\"], [0.1111111111111111, \"#46039f\"], [0.2222222222222222, \"#7201a8\"], [0.3333333333333333, \"#9c179e\"], [0.4444444444444444, \"#bd3786\"], [0.5555555555555556, \"#d8576b\"], [0.6666666666666666, \"#ed7953\"], [0.7777777777777778, \"#fb9f3a\"], [0.8888888888888888, \"#fdca26\"], [1.0, \"#f0f921\"]], \"type\": \"heatmap\"}], \"heatmapgl\": [{\"colorbar\": {\"outlinewidth\": 0, \"ticks\": \"\"}, \"colorscale\": [[0.0, \"#0d0887\"], [0.1111111111111111, \"#46039f\"], [0.2222222222222222, \"#7201a8\"], [0.3333333333333333, \"#9c179e\"], [0.4444444444444444, \"#bd3786\"], [0.5555555555555556, \"#d8576b\"], [0.6666666666666666, \"#ed7953\"], [0.7777777777777778, \"#fb9f3a\"], [0.8888888888888888, \"#fdca26\"], [1.0, \"#f0f921\"]], \"type\": \"heatmapgl\"}], \"histogram\": [{\"marker\": {\"colorbar\": {\"outlinewidth\": 0, \"ticks\": \"\"}}, \"type\": \"histogram\"}], \"histogram2d\": [{\"colorbar\": {\"outlinewidth\": 0, \"ticks\": \"\"}, \"colorscale\": [[0.0, \"#0d0887\"], [0.1111111111111111, \"#46039f\"], [0.2222222222222222, \"#7201a8\"], [0.3333333333333333, \"#9c179e\"], [0.4444444444444444, \"#bd3786\"], [0.5555555555555556, \"#d8576b\"], [0.6666666666666666, \"#ed7953\"], [0.7777777777777778, \"#fb9f3a\"], [0.8888888888888888, \"#fdca26\"], [1.0, \"#f0f921\"]], \"type\": \"histogram2d\"}], \"histogram2dcontour\": [{\"colorbar\": {\"outlinewidth\": 0, \"ticks\": \"\"}, \"colorscale\": [[0.0, \"#0d0887\"], [0.1111111111111111, \"#46039f\"], [0.2222222222222222, \"#7201a8\"], [0.3333333333333333, \"#9c179e\"], [0.4444444444444444, \"#bd3786\"], [0.5555555555555556, \"#d8576b\"], [0.6666666666666666, \"#ed7953\"], [0.7777777777777778, \"#fb9f3a\"], [0.8888888888888888, \"#fdca26\"], [1.0, \"#f0f921\"]], \"type\": \"histogram2dcontour\"}], \"mesh3d\": [{\"colorbar\": {\"outlinewidth\": 0, \"ticks\": \"\"}, \"type\": \"mesh3d\"}], \"parcoords\": [{\"line\": {\"colorbar\": {\"outlinewidth\": 0, \"ticks\": \"\"}}, \"type\": \"parcoords\"}], \"pie\": [{\"automargin\": true, \"type\": \"pie\"}], \"scatter\": [{\"marker\": {\"colorbar\": {\"outlinewidth\": 0, \"ticks\": \"\"}}, \"type\": \"scatter\"}], \"scatter3d\": [{\"line\": {\"colorbar\": {\"outlinewidth\": 0, \"ticks\": \"\"}}, \"marker\": {\"colorbar\": {\"outlinewidth\": 0, \"ticks\": \"\"}}, \"type\": \"scatter3d\"}], \"scattercarpet\": [{\"marker\": {\"colorbar\": {\"outlinewidth\": 0, \"ticks\": \"\"}}, \"type\": \"scattercarpet\"}], \"scattergeo\": [{\"marker\": {\"colorbar\": {\"outlinewidth\": 0, \"ticks\": \"\"}}, \"type\": \"scattergeo\"}], \"scattergl\": [{\"marker\": {\"colorbar\": {\"outlinewidth\": 0, \"ticks\": \"\"}}, \"type\": \"scattergl\"}], \"scattermapbox\": [{\"marker\": {\"colorbar\": {\"outlinewidth\": 0, \"ticks\": \"\"}}, \"type\": \"scattermapbox\"}], \"scatterpolar\": [{\"marker\": {\"colorbar\": {\"outlinewidth\": 0, \"ticks\": \"\"}}, \"type\": \"scatterpolar\"}], \"scatterpolargl\": [{\"marker\": {\"colorbar\": {\"outlinewidth\": 0, \"ticks\": \"\"}}, \"type\": \"scatterpolargl\"}], \"scatterternary\": [{\"marker\": {\"colorbar\": {\"outlinewidth\": 0, \"ticks\": \"\"}}, \"type\": \"scatterternary\"}], \"surface\": [{\"colorbar\": {\"outlinewidth\": 0, \"ticks\": \"\"}, \"colorscale\": [[0.0, \"#0d0887\"], [0.1111111111111111, \"#46039f\"], [0.2222222222222222, \"#7201a8\"], [0.3333333333333333, \"#9c179e\"], [0.4444444444444444, \"#bd3786\"], [0.5555555555555556, \"#d8576b\"], [0.6666666666666666, \"#ed7953\"], [0.7777777777777778, \"#fb9f3a\"], [0.8888888888888888, \"#fdca26\"], [1.0, \"#f0f921\"]], \"type\": \"surface\"}], \"table\": [{\"cells\": {\"fill\": {\"color\": \"#EBF0F8\"}, \"line\": {\"color\": \"white\"}}, \"header\": {\"fill\": {\"color\": \"#C8D4E3\"}, \"line\": {\"color\": \"white\"}}, \"type\": \"table\"}]}, \"layout\": {\"annotationdefaults\": {\"arrowcolor\": \"#2a3f5f\", \"arrowhead\": 0, \"arrowwidth\": 1}, \"coloraxis\": {\"colorbar\": {\"outlinewidth\": 0, \"ticks\": \"\"}}, \"colorscale\": {\"diverging\": [[0, \"#8e0152\"], [0.1, \"#c51b7d\"], [0.2, \"#de77ae\"], [0.3, \"#f1b6da\"], [0.4, \"#fde0ef\"], [0.5, \"#f7f7f7\"], [0.6, \"#e6f5d0\"], [0.7, \"#b8e186\"], [0.8, \"#7fbc41\"], [0.9, \"#4d9221\"], [1, \"#276419\"]], \"sequential\": [[0.0, \"#0d0887\"], [0.1111111111111111, \"#46039f\"], [0.2222222222222222, \"#7201a8\"], [0.3333333333333333, \"#9c179e\"], [0.4444444444444444, \"#bd3786\"], [0.5555555555555556, \"#d8576b\"], [0.6666666666666666, \"#ed7953\"], [0.7777777777777778, \"#fb9f3a\"], [0.8888888888888888, \"#fdca26\"], [1.0, \"#f0f921\"]], \"sequentialminus\": [[0.0, \"#0d0887\"], [0.1111111111111111, \"#46039f\"], [0.2222222222222222, \"#7201a8\"], [0.3333333333333333, \"#9c179e\"], [0.4444444444444444, \"#bd3786\"], [0.5555555555555556, \"#d8576b\"], [0.6666666666666666, \"#ed7953\"], [0.7777777777777778, \"#fb9f3a\"], [0.8888888888888888, \"#fdca26\"], [1.0, \"#f0f921\"]]}, \"colorway\": [\"#636efa\", \"#EF553B\", \"#00cc96\", \"#ab63fa\", \"#FFA15A\", \"#19d3f3\", \"#FF6692\", \"#B6E880\", \"#FF97FF\", \"#FECB52\"], \"font\": {\"color\": \"#2a3f5f\"}, \"geo\": {\"bgcolor\": \"white\", \"lakecolor\": \"white\", \"landcolor\": \"#E5ECF6\", \"showlakes\": true, \"showland\": true, \"subunitcolor\": \"white\"}, \"hoverlabel\": {\"align\": \"left\"}, \"hovermode\": \"closest\", \"mapbox\": {\"style\": \"light\"}, \"paper_bgcolor\": \"white\", \"plot_bgcolor\": \"#E5ECF6\", \"polar\": {\"angularaxis\": {\"gridcolor\": \"white\", \"linecolor\": \"white\", \"ticks\": \"\"}, \"bgcolor\": \"#E5ECF6\", \"radialaxis\": {\"gridcolor\": \"white\", \"linecolor\": \"white\", \"ticks\": \"\"}}, \"scene\": {\"xaxis\": {\"backgroundcolor\": \"#E5ECF6\", \"gridcolor\": \"white\", \"gridwidth\": 2, \"linecolor\": \"white\", \"showbackground\": true, \"ticks\": \"\", \"zerolinecolor\": \"white\"}, \"yaxis\": {\"backgroundcolor\": \"#E5ECF6\", \"gridcolor\": \"white\", \"gridwidth\": 2, \"linecolor\": \"white\", \"showbackground\": true, \"ticks\": \"\", \"zerolinecolor\": \"white\"}, \"zaxis\": {\"backgroundcolor\": \"#E5ECF6\", \"gridcolor\": \"white\", \"gridwidth\": 2, \"linecolor\": \"white\", \"showbackground\": true, \"ticks\": \"\", \"zerolinecolor\": \"white\"}}, \"shapedefaults\": {\"line\": {\"color\": \"#2a3f5f\"}}, \"ternary\": {\"aaxis\": {\"gridcolor\": \"white\", \"linecolor\": \"white\", \"ticks\": \"\"}, \"baxis\": {\"gridcolor\": \"white\", \"linecolor\": \"white\", \"ticks\": \"\"}, \"bgcolor\": \"#E5ECF6\", \"caxis\": {\"gridcolor\": \"white\", \"linecolor\": \"white\", \"ticks\": \"\"}}, \"title\": {\"x\": 0.05}, \"xaxis\": {\"automargin\": true, \"gridcolor\": \"white\", \"linecolor\": \"white\", \"ticks\": \"\", \"title\": {\"standoff\": 15}, \"zerolinecolor\": \"white\", \"zerolinewidth\": 2}, \"yaxis\": {\"automargin\": true, \"gridcolor\": \"white\", \"linecolor\": \"white\", \"ticks\": \"\", \"title\": {\"standoff\": 15}, \"zerolinecolor\": \"white\", \"zerolinewidth\": 2}}}, \"xaxis\": {\"anchor\": \"y\", \"domain\": [0.0, 1.0], \"title\": {\"text\": \"x\"}}, \"yaxis\": {\"anchor\": \"x\", \"domain\": [0.0, 1.0], \"title\": {\"text\": \"event_id\"}}},\n",
              "                        {\"responsive\": true}\n",
              "                    ).then(function(){\n",
              "                            \n",
              "var gd = document.getElementById('b483775e-024e-4193-934e-614830d69416');\n",
              "var x = new MutationObserver(function (mutations, observer) {{\n",
              "        var display = window.getComputedStyle(gd).display;\n",
              "        if (!display || display === 'none') {{\n",
              "            console.log([gd, 'removed!']);\n",
              "            Plotly.purge(gd);\n",
              "            observer.disconnect();\n",
              "        }}\n",
              "}});\n",
              "\n",
              "// Listen for the removal of the full notebook cells\n",
              "var notebookContainer = gd.closest('#notebook-container');\n",
              "if (notebookContainer) {{\n",
              "    x.observe(notebookContainer, {childList: true});\n",
              "}}\n",
              "\n",
              "// Listen for the clearing of the current output cell\n",
              "var outputEl = gd.closest('.output');\n",
              "if (outputEl) {{\n",
              "    x.observe(outputEl, {childList: true});\n",
              "}}\n",
              "\n",
              "                        })\n",
              "                };\n",
              "                \n",
              "            </script>\n",
              "        </div>\n",
              "</body>\n",
              "</html>"
            ]
          },
          "metadata": {
            "tags": []
          }
        }
      ]
    },
    {
      "cell_type": "markdown",
      "metadata": {
        "id": "3oO2w4JqWhcT"
      },
      "source": [
        "### Для каждого source соотношение лайков дизлайков"
      ]
    },
    {
      "cell_type": "code",
      "metadata": {
        "colab": {
          "base_uri": "https://localhost:8080/",
          "height": 446
        },
        "id": "r7VvUxDpncSE",
        "outputId": "a89a8e21-d083-4955-cb7a-5680fa84de68"
      },
      "source": [
        "memes_grouped = meme[['source_id', 'likes', 'dislikes']]\r\n",
        "memes_grouped_sum = memes_grouped.groupby('source_id').sum()\r\n",
        "memes_grouped_sum['l\\\\d'] = memes_grouped_sum['likes'] / memes_grouped_sum['dislikes']\r\n",
        "memes_grouped_sum"
      ],
      "execution_count": 123,
      "outputs": [
        {
          "output_type": "execute_result",
          "data": {
            "text/html": [
              "<div>\n",
              "<style scoped>\n",
              "    .dataframe tbody tr th:only-of-type {\n",
              "        vertical-align: middle;\n",
              "    }\n",
              "\n",
              "    .dataframe tbody tr th {\n",
              "        vertical-align: top;\n",
              "    }\n",
              "\n",
              "    .dataframe thead th {\n",
              "        text-align: right;\n",
              "    }\n",
              "</style>\n",
              "<table border=\"1\" class=\"dataframe\">\n",
              "  <thead>\n",
              "    <tr style=\"text-align: right;\">\n",
              "      <th></th>\n",
              "      <th>likes</th>\n",
              "      <th>dislikes</th>\n",
              "      <th>l\\d</th>\n",
              "    </tr>\n",
              "    <tr>\n",
              "      <th>source_id</th>\n",
              "      <th></th>\n",
              "      <th></th>\n",
              "      <th></th>\n",
              "    </tr>\n",
              "  </thead>\n",
              "  <tbody>\n",
              "    <tr>\n",
              "      <th>1.0</th>\n",
              "      <td>294</td>\n",
              "      <td>920</td>\n",
              "      <td>0.319565</td>\n",
              "    </tr>\n",
              "    <tr>\n",
              "      <th>2.0</th>\n",
              "      <td>39219</td>\n",
              "      <td>40506</td>\n",
              "      <td>0.968227</td>\n",
              "    </tr>\n",
              "    <tr>\n",
              "      <th>3.0</th>\n",
              "      <td>41454</td>\n",
              "      <td>48666</td>\n",
              "      <td>0.851806</td>\n",
              "    </tr>\n",
              "    <tr>\n",
              "      <th>4.0</th>\n",
              "      <td>29317</td>\n",
              "      <td>51699</td>\n",
              "      <td>0.567071</td>\n",
              "    </tr>\n",
              "    <tr>\n",
              "      <th>5.0</th>\n",
              "      <td>46651</td>\n",
              "      <td>39558</td>\n",
              "      <td>1.179306</td>\n",
              "    </tr>\n",
              "    <tr>\n",
              "      <th>...</th>\n",
              "      <td>...</td>\n",
              "      <td>...</td>\n",
              "      <td>...</td>\n",
              "    </tr>\n",
              "    <tr>\n",
              "      <th>212.0</th>\n",
              "      <td>1015</td>\n",
              "      <td>1990</td>\n",
              "      <td>0.510050</td>\n",
              "    </tr>\n",
              "    <tr>\n",
              "      <th>213.0</th>\n",
              "      <td>31</td>\n",
              "      <td>117</td>\n",
              "      <td>0.264957</td>\n",
              "    </tr>\n",
              "    <tr>\n",
              "      <th>214.0</th>\n",
              "      <td>85</td>\n",
              "      <td>269</td>\n",
              "      <td>0.315985</td>\n",
              "    </tr>\n",
              "    <tr>\n",
              "      <th>215.0</th>\n",
              "      <td>66</td>\n",
              "      <td>268</td>\n",
              "      <td>0.246269</td>\n",
              "    </tr>\n",
              "    <tr>\n",
              "      <th>216.0</th>\n",
              "      <td>1247</td>\n",
              "      <td>2267</td>\n",
              "      <td>0.550066</td>\n",
              "    </tr>\n",
              "  </tbody>\n",
              "</table>\n",
              "<p>193 rows × 3 columns</p>\n",
              "</div>"
            ],
            "text/plain": [
              "           likes  dislikes       l\\d\n",
              "source_id                           \n",
              "1.0          294       920  0.319565\n",
              "2.0        39219     40506  0.968227\n",
              "3.0        41454     48666  0.851806\n",
              "4.0        29317     51699  0.567071\n",
              "5.0        46651     39558  1.179306\n",
              "...          ...       ...       ...\n",
              "212.0       1015      1990  0.510050\n",
              "213.0         31       117  0.264957\n",
              "214.0         85       269  0.315985\n",
              "215.0         66       268  0.246269\n",
              "216.0       1247      2267  0.550066\n",
              "\n",
              "[193 rows x 3 columns]"
            ]
          },
          "metadata": {
            "tags": []
          },
          "execution_count": 123
        }
      ]
    },
    {
      "cell_type": "markdown",
      "metadata": {
        "id": "-lZlpLucWfhI"
      },
      "source": [
        "### Проделать ту же работу для дизлайков и всех реакций"
      ]
    },
    {
      "cell_type": "markdown",
      "metadata": {
        "id": "woYd5nCiZaVb"
      },
      "source": [
        "#### Дизлайки"
      ]
    },
    {
      "cell_type": "code",
      "metadata": {
        "colab": {
          "base_uri": "https://localhost:8080/"
        },
        "id": "Csh6DKGBWx-x",
        "outputId": "7d299e3d-d568-4e99-c8a1-8b8b725ae476"
      },
      "source": [
        "dislikes_users_ids = dislikes.index\r\n",
        "dislikes_users_ids"
      ],
      "execution_count": 124,
      "outputs": [
        {
          "output_type": "execute_result",
          "data": {
            "text/plain": [
              "Int64Index([      1615,       3859,       7530,      14229,      16060,\n",
              "                 20535,      26961,      28327,      30767,      37459,\n",
              "            ...\n",
              "            1621350758, 1628163852, 1633384775, 1643656152, 1658592072,\n",
              "            1669487431, 1673757980, 1674375882, 1679813411, 1693249754],\n",
              "           dtype='int64', name='user_id', length=21750)"
            ]
          },
          "metadata": {
            "tags": []
          },
          "execution_count": 124
        }
      ]
    },
    {
      "cell_type": "code",
      "metadata": {
        "colab": {
          "base_uri": "https://localhost:8080/"
        },
        "id": "w0o-bzwTWx55",
        "outputId": "758a2bee-edd1-421d-9143-1bdbd8595f60"
      },
      "source": [
        "users_dislikes = user[user.user_id.isin(dislikes_users_ids)].set_index('user_id')['interface_lang'].copy()\r\n",
        "users_dislikes"
      ],
      "execution_count": 125,
      "outputs": [
        {
          "output_type": "execute_result",
          "data": {
            "text/plain": [
              "user_id\n",
              "1235209430    en\n",
              "187967374     ru\n",
              "923016092     en\n",
              "69861816      ru\n",
              "664894269     ru\n",
              "              ..\n",
              "286288293     ru\n",
              "535976045     ru\n",
              "25657063      ru\n",
              "210046223     ru\n",
              "715409940     ru\n",
              "Name: interface_lang, Length: 21513, dtype: object"
            ]
          },
          "metadata": {
            "tags": []
          },
          "execution_count": 125
        }
      ]
    },
    {
      "cell_type": "code",
      "metadata": {
        "colab": {
          "base_uri": "https://localhost:8080/",
          "height": 233
        },
        "id": "zVUmhGXCWx1V",
        "outputId": "94071cb8-e499-4779-ecd0-93035f1f0ee4"
      },
      "source": [
        "detailed_dislikes =  pd.DataFrame([users_dislikes, dislikes]).transpose()\r\n",
        "grouped_det_dislikes = detailed_dislikes.groupby('interface_lang').count()\r\n",
        "grouped_det_dislikes"
      ],
      "execution_count": 126,
      "outputs": [
        {
          "output_type": "execute_result",
          "data": {
            "text/html": [
              "<div>\n",
              "<style scoped>\n",
              "    .dataframe tbody tr th:only-of-type {\n",
              "        vertical-align: middle;\n",
              "    }\n",
              "\n",
              "    .dataframe tbody tr th {\n",
              "        vertical-align: top;\n",
              "    }\n",
              "\n",
              "    .dataframe thead th {\n",
              "        text-align: right;\n",
              "    }\n",
              "</style>\n",
              "<table border=\"1\" class=\"dataframe\">\n",
              "  <thead>\n",
              "    <tr style=\"text-align: right;\">\n",
              "      <th></th>\n",
              "      <th>event_id</th>\n",
              "    </tr>\n",
              "    <tr>\n",
              "      <th>interface_lang</th>\n",
              "      <th></th>\n",
              "    </tr>\n",
              "  </thead>\n",
              "  <tbody>\n",
              "    <tr>\n",
              "      <th>en</th>\n",
              "      <td>5839</td>\n",
              "    </tr>\n",
              "    <tr>\n",
              "      <th>in</th>\n",
              "      <td>190</td>\n",
              "    </tr>\n",
              "    <tr>\n",
              "      <th>pt</th>\n",
              "      <td>17</td>\n",
              "    </tr>\n",
              "    <tr>\n",
              "      <th>ru</th>\n",
              "      <td>15404</td>\n",
              "    </tr>\n",
              "    <tr>\n",
              "      <th>uk</th>\n",
              "      <td>31</td>\n",
              "    </tr>\n",
              "  </tbody>\n",
              "</table>\n",
              "</div>"
            ],
            "text/plain": [
              "                event_id\n",
              "interface_lang          \n",
              "en                  5839\n",
              "in                   190\n",
              "pt                    17\n",
              "ru                 15404\n",
              "uk                    31"
            ]
          },
          "metadata": {
            "tags": []
          },
          "execution_count": 126
        }
      ]
    },
    {
      "cell_type": "code",
      "metadata": {
        "colab": {
          "base_uri": "https://localhost:8080/",
          "height": 542
        },
        "id": "FcBAGrBFXXr3",
        "outputId": "3bced09d-2f35-4fb0-ecf0-a5f2eb1e856f"
      },
      "source": [
        "fig = px.bar(grouped_det_dislikes, x = grouped_det_dislikes.index, y = 'event_id')\r\n",
        "fig.show()"
      ],
      "execution_count": 127,
      "outputs": [
        {
          "output_type": "display_data",
          "data": {
            "text/html": [
              "<html>\n",
              "<head><meta charset=\"utf-8\" /></head>\n",
              "<body>\n",
              "    <div>\n",
              "            <script src=\"https://cdnjs.cloudflare.com/ajax/libs/mathjax/2.7.5/MathJax.js?config=TeX-AMS-MML_SVG\"></script><script type=\"text/javascript\">if (window.MathJax) {MathJax.Hub.Config({SVG: {font: \"STIX-Web\"}});}</script>\n",
              "                <script type=\"text/javascript\">window.PlotlyConfig = {MathJaxConfig: 'local'};</script>\n",
              "        <script src=\"https://cdn.plot.ly/plotly-latest.min.js\"></script>    \n",
              "            <div id=\"8a5098c0-57d9-4128-858d-9bf824a8e771\" class=\"plotly-graph-div\" style=\"height:525px; width:100%;\"></div>\n",
              "            <script type=\"text/javascript\">\n",
              "                \n",
              "                    window.PLOTLYENV=window.PLOTLYENV || {};\n",
              "                    \n",
              "                if (document.getElementById(\"8a5098c0-57d9-4128-858d-9bf824a8e771\")) {\n",
              "                    Plotly.newPlot(\n",
              "                        '8a5098c0-57d9-4128-858d-9bf824a8e771',\n",
              "                        [{\"alignmentgroup\": \"True\", \"hoverlabel\": {\"namelength\": 0}, \"hovertemplate\": \"x=%{x}<br>event_id=%{y}\", \"legendgroup\": \"\", \"marker\": {\"color\": \"#636efa\"}, \"name\": \"\", \"offsetgroup\": \"\", \"orientation\": \"v\", \"showlegend\": false, \"textposition\": \"auto\", \"type\": \"bar\", \"x\": [\"en\", \"in\", \"pt\", \"ru\", \"uk\"], \"xaxis\": \"x\", \"y\": [5839, 190, 17, 15404, 31], \"yaxis\": \"y\"}],\n",
              "                        {\"barmode\": \"relative\", \"legend\": {\"tracegroupgap\": 0}, \"margin\": {\"t\": 60}, \"template\": {\"data\": {\"bar\": [{\"error_x\": {\"color\": \"#2a3f5f\"}, \"error_y\": {\"color\": \"#2a3f5f\"}, \"marker\": {\"line\": {\"color\": \"#E5ECF6\", \"width\": 0.5}}, \"type\": \"bar\"}], \"barpolar\": [{\"marker\": {\"line\": {\"color\": \"#E5ECF6\", \"width\": 0.5}}, \"type\": \"barpolar\"}], \"carpet\": [{\"aaxis\": {\"endlinecolor\": \"#2a3f5f\", \"gridcolor\": \"white\", \"linecolor\": \"white\", \"minorgridcolor\": \"white\", \"startlinecolor\": \"#2a3f5f\"}, \"baxis\": {\"endlinecolor\": \"#2a3f5f\", \"gridcolor\": \"white\", \"linecolor\": \"white\", \"minorgridcolor\": \"white\", \"startlinecolor\": \"#2a3f5f\"}, \"type\": \"carpet\"}], \"choropleth\": [{\"colorbar\": {\"outlinewidth\": 0, \"ticks\": \"\"}, \"type\": \"choropleth\"}], \"contour\": [{\"colorbar\": {\"outlinewidth\": 0, \"ticks\": \"\"}, \"colorscale\": [[0.0, \"#0d0887\"], [0.1111111111111111, \"#46039f\"], [0.2222222222222222, \"#7201a8\"], [0.3333333333333333, \"#9c179e\"], [0.4444444444444444, \"#bd3786\"], [0.5555555555555556, \"#d8576b\"], [0.6666666666666666, \"#ed7953\"], [0.7777777777777778, \"#fb9f3a\"], [0.8888888888888888, \"#fdca26\"], [1.0, \"#f0f921\"]], \"type\": \"contour\"}], \"contourcarpet\": [{\"colorbar\": {\"outlinewidth\": 0, \"ticks\": \"\"}, \"type\": \"contourcarpet\"}], \"heatmap\": [{\"colorbar\": {\"outlinewidth\": 0, \"ticks\": \"\"}, \"colorscale\": [[0.0, \"#0d0887\"], [0.1111111111111111, \"#46039f\"], [0.2222222222222222, \"#7201a8\"], [0.3333333333333333, \"#9c179e\"], [0.4444444444444444, \"#bd3786\"], [0.5555555555555556, \"#d8576b\"], [0.6666666666666666, \"#ed7953\"], [0.7777777777777778, \"#fb9f3a\"], [0.8888888888888888, \"#fdca26\"], [1.0, \"#f0f921\"]], \"type\": \"heatmap\"}], \"heatmapgl\": [{\"colorbar\": {\"outlinewidth\": 0, \"ticks\": \"\"}, \"colorscale\": [[0.0, \"#0d0887\"], [0.1111111111111111, \"#46039f\"], [0.2222222222222222, \"#7201a8\"], [0.3333333333333333, \"#9c179e\"], [0.4444444444444444, \"#bd3786\"], [0.5555555555555556, \"#d8576b\"], [0.6666666666666666, \"#ed7953\"], [0.7777777777777778, \"#fb9f3a\"], [0.8888888888888888, \"#fdca26\"], [1.0, \"#f0f921\"]], \"type\": \"heatmapgl\"}], \"histogram\": [{\"marker\": {\"colorbar\": {\"outlinewidth\": 0, \"ticks\": \"\"}}, \"type\": \"histogram\"}], \"histogram2d\": [{\"colorbar\": {\"outlinewidth\": 0, \"ticks\": \"\"}, \"colorscale\": [[0.0, \"#0d0887\"], [0.1111111111111111, \"#46039f\"], [0.2222222222222222, \"#7201a8\"], [0.3333333333333333, \"#9c179e\"], [0.4444444444444444, \"#bd3786\"], [0.5555555555555556, \"#d8576b\"], [0.6666666666666666, \"#ed7953\"], [0.7777777777777778, \"#fb9f3a\"], [0.8888888888888888, \"#fdca26\"], [1.0, \"#f0f921\"]], \"type\": \"histogram2d\"}], \"histogram2dcontour\": [{\"colorbar\": {\"outlinewidth\": 0, \"ticks\": \"\"}, \"colorscale\": [[0.0, \"#0d0887\"], [0.1111111111111111, \"#46039f\"], [0.2222222222222222, \"#7201a8\"], [0.3333333333333333, \"#9c179e\"], [0.4444444444444444, \"#bd3786\"], [0.5555555555555556, \"#d8576b\"], [0.6666666666666666, \"#ed7953\"], [0.7777777777777778, \"#fb9f3a\"], [0.8888888888888888, \"#fdca26\"], [1.0, \"#f0f921\"]], \"type\": \"histogram2dcontour\"}], \"mesh3d\": [{\"colorbar\": {\"outlinewidth\": 0, \"ticks\": \"\"}, \"type\": \"mesh3d\"}], \"parcoords\": [{\"line\": {\"colorbar\": {\"outlinewidth\": 0, \"ticks\": \"\"}}, \"type\": \"parcoords\"}], \"pie\": [{\"automargin\": true, \"type\": \"pie\"}], \"scatter\": [{\"marker\": {\"colorbar\": {\"outlinewidth\": 0, \"ticks\": \"\"}}, \"type\": \"scatter\"}], \"scatter3d\": [{\"line\": {\"colorbar\": {\"outlinewidth\": 0, \"ticks\": \"\"}}, \"marker\": {\"colorbar\": {\"outlinewidth\": 0, \"ticks\": \"\"}}, \"type\": \"scatter3d\"}], \"scattercarpet\": [{\"marker\": {\"colorbar\": {\"outlinewidth\": 0, \"ticks\": \"\"}}, \"type\": \"scattercarpet\"}], \"scattergeo\": [{\"marker\": {\"colorbar\": {\"outlinewidth\": 0, \"ticks\": \"\"}}, \"type\": \"scattergeo\"}], \"scattergl\": [{\"marker\": {\"colorbar\": {\"outlinewidth\": 0, \"ticks\": \"\"}}, \"type\": \"scattergl\"}], \"scattermapbox\": [{\"marker\": {\"colorbar\": {\"outlinewidth\": 0, \"ticks\": \"\"}}, \"type\": \"scattermapbox\"}], \"scatterpolar\": [{\"marker\": {\"colorbar\": {\"outlinewidth\": 0, \"ticks\": \"\"}}, \"type\": \"scatterpolar\"}], \"scatterpolargl\": [{\"marker\": {\"colorbar\": {\"outlinewidth\": 0, \"ticks\": \"\"}}, \"type\": \"scatterpolargl\"}], \"scatterternary\": [{\"marker\": {\"colorbar\": {\"outlinewidth\": 0, \"ticks\": \"\"}}, \"type\": \"scatterternary\"}], \"surface\": [{\"colorbar\": {\"outlinewidth\": 0, \"ticks\": \"\"}, \"colorscale\": [[0.0, \"#0d0887\"], [0.1111111111111111, \"#46039f\"], [0.2222222222222222, \"#7201a8\"], [0.3333333333333333, \"#9c179e\"], [0.4444444444444444, \"#bd3786\"], [0.5555555555555556, \"#d8576b\"], [0.6666666666666666, \"#ed7953\"], [0.7777777777777778, \"#fb9f3a\"], [0.8888888888888888, \"#fdca26\"], [1.0, \"#f0f921\"]], \"type\": \"surface\"}], \"table\": [{\"cells\": {\"fill\": {\"color\": \"#EBF0F8\"}, \"line\": {\"color\": \"white\"}}, \"header\": {\"fill\": {\"color\": \"#C8D4E3\"}, \"line\": {\"color\": \"white\"}}, \"type\": \"table\"}]}, \"layout\": {\"annotationdefaults\": {\"arrowcolor\": \"#2a3f5f\", \"arrowhead\": 0, \"arrowwidth\": 1}, \"coloraxis\": {\"colorbar\": {\"outlinewidth\": 0, \"ticks\": \"\"}}, \"colorscale\": {\"diverging\": [[0, \"#8e0152\"], [0.1, \"#c51b7d\"], [0.2, \"#de77ae\"], [0.3, \"#f1b6da\"], [0.4, \"#fde0ef\"], [0.5, \"#f7f7f7\"], [0.6, \"#e6f5d0\"], [0.7, \"#b8e186\"], [0.8, \"#7fbc41\"], [0.9, \"#4d9221\"], [1, \"#276419\"]], \"sequential\": [[0.0, \"#0d0887\"], [0.1111111111111111, \"#46039f\"], [0.2222222222222222, \"#7201a8\"], [0.3333333333333333, \"#9c179e\"], [0.4444444444444444, \"#bd3786\"], [0.5555555555555556, \"#d8576b\"], [0.6666666666666666, \"#ed7953\"], [0.7777777777777778, \"#fb9f3a\"], [0.8888888888888888, \"#fdca26\"], [1.0, \"#f0f921\"]], \"sequentialminus\": [[0.0, \"#0d0887\"], [0.1111111111111111, \"#46039f\"], [0.2222222222222222, \"#7201a8\"], [0.3333333333333333, \"#9c179e\"], [0.4444444444444444, \"#bd3786\"], [0.5555555555555556, \"#d8576b\"], [0.6666666666666666, \"#ed7953\"], [0.7777777777777778, \"#fb9f3a\"], [0.8888888888888888, \"#fdca26\"], [1.0, \"#f0f921\"]]}, \"colorway\": [\"#636efa\", \"#EF553B\", \"#00cc96\", \"#ab63fa\", \"#FFA15A\", \"#19d3f3\", \"#FF6692\", \"#B6E880\", \"#FF97FF\", \"#FECB52\"], \"font\": {\"color\": \"#2a3f5f\"}, \"geo\": {\"bgcolor\": \"white\", \"lakecolor\": \"white\", \"landcolor\": \"#E5ECF6\", \"showlakes\": true, \"showland\": true, \"subunitcolor\": \"white\"}, \"hoverlabel\": {\"align\": \"left\"}, \"hovermode\": \"closest\", \"mapbox\": {\"style\": \"light\"}, \"paper_bgcolor\": \"white\", \"plot_bgcolor\": \"#E5ECF6\", \"polar\": {\"angularaxis\": {\"gridcolor\": \"white\", \"linecolor\": \"white\", \"ticks\": \"\"}, \"bgcolor\": \"#E5ECF6\", \"radialaxis\": {\"gridcolor\": \"white\", \"linecolor\": \"white\", \"ticks\": \"\"}}, \"scene\": {\"xaxis\": {\"backgroundcolor\": \"#E5ECF6\", \"gridcolor\": \"white\", \"gridwidth\": 2, \"linecolor\": \"white\", \"showbackground\": true, \"ticks\": \"\", \"zerolinecolor\": \"white\"}, \"yaxis\": {\"backgroundcolor\": \"#E5ECF6\", \"gridcolor\": \"white\", \"gridwidth\": 2, \"linecolor\": \"white\", \"showbackground\": true, \"ticks\": \"\", \"zerolinecolor\": \"white\"}, \"zaxis\": {\"backgroundcolor\": \"#E5ECF6\", \"gridcolor\": \"white\", \"gridwidth\": 2, \"linecolor\": \"white\", \"showbackground\": true, \"ticks\": \"\", \"zerolinecolor\": \"white\"}}, \"shapedefaults\": {\"line\": {\"color\": \"#2a3f5f\"}}, \"ternary\": {\"aaxis\": {\"gridcolor\": \"white\", \"linecolor\": \"white\", \"ticks\": \"\"}, \"baxis\": {\"gridcolor\": \"white\", \"linecolor\": \"white\", \"ticks\": \"\"}, \"bgcolor\": \"#E5ECF6\", \"caxis\": {\"gridcolor\": \"white\", \"linecolor\": \"white\", \"ticks\": \"\"}}, \"title\": {\"x\": 0.05}, \"xaxis\": {\"automargin\": true, \"gridcolor\": \"white\", \"linecolor\": \"white\", \"ticks\": \"\", \"title\": {\"standoff\": 15}, \"zerolinecolor\": \"white\", \"zerolinewidth\": 2}, \"yaxis\": {\"automargin\": true, \"gridcolor\": \"white\", \"linecolor\": \"white\", \"ticks\": \"\", \"title\": {\"standoff\": 15}, \"zerolinecolor\": \"white\", \"zerolinewidth\": 2}}}, \"xaxis\": {\"anchor\": \"y\", \"domain\": [0.0, 1.0], \"title\": {\"text\": \"x\"}}, \"yaxis\": {\"anchor\": \"x\", \"domain\": [0.0, 1.0], \"title\": {\"text\": \"event_id\"}}},\n",
              "                        {\"responsive\": true}\n",
              "                    ).then(function(){\n",
              "                            \n",
              "var gd = document.getElementById('8a5098c0-57d9-4128-858d-9bf824a8e771');\n",
              "var x = new MutationObserver(function (mutations, observer) {{\n",
              "        var display = window.getComputedStyle(gd).display;\n",
              "        if (!display || display === 'none') {{\n",
              "            console.log([gd, 'removed!']);\n",
              "            Plotly.purge(gd);\n",
              "            observer.disconnect();\n",
              "        }}\n",
              "}});\n",
              "\n",
              "// Listen for the removal of the full notebook cells\n",
              "var notebookContainer = gd.closest('#notebook-container');\n",
              "if (notebookContainer) {{\n",
              "    x.observe(notebookContainer, {childList: true});\n",
              "}}\n",
              "\n",
              "// Listen for the clearing of the current output cell\n",
              "var outputEl = gd.closest('.output');\n",
              "if (outputEl) {{\n",
              "    x.observe(outputEl, {childList: true});\n",
              "}}\n",
              "\n",
              "                        })\n",
              "                };\n",
              "                \n",
              "            </script>\n",
              "        </div>\n",
              "</body>\n",
              "</html>"
            ]
          },
          "metadata": {
            "tags": []
          }
        }
      ]
    },
    {
      "cell_type": "markdown",
      "metadata": {
        "id": "JXq3jkERZco7"
      },
      "source": [
        "### Все реакции"
      ]
    },
    {
      "cell_type": "code",
      "metadata": {
        "colab": {
          "base_uri": "https://localhost:8080/"
        },
        "id": "kW6uABNhXXpv",
        "outputId": "449c6136-b951-4b81-ecd2-57dfaa1e2dda"
      },
      "source": [
        "reactions_users_ids = reactions.index\r\n",
        "reactions_users_ids"
      ],
      "execution_count": 128,
      "outputs": [
        {
          "output_type": "execute_result",
          "data": {
            "text/plain": [
              "Int64Index([      1615,       3859,       7530,      12199,      13934,\n",
              "                 14229,      16060,      20535,      26961,      28327,\n",
              "            ...\n",
              "            1628163852, 1633384775, 1641681912, 1643656152, 1658592072,\n",
              "            1669487431, 1673757980, 1674375882, 1679813411, 1693249754],\n",
              "           dtype='int64', name='user_id', length=28064)"
            ]
          },
          "metadata": {
            "tags": []
          },
          "execution_count": 128
        }
      ]
    },
    {
      "cell_type": "code",
      "metadata": {
        "colab": {
          "base_uri": "https://localhost:8080/"
        },
        "id": "X9zznfncXXmw",
        "outputId": "338843c2-cd50-4d6b-a43c-c8b7c0cb7759"
      },
      "source": [
        "users_reactions = user[user.user_id.isin(reactions_users_ids)].set_index('user_id')['interface_lang'].copy()\r\n",
        "users_reactions"
      ],
      "execution_count": 129,
      "outputs": [
        {
          "output_type": "execute_result",
          "data": {
            "text/plain": [
              "user_id\n",
              "1235209430    en\n",
              "113584040     ru\n",
              "1142713343    en\n",
              "187967374     ru\n",
              "923016092     en\n",
              "              ..\n",
              "286288293     ru\n",
              "535976045     ru\n",
              "25657063      ru\n",
              "210046223     ru\n",
              "715409940     ru\n",
              "Name: interface_lang, Length: 27758, dtype: object"
            ]
          },
          "metadata": {
            "tags": []
          },
          "execution_count": 129
        }
      ]
    },
    {
      "cell_type": "code",
      "metadata": {
        "id": "RlKHtVWQXXkE"
      },
      "source": [
        "detailed_reactions = pd.DataFrame([users_reactions, reactions]).transpose()\r\n",
        "grouped_det_reactions = detailed_reactions.groupby('interface_lang').count()"
      ],
      "execution_count": 130,
      "outputs": []
    },
    {
      "cell_type": "code",
      "metadata": {
        "colab": {
          "base_uri": "https://localhost:8080/",
          "height": 542
        },
        "id": "AJeUNpw0am7V",
        "outputId": "f658ed37-a5d6-483d-f405-c60070d1d949"
      },
      "source": [
        "fig = px.bar(grouped_det_reactions, x = grouped_det_reactions.index, y = 'event_id')\r\n",
        "fig.show()"
      ],
      "execution_count": 131,
      "outputs": [
        {
          "output_type": "display_data",
          "data": {
            "text/html": [
              "<html>\n",
              "<head><meta charset=\"utf-8\" /></head>\n",
              "<body>\n",
              "    <div>\n",
              "            <script src=\"https://cdnjs.cloudflare.com/ajax/libs/mathjax/2.7.5/MathJax.js?config=TeX-AMS-MML_SVG\"></script><script type=\"text/javascript\">if (window.MathJax) {MathJax.Hub.Config({SVG: {font: \"STIX-Web\"}});}</script>\n",
              "                <script type=\"text/javascript\">window.PlotlyConfig = {MathJaxConfig: 'local'};</script>\n",
              "        <script src=\"https://cdn.plot.ly/plotly-latest.min.js\"></script>    \n",
              "            <div id=\"2eebf70d-59b4-4629-8d21-9f0eb5e7b88d\" class=\"plotly-graph-div\" style=\"height:525px; width:100%;\"></div>\n",
              "            <script type=\"text/javascript\">\n",
              "                \n",
              "                    window.PLOTLYENV=window.PLOTLYENV || {};\n",
              "                    \n",
              "                if (document.getElementById(\"2eebf70d-59b4-4629-8d21-9f0eb5e7b88d\")) {\n",
              "                    Plotly.newPlot(\n",
              "                        '2eebf70d-59b4-4629-8d21-9f0eb5e7b88d',\n",
              "                        [{\"alignmentgroup\": \"True\", \"hoverlabel\": {\"namelength\": 0}, \"hovertemplate\": \"x=%{x}<br>event_id=%{y}\", \"legendgroup\": \"\", \"marker\": {\"color\": \"#636efa\"}, \"name\": \"\", \"offsetgroup\": \"\", \"orientation\": \"v\", \"showlegend\": false, \"textposition\": \"auto\", \"type\": \"bar\", \"x\": [\"en\", \"in\", \"pt\", \"ru\", \"uk\"], \"xaxis\": \"x\", \"y\": [9851, 262, 22, 17524, 34], \"yaxis\": \"y\"}],\n",
              "                        {\"barmode\": \"relative\", \"legend\": {\"tracegroupgap\": 0}, \"margin\": {\"t\": 60}, \"template\": {\"data\": {\"bar\": [{\"error_x\": {\"color\": \"#2a3f5f\"}, \"error_y\": {\"color\": \"#2a3f5f\"}, \"marker\": {\"line\": {\"color\": \"#E5ECF6\", \"width\": 0.5}}, \"type\": \"bar\"}], \"barpolar\": [{\"marker\": {\"line\": {\"color\": \"#E5ECF6\", \"width\": 0.5}}, \"type\": \"barpolar\"}], \"carpet\": [{\"aaxis\": {\"endlinecolor\": \"#2a3f5f\", \"gridcolor\": \"white\", \"linecolor\": \"white\", \"minorgridcolor\": \"white\", \"startlinecolor\": \"#2a3f5f\"}, \"baxis\": {\"endlinecolor\": \"#2a3f5f\", \"gridcolor\": \"white\", \"linecolor\": \"white\", \"minorgridcolor\": \"white\", \"startlinecolor\": \"#2a3f5f\"}, \"type\": \"carpet\"}], \"choropleth\": [{\"colorbar\": {\"outlinewidth\": 0, \"ticks\": \"\"}, \"type\": \"choropleth\"}], \"contour\": [{\"colorbar\": {\"outlinewidth\": 0, \"ticks\": \"\"}, \"colorscale\": [[0.0, \"#0d0887\"], [0.1111111111111111, \"#46039f\"], [0.2222222222222222, \"#7201a8\"], [0.3333333333333333, \"#9c179e\"], [0.4444444444444444, \"#bd3786\"], [0.5555555555555556, \"#d8576b\"], [0.6666666666666666, \"#ed7953\"], [0.7777777777777778, \"#fb9f3a\"], [0.8888888888888888, \"#fdca26\"], [1.0, \"#f0f921\"]], \"type\": \"contour\"}], \"contourcarpet\": [{\"colorbar\": {\"outlinewidth\": 0, \"ticks\": \"\"}, \"type\": \"contourcarpet\"}], \"heatmap\": [{\"colorbar\": {\"outlinewidth\": 0, \"ticks\": \"\"}, \"colorscale\": [[0.0, \"#0d0887\"], [0.1111111111111111, \"#46039f\"], [0.2222222222222222, \"#7201a8\"], [0.3333333333333333, \"#9c179e\"], [0.4444444444444444, \"#bd3786\"], [0.5555555555555556, \"#d8576b\"], [0.6666666666666666, \"#ed7953\"], [0.7777777777777778, \"#fb9f3a\"], [0.8888888888888888, \"#fdca26\"], [1.0, \"#f0f921\"]], \"type\": \"heatmap\"}], \"heatmapgl\": [{\"colorbar\": {\"outlinewidth\": 0, \"ticks\": \"\"}, \"colorscale\": [[0.0, \"#0d0887\"], [0.1111111111111111, \"#46039f\"], [0.2222222222222222, \"#7201a8\"], [0.3333333333333333, \"#9c179e\"], [0.4444444444444444, \"#bd3786\"], [0.5555555555555556, \"#d8576b\"], [0.6666666666666666, \"#ed7953\"], [0.7777777777777778, \"#fb9f3a\"], [0.8888888888888888, \"#fdca26\"], [1.0, \"#f0f921\"]], \"type\": \"heatmapgl\"}], \"histogram\": [{\"marker\": {\"colorbar\": {\"outlinewidth\": 0, \"ticks\": \"\"}}, \"type\": \"histogram\"}], \"histogram2d\": [{\"colorbar\": {\"outlinewidth\": 0, \"ticks\": \"\"}, \"colorscale\": [[0.0, \"#0d0887\"], [0.1111111111111111, \"#46039f\"], [0.2222222222222222, \"#7201a8\"], [0.3333333333333333, \"#9c179e\"], [0.4444444444444444, \"#bd3786\"], [0.5555555555555556, \"#d8576b\"], [0.6666666666666666, \"#ed7953\"], [0.7777777777777778, \"#fb9f3a\"], [0.8888888888888888, \"#fdca26\"], [1.0, \"#f0f921\"]], \"type\": \"histogram2d\"}], \"histogram2dcontour\": [{\"colorbar\": {\"outlinewidth\": 0, \"ticks\": \"\"}, \"colorscale\": [[0.0, \"#0d0887\"], [0.1111111111111111, \"#46039f\"], [0.2222222222222222, \"#7201a8\"], [0.3333333333333333, \"#9c179e\"], [0.4444444444444444, \"#bd3786\"], [0.5555555555555556, \"#d8576b\"], [0.6666666666666666, \"#ed7953\"], [0.7777777777777778, \"#fb9f3a\"], [0.8888888888888888, \"#fdca26\"], [1.0, \"#f0f921\"]], \"type\": \"histogram2dcontour\"}], \"mesh3d\": [{\"colorbar\": {\"outlinewidth\": 0, \"ticks\": \"\"}, \"type\": \"mesh3d\"}], \"parcoords\": [{\"line\": {\"colorbar\": {\"outlinewidth\": 0, \"ticks\": \"\"}}, \"type\": \"parcoords\"}], \"pie\": [{\"automargin\": true, \"type\": \"pie\"}], \"scatter\": [{\"marker\": {\"colorbar\": {\"outlinewidth\": 0, \"ticks\": \"\"}}, \"type\": \"scatter\"}], \"scatter3d\": [{\"line\": {\"colorbar\": {\"outlinewidth\": 0, \"ticks\": \"\"}}, \"marker\": {\"colorbar\": {\"outlinewidth\": 0, \"ticks\": \"\"}}, \"type\": \"scatter3d\"}], \"scattercarpet\": [{\"marker\": {\"colorbar\": {\"outlinewidth\": 0, \"ticks\": \"\"}}, \"type\": \"scattercarpet\"}], \"scattergeo\": [{\"marker\": {\"colorbar\": {\"outlinewidth\": 0, \"ticks\": \"\"}}, \"type\": \"scattergeo\"}], \"scattergl\": [{\"marker\": {\"colorbar\": {\"outlinewidth\": 0, \"ticks\": \"\"}}, \"type\": \"scattergl\"}], \"scattermapbox\": [{\"marker\": {\"colorbar\": {\"outlinewidth\": 0, \"ticks\": \"\"}}, \"type\": \"scattermapbox\"}], \"scatterpolar\": [{\"marker\": {\"colorbar\": {\"outlinewidth\": 0, \"ticks\": \"\"}}, \"type\": \"scatterpolar\"}], \"scatterpolargl\": [{\"marker\": {\"colorbar\": {\"outlinewidth\": 0, \"ticks\": \"\"}}, \"type\": \"scatterpolargl\"}], \"scatterternary\": [{\"marker\": {\"colorbar\": {\"outlinewidth\": 0, \"ticks\": \"\"}}, \"type\": \"scatterternary\"}], \"surface\": [{\"colorbar\": {\"outlinewidth\": 0, \"ticks\": \"\"}, \"colorscale\": [[0.0, \"#0d0887\"], [0.1111111111111111, \"#46039f\"], [0.2222222222222222, \"#7201a8\"], [0.3333333333333333, \"#9c179e\"], [0.4444444444444444, \"#bd3786\"], [0.5555555555555556, \"#d8576b\"], [0.6666666666666666, \"#ed7953\"], [0.7777777777777778, \"#fb9f3a\"], [0.8888888888888888, \"#fdca26\"], [1.0, \"#f0f921\"]], \"type\": \"surface\"}], \"table\": [{\"cells\": {\"fill\": {\"color\": \"#EBF0F8\"}, \"line\": {\"color\": \"white\"}}, \"header\": {\"fill\": {\"color\": \"#C8D4E3\"}, \"line\": {\"color\": \"white\"}}, \"type\": \"table\"}]}, \"layout\": {\"annotationdefaults\": {\"arrowcolor\": \"#2a3f5f\", \"arrowhead\": 0, \"arrowwidth\": 1}, \"coloraxis\": {\"colorbar\": {\"outlinewidth\": 0, \"ticks\": \"\"}}, \"colorscale\": {\"diverging\": [[0, \"#8e0152\"], [0.1, \"#c51b7d\"], [0.2, \"#de77ae\"], [0.3, \"#f1b6da\"], [0.4, \"#fde0ef\"], [0.5, \"#f7f7f7\"], [0.6, \"#e6f5d0\"], [0.7, \"#b8e186\"], [0.8, \"#7fbc41\"], [0.9, \"#4d9221\"], [1, \"#276419\"]], \"sequential\": [[0.0, \"#0d0887\"], [0.1111111111111111, \"#46039f\"], [0.2222222222222222, \"#7201a8\"], [0.3333333333333333, \"#9c179e\"], [0.4444444444444444, \"#bd3786\"], [0.5555555555555556, \"#d8576b\"], [0.6666666666666666, \"#ed7953\"], [0.7777777777777778, \"#fb9f3a\"], [0.8888888888888888, \"#fdca26\"], [1.0, \"#f0f921\"]], \"sequentialminus\": [[0.0, \"#0d0887\"], [0.1111111111111111, \"#46039f\"], [0.2222222222222222, \"#7201a8\"], [0.3333333333333333, \"#9c179e\"], [0.4444444444444444, \"#bd3786\"], [0.5555555555555556, \"#d8576b\"], [0.6666666666666666, \"#ed7953\"], [0.7777777777777778, \"#fb9f3a\"], [0.8888888888888888, \"#fdca26\"], [1.0, \"#f0f921\"]]}, \"colorway\": [\"#636efa\", \"#EF553B\", \"#00cc96\", \"#ab63fa\", \"#FFA15A\", \"#19d3f3\", \"#FF6692\", \"#B6E880\", \"#FF97FF\", \"#FECB52\"], \"font\": {\"color\": \"#2a3f5f\"}, \"geo\": {\"bgcolor\": \"white\", \"lakecolor\": \"white\", \"landcolor\": \"#E5ECF6\", \"showlakes\": true, \"showland\": true, \"subunitcolor\": \"white\"}, \"hoverlabel\": {\"align\": \"left\"}, \"hovermode\": \"closest\", \"mapbox\": {\"style\": \"light\"}, \"paper_bgcolor\": \"white\", \"plot_bgcolor\": \"#E5ECF6\", \"polar\": {\"angularaxis\": {\"gridcolor\": \"white\", \"linecolor\": \"white\", \"ticks\": \"\"}, \"bgcolor\": \"#E5ECF6\", \"radialaxis\": {\"gridcolor\": \"white\", \"linecolor\": \"white\", \"ticks\": \"\"}}, \"scene\": {\"xaxis\": {\"backgroundcolor\": \"#E5ECF6\", \"gridcolor\": \"white\", \"gridwidth\": 2, \"linecolor\": \"white\", \"showbackground\": true, \"ticks\": \"\", \"zerolinecolor\": \"white\"}, \"yaxis\": {\"backgroundcolor\": \"#E5ECF6\", \"gridcolor\": \"white\", \"gridwidth\": 2, \"linecolor\": \"white\", \"showbackground\": true, \"ticks\": \"\", \"zerolinecolor\": \"white\"}, \"zaxis\": {\"backgroundcolor\": \"#E5ECF6\", \"gridcolor\": \"white\", \"gridwidth\": 2, \"linecolor\": \"white\", \"showbackground\": true, \"ticks\": \"\", \"zerolinecolor\": \"white\"}}, \"shapedefaults\": {\"line\": {\"color\": \"#2a3f5f\"}}, \"ternary\": {\"aaxis\": {\"gridcolor\": \"white\", \"linecolor\": \"white\", \"ticks\": \"\"}, \"baxis\": {\"gridcolor\": \"white\", \"linecolor\": \"white\", \"ticks\": \"\"}, \"bgcolor\": \"#E5ECF6\", \"caxis\": {\"gridcolor\": \"white\", \"linecolor\": \"white\", \"ticks\": \"\"}}, \"title\": {\"x\": 0.05}, \"xaxis\": {\"automargin\": true, \"gridcolor\": \"white\", \"linecolor\": \"white\", \"ticks\": \"\", \"title\": {\"standoff\": 15}, \"zerolinecolor\": \"white\", \"zerolinewidth\": 2}, \"yaxis\": {\"automargin\": true, \"gridcolor\": \"white\", \"linecolor\": \"white\", \"ticks\": \"\", \"title\": {\"standoff\": 15}, \"zerolinecolor\": \"white\", \"zerolinewidth\": 2}}}, \"xaxis\": {\"anchor\": \"y\", \"domain\": [0.0, 1.0], \"title\": {\"text\": \"x\"}}, \"yaxis\": {\"anchor\": \"x\", \"domain\": [0.0, 1.0], \"title\": {\"text\": \"event_id\"}}},\n",
              "                        {\"responsive\": true}\n",
              "                    ).then(function(){\n",
              "                            \n",
              "var gd = document.getElementById('2eebf70d-59b4-4629-8d21-9f0eb5e7b88d');\n",
              "var x = new MutationObserver(function (mutations, observer) {{\n",
              "        var display = window.getComputedStyle(gd).display;\n",
              "        if (!display || display === 'none') {{\n",
              "            console.log([gd, 'removed!']);\n",
              "            Plotly.purge(gd);\n",
              "            observer.disconnect();\n",
              "        }}\n",
              "}});\n",
              "\n",
              "// Listen for the removal of the full notebook cells\n",
              "var notebookContainer = gd.closest('#notebook-container');\n",
              "if (notebookContainer) {{\n",
              "    x.observe(notebookContainer, {childList: true});\n",
              "}}\n",
              "\n",
              "// Listen for the clearing of the current output cell\n",
              "var outputEl = gd.closest('.output');\n",
              "if (outputEl) {{\n",
              "    x.observe(outputEl, {childList: true});\n",
              "}}\n",
              "\n",
              "                        })\n",
              "                };\n",
              "                \n",
              "            </script>\n",
              "        </div>\n",
              "</body>\n",
              "</html>"
            ]
          },
          "metadata": {
            "tags": []
          }
        }
      ]
    },
    {
      "cell_type": "code",
      "metadata": {
        "colab": {
          "base_uri": "https://localhost:8080/",
          "height": 233
        },
        "id": "iR0MzlGXczKx",
        "outputId": "da88c249-40ce-434b-c671-df17eeaa9d28"
      },
      "source": [
        "grouped_det_likes"
      ],
      "execution_count": 132,
      "outputs": [
        {
          "output_type": "execute_result",
          "data": {
            "text/html": [
              "<div>\n",
              "<style scoped>\n",
              "    .dataframe tbody tr th:only-of-type {\n",
              "        vertical-align: middle;\n",
              "    }\n",
              "\n",
              "    .dataframe tbody tr th {\n",
              "        vertical-align: top;\n",
              "    }\n",
              "\n",
              "    .dataframe thead th {\n",
              "        text-align: right;\n",
              "    }\n",
              "</style>\n",
              "<table border=\"1\" class=\"dataframe\">\n",
              "  <thead>\n",
              "    <tr style=\"text-align: right;\">\n",
              "      <th></th>\n",
              "      <th>event_id</th>\n",
              "    </tr>\n",
              "    <tr>\n",
              "      <th>interface_lang</th>\n",
              "      <th></th>\n",
              "    </tr>\n",
              "  </thead>\n",
              "  <tbody>\n",
              "    <tr>\n",
              "      <th>en</th>\n",
              "      <td>7285</td>\n",
              "    </tr>\n",
              "    <tr>\n",
              "      <th>in</th>\n",
              "      <td>229</td>\n",
              "    </tr>\n",
              "    <tr>\n",
              "      <th>pt</th>\n",
              "      <td>20</td>\n",
              "    </tr>\n",
              "    <tr>\n",
              "      <th>ru</th>\n",
              "      <td>15157</td>\n",
              "    </tr>\n",
              "    <tr>\n",
              "      <th>uk</th>\n",
              "      <td>32</td>\n",
              "    </tr>\n",
              "  </tbody>\n",
              "</table>\n",
              "</div>"
            ],
            "text/plain": [
              "                event_id\n",
              "interface_lang          \n",
              "en                  7285\n",
              "in                   229\n",
              "pt                    20\n",
              "ru                 15157\n",
              "uk                    32"
            ]
          },
          "metadata": {
            "tags": []
          },
          "execution_count": 132
        }
      ]
    },
    {
      "cell_type": "code",
      "metadata": {
        "colab": {
          "base_uri": "https://localhost:8080/",
          "height": 233
        },
        "id": "5SMDIjt6bG7s",
        "outputId": "e947d8ee-27a7-4f22-acaa-b7812abaf6dc"
      },
      "source": [
        "grouped_det_dislikes"
      ],
      "execution_count": 133,
      "outputs": [
        {
          "output_type": "execute_result",
          "data": {
            "text/html": [
              "<div>\n",
              "<style scoped>\n",
              "    .dataframe tbody tr th:only-of-type {\n",
              "        vertical-align: middle;\n",
              "    }\n",
              "\n",
              "    .dataframe tbody tr th {\n",
              "        vertical-align: top;\n",
              "    }\n",
              "\n",
              "    .dataframe thead th {\n",
              "        text-align: right;\n",
              "    }\n",
              "</style>\n",
              "<table border=\"1\" class=\"dataframe\">\n",
              "  <thead>\n",
              "    <tr style=\"text-align: right;\">\n",
              "      <th></th>\n",
              "      <th>event_id</th>\n",
              "    </tr>\n",
              "    <tr>\n",
              "      <th>interface_lang</th>\n",
              "      <th></th>\n",
              "    </tr>\n",
              "  </thead>\n",
              "  <tbody>\n",
              "    <tr>\n",
              "      <th>en</th>\n",
              "      <td>5839</td>\n",
              "    </tr>\n",
              "    <tr>\n",
              "      <th>in</th>\n",
              "      <td>190</td>\n",
              "    </tr>\n",
              "    <tr>\n",
              "      <th>pt</th>\n",
              "      <td>17</td>\n",
              "    </tr>\n",
              "    <tr>\n",
              "      <th>ru</th>\n",
              "      <td>15404</td>\n",
              "    </tr>\n",
              "    <tr>\n",
              "      <th>uk</th>\n",
              "      <td>31</td>\n",
              "    </tr>\n",
              "  </tbody>\n",
              "</table>\n",
              "</div>"
            ],
            "text/plain": [
              "                event_id\n",
              "interface_lang          \n",
              "en                  5839\n",
              "in                   190\n",
              "pt                    17\n",
              "ru                 15404\n",
              "uk                    31"
            ]
          },
          "metadata": {
            "tags": []
          },
          "execution_count": 133
        }
      ]
    },
    {
      "cell_type": "code",
      "metadata": {
        "colab": {
          "base_uri": "https://localhost:8080/",
          "height": 233
        },
        "id": "QxTE_EM2bG0n",
        "outputId": "50134bbb-d83c-4a90-b40e-df2625a6b527"
      },
      "source": [
        "grouped_det_likes / grouped_det_dislikes"
      ],
      "execution_count": 134,
      "outputs": [
        {
          "output_type": "execute_result",
          "data": {
            "text/html": [
              "<div>\n",
              "<style scoped>\n",
              "    .dataframe tbody tr th:only-of-type {\n",
              "        vertical-align: middle;\n",
              "    }\n",
              "\n",
              "    .dataframe tbody tr th {\n",
              "        vertical-align: top;\n",
              "    }\n",
              "\n",
              "    .dataframe thead th {\n",
              "        text-align: right;\n",
              "    }\n",
              "</style>\n",
              "<table border=\"1\" class=\"dataframe\">\n",
              "  <thead>\n",
              "    <tr style=\"text-align: right;\">\n",
              "      <th></th>\n",
              "      <th>event_id</th>\n",
              "    </tr>\n",
              "    <tr>\n",
              "      <th>interface_lang</th>\n",
              "      <th></th>\n",
              "    </tr>\n",
              "  </thead>\n",
              "  <tbody>\n",
              "    <tr>\n",
              "      <th>en</th>\n",
              "      <td>1.247645</td>\n",
              "    </tr>\n",
              "    <tr>\n",
              "      <th>in</th>\n",
              "      <td>1.205263</td>\n",
              "    </tr>\n",
              "    <tr>\n",
              "      <th>pt</th>\n",
              "      <td>1.176471</td>\n",
              "    </tr>\n",
              "    <tr>\n",
              "      <th>ru</th>\n",
              "      <td>0.983965</td>\n",
              "    </tr>\n",
              "    <tr>\n",
              "      <th>uk</th>\n",
              "      <td>1.032258</td>\n",
              "    </tr>\n",
              "  </tbody>\n",
              "</table>\n",
              "</div>"
            ],
            "text/plain": [
              "                event_id\n",
              "interface_lang          \n",
              "en              1.247645\n",
              "in              1.205263\n",
              "pt              1.176471\n",
              "ru              0.983965\n",
              "uk              1.032258"
            ]
          },
          "metadata": {
            "tags": []
          },
          "execution_count": 134
        }
      ]
    },
    {
      "cell_type": "code",
      "metadata": {
        "colab": {
          "base_uri": "https://localhost:8080/",
          "height": 233
        },
        "id": "YN0AmAv7cZxo",
        "outputId": "24a1a3ee-1767-4391-ebd3-8e356ae459fc"
      },
      "source": [
        "grouped_det_reactions"
      ],
      "execution_count": 135,
      "outputs": [
        {
          "output_type": "execute_result",
          "data": {
            "text/html": [
              "<div>\n",
              "<style scoped>\n",
              "    .dataframe tbody tr th:only-of-type {\n",
              "        vertical-align: middle;\n",
              "    }\n",
              "\n",
              "    .dataframe tbody tr th {\n",
              "        vertical-align: top;\n",
              "    }\n",
              "\n",
              "    .dataframe thead th {\n",
              "        text-align: right;\n",
              "    }\n",
              "</style>\n",
              "<table border=\"1\" class=\"dataframe\">\n",
              "  <thead>\n",
              "    <tr style=\"text-align: right;\">\n",
              "      <th></th>\n",
              "      <th>event_id</th>\n",
              "    </tr>\n",
              "    <tr>\n",
              "      <th>interface_lang</th>\n",
              "      <th></th>\n",
              "    </tr>\n",
              "  </thead>\n",
              "  <tbody>\n",
              "    <tr>\n",
              "      <th>en</th>\n",
              "      <td>9851</td>\n",
              "    </tr>\n",
              "    <tr>\n",
              "      <th>in</th>\n",
              "      <td>262</td>\n",
              "    </tr>\n",
              "    <tr>\n",
              "      <th>pt</th>\n",
              "      <td>22</td>\n",
              "    </tr>\n",
              "    <tr>\n",
              "      <th>ru</th>\n",
              "      <td>17524</td>\n",
              "    </tr>\n",
              "    <tr>\n",
              "      <th>uk</th>\n",
              "      <td>34</td>\n",
              "    </tr>\n",
              "  </tbody>\n",
              "</table>\n",
              "</div>"
            ],
            "text/plain": [
              "                event_id\n",
              "interface_lang          \n",
              "en                  9851\n",
              "in                   262\n",
              "pt                    22\n",
              "ru                 17524\n",
              "uk                    34"
            ]
          },
          "metadata": {
            "tags": []
          },
          "execution_count": 135
        }
      ]
    },
    {
      "cell_type": "markdown",
      "metadata": {
        "id": "OyhWP3L0avQX"
      },
      "source": [
        "Выводы, которые можно сделать из проделанной работы из имеющихся данных:\r\n",
        "- В наблюдении кол-во людей с RU интерфейсом преобладает над иными значениями в ~3 раза, но это не означает, что они более активны\r\n",
        "- Люди с EN интерфейсом предпочитают лайкать мемы (L/D показатель = 1.28 для EN и ~0.98 для RU)"
      ]
    },
    {
      "cell_type": "markdown",
      "metadata": {
        "id": "VZ37kIc-o3QM"
      },
      "source": [
        "# ДЗ\r\n",
        "- Построить гипотезы (2-3 штуки)\r\n",
        "- Датасет + модель (какой мем какому пользователю зайдет)\r\n",
        "- Реком система в цикле(как вариант) будет смотреть каждый мем и классифицировать на 1 или 0\r\n",
        "- Презентация"
      ]
    },
    {
      "cell_type": "code",
      "metadata": {
        "colab": {
          "base_uri": "https://localhost:8080/"
        },
        "id": "Em4GZJl7ncMv",
        "outputId": "08bb476d-b0b2-4506-904f-d77d46c4ffc5"
      },
      "source": [
        "meme.meme_type.value_counts()"
      ],
      "execution_count": 136,
      "outputs": [
        {
          "output_type": "execute_result",
          "data": {
            "text/plain": [
              "photo        79066\n",
              "video         6023\n",
              "animation     3467\n",
              "Name: meme_type, dtype: int64"
            ]
          },
          "metadata": {
            "tags": []
          },
          "execution_count": 136
        }
      ]
    },
    {
      "cell_type": "markdown",
      "metadata": {
        "id": "rerdt2X9zFuS"
      },
      "source": [
        "## Гипотеза №1: отношение l/d у мужчин ниже, чем у женщин"
      ]
    },
    {
      "cell_type": "code",
      "metadata": {
        "id": "KQBgpg1VpvaI"
      },
      "source": [
        "data_for_gender = event[['reaction_id', 'user_id']].copy()"
      ],
      "execution_count": 137,
      "outputs": []
    },
    {
      "cell_type": "code",
      "metadata": {
        "colab": {
          "base_uri": "https://localhost:8080/",
          "height": 416
        },
        "id": "_wDR64GIzO-T",
        "outputId": "d941509b-167f-4afa-c0ba-cbfbaa7c6126"
      },
      "source": [
        "data_for_gender"
      ],
      "execution_count": 138,
      "outputs": [
        {
          "output_type": "execute_result",
          "data": {
            "text/html": [
              "<div>\n",
              "<style scoped>\n",
              "    .dataframe tbody tr th:only-of-type {\n",
              "        vertical-align: middle;\n",
              "    }\n",
              "\n",
              "    .dataframe tbody tr th {\n",
              "        vertical-align: top;\n",
              "    }\n",
              "\n",
              "    .dataframe thead th {\n",
              "        text-align: right;\n",
              "    }\n",
              "</style>\n",
              "<table border=\"1\" class=\"dataframe\">\n",
              "  <thead>\n",
              "    <tr style=\"text-align: right;\">\n",
              "      <th></th>\n",
              "      <th>reaction_id</th>\n",
              "      <th>user_id</th>\n",
              "    </tr>\n",
              "  </thead>\n",
              "  <tbody>\n",
              "    <tr>\n",
              "      <th>0</th>\n",
              "      <td>1.0</td>\n",
              "      <td>1153946021</td>\n",
              "    </tr>\n",
              "    <tr>\n",
              "      <th>1</th>\n",
              "      <td>2.0</td>\n",
              "      <td>285739883</td>\n",
              "    </tr>\n",
              "    <tr>\n",
              "      <th>2</th>\n",
              "      <td>1.0</td>\n",
              "      <td>751332478</td>\n",
              "    </tr>\n",
              "    <tr>\n",
              "      <th>3</th>\n",
              "      <td>1.0</td>\n",
              "      <td>914220296</td>\n",
              "    </tr>\n",
              "    <tr>\n",
              "      <th>4</th>\n",
              "      <td>1.0</td>\n",
              "      <td>1171473137</td>\n",
              "    </tr>\n",
              "    <tr>\n",
              "      <th>...</th>\n",
              "      <td>...</td>\n",
              "      <td>...</td>\n",
              "    </tr>\n",
              "    <tr>\n",
              "      <th>9958106</th>\n",
              "      <td>2.0</td>\n",
              "      <td>384165988</td>\n",
              "    </tr>\n",
              "    <tr>\n",
              "      <th>9958107</th>\n",
              "      <td>1.0</td>\n",
              "      <td>408619506</td>\n",
              "    </tr>\n",
              "    <tr>\n",
              "      <th>9958108</th>\n",
              "      <td>2.0</td>\n",
              "      <td>527989600</td>\n",
              "    </tr>\n",
              "    <tr>\n",
              "      <th>9958109</th>\n",
              "      <td>1.0</td>\n",
              "      <td>213536739</td>\n",
              "    </tr>\n",
              "    <tr>\n",
              "      <th>9958110</th>\n",
              "      <td>1.0</td>\n",
              "      <td>1171473137</td>\n",
              "    </tr>\n",
              "  </tbody>\n",
              "</table>\n",
              "<p>9958111 rows × 2 columns</p>\n",
              "</div>"
            ],
            "text/plain": [
              "         reaction_id     user_id\n",
              "0                1.0  1153946021\n",
              "1                2.0   285739883\n",
              "2                1.0   751332478\n",
              "3                1.0   914220296\n",
              "4                1.0  1171473137\n",
              "...              ...         ...\n",
              "9958106          2.0   384165988\n",
              "9958107          1.0   408619506\n",
              "9958108          2.0   527989600\n",
              "9958109          1.0   213536739\n",
              "9958110          1.0  1171473137\n",
              "\n",
              "[9958111 rows x 2 columns]"
            ]
          },
          "metadata": {
            "tags": []
          },
          "execution_count": 138
        }
      ]
    },
    {
      "cell_type": "code",
      "metadata": {
        "id": "Q5ptG8WYzubu"
      },
      "source": [
        "users = user[['user_id', 'gender']].copy()"
      ],
      "execution_count": 139,
      "outputs": []
    },
    {
      "cell_type": "code",
      "metadata": {
        "colab": {
          "base_uri": "https://localhost:8080/",
          "height": 416
        },
        "id": "Rl_LOq-Fk5it",
        "outputId": "aa595c15-931a-4c8b-8ff0-e5f6b5ee5da6"
      },
      "source": [
        "users"
      ],
      "execution_count": 140,
      "outputs": [
        {
          "output_type": "execute_result",
          "data": {
            "text/html": [
              "<div>\n",
              "<style scoped>\n",
              "    .dataframe tbody tr th:only-of-type {\n",
              "        vertical-align: middle;\n",
              "    }\n",
              "\n",
              "    .dataframe tbody tr th {\n",
              "        vertical-align: top;\n",
              "    }\n",
              "\n",
              "    .dataframe thead th {\n",
              "        text-align: right;\n",
              "    }\n",
              "</style>\n",
              "<table border=\"1\" class=\"dataframe\">\n",
              "  <thead>\n",
              "    <tr style=\"text-align: right;\">\n",
              "      <th></th>\n",
              "      <th>user_id</th>\n",
              "      <th>gender</th>\n",
              "    </tr>\n",
              "  </thead>\n",
              "  <tbody>\n",
              "    <tr>\n",
              "      <th>0</th>\n",
              "      <td>1235209430</td>\n",
              "      <td>NaN</td>\n",
              "    </tr>\n",
              "    <tr>\n",
              "      <th>1</th>\n",
              "      <td>113584040</td>\n",
              "      <td>N</td>\n",
              "    </tr>\n",
              "    <tr>\n",
              "      <th>2</th>\n",
              "      <td>1142713343</td>\n",
              "      <td>NaN</td>\n",
              "    </tr>\n",
              "    <tr>\n",
              "      <th>3</th>\n",
              "      <td>187967374</td>\n",
              "      <td>M</td>\n",
              "    </tr>\n",
              "    <tr>\n",
              "      <th>4</th>\n",
              "      <td>923016092</td>\n",
              "      <td>NaN</td>\n",
              "    </tr>\n",
              "    <tr>\n",
              "      <th>...</th>\n",
              "      <td>...</td>\n",
              "      <td>...</td>\n",
              "    </tr>\n",
              "    <tr>\n",
              "      <th>28014</th>\n",
              "      <td>286288293</td>\n",
              "      <td>NaN</td>\n",
              "    </tr>\n",
              "    <tr>\n",
              "      <th>28015</th>\n",
              "      <td>535976045</td>\n",
              "      <td>M</td>\n",
              "    </tr>\n",
              "    <tr>\n",
              "      <th>28016</th>\n",
              "      <td>25657063</td>\n",
              "      <td>M</td>\n",
              "    </tr>\n",
              "    <tr>\n",
              "      <th>28017</th>\n",
              "      <td>210046223</td>\n",
              "      <td>NaN</td>\n",
              "    </tr>\n",
              "    <tr>\n",
              "      <th>28018</th>\n",
              "      <td>715409940</td>\n",
              "      <td>NaN</td>\n",
              "    </tr>\n",
              "  </tbody>\n",
              "</table>\n",
              "<p>28019 rows × 2 columns</p>\n",
              "</div>"
            ],
            "text/plain": [
              "          user_id gender\n",
              "0      1235209430    NaN\n",
              "1       113584040      N\n",
              "2      1142713343    NaN\n",
              "3       187967374      M\n",
              "4       923016092    NaN\n",
              "...           ...    ...\n",
              "28014   286288293    NaN\n",
              "28015   535976045      M\n",
              "28016    25657063      M\n",
              "28017   210046223    NaN\n",
              "28018   715409940    NaN\n",
              "\n",
              "[28019 rows x 2 columns]"
            ]
          },
          "metadata": {
            "tags": []
          },
          "execution_count": 140
        }
      ]
    },
    {
      "cell_type": "code",
      "metadata": {
        "colab": {
          "base_uri": "https://localhost:8080/"
        },
        "id": "OoB6HxXA0h-_",
        "outputId": "420a77a2-61be-4b97-cf53-a071accc4a5b"
      },
      "source": [
        "users['gender'].value_counts()"
      ],
      "execution_count": 141,
      "outputs": [
        {
          "output_type": "execute_result",
          "data": {
            "text/plain": [
              "M    2865\n",
              "N    2025\n",
              "F    1161\n",
              "Name: gender, dtype: int64"
            ]
          },
          "metadata": {
            "tags": []
          },
          "execution_count": 141
        }
      ]
    },
    {
      "cell_type": "code",
      "metadata": {
        "id": "QOcLA0sZkt-z"
      },
      "source": [
        "inner = pd.merge(users, data_for_gender, on='user_id')"
      ],
      "execution_count": 142,
      "outputs": []
    },
    {
      "cell_type": "code",
      "metadata": {
        "id": "B1Gynrxgk9JO"
      },
      "source": [
        "users_likes_w_gender = inner[inner['reaction_id'] == 1].copy()\r\n",
        "users_dislikes_w_gender = inner[inner['reaction_id'] == 2].copy()\r\n"
      ],
      "execution_count": 143,
      "outputs": []
    },
    {
      "cell_type": "code",
      "metadata": {
        "colab": {
          "base_uri": "https://localhost:8080/",
          "height": 416
        },
        "id": "nyGPRR60l1ta",
        "outputId": "01816777-e617-4634-d2d4-94e67e1cb0b5"
      },
      "source": [
        "users_likes_w_gender"
      ],
      "execution_count": 144,
      "outputs": [
        {
          "output_type": "execute_result",
          "data": {
            "text/html": [
              "<div>\n",
              "<style scoped>\n",
              "    .dataframe tbody tr th:only-of-type {\n",
              "        vertical-align: middle;\n",
              "    }\n",
              "\n",
              "    .dataframe tbody tr th {\n",
              "        vertical-align: top;\n",
              "    }\n",
              "\n",
              "    .dataframe thead th {\n",
              "        text-align: right;\n",
              "    }\n",
              "</style>\n",
              "<table border=\"1\" class=\"dataframe\">\n",
              "  <thead>\n",
              "    <tr style=\"text-align: right;\">\n",
              "      <th></th>\n",
              "      <th>user_id</th>\n",
              "      <th>gender</th>\n",
              "      <th>reaction_id</th>\n",
              "    </tr>\n",
              "  </thead>\n",
              "  <tbody>\n",
              "    <tr>\n",
              "      <th>0</th>\n",
              "      <td>1235209430</td>\n",
              "      <td>NaN</td>\n",
              "      <td>1.0</td>\n",
              "    </tr>\n",
              "    <tr>\n",
              "      <th>1</th>\n",
              "      <td>1235209430</td>\n",
              "      <td>NaN</td>\n",
              "      <td>1.0</td>\n",
              "    </tr>\n",
              "    <tr>\n",
              "      <th>12</th>\n",
              "      <td>187967374</td>\n",
              "      <td>M</td>\n",
              "      <td>1.0</td>\n",
              "    </tr>\n",
              "    <tr>\n",
              "      <th>20</th>\n",
              "      <td>187967374</td>\n",
              "      <td>M</td>\n",
              "      <td>1.0</td>\n",
              "    </tr>\n",
              "    <tr>\n",
              "      <th>29</th>\n",
              "      <td>923016092</td>\n",
              "      <td>NaN</td>\n",
              "      <td>1.0</td>\n",
              "    </tr>\n",
              "    <tr>\n",
              "      <th>...</th>\n",
              "      <td>...</td>\n",
              "      <td>...</td>\n",
              "      <td>...</td>\n",
              "    </tr>\n",
              "    <tr>\n",
              "      <th>9942980</th>\n",
              "      <td>715409940</td>\n",
              "      <td>NaN</td>\n",
              "      <td>1.0</td>\n",
              "    </tr>\n",
              "    <tr>\n",
              "      <th>9942982</th>\n",
              "      <td>715409940</td>\n",
              "      <td>NaN</td>\n",
              "      <td>1.0</td>\n",
              "    </tr>\n",
              "    <tr>\n",
              "      <th>9942983</th>\n",
              "      <td>715409940</td>\n",
              "      <td>NaN</td>\n",
              "      <td>1.0</td>\n",
              "    </tr>\n",
              "    <tr>\n",
              "      <th>9942984</th>\n",
              "      <td>715409940</td>\n",
              "      <td>NaN</td>\n",
              "      <td>1.0</td>\n",
              "    </tr>\n",
              "    <tr>\n",
              "      <th>9942985</th>\n",
              "      <td>715409940</td>\n",
              "      <td>NaN</td>\n",
              "      <td>1.0</td>\n",
              "    </tr>\n",
              "  </tbody>\n",
              "</table>\n",
              "<p>4639427 rows × 3 columns</p>\n",
              "</div>"
            ],
            "text/plain": [
              "            user_id gender  reaction_id\n",
              "0        1235209430    NaN          1.0\n",
              "1        1235209430    NaN          1.0\n",
              "12        187967374      M          1.0\n",
              "20        187967374      M          1.0\n",
              "29        923016092    NaN          1.0\n",
              "...             ...    ...          ...\n",
              "9942980   715409940    NaN          1.0\n",
              "9942982   715409940    NaN          1.0\n",
              "9942983   715409940    NaN          1.0\n",
              "9942984   715409940    NaN          1.0\n",
              "9942985   715409940    NaN          1.0\n",
              "\n",
              "[4639427 rows x 3 columns]"
            ]
          },
          "metadata": {
            "tags": []
          },
          "execution_count": 144
        }
      ]
    },
    {
      "cell_type": "code",
      "metadata": {
        "id": "9LgKIpkjlwew"
      },
      "source": [
        "M_likes = users_likes_w_gender[users_likes_w_gender['gender'] == 'M'].copy()\r\n",
        "F_likes = users_likes_w_gender[users_likes_w_gender['gender'] == 'F'].copy()\r\n",
        "M_dislikes = users_dislikes_w_gender[users_dislikes_w_gender['gender'] == 'M'].copy()\r\n",
        "F_dislikes = users_dislikes_w_gender[users_dislikes_w_gender['gender'] == 'F'].copy()"
      ],
      "execution_count": 145,
      "outputs": []
    },
    {
      "cell_type": "code",
      "metadata": {
        "colab": {
          "base_uri": "https://localhost:8080/",
          "height": 110
        },
        "id": "pMErjPEJnJ9A",
        "outputId": "3a059231-c75f-4ad0-d34c-92656b9737c8"
      },
      "source": [
        "MF_values_dict = {'M/F_ratio':[len(M_likes) / len (M_dislikes), len(F_likes) / len (F_dislikes)]}\r\n",
        "MF_values = pd.DataFrame(MF_values_dict)\r\n",
        "MF_values.rename(index={0:'M',1:'F'}, inplace = True)\r\n",
        "MF_values"
      ],
      "execution_count": 146,
      "outputs": [
        {
          "output_type": "execute_result",
          "data": {
            "text/html": [
              "<div>\n",
              "<style scoped>\n",
              "    .dataframe tbody tr th:only-of-type {\n",
              "        vertical-align: middle;\n",
              "    }\n",
              "\n",
              "    .dataframe tbody tr th {\n",
              "        vertical-align: top;\n",
              "    }\n",
              "\n",
              "    .dataframe thead th {\n",
              "        text-align: right;\n",
              "    }\n",
              "</style>\n",
              "<table border=\"1\" class=\"dataframe\">\n",
              "  <thead>\n",
              "    <tr style=\"text-align: right;\">\n",
              "      <th></th>\n",
              "      <th>M/F_ratio</th>\n",
              "    </tr>\n",
              "  </thead>\n",
              "  <tbody>\n",
              "    <tr>\n",
              "      <th>M</th>\n",
              "      <td>1.057647</td>\n",
              "    </tr>\n",
              "    <tr>\n",
              "      <th>F</th>\n",
              "      <td>1.501370</td>\n",
              "    </tr>\n",
              "  </tbody>\n",
              "</table>\n",
              "</div>"
            ],
            "text/plain": [
              "   M/F_ratio\n",
              "M   1.057647\n",
              "F   1.501370"
            ]
          },
          "metadata": {
            "tags": []
          },
          "execution_count": 146
        }
      ]
    },
    {
      "cell_type": "markdown",
      "metadata": {
        "id": "FIk0KSJoyBo_"
      },
      "source": [
        "Как и предполагалось, L/D отношение у мужчин ниже, чем у женщин. Возможно, это связано с тем, что мужчины в целом как юзеры более активны чем женщины. Возможно, мужчины в Интернете более категоричны и при недовольстве чаще ставят дизлайк, когда представительницы женского пола просто проигнорируют и пойдут дальше  "
      ]
    },
    {
      "cell_type": "markdown",
      "metadata": {
        "id": "_yKMoxBqyBmO"
      },
      "source": [
        ""
      ]
    },
    {
      "cell_type": "markdown",
      "metadata": {
        "id": "53Tb2oKB0ZDU"
      },
      "source": [
        "## Гипотеза №2: фото мемы в среднем лайкают больше, чем мемы иного типа"
      ]
    },
    {
      "cell_type": "code",
      "metadata": {
        "colab": {
          "base_uri": "https://localhost:8080/"
        },
        "id": "anuKQwBV0f9l",
        "outputId": "dc233431-7a08-43b4-8ceb-17386db7354e"
      },
      "source": [
        "meme.meme_type.value_counts()"
      ],
      "execution_count": 147,
      "outputs": [
        {
          "output_type": "execute_result",
          "data": {
            "text/plain": [
              "photo        79066\n",
              "video         6023\n",
              "animation     3467\n",
              "Name: meme_type, dtype: int64"
            ]
          },
          "metadata": {
            "tags": []
          },
          "execution_count": 147
        }
      ]
    },
    {
      "cell_type": "code",
      "metadata": {
        "colab": {
          "base_uri": "https://localhost:8080/",
          "height": 172
        },
        "id": "2bbQEQmW0tch",
        "outputId": "96703b60-08b9-46f1-909b-b3a0ab75122f"
      },
      "source": [
        "detailed_meme = meme[['meme_type', 'likes', 'dislikes']].copy()\r\n",
        "detailed_meme.groupby('meme_type').mean()"
      ],
      "execution_count": 148,
      "outputs": [
        {
          "output_type": "execute_result",
          "data": {
            "text/html": [
              "<div>\n",
              "<style scoped>\n",
              "    .dataframe tbody tr th:only-of-type {\n",
              "        vertical-align: middle;\n",
              "    }\n",
              "\n",
              "    .dataframe tbody tr th {\n",
              "        vertical-align: top;\n",
              "    }\n",
              "\n",
              "    .dataframe thead th {\n",
              "        text-align: right;\n",
              "    }\n",
              "</style>\n",
              "<table border=\"1\" class=\"dataframe\">\n",
              "  <thead>\n",
              "    <tr style=\"text-align: right;\">\n",
              "      <th></th>\n",
              "      <th>likes</th>\n",
              "      <th>dislikes</th>\n",
              "    </tr>\n",
              "    <tr>\n",
              "      <th>meme_type</th>\n",
              "      <th></th>\n",
              "      <th></th>\n",
              "    </tr>\n",
              "  </thead>\n",
              "  <tbody>\n",
              "    <tr>\n",
              "      <th>animation</th>\n",
              "      <td>24.116527</td>\n",
              "      <td>33.526392</td>\n",
              "    </tr>\n",
              "    <tr>\n",
              "      <th>photo</th>\n",
              "      <td>54.688134</td>\n",
              "      <td>51.532479</td>\n",
              "    </tr>\n",
              "    <tr>\n",
              "      <th>video</th>\n",
              "      <td>14.654325</td>\n",
              "      <td>26.687033</td>\n",
              "    </tr>\n",
              "  </tbody>\n",
              "</table>\n",
              "</div>"
            ],
            "text/plain": [
              "               likes   dislikes\n",
              "meme_type                      \n",
              "animation  24.116527  33.526392\n",
              "photo      54.688134  51.532479\n",
              "video      14.654325  26.687033"
            ]
          },
          "metadata": {
            "tags": []
          },
          "execution_count": 148
        }
      ]
    },
    {
      "cell_type": "markdown",
      "metadata": {
        "id": "hms8-T_H1ImV"
      },
      "source": [
        "Как и предполагалось, в среднем из 3 типов мемов, большее кол-во лайков собирают мемы-картинки, а не мемы в виде видео или анимации. Это можно объяснить тем, что юзеру удобнее(быстрее) посмотреть картинку, и ему не нужно тратить много времени на ее просмотр, поэтому и лайк проще получить картинке. "
      ]
    },
    {
      "cell_type": "markdown",
      "metadata": {
        "id": "m4jZ4ViN_UHW"
      },
      "source": [
        "## Датасет + модель (какой мем какому пользователю зайдет)"
      ]
    },
    {
      "cell_type": "markdown",
      "metadata": {
        "id": "GMd4K4CRJ7ba"
      },
      "source": [
        "* Подготовка данных"
      ]
    },
    {
      "cell_type": "code",
      "metadata": {
        "colab": {
          "base_uri": "https://localhost:8080/",
          "height": 202
        },
        "id": "GNZ4jFPE_jF8",
        "outputId": "51de65e6-6e22-484b-c1ae-cfcd9df27ba6"
      },
      "source": [
        "event.head()"
      ],
      "execution_count": 149,
      "outputs": [
        {
          "output_type": "execute_result",
          "data": {
            "text/html": [
              "<div>\n",
              "<style scoped>\n",
              "    .dataframe tbody tr th:only-of-type {\n",
              "        vertical-align: middle;\n",
              "    }\n",
              "\n",
              "    .dataframe tbody tr th {\n",
              "        vertical-align: top;\n",
              "    }\n",
              "\n",
              "    .dataframe thead th {\n",
              "        text-align: right;\n",
              "    }\n",
              "</style>\n",
              "<table border=\"1\" class=\"dataframe\">\n",
              "  <thead>\n",
              "    <tr style=\"text-align: right;\">\n",
              "      <th></th>\n",
              "      <th>event_id</th>\n",
              "      <th>reaction_id</th>\n",
              "      <th>session_idx</th>\n",
              "      <th>meme_idx</th>\n",
              "      <th>created_at</th>\n",
              "      <th>reacted_at</th>\n",
              "      <th>meme_id</th>\n",
              "      <th>user_id</th>\n",
              "      <th>telegram_message_id</th>\n",
              "    </tr>\n",
              "  </thead>\n",
              "  <tbody>\n",
              "    <tr>\n",
              "      <th>0</th>\n",
              "      <td>1569409</td>\n",
              "      <td>1.0</td>\n",
              "      <td>1.0</td>\n",
              "      <td>171.0</td>\n",
              "      <td>2020-09-23 14:45:40.204598+00</td>\n",
              "      <td>2020-09-23 14:45:44.079206+00</td>\n",
              "      <td>9197</td>\n",
              "      <td>1153946021</td>\n",
              "      <td>1624299.0</td>\n",
              "    </tr>\n",
              "    <tr>\n",
              "      <th>1</th>\n",
              "      <td>1569228</td>\n",
              "      <td>2.0</td>\n",
              "      <td>199.0</td>\n",
              "      <td>189.0</td>\n",
              "      <td>2020-09-23 14:38:56.25774+00</td>\n",
              "      <td>2020-09-23 14:39:11.978709+00</td>\n",
              "      <td>34459</td>\n",
              "      <td>285739883</td>\n",
              "      <td>1624096.0</td>\n",
              "    </tr>\n",
              "    <tr>\n",
              "      <th>2</th>\n",
              "      <td>1569405</td>\n",
              "      <td>1.0</td>\n",
              "      <td>7.0</td>\n",
              "      <td>133.0</td>\n",
              "      <td>2020-09-23 14:45:34.244269+00</td>\n",
              "      <td>2020-09-23 14:45:46.699976+00</td>\n",
              "      <td>10879</td>\n",
              "      <td>751332478</td>\n",
              "      <td>1624295.0</td>\n",
              "    </tr>\n",
              "    <tr>\n",
              "      <th>3</th>\n",
              "      <td>1569239</td>\n",
              "      <td>1.0</td>\n",
              "      <td>2.0</td>\n",
              "      <td>265.0</td>\n",
              "      <td>2020-09-23 14:39:17.175786+00</td>\n",
              "      <td>2020-09-23 14:39:28.054075+00</td>\n",
              "      <td>46731</td>\n",
              "      <td>914220296</td>\n",
              "      <td>1624113.0</td>\n",
              "    </tr>\n",
              "    <tr>\n",
              "      <th>4</th>\n",
              "      <td>1569254</td>\n",
              "      <td>1.0</td>\n",
              "      <td>2.0</td>\n",
              "      <td>130.0</td>\n",
              "      <td>2020-09-23 14:39:57.24919+00</td>\n",
              "      <td>2020-09-23 14:39:58.963727+00</td>\n",
              "      <td>49571</td>\n",
              "      <td>1171473137</td>\n",
              "      <td>1624129.0</td>\n",
              "    </tr>\n",
              "  </tbody>\n",
              "</table>\n",
              "</div>"
            ],
            "text/plain": [
              "   event_id  reaction_id  session_idx  ...  meme_id     user_id telegram_message_id\n",
              "0   1569409          1.0          1.0  ...     9197  1153946021           1624299.0\n",
              "1   1569228          2.0        199.0  ...    34459   285739883           1624096.0\n",
              "2   1569405          1.0          7.0  ...    10879   751332478           1624295.0\n",
              "3   1569239          1.0          2.0  ...    46731   914220296           1624113.0\n",
              "4   1569254          1.0          2.0  ...    49571  1171473137           1624129.0\n",
              "\n",
              "[5 rows x 9 columns]"
            ]
          },
          "metadata": {
            "tags": []
          },
          "execution_count": 149
        }
      ]
    },
    {
      "cell_type": "code",
      "metadata": {
        "colab": {
          "base_uri": "https://localhost:8080/",
          "height": 482
        },
        "id": "-stkfOwnIf14",
        "outputId": "6c0b14da-bbc9-4730-9ff9-b22924f8f12f"
      },
      "source": [
        "meme.head()"
      ],
      "execution_count": 150,
      "outputs": [
        {
          "output_type": "execute_result",
          "data": {
            "text/html": [
              "<div>\n",
              "<style scoped>\n",
              "    .dataframe tbody tr th:only-of-type {\n",
              "        vertical-align: middle;\n",
              "    }\n",
              "\n",
              "    .dataframe tbody tr th {\n",
              "        vertical-align: top;\n",
              "    }\n",
              "\n",
              "    .dataframe thead th {\n",
              "        text-align: right;\n",
              "    }\n",
              "</style>\n",
              "<table border=\"1\" class=\"dataframe\">\n",
              "  <thead>\n",
              "    <tr style=\"text-align: right;\">\n",
              "      <th></th>\n",
              "      <th>meme_id</th>\n",
              "      <th>meme_type</th>\n",
              "      <th>original_post_link</th>\n",
              "      <th>source_name</th>\n",
              "      <th>published_at</th>\n",
              "      <th>telegram_file_id</th>\n",
              "      <th>content_url</th>\n",
              "      <th>caption</th>\n",
              "      <th>content_lang</th>\n",
              "      <th>is_available</th>\n",
              "      <th>likes</th>\n",
              "      <th>dislikes</th>\n",
              "      <th>created_at</th>\n",
              "      <th>updated_at</th>\n",
              "      <th>is_broken</th>\n",
              "      <th>source_id</th>\n",
              "      <th>content_text</th>\n",
              "      <th>caption_lang</th>\n",
              "      <th>language_id</th>\n",
              "    </tr>\n",
              "  </thead>\n",
              "  <tbody>\n",
              "    <tr>\n",
              "      <th>0</th>\n",
              "      <td>13395</td>\n",
              "      <td>photo</td>\n",
              "      <td>https://vk.com/saintbeobanka?w=wall-67185996_2...</td>\n",
              "      <td>https://vk.com/saintbeobanka</td>\n",
              "      <td>2020-03-28 00:22:26+00</td>\n",
              "      <td>AgACAgQAAx0EVqG9GwACyDJefsuwVgIydYSqXSt9L2-o3Y...</td>\n",
              "      <td>https://sun6-14.userapi.com/c7004/v7004381/823...</td>\n",
              "      <td>NaN</td>\n",
              "      <td>ru</td>\n",
              "      <td>True</td>\n",
              "      <td>28</td>\n",
              "      <td>38</td>\n",
              "      <td>2020-03-28 03:59:44.496141+00</td>\n",
              "      <td>2021-02-10 07:21:58.272992+00</td>\n",
              "      <td>False</td>\n",
              "      <td>10.0</td>\n",
              "      <td>Будильник Отложить на 10 мимут vk.com/jaimes_h...</td>\n",
              "      <td>ww</td>\n",
              "      <td>2.0</td>\n",
              "    </tr>\n",
              "    <tr>\n",
              "      <th>1</th>\n",
              "      <td>13952</td>\n",
              "      <td>photo</td>\n",
              "      <td>https://reddit.com/r/wholesomememes/comments/f...</td>\n",
              "      <td>https://www.reddit.com/r/wholesomememes/</td>\n",
              "      <td>2020-03-28 12:14:46+00</td>\n",
              "      <td>AgACAgQAAx0EVqG9GwAC0QZef4L5HUrdey1K4xOBNC0V0-...</td>\n",
              "      <td>https://i.redd.it/xo8ilxurnep41.png</td>\n",
              "      <td>Wholesome slavery?</td>\n",
              "      <td>en</td>\n",
              "      <td>True</td>\n",
              "      <td>9</td>\n",
              "      <td>16</td>\n",
              "      <td>2020-03-28 17:01:45.289559+00</td>\n",
              "      <td>2021-02-10 07:21:58.276687+00</td>\n",
              "      <td>False</td>\n",
              "      <td>80.0</td>\n",
              "      <td>Happy Thanksgiving ! I was gonna say Let's say...</td>\n",
              "      <td>en</td>\n",
              "      <td>3.0</td>\n",
              "    </tr>\n",
              "    <tr>\n",
              "      <th>2</th>\n",
              "      <td>15593</td>\n",
              "      <td>photo</td>\n",
              "      <td>https://t.me/LaQeque/41396</td>\n",
              "      <td>https://t.me/LaQeque</td>\n",
              "      <td>2020-03-30 09:11:04+00</td>\n",
              "      <td>AgACAgIAAx0CVqG9GwAC7X5egk_f1FcUOOXdwvQ6tCUBOP...</td>\n",
              "      <td>https://storage.googleapis.com/meme_imgs/15593...</td>\n",
              "      <td>NaN</td>\n",
              "      <td>ru</td>\n",
              "      <td>True</td>\n",
              "      <td>41</td>\n",
              "      <td>54</td>\n",
              "      <td>2020-03-30 12:02:40.780487+00</td>\n",
              "      <td>2021-02-10 07:21:58.28043+00</td>\n",
              "      <td>False</td>\n",
              "      <td>19.0</td>\n",
              "      <td>Ггграждане, мемння ззовут вваш преззидент, ппо...</td>\n",
              "      <td>ww</td>\n",
              "      <td>2.0</td>\n",
              "    </tr>\n",
              "    <tr>\n",
              "      <th>3</th>\n",
              "      <td>18442</td>\n",
              "      <td>photo</td>\n",
              "      <td>https://reddit.com/r/dankmemes/comments/ftalgn...</td>\n",
              "      <td>https://www.reddit.com/r/dankmemes/</td>\n",
              "      <td>2020-04-01 22:53:31+00</td>\n",
              "      <td>AgACAgQAAx0EVqG9GwABAQ8_XoVyYdS-2R9bcIpdH4YqK-...</td>\n",
              "      <td>https://i.redd.it/a3mp5spddaq41.jpg</td>\n",
              "      <td>You Won’t last 10 seconds</td>\n",
              "      <td>en</td>\n",
              "      <td>True</td>\n",
              "      <td>87</td>\n",
              "      <td>48</td>\n",
              "      <td>2020-04-02 05:04:33.300689+00</td>\n",
              "      <td>2021-02-10 07:21:58.28401+00</td>\n",
              "      <td>False</td>\n",
              "      <td>78.0</td>\n",
              "      <td>AL ALL WT Should we contact the hot milfs in o...</td>\n",
              "      <td>en</td>\n",
              "      <td>3.0</td>\n",
              "    </tr>\n",
              "    <tr>\n",
              "      <th>4</th>\n",
              "      <td>20798</td>\n",
              "      <td>photo</td>\n",
              "      <td>https://vk.com/wtf.rasha?w=wall-23486067_179559</td>\n",
              "      <td>https://vk.com/wtf.rasha</td>\n",
              "      <td>2020-04-04 11:15:01+00</td>\n",
              "      <td>AgACAgQAAx0EVqG9GwABATuvXonKXWZuSeRqN8vd8gVR09...</td>\n",
              "      <td>https://sun9-37.userapi.com/c858228/v858228646...</td>\n",
              "      <td>NaN</td>\n",
              "      <td>ru</td>\n",
              "      <td>True</td>\n",
              "      <td>234</td>\n",
              "      <td>178</td>\n",
              "      <td>2020-04-04 12:10:28.173755+00</td>\n",
              "      <td>2021-02-10 07:21:58.291519+00</td>\n",
              "      <td>False</td>\n",
              "      <td>9.0</td>\n",
              "      <td>Шляпа Патриарха Никона @NikonaShapka апрель 20...</td>\n",
              "      <td>ww</td>\n",
              "      <td>2.0</td>\n",
              "    </tr>\n",
              "  </tbody>\n",
              "</table>\n",
              "</div>"
            ],
            "text/plain": [
              "   meme_id meme_type  ... caption_lang language_id\n",
              "0    13395     photo  ...           ww         2.0\n",
              "1    13952     photo  ...           en         3.0\n",
              "2    15593     photo  ...           ww         2.0\n",
              "3    18442     photo  ...           en         3.0\n",
              "4    20798     photo  ...           ww         2.0\n",
              "\n",
              "[5 rows x 19 columns]"
            ]
          },
          "metadata": {
            "tags": []
          },
          "execution_count": 150
        }
      ]
    },
    {
      "cell_type": "code",
      "metadata": {
        "colab": {
          "base_uri": "https://localhost:8080/",
          "height": 289
        },
        "id": "nk0UJ-RdIis6",
        "outputId": "178a1c00-62b0-4082-899d-b91dfc239d16"
      },
      "source": [
        "user.head()"
      ],
      "execution_count": 151,
      "outputs": [
        {
          "output_type": "execute_result",
          "data": {
            "text/html": [
              "<div>\n",
              "<style scoped>\n",
              "    .dataframe tbody tr th:only-of-type {\n",
              "        vertical-align: middle;\n",
              "    }\n",
              "\n",
              "    .dataframe tbody tr th {\n",
              "        vertical-align: top;\n",
              "    }\n",
              "\n",
              "    .dataframe thead th {\n",
              "        text-align: right;\n",
              "    }\n",
              "</style>\n",
              "<table border=\"1\" class=\"dataframe\">\n",
              "  <thead>\n",
              "    <tr style=\"text-align: right;\">\n",
              "      <th></th>\n",
              "      <th>user_id</th>\n",
              "      <th>username</th>\n",
              "      <th>first_name</th>\n",
              "      <th>last_name</th>\n",
              "      <th>language_code</th>\n",
              "      <th>seed</th>\n",
              "      <th>deep_link</th>\n",
              "      <th>is_blocked_bot</th>\n",
              "      <th>is_banned</th>\n",
              "      <th>is_admin</th>\n",
              "      <th>is_moderator</th>\n",
              "      <th>sessions</th>\n",
              "      <th>last_session_memes</th>\n",
              "      <th>watched_memes</th>\n",
              "      <th>created_at</th>\n",
              "      <th>updated_at</th>\n",
              "      <th>interface_lang</th>\n",
              "      <th>gender</th>\n",
              "      <th>latest_meme_sent_at</th>\n",
              "    </tr>\n",
              "  </thead>\n",
              "  <tbody>\n",
              "    <tr>\n",
              "      <th>0</th>\n",
              "      <td>1235209430</td>\n",
              "      <td>NaN</td>\n",
              "      <td>Paras</td>\n",
              "      <td>Kamboj</td>\n",
              "      <td>NaN</td>\n",
              "      <td>6</td>\n",
              "      <td>likemeupbot_lang_en</td>\n",
              "      <td>True</td>\n",
              "      <td>False</td>\n",
              "      <td>False</td>\n",
              "      <td>0</td>\n",
              "      <td>3</td>\n",
              "      <td>4</td>\n",
              "      <td>8</td>\n",
              "      <td>2020-10-27 07:33:12.040495+00</td>\n",
              "      <td>2021-02-10 00:29:57.669801+00</td>\n",
              "      <td>en</td>\n",
              "      <td>NaN</td>\n",
              "      <td>NaN</td>\n",
              "    </tr>\n",
              "    <tr>\n",
              "      <th>1</th>\n",
              "      <td>113584040</td>\n",
              "      <td>nikrnrr</td>\n",
              "      <td>N</td>\n",
              "      <td>NaN</td>\n",
              "      <td>ru</td>\n",
              "      <td>26</td>\n",
              "      <td>NaN</td>\n",
              "      <td>True</td>\n",
              "      <td>False</td>\n",
              "      <td>False</td>\n",
              "      <td>0</td>\n",
              "      <td>1</td>\n",
              "      <td>1</td>\n",
              "      <td>0</td>\n",
              "      <td>2020-10-28 12:05:37.473558+00</td>\n",
              "      <td>2021-02-10 01:29:57.505289+00</td>\n",
              "      <td>ru</td>\n",
              "      <td>N</td>\n",
              "      <td>NaN</td>\n",
              "    </tr>\n",
              "    <tr>\n",
              "      <th>2</th>\n",
              "      <td>1142713343</td>\n",
              "      <td>NaN</td>\n",
              "      <td>Serik</td>\n",
              "      <td>NaN</td>\n",
              "      <td>NaN</td>\n",
              "      <td>32</td>\n",
              "      <td>NaN</td>\n",
              "      <td>True</td>\n",
              "      <td>False</td>\n",
              "      <td>False</td>\n",
              "      <td>0</td>\n",
              "      <td>1</td>\n",
              "      <td>1</td>\n",
              "      <td>0</td>\n",
              "      <td>2020-10-27 17:31:30.480084+00</td>\n",
              "      <td>2021-02-10 01:29:55.555919+00</td>\n",
              "      <td>en</td>\n",
              "      <td>NaN</td>\n",
              "      <td>NaN</td>\n",
              "    </tr>\n",
              "    <tr>\n",
              "      <th>3</th>\n",
              "      <td>187967374</td>\n",
              "      <td>Ddivanov</td>\n",
              "      <td>Dmitry</td>\n",
              "      <td>Ivanov</td>\n",
              "      <td>ru</td>\n",
              "      <td>13</td>\n",
              "      <td>NaN</td>\n",
              "      <td>True</td>\n",
              "      <td>False</td>\n",
              "      <td>False</td>\n",
              "      <td>0</td>\n",
              "      <td>2</td>\n",
              "      <td>5</td>\n",
              "      <td>9</td>\n",
              "      <td>2020-10-26 13:12:52.373779+00</td>\n",
              "      <td>2021-02-09 23:29:56.086916+00</td>\n",
              "      <td>ru</td>\n",
              "      <td>M</td>\n",
              "      <td>NaN</td>\n",
              "    </tr>\n",
              "    <tr>\n",
              "      <th>4</th>\n",
              "      <td>923016092</td>\n",
              "      <td>NaN</td>\n",
              "      <td>Joanna</td>\n",
              "      <td>NaN</td>\n",
              "      <td>es</td>\n",
              "      <td>99</td>\n",
              "      <td>NaN</td>\n",
              "      <td>False</td>\n",
              "      <td>False</td>\n",
              "      <td>False</td>\n",
              "      <td>0</td>\n",
              "      <td>39</td>\n",
              "      <td>1</td>\n",
              "      <td>35</td>\n",
              "      <td>2020-10-27 19:11:33.959974+00</td>\n",
              "      <td>2021-02-09 17:56:04.574689+00</td>\n",
              "      <td>en</td>\n",
              "      <td>NaN</td>\n",
              "      <td>2021-02-09 17:56:04.574558+00</td>\n",
              "    </tr>\n",
              "  </tbody>\n",
              "</table>\n",
              "</div>"
            ],
            "text/plain": [
              "      user_id  username  ... gender            latest_meme_sent_at\n",
              "0  1235209430       NaN  ...    NaN                            NaN\n",
              "1   113584040   nikrnrr  ...      N                            NaN\n",
              "2  1142713343       NaN  ...    NaN                            NaN\n",
              "3   187967374  Ddivanov  ...      M                            NaN\n",
              "4   923016092       NaN  ...    NaN  2021-02-09 17:56:04.574558+00\n",
              "\n",
              "[5 rows x 19 columns]"
            ]
          },
          "metadata": {
            "tags": []
          },
          "execution_count": 151
        }
      ]
    },
    {
      "cell_type": "code",
      "metadata": {
        "id": "DU0gFK30IklI"
      },
      "source": [
        "# Создал копии датасетов, чтобы не изменять начальные файлы\r\n",
        "event_df = event.copy()\r\n",
        "meme_df = meme.copy()\r\n",
        "user_df = user.copy()"
      ],
      "execution_count": 154,
      "outputs": []
    },
    {
      "cell_type": "code",
      "metadata": {
        "id": "CyQqIKr6Iwpf"
      },
      "source": [
        "#Удаление данных, которые неинформативны в рамках исследования\r\n",
        "event_df.drop(['session_idx', 'meme_idx', 'created_at', 'reacted_at', 'event_id'], axis = 1, inplace = True)"
      ],
      "execution_count": 155,
      "outputs": []
    },
    {
      "cell_type": "code",
      "metadata": {
        "colab": {
          "base_uri": "https://localhost:8080/"
        },
        "id": "oLykg4DUJiOd",
        "outputId": "55c74201-f337-400b-b281-f6ed98f6cc36"
      },
      "source": [
        "meme_df.columns"
      ],
      "execution_count": 156,
      "outputs": [
        {
          "output_type": "execute_result",
          "data": {
            "text/plain": [
              "Index(['meme_id', 'meme_type', 'original_post_link', 'source_name',\n",
              "       'published_at', 'telegram_file_id', 'content_url', 'caption',\n",
              "       'content_lang', 'is_available', 'likes', 'dislikes', 'created_at',\n",
              "       'updated_at', 'is_broken', 'source_id', 'content_text', 'caption_lang',\n",
              "       'language_id'],\n",
              "      dtype='object')"
            ]
          },
          "metadata": {
            "tags": []
          },
          "execution_count": 156
        }
      ]
    },
    {
      "cell_type": "code",
      "metadata": {
        "id": "j2nyJdLkJiht"
      },
      "source": [
        "#Удаление данных, которые неинформативны в рамках исследования\r\n",
        "meme_df.drop(['published_at', 'caption','created_at', 'updated_at','content_text'], axis = 1, inplace = True)"
      ],
      "execution_count": 157,
      "outputs": []
    },
    {
      "cell_type": "code",
      "metadata": {
        "colab": {
          "base_uri": "https://localhost:8080/"
        },
        "id": "kxjAaih-Jie_",
        "outputId": "1436b864-6be1-4e82-828d-7c6b6acf996c"
      },
      "source": [
        "user_df.columns"
      ],
      "execution_count": 158,
      "outputs": [
        {
          "output_type": "execute_result",
          "data": {
            "text/plain": [
              "Index(['user_id', 'username', 'first_name', 'last_name', 'language_code',\n",
              "       'seed', 'deep_link', 'is_blocked_bot', 'is_banned', 'is_admin',\n",
              "       'is_moderator', 'sessions', 'last_session_memes', 'watched_memes',\n",
              "       'created_at', 'updated_at', 'interface_lang', 'gender',\n",
              "       'latest_meme_sent_at'],\n",
              "      dtype='object')"
            ]
          },
          "metadata": {
            "tags": []
          },
          "execution_count": 158
        }
      ]
    },
    {
      "cell_type": "markdown",
      "metadata": {
        "id": "gezcvdNSVb12"
      },
      "source": [
        "### Работа с user_df"
      ]
    },
    {
      "cell_type": "code",
      "metadata": {
        "id": "LSjsmD5xJ6OY"
      },
      "source": [
        "#Удаление данных, которые неинформативны в рамках исследования (тут хотел бы отметить, что поле gender не хотелось удалять, но по нему нет данных по большинству записей, поэтому был вынужден удалить это поле)\r\n",
        "user_df.drop(['deep_link','last_session_memes', 'created_at', 'updated_at', 'is_banned','is_moderator', 'gender', 'is_blocked_bot'], axis = 1, inplace = True)"
      ],
      "execution_count": 159,
      "outputs": []
    },
    {
      "cell_type": "code",
      "metadata": {
        "id": "Hese8yOjOjkE"
      },
      "source": [
        "user_df.interface_lang.replace({'en':1, 'ru':0}, inplace = True) # 1 если интерфейс английский, 0 если русский"
      ],
      "execution_count": 160,
      "outputs": []
    },
    {
      "cell_type": "code",
      "metadata": {
        "colab": {
          "base_uri": "https://localhost:8080/"
        },
        "id": "9KrgRYV2T1vt",
        "outputId": "d2e3a2cd-1d12-44da-de68-40fbfa3d1a82"
      },
      "source": [
        "user_df.interface_lang.value_counts() # ~75% используют русский интерфейс"
      ],
      "execution_count": 161,
      "outputs": [
        {
          "output_type": "execute_result",
          "data": {
            "text/plain": [
              "0     17662\n",
              "1      9884\n",
              "in      262\n",
              "uk       34\n",
              "pt       22\n",
              "Name: interface_lang, dtype: int64"
            ]
          },
          "metadata": {
            "tags": []
          },
          "execution_count": 161
        }
      ]
    },
    {
      "cell_type": "code",
      "metadata": {
        "colab": {
          "base_uri": "https://localhost:8080/"
        },
        "id": "vM_mg4dyTyXi",
        "outputId": "0effe5d5-1f41-40ab-84c3-ab7d5ec4bf93"
      },
      "source": [
        "user_df.isna().sum()"
      ],
      "execution_count": 162,
      "outputs": [
        {
          "output_type": "execute_result",
          "data": {
            "text/plain": [
              "user_id                    0\n",
              "username                7785\n",
              "first_name                 2\n",
              "last_name              13458\n",
              "language_code           6897\n",
              "seed                       0\n",
              "is_admin                   0\n",
              "sessions                   0\n",
              "watched_memes              0\n",
              "interface_lang           155\n",
              "latest_meme_sent_at    11958\n",
              "dtype: int64"
            ]
          },
          "metadata": {
            "tags": []
          },
          "execution_count": 162
        }
      ]
    },
    {
      "cell_type": "code",
      "metadata": {
        "colab": {
          "base_uri": "https://localhost:8080/"
        },
        "id": "UJVJLHQ9UoEm",
        "outputId": "e10bbf52-707d-4e7e-c5b6-89211bbf900e"
      },
      "source": [
        "# Конечно, 48 nan можно было запихнуть в любую категорию, т.к. малое число пропусков, но захотел распределить пропорционально\r\n",
        "import random\r\n",
        "nans = user_df['interface_lang'].isna()\r\n",
        "length = sum(nans)\r\n",
        "replacement = random.choices([0, 1], weights=[.75, .25], k=length)\r\n",
        "user_df.loc[nans,'interface_lang'] = replacement\r\n",
        "user_df.isna().sum()"
      ],
      "execution_count": 163,
      "outputs": [
        {
          "output_type": "execute_result",
          "data": {
            "text/plain": [
              "user_id                    0\n",
              "username                7785\n",
              "first_name                 2\n",
              "last_name              13458\n",
              "language_code           6897\n",
              "seed                       0\n",
              "is_admin                   0\n",
              "sessions                   0\n",
              "watched_memes              0\n",
              "interface_lang             0\n",
              "latest_meme_sent_at    11958\n",
              "dtype: int64"
            ]
          },
          "metadata": {
            "tags": []
          },
          "execution_count": 163
        }
      ]
    },
    {
      "cell_type": "code",
      "metadata": {
        "colab": {
          "base_uri": "https://localhost:8080/"
        },
        "id": "F5I6hgL8VFjp",
        "outputId": "a5dd6ee3-d6aa-41ca-e1e9-b7c735b485fd"
      },
      "source": [
        "user_df.interface_lang.value_counts() # Не получилось :)"
      ],
      "execution_count": 164,
      "outputs": [
        {
          "output_type": "execute_result",
          "data": {
            "text/plain": [
              "0     17778\n",
              "1      9923\n",
              "in      262\n",
              "uk       34\n",
              "pt       22\n",
              "Name: interface_lang, dtype: int64"
            ]
          },
          "metadata": {
            "tags": []
          },
          "execution_count": 164
        }
      ]
    },
    {
      "cell_type": "code",
      "metadata": {
        "colab": {
          "base_uri": "https://localhost:8080/",
          "height": 202
        },
        "id": "R6HK25ZUQ60B",
        "outputId": "37276881-f8e0-4e84-a19f-d63e0ea4207b"
      },
      "source": [
        "user_df.head() # отформатированный датасэт"
      ],
      "execution_count": 165,
      "outputs": [
        {
          "output_type": "execute_result",
          "data": {
            "text/html": [
              "<div>\n",
              "<style scoped>\n",
              "    .dataframe tbody tr th:only-of-type {\n",
              "        vertical-align: middle;\n",
              "    }\n",
              "\n",
              "    .dataframe tbody tr th {\n",
              "        vertical-align: top;\n",
              "    }\n",
              "\n",
              "    .dataframe thead th {\n",
              "        text-align: right;\n",
              "    }\n",
              "</style>\n",
              "<table border=\"1\" class=\"dataframe\">\n",
              "  <thead>\n",
              "    <tr style=\"text-align: right;\">\n",
              "      <th></th>\n",
              "      <th>user_id</th>\n",
              "      <th>username</th>\n",
              "      <th>first_name</th>\n",
              "      <th>last_name</th>\n",
              "      <th>language_code</th>\n",
              "      <th>seed</th>\n",
              "      <th>is_admin</th>\n",
              "      <th>sessions</th>\n",
              "      <th>watched_memes</th>\n",
              "      <th>interface_lang</th>\n",
              "      <th>latest_meme_sent_at</th>\n",
              "    </tr>\n",
              "  </thead>\n",
              "  <tbody>\n",
              "    <tr>\n",
              "      <th>0</th>\n",
              "      <td>1235209430</td>\n",
              "      <td>NaN</td>\n",
              "      <td>Paras</td>\n",
              "      <td>Kamboj</td>\n",
              "      <td>NaN</td>\n",
              "      <td>6</td>\n",
              "      <td>False</td>\n",
              "      <td>3</td>\n",
              "      <td>8</td>\n",
              "      <td>1</td>\n",
              "      <td>NaN</td>\n",
              "    </tr>\n",
              "    <tr>\n",
              "      <th>1</th>\n",
              "      <td>113584040</td>\n",
              "      <td>nikrnrr</td>\n",
              "      <td>N</td>\n",
              "      <td>NaN</td>\n",
              "      <td>ru</td>\n",
              "      <td>26</td>\n",
              "      <td>False</td>\n",
              "      <td>1</td>\n",
              "      <td>0</td>\n",
              "      <td>0</td>\n",
              "      <td>NaN</td>\n",
              "    </tr>\n",
              "    <tr>\n",
              "      <th>2</th>\n",
              "      <td>1142713343</td>\n",
              "      <td>NaN</td>\n",
              "      <td>Serik</td>\n",
              "      <td>NaN</td>\n",
              "      <td>NaN</td>\n",
              "      <td>32</td>\n",
              "      <td>False</td>\n",
              "      <td>1</td>\n",
              "      <td>0</td>\n",
              "      <td>1</td>\n",
              "      <td>NaN</td>\n",
              "    </tr>\n",
              "    <tr>\n",
              "      <th>3</th>\n",
              "      <td>187967374</td>\n",
              "      <td>Ddivanov</td>\n",
              "      <td>Dmitry</td>\n",
              "      <td>Ivanov</td>\n",
              "      <td>ru</td>\n",
              "      <td>13</td>\n",
              "      <td>False</td>\n",
              "      <td>2</td>\n",
              "      <td>9</td>\n",
              "      <td>0</td>\n",
              "      <td>NaN</td>\n",
              "    </tr>\n",
              "    <tr>\n",
              "      <th>4</th>\n",
              "      <td>923016092</td>\n",
              "      <td>NaN</td>\n",
              "      <td>Joanna</td>\n",
              "      <td>NaN</td>\n",
              "      <td>es</td>\n",
              "      <td>99</td>\n",
              "      <td>False</td>\n",
              "      <td>39</td>\n",
              "      <td>35</td>\n",
              "      <td>1</td>\n",
              "      <td>2021-02-09 17:56:04.574558+00</td>\n",
              "    </tr>\n",
              "  </tbody>\n",
              "</table>\n",
              "</div>"
            ],
            "text/plain": [
              "      user_id  username  ... interface_lang            latest_meme_sent_at\n",
              "0  1235209430       NaN  ...              1                            NaN\n",
              "1   113584040   nikrnrr  ...              0                            NaN\n",
              "2  1142713343       NaN  ...              1                            NaN\n",
              "3   187967374  Ddivanov  ...              0                            NaN\n",
              "4   923016092       NaN  ...              1  2021-02-09 17:56:04.574558+00\n",
              "\n",
              "[5 rows x 11 columns]"
            ]
          },
          "metadata": {
            "tags": []
          },
          "execution_count": 165
        }
      ]
    },
    {
      "cell_type": "markdown",
      "metadata": {
        "id": "qVwHIdJSVeqZ"
      },
      "source": [
        "### Работа с event_df"
      ]
    },
    {
      "cell_type": "code",
      "metadata": {
        "colab": {
          "base_uri": "https://localhost:8080/",
          "height": 202
        },
        "id": "w3LewgpFRvEO",
        "outputId": "eef3f851-2ce9-4f49-9675-e299b579d07d"
      },
      "source": [
        "event_df.head()"
      ],
      "execution_count": 166,
      "outputs": [
        {
          "output_type": "execute_result",
          "data": {
            "text/html": [
              "<div>\n",
              "<style scoped>\n",
              "    .dataframe tbody tr th:only-of-type {\n",
              "        vertical-align: middle;\n",
              "    }\n",
              "\n",
              "    .dataframe tbody tr th {\n",
              "        vertical-align: top;\n",
              "    }\n",
              "\n",
              "    .dataframe thead th {\n",
              "        text-align: right;\n",
              "    }\n",
              "</style>\n",
              "<table border=\"1\" class=\"dataframe\">\n",
              "  <thead>\n",
              "    <tr style=\"text-align: right;\">\n",
              "      <th></th>\n",
              "      <th>reaction_id</th>\n",
              "      <th>meme_id</th>\n",
              "      <th>user_id</th>\n",
              "      <th>telegram_message_id</th>\n",
              "    </tr>\n",
              "  </thead>\n",
              "  <tbody>\n",
              "    <tr>\n",
              "      <th>0</th>\n",
              "      <td>1.0</td>\n",
              "      <td>9197</td>\n",
              "      <td>1153946021</td>\n",
              "      <td>1624299.0</td>\n",
              "    </tr>\n",
              "    <tr>\n",
              "      <th>1</th>\n",
              "      <td>2.0</td>\n",
              "      <td>34459</td>\n",
              "      <td>285739883</td>\n",
              "      <td>1624096.0</td>\n",
              "    </tr>\n",
              "    <tr>\n",
              "      <th>2</th>\n",
              "      <td>1.0</td>\n",
              "      <td>10879</td>\n",
              "      <td>751332478</td>\n",
              "      <td>1624295.0</td>\n",
              "    </tr>\n",
              "    <tr>\n",
              "      <th>3</th>\n",
              "      <td>1.0</td>\n",
              "      <td>46731</td>\n",
              "      <td>914220296</td>\n",
              "      <td>1624113.0</td>\n",
              "    </tr>\n",
              "    <tr>\n",
              "      <th>4</th>\n",
              "      <td>1.0</td>\n",
              "      <td>49571</td>\n",
              "      <td>1171473137</td>\n",
              "      <td>1624129.0</td>\n",
              "    </tr>\n",
              "  </tbody>\n",
              "</table>\n",
              "</div>"
            ],
            "text/plain": [
              "   reaction_id  meme_id     user_id  telegram_message_id\n",
              "0          1.0     9197  1153946021            1624299.0\n",
              "1          2.0    34459   285739883            1624096.0\n",
              "2          1.0    10879   751332478            1624295.0\n",
              "3          1.0    46731   914220296            1624113.0\n",
              "4          1.0    49571  1171473137            1624129.0"
            ]
          },
          "metadata": {
            "tags": []
          },
          "execution_count": 166
        }
      ]
    },
    {
      "cell_type": "code",
      "metadata": {
        "id": "CLv9nmyBSPnr"
      },
      "source": [
        "event_df = event_df.drop(event_df[(event_df.reaction_id == 3) | (event_df.reaction_id == 4) |(event_df.reaction_id == 5) ].index) # Удаление действий админов"
      ],
      "execution_count": 167,
      "outputs": []
    },
    {
      "cell_type": "code",
      "metadata": {
        "colab": {
          "base_uri": "https://localhost:8080/"
        },
        "id": "Q0jW3s7RTgdZ",
        "outputId": "aa38485b-6ad5-40aa-9093-2fa314772e9e"
      },
      "source": [
        "event_df.isna().sum()"
      ],
      "execution_count": 168,
      "outputs": [
        {
          "output_type": "execute_result",
          "data": {
            "text/plain": [
              "reaction_id            631914\n",
              "meme_id                     0\n",
              "user_id                     0\n",
              "telegram_message_id    290824\n",
              "dtype: int64"
            ]
          },
          "metadata": {
            "tags": []
          },
          "execution_count": 168
        }
      ]
    },
    {
      "cell_type": "code",
      "metadata": {
        "colab": {
          "base_uri": "https://localhost:8080/"
        },
        "id": "dTUxn8t8VaB8",
        "outputId": "9ff3a039-bcb2-4eae-f170-bb74d1e91a3e"
      },
      "source": [
        "event_df.reaction_id.value_counts()"
      ],
      "execution_count": 169,
      "outputs": [
        {
          "output_type": "execute_result",
          "data": {
            "text/plain": [
              "1.0    4645144\n",
              "2.0    4538667\n",
              "Name: reaction_id, dtype: int64"
            ]
          },
          "metadata": {
            "tags": []
          },
          "execution_count": 169
        }
      ]
    },
    {
      "cell_type": "code",
      "metadata": {
        "colab": {
          "base_uri": "https://localhost:8080/"
        },
        "id": "O58HkAVIVrMq",
        "outputId": "7bc8d90a-cda0-4f48-facd-ad880a606fb9"
      },
      "source": [
        "nans = event_df['reaction_id'].isna()  # пропорциональное распределение лайков/дизлайков по nan значениям\r\n",
        "length = sum(nans)\r\n",
        "replacement = random.choices([1, 2], weights=[.5, .5], k=length)\r\n",
        "event_df.loc[nans,'reaction_id'] = replacement\r\n",
        "event_df.isna().sum()"
      ],
      "execution_count": 170,
      "outputs": [
        {
          "output_type": "execute_result",
          "data": {
            "text/plain": [
              "reaction_id                 0\n",
              "meme_id                     0\n",
              "user_id                     0\n",
              "telegram_message_id    290824\n",
              "dtype: int64"
            ]
          },
          "metadata": {
            "tags": []
          },
          "execution_count": 170
        }
      ]
    },
    {
      "cell_type": "code",
      "metadata": {
        "colab": {
          "base_uri": "https://localhost:8080/"
        },
        "id": "BfUbs7lOWrGA",
        "outputId": "ae013d6e-5c19-47c4-d63b-f535b3b70255"
      },
      "source": [
        "event_df.reaction_id.value_counts()"
      ],
      "execution_count": 171,
      "outputs": [
        {
          "output_type": "execute_result",
          "data": {
            "text/plain": [
              "1.0    4960930\n",
              "2.0    4854795\n",
              "Name: reaction_id, dtype: int64"
            ]
          },
          "metadata": {
            "tags": []
          },
          "execution_count": 171
        }
      ]
    },
    {
      "cell_type": "code",
      "metadata": {
        "colab": {
          "base_uri": "https://localhost:8080/",
          "height": 202
        },
        "id": "WuWmZ6DGW7ZF",
        "outputId": "4d122759-1c0b-4a65-c2ff-9528ba371bd1"
      },
      "source": [
        "event_df.head() # отформатированный датасэт"
      ],
      "execution_count": 172,
      "outputs": [
        {
          "output_type": "execute_result",
          "data": {
            "text/html": [
              "<div>\n",
              "<style scoped>\n",
              "    .dataframe tbody tr th:only-of-type {\n",
              "        vertical-align: middle;\n",
              "    }\n",
              "\n",
              "    .dataframe tbody tr th {\n",
              "        vertical-align: top;\n",
              "    }\n",
              "\n",
              "    .dataframe thead th {\n",
              "        text-align: right;\n",
              "    }\n",
              "</style>\n",
              "<table border=\"1\" class=\"dataframe\">\n",
              "  <thead>\n",
              "    <tr style=\"text-align: right;\">\n",
              "      <th></th>\n",
              "      <th>reaction_id</th>\n",
              "      <th>meme_id</th>\n",
              "      <th>user_id</th>\n",
              "      <th>telegram_message_id</th>\n",
              "    </tr>\n",
              "  </thead>\n",
              "  <tbody>\n",
              "    <tr>\n",
              "      <th>0</th>\n",
              "      <td>1.0</td>\n",
              "      <td>9197</td>\n",
              "      <td>1153946021</td>\n",
              "      <td>1624299.0</td>\n",
              "    </tr>\n",
              "    <tr>\n",
              "      <th>1</th>\n",
              "      <td>2.0</td>\n",
              "      <td>34459</td>\n",
              "      <td>285739883</td>\n",
              "      <td>1624096.0</td>\n",
              "    </tr>\n",
              "    <tr>\n",
              "      <th>2</th>\n",
              "      <td>1.0</td>\n",
              "      <td>10879</td>\n",
              "      <td>751332478</td>\n",
              "      <td>1624295.0</td>\n",
              "    </tr>\n",
              "    <tr>\n",
              "      <th>3</th>\n",
              "      <td>1.0</td>\n",
              "      <td>46731</td>\n",
              "      <td>914220296</td>\n",
              "      <td>1624113.0</td>\n",
              "    </tr>\n",
              "    <tr>\n",
              "      <th>4</th>\n",
              "      <td>1.0</td>\n",
              "      <td>49571</td>\n",
              "      <td>1171473137</td>\n",
              "      <td>1624129.0</td>\n",
              "    </tr>\n",
              "  </tbody>\n",
              "</table>\n",
              "</div>"
            ],
            "text/plain": [
              "   reaction_id  meme_id     user_id  telegram_message_id\n",
              "0          1.0     9197  1153946021            1624299.0\n",
              "1          2.0    34459   285739883            1624096.0\n",
              "2          1.0    10879   751332478            1624295.0\n",
              "3          1.0    46731   914220296            1624113.0\n",
              "4          1.0    49571  1171473137            1624129.0"
            ]
          },
          "metadata": {
            "tags": []
          },
          "execution_count": 172
        }
      ]
    },
    {
      "cell_type": "markdown",
      "metadata": {
        "id": "XgnPoaqpXA0F"
      },
      "source": [
        "### Работа с meme_df"
      ]
    },
    {
      "cell_type": "code",
      "metadata": {
        "colab": {
          "base_uri": "https://localhost:8080/",
          "height": 240
        },
        "id": "AonAl7veXFpS",
        "outputId": "2946e313-ecb4-47f4-fd1b-952d7b0dbd46"
      },
      "source": [
        "meme_df.head()"
      ],
      "execution_count": 173,
      "outputs": [
        {
          "output_type": "execute_result",
          "data": {
            "text/html": [
              "<div>\n",
              "<style scoped>\n",
              "    .dataframe tbody tr th:only-of-type {\n",
              "        vertical-align: middle;\n",
              "    }\n",
              "\n",
              "    .dataframe tbody tr th {\n",
              "        vertical-align: top;\n",
              "    }\n",
              "\n",
              "    .dataframe thead th {\n",
              "        text-align: right;\n",
              "    }\n",
              "</style>\n",
              "<table border=\"1\" class=\"dataframe\">\n",
              "  <thead>\n",
              "    <tr style=\"text-align: right;\">\n",
              "      <th></th>\n",
              "      <th>meme_id</th>\n",
              "      <th>meme_type</th>\n",
              "      <th>original_post_link</th>\n",
              "      <th>source_name</th>\n",
              "      <th>telegram_file_id</th>\n",
              "      <th>content_url</th>\n",
              "      <th>content_lang</th>\n",
              "      <th>is_available</th>\n",
              "      <th>likes</th>\n",
              "      <th>dislikes</th>\n",
              "      <th>is_broken</th>\n",
              "      <th>source_id</th>\n",
              "      <th>caption_lang</th>\n",
              "      <th>language_id</th>\n",
              "    </tr>\n",
              "  </thead>\n",
              "  <tbody>\n",
              "    <tr>\n",
              "      <th>0</th>\n",
              "      <td>13395</td>\n",
              "      <td>photo</td>\n",
              "      <td>https://vk.com/saintbeobanka?w=wall-67185996_2...</td>\n",
              "      <td>https://vk.com/saintbeobanka</td>\n",
              "      <td>AgACAgQAAx0EVqG9GwACyDJefsuwVgIydYSqXSt9L2-o3Y...</td>\n",
              "      <td>https://sun6-14.userapi.com/c7004/v7004381/823...</td>\n",
              "      <td>ru</td>\n",
              "      <td>True</td>\n",
              "      <td>28</td>\n",
              "      <td>38</td>\n",
              "      <td>False</td>\n",
              "      <td>10.0</td>\n",
              "      <td>ww</td>\n",
              "      <td>2.0</td>\n",
              "    </tr>\n",
              "    <tr>\n",
              "      <th>1</th>\n",
              "      <td>13952</td>\n",
              "      <td>photo</td>\n",
              "      <td>https://reddit.com/r/wholesomememes/comments/f...</td>\n",
              "      <td>https://www.reddit.com/r/wholesomememes/</td>\n",
              "      <td>AgACAgQAAx0EVqG9GwAC0QZef4L5HUrdey1K4xOBNC0V0-...</td>\n",
              "      <td>https://i.redd.it/xo8ilxurnep41.png</td>\n",
              "      <td>en</td>\n",
              "      <td>True</td>\n",
              "      <td>9</td>\n",
              "      <td>16</td>\n",
              "      <td>False</td>\n",
              "      <td>80.0</td>\n",
              "      <td>en</td>\n",
              "      <td>3.0</td>\n",
              "    </tr>\n",
              "    <tr>\n",
              "      <th>2</th>\n",
              "      <td>15593</td>\n",
              "      <td>photo</td>\n",
              "      <td>https://t.me/LaQeque/41396</td>\n",
              "      <td>https://t.me/LaQeque</td>\n",
              "      <td>AgACAgIAAx0CVqG9GwAC7X5egk_f1FcUOOXdwvQ6tCUBOP...</td>\n",
              "      <td>https://storage.googleapis.com/meme_imgs/15593...</td>\n",
              "      <td>ru</td>\n",
              "      <td>True</td>\n",
              "      <td>41</td>\n",
              "      <td>54</td>\n",
              "      <td>False</td>\n",
              "      <td>19.0</td>\n",
              "      <td>ww</td>\n",
              "      <td>2.0</td>\n",
              "    </tr>\n",
              "    <tr>\n",
              "      <th>3</th>\n",
              "      <td>18442</td>\n",
              "      <td>photo</td>\n",
              "      <td>https://reddit.com/r/dankmemes/comments/ftalgn...</td>\n",
              "      <td>https://www.reddit.com/r/dankmemes/</td>\n",
              "      <td>AgACAgQAAx0EVqG9GwABAQ8_XoVyYdS-2R9bcIpdH4YqK-...</td>\n",
              "      <td>https://i.redd.it/a3mp5spddaq41.jpg</td>\n",
              "      <td>en</td>\n",
              "      <td>True</td>\n",
              "      <td>87</td>\n",
              "      <td>48</td>\n",
              "      <td>False</td>\n",
              "      <td>78.0</td>\n",
              "      <td>en</td>\n",
              "      <td>3.0</td>\n",
              "    </tr>\n",
              "    <tr>\n",
              "      <th>4</th>\n",
              "      <td>20798</td>\n",
              "      <td>photo</td>\n",
              "      <td>https://vk.com/wtf.rasha?w=wall-23486067_179559</td>\n",
              "      <td>https://vk.com/wtf.rasha</td>\n",
              "      <td>AgACAgQAAx0EVqG9GwABATuvXonKXWZuSeRqN8vd8gVR09...</td>\n",
              "      <td>https://sun9-37.userapi.com/c858228/v858228646...</td>\n",
              "      <td>ru</td>\n",
              "      <td>True</td>\n",
              "      <td>234</td>\n",
              "      <td>178</td>\n",
              "      <td>False</td>\n",
              "      <td>9.0</td>\n",
              "      <td>ww</td>\n",
              "      <td>2.0</td>\n",
              "    </tr>\n",
              "  </tbody>\n",
              "</table>\n",
              "</div>"
            ],
            "text/plain": [
              "   meme_id meme_type  ... caption_lang language_id\n",
              "0    13395     photo  ...           ww         2.0\n",
              "1    13952     photo  ...           en         3.0\n",
              "2    15593     photo  ...           ww         2.0\n",
              "3    18442     photo  ...           en         3.0\n",
              "4    20798     photo  ...           ww         2.0\n",
              "\n",
              "[5 rows x 14 columns]"
            ]
          },
          "metadata": {
            "tags": []
          },
          "execution_count": 173
        }
      ]
    },
    {
      "cell_type": "code",
      "metadata": {
        "colab": {
          "base_uri": "https://localhost:8080/"
        },
        "id": "YHMACYPOXKdm",
        "outputId": "8ca623c6-e24f-402e-f727-f6160c712d10"
      },
      "source": [
        "meme_df.drop(['content_lang', 'caption_lang', 'is_broken'], axis = 1, inplace = True)\r\n",
        "meme_df.is_available.value_counts()"
      ],
      "execution_count": 174,
      "outputs": [
        {
          "output_type": "execute_result",
          "data": {
            "text/plain": [
              "True     74594\n",
              "False    13962\n",
              "Name: is_available, dtype: int64"
            ]
          },
          "metadata": {
            "tags": []
          },
          "execution_count": 174
        }
      ]
    },
    {
      "cell_type": "code",
      "metadata": {
        "colab": {
          "base_uri": "https://localhost:8080/"
        },
        "id": "uSAD3Wvlcp5M",
        "outputId": "4792f166-9b18-41d9-c21d-d7ba95a21904"
      },
      "source": [
        "meme_df.isna().sum()"
      ],
      "execution_count": 175,
      "outputs": [
        {
          "output_type": "execute_result",
          "data": {
            "text/plain": [
              "meme_id                  0\n",
              "meme_type                0\n",
              "original_post_link    1100\n",
              "source_name              0\n",
              "telegram_file_id        29\n",
              "content_url           8829\n",
              "is_available             0\n",
              "likes                    0\n",
              "dislikes                 0\n",
              "source_id             2399\n",
              "language_id           1770\n",
              "dtype: int64"
            ]
          },
          "metadata": {
            "tags": []
          },
          "execution_count": 175
        }
      ]
    },
    {
      "cell_type": "code",
      "metadata": {
        "id": "LlzrWYGWegPg"
      },
      "source": [
        "meme_df = pd.get_dummies(meme_df, columns = ['meme_type'])"
      ],
      "execution_count": 176,
      "outputs": []
    },
    {
      "cell_type": "code",
      "metadata": {
        "id": "Ao7-16A9gmLV"
      },
      "source": [
        "result = meme_df['is_available'].astype(int)\r\n",
        "meme_df['is_available'] = result\r\n",
        "del result"
      ],
      "execution_count": 177,
      "outputs": []
    },
    {
      "cell_type": "code",
      "metadata": {
        "colab": {
          "base_uri": "https://localhost:8080/"
        },
        "id": "bKDzsP-tj4lm",
        "outputId": "d15454fa-32e1-436c-ddf5-f31a7d63326d"
      },
      "source": [
        "meme_df.source_id.value_counts()"
      ],
      "execution_count": 178,
      "outputs": [
        {
          "output_type": "execute_result",
          "data": {
            "text/plain": [
              "75.0     5362\n",
              "78.0     4207\n",
              "76.0     2884\n",
              "80.0     2808\n",
              "4.0      2691\n",
              "         ... \n",
              "101.0      10\n",
              "178.0       9\n",
              "213.0       7\n",
              "107.0       3\n",
              "210.0       2\n",
              "Name: source_id, Length: 193, dtype: int64"
            ]
          },
          "metadata": {
            "tags": []
          },
          "execution_count": 178
        }
      ]
    },
    {
      "cell_type": "code",
      "metadata": {
        "id": "MQ-i0NfmhqfL"
      },
      "source": [
        "nans = meme_df['source_id'].isna() # пропорциональное распределение источников по nan значениям\r\n",
        "source_ids = meme_df.source_id.unique()\r\n",
        "source_ids = source_ids[np.isnan(source_ids) == False]\r\n",
        "length = sum(nans)\r\n",
        "replacement = random.choices(source_ids, k=length)\r\n",
        "meme_df.loc[nans,'source_id'] = replacement"
      ],
      "execution_count": 179,
      "outputs": []
    },
    {
      "cell_type": "code",
      "metadata": {
        "colab": {
          "base_uri": "https://localhost:8080/"
        },
        "id": "Bm7DMbtwj8Wd",
        "outputId": "6692a29e-e3e7-4370-cd5e-ffefc7c38aa5"
      },
      "source": [
        "meme_df.source_id.value_counts()"
      ],
      "execution_count": 180,
      "outputs": [
        {
          "output_type": "execute_result",
          "data": {
            "text/plain": [
              "75.0     5375\n",
              "78.0     4211\n",
              "76.0     2895\n",
              "80.0     2819\n",
              "4.0      2704\n",
              "         ... \n",
              "85.0       20\n",
              "107.0      17\n",
              "178.0      16\n",
              "213.0      12\n",
              "210.0      11\n",
              "Name: source_id, Length: 193, dtype: int64"
            ]
          },
          "metadata": {
            "tags": []
          },
          "execution_count": 180
        }
      ]
    },
    {
      "cell_type": "code",
      "metadata": {
        "colab": {
          "base_uri": "https://localhost:8080/"
        },
        "id": "ul7haj9gjtOs",
        "outputId": "e753006b-c687-451b-e0ce-82ce95f0770a"
      },
      "source": [
        "meme_df.isna().sum()"
      ],
      "execution_count": 181,
      "outputs": [
        {
          "output_type": "execute_result",
          "data": {
            "text/plain": [
              "meme_id                   0\n",
              "original_post_link     1100\n",
              "source_name               0\n",
              "telegram_file_id         29\n",
              "content_url            8829\n",
              "is_available              0\n",
              "likes                     0\n",
              "dislikes                  0\n",
              "source_id                 0\n",
              "language_id            1770\n",
              "meme_type_animation       0\n",
              "meme_type_photo           0\n",
              "meme_type_video           0\n",
              "dtype: int64"
            ]
          },
          "metadata": {
            "tags": []
          },
          "execution_count": 181
        }
      ]
    },
    {
      "cell_type": "code",
      "metadata": {
        "colab": {
          "base_uri": "https://localhost:8080/"
        },
        "id": "rIv7XUW-lnxH",
        "outputId": "7de56d33-6482-4a01-b547-cf6475c85451"
      },
      "source": [
        "meme_df.language_id.value_counts()"
      ],
      "execution_count": 182,
      "outputs": [
        {
          "output_type": "execute_result",
          "data": {
            "text/plain": [
              "2.0    41608\n",
              "3.0    36599\n",
              "4.0     5151\n",
              "1.0     3172\n",
              "5.0      256\n",
              "Name: language_id, dtype: int64"
            ]
          },
          "metadata": {
            "tags": []
          },
          "execution_count": 182
        }
      ]
    },
    {
      "cell_type": "code",
      "metadata": {
        "id": "DD5JGdZTldLy"
      },
      "source": [
        "nans = meme_df['language_id'].isna() # пропорциональное распределение языков по nan значениям\r\n",
        "language_ids = meme_df.language_id.unique()\r\n",
        "language_ids = language_ids[np.isnan(language_ids) == False]\r\n",
        "length = sum(nans)\r\n",
        "replacement = random.choices(language_ids, k=length)\r\n",
        "meme_df.loc[nans,'language_id'] = replacement"
      ],
      "execution_count": 183,
      "outputs": []
    },
    {
      "cell_type": "code",
      "metadata": {
        "colab": {
          "base_uri": "https://localhost:8080/"
        },
        "id": "wVOATll4lrdh",
        "outputId": "6e9e06c9-3046-43b4-c156-81853d8c7f04"
      },
      "source": [
        "meme_df.language_id.value_counts()"
      ],
      "execution_count": 184,
      "outputs": [
        {
          "output_type": "execute_result",
          "data": {
            "text/plain": [
              "2.0    41937\n",
              "3.0    36974\n",
              "4.0     5514\n",
              "1.0     3528\n",
              "5.0      603\n",
              "Name: language_id, dtype: int64"
            ]
          },
          "metadata": {
            "tags": []
          },
          "execution_count": 184
        }
      ]
    },
    {
      "cell_type": "code",
      "metadata": {
        "colab": {
          "base_uri": "https://localhost:8080/"
        },
        "id": "WLvjgAxblwzc",
        "outputId": "320c5d04-d938-405d-8c66-f376e1a01bd0"
      },
      "source": [
        "meme_df.isna().sum()"
      ],
      "execution_count": 185,
      "outputs": [
        {
          "output_type": "execute_result",
          "data": {
            "text/plain": [
              "meme_id                   0\n",
              "original_post_link     1100\n",
              "source_name               0\n",
              "telegram_file_id         29\n",
              "content_url            8829\n",
              "is_available              0\n",
              "likes                     0\n",
              "dislikes                  0\n",
              "source_id                 0\n",
              "language_id               0\n",
              "meme_type_animation       0\n",
              "meme_type_photo           0\n",
              "meme_type_video           0\n",
              "dtype: int64"
            ]
          },
          "metadata": {
            "tags": []
          },
          "execution_count": 185
        }
      ]
    },
    {
      "cell_type": "code",
      "metadata": {
        "colab": {
          "base_uri": "https://localhost:8080/",
          "height": 240
        },
        "id": "jdKQ3CGslyTb",
        "outputId": "1d297710-8e64-4794-93a9-1df1538c26d0"
      },
      "source": [
        "meme_df.head() # готовый датафрейм"
      ],
      "execution_count": 186,
      "outputs": [
        {
          "output_type": "execute_result",
          "data": {
            "text/html": [
              "<div>\n",
              "<style scoped>\n",
              "    .dataframe tbody tr th:only-of-type {\n",
              "        vertical-align: middle;\n",
              "    }\n",
              "\n",
              "    .dataframe tbody tr th {\n",
              "        vertical-align: top;\n",
              "    }\n",
              "\n",
              "    .dataframe thead th {\n",
              "        text-align: right;\n",
              "    }\n",
              "</style>\n",
              "<table border=\"1\" class=\"dataframe\">\n",
              "  <thead>\n",
              "    <tr style=\"text-align: right;\">\n",
              "      <th></th>\n",
              "      <th>meme_id</th>\n",
              "      <th>original_post_link</th>\n",
              "      <th>source_name</th>\n",
              "      <th>telegram_file_id</th>\n",
              "      <th>content_url</th>\n",
              "      <th>is_available</th>\n",
              "      <th>likes</th>\n",
              "      <th>dislikes</th>\n",
              "      <th>source_id</th>\n",
              "      <th>language_id</th>\n",
              "      <th>meme_type_animation</th>\n",
              "      <th>meme_type_photo</th>\n",
              "      <th>meme_type_video</th>\n",
              "    </tr>\n",
              "  </thead>\n",
              "  <tbody>\n",
              "    <tr>\n",
              "      <th>0</th>\n",
              "      <td>13395</td>\n",
              "      <td>https://vk.com/saintbeobanka?w=wall-67185996_2...</td>\n",
              "      <td>https://vk.com/saintbeobanka</td>\n",
              "      <td>AgACAgQAAx0EVqG9GwACyDJefsuwVgIydYSqXSt9L2-o3Y...</td>\n",
              "      <td>https://sun6-14.userapi.com/c7004/v7004381/823...</td>\n",
              "      <td>1</td>\n",
              "      <td>28</td>\n",
              "      <td>38</td>\n",
              "      <td>10.0</td>\n",
              "      <td>2.0</td>\n",
              "      <td>0</td>\n",
              "      <td>1</td>\n",
              "      <td>0</td>\n",
              "    </tr>\n",
              "    <tr>\n",
              "      <th>1</th>\n",
              "      <td>13952</td>\n",
              "      <td>https://reddit.com/r/wholesomememes/comments/f...</td>\n",
              "      <td>https://www.reddit.com/r/wholesomememes/</td>\n",
              "      <td>AgACAgQAAx0EVqG9GwAC0QZef4L5HUrdey1K4xOBNC0V0-...</td>\n",
              "      <td>https://i.redd.it/xo8ilxurnep41.png</td>\n",
              "      <td>1</td>\n",
              "      <td>9</td>\n",
              "      <td>16</td>\n",
              "      <td>80.0</td>\n",
              "      <td>3.0</td>\n",
              "      <td>0</td>\n",
              "      <td>1</td>\n",
              "      <td>0</td>\n",
              "    </tr>\n",
              "    <tr>\n",
              "      <th>2</th>\n",
              "      <td>15593</td>\n",
              "      <td>https://t.me/LaQeque/41396</td>\n",
              "      <td>https://t.me/LaQeque</td>\n",
              "      <td>AgACAgIAAx0CVqG9GwAC7X5egk_f1FcUOOXdwvQ6tCUBOP...</td>\n",
              "      <td>https://storage.googleapis.com/meme_imgs/15593...</td>\n",
              "      <td>1</td>\n",
              "      <td>41</td>\n",
              "      <td>54</td>\n",
              "      <td>19.0</td>\n",
              "      <td>2.0</td>\n",
              "      <td>0</td>\n",
              "      <td>1</td>\n",
              "      <td>0</td>\n",
              "    </tr>\n",
              "    <tr>\n",
              "      <th>3</th>\n",
              "      <td>18442</td>\n",
              "      <td>https://reddit.com/r/dankmemes/comments/ftalgn...</td>\n",
              "      <td>https://www.reddit.com/r/dankmemes/</td>\n",
              "      <td>AgACAgQAAx0EVqG9GwABAQ8_XoVyYdS-2R9bcIpdH4YqK-...</td>\n",
              "      <td>https://i.redd.it/a3mp5spddaq41.jpg</td>\n",
              "      <td>1</td>\n",
              "      <td>87</td>\n",
              "      <td>48</td>\n",
              "      <td>78.0</td>\n",
              "      <td>3.0</td>\n",
              "      <td>0</td>\n",
              "      <td>1</td>\n",
              "      <td>0</td>\n",
              "    </tr>\n",
              "    <tr>\n",
              "      <th>4</th>\n",
              "      <td>20798</td>\n",
              "      <td>https://vk.com/wtf.rasha?w=wall-23486067_179559</td>\n",
              "      <td>https://vk.com/wtf.rasha</td>\n",
              "      <td>AgACAgQAAx0EVqG9GwABATuvXonKXWZuSeRqN8vd8gVR09...</td>\n",
              "      <td>https://sun9-37.userapi.com/c858228/v858228646...</td>\n",
              "      <td>1</td>\n",
              "      <td>234</td>\n",
              "      <td>178</td>\n",
              "      <td>9.0</td>\n",
              "      <td>2.0</td>\n",
              "      <td>0</td>\n",
              "      <td>1</td>\n",
              "      <td>0</td>\n",
              "    </tr>\n",
              "  </tbody>\n",
              "</table>\n",
              "</div>"
            ],
            "text/plain": [
              "   meme_id  ... meme_type_video\n",
              "0    13395  ...               0\n",
              "1    13952  ...               0\n",
              "2    15593  ...               0\n",
              "3    18442  ...               0\n",
              "4    20798  ...               0\n",
              "\n",
              "[5 rows x 13 columns]"
            ]
          },
          "metadata": {
            "tags": []
          },
          "execution_count": 186
        }
      ]
    },
    {
      "cell_type": "markdown",
      "metadata": {
        "id": "eGgQFKmH0adc"
      },
      "source": [
        "# Работа над задачей"
      ]
    },
    {
      "cell_type": "markdown",
      "metadata": {
        "id": "x6aZNN1G0dsJ"
      },
      "source": [
        "## Топ 100 мемов (09.03.21) "
      ]
    },
    {
      "cell_type": "code",
      "metadata": {
        "colab": {
          "base_uri": "https://localhost:8080/",
          "height": 416
        },
        "id": "i3kkqugu0lGk",
        "outputId": "5230692d-c79d-4a77-8eb0-151a3c142a91"
      },
      "source": [
        "event_df"
      ],
      "execution_count": 187,
      "outputs": [
        {
          "output_type": "execute_result",
          "data": {
            "text/html": [
              "<div>\n",
              "<style scoped>\n",
              "    .dataframe tbody tr th:only-of-type {\n",
              "        vertical-align: middle;\n",
              "    }\n",
              "\n",
              "    .dataframe tbody tr th {\n",
              "        vertical-align: top;\n",
              "    }\n",
              "\n",
              "    .dataframe thead th {\n",
              "        text-align: right;\n",
              "    }\n",
              "</style>\n",
              "<table border=\"1\" class=\"dataframe\">\n",
              "  <thead>\n",
              "    <tr style=\"text-align: right;\">\n",
              "      <th></th>\n",
              "      <th>reaction_id</th>\n",
              "      <th>meme_id</th>\n",
              "      <th>user_id</th>\n",
              "      <th>telegram_message_id</th>\n",
              "    </tr>\n",
              "  </thead>\n",
              "  <tbody>\n",
              "    <tr>\n",
              "      <th>0</th>\n",
              "      <td>1.0</td>\n",
              "      <td>9197</td>\n",
              "      <td>1153946021</td>\n",
              "      <td>1624299.0</td>\n",
              "    </tr>\n",
              "    <tr>\n",
              "      <th>1</th>\n",
              "      <td>2.0</td>\n",
              "      <td>34459</td>\n",
              "      <td>285739883</td>\n",
              "      <td>1624096.0</td>\n",
              "    </tr>\n",
              "    <tr>\n",
              "      <th>2</th>\n",
              "      <td>1.0</td>\n",
              "      <td>10879</td>\n",
              "      <td>751332478</td>\n",
              "      <td>1624295.0</td>\n",
              "    </tr>\n",
              "    <tr>\n",
              "      <th>3</th>\n",
              "      <td>1.0</td>\n",
              "      <td>46731</td>\n",
              "      <td>914220296</td>\n",
              "      <td>1624113.0</td>\n",
              "    </tr>\n",
              "    <tr>\n",
              "      <th>4</th>\n",
              "      <td>1.0</td>\n",
              "      <td>49571</td>\n",
              "      <td>1171473137</td>\n",
              "      <td>1624129.0</td>\n",
              "    </tr>\n",
              "    <tr>\n",
              "      <th>...</th>\n",
              "      <td>...</td>\n",
              "      <td>...</td>\n",
              "      <td>...</td>\n",
              "      <td>...</td>\n",
              "    </tr>\n",
              "    <tr>\n",
              "      <th>9958106</th>\n",
              "      <td>2.0</td>\n",
              "      <td>54516</td>\n",
              "      <td>384165988</td>\n",
              "      <td>2845009.0</td>\n",
              "    </tr>\n",
              "    <tr>\n",
              "      <th>9958107</th>\n",
              "      <td>1.0</td>\n",
              "      <td>14263</td>\n",
              "      <td>408619506</td>\n",
              "      <td>2845055.0</td>\n",
              "    </tr>\n",
              "    <tr>\n",
              "      <th>9958108</th>\n",
              "      <td>2.0</td>\n",
              "      <td>46211</td>\n",
              "      <td>527989600</td>\n",
              "      <td>2845046.0</td>\n",
              "    </tr>\n",
              "    <tr>\n",
              "      <th>9958109</th>\n",
              "      <td>1.0</td>\n",
              "      <td>30231</td>\n",
              "      <td>213536739</td>\n",
              "      <td>2845068.0</td>\n",
              "    </tr>\n",
              "    <tr>\n",
              "      <th>9958110</th>\n",
              "      <td>1.0</td>\n",
              "      <td>24125</td>\n",
              "      <td>1171473137</td>\n",
              "      <td>2845031.0</td>\n",
              "    </tr>\n",
              "  </tbody>\n",
              "</table>\n",
              "<p>9815725 rows × 4 columns</p>\n",
              "</div>"
            ],
            "text/plain": [
              "         reaction_id  meme_id     user_id  telegram_message_id\n",
              "0                1.0     9197  1153946021            1624299.0\n",
              "1                2.0    34459   285739883            1624096.0\n",
              "2                1.0    10879   751332478            1624295.0\n",
              "3                1.0    46731   914220296            1624113.0\n",
              "4                1.0    49571  1171473137            1624129.0\n",
              "...              ...      ...         ...                  ...\n",
              "9958106          2.0    54516   384165988            2845009.0\n",
              "9958107          1.0    14263   408619506            2845055.0\n",
              "9958108          2.0    46211   527989600            2845046.0\n",
              "9958109          1.0    30231   213536739            2845068.0\n",
              "9958110          1.0    24125  1171473137            2845031.0\n",
              "\n",
              "[9815725 rows x 4 columns]"
            ]
          },
          "metadata": {
            "tags": []
          },
          "execution_count": 187
        }
      ]
    },
    {
      "cell_type": "code",
      "metadata": {
        "id": "gF_SOT-V0qj3"
      },
      "source": [
        "new_meme_df = meme_df.copy()\r\n",
        "new_meme_df = new_meme_df[(new_meme_df['likes'] + new_meme_df['dislikes']) > 20]\r\n",
        "new_meme_df['l/d'] = new_meme_df['likes'] / new_meme_df['dislikes']"
      ],
      "execution_count": 196,
      "outputs": []
    },
    {
      "cell_type": "code",
      "metadata": {
        "id": "hBU31nVw1pMW"
      },
      "source": [
        "top_100_memes = new_meme_df.groupby(['meme_id']).mean().sort_values(by = 'l/d', ascending=False)[0:100]"
      ],
      "execution_count": 200,
      "outputs": []
    },
    {
      "cell_type": "code",
      "metadata": {
        "id": "2R_GqvNI874A"
      },
      "source": [
        "bot_100_memes = new_meme_df.groupby(['meme_id']).mean().sort_values(by = 'l/d', ascending=False)[-100:]"
      ],
      "execution_count": 225,
      "outputs": []
    },
    {
      "cell_type": "code",
      "metadata": {
        "colab": {
          "base_uri": "https://localhost:8080/",
          "height": 446
        },
        "id": "rCAOK3q17JoL",
        "outputId": "1bb2d0e8-5e5f-45c6-8380-5d0d209eed1f"
      },
      "source": [
        "top_100_memes"
      ],
      "execution_count": 203,
      "outputs": [
        {
          "output_type": "execute_result",
          "data": {
            "text/html": [
              "<div>\n",
              "<style scoped>\n",
              "    .dataframe tbody tr th:only-of-type {\n",
              "        vertical-align: middle;\n",
              "    }\n",
              "\n",
              "    .dataframe tbody tr th {\n",
              "        vertical-align: top;\n",
              "    }\n",
              "\n",
              "    .dataframe thead th {\n",
              "        text-align: right;\n",
              "    }\n",
              "</style>\n",
              "<table border=\"1\" class=\"dataframe\">\n",
              "  <thead>\n",
              "    <tr style=\"text-align: right;\">\n",
              "      <th></th>\n",
              "      <th>is_available</th>\n",
              "      <th>likes</th>\n",
              "      <th>dislikes</th>\n",
              "      <th>source_id</th>\n",
              "      <th>language_id</th>\n",
              "      <th>meme_type_animation</th>\n",
              "      <th>meme_type_photo</th>\n",
              "      <th>meme_type_video</th>\n",
              "      <th>l/d</th>\n",
              "    </tr>\n",
              "    <tr>\n",
              "      <th>meme_id</th>\n",
              "      <th></th>\n",
              "      <th></th>\n",
              "      <th></th>\n",
              "      <th></th>\n",
              "      <th></th>\n",
              "      <th></th>\n",
              "      <th></th>\n",
              "      <th></th>\n",
              "      <th></th>\n",
              "    </tr>\n",
              "  </thead>\n",
              "  <tbody>\n",
              "    <tr>\n",
              "      <th>28269</th>\n",
              "      <td>0</td>\n",
              "      <td>225</td>\n",
              "      <td>81</td>\n",
              "      <td>5.0</td>\n",
              "      <td>3.0</td>\n",
              "      <td>0</td>\n",
              "      <td>1</td>\n",
              "      <td>0</td>\n",
              "      <td>2.777778</td>\n",
              "    </tr>\n",
              "    <tr>\n",
              "      <th>45814</th>\n",
              "      <td>0</td>\n",
              "      <td>263</td>\n",
              "      <td>96</td>\n",
              "      <td>5.0</td>\n",
              "      <td>3.0</td>\n",
              "      <td>0</td>\n",
              "      <td>1</td>\n",
              "      <td>0</td>\n",
              "      <td>2.739583</td>\n",
              "    </tr>\n",
              "    <tr>\n",
              "      <th>38443</th>\n",
              "      <td>0</td>\n",
              "      <td>353</td>\n",
              "      <td>129</td>\n",
              "      <td>5.0</td>\n",
              "      <td>3.0</td>\n",
              "      <td>0</td>\n",
              "      <td>1</td>\n",
              "      <td>0</td>\n",
              "      <td>2.736434</td>\n",
              "    </tr>\n",
              "    <tr>\n",
              "      <th>55032</th>\n",
              "      <td>0</td>\n",
              "      <td>336</td>\n",
              "      <td>123</td>\n",
              "      <td>5.0</td>\n",
              "      <td>3.0</td>\n",
              "      <td>0</td>\n",
              "      <td>1</td>\n",
              "      <td>0</td>\n",
              "      <td>2.731707</td>\n",
              "    </tr>\n",
              "    <tr>\n",
              "      <th>19809</th>\n",
              "      <td>0</td>\n",
              "      <td>286</td>\n",
              "      <td>105</td>\n",
              "      <td>5.0</td>\n",
              "      <td>3.0</td>\n",
              "      <td>0</td>\n",
              "      <td>1</td>\n",
              "      <td>0</td>\n",
              "      <td>2.723810</td>\n",
              "    </tr>\n",
              "    <tr>\n",
              "      <th>...</th>\n",
              "      <td>...</td>\n",
              "      <td>...</td>\n",
              "      <td>...</td>\n",
              "      <td>...</td>\n",
              "      <td>...</td>\n",
              "      <td>...</td>\n",
              "      <td>...</td>\n",
              "      <td>...</td>\n",
              "      <td>...</td>\n",
              "    </tr>\n",
              "    <tr>\n",
              "      <th>22460</th>\n",
              "      <td>0</td>\n",
              "      <td>139</td>\n",
              "      <td>53</td>\n",
              "      <td>5.0</td>\n",
              "      <td>3.0</td>\n",
              "      <td>0</td>\n",
              "      <td>1</td>\n",
              "      <td>0</td>\n",
              "      <td>2.622642</td>\n",
              "    </tr>\n",
              "    <tr>\n",
              "      <th>28087</th>\n",
              "      <td>0</td>\n",
              "      <td>118</td>\n",
              "      <td>45</td>\n",
              "      <td>5.0</td>\n",
              "      <td>3.0</td>\n",
              "      <td>0</td>\n",
              "      <td>1</td>\n",
              "      <td>0</td>\n",
              "      <td>2.622222</td>\n",
              "    </tr>\n",
              "    <tr>\n",
              "      <th>12869</th>\n",
              "      <td>0</td>\n",
              "      <td>118</td>\n",
              "      <td>45</td>\n",
              "      <td>5.0</td>\n",
              "      <td>3.0</td>\n",
              "      <td>0</td>\n",
              "      <td>1</td>\n",
              "      <td>0</td>\n",
              "      <td>2.622222</td>\n",
              "    </tr>\n",
              "    <tr>\n",
              "      <th>8416</th>\n",
              "      <td>0</td>\n",
              "      <td>118</td>\n",
              "      <td>45</td>\n",
              "      <td>5.0</td>\n",
              "      <td>3.0</td>\n",
              "      <td>0</td>\n",
              "      <td>1</td>\n",
              "      <td>0</td>\n",
              "      <td>2.622222</td>\n",
              "    </tr>\n",
              "    <tr>\n",
              "      <th>26703</th>\n",
              "      <td>0</td>\n",
              "      <td>173</td>\n",
              "      <td>66</td>\n",
              "      <td>5.0</td>\n",
              "      <td>3.0</td>\n",
              "      <td>0</td>\n",
              "      <td>1</td>\n",
              "      <td>0</td>\n",
              "      <td>2.621212</td>\n",
              "    </tr>\n",
              "  </tbody>\n",
              "</table>\n",
              "<p>100 rows × 9 columns</p>\n",
              "</div>"
            ],
            "text/plain": [
              "         is_available  likes  ...  meme_type_video       l/d\n",
              "meme_id                       ...                           \n",
              "28269               0    225  ...                0  2.777778\n",
              "45814               0    263  ...                0  2.739583\n",
              "38443               0    353  ...                0  2.736434\n",
              "55032               0    336  ...                0  2.731707\n",
              "19809               0    286  ...                0  2.723810\n",
              "...               ...    ...  ...              ...       ...\n",
              "22460               0    139  ...                0  2.622642\n",
              "28087               0    118  ...                0  2.622222\n",
              "12869               0    118  ...                0  2.622222\n",
              "8416                0    118  ...                0  2.622222\n",
              "26703               0    173  ...                0  2.621212\n",
              "\n",
              "[100 rows x 9 columns]"
            ]
          },
          "metadata": {
            "tags": []
          },
          "execution_count": 203
        }
      ]
    },
    {
      "cell_type": "code",
      "metadata": {
        "id": "VKb4-zB97qNS"
      },
      "source": [
        "meme.set_index('meme_id', inplace = True)"
      ],
      "execution_count": 206,
      "outputs": []
    },
    {
      "cell_type": "code",
      "metadata": {
        "colab": {
          "base_uri": "https://localhost:8080/",
          "height": 934
        },
        "id": "N0FWzu9w75yy",
        "outputId": "1d535bab-e275-4549-85fb-3f5b7071d209"
      },
      "source": [
        "meme"
      ],
      "execution_count": 208,
      "outputs": [
        {
          "output_type": "execute_result",
          "data": {
            "text/html": [
              "<div>\n",
              "<style scoped>\n",
              "    .dataframe tbody tr th:only-of-type {\n",
              "        vertical-align: middle;\n",
              "    }\n",
              "\n",
              "    .dataframe tbody tr th {\n",
              "        vertical-align: top;\n",
              "    }\n",
              "\n",
              "    .dataframe thead th {\n",
              "        text-align: right;\n",
              "    }\n",
              "</style>\n",
              "<table border=\"1\" class=\"dataframe\">\n",
              "  <thead>\n",
              "    <tr style=\"text-align: right;\">\n",
              "      <th></th>\n",
              "      <th>meme_type</th>\n",
              "      <th>original_post_link</th>\n",
              "      <th>source_name</th>\n",
              "      <th>published_at</th>\n",
              "      <th>telegram_file_id</th>\n",
              "      <th>content_url</th>\n",
              "      <th>caption</th>\n",
              "      <th>content_lang</th>\n",
              "      <th>is_available</th>\n",
              "      <th>likes</th>\n",
              "      <th>dislikes</th>\n",
              "      <th>created_at</th>\n",
              "      <th>updated_at</th>\n",
              "      <th>is_broken</th>\n",
              "      <th>source_id</th>\n",
              "      <th>content_text</th>\n",
              "      <th>caption_lang</th>\n",
              "      <th>language_id</th>\n",
              "    </tr>\n",
              "    <tr>\n",
              "      <th>meme_id</th>\n",
              "      <th></th>\n",
              "      <th></th>\n",
              "      <th></th>\n",
              "      <th></th>\n",
              "      <th></th>\n",
              "      <th></th>\n",
              "      <th></th>\n",
              "      <th></th>\n",
              "      <th></th>\n",
              "      <th></th>\n",
              "      <th></th>\n",
              "      <th></th>\n",
              "      <th></th>\n",
              "      <th></th>\n",
              "      <th></th>\n",
              "      <th></th>\n",
              "      <th></th>\n",
              "      <th></th>\n",
              "    </tr>\n",
              "  </thead>\n",
              "  <tbody>\n",
              "    <tr>\n",
              "      <th>13395</th>\n",
              "      <td>photo</td>\n",
              "      <td>https://vk.com/saintbeobanka?w=wall-67185996_2...</td>\n",
              "      <td>https://vk.com/saintbeobanka</td>\n",
              "      <td>2020-03-28 00:22:26+00</td>\n",
              "      <td>AgACAgQAAx0EVqG9GwACyDJefsuwVgIydYSqXSt9L2-o3Y...</td>\n",
              "      <td>https://sun6-14.userapi.com/c7004/v7004381/823...</td>\n",
              "      <td>NaN</td>\n",
              "      <td>ru</td>\n",
              "      <td>True</td>\n",
              "      <td>28</td>\n",
              "      <td>38</td>\n",
              "      <td>2020-03-28 03:59:44.496141+00</td>\n",
              "      <td>2021-02-10 07:21:58.272992+00</td>\n",
              "      <td>False</td>\n",
              "      <td>10.0</td>\n",
              "      <td>Будильник Отложить на 10 мимут vk.com/jaimes_h...</td>\n",
              "      <td>ww</td>\n",
              "      <td>2.0</td>\n",
              "    </tr>\n",
              "    <tr>\n",
              "      <th>13952</th>\n",
              "      <td>photo</td>\n",
              "      <td>https://reddit.com/r/wholesomememes/comments/f...</td>\n",
              "      <td>https://www.reddit.com/r/wholesomememes/</td>\n",
              "      <td>2020-03-28 12:14:46+00</td>\n",
              "      <td>AgACAgQAAx0EVqG9GwAC0QZef4L5HUrdey1K4xOBNC0V0-...</td>\n",
              "      <td>https://i.redd.it/xo8ilxurnep41.png</td>\n",
              "      <td>Wholesome slavery?</td>\n",
              "      <td>en</td>\n",
              "      <td>True</td>\n",
              "      <td>9</td>\n",
              "      <td>16</td>\n",
              "      <td>2020-03-28 17:01:45.289559+00</td>\n",
              "      <td>2021-02-10 07:21:58.276687+00</td>\n",
              "      <td>False</td>\n",
              "      <td>80.0</td>\n",
              "      <td>Happy Thanksgiving ! I was gonna say Let's say...</td>\n",
              "      <td>en</td>\n",
              "      <td>3.0</td>\n",
              "    </tr>\n",
              "    <tr>\n",
              "      <th>15593</th>\n",
              "      <td>photo</td>\n",
              "      <td>https://t.me/LaQeque/41396</td>\n",
              "      <td>https://t.me/LaQeque</td>\n",
              "      <td>2020-03-30 09:11:04+00</td>\n",
              "      <td>AgACAgIAAx0CVqG9GwAC7X5egk_f1FcUOOXdwvQ6tCUBOP...</td>\n",
              "      <td>https://storage.googleapis.com/meme_imgs/15593...</td>\n",
              "      <td>NaN</td>\n",
              "      <td>ru</td>\n",
              "      <td>True</td>\n",
              "      <td>41</td>\n",
              "      <td>54</td>\n",
              "      <td>2020-03-30 12:02:40.780487+00</td>\n",
              "      <td>2021-02-10 07:21:58.28043+00</td>\n",
              "      <td>False</td>\n",
              "      <td>19.0</td>\n",
              "      <td>Ггграждане, мемння ззовут вваш преззидент, ппо...</td>\n",
              "      <td>ww</td>\n",
              "      <td>2.0</td>\n",
              "    </tr>\n",
              "    <tr>\n",
              "      <th>18442</th>\n",
              "      <td>photo</td>\n",
              "      <td>https://reddit.com/r/dankmemes/comments/ftalgn...</td>\n",
              "      <td>https://www.reddit.com/r/dankmemes/</td>\n",
              "      <td>2020-04-01 22:53:31+00</td>\n",
              "      <td>AgACAgQAAx0EVqG9GwABAQ8_XoVyYdS-2R9bcIpdH4YqK-...</td>\n",
              "      <td>https://i.redd.it/a3mp5spddaq41.jpg</td>\n",
              "      <td>You Won’t last 10 seconds</td>\n",
              "      <td>en</td>\n",
              "      <td>True</td>\n",
              "      <td>87</td>\n",
              "      <td>48</td>\n",
              "      <td>2020-04-02 05:04:33.300689+00</td>\n",
              "      <td>2021-02-10 07:21:58.28401+00</td>\n",
              "      <td>False</td>\n",
              "      <td>78.0</td>\n",
              "      <td>AL ALL WT Should we contact the hot milfs in o...</td>\n",
              "      <td>en</td>\n",
              "      <td>3.0</td>\n",
              "    </tr>\n",
              "    <tr>\n",
              "      <th>20798</th>\n",
              "      <td>photo</td>\n",
              "      <td>https://vk.com/wtf.rasha?w=wall-23486067_179559</td>\n",
              "      <td>https://vk.com/wtf.rasha</td>\n",
              "      <td>2020-04-04 11:15:01+00</td>\n",
              "      <td>AgACAgQAAx0EVqG9GwABATuvXonKXWZuSeRqN8vd8gVR09...</td>\n",
              "      <td>https://sun9-37.userapi.com/c858228/v858228646...</td>\n",
              "      <td>NaN</td>\n",
              "      <td>ru</td>\n",
              "      <td>True</td>\n",
              "      <td>234</td>\n",
              "      <td>178</td>\n",
              "      <td>2020-04-04 12:10:28.173755+00</td>\n",
              "      <td>2021-02-10 07:21:58.291519+00</td>\n",
              "      <td>False</td>\n",
              "      <td>9.0</td>\n",
              "      <td>Шляпа Патриарха Никона @NikonaShapka апрель 20...</td>\n",
              "      <td>ww</td>\n",
              "      <td>2.0</td>\n",
              "    </tr>\n",
              "    <tr>\n",
              "      <th>...</th>\n",
              "      <td>...</td>\n",
              "      <td>...</td>\n",
              "      <td>...</td>\n",
              "      <td>...</td>\n",
              "      <td>...</td>\n",
              "      <td>...</td>\n",
              "      <td>...</td>\n",
              "      <td>...</td>\n",
              "      <td>...</td>\n",
              "      <td>...</td>\n",
              "      <td>...</td>\n",
              "      <td>...</td>\n",
              "      <td>...</td>\n",
              "      <td>...</td>\n",
              "      <td>...</td>\n",
              "      <td>...</td>\n",
              "      <td>...</td>\n",
              "      <td>...</td>\n",
              "    </tr>\n",
              "    <tr>\n",
              "      <th>50179</th>\n",
              "      <td>photo</td>\n",
              "      <td>https://vk.com/socialburr?w=wall-97042401_85287</td>\n",
              "      <td>https://vk.com/socialburr</td>\n",
              "      <td>2020-07-12 12:14:20+00</td>\n",
              "      <td>AgACAgQAAx0EVqG9GwABAiShXwykd6_u2zHTEWqDiQz0ww...</td>\n",
              "      <td>https://sun9-40.userapi.com/c858528/v858528708...</td>\n",
              "      <td>NaN</td>\n",
              "      <td>ru</td>\n",
              "      <td>True</td>\n",
              "      <td>662</td>\n",
              "      <td>624</td>\n",
              "      <td>2020-07-13 18:14:15.455631+00</td>\n",
              "      <td>2021-02-10 07:21:58.260401+00</td>\n",
              "      <td>False</td>\n",
              "      <td>46.0</td>\n",
              "      <td>Мы не употребляем мясо, лактозу, глютен, что н...</td>\n",
              "      <td>ww</td>\n",
              "      <td>2.0</td>\n",
              "    </tr>\n",
              "    <tr>\n",
              "      <th>61616</th>\n",
              "      <td>photo</td>\n",
              "      <td>https://t.me/leninstreet/32006</td>\n",
              "      <td>https://t.me/leninstreet</td>\n",
              "      <td>2020-09-30 16:00:06+00</td>\n",
              "      <td>AgACAgIAAx0CVqG9GwABAoI7X3Wsk9iBIy5pcghNOaYewn...</td>\n",
              "      <td>https://storage.googleapis.com/meme_imgs/61616...</td>\n",
              "      <td>NaN</td>\n",
              "      <td>ru</td>\n",
              "      <td>True</td>\n",
              "      <td>133</td>\n",
              "      <td>150</td>\n",
              "      <td>2020-10-01 06:19:14.480151+00</td>\n",
              "      <td>2021-02-10 07:21:58.210773+00</td>\n",
              "      <td>False</td>\n",
              "      <td>29.0</td>\n",
              "      <td>решил завести собаку 15:06 Я конечно не собака...</td>\n",
              "      <td>ww</td>\n",
              "      <td>2.0</td>\n",
              "    </tr>\n",
              "    <tr>\n",
              "      <th>22283</th>\n",
              "      <td>photo</td>\n",
              "      <td>https://vk.com/eternalclassic?w=wall-129440544...</td>\n",
              "      <td>https://vk.com/eternalclassic</td>\n",
              "      <td>2020-04-05 16:40:00+00</td>\n",
              "      <td>AgACAgQAAx0EVqG9GwABAUAPXoo6K5WekQRumii_kbBGMq...</td>\n",
              "      <td>https://sun6-14.userapi.com/c543105/v543105248...</td>\n",
              "      <td></td>\n",
              "      <td>en</td>\n",
              "      <td>False</td>\n",
              "      <td>5</td>\n",
              "      <td>11</td>\n",
              "      <td>2020-04-05 20:06:03.525906+00</td>\n",
              "      <td>2021-02-10 07:21:58.235317+00</td>\n",
              "      <td>False</td>\n",
              "      <td>4.0</td>\n",
              "      <td>Girlfriend GF Is your gf She's your gf She's y...</td>\n",
              "      <td>und</td>\n",
              "      <td>3.0</td>\n",
              "    </tr>\n",
              "    <tr>\n",
              "      <th>80056</th>\n",
              "      <td>photo</td>\n",
              "      <td>https://t.me/low_content/9783</td>\n",
              "      <td>https://t.me/low_content</td>\n",
              "      <td>2020-12-31 05:03:01+00</td>\n",
              "      <td>AgACAgIAAx0CVqG9GwABAvxtX_EXEDRo0nYTids0Gq_X0A...</td>\n",
              "      <td>https://storage.googleapis.com/meme_imgs/80056...</td>\n",
              "      <td>NaN</td>\n",
              "      <td>ww</td>\n",
              "      <td>True</td>\n",
              "      <td>35</td>\n",
              "      <td>54</td>\n",
              "      <td>2021-01-03 01:00:01.165269+00</td>\n",
              "      <td>2021-02-10 07:21:58.239564+00</td>\n",
              "      <td>False</td>\n",
              "      <td>147.0</td>\n",
              "      <td>NaN</td>\n",
              "      <td>ww</td>\n",
              "      <td>2.0</td>\n",
              "    </tr>\n",
              "    <tr>\n",
              "      <th>36686</th>\n",
              "      <td>photo</td>\n",
              "      <td>https://vk.com/eternalclassic?w=wall-129440544...</td>\n",
              "      <td>https://vk.com/eternalclassic</td>\n",
              "      <td>2020-05-05 17:40:00+00</td>\n",
              "      <td>AgACAgQAAx0EVqG9GwABAccZXrIZ8acOqRcrsPNpj8jDgC...</td>\n",
              "      <td>https://sun6-14.userapi.com/c543105/v543105290...</td>\n",
              "      <td></td>\n",
              "      <td>en</td>\n",
              "      <td>False</td>\n",
              "      <td>6</td>\n",
              "      <td>11</td>\n",
              "      <td>2020-05-05 21:59:57.567437+00</td>\n",
              "      <td>2021-02-10 07:21:58.244103+00</td>\n",
              "      <td>False</td>\n",
              "      <td>4.0</td>\n",
              "      <td>Andrew Turek @TurekAndrew Netflix adaptation o...</td>\n",
              "      <td>und</td>\n",
              "      <td>3.0</td>\n",
              "    </tr>\n",
              "  </tbody>\n",
              "</table>\n",
              "<p>88556 rows × 18 columns</p>\n",
              "</div>"
            ],
            "text/plain": [
              "        meme_type  ... language_id\n",
              "meme_id            ...            \n",
              "13395       photo  ...         2.0\n",
              "13952       photo  ...         3.0\n",
              "15593       photo  ...         2.0\n",
              "18442       photo  ...         3.0\n",
              "20798       photo  ...         2.0\n",
              "...           ...  ...         ...\n",
              "50179       photo  ...         2.0\n",
              "61616       photo  ...         2.0\n",
              "22283       photo  ...         3.0\n",
              "80056       photo  ...         2.0\n",
              "36686       photo  ...         3.0\n",
              "\n",
              "[88556 rows x 18 columns]"
            ]
          },
          "metadata": {
            "tags": []
          },
          "execution_count": 208
        }
      ]
    },
    {
      "cell_type": "code",
      "metadata": {
        "colab": {
          "base_uri": "https://localhost:8080/",
          "height": 516
        },
        "id": "g2neWaEX7wws",
        "outputId": "952e400b-278e-4215-c3b8-57d29c2f8c61"
      },
      "source": [
        "pd.set_option('display.max_colwidth', -1)\r\n",
        "pd.concat([top_100_memes, meme], axis=1, join = 'inner')[['l/d', 'likes', 'dislikes', 'content_url']]"
      ],
      "execution_count": 213,
      "outputs": [
        {
          "output_type": "stream",
          "text": [
            "/usr/local/lib/python3.7/dist-packages/ipykernel_launcher.py:1: FutureWarning:\n",
            "\n",
            "Passing a negative integer is deprecated in version 1.0 and will not be supported in future version. Instead, use None to not limit the column width.\n",
            "\n"
          ],
          "name": "stderr"
        },
        {
          "output_type": "execute_result",
          "data": {
            "text/html": [
              "<div>\n",
              "<style scoped>\n",
              "    .dataframe tbody tr th:only-of-type {\n",
              "        vertical-align: middle;\n",
              "    }\n",
              "\n",
              "    .dataframe tbody tr th {\n",
              "        vertical-align: top;\n",
              "    }\n",
              "\n",
              "    .dataframe thead th {\n",
              "        text-align: right;\n",
              "    }\n",
              "</style>\n",
              "<table border=\"1\" class=\"dataframe\">\n",
              "  <thead>\n",
              "    <tr style=\"text-align: right;\">\n",
              "      <th></th>\n",
              "      <th>l/d</th>\n",
              "      <th>likes</th>\n",
              "      <th>likes</th>\n",
              "      <th>dislikes</th>\n",
              "      <th>dislikes</th>\n",
              "      <th>content_url</th>\n",
              "    </tr>\n",
              "    <tr>\n",
              "      <th>meme_id</th>\n",
              "      <th></th>\n",
              "      <th></th>\n",
              "      <th></th>\n",
              "      <th></th>\n",
              "      <th></th>\n",
              "      <th></th>\n",
              "    </tr>\n",
              "  </thead>\n",
              "  <tbody>\n",
              "    <tr>\n",
              "      <th>28269</th>\n",
              "      <td>2.777778</td>\n",
              "      <td>225</td>\n",
              "      <td>225</td>\n",
              "      <td>81</td>\n",
              "      <td>81</td>\n",
              "      <td>https://sun6-19.userapi.com/T3qCfSmcCenPpL2DF0oW-uRnCi7lEizwFRUvHQ/OmBUS_TPMFU.jpg</td>\n",
              "    </tr>\n",
              "    <tr>\n",
              "      <th>45814</th>\n",
              "      <td>2.739583</td>\n",
              "      <td>263</td>\n",
              "      <td>263</td>\n",
              "      <td>96</td>\n",
              "      <td>96</td>\n",
              "      <td>https://sun6-16.userapi.com/GGI3IjbMC2a5M1ISnGK2X2U1McBfepq55ISk_g/IhI-LN4Ibko.jpg</td>\n",
              "    </tr>\n",
              "    <tr>\n",
              "      <th>38443</th>\n",
              "      <td>2.736434</td>\n",
              "      <td>353</td>\n",
              "      <td>353</td>\n",
              "      <td>129</td>\n",
              "      <td>129</td>\n",
              "      <td>https://sun6-16.userapi.com/le7Gwf3DVaaleJ0PgCYWjp9-Wy2S7YUepds4IA/bF_XURUAXJA.jpg</td>\n",
              "    </tr>\n",
              "    <tr>\n",
              "      <th>55032</th>\n",
              "      <td>2.731707</td>\n",
              "      <td>336</td>\n",
              "      <td>336</td>\n",
              "      <td>123</td>\n",
              "      <td>123</td>\n",
              "      <td>https://sun6-13.userapi.com/tC8FPaPZNyjsLnSleN0KpC5ZoOBNaSQ7lY6enA/U3tAHAdzyTQ.jpg</td>\n",
              "    </tr>\n",
              "    <tr>\n",
              "      <th>19809</th>\n",
              "      <td>2.723810</td>\n",
              "      <td>286</td>\n",
              "      <td>286</td>\n",
              "      <td>105</td>\n",
              "      <td>105</td>\n",
              "      <td>https://sun6-19.userapi.com/OzbFbfBQfJlGoUhhHOALXPEGhCMmLtyYoEG7_Q/KT-oODzW76Y.jpg</td>\n",
              "    </tr>\n",
              "    <tr>\n",
              "      <th>...</th>\n",
              "      <td>...</td>\n",
              "      <td>...</td>\n",
              "      <td>...</td>\n",
              "      <td>...</td>\n",
              "      <td>...</td>\n",
              "      <td>...</td>\n",
              "    </tr>\n",
              "    <tr>\n",
              "      <th>22460</th>\n",
              "      <td>2.622642</td>\n",
              "      <td>139</td>\n",
              "      <td>139</td>\n",
              "      <td>53</td>\n",
              "      <td>53</td>\n",
              "      <td>https://sun6-14.userapi.com/lCxCv_1dJwAjmexzCRNqrZpHrYGXMHhcQW6K6w/nUecswuGzIA.jpg</td>\n",
              "    </tr>\n",
              "    <tr>\n",
              "      <th>28087</th>\n",
              "      <td>2.622222</td>\n",
              "      <td>118</td>\n",
              "      <td>118</td>\n",
              "      <td>45</td>\n",
              "      <td>45</td>\n",
              "      <td>https://sun6-19.userapi.com/0UwyxbPgI52wD7EVT1xmI_0zs12DTBsJMpmsIQ/Y8-n8__1mSA.jpg</td>\n",
              "    </tr>\n",
              "    <tr>\n",
              "      <th>12869</th>\n",
              "      <td>2.622222</td>\n",
              "      <td>118</td>\n",
              "      <td>118</td>\n",
              "      <td>45</td>\n",
              "      <td>45</td>\n",
              "      <td>https://sun6-14.userapi.com/_ExRyiHTPB9SXV-KOz3ncCiINUqpPwxoyCM-hg/K7mWweQL-yE.jpg</td>\n",
              "    </tr>\n",
              "    <tr>\n",
              "      <th>8416</th>\n",
              "      <td>2.622222</td>\n",
              "      <td>118</td>\n",
              "      <td>118</td>\n",
              "      <td>45</td>\n",
              "      <td>45</td>\n",
              "      <td>https://sun6-14.userapi.com/JyIgFHAGFVfzgivHvgUUSLJTS-i8wGzela0mSg/zo8xAWif7UE.jpg</td>\n",
              "    </tr>\n",
              "    <tr>\n",
              "      <th>26703</th>\n",
              "      <td>2.621212</td>\n",
              "      <td>173</td>\n",
              "      <td>173</td>\n",
              "      <td>66</td>\n",
              "      <td>66</td>\n",
              "      <td>https://sun6-16.userapi.com/YDFayrGE7gO5pZ4VfFuaM3Uqg0B-l_APy2vL1g/V7LRcGhI0HA.jpg</td>\n",
              "    </tr>\n",
              "  </tbody>\n",
              "</table>\n",
              "<p>100 rows × 6 columns</p>\n",
              "</div>"
            ],
            "text/plain": [
              "              l/d  ...                                                                         content_url\n",
              "meme_id            ...                                                                                    \n",
              "28269    2.777778  ...  https://sun6-19.userapi.com/T3qCfSmcCenPpL2DF0oW-uRnCi7lEizwFRUvHQ/OmBUS_TPMFU.jpg\n",
              "45814    2.739583  ...  https://sun6-16.userapi.com/GGI3IjbMC2a5M1ISnGK2X2U1McBfepq55ISk_g/IhI-LN4Ibko.jpg\n",
              "38443    2.736434  ...  https://sun6-16.userapi.com/le7Gwf3DVaaleJ0PgCYWjp9-Wy2S7YUepds4IA/bF_XURUAXJA.jpg\n",
              "55032    2.731707  ...  https://sun6-13.userapi.com/tC8FPaPZNyjsLnSleN0KpC5ZoOBNaSQ7lY6enA/U3tAHAdzyTQ.jpg\n",
              "19809    2.723810  ...  https://sun6-19.userapi.com/OzbFbfBQfJlGoUhhHOALXPEGhCMmLtyYoEG7_Q/KT-oODzW76Y.jpg\n",
              "...           ...  ...                                                                                 ...\n",
              "22460    2.622642  ...  https://sun6-14.userapi.com/lCxCv_1dJwAjmexzCRNqrZpHrYGXMHhcQW6K6w/nUecswuGzIA.jpg\n",
              "28087    2.622222  ...  https://sun6-19.userapi.com/0UwyxbPgI52wD7EVT1xmI_0zs12DTBsJMpmsIQ/Y8-n8__1mSA.jpg\n",
              "12869    2.622222  ...  https://sun6-14.userapi.com/_ExRyiHTPB9SXV-KOz3ncCiINUqpPwxoyCM-hg/K7mWweQL-yE.jpg\n",
              "8416     2.622222  ...  https://sun6-14.userapi.com/JyIgFHAGFVfzgivHvgUUSLJTS-i8wGzela0mSg/zo8xAWif7UE.jpg\n",
              "26703    2.621212  ...  https://sun6-16.userapi.com/YDFayrGE7gO5pZ4VfFuaM3Uqg0B-l_APy2vL1g/V7LRcGhI0HA.jpg\n",
              "\n",
              "[100 rows x 6 columns]"
            ]
          },
          "metadata": {
            "tags": []
          },
          "execution_count": 213
        }
      ]
    },
    {
      "cell_type": "code",
      "metadata": {
        "colab": {
          "base_uri": "https://localhost:8080/",
          "height": 464
        },
        "id": "c5O4X7vT9kFX",
        "outputId": "e0b68672-c748-4f3b-c478-a2f12ce6c825"
      },
      "source": [
        "pd.concat([bot_100_memes, meme], axis=1, join = 'inner')[['l/d', 'likes', 'dislikes', 'content_url']]"
      ],
      "execution_count": 226,
      "outputs": [
        {
          "output_type": "execute_result",
          "data": {
            "text/html": [
              "<div>\n",
              "<style scoped>\n",
              "    .dataframe tbody tr th:only-of-type {\n",
              "        vertical-align: middle;\n",
              "    }\n",
              "\n",
              "    .dataframe tbody tr th {\n",
              "        vertical-align: top;\n",
              "    }\n",
              "\n",
              "    .dataframe thead th {\n",
              "        text-align: right;\n",
              "    }\n",
              "</style>\n",
              "<table border=\"1\" class=\"dataframe\">\n",
              "  <thead>\n",
              "    <tr style=\"text-align: right;\">\n",
              "      <th></th>\n",
              "      <th>l/d</th>\n",
              "      <th>likes</th>\n",
              "      <th>likes</th>\n",
              "      <th>dislikes</th>\n",
              "      <th>dislikes</th>\n",
              "      <th>content_url</th>\n",
              "    </tr>\n",
              "    <tr>\n",
              "      <th>meme_id</th>\n",
              "      <th></th>\n",
              "      <th></th>\n",
              "      <th></th>\n",
              "      <th></th>\n",
              "      <th></th>\n",
              "      <th></th>\n",
              "    </tr>\n",
              "  </thead>\n",
              "  <tbody>\n",
              "    <tr>\n",
              "      <th>51679</th>\n",
              "      <td>0.045455</td>\n",
              "      <td>1</td>\n",
              "      <td>1</td>\n",
              "      <td>22</td>\n",
              "      <td>22</td>\n",
              "      <td>https://storage.googleapis.com/meme_imgs/51679.jpg</td>\n",
              "    </tr>\n",
              "    <tr>\n",
              "      <th>22090</th>\n",
              "      <td>0.045455</td>\n",
              "      <td>1</td>\n",
              "      <td>1</td>\n",
              "      <td>22</td>\n",
              "      <td>22</td>\n",
              "      <td>https://sun6-14.userapi.com/c206520/v206520277/d0085/Jt0QpzafeSI.jpg</td>\n",
              "    </tr>\n",
              "    <tr>\n",
              "      <th>7371</th>\n",
              "      <td>0.045455</td>\n",
              "      <td>1</td>\n",
              "      <td>1</td>\n",
              "      <td>22</td>\n",
              "      <td>22</td>\n",
              "      <td>https://storage.googleapis.com/meme_imgs/7371.jpg</td>\n",
              "    </tr>\n",
              "    <tr>\n",
              "      <th>35831</th>\n",
              "      <td>0.045455</td>\n",
              "      <td>1</td>\n",
              "      <td>1</td>\n",
              "      <td>22</td>\n",
              "      <td>22</td>\n",
              "      <td>https://scontent-lax3-1.xx.fbcdn.net/v/t1.0-9/fr/cp0/e15/q65/58019530_420959335370102_4119530367428329472_n.jpg?_nc_cat=109&amp;_nc_sid=110474&amp;efg=eyJpIjoidCJ9&amp;_nc_ohc=8bBMRufHc4YAX-fgHKm&amp;_nc_ht=scontent-lax3-1.xx&amp;_nc_tp=14&amp;oh=18aa28348133c65ddff4311d2842f128&amp;oe=5ED486C4</td>\n",
              "    </tr>\n",
              "    <tr>\n",
              "      <th>12062</th>\n",
              "      <td>0.045455</td>\n",
              "      <td>1</td>\n",
              "      <td>1</td>\n",
              "      <td>22</td>\n",
              "      <td>22</td>\n",
              "      <td>NaN</td>\n",
              "    </tr>\n",
              "    <tr>\n",
              "      <th>...</th>\n",
              "      <td>...</td>\n",
              "      <td>...</td>\n",
              "      <td>...</td>\n",
              "      <td>...</td>\n",
              "      <td>...</td>\n",
              "      <td>...</td>\n",
              "    </tr>\n",
              "    <tr>\n",
              "      <th>61655</th>\n",
              "      <td>0.000000</td>\n",
              "      <td>0</td>\n",
              "      <td>0</td>\n",
              "      <td>24</td>\n",
              "      <td>24</td>\n",
              "      <td>NaN</td>\n",
              "    </tr>\n",
              "    <tr>\n",
              "      <th>15694</th>\n",
              "      <td>0.000000</td>\n",
              "      <td>0</td>\n",
              "      <td>0</td>\n",
              "      <td>21</td>\n",
              "      <td>21</td>\n",
              "      <td>https://i.redd.it/4auha3lxysp41.png</td>\n",
              "    </tr>\n",
              "    <tr>\n",
              "      <th>80765</th>\n",
              "      <td>0.000000</td>\n",
              "      <td>0</td>\n",
              "      <td>0</td>\n",
              "      <td>23</td>\n",
              "      <td>23</td>\n",
              "      <td>https://storage.googleapis.com/meme_imgs/80765.jpg</td>\n",
              "    </tr>\n",
              "    <tr>\n",
              "      <th>54114</th>\n",
              "      <td>0.000000</td>\n",
              "      <td>0</td>\n",
              "      <td>0</td>\n",
              "      <td>22</td>\n",
              "      <td>22</td>\n",
              "      <td>https://i.imgur.com/GQHOMwV.gif</td>\n",
              "    </tr>\n",
              "    <tr>\n",
              "      <th>35617</th>\n",
              "      <td>0.000000</td>\n",
              "      <td>0</td>\n",
              "      <td>0</td>\n",
              "      <td>24</td>\n",
              "      <td>24</td>\n",
              "      <td>https://sun6-16.userapi.com/c857036/v857036014/11d41a/vil_juepNYE.jpg</td>\n",
              "    </tr>\n",
              "  </tbody>\n",
              "</table>\n",
              "<p>100 rows × 6 columns</p>\n",
              "</div>"
            ],
            "text/plain": [
              "              l/d  ...                                                                                                                                                                                                                                                                  content_url\n",
              "meme_id            ...                                                                                                                                                                                                                                                                             \n",
              "51679    0.045455  ...  https://storage.googleapis.com/meme_imgs/51679.jpg                                                                                                                                                                                                                         \n",
              "22090    0.045455  ...  https://sun6-14.userapi.com/c206520/v206520277/d0085/Jt0QpzafeSI.jpg                                                                                                                                                                                                       \n",
              "7371     0.045455  ...  https://storage.googleapis.com/meme_imgs/7371.jpg                                                                                                                                                                                                                          \n",
              "35831    0.045455  ...  https://scontent-lax3-1.xx.fbcdn.net/v/t1.0-9/fr/cp0/e15/q65/58019530_420959335370102_4119530367428329472_n.jpg?_nc_cat=109&_nc_sid=110474&efg=eyJpIjoidCJ9&_nc_ohc=8bBMRufHc4YAX-fgHKm&_nc_ht=scontent-lax3-1.xx&_nc_tp=14&oh=18aa28348133c65ddff4311d2842f128&oe=5ED486C4\n",
              "12062    0.045455  ...  NaN                                                                                                                                                                                                                                                                        \n",
              "...           ...  ...                                                                                                                                                                                                                                                                          ...\n",
              "61655    0.000000  ...  NaN                                                                                                                                                                                                                                                                        \n",
              "15694    0.000000  ...  https://i.redd.it/4auha3lxysp41.png                                                                                                                                                                                                                                        \n",
              "80765    0.000000  ...  https://storage.googleapis.com/meme_imgs/80765.jpg                                                                                                                                                                                                                         \n",
              "54114    0.000000  ...  https://i.imgur.com/GQHOMwV.gif                                                                                                                                                                                                                                            \n",
              "35617    0.000000  ...  https://sun6-16.userapi.com/c857036/v857036014/11d41a/vil_juepNYE.jpg                                                                                                                                                                                                      \n",
              "\n",
              "[100 rows x 6 columns]"
            ]
          },
          "metadata": {
            "tags": []
          },
          "execution_count": 226
        }
      ]
    }
  ]
}