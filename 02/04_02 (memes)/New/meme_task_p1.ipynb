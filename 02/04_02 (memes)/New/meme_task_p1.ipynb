{
  "nbformat": 4,
  "nbformat_minor": 0,
  "metadata": {
    "colab": {
      "name": "meme_task_p1.ipynb",
      "provenance": [],
      "collapsed_sections": [],
      "toc_visible": true
    },
    "kernelspec": {
      "display_name": "Python 3",
      "name": "python3"
    },
    "language_info": {
      "name": "python"
    }
  },
  "cells": [
    {
      "cell_type": "markdown",
      "metadata": {
        "id": "RLJYNzD7cKw3"
      },
      "source": [
        "# Текущие задачи\n",
        "\n",
        "* Кластеризовать мемы \n",
        "* Кластеризовать юзеров\n",
        "* Сопоставить юзерам мемы (кластеры)"
      ]
    },
    {
      "cell_type": "markdown",
      "metadata": {
        "id": "wpf7wkMylob4"
      },
      "source": [
        "## Импорт библиотек и датасэтов"
      ]
    },
    {
      "cell_type": "code",
      "metadata": {
        "colab": {
          "base_uri": "https://localhost:8080/"
        },
        "id": "EwZWiJXYZ7_y",
        "outputId": "33aa2711-e9cc-4b0c-f867-b9dd3762a60e"
      },
      "source": [
        "from google.colab import drive\n",
        "drive.mount('/content/drive')"
      ],
      "execution_count": null,
      "outputs": [
        {
          "output_type": "stream",
          "text": [
            "Drive already mounted at /content/drive; to attempt to forcibly remount, call drive.mount(\"/content/drive\", force_remount=True).\n"
          ],
          "name": "stdout"
        }
      ]
    },
    {
      "cell_type": "code",
      "metadata": {
        "id": "dgT-OokraES5"
      },
      "source": [
        "import pandas as pd\n",
        "import numpy as np\n",
        "import seaborn as sns\n",
        "import matplotlib.pyplot as plt"
      ],
      "execution_count": null,
      "outputs": []
    },
    {
      "cell_type": "code",
      "metadata": {
        "id": "xMp_AO4RaEQk"
      },
      "source": [
        "path = 'drive/MyDrive/DS/meme'"
      ],
      "execution_count": null,
      "outputs": []
    },
    {
      "cell_type": "code",
      "metadata": {
        "id": "-7ZTC-8haEOI"
      },
      "source": [
        "event = pd.read_csv(path+'/tgbot_event.csv')\n",
        "meme = pd.read_csv(path+'/tgbot_meme.csv')\n",
        "user = pd.read_csv(path+'/tgbot_user.csv')"
      ],
      "execution_count": null,
      "outputs": []
    },
    {
      "cell_type": "code",
      "metadata": {
        "colab": {
          "base_uri": "https://localhost:8080/",
          "height": 482
        },
        "id": "7W8x4UdFaELl",
        "outputId": "78391a91-8515-4b12-88a2-6e4316cc2df9"
      },
      "source": [
        "meme.head()"
      ],
      "execution_count": null,
      "outputs": [
        {
          "output_type": "execute_result",
          "data": {
            "text/html": [
              "<div>\n",
              "<style scoped>\n",
              "    .dataframe tbody tr th:only-of-type {\n",
              "        vertical-align: middle;\n",
              "    }\n",
              "\n",
              "    .dataframe tbody tr th {\n",
              "        vertical-align: top;\n",
              "    }\n",
              "\n",
              "    .dataframe thead th {\n",
              "        text-align: right;\n",
              "    }\n",
              "</style>\n",
              "<table border=\"1\" class=\"dataframe\">\n",
              "  <thead>\n",
              "    <tr style=\"text-align: right;\">\n",
              "      <th></th>\n",
              "      <th>meme_id</th>\n",
              "      <th>meme_type</th>\n",
              "      <th>original_post_link</th>\n",
              "      <th>source_name</th>\n",
              "      <th>published_at</th>\n",
              "      <th>telegram_file_id</th>\n",
              "      <th>content_url</th>\n",
              "      <th>caption</th>\n",
              "      <th>content_lang</th>\n",
              "      <th>is_available</th>\n",
              "      <th>likes</th>\n",
              "      <th>dislikes</th>\n",
              "      <th>created_at</th>\n",
              "      <th>updated_at</th>\n",
              "      <th>is_broken</th>\n",
              "      <th>source_id</th>\n",
              "      <th>content_text</th>\n",
              "      <th>caption_lang</th>\n",
              "      <th>language_id</th>\n",
              "    </tr>\n",
              "  </thead>\n",
              "  <tbody>\n",
              "    <tr>\n",
              "      <th>0</th>\n",
              "      <td>13395</td>\n",
              "      <td>photo</td>\n",
              "      <td>https://vk.com/saintbeobanka?w=wall-67185996_2...</td>\n",
              "      <td>https://vk.com/saintbeobanka</td>\n",
              "      <td>2020-03-28 00:22:26+00</td>\n",
              "      <td>AgACAgQAAx0EVqG9GwACyDJefsuwVgIydYSqXSt9L2-o3Y...</td>\n",
              "      <td>https://sun6-14.userapi.com/c7004/v7004381/823...</td>\n",
              "      <td>NaN</td>\n",
              "      <td>ru</td>\n",
              "      <td>True</td>\n",
              "      <td>28</td>\n",
              "      <td>38</td>\n",
              "      <td>2020-03-28 03:59:44.496141+00</td>\n",
              "      <td>2021-02-10 07:21:58.272992+00</td>\n",
              "      <td>False</td>\n",
              "      <td>10.0</td>\n",
              "      <td>Будильник Отложить на 10 мимут vk.com/jaimes_h...</td>\n",
              "      <td>ww</td>\n",
              "      <td>2.0</td>\n",
              "    </tr>\n",
              "    <tr>\n",
              "      <th>1</th>\n",
              "      <td>13952</td>\n",
              "      <td>photo</td>\n",
              "      <td>https://reddit.com/r/wholesomememes/comments/f...</td>\n",
              "      <td>https://www.reddit.com/r/wholesomememes/</td>\n",
              "      <td>2020-03-28 12:14:46+00</td>\n",
              "      <td>AgACAgQAAx0EVqG9GwAC0QZef4L5HUrdey1K4xOBNC0V0-...</td>\n",
              "      <td>https://i.redd.it/xo8ilxurnep41.png</td>\n",
              "      <td>Wholesome slavery?</td>\n",
              "      <td>en</td>\n",
              "      <td>True</td>\n",
              "      <td>9</td>\n",
              "      <td>16</td>\n",
              "      <td>2020-03-28 17:01:45.289559+00</td>\n",
              "      <td>2021-02-10 07:21:58.276687+00</td>\n",
              "      <td>False</td>\n",
              "      <td>80.0</td>\n",
              "      <td>Happy Thanksgiving ! I was gonna say Let's say...</td>\n",
              "      <td>en</td>\n",
              "      <td>3.0</td>\n",
              "    </tr>\n",
              "    <tr>\n",
              "      <th>2</th>\n",
              "      <td>15593</td>\n",
              "      <td>photo</td>\n",
              "      <td>https://t.me/LaQeque/41396</td>\n",
              "      <td>https://t.me/LaQeque</td>\n",
              "      <td>2020-03-30 09:11:04+00</td>\n",
              "      <td>AgACAgIAAx0CVqG9GwAC7X5egk_f1FcUOOXdwvQ6tCUBOP...</td>\n",
              "      <td>https://storage.googleapis.com/meme_imgs/15593...</td>\n",
              "      <td>NaN</td>\n",
              "      <td>ru</td>\n",
              "      <td>True</td>\n",
              "      <td>41</td>\n",
              "      <td>54</td>\n",
              "      <td>2020-03-30 12:02:40.780487+00</td>\n",
              "      <td>2021-02-10 07:21:58.28043+00</td>\n",
              "      <td>False</td>\n",
              "      <td>19.0</td>\n",
              "      <td>Ггграждане, мемння ззовут вваш преззидент, ппо...</td>\n",
              "      <td>ww</td>\n",
              "      <td>2.0</td>\n",
              "    </tr>\n",
              "    <tr>\n",
              "      <th>3</th>\n",
              "      <td>18442</td>\n",
              "      <td>photo</td>\n",
              "      <td>https://reddit.com/r/dankmemes/comments/ftalgn...</td>\n",
              "      <td>https://www.reddit.com/r/dankmemes/</td>\n",
              "      <td>2020-04-01 22:53:31+00</td>\n",
              "      <td>AgACAgQAAx0EVqG9GwABAQ8_XoVyYdS-2R9bcIpdH4YqK-...</td>\n",
              "      <td>https://i.redd.it/a3mp5spddaq41.jpg</td>\n",
              "      <td>You Won’t last 10 seconds</td>\n",
              "      <td>en</td>\n",
              "      <td>True</td>\n",
              "      <td>87</td>\n",
              "      <td>48</td>\n",
              "      <td>2020-04-02 05:04:33.300689+00</td>\n",
              "      <td>2021-02-10 07:21:58.28401+00</td>\n",
              "      <td>False</td>\n",
              "      <td>78.0</td>\n",
              "      <td>AL ALL WT Should we contact the hot milfs in o...</td>\n",
              "      <td>en</td>\n",
              "      <td>3.0</td>\n",
              "    </tr>\n",
              "    <tr>\n",
              "      <th>4</th>\n",
              "      <td>20798</td>\n",
              "      <td>photo</td>\n",
              "      <td>https://vk.com/wtf.rasha?w=wall-23486067_179559</td>\n",
              "      <td>https://vk.com/wtf.rasha</td>\n",
              "      <td>2020-04-04 11:15:01+00</td>\n",
              "      <td>AgACAgQAAx0EVqG9GwABATuvXonKXWZuSeRqN8vd8gVR09...</td>\n",
              "      <td>https://sun9-37.userapi.com/c858228/v858228646...</td>\n",
              "      <td>NaN</td>\n",
              "      <td>ru</td>\n",
              "      <td>True</td>\n",
              "      <td>234</td>\n",
              "      <td>178</td>\n",
              "      <td>2020-04-04 12:10:28.173755+00</td>\n",
              "      <td>2021-02-10 07:21:58.291519+00</td>\n",
              "      <td>False</td>\n",
              "      <td>9.0</td>\n",
              "      <td>Шляпа Патриарха Никона @NikonaShapka апрель 20...</td>\n",
              "      <td>ww</td>\n",
              "      <td>2.0</td>\n",
              "    </tr>\n",
              "  </tbody>\n",
              "</table>\n",
              "</div>"
            ],
            "text/plain": [
              "   meme_id meme_type  ... caption_lang language_id\n",
              "0    13395     photo  ...           ww         2.0\n",
              "1    13952     photo  ...           en         3.0\n",
              "2    15593     photo  ...           ww         2.0\n",
              "3    18442     photo  ...           en         3.0\n",
              "4    20798     photo  ...           ww         2.0\n",
              "\n",
              "[5 rows x 19 columns]"
            ]
          },
          "metadata": {
            "tags": []
          },
          "execution_count": 5
        }
      ]
    },
    {
      "cell_type": "code",
      "metadata": {
        "colab": {
          "base_uri": "https://localhost:8080/",
          "height": 289
        },
        "id": "MMFTh9WMaEJD",
        "outputId": "fba999a2-f5b4-4be2-c00a-1b7a0b31be3b"
      },
      "source": [
        "user.head()"
      ],
      "execution_count": null,
      "outputs": [
        {
          "output_type": "execute_result",
          "data": {
            "text/html": [
              "<div>\n",
              "<style scoped>\n",
              "    .dataframe tbody tr th:only-of-type {\n",
              "        vertical-align: middle;\n",
              "    }\n",
              "\n",
              "    .dataframe tbody tr th {\n",
              "        vertical-align: top;\n",
              "    }\n",
              "\n",
              "    .dataframe thead th {\n",
              "        text-align: right;\n",
              "    }\n",
              "</style>\n",
              "<table border=\"1\" class=\"dataframe\">\n",
              "  <thead>\n",
              "    <tr style=\"text-align: right;\">\n",
              "      <th></th>\n",
              "      <th>user_id</th>\n",
              "      <th>username</th>\n",
              "      <th>first_name</th>\n",
              "      <th>last_name</th>\n",
              "      <th>language_code</th>\n",
              "      <th>seed</th>\n",
              "      <th>deep_link</th>\n",
              "      <th>is_blocked_bot</th>\n",
              "      <th>is_banned</th>\n",
              "      <th>is_admin</th>\n",
              "      <th>is_moderator</th>\n",
              "      <th>sessions</th>\n",
              "      <th>last_session_memes</th>\n",
              "      <th>watched_memes</th>\n",
              "      <th>created_at</th>\n",
              "      <th>updated_at</th>\n",
              "      <th>interface_lang</th>\n",
              "      <th>gender</th>\n",
              "      <th>latest_meme_sent_at</th>\n",
              "    </tr>\n",
              "  </thead>\n",
              "  <tbody>\n",
              "    <tr>\n",
              "      <th>0</th>\n",
              "      <td>1235209430</td>\n",
              "      <td>NaN</td>\n",
              "      <td>Paras</td>\n",
              "      <td>Kamboj</td>\n",
              "      <td>NaN</td>\n",
              "      <td>6</td>\n",
              "      <td>likemeupbot_lang_en</td>\n",
              "      <td>True</td>\n",
              "      <td>False</td>\n",
              "      <td>False</td>\n",
              "      <td>0</td>\n",
              "      <td>3</td>\n",
              "      <td>4</td>\n",
              "      <td>8</td>\n",
              "      <td>2020-10-27 07:33:12.040495+00</td>\n",
              "      <td>2021-02-10 00:29:57.669801+00</td>\n",
              "      <td>en</td>\n",
              "      <td>NaN</td>\n",
              "      <td>NaN</td>\n",
              "    </tr>\n",
              "    <tr>\n",
              "      <th>1</th>\n",
              "      <td>113584040</td>\n",
              "      <td>nikrnrr</td>\n",
              "      <td>N</td>\n",
              "      <td>NaN</td>\n",
              "      <td>ru</td>\n",
              "      <td>26</td>\n",
              "      <td>NaN</td>\n",
              "      <td>True</td>\n",
              "      <td>False</td>\n",
              "      <td>False</td>\n",
              "      <td>0</td>\n",
              "      <td>1</td>\n",
              "      <td>1</td>\n",
              "      <td>0</td>\n",
              "      <td>2020-10-28 12:05:37.473558+00</td>\n",
              "      <td>2021-02-10 01:29:57.505289+00</td>\n",
              "      <td>ru</td>\n",
              "      <td>N</td>\n",
              "      <td>NaN</td>\n",
              "    </tr>\n",
              "    <tr>\n",
              "      <th>2</th>\n",
              "      <td>1142713343</td>\n",
              "      <td>NaN</td>\n",
              "      <td>Serik</td>\n",
              "      <td>NaN</td>\n",
              "      <td>NaN</td>\n",
              "      <td>32</td>\n",
              "      <td>NaN</td>\n",
              "      <td>True</td>\n",
              "      <td>False</td>\n",
              "      <td>False</td>\n",
              "      <td>0</td>\n",
              "      <td>1</td>\n",
              "      <td>1</td>\n",
              "      <td>0</td>\n",
              "      <td>2020-10-27 17:31:30.480084+00</td>\n",
              "      <td>2021-02-10 01:29:55.555919+00</td>\n",
              "      <td>en</td>\n",
              "      <td>NaN</td>\n",
              "      <td>NaN</td>\n",
              "    </tr>\n",
              "    <tr>\n",
              "      <th>3</th>\n",
              "      <td>187967374</td>\n",
              "      <td>Ddivanov</td>\n",
              "      <td>Dmitry</td>\n",
              "      <td>Ivanov</td>\n",
              "      <td>ru</td>\n",
              "      <td>13</td>\n",
              "      <td>NaN</td>\n",
              "      <td>True</td>\n",
              "      <td>False</td>\n",
              "      <td>False</td>\n",
              "      <td>0</td>\n",
              "      <td>2</td>\n",
              "      <td>5</td>\n",
              "      <td>9</td>\n",
              "      <td>2020-10-26 13:12:52.373779+00</td>\n",
              "      <td>2021-02-09 23:29:56.086916+00</td>\n",
              "      <td>ru</td>\n",
              "      <td>M</td>\n",
              "      <td>NaN</td>\n",
              "    </tr>\n",
              "    <tr>\n",
              "      <th>4</th>\n",
              "      <td>923016092</td>\n",
              "      <td>NaN</td>\n",
              "      <td>Joanna</td>\n",
              "      <td>NaN</td>\n",
              "      <td>es</td>\n",
              "      <td>99</td>\n",
              "      <td>NaN</td>\n",
              "      <td>False</td>\n",
              "      <td>False</td>\n",
              "      <td>False</td>\n",
              "      <td>0</td>\n",
              "      <td>39</td>\n",
              "      <td>1</td>\n",
              "      <td>35</td>\n",
              "      <td>2020-10-27 19:11:33.959974+00</td>\n",
              "      <td>2021-02-09 17:56:04.574689+00</td>\n",
              "      <td>en</td>\n",
              "      <td>NaN</td>\n",
              "      <td>2021-02-09 17:56:04.574558+00</td>\n",
              "    </tr>\n",
              "  </tbody>\n",
              "</table>\n",
              "</div>"
            ],
            "text/plain": [
              "      user_id  username  ... gender            latest_meme_sent_at\n",
              "0  1235209430       NaN  ...    NaN                            NaN\n",
              "1   113584040   nikrnrr  ...      N                            NaN\n",
              "2  1142713343       NaN  ...    NaN                            NaN\n",
              "3   187967374  Ddivanov  ...      M                            NaN\n",
              "4   923016092       NaN  ...    NaN  2021-02-09 17:56:04.574558+00\n",
              "\n",
              "[5 rows x 19 columns]"
            ]
          },
          "metadata": {
            "tags": []
          },
          "execution_count": 6
        }
      ]
    },
    {
      "cell_type": "markdown",
      "metadata": {
        "id": "NjYkKCesY1Ru"
      },
      "source": [
        "## Обработка датасэтов"
      ]
    },
    {
      "cell_type": "markdown",
      "metadata": {
        "id": "-tJEyBmJls6O"
      },
      "source": [
        "В  данной части будем:\n",
        "* Изучать датасэты (фичи)\n",
        "* Удалять ненужные/пустые фичи\n",
        "* Нужные и достаточно полные данные будем, при необходимости, преобразовывать в вид, приемлемый для обучения"
      ]
    },
    {
      "cell_type": "markdown",
      "metadata": {
        "id": "Q3oKhWVwcQpB"
      },
      "source": [
        "### Обработка meme_df"
      ]
    },
    {
      "cell_type": "code",
      "metadata": {
        "colab": {
          "base_uri": "https://localhost:8080/"
        },
        "id": "2YiMUSMpaEBm",
        "outputId": "23e7c3f5-6862-45ca-dff2-63e4cb458713"
      },
      "source": [
        "meme.columns"
      ],
      "execution_count": null,
      "outputs": [
        {
          "output_type": "execute_result",
          "data": {
            "text/plain": [
              "Index(['meme_id', 'meme_type', 'original_post_link', 'source_name',\n",
              "       'published_at', 'telegram_file_id', 'content_url', 'caption',\n",
              "       'content_lang', 'is_available', 'likes', 'dislikes', 'created_at',\n",
              "       'updated_at', 'is_broken', 'source_id', 'content_text', 'caption_lang',\n",
              "       'language_id'],\n",
              "      dtype='object')"
            ]
          },
          "metadata": {
            "tags": []
          },
          "execution_count": 7
        }
      ]
    },
    {
      "cell_type": "code",
      "metadata": {
        "colab": {
          "base_uri": "https://localhost:8080/"
        },
        "id": "0Ta6noREaD-_",
        "outputId": "7a4cb917-dc1b-4bf8-d945-6188fa9bcc8a"
      },
      "source": [
        "meme.isna().sum()"
      ],
      "execution_count": null,
      "outputs": [
        {
          "output_type": "execute_result",
          "data": {
            "text/plain": [
              "meme_id                   0\n",
              "meme_type                 0\n",
              "original_post_link     1103\n",
              "source_name               0\n",
              "published_at              0\n",
              "telegram_file_id         29\n",
              "content_url            8829\n",
              "caption               53830\n",
              "content_lang          14256\n",
              "is_available              0\n",
              "likes                     0\n",
              "dislikes                  0\n",
              "created_at                0\n",
              "updated_at                0\n",
              "is_broken                 0\n",
              "source_id              2401\n",
              "content_text          21805\n",
              "caption_lang           4855\n",
              "language_id            1770\n",
              "dtype: int64"
            ]
          },
          "metadata": {
            "tags": []
          },
          "execution_count": 8
        }
      ]
    },
    {
      "cell_type": "code",
      "metadata": {
        "id": "jpk-szZxaD8o"
      },
      "source": [
        "meme_columns_dropped = ['original_post_link', 'telegram_file_id', 'content_url', 'updated_at', 'is_broken', 'caption', 'caption_lang', 'created_at'] # столбцы в meme_df, которые не нужны для исследования\n",
        "meme.drop(meme_columns_dropped, axis = 1, inplace= True)\n"
      ],
      "execution_count": null,
      "outputs": []
    },
    {
      "cell_type": "code",
      "metadata": {
        "colab": {
          "base_uri": "https://localhost:8080/"
        },
        "id": "_ZuSPUYId-DB",
        "outputId": "c6057842-2a35-4998-d0ae-6736507c61df"
      },
      "source": [
        "meme.isna().sum()"
      ],
      "execution_count": null,
      "outputs": [
        {
          "output_type": "execute_result",
          "data": {
            "text/plain": [
              "meme_id             0\n",
              "meme_type           0\n",
              "source_name         0\n",
              "published_at        0\n",
              "content_lang    14256\n",
              "is_available        0\n",
              "likes               0\n",
              "dislikes            0\n",
              "source_id        2401\n",
              "content_text    21805\n",
              "language_id      1770\n",
              "dtype: int64"
            ]
          },
          "metadata": {
            "tags": []
          },
          "execution_count": 10
        }
      ]
    },
    {
      "cell_type": "code",
      "metadata": {
        "colab": {
          "base_uri": "https://localhost:8080/"
        },
        "id": "bxEDUPhEaD09",
        "outputId": "e8d206a3-1b32-4a72-a9c6-b61b552db661"
      },
      "source": [
        "meme.content_lang.value_counts()"
      ],
      "execution_count": null,
      "outputs": [
        {
          "output_type": "execute_result",
          "data": {
            "text/plain": [
              "en       33503\n",
              "ru       25724\n",
              "ww        7533\n",
              "pt-PT     3543\n",
              "und       1515\n",
              "         ...  \n",
              "bn           2\n",
              "fa           2\n",
              "th           1\n",
              "bs           1\n",
              "ta           1\n",
              "Name: content_lang, Length: 93, dtype: int64"
            ]
          },
          "metadata": {
            "tags": []
          },
          "execution_count": 11
        }
      ]
    },
    {
      "cell_type": "code",
      "metadata": {
        "id": "KKNtMRL9aDyX"
      },
      "source": [
        "# преобразуем content_lang по следующей логике: для RU - 0, EN - 1, иной язык - 2\n",
        "meme.content_lang.replace({'ru':0, 'en':1}, inplace = True)\n",
        "meme.loc[(meme['content_lang'] != 0) & (meme['content_lang'] != 1), 'content_lang'] = 2"
      ],
      "execution_count": null,
      "outputs": []
    },
    {
      "cell_type": "code",
      "metadata": {
        "colab": {
          "base_uri": "https://localhost:8080/"
        },
        "id": "k3awGuUpaDv_",
        "outputId": "f77b2816-b2ae-42ed-ca24-0567d2168f9d"
      },
      "source": [
        "meme.isna().sum()"
      ],
      "execution_count": null,
      "outputs": [
        {
          "output_type": "execute_result",
          "data": {
            "text/plain": [
              "meme_id             0\n",
              "meme_type           0\n",
              "source_name         0\n",
              "published_at        0\n",
              "content_lang        0\n",
              "is_available        0\n",
              "likes               0\n",
              "dislikes            0\n",
              "source_id        2401\n",
              "content_text    21805\n",
              "language_id      1770\n",
              "dtype: int64"
            ]
          },
          "metadata": {
            "tags": []
          },
          "execution_count": 13
        }
      ]
    },
    {
      "cell_type": "code",
      "metadata": {
        "id": "cS3Jr0ytfIV_"
      },
      "source": [
        "# преобразуем content_text по следующей логике: если есть текст, то ставим 1, если нет - 0\n",
        "meme['content_text'].fillna(0, inplace = True)\n",
        "meme.loc[meme['content_text'] != 0, 'content_text'] = 1\n"
      ],
      "execution_count": null,
      "outputs": []
    },
    {
      "cell_type": "code",
      "metadata": {
        "colab": {
          "base_uri": "https://localhost:8080/"
        },
        "id": "1r8EtX2IgGvT",
        "outputId": "5daced3d-822a-4a7e-e526-55d13c5665dd"
      },
      "source": [
        "meme.language_id.value_counts()"
      ],
      "execution_count": null,
      "outputs": [
        {
          "output_type": "execute_result",
          "data": {
            "text/plain": [
              "2.0    41728\n",
              "3.0    36841\n",
              "4.0     5151\n",
              "1.0     3173\n",
              "5.0      256\n",
              "Name: language_id, dtype: int64"
            ]
          },
          "metadata": {
            "tags": []
          },
          "execution_count": 15
        }
      ]
    },
    {
      "cell_type": "code",
      "metadata": {
        "id": "a_go4BiDg5VY"
      },
      "source": [
        "import random\n",
        "nans = meme['language_id'].isna() # пропорциональное распределение языков по nan значениям\n",
        "language_ids = meme.language_id.unique()\n",
        "language_ids = language_ids[np.isnan(language_ids) == False]\n",
        "length = sum(nans)\n",
        "replacement = random.choices(language_ids, k=length)\n",
        "meme.loc[nans,'language_id'] = replacement"
      ],
      "execution_count": null,
      "outputs": []
    },
    {
      "cell_type": "code",
      "metadata": {
        "colab": {
          "base_uri": "https://localhost:8080/"
        },
        "id": "pQt_ZmAqhLbp",
        "outputId": "40658915-b86c-49b7-f60b-66e51b356e8f"
      },
      "source": [
        "meme.language_id.value_counts()"
      ],
      "execution_count": null,
      "outputs": [
        {
          "output_type": "execute_result",
          "data": {
            "text/plain": [
              "2.0    42084\n",
              "3.0    37193\n",
              "4.0     5496\n",
              "1.0     3522\n",
              "5.0      624\n",
              "Name: language_id, dtype: int64"
            ]
          },
          "metadata": {
            "tags": []
          },
          "execution_count": 17
        }
      ]
    },
    {
      "cell_type": "code",
      "metadata": {
        "colab": {
          "base_uri": "https://localhost:8080/"
        },
        "id": "-v-TwZSDhR00",
        "outputId": "056f4b4b-0659-4c27-de7d-770e21a22950"
      },
      "source": [
        "meme.isna().sum()"
      ],
      "execution_count": null,
      "outputs": [
        {
          "output_type": "execute_result",
          "data": {
            "text/plain": [
              "meme_id            0\n",
              "meme_type          0\n",
              "source_name        0\n",
              "published_at       0\n",
              "content_lang       0\n",
              "is_available       0\n",
              "likes              0\n",
              "dislikes           0\n",
              "source_id       2401\n",
              "content_text       0\n",
              "language_id        0\n",
              "dtype: int64"
            ]
          },
          "metadata": {
            "tags": []
          },
          "execution_count": 18
        }
      ]
    },
    {
      "cell_type": "code",
      "metadata": {
        "id": "ZpC1eA_4hVdc"
      },
      "source": [
        "meme['source_id'].fillna(0, inplace = True)"
      ],
      "execution_count": null,
      "outputs": []
    },
    {
      "cell_type": "code",
      "metadata": {
        "colab": {
          "base_uri": "https://localhost:8080/",
          "height": 202
        },
        "id": "DMzYvhxWhmJr",
        "outputId": "72bda476-5144-41a1-b39f-314d9358f12e"
      },
      "source": [
        "meme.head()"
      ],
      "execution_count": null,
      "outputs": [
        {
          "output_type": "execute_result",
          "data": {
            "text/html": [
              "<div>\n",
              "<style scoped>\n",
              "    .dataframe tbody tr th:only-of-type {\n",
              "        vertical-align: middle;\n",
              "    }\n",
              "\n",
              "    .dataframe tbody tr th {\n",
              "        vertical-align: top;\n",
              "    }\n",
              "\n",
              "    .dataframe thead th {\n",
              "        text-align: right;\n",
              "    }\n",
              "</style>\n",
              "<table border=\"1\" class=\"dataframe\">\n",
              "  <thead>\n",
              "    <tr style=\"text-align: right;\">\n",
              "      <th></th>\n",
              "      <th>meme_id</th>\n",
              "      <th>meme_type</th>\n",
              "      <th>source_name</th>\n",
              "      <th>published_at</th>\n",
              "      <th>content_lang</th>\n",
              "      <th>is_available</th>\n",
              "      <th>likes</th>\n",
              "      <th>dislikes</th>\n",
              "      <th>source_id</th>\n",
              "      <th>content_text</th>\n",
              "      <th>language_id</th>\n",
              "    </tr>\n",
              "  </thead>\n",
              "  <tbody>\n",
              "    <tr>\n",
              "      <th>0</th>\n",
              "      <td>13395</td>\n",
              "      <td>photo</td>\n",
              "      <td>https://vk.com/saintbeobanka</td>\n",
              "      <td>2020-03-28 00:22:26+00</td>\n",
              "      <td>0</td>\n",
              "      <td>True</td>\n",
              "      <td>28</td>\n",
              "      <td>38</td>\n",
              "      <td>10.0</td>\n",
              "      <td>1</td>\n",
              "      <td>2.0</td>\n",
              "    </tr>\n",
              "    <tr>\n",
              "      <th>1</th>\n",
              "      <td>13952</td>\n",
              "      <td>photo</td>\n",
              "      <td>https://www.reddit.com/r/wholesomememes/</td>\n",
              "      <td>2020-03-28 12:14:46+00</td>\n",
              "      <td>1</td>\n",
              "      <td>True</td>\n",
              "      <td>9</td>\n",
              "      <td>16</td>\n",
              "      <td>80.0</td>\n",
              "      <td>1</td>\n",
              "      <td>3.0</td>\n",
              "    </tr>\n",
              "    <tr>\n",
              "      <th>2</th>\n",
              "      <td>15593</td>\n",
              "      <td>photo</td>\n",
              "      <td>https://t.me/LaQeque</td>\n",
              "      <td>2020-03-30 09:11:04+00</td>\n",
              "      <td>0</td>\n",
              "      <td>True</td>\n",
              "      <td>41</td>\n",
              "      <td>54</td>\n",
              "      <td>19.0</td>\n",
              "      <td>1</td>\n",
              "      <td>2.0</td>\n",
              "    </tr>\n",
              "    <tr>\n",
              "      <th>3</th>\n",
              "      <td>18442</td>\n",
              "      <td>photo</td>\n",
              "      <td>https://www.reddit.com/r/dankmemes/</td>\n",
              "      <td>2020-04-01 22:53:31+00</td>\n",
              "      <td>1</td>\n",
              "      <td>True</td>\n",
              "      <td>87</td>\n",
              "      <td>48</td>\n",
              "      <td>78.0</td>\n",
              "      <td>1</td>\n",
              "      <td>3.0</td>\n",
              "    </tr>\n",
              "    <tr>\n",
              "      <th>4</th>\n",
              "      <td>20798</td>\n",
              "      <td>photo</td>\n",
              "      <td>https://vk.com/wtf.rasha</td>\n",
              "      <td>2020-04-04 11:15:01+00</td>\n",
              "      <td>0</td>\n",
              "      <td>True</td>\n",
              "      <td>234</td>\n",
              "      <td>178</td>\n",
              "      <td>9.0</td>\n",
              "      <td>1</td>\n",
              "      <td>2.0</td>\n",
              "    </tr>\n",
              "  </tbody>\n",
              "</table>\n",
              "</div>"
            ],
            "text/plain": [
              "   meme_id meme_type  ... content_text language_id\n",
              "0    13395     photo  ...            1         2.0\n",
              "1    13952     photo  ...            1         3.0\n",
              "2    15593     photo  ...            1         2.0\n",
              "3    18442     photo  ...            1         3.0\n",
              "4    20798     photo  ...            1         2.0\n",
              "\n",
              "[5 rows x 11 columns]"
            ]
          },
          "metadata": {
            "tags": []
          },
          "execution_count": 20
        }
      ]
    },
    {
      "cell_type": "code",
      "metadata": {
        "id": "78766UBGh0s1"
      },
      "source": [
        "meme = pd.get_dummies(meme, columns = ['meme_type'])"
      ],
      "execution_count": null,
      "outputs": []
    },
    {
      "cell_type": "code",
      "metadata": {
        "colab": {
          "base_uri": "https://localhost:8080/",
          "height": 416
        },
        "id": "R7mTHdlRh58p",
        "outputId": "d8f42596-ebec-4a00-929b-eb498a1bae02"
      },
      "source": [
        "meme"
      ],
      "execution_count": null,
      "outputs": [
        {
          "output_type": "execute_result",
          "data": {
            "text/html": [
              "<div>\n",
              "<style scoped>\n",
              "    .dataframe tbody tr th:only-of-type {\n",
              "        vertical-align: middle;\n",
              "    }\n",
              "\n",
              "    .dataframe tbody tr th {\n",
              "        vertical-align: top;\n",
              "    }\n",
              "\n",
              "    .dataframe thead th {\n",
              "        text-align: right;\n",
              "    }\n",
              "</style>\n",
              "<table border=\"1\" class=\"dataframe\">\n",
              "  <thead>\n",
              "    <tr style=\"text-align: right;\">\n",
              "      <th></th>\n",
              "      <th>meme_id</th>\n",
              "      <th>source_name</th>\n",
              "      <th>published_at</th>\n",
              "      <th>content_lang</th>\n",
              "      <th>is_available</th>\n",
              "      <th>likes</th>\n",
              "      <th>dislikes</th>\n",
              "      <th>source_id</th>\n",
              "      <th>content_text</th>\n",
              "      <th>language_id</th>\n",
              "      <th>meme_type_animation</th>\n",
              "      <th>meme_type_photo</th>\n",
              "      <th>meme_type_video</th>\n",
              "    </tr>\n",
              "  </thead>\n",
              "  <tbody>\n",
              "    <tr>\n",
              "      <th>0</th>\n",
              "      <td>13395</td>\n",
              "      <td>https://vk.com/saintbeobanka</td>\n",
              "      <td>2020-03-28 00:22:26+00</td>\n",
              "      <td>0</td>\n",
              "      <td>True</td>\n",
              "      <td>28</td>\n",
              "      <td>38</td>\n",
              "      <td>10.0</td>\n",
              "      <td>1</td>\n",
              "      <td>2.0</td>\n",
              "      <td>0</td>\n",
              "      <td>1</td>\n",
              "      <td>0</td>\n",
              "    </tr>\n",
              "    <tr>\n",
              "      <th>1</th>\n",
              "      <td>13952</td>\n",
              "      <td>https://www.reddit.com/r/wholesomememes/</td>\n",
              "      <td>2020-03-28 12:14:46+00</td>\n",
              "      <td>1</td>\n",
              "      <td>True</td>\n",
              "      <td>9</td>\n",
              "      <td>16</td>\n",
              "      <td>80.0</td>\n",
              "      <td>1</td>\n",
              "      <td>3.0</td>\n",
              "      <td>0</td>\n",
              "      <td>1</td>\n",
              "      <td>0</td>\n",
              "    </tr>\n",
              "    <tr>\n",
              "      <th>2</th>\n",
              "      <td>15593</td>\n",
              "      <td>https://t.me/LaQeque</td>\n",
              "      <td>2020-03-30 09:11:04+00</td>\n",
              "      <td>0</td>\n",
              "      <td>True</td>\n",
              "      <td>41</td>\n",
              "      <td>54</td>\n",
              "      <td>19.0</td>\n",
              "      <td>1</td>\n",
              "      <td>2.0</td>\n",
              "      <td>0</td>\n",
              "      <td>1</td>\n",
              "      <td>0</td>\n",
              "    </tr>\n",
              "    <tr>\n",
              "      <th>3</th>\n",
              "      <td>18442</td>\n",
              "      <td>https://www.reddit.com/r/dankmemes/</td>\n",
              "      <td>2020-04-01 22:53:31+00</td>\n",
              "      <td>1</td>\n",
              "      <td>True</td>\n",
              "      <td>87</td>\n",
              "      <td>48</td>\n",
              "      <td>78.0</td>\n",
              "      <td>1</td>\n",
              "      <td>3.0</td>\n",
              "      <td>0</td>\n",
              "      <td>1</td>\n",
              "      <td>0</td>\n",
              "    </tr>\n",
              "    <tr>\n",
              "      <th>4</th>\n",
              "      <td>20798</td>\n",
              "      <td>https://vk.com/wtf.rasha</td>\n",
              "      <td>2020-04-04 11:15:01+00</td>\n",
              "      <td>0</td>\n",
              "      <td>True</td>\n",
              "      <td>234</td>\n",
              "      <td>178</td>\n",
              "      <td>9.0</td>\n",
              "      <td>1</td>\n",
              "      <td>2.0</td>\n",
              "      <td>0</td>\n",
              "      <td>1</td>\n",
              "      <td>0</td>\n",
              "    </tr>\n",
              "    <tr>\n",
              "      <th>...</th>\n",
              "      <td>...</td>\n",
              "      <td>...</td>\n",
              "      <td>...</td>\n",
              "      <td>...</td>\n",
              "      <td>...</td>\n",
              "      <td>...</td>\n",
              "      <td>...</td>\n",
              "      <td>...</td>\n",
              "      <td>...</td>\n",
              "      <td>...</td>\n",
              "      <td>...</td>\n",
              "      <td>...</td>\n",
              "      <td>...</td>\n",
              "    </tr>\n",
              "    <tr>\n",
              "      <th>88914</th>\n",
              "      <td>50179</td>\n",
              "      <td>https://vk.com/socialburr</td>\n",
              "      <td>2020-07-12 12:14:20+00</td>\n",
              "      <td>0</td>\n",
              "      <td>True</td>\n",
              "      <td>662</td>\n",
              "      <td>624</td>\n",
              "      <td>46.0</td>\n",
              "      <td>1</td>\n",
              "      <td>2.0</td>\n",
              "      <td>0</td>\n",
              "      <td>1</td>\n",
              "      <td>0</td>\n",
              "    </tr>\n",
              "    <tr>\n",
              "      <th>88915</th>\n",
              "      <td>61616</td>\n",
              "      <td>https://t.me/leninstreet</td>\n",
              "      <td>2020-09-30 16:00:06+00</td>\n",
              "      <td>0</td>\n",
              "      <td>True</td>\n",
              "      <td>133</td>\n",
              "      <td>150</td>\n",
              "      <td>29.0</td>\n",
              "      <td>1</td>\n",
              "      <td>2.0</td>\n",
              "      <td>0</td>\n",
              "      <td>1</td>\n",
              "      <td>0</td>\n",
              "    </tr>\n",
              "    <tr>\n",
              "      <th>88916</th>\n",
              "      <td>22283</td>\n",
              "      <td>https://vk.com/eternalclassic</td>\n",
              "      <td>2020-04-05 16:40:00+00</td>\n",
              "      <td>1</td>\n",
              "      <td>False</td>\n",
              "      <td>5</td>\n",
              "      <td>11</td>\n",
              "      <td>4.0</td>\n",
              "      <td>1</td>\n",
              "      <td>3.0</td>\n",
              "      <td>0</td>\n",
              "      <td>1</td>\n",
              "      <td>0</td>\n",
              "    </tr>\n",
              "    <tr>\n",
              "      <th>88917</th>\n",
              "      <td>80056</td>\n",
              "      <td>https://t.me/low_content</td>\n",
              "      <td>2020-12-31 05:03:01+00</td>\n",
              "      <td>2</td>\n",
              "      <td>True</td>\n",
              "      <td>35</td>\n",
              "      <td>54</td>\n",
              "      <td>147.0</td>\n",
              "      <td>0</td>\n",
              "      <td>2.0</td>\n",
              "      <td>0</td>\n",
              "      <td>1</td>\n",
              "      <td>0</td>\n",
              "    </tr>\n",
              "    <tr>\n",
              "      <th>88918</th>\n",
              "      <td>36686</td>\n",
              "      <td>https://vk.com/eternalclassic</td>\n",
              "      <td>2020-05-05 17:40:00+00</td>\n",
              "      <td>1</td>\n",
              "      <td>False</td>\n",
              "      <td>6</td>\n",
              "      <td>11</td>\n",
              "      <td>4.0</td>\n",
              "      <td>1</td>\n",
              "      <td>3.0</td>\n",
              "      <td>0</td>\n",
              "      <td>1</td>\n",
              "      <td>0</td>\n",
              "    </tr>\n",
              "  </tbody>\n",
              "</table>\n",
              "<p>88919 rows × 13 columns</p>\n",
              "</div>"
            ],
            "text/plain": [
              "       meme_id  ... meme_type_video\n",
              "0        13395  ...               0\n",
              "1        13952  ...               0\n",
              "2        15593  ...               0\n",
              "3        18442  ...               0\n",
              "4        20798  ...               0\n",
              "...        ...  ...             ...\n",
              "88914    50179  ...               0\n",
              "88915    61616  ...               0\n",
              "88916    22283  ...               0\n",
              "88917    80056  ...               0\n",
              "88918    36686  ...               0\n",
              "\n",
              "[88919 rows x 13 columns]"
            ]
          },
          "metadata": {
            "tags": []
          },
          "execution_count": 22
        }
      ]
    },
    {
      "cell_type": "code",
      "metadata": {
        "colab": {
          "base_uri": "https://localhost:8080/"
        },
        "id": "kQYx3PFRipmz",
        "outputId": "64dd08bf-1aa5-4f53-f7ee-f0d24efc635c"
      },
      "source": [
        "meme.source_name.str[8:13].value_counts()"
      ],
      "execution_count": null,
      "outputs": [
        {
          "output_type": "execute_result",
          "data": {
            "text/plain": [
              "t.me/    30063\n",
              "vk.co    28664\n",
              "www.r    20609\n",
              "insta     9325\n",
              "            89\n",
              "         ...  \n",
              "byrek        1\n",
              "shaft        1\n",
              "HEK          1\n",
              "пікчі        1\n",
              "2901         1\n",
              "Name: source_name, Length: 77, dtype: int64"
            ]
          },
          "metadata": {
            "tags": []
          },
          "execution_count": 23
        }
      ]
    },
    {
      "cell_type": "code",
      "metadata": {
        "colab": {
          "base_uri": "https://localhost:8080/",
          "height": 416
        },
        "id": "VSA_a6hQigi7",
        "outputId": "d8a8eea2-f298-4ece-be2a-ea48c84a4aba"
      },
      "source": [
        "# преобразование source_name. vk - 0, telegram - 1, reddit - 2, inst - 3, иной источник - 4.\n",
        "meme['source_grouped'] = meme.source_name.str[8:13]\n",
        "meme.source_grouped.replace({'vk.co':0, 't.me/':1, 'www.r':2, 'insta':3}, inplace = True)\n",
        "meme.loc[(meme['source_grouped'] != 0) & (meme['source_grouped'] != 1) & (meme['source_grouped'] != 2) & (meme['source_grouped'] != 3), 'source_grouped'] = 4\n",
        "meme.drop('source_name', axis = 1, inplace = True)\n",
        "meme"
      ],
      "execution_count": null,
      "outputs": [
        {
          "output_type": "execute_result",
          "data": {
            "text/html": [
              "<div>\n",
              "<style scoped>\n",
              "    .dataframe tbody tr th:only-of-type {\n",
              "        vertical-align: middle;\n",
              "    }\n",
              "\n",
              "    .dataframe tbody tr th {\n",
              "        vertical-align: top;\n",
              "    }\n",
              "\n",
              "    .dataframe thead th {\n",
              "        text-align: right;\n",
              "    }\n",
              "</style>\n",
              "<table border=\"1\" class=\"dataframe\">\n",
              "  <thead>\n",
              "    <tr style=\"text-align: right;\">\n",
              "      <th></th>\n",
              "      <th>meme_id</th>\n",
              "      <th>published_at</th>\n",
              "      <th>content_lang</th>\n",
              "      <th>is_available</th>\n",
              "      <th>likes</th>\n",
              "      <th>dislikes</th>\n",
              "      <th>source_id</th>\n",
              "      <th>content_text</th>\n",
              "      <th>language_id</th>\n",
              "      <th>meme_type_animation</th>\n",
              "      <th>meme_type_photo</th>\n",
              "      <th>meme_type_video</th>\n",
              "      <th>source_grouped</th>\n",
              "    </tr>\n",
              "  </thead>\n",
              "  <tbody>\n",
              "    <tr>\n",
              "      <th>0</th>\n",
              "      <td>13395</td>\n",
              "      <td>2020-03-28 00:22:26+00</td>\n",
              "      <td>0</td>\n",
              "      <td>True</td>\n",
              "      <td>28</td>\n",
              "      <td>38</td>\n",
              "      <td>10.0</td>\n",
              "      <td>1</td>\n",
              "      <td>2.0</td>\n",
              "      <td>0</td>\n",
              "      <td>1</td>\n",
              "      <td>0</td>\n",
              "      <td>0</td>\n",
              "    </tr>\n",
              "    <tr>\n",
              "      <th>1</th>\n",
              "      <td>13952</td>\n",
              "      <td>2020-03-28 12:14:46+00</td>\n",
              "      <td>1</td>\n",
              "      <td>True</td>\n",
              "      <td>9</td>\n",
              "      <td>16</td>\n",
              "      <td>80.0</td>\n",
              "      <td>1</td>\n",
              "      <td>3.0</td>\n",
              "      <td>0</td>\n",
              "      <td>1</td>\n",
              "      <td>0</td>\n",
              "      <td>2</td>\n",
              "    </tr>\n",
              "    <tr>\n",
              "      <th>2</th>\n",
              "      <td>15593</td>\n",
              "      <td>2020-03-30 09:11:04+00</td>\n",
              "      <td>0</td>\n",
              "      <td>True</td>\n",
              "      <td>41</td>\n",
              "      <td>54</td>\n",
              "      <td>19.0</td>\n",
              "      <td>1</td>\n",
              "      <td>2.0</td>\n",
              "      <td>0</td>\n",
              "      <td>1</td>\n",
              "      <td>0</td>\n",
              "      <td>1</td>\n",
              "    </tr>\n",
              "    <tr>\n",
              "      <th>3</th>\n",
              "      <td>18442</td>\n",
              "      <td>2020-04-01 22:53:31+00</td>\n",
              "      <td>1</td>\n",
              "      <td>True</td>\n",
              "      <td>87</td>\n",
              "      <td>48</td>\n",
              "      <td>78.0</td>\n",
              "      <td>1</td>\n",
              "      <td>3.0</td>\n",
              "      <td>0</td>\n",
              "      <td>1</td>\n",
              "      <td>0</td>\n",
              "      <td>2</td>\n",
              "    </tr>\n",
              "    <tr>\n",
              "      <th>4</th>\n",
              "      <td>20798</td>\n",
              "      <td>2020-04-04 11:15:01+00</td>\n",
              "      <td>0</td>\n",
              "      <td>True</td>\n",
              "      <td>234</td>\n",
              "      <td>178</td>\n",
              "      <td>9.0</td>\n",
              "      <td>1</td>\n",
              "      <td>2.0</td>\n",
              "      <td>0</td>\n",
              "      <td>1</td>\n",
              "      <td>0</td>\n",
              "      <td>0</td>\n",
              "    </tr>\n",
              "    <tr>\n",
              "      <th>...</th>\n",
              "      <td>...</td>\n",
              "      <td>...</td>\n",
              "      <td>...</td>\n",
              "      <td>...</td>\n",
              "      <td>...</td>\n",
              "      <td>...</td>\n",
              "      <td>...</td>\n",
              "      <td>...</td>\n",
              "      <td>...</td>\n",
              "      <td>...</td>\n",
              "      <td>...</td>\n",
              "      <td>...</td>\n",
              "      <td>...</td>\n",
              "    </tr>\n",
              "    <tr>\n",
              "      <th>88914</th>\n",
              "      <td>50179</td>\n",
              "      <td>2020-07-12 12:14:20+00</td>\n",
              "      <td>0</td>\n",
              "      <td>True</td>\n",
              "      <td>662</td>\n",
              "      <td>624</td>\n",
              "      <td>46.0</td>\n",
              "      <td>1</td>\n",
              "      <td>2.0</td>\n",
              "      <td>0</td>\n",
              "      <td>1</td>\n",
              "      <td>0</td>\n",
              "      <td>0</td>\n",
              "    </tr>\n",
              "    <tr>\n",
              "      <th>88915</th>\n",
              "      <td>61616</td>\n",
              "      <td>2020-09-30 16:00:06+00</td>\n",
              "      <td>0</td>\n",
              "      <td>True</td>\n",
              "      <td>133</td>\n",
              "      <td>150</td>\n",
              "      <td>29.0</td>\n",
              "      <td>1</td>\n",
              "      <td>2.0</td>\n",
              "      <td>0</td>\n",
              "      <td>1</td>\n",
              "      <td>0</td>\n",
              "      <td>1</td>\n",
              "    </tr>\n",
              "    <tr>\n",
              "      <th>88916</th>\n",
              "      <td>22283</td>\n",
              "      <td>2020-04-05 16:40:00+00</td>\n",
              "      <td>1</td>\n",
              "      <td>False</td>\n",
              "      <td>5</td>\n",
              "      <td>11</td>\n",
              "      <td>4.0</td>\n",
              "      <td>1</td>\n",
              "      <td>3.0</td>\n",
              "      <td>0</td>\n",
              "      <td>1</td>\n",
              "      <td>0</td>\n",
              "      <td>0</td>\n",
              "    </tr>\n",
              "    <tr>\n",
              "      <th>88917</th>\n",
              "      <td>80056</td>\n",
              "      <td>2020-12-31 05:03:01+00</td>\n",
              "      <td>2</td>\n",
              "      <td>True</td>\n",
              "      <td>35</td>\n",
              "      <td>54</td>\n",
              "      <td>147.0</td>\n",
              "      <td>0</td>\n",
              "      <td>2.0</td>\n",
              "      <td>0</td>\n",
              "      <td>1</td>\n",
              "      <td>0</td>\n",
              "      <td>1</td>\n",
              "    </tr>\n",
              "    <tr>\n",
              "      <th>88918</th>\n",
              "      <td>36686</td>\n",
              "      <td>2020-05-05 17:40:00+00</td>\n",
              "      <td>1</td>\n",
              "      <td>False</td>\n",
              "      <td>6</td>\n",
              "      <td>11</td>\n",
              "      <td>4.0</td>\n",
              "      <td>1</td>\n",
              "      <td>3.0</td>\n",
              "      <td>0</td>\n",
              "      <td>1</td>\n",
              "      <td>0</td>\n",
              "      <td>0</td>\n",
              "    </tr>\n",
              "  </tbody>\n",
              "</table>\n",
              "<p>88919 rows × 13 columns</p>\n",
              "</div>"
            ],
            "text/plain": [
              "       meme_id            published_at  ... meme_type_video  source_grouped\n",
              "0        13395  2020-03-28 00:22:26+00  ...               0               0\n",
              "1        13952  2020-03-28 12:14:46+00  ...               0               2\n",
              "2        15593  2020-03-30 09:11:04+00  ...               0               1\n",
              "3        18442  2020-04-01 22:53:31+00  ...               0               2\n",
              "4        20798  2020-04-04 11:15:01+00  ...               0               0\n",
              "...        ...                     ...  ...             ...             ...\n",
              "88914    50179  2020-07-12 12:14:20+00  ...               0               0\n",
              "88915    61616  2020-09-30 16:00:06+00  ...               0               1\n",
              "88916    22283  2020-04-05 16:40:00+00  ...               0               0\n",
              "88917    80056  2020-12-31 05:03:01+00  ...               0               1\n",
              "88918    36686  2020-05-05 17:40:00+00  ...               0               0\n",
              "\n",
              "[88919 rows x 13 columns]"
            ]
          },
          "metadata": {
            "tags": []
          },
          "execution_count": 24
        }
      ]
    },
    {
      "cell_type": "code",
      "metadata": {
        "colab": {
          "base_uri": "https://localhost:8080/",
          "height": 416
        },
        "id": "Z3MEdg0_i699",
        "outputId": "75b2e6ad-0abf-4d0e-a5bb-d32017bc2d72"
      },
      "source": [
        "meme['is_available'] = meme['is_available'].astype(int)\n",
        "meme"
      ],
      "execution_count": null,
      "outputs": [
        {
          "output_type": "execute_result",
          "data": {
            "text/html": [
              "<div>\n",
              "<style scoped>\n",
              "    .dataframe tbody tr th:only-of-type {\n",
              "        vertical-align: middle;\n",
              "    }\n",
              "\n",
              "    .dataframe tbody tr th {\n",
              "        vertical-align: top;\n",
              "    }\n",
              "\n",
              "    .dataframe thead th {\n",
              "        text-align: right;\n",
              "    }\n",
              "</style>\n",
              "<table border=\"1\" class=\"dataframe\">\n",
              "  <thead>\n",
              "    <tr style=\"text-align: right;\">\n",
              "      <th></th>\n",
              "      <th>meme_id</th>\n",
              "      <th>published_at</th>\n",
              "      <th>content_lang</th>\n",
              "      <th>is_available</th>\n",
              "      <th>likes</th>\n",
              "      <th>dislikes</th>\n",
              "      <th>source_id</th>\n",
              "      <th>content_text</th>\n",
              "      <th>language_id</th>\n",
              "      <th>meme_type_animation</th>\n",
              "      <th>meme_type_photo</th>\n",
              "      <th>meme_type_video</th>\n",
              "      <th>source_grouped</th>\n",
              "    </tr>\n",
              "  </thead>\n",
              "  <tbody>\n",
              "    <tr>\n",
              "      <th>0</th>\n",
              "      <td>13395</td>\n",
              "      <td>2020-03-28 00:22:26+00</td>\n",
              "      <td>0</td>\n",
              "      <td>1</td>\n",
              "      <td>28</td>\n",
              "      <td>38</td>\n",
              "      <td>10.0</td>\n",
              "      <td>1</td>\n",
              "      <td>2.0</td>\n",
              "      <td>0</td>\n",
              "      <td>1</td>\n",
              "      <td>0</td>\n",
              "      <td>0</td>\n",
              "    </tr>\n",
              "    <tr>\n",
              "      <th>1</th>\n",
              "      <td>13952</td>\n",
              "      <td>2020-03-28 12:14:46+00</td>\n",
              "      <td>1</td>\n",
              "      <td>1</td>\n",
              "      <td>9</td>\n",
              "      <td>16</td>\n",
              "      <td>80.0</td>\n",
              "      <td>1</td>\n",
              "      <td>3.0</td>\n",
              "      <td>0</td>\n",
              "      <td>1</td>\n",
              "      <td>0</td>\n",
              "      <td>2</td>\n",
              "    </tr>\n",
              "    <tr>\n",
              "      <th>2</th>\n",
              "      <td>15593</td>\n",
              "      <td>2020-03-30 09:11:04+00</td>\n",
              "      <td>0</td>\n",
              "      <td>1</td>\n",
              "      <td>41</td>\n",
              "      <td>54</td>\n",
              "      <td>19.0</td>\n",
              "      <td>1</td>\n",
              "      <td>2.0</td>\n",
              "      <td>0</td>\n",
              "      <td>1</td>\n",
              "      <td>0</td>\n",
              "      <td>1</td>\n",
              "    </tr>\n",
              "    <tr>\n",
              "      <th>3</th>\n",
              "      <td>18442</td>\n",
              "      <td>2020-04-01 22:53:31+00</td>\n",
              "      <td>1</td>\n",
              "      <td>1</td>\n",
              "      <td>87</td>\n",
              "      <td>48</td>\n",
              "      <td>78.0</td>\n",
              "      <td>1</td>\n",
              "      <td>3.0</td>\n",
              "      <td>0</td>\n",
              "      <td>1</td>\n",
              "      <td>0</td>\n",
              "      <td>2</td>\n",
              "    </tr>\n",
              "    <tr>\n",
              "      <th>4</th>\n",
              "      <td>20798</td>\n",
              "      <td>2020-04-04 11:15:01+00</td>\n",
              "      <td>0</td>\n",
              "      <td>1</td>\n",
              "      <td>234</td>\n",
              "      <td>178</td>\n",
              "      <td>9.0</td>\n",
              "      <td>1</td>\n",
              "      <td>2.0</td>\n",
              "      <td>0</td>\n",
              "      <td>1</td>\n",
              "      <td>0</td>\n",
              "      <td>0</td>\n",
              "    </tr>\n",
              "    <tr>\n",
              "      <th>...</th>\n",
              "      <td>...</td>\n",
              "      <td>...</td>\n",
              "      <td>...</td>\n",
              "      <td>...</td>\n",
              "      <td>...</td>\n",
              "      <td>...</td>\n",
              "      <td>...</td>\n",
              "      <td>...</td>\n",
              "      <td>...</td>\n",
              "      <td>...</td>\n",
              "      <td>...</td>\n",
              "      <td>...</td>\n",
              "      <td>...</td>\n",
              "    </tr>\n",
              "    <tr>\n",
              "      <th>88914</th>\n",
              "      <td>50179</td>\n",
              "      <td>2020-07-12 12:14:20+00</td>\n",
              "      <td>0</td>\n",
              "      <td>1</td>\n",
              "      <td>662</td>\n",
              "      <td>624</td>\n",
              "      <td>46.0</td>\n",
              "      <td>1</td>\n",
              "      <td>2.0</td>\n",
              "      <td>0</td>\n",
              "      <td>1</td>\n",
              "      <td>0</td>\n",
              "      <td>0</td>\n",
              "    </tr>\n",
              "    <tr>\n",
              "      <th>88915</th>\n",
              "      <td>61616</td>\n",
              "      <td>2020-09-30 16:00:06+00</td>\n",
              "      <td>0</td>\n",
              "      <td>1</td>\n",
              "      <td>133</td>\n",
              "      <td>150</td>\n",
              "      <td>29.0</td>\n",
              "      <td>1</td>\n",
              "      <td>2.0</td>\n",
              "      <td>0</td>\n",
              "      <td>1</td>\n",
              "      <td>0</td>\n",
              "      <td>1</td>\n",
              "    </tr>\n",
              "    <tr>\n",
              "      <th>88916</th>\n",
              "      <td>22283</td>\n",
              "      <td>2020-04-05 16:40:00+00</td>\n",
              "      <td>1</td>\n",
              "      <td>0</td>\n",
              "      <td>5</td>\n",
              "      <td>11</td>\n",
              "      <td>4.0</td>\n",
              "      <td>1</td>\n",
              "      <td>3.0</td>\n",
              "      <td>0</td>\n",
              "      <td>1</td>\n",
              "      <td>0</td>\n",
              "      <td>0</td>\n",
              "    </tr>\n",
              "    <tr>\n",
              "      <th>88917</th>\n",
              "      <td>80056</td>\n",
              "      <td>2020-12-31 05:03:01+00</td>\n",
              "      <td>2</td>\n",
              "      <td>1</td>\n",
              "      <td>35</td>\n",
              "      <td>54</td>\n",
              "      <td>147.0</td>\n",
              "      <td>0</td>\n",
              "      <td>2.0</td>\n",
              "      <td>0</td>\n",
              "      <td>1</td>\n",
              "      <td>0</td>\n",
              "      <td>1</td>\n",
              "    </tr>\n",
              "    <tr>\n",
              "      <th>88918</th>\n",
              "      <td>36686</td>\n",
              "      <td>2020-05-05 17:40:00+00</td>\n",
              "      <td>1</td>\n",
              "      <td>0</td>\n",
              "      <td>6</td>\n",
              "      <td>11</td>\n",
              "      <td>4.0</td>\n",
              "      <td>1</td>\n",
              "      <td>3.0</td>\n",
              "      <td>0</td>\n",
              "      <td>1</td>\n",
              "      <td>0</td>\n",
              "      <td>0</td>\n",
              "    </tr>\n",
              "  </tbody>\n",
              "</table>\n",
              "<p>88919 rows × 13 columns</p>\n",
              "</div>"
            ],
            "text/plain": [
              "       meme_id            published_at  ... meme_type_video  source_grouped\n",
              "0        13395  2020-03-28 00:22:26+00  ...               0               0\n",
              "1        13952  2020-03-28 12:14:46+00  ...               0               2\n",
              "2        15593  2020-03-30 09:11:04+00  ...               0               1\n",
              "3        18442  2020-04-01 22:53:31+00  ...               0               2\n",
              "4        20798  2020-04-04 11:15:01+00  ...               0               0\n",
              "...        ...                     ...  ...             ...             ...\n",
              "88914    50179  2020-07-12 12:14:20+00  ...               0               0\n",
              "88915    61616  2020-09-30 16:00:06+00  ...               0               1\n",
              "88916    22283  2020-04-05 16:40:00+00  ...               0               0\n",
              "88917    80056  2020-12-31 05:03:01+00  ...               0               1\n",
              "88918    36686  2020-05-05 17:40:00+00  ...               0               0\n",
              "\n",
              "[88919 rows x 13 columns]"
            ]
          },
          "metadata": {
            "tags": []
          },
          "execution_count": 25
        }
      ]
    },
    {
      "cell_type": "code",
      "metadata": {
        "colab": {
          "base_uri": "https://localhost:8080/"
        },
        "id": "wwZRU2L6om48",
        "outputId": "25856696-ee93-4089-8c08-29468984f610"
      },
      "source": [
        "meme['published_at'] = meme['published_at'].str[0:4].astype(int) # Вытащим из даты только год\n",
        "meme['published_at'].value_counts()"
      ],
      "execution_count": null,
      "outputs": [
        {
          "output_type": "execute_result",
          "data": {
            "text/plain": [
              "2020    76791\n",
              "2021    12064\n",
              "2019       51\n",
              "2018        7\n",
              "2017        4\n",
              "2016        1\n",
              "2014        1\n",
              "Name: published_at, dtype: int64"
            ]
          },
          "metadata": {
            "tags": []
          },
          "execution_count": 26
        }
      ]
    },
    {
      "cell_type": "code",
      "metadata": {
        "id": "D9k2PFGgw9hD"
      },
      "source": [
        "#преобразуем published_at по логике: если мем опубликован в 2021 году - 1, в ином случае - 0\n",
        "meme.published_at.replace({2021:1}, inplace = True)\n",
        "meme.loc[meme['published_at'] != 1, 'published_at'] = 0\n",
        "meme['published_at'].value_counts()\n",
        "meme.rename(columns = {'published_at' : 'published_at2021'}, inplace = True)"
      ],
      "execution_count": null,
      "outputs": []
    },
    {
      "cell_type": "code",
      "metadata": {
        "id": "GnlNPaxrz-c7"
      },
      "source": [
        "meme.set_index('meme_id', inplace = True)"
      ],
      "execution_count": null,
      "outputs": []
    },
    {
      "cell_type": "code",
      "metadata": {
        "colab": {
          "base_uri": "https://localhost:8080/",
          "height": 233
        },
        "id": "R5EXXQtm9dyB",
        "outputId": "ffd82ec3-ed8d-4473-ed93-12ca42f49fcf"
      },
      "source": [
        "meme.head()"
      ],
      "execution_count": null,
      "outputs": [
        {
          "output_type": "execute_result",
          "data": {
            "text/html": [
              "<div>\n",
              "<style scoped>\n",
              "    .dataframe tbody tr th:only-of-type {\n",
              "        vertical-align: middle;\n",
              "    }\n",
              "\n",
              "    .dataframe tbody tr th {\n",
              "        vertical-align: top;\n",
              "    }\n",
              "\n",
              "    .dataframe thead th {\n",
              "        text-align: right;\n",
              "    }\n",
              "</style>\n",
              "<table border=\"1\" class=\"dataframe\">\n",
              "  <thead>\n",
              "    <tr style=\"text-align: right;\">\n",
              "      <th></th>\n",
              "      <th>published_at2021</th>\n",
              "      <th>content_lang</th>\n",
              "      <th>is_available</th>\n",
              "      <th>likes</th>\n",
              "      <th>dislikes</th>\n",
              "      <th>source_id</th>\n",
              "      <th>content_text</th>\n",
              "      <th>language_id</th>\n",
              "      <th>meme_type_animation</th>\n",
              "      <th>meme_type_photo</th>\n",
              "      <th>meme_type_video</th>\n",
              "      <th>source_grouped</th>\n",
              "    </tr>\n",
              "    <tr>\n",
              "      <th>meme_id</th>\n",
              "      <th></th>\n",
              "      <th></th>\n",
              "      <th></th>\n",
              "      <th></th>\n",
              "      <th></th>\n",
              "      <th></th>\n",
              "      <th></th>\n",
              "      <th></th>\n",
              "      <th></th>\n",
              "      <th></th>\n",
              "      <th></th>\n",
              "      <th></th>\n",
              "    </tr>\n",
              "  </thead>\n",
              "  <tbody>\n",
              "    <tr>\n",
              "      <th>13395</th>\n",
              "      <td>0</td>\n",
              "      <td>0</td>\n",
              "      <td>1</td>\n",
              "      <td>28</td>\n",
              "      <td>38</td>\n",
              "      <td>10.0</td>\n",
              "      <td>1</td>\n",
              "      <td>2.0</td>\n",
              "      <td>0</td>\n",
              "      <td>1</td>\n",
              "      <td>0</td>\n",
              "      <td>0</td>\n",
              "    </tr>\n",
              "    <tr>\n",
              "      <th>13952</th>\n",
              "      <td>0</td>\n",
              "      <td>1</td>\n",
              "      <td>1</td>\n",
              "      <td>9</td>\n",
              "      <td>16</td>\n",
              "      <td>80.0</td>\n",
              "      <td>1</td>\n",
              "      <td>3.0</td>\n",
              "      <td>0</td>\n",
              "      <td>1</td>\n",
              "      <td>0</td>\n",
              "      <td>2</td>\n",
              "    </tr>\n",
              "    <tr>\n",
              "      <th>15593</th>\n",
              "      <td>0</td>\n",
              "      <td>0</td>\n",
              "      <td>1</td>\n",
              "      <td>41</td>\n",
              "      <td>54</td>\n",
              "      <td>19.0</td>\n",
              "      <td>1</td>\n",
              "      <td>2.0</td>\n",
              "      <td>0</td>\n",
              "      <td>1</td>\n",
              "      <td>0</td>\n",
              "      <td>1</td>\n",
              "    </tr>\n",
              "    <tr>\n",
              "      <th>18442</th>\n",
              "      <td>0</td>\n",
              "      <td>1</td>\n",
              "      <td>1</td>\n",
              "      <td>87</td>\n",
              "      <td>48</td>\n",
              "      <td>78.0</td>\n",
              "      <td>1</td>\n",
              "      <td>3.0</td>\n",
              "      <td>0</td>\n",
              "      <td>1</td>\n",
              "      <td>0</td>\n",
              "      <td>2</td>\n",
              "    </tr>\n",
              "    <tr>\n",
              "      <th>20798</th>\n",
              "      <td>0</td>\n",
              "      <td>0</td>\n",
              "      <td>1</td>\n",
              "      <td>234</td>\n",
              "      <td>178</td>\n",
              "      <td>9.0</td>\n",
              "      <td>1</td>\n",
              "      <td>2.0</td>\n",
              "      <td>0</td>\n",
              "      <td>1</td>\n",
              "      <td>0</td>\n",
              "      <td>0</td>\n",
              "    </tr>\n",
              "  </tbody>\n",
              "</table>\n",
              "</div>"
            ],
            "text/plain": [
              "         published_at2021 content_lang  ...  meme_type_video  source_grouped\n",
              "meme_id                                 ...                                 \n",
              "13395                   0            0  ...                0               0\n",
              "13952                   0            1  ...                0               2\n",
              "15593                   0            0  ...                0               1\n",
              "18442                   0            1  ...                0               2\n",
              "20798                   0            0  ...                0               0\n",
              "\n",
              "[5 rows x 12 columns]"
            ]
          },
          "metadata": {
            "tags": []
          },
          "execution_count": 29
        }
      ]
    },
    {
      "cell_type": "markdown",
      "metadata": {
        "id": "3bJrydfG9C3M"
      },
      "source": [
        "### Обработка user_df"
      ]
    },
    {
      "cell_type": "code",
      "metadata": {
        "colab": {
          "base_uri": "https://localhost:8080/",
          "height": 289
        },
        "id": "Kl5-dUTU9O7s",
        "outputId": "8b2bd9f2-37f6-4d25-d850-998ea735ac56"
      },
      "source": [
        "user.head()"
      ],
      "execution_count": null,
      "outputs": [
        {
          "output_type": "execute_result",
          "data": {
            "text/html": [
              "<div>\n",
              "<style scoped>\n",
              "    .dataframe tbody tr th:only-of-type {\n",
              "        vertical-align: middle;\n",
              "    }\n",
              "\n",
              "    .dataframe tbody tr th {\n",
              "        vertical-align: top;\n",
              "    }\n",
              "\n",
              "    .dataframe thead th {\n",
              "        text-align: right;\n",
              "    }\n",
              "</style>\n",
              "<table border=\"1\" class=\"dataframe\">\n",
              "  <thead>\n",
              "    <tr style=\"text-align: right;\">\n",
              "      <th></th>\n",
              "      <th>user_id</th>\n",
              "      <th>username</th>\n",
              "      <th>first_name</th>\n",
              "      <th>last_name</th>\n",
              "      <th>language_code</th>\n",
              "      <th>seed</th>\n",
              "      <th>deep_link</th>\n",
              "      <th>is_blocked_bot</th>\n",
              "      <th>is_banned</th>\n",
              "      <th>is_admin</th>\n",
              "      <th>is_moderator</th>\n",
              "      <th>sessions</th>\n",
              "      <th>last_session_memes</th>\n",
              "      <th>watched_memes</th>\n",
              "      <th>created_at</th>\n",
              "      <th>updated_at</th>\n",
              "      <th>interface_lang</th>\n",
              "      <th>gender</th>\n",
              "      <th>latest_meme_sent_at</th>\n",
              "    </tr>\n",
              "  </thead>\n",
              "  <tbody>\n",
              "    <tr>\n",
              "      <th>0</th>\n",
              "      <td>1235209430</td>\n",
              "      <td>NaN</td>\n",
              "      <td>Paras</td>\n",
              "      <td>Kamboj</td>\n",
              "      <td>NaN</td>\n",
              "      <td>6</td>\n",
              "      <td>likemeupbot_lang_en</td>\n",
              "      <td>True</td>\n",
              "      <td>False</td>\n",
              "      <td>False</td>\n",
              "      <td>0</td>\n",
              "      <td>3</td>\n",
              "      <td>4</td>\n",
              "      <td>8</td>\n",
              "      <td>2020-10-27 07:33:12.040495+00</td>\n",
              "      <td>2021-02-10 00:29:57.669801+00</td>\n",
              "      <td>en</td>\n",
              "      <td>NaN</td>\n",
              "      <td>NaN</td>\n",
              "    </tr>\n",
              "    <tr>\n",
              "      <th>1</th>\n",
              "      <td>113584040</td>\n",
              "      <td>nikrnrr</td>\n",
              "      <td>N</td>\n",
              "      <td>NaN</td>\n",
              "      <td>ru</td>\n",
              "      <td>26</td>\n",
              "      <td>NaN</td>\n",
              "      <td>True</td>\n",
              "      <td>False</td>\n",
              "      <td>False</td>\n",
              "      <td>0</td>\n",
              "      <td>1</td>\n",
              "      <td>1</td>\n",
              "      <td>0</td>\n",
              "      <td>2020-10-28 12:05:37.473558+00</td>\n",
              "      <td>2021-02-10 01:29:57.505289+00</td>\n",
              "      <td>ru</td>\n",
              "      <td>N</td>\n",
              "      <td>NaN</td>\n",
              "    </tr>\n",
              "    <tr>\n",
              "      <th>2</th>\n",
              "      <td>1142713343</td>\n",
              "      <td>NaN</td>\n",
              "      <td>Serik</td>\n",
              "      <td>NaN</td>\n",
              "      <td>NaN</td>\n",
              "      <td>32</td>\n",
              "      <td>NaN</td>\n",
              "      <td>True</td>\n",
              "      <td>False</td>\n",
              "      <td>False</td>\n",
              "      <td>0</td>\n",
              "      <td>1</td>\n",
              "      <td>1</td>\n",
              "      <td>0</td>\n",
              "      <td>2020-10-27 17:31:30.480084+00</td>\n",
              "      <td>2021-02-10 01:29:55.555919+00</td>\n",
              "      <td>en</td>\n",
              "      <td>NaN</td>\n",
              "      <td>NaN</td>\n",
              "    </tr>\n",
              "    <tr>\n",
              "      <th>3</th>\n",
              "      <td>187967374</td>\n",
              "      <td>Ddivanov</td>\n",
              "      <td>Dmitry</td>\n",
              "      <td>Ivanov</td>\n",
              "      <td>ru</td>\n",
              "      <td>13</td>\n",
              "      <td>NaN</td>\n",
              "      <td>True</td>\n",
              "      <td>False</td>\n",
              "      <td>False</td>\n",
              "      <td>0</td>\n",
              "      <td>2</td>\n",
              "      <td>5</td>\n",
              "      <td>9</td>\n",
              "      <td>2020-10-26 13:12:52.373779+00</td>\n",
              "      <td>2021-02-09 23:29:56.086916+00</td>\n",
              "      <td>ru</td>\n",
              "      <td>M</td>\n",
              "      <td>NaN</td>\n",
              "    </tr>\n",
              "    <tr>\n",
              "      <th>4</th>\n",
              "      <td>923016092</td>\n",
              "      <td>NaN</td>\n",
              "      <td>Joanna</td>\n",
              "      <td>NaN</td>\n",
              "      <td>es</td>\n",
              "      <td>99</td>\n",
              "      <td>NaN</td>\n",
              "      <td>False</td>\n",
              "      <td>False</td>\n",
              "      <td>False</td>\n",
              "      <td>0</td>\n",
              "      <td>39</td>\n",
              "      <td>1</td>\n",
              "      <td>35</td>\n",
              "      <td>2020-10-27 19:11:33.959974+00</td>\n",
              "      <td>2021-02-09 17:56:04.574689+00</td>\n",
              "      <td>en</td>\n",
              "      <td>NaN</td>\n",
              "      <td>2021-02-09 17:56:04.574558+00</td>\n",
              "    </tr>\n",
              "  </tbody>\n",
              "</table>\n",
              "</div>"
            ],
            "text/plain": [
              "      user_id  username  ... gender            latest_meme_sent_at\n",
              "0  1235209430       NaN  ...    NaN                            NaN\n",
              "1   113584040   nikrnrr  ...      N                            NaN\n",
              "2  1142713343       NaN  ...    NaN                            NaN\n",
              "3   187967374  Ddivanov  ...      M                            NaN\n",
              "4   923016092       NaN  ...    NaN  2021-02-09 17:56:04.574558+00\n",
              "\n",
              "[5 rows x 19 columns]"
            ]
          },
          "metadata": {
            "tags": []
          },
          "execution_count": 30
        }
      ]
    },
    {
      "cell_type": "code",
      "metadata": {
        "colab": {
          "base_uri": "https://localhost:8080/"
        },
        "id": "-nXPDluI9POt",
        "outputId": "c283858f-4ba0-44ad-8cd3-597d33069c27"
      },
      "source": [
        "user.isna().sum()"
      ],
      "execution_count": null,
      "outputs": [
        {
          "output_type": "execute_result",
          "data": {
            "text/plain": [
              "user_id                    0\n",
              "username                7785\n",
              "first_name                 2\n",
              "last_name              13458\n",
              "language_code           6897\n",
              "seed                       0\n",
              "deep_link               8534\n",
              "is_blocked_bot             0\n",
              "is_banned                  0\n",
              "is_admin                   0\n",
              "is_moderator               0\n",
              "sessions                   0\n",
              "last_session_memes         0\n",
              "watched_memes              0\n",
              "created_at                 0\n",
              "updated_at                 0\n",
              "interface_lang           155\n",
              "gender                 21968\n",
              "latest_meme_sent_at    11958\n",
              "dtype: int64"
            ]
          },
          "metadata": {
            "tags": []
          },
          "execution_count": 31
        }
      ]
    },
    {
      "cell_type": "code",
      "metadata": {
        "id": "hxKeZBfL9PML"
      },
      "source": [
        "#!pip install gender_guesser !pip install pytrovich # попытка использовать данные библиотеки для сохранения поля gender"
      ],
      "execution_count": null,
      "outputs": []
    },
    {
      "cell_type": "code",
      "metadata": {
        "id": "bnd1JZGa9PJW"
      },
      "source": [
        "user.drop(['username', 'first_name', 'last_name', 'language_code', 'seed', 'deep_link', 'is_blocked_bot', 'is_admin', 'is_moderator', 'created_at', 'updated_at', 'gender', 'latest_meme_sent_at', 'is_banned'], axis = 1, inplace = True) # удаляем ненужные/неполные столбцы"
      ],
      "execution_count": null,
      "outputs": []
    },
    {
      "cell_type": "code",
      "metadata": {
        "colab": {
          "base_uri": "https://localhost:8080/"
        },
        "id": "5qEDLMYna-1O",
        "outputId": "b18ff6b8-8ba9-49b3-b9c8-3b88d9bdc0f0"
      },
      "source": [
        "user.interface_lang.value_counts()"
      ],
      "execution_count": null,
      "outputs": [
        {
          "output_type": "execute_result",
          "data": {
            "text/plain": [
              "ru    17662\n",
              "en     9884\n",
              "in      262\n",
              "uk       34\n",
              "pt       22\n",
              "Name: interface_lang, dtype: int64"
            ]
          },
          "metadata": {
            "tags": []
          },
          "execution_count": 34
        }
      ]
    },
    {
      "cell_type": "code",
      "metadata": {
        "id": "xVXy6LM09PAn"
      },
      "source": [
        "user.interface_lang.replace({'en':1, 'ru':0}, inplace = True) # 1 если интерфейс английский, 0 если русский, 2 если иной\n",
        "user.loc[(user['interface_lang'] != 0) & (user['interface_lang'] != 1), 'interface_lang'] = 2"
      ],
      "execution_count": null,
      "outputs": []
    },
    {
      "cell_type": "code",
      "metadata": {
        "colab": {
          "base_uri": "https://localhost:8080/"
        },
        "id": "HvkurIeVbZo0",
        "outputId": "e86df40f-027e-43e4-f031-4de93203d8a2"
      },
      "source": [
        "# Конечно, 155 nan по interface_lang можно было запихнуть в любую категорию, т.к. малое число пропусков, но захотел распределить пропорционально по двум бОльшим категориям\n",
        "import random\n",
        "nans = user['interface_lang'].isna()\n",
        "length = sum(nans)\n",
        "replacement = random.choices([0, 1], weights=[.75, .25], k=length)\n",
        "user.loc[nans,'interface_lang'] = replacement\n",
        "user.isna().sum()"
      ],
      "execution_count": null,
      "outputs": [
        {
          "output_type": "execute_result",
          "data": {
            "text/plain": [
              "user_id               0\n",
              "sessions              0\n",
              "last_session_memes    0\n",
              "watched_memes         0\n",
              "interface_lang        0\n",
              "dtype: int64"
            ]
          },
          "metadata": {
            "tags": []
          },
          "execution_count": 36
        }
      ]
    },
    {
      "cell_type": "code",
      "metadata": {
        "id": "RFuJYUt-bp8M"
      },
      "source": [
        "user.set_index('user_id', inplace = True)"
      ],
      "execution_count": null,
      "outputs": []
    },
    {
      "cell_type": "code",
      "metadata": {
        "colab": {
          "base_uri": "https://localhost:8080/",
          "height": 233
        },
        "id": "VOd6BzrmcT7o",
        "outputId": "0db0625e-d703-49bb-8217-0712e46f7815"
      },
      "source": [
        "user.head()"
      ],
      "execution_count": null,
      "outputs": [
        {
          "output_type": "execute_result",
          "data": {
            "text/html": [
              "<div>\n",
              "<style scoped>\n",
              "    .dataframe tbody tr th:only-of-type {\n",
              "        vertical-align: middle;\n",
              "    }\n",
              "\n",
              "    .dataframe tbody tr th {\n",
              "        vertical-align: top;\n",
              "    }\n",
              "\n",
              "    .dataframe thead th {\n",
              "        text-align: right;\n",
              "    }\n",
              "</style>\n",
              "<table border=\"1\" class=\"dataframe\">\n",
              "  <thead>\n",
              "    <tr style=\"text-align: right;\">\n",
              "      <th></th>\n",
              "      <th>sessions</th>\n",
              "      <th>last_session_memes</th>\n",
              "      <th>watched_memes</th>\n",
              "      <th>interface_lang</th>\n",
              "    </tr>\n",
              "    <tr>\n",
              "      <th>user_id</th>\n",
              "      <th></th>\n",
              "      <th></th>\n",
              "      <th></th>\n",
              "      <th></th>\n",
              "    </tr>\n",
              "  </thead>\n",
              "  <tbody>\n",
              "    <tr>\n",
              "      <th>1235209430</th>\n",
              "      <td>3</td>\n",
              "      <td>4</td>\n",
              "      <td>8</td>\n",
              "      <td>1</td>\n",
              "    </tr>\n",
              "    <tr>\n",
              "      <th>113584040</th>\n",
              "      <td>1</td>\n",
              "      <td>1</td>\n",
              "      <td>0</td>\n",
              "      <td>0</td>\n",
              "    </tr>\n",
              "    <tr>\n",
              "      <th>1142713343</th>\n",
              "      <td>1</td>\n",
              "      <td>1</td>\n",
              "      <td>0</td>\n",
              "      <td>1</td>\n",
              "    </tr>\n",
              "    <tr>\n",
              "      <th>187967374</th>\n",
              "      <td>2</td>\n",
              "      <td>5</td>\n",
              "      <td>9</td>\n",
              "      <td>0</td>\n",
              "    </tr>\n",
              "    <tr>\n",
              "      <th>923016092</th>\n",
              "      <td>39</td>\n",
              "      <td>1</td>\n",
              "      <td>35</td>\n",
              "      <td>1</td>\n",
              "    </tr>\n",
              "  </tbody>\n",
              "</table>\n",
              "</div>"
            ],
            "text/plain": [
              "            sessions  last_session_memes  watched_memes interface_lang\n",
              "user_id                                                               \n",
              "1235209430         3                   4              8              1\n",
              "113584040          1                   1              0              0\n",
              "1142713343         1                   1              0              1\n",
              "187967374          2                   5              9              0\n",
              "923016092         39                   1             35              1"
            ]
          },
          "metadata": {
            "tags": []
          },
          "execution_count": 38
        }
      ]
    },
    {
      "cell_type": "markdown",
      "metadata": {
        "id": "FIIjDSrCuXGl"
      },
      "source": [
        "### Обработка event_df"
      ]
    },
    {
      "cell_type": "code",
      "metadata": {
        "colab": {
          "base_uri": "https://localhost:8080/",
          "height": 202
        },
        "id": "QEjvKWrxuaRW",
        "outputId": "9f1695ec-a3cf-42b9-fad2-820278580298"
      },
      "source": [
        "event.head()"
      ],
      "execution_count": null,
      "outputs": [
        {
          "output_type": "execute_result",
          "data": {
            "text/html": [
              "<div>\n",
              "<style scoped>\n",
              "    .dataframe tbody tr th:only-of-type {\n",
              "        vertical-align: middle;\n",
              "    }\n",
              "\n",
              "    .dataframe tbody tr th {\n",
              "        vertical-align: top;\n",
              "    }\n",
              "\n",
              "    .dataframe thead th {\n",
              "        text-align: right;\n",
              "    }\n",
              "</style>\n",
              "<table border=\"1\" class=\"dataframe\">\n",
              "  <thead>\n",
              "    <tr style=\"text-align: right;\">\n",
              "      <th></th>\n",
              "      <th>event_id</th>\n",
              "      <th>reaction_id</th>\n",
              "      <th>session_idx</th>\n",
              "      <th>meme_idx</th>\n",
              "      <th>created_at</th>\n",
              "      <th>reacted_at</th>\n",
              "      <th>meme_id</th>\n",
              "      <th>user_id</th>\n",
              "      <th>telegram_message_id</th>\n",
              "    </tr>\n",
              "  </thead>\n",
              "  <tbody>\n",
              "    <tr>\n",
              "      <th>0</th>\n",
              "      <td>1569409</td>\n",
              "      <td>1.0</td>\n",
              "      <td>1.0</td>\n",
              "      <td>171.0</td>\n",
              "      <td>2020-09-23 14:45:40.204598+00</td>\n",
              "      <td>2020-09-23 14:45:44.079206+00</td>\n",
              "      <td>9197</td>\n",
              "      <td>1153946021</td>\n",
              "      <td>1624299.0</td>\n",
              "    </tr>\n",
              "    <tr>\n",
              "      <th>1</th>\n",
              "      <td>1569228</td>\n",
              "      <td>2.0</td>\n",
              "      <td>199.0</td>\n",
              "      <td>189.0</td>\n",
              "      <td>2020-09-23 14:38:56.25774+00</td>\n",
              "      <td>2020-09-23 14:39:11.978709+00</td>\n",
              "      <td>34459</td>\n",
              "      <td>285739883</td>\n",
              "      <td>1624096.0</td>\n",
              "    </tr>\n",
              "    <tr>\n",
              "      <th>2</th>\n",
              "      <td>1569405</td>\n",
              "      <td>1.0</td>\n",
              "      <td>7.0</td>\n",
              "      <td>133.0</td>\n",
              "      <td>2020-09-23 14:45:34.244269+00</td>\n",
              "      <td>2020-09-23 14:45:46.699976+00</td>\n",
              "      <td>10879</td>\n",
              "      <td>751332478</td>\n",
              "      <td>1624295.0</td>\n",
              "    </tr>\n",
              "    <tr>\n",
              "      <th>3</th>\n",
              "      <td>1569239</td>\n",
              "      <td>1.0</td>\n",
              "      <td>2.0</td>\n",
              "      <td>265.0</td>\n",
              "      <td>2020-09-23 14:39:17.175786+00</td>\n",
              "      <td>2020-09-23 14:39:28.054075+00</td>\n",
              "      <td>46731</td>\n",
              "      <td>914220296</td>\n",
              "      <td>1624113.0</td>\n",
              "    </tr>\n",
              "    <tr>\n",
              "      <th>4</th>\n",
              "      <td>1569254</td>\n",
              "      <td>1.0</td>\n",
              "      <td>2.0</td>\n",
              "      <td>130.0</td>\n",
              "      <td>2020-09-23 14:39:57.24919+00</td>\n",
              "      <td>2020-09-23 14:39:58.963727+00</td>\n",
              "      <td>49571</td>\n",
              "      <td>1171473137</td>\n",
              "      <td>1624129.0</td>\n",
              "    </tr>\n",
              "  </tbody>\n",
              "</table>\n",
              "</div>"
            ],
            "text/plain": [
              "   event_id  reaction_id  session_idx  ...  meme_id     user_id telegram_message_id\n",
              "0   1569409          1.0          1.0  ...     9197  1153946021           1624299.0\n",
              "1   1569228          2.0        199.0  ...    34459   285739883           1624096.0\n",
              "2   1569405          1.0          7.0  ...    10879   751332478           1624295.0\n",
              "3   1569239          1.0          2.0  ...    46731   914220296           1624113.0\n",
              "4   1569254          1.0          2.0  ...    49571  1171473137           1624129.0\n",
              "\n",
              "[5 rows x 9 columns]"
            ]
          },
          "metadata": {
            "tags": []
          },
          "execution_count": 39
        }
      ]
    },
    {
      "cell_type": "code",
      "metadata": {
        "colab": {
          "base_uri": "https://localhost:8080/"
        },
        "id": "2X6MGgCLu0Bg",
        "outputId": "15405edf-3a68-4a81-d502-dbaf972bd0a1"
      },
      "source": [
        "event.reaction_id.unique()"
      ],
      "execution_count": null,
      "outputs": [
        {
          "output_type": "execute_result",
          "data": {
            "text/plain": [
              "array([ 1.,  2.,  5., nan,  4.,  3.])"
            ]
          },
          "metadata": {
            "tags": []
          },
          "execution_count": 40
        }
      ]
    },
    {
      "cell_type": "code",
      "metadata": {
        "id": "XSrYBDEjuaPR"
      },
      "source": [
        "event = event.drop(event[(event.reaction_id == 3) | (event.reaction_id == 4) |(event.reaction_id == 5) ].index) # Удаление действий админов\n",
        "event.drop(['telegram_message_id', 'session_idx', 'meme_idx', 'created_at', 'reacted_at'], axis = 1, inplace = True)"
      ],
      "execution_count": null,
      "outputs": []
    },
    {
      "cell_type": "code",
      "metadata": {
        "colab": {
          "base_uri": "https://localhost:8080/"
        },
        "id": "zxlocR1YuaM1",
        "outputId": "6e50340c-a9e0-4de7-80e1-e2b1ca4365f7"
      },
      "source": [
        "event.isna().sum()"
      ],
      "execution_count": null,
      "outputs": [
        {
          "output_type": "execute_result",
          "data": {
            "text/plain": [
              "event_id            0\n",
              "reaction_id    631914\n",
              "meme_id             0\n",
              "user_id             0\n",
              "dtype: int64"
            ]
          },
          "metadata": {
            "tags": []
          },
          "execution_count": 42
        }
      ]
    },
    {
      "cell_type": "code",
      "metadata": {
        "colab": {
          "base_uri": "https://localhost:8080/"
        },
        "id": "PcwmO_83uaKO",
        "outputId": "13f35cbf-e323-4ad1-83ad-4cae36d308a3"
      },
      "source": [
        "event.reaction_id.value_counts()"
      ],
      "execution_count": null,
      "outputs": [
        {
          "output_type": "execute_result",
          "data": {
            "text/plain": [
              "1.0    4645144\n",
              "2.0    4538667\n",
              "Name: reaction_id, dtype: int64"
            ]
          },
          "metadata": {
            "tags": []
          },
          "execution_count": 43
        }
      ]
    },
    {
      "cell_type": "code",
      "metadata": {
        "colab": {
          "base_uri": "https://localhost:8080/"
        },
        "id": "tJgsgu7fuaHu",
        "outputId": "93ceee3f-b1a3-425b-ca96-963b950e638e"
      },
      "source": [
        "nans = event['reaction_id'].isna()  # пропорциональное распределение лайков/дизлайков по nan значениям\n",
        "length = sum(nans)\n",
        "replacement = random.choices([1, 2], weights=[.5, .5], k=length)\n",
        "event.loc[nans,'reaction_id'] = replacement\n",
        "event.isna().sum()"
      ],
      "execution_count": null,
      "outputs": [
        {
          "output_type": "execute_result",
          "data": {
            "text/plain": [
              "event_id       0\n",
              "reaction_id    0\n",
              "meme_id        0\n",
              "user_id        0\n",
              "dtype: int64"
            ]
          },
          "metadata": {
            "tags": []
          },
          "execution_count": 44
        }
      ]
    },
    {
      "cell_type": "code",
      "metadata": {
        "colab": {
          "base_uri": "https://localhost:8080/",
          "height": 202
        },
        "id": "9ZoE7vx5vpA5",
        "outputId": "c9c340a1-a5b7-40ed-b7a0-754a754c10c9"
      },
      "source": [
        "event.head()"
      ],
      "execution_count": null,
      "outputs": [
        {
          "output_type": "execute_result",
          "data": {
            "text/html": [
              "<div>\n",
              "<style scoped>\n",
              "    .dataframe tbody tr th:only-of-type {\n",
              "        vertical-align: middle;\n",
              "    }\n",
              "\n",
              "    .dataframe tbody tr th {\n",
              "        vertical-align: top;\n",
              "    }\n",
              "\n",
              "    .dataframe thead th {\n",
              "        text-align: right;\n",
              "    }\n",
              "</style>\n",
              "<table border=\"1\" class=\"dataframe\">\n",
              "  <thead>\n",
              "    <tr style=\"text-align: right;\">\n",
              "      <th></th>\n",
              "      <th>event_id</th>\n",
              "      <th>reaction_id</th>\n",
              "      <th>meme_id</th>\n",
              "      <th>user_id</th>\n",
              "    </tr>\n",
              "  </thead>\n",
              "  <tbody>\n",
              "    <tr>\n",
              "      <th>0</th>\n",
              "      <td>1569409</td>\n",
              "      <td>1.0</td>\n",
              "      <td>9197</td>\n",
              "      <td>1153946021</td>\n",
              "    </tr>\n",
              "    <tr>\n",
              "      <th>1</th>\n",
              "      <td>1569228</td>\n",
              "      <td>2.0</td>\n",
              "      <td>34459</td>\n",
              "      <td>285739883</td>\n",
              "    </tr>\n",
              "    <tr>\n",
              "      <th>2</th>\n",
              "      <td>1569405</td>\n",
              "      <td>1.0</td>\n",
              "      <td>10879</td>\n",
              "      <td>751332478</td>\n",
              "    </tr>\n",
              "    <tr>\n",
              "      <th>3</th>\n",
              "      <td>1569239</td>\n",
              "      <td>1.0</td>\n",
              "      <td>46731</td>\n",
              "      <td>914220296</td>\n",
              "    </tr>\n",
              "    <tr>\n",
              "      <th>4</th>\n",
              "      <td>1569254</td>\n",
              "      <td>1.0</td>\n",
              "      <td>49571</td>\n",
              "      <td>1171473137</td>\n",
              "    </tr>\n",
              "  </tbody>\n",
              "</table>\n",
              "</div>"
            ],
            "text/plain": [
              "   event_id  reaction_id  meme_id     user_id\n",
              "0   1569409          1.0     9197  1153946021\n",
              "1   1569228          2.0    34459   285739883\n",
              "2   1569405          1.0    10879   751332478\n",
              "3   1569239          1.0    46731   914220296\n",
              "4   1569254          1.0    49571  1171473137"
            ]
          },
          "metadata": {
            "tags": []
          },
          "execution_count": 45
        }
      ]
    },
    {
      "cell_type": "markdown",
      "metadata": {
        "id": "2FGzcJy3Y5Wx"
      },
      "source": [
        "## Кластеризация датасэтов"
      ]
    },
    {
      "cell_type": "markdown",
      "metadata": {
        "id": "2AFhherEkUQ8"
      },
      "source": [
        "В данной части будет рассчитано оптимальное количество кластеров для наших датасэтов различными способами, а именно:\n",
        "* Методом локтя\n",
        "* Методом силуэта\n",
        "* С помощью Индекс Дэвиса – Боулдина\n",
        "\n",
        "По каждому из методов выполнено обучение по датасэту, а также отражены графики для наглядности"
      ]
    },
    {
      "cell_type": "markdown",
      "metadata": {
        "id": "7H_TBTbBcbc9"
      },
      "source": [
        "### Кластеризация meme_df"
      ]
    },
    {
      "cell_type": "code",
      "metadata": {
        "id": "uNF86lJDcdk1"
      },
      "source": [
        "from sklearn.preprocessing import MinMaxScaler\n"
      ],
      "execution_count": null,
      "outputs": []
    },
    {
      "cell_type": "code",
      "metadata": {
        "id": "KWU3e4afclqh"
      },
      "source": [
        "X=meme.copy()\n"
      ],
      "execution_count": null,
      "outputs": []
    },
    {
      "cell_type": "code",
      "metadata": {
        "id": "EgOoB8tWciIn"
      },
      "source": [
        "scaler = MinMaxScaler()"
      ],
      "execution_count": null,
      "outputs": []
    },
    {
      "cell_type": "code",
      "metadata": {
        "id": "fSTrdaueciGb"
      },
      "source": [
        "X_scaled=scaler.fit_transform(X)"
      ],
      "execution_count": null,
      "outputs": []
    },
    {
      "cell_type": "code",
      "metadata": {
        "id": "qCAA2VBlciDt"
      },
      "source": [
        "from sklearn.metrics import silhouette_score, davies_bouldin_score,v_measure_score\n",
        "from sklearn.cluster import KMeans\n"
      ],
      "execution_count": null,
      "outputs": []
    },
    {
      "cell_type": "code",
      "metadata": {
        "colab": {
          "base_uri": "https://localhost:8080/",
          "height": 69
        },
        "id": "9UeADoW3ciBO",
        "outputId": "2f38ad8f-8228-4e01-ee6b-d59713b5c58c"
      },
      "source": [
        "# т.к. проверка по кол-ву кластеров от 2 до 12 занимает немалое время, в целях экономии времени, значения оценок для каждого метода сохранены в переменные, с кодом можно ознакомиться ниже.\n",
        "km_scores = [54475.62767646324,\n",
        " 45883.94389982125,\n",
        " 37640.090011400534,\n",
        " 31493.3260573872,\n",
        " 26854.431978845965,\n",
        " 22355.508641516983,\n",
        " 18896.882241972096,\n",
        " 17194.534316639565,\n",
        " 14683.0182569783,\n",
        " 13533.374212446188]\n",
        "km_silhouette = [0.4532109122714822,\n",
        " 0.43910459410250957,\n",
        " 0.4127008336153301,\n",
        " 0.3726137544474254,\n",
        " 0.403739959669369,\n",
        " 0.43015185074451967,\n",
        " 0.466756972637955,\n",
        " 0.4774708823275633,\n",
        " 0.5119050133580815,\n",
        " 0.5151388865422142]\n",
        "db_score = [1.2466178015537868,\n",
        " 1.2593867739453926,\n",
        " 1.1618912392387069,\n",
        " 1.1752313991286498,\n",
        " 1.0093274895042212,\n",
        " 0.9241106276309746,\n",
        " 0.879297271561591,\n",
        " 0.8205671665470197,\n",
        " 0.7930507065482587,\n",
        " 0.8017391987175002]\n",
        "'''\n",
        "# Для каждого из значений кол-ва кластеров от 2 до 12 фиксируем результат по каждому из методов для дальнейшего отражения результатов на графике.\n",
        "km_scores= []\n",
        "km_silhouette = []\n",
        "db_score = []\n",
        "for i in range(2,12):\n",
        "    km = KMeans(n_clusters=i, random_state=0).fit(X_scaled)\n",
        "    preds = km.predict(X_scaled)\n",
        "    \n",
        "    print(\"Score for number of cluster(s) {}: {}\".format(i,km.score(X_scaled)))\n",
        "    km_scores.append(-km.score(X_scaled))\n",
        "    \n",
        "    silhouette = silhouette_score(X_scaled,preds)\n",
        "    km_silhouette.append(silhouette)\n",
        "    print(\"Silhouette score for number of cluster(s) {}: {}\".format(i,silhouette))\n",
        "    \n",
        "    db = davies_bouldin_score(X_scaled,preds)\n",
        "    db_score.append(db)\n",
        "    print(\"Davies Bouldin score for number of cluster(s) {}: {}\".format(i,db))\n",
        "\n",
        "'''"
      ],
      "execution_count": null,
      "outputs": [
        {
          "output_type": "execute_result",
          "data": {
            "application/vnd.google.colaboratory.intrinsic+json": {
              "type": "string"
            },
            "text/plain": [
              "'\\n# Для каждого из значений кол-ва кластеров от 2 до 12 фиксируем результат по каждому из методов для дальнейшего отражения результатов на графике.\\nkm_scores= []\\nkm_silhouette = []\\ndb_score = []\\nfor i in range(2,12):\\n    km = KMeans(n_clusters=i, random_state=0).fit(X_scaled)\\n    preds = km.predict(X_scaled)\\n    \\n    print(\"Score for number of cluster(s) {}: {}\".format(i,km.score(X_scaled)))\\n    km_scores.append(-km.score(X_scaled))\\n    \\n    silhouette = silhouette_score(X_scaled,preds)\\n    km_silhouette.append(silhouette)\\n    print(\"Silhouette score for number of cluster(s) {}: {}\".format(i,silhouette))\\n    \\n    db = davies_bouldin_score(X_scaled,preds)\\n    db_score.append(db)\\n    print(\"Davies Bouldin score for number of cluster(s) {}: {}\".format(i,db))\\n\\n'"
            ]
          },
          "metadata": {
            "tags": []
          },
          "execution_count": 51
        }
      ]
    },
    {
      "cell_type": "code",
      "metadata": {
        "colab": {
          "base_uri": "https://localhost:8080/",
          "height": 322
        },
        "id": "HnlX40Wdch-m",
        "outputId": "a4e2a778-a797-4c2e-e9c7-ab400399e75a"
      },
      "source": [
        "plt.figure(figsize=(7,4))\n",
        "plt.title(\"The elbow method for determining number of clusters\\n\",fontsize=16)\n",
        "plt.scatter(x=[i for i in range(2,12)],y=km_scores,s=150,edgecolor='k')\n",
        "plt.grid(True)\n",
        "plt.xlabel(\"Number of clusters\",fontsize=14)\n",
        "plt.ylabel(\"K-means score\",fontsize=15)\n",
        "plt.xticks([i for i in range(2,12)],fontsize=14)\n",
        "plt.yticks(fontsize=15)\n",
        "plt.show()"
      ],
      "execution_count": null,
      "outputs": [
        {
          "output_type": "display_data",
          "data": {
            "image/png": "[encoded data removed]",
            "text/plain": [
              "<Figure size 504x288 with 1 Axes>"
            ]
          },
          "metadata": {
            "tags": [],
            "needs_background": "light"
          }
        }
      ]
    },
    {
      "cell_type": "code",
      "metadata": {
        "colab": {
          "base_uri": "https://localhost:8080/",
          "height": 340
        },
        "id": "TE0qT6S6ch8H",
        "outputId": "c9995db0-5fa4-4c50-b91d-9d9d94b17a71"
      },
      "source": [
        "plt.figure(figsize=(7,4))\n",
        "plt.title(\"The silhouette coefficient method \\nfor determining number of clusters\\n\",fontsize=16)\n",
        "plt.scatter(x=[i for i in range(2,12)],y=km_silhouette,s=150,edgecolor='k')\n",
        "plt.grid(True)\n",
        "plt.xlabel(\"Number of clusters\",fontsize=14)\n",
        "plt.ylabel(\"Silhouette score\",fontsize=15)\n",
        "plt.xticks([i for i in range(2,12)],fontsize=14)\n",
        "plt.yticks(fontsize=15)\n",
        "plt.show()"
      ],
      "execution_count": null,
      "outputs": [
        {
          "output_type": "display_data",
          "data": {
            "image/png": "[encoded data removed]",
            "text/plain": [
              "<Figure size 504x288 with 1 Axes>"
            ]
          },
          "metadata": {
            "tags": [],
            "needs_background": "light"
          }
        }
      ]
    },
    {
      "cell_type": "code",
      "metadata": {
        "colab": {
          "base_uri": "https://localhost:8080/",
          "height": 278
        },
        "id": "WQi0wWdfch5u",
        "outputId": "449eb625-e5da-45eb-a79e-ca5118d929ed"
      },
      "source": [
        "plt.scatter(x=[i for i in range(2,12)],y=db_score,s=150,edgecolor='k')\n",
        "plt.grid(True)\n",
        "plt.xlabel(\"Davies-Bouldin score\")\n",
        "plt.show()"
      ],
      "execution_count": null,
      "outputs": [
        {
          "output_type": "display_data",
          "data": {
            "image/png": "[encoded data removed]",
            "text/plain": [
              "<Figure size 432x288 with 1 Axes>"
            ]
          },
          "metadata": {
            "tags": [],
            "needs_background": "light"
          }
        }
      ]
    },
    {
      "cell_type": "markdown",
      "metadata": {
        "id": "GylJWNZlnE8z"
      },
      "source": [
        "Основываясь на графиках, я бы сказал, что оптимальным количеством кластеров для датасэта с мемами будет 2-3."
      ]
    },
    {
      "cell_type": "markdown",
      "metadata": {
        "id": "p1BADc3kY92-"
      },
      "source": [
        "### Кластеризация user_df"
      ]
    },
    {
      "cell_type": "code",
      "metadata": {
        "id": "zVYr1oNbZAkx"
      },
      "source": [
        "X2=user.copy()\n"
      ],
      "execution_count": null,
      "outputs": []
    },
    {
      "cell_type": "code",
      "metadata": {
        "id": "ek8KviwIZA1l"
      },
      "source": [
        "X2_scaled=scaler.fit_transform(X2)"
      ],
      "execution_count": null,
      "outputs": []
    },
    {
      "cell_type": "code",
      "metadata": {
        "colab": {
          "base_uri": "https://localhost:8080/",
          "height": 69
        },
        "id": "_LfSv3MTZAzI",
        "outputId": "605ec34d-8187-4dbe-d599-08ec17bf8431"
      },
      "source": [
        "# т.к. проверка по кол-ву кластеров от 2 до 12 занимает немалое время, в целях экономии времени, значения оценок для каждого метода сохранены в переменные, с кодом можно ознакомиться ниже.\n",
        "km_scores2 = [178.41730670035446,\n",
        " 65.56603312106492,\n",
        " 47.54791556903776,\n",
        " 36.34565271110847,\n",
        " 28.768374672042455,\n",
        " 23.795820560949068,\n",
        " 19.680277438342337,\n",
        " 16.345626063106245,\n",
        " 14.24994606886011,\n",
        " 12.629386572434722]\n",
        "km_silhouette2 = [0.9072211878479516,\n",
        " 0.9273706845351748,\n",
        " 0.8969068814093958,\n",
        " 0.893395073215103,\n",
        " 0.705361756341275,\n",
        " 0.7129011632953214,\n",
        " 0.7305013217150722,\n",
        " 0.6577646744041644,\n",
        " 0.6698724757320854,\n",
        " 0.6755014540200208]\n",
        "db_score2 = [0.15953897927903168,\n",
        " 0.09516048531809464,\n",
        " 0.5719738853134028,\n",
        " 0.515767674969871,\n",
        " 0.5754698066014091,\n",
        " 0.5685549585853901,\n",
        " 0.5437590820124811,\n",
        " 0.5366559469473305,\n",
        " 0.5407637143354471,\n",
        " 0.5941573597293318]\n",
        "'''\n",
        "# Повторяем для пользователей\n",
        "km_scores2= []\n",
        "km_silhouette2 = []\n",
        "db_score2 = []\n",
        "for i in range(2,12):\n",
        "    km = KMeans(n_clusters=i, random_state=0).fit(X2_scaled)\n",
        "    preds = km.predict(X2_scaled)\n",
        "    \n",
        "    print(\"Score for number of cluster(s) {}: {}\".format(i,km.score(X2_scaled)))\n",
        "    km_scores2.append(-km.score(X2_scaled))\n",
        "    \n",
        "    silhouette = silhouette_score(X2_scaled,preds)\n",
        "    km_silhouette2.append(silhouette)\n",
        "    print(\"Silhouette score for number of cluster(s) {}: {}\".format(i,silhouette))\n",
        "    \n",
        "    db = davies_bouldin_score(X2_scaled,preds)\n",
        "    db_score2.append(db)\n",
        "    print(\"Davies Bouldin score for number of cluster(s) {}: {}\".format(i,db))\n",
        "'''"
      ],
      "execution_count": null,
      "outputs": [
        {
          "output_type": "execute_result",
          "data": {
            "application/vnd.google.colaboratory.intrinsic+json": {
              "type": "string"
            },
            "text/plain": [
              "'\\n# Повторяем для пользователей\\nkm_scores2= []\\nkm_silhouette2 = []\\ndb_score2 = []\\nfor i in range(2,12):\\n    km = KMeans(n_clusters=i, random_state=0).fit(X2_scaled)\\n    preds = km.predict(X2_scaled)\\n    \\n    print(\"Score for number of cluster(s) {}: {}\".format(i,km.score(X2_scaled)))\\n    km_scores2.append(-km.score(X2_scaled))\\n    \\n    silhouette = silhouette_score(X2_scaled,preds)\\n    km_silhouette2.append(silhouette)\\n    print(\"Silhouette score for number of cluster(s) {}: {}\".format(i,silhouette))\\n    \\n    db = davies_bouldin_score(X2_scaled,preds)\\n    db_score2.append(db)\\n    print(\"Davies Bouldin score for number of cluster(s) {}: {}\".format(i,db))\\n'"
            ]
          },
          "metadata": {
            "tags": []
          },
          "execution_count": 57
        }
      ]
    },
    {
      "cell_type": "code",
      "metadata": {
        "colab": {
          "base_uri": "https://localhost:8080/",
          "height": 322
        },
        "id": "G_G--eW0ZAqf",
        "outputId": "a3e802fb-678d-49e0-e782-a9f9b562065d"
      },
      "source": [
        "plt.figure(figsize=(7,4))\n",
        "plt.title(\"The elbow method for determining number of clusters\\n\",fontsize=16)\n",
        "plt.scatter(x=[i for i in range(2,12)],y=km_scores2,s=150,edgecolor='k')\n",
        "plt.grid(True)\n",
        "plt.xlabel(\"Number of clusters\",fontsize=14)\n",
        "plt.ylabel(\"K-means score\",fontsize=15)\n",
        "plt.xticks([i for i in range(2,12)],fontsize=14)\n",
        "plt.yticks(fontsize=15)\n",
        "plt.show()"
      ],
      "execution_count": null,
      "outputs": [
        {
          "output_type": "display_data",
          "data": {
            "image/png": "[encoded data removed]",
            "text/plain": [
              "<Figure size 504x288 with 1 Axes>"
            ]
          },
          "metadata": {
            "tags": [],
            "needs_background": "light"
          }
        }
      ]
    },
    {
      "cell_type": "code",
      "metadata": {
        "colab": {
          "base_uri": "https://localhost:8080/",
          "height": 340
        },
        "id": "3k4O1D8vZAni",
        "outputId": "11c767a2-7bee-417e-d25a-4ec9d21acb10"
      },
      "source": [
        "plt.figure(figsize=(7,4))\n",
        "plt.title(\"The silhouette coefficient method \\nfor determining number of clusters\\n\",fontsize=16)\n",
        "plt.scatter(x=[i for i in range(2,12)],y=km_silhouette2,s=150,edgecolor='k')\n",
        "plt.grid(True)\n",
        "plt.xlabel(\"Number of clusters\",fontsize=14)\n",
        "plt.ylabel(\"Silhouette score\",fontsize=15)\n",
        "plt.xticks([i for i in range(2,12)],fontsize=14)\n",
        "plt.yticks(fontsize=15)\n",
        "plt.show()"
      ],
      "execution_count": null,
      "outputs": [
        {
          "output_type": "display_data",
          "data": {
            "image/png": "[encoded data removed]",
            "text/plain": [
              "<Figure size 504x288 with 1 Axes>"
            ]
          },
          "metadata": {
            "tags": [],
            "needs_background": "light"
          }
        }
      ]
    },
    {
      "cell_type": "code",
      "metadata": {
        "colab": {
          "base_uri": "https://localhost:8080/",
          "height": 278
        },
        "id": "lemoMblKa1jy",
        "outputId": "34411231-39ca-4b8c-e0e7-b937896bd380"
      },
      "source": [
        "plt.scatter(x=[i for i in range(2,12)],y=db_score2,s=150,edgecolor='k')\n",
        "plt.grid(True)\n",
        "plt.xlabel(\"Davies-Bouldin score\")\n",
        "plt.show()"
      ],
      "execution_count": null,
      "outputs": [
        {
          "output_type": "display_data",
          "data": {
            "image/png": "[encoded data removed]",
            "text/plain": [
              "<Figure size 432x288 with 1 Axes>"
            ]
          },
          "metadata": {
            "tags": [],
            "needs_background": "light"
          }
        }
      ]
    },
    {
      "cell_type": "markdown",
      "metadata": {
        "id": "CYw7Mt4erN-w"
      },
      "source": [
        "Тут четко видно, что 3 кластера является оптимальным количеством для датасэта с пользователями. Дальше оценка либо не улучшается, либо ухудшается."
      ]
    },
    {
      "cell_type": "code",
      "metadata": {
        "id": "HLLvEqvxrz1f"
      },
      "source": [
        "meme_preds = KMeans(n_clusters = 3, random_state=0).fit_predict(X_scaled)\n",
        "user_preds = KMeans(n_clusters = 2, random_state=0).fit_predict(X2_scaled)"
      ],
      "execution_count": null,
      "outputs": []
    },
    {
      "cell_type": "markdown",
      "metadata": {
        "id": "VuXg2ZZEt6RN"
      },
      "source": [
        "### Добавление кластеров"
      ]
    },
    {
      "cell_type": "code",
      "metadata": {
        "id": "K9P3E1ilsrV6"
      },
      "source": [
        "meme['clusters'] = meme_preds\n",
        "user['clusters'] = user_preds"
      ],
      "execution_count": null,
      "outputs": []
    },
    {
      "cell_type": "code",
      "metadata": {
        "colab": {
          "base_uri": "https://localhost:8080/",
          "height": 233
        },
        "id": "NhN_7rb7suph",
        "outputId": "c19535f1-710d-49c7-9aac-8dd7e22d2953"
      },
      "source": [
        "meme.head()"
      ],
      "execution_count": null,
      "outputs": [
        {
          "output_type": "execute_result",
          "data": {
            "text/html": [
              "<div>\n",
              "<style scoped>\n",
              "    .dataframe tbody tr th:only-of-type {\n",
              "        vertical-align: middle;\n",
              "    }\n",
              "\n",
              "    .dataframe tbody tr th {\n",
              "        vertical-align: top;\n",
              "    }\n",
              "\n",
              "    .dataframe thead th {\n",
              "        text-align: right;\n",
              "    }\n",
              "</style>\n",
              "<table border=\"1\" class=\"dataframe\">\n",
              "  <thead>\n",
              "    <tr style=\"text-align: right;\">\n",
              "      <th></th>\n",
              "      <th>published_at2021</th>\n",
              "      <th>content_lang</th>\n",
              "      <th>is_available</th>\n",
              "      <th>likes</th>\n",
              "      <th>dislikes</th>\n",
              "      <th>source_id</th>\n",
              "      <th>content_text</th>\n",
              "      <th>language_id</th>\n",
              "      <th>meme_type_animation</th>\n",
              "      <th>meme_type_photo</th>\n",
              "      <th>meme_type_video</th>\n",
              "      <th>source_grouped</th>\n",
              "      <th>clusters</th>\n",
              "    </tr>\n",
              "    <tr>\n",
              "      <th>meme_id</th>\n",
              "      <th></th>\n",
              "      <th></th>\n",
              "      <th></th>\n",
              "      <th></th>\n",
              "      <th></th>\n",
              "      <th></th>\n",
              "      <th></th>\n",
              "      <th></th>\n",
              "      <th></th>\n",
              "      <th></th>\n",
              "      <th></th>\n",
              "      <th></th>\n",
              "      <th></th>\n",
              "    </tr>\n",
              "  </thead>\n",
              "  <tbody>\n",
              "    <tr>\n",
              "      <th>13395</th>\n",
              "      <td>0</td>\n",
              "      <td>0</td>\n",
              "      <td>1</td>\n",
              "      <td>28</td>\n",
              "      <td>38</td>\n",
              "      <td>10.0</td>\n",
              "      <td>1</td>\n",
              "      <td>2.0</td>\n",
              "      <td>0</td>\n",
              "      <td>1</td>\n",
              "      <td>0</td>\n",
              "      <td>0</td>\n",
              "      <td>1</td>\n",
              "    </tr>\n",
              "    <tr>\n",
              "      <th>13952</th>\n",
              "      <td>0</td>\n",
              "      <td>1</td>\n",
              "      <td>1</td>\n",
              "      <td>9</td>\n",
              "      <td>16</td>\n",
              "      <td>80.0</td>\n",
              "      <td>1</td>\n",
              "      <td>3.0</td>\n",
              "      <td>0</td>\n",
              "      <td>1</td>\n",
              "      <td>0</td>\n",
              "      <td>2</td>\n",
              "      <td>1</td>\n",
              "    </tr>\n",
              "    <tr>\n",
              "      <th>15593</th>\n",
              "      <td>0</td>\n",
              "      <td>0</td>\n",
              "      <td>1</td>\n",
              "      <td>41</td>\n",
              "      <td>54</td>\n",
              "      <td>19.0</td>\n",
              "      <td>1</td>\n",
              "      <td>2.0</td>\n",
              "      <td>0</td>\n",
              "      <td>1</td>\n",
              "      <td>0</td>\n",
              "      <td>1</td>\n",
              "      <td>1</td>\n",
              "    </tr>\n",
              "    <tr>\n",
              "      <th>18442</th>\n",
              "      <td>0</td>\n",
              "      <td>1</td>\n",
              "      <td>1</td>\n",
              "      <td>87</td>\n",
              "      <td>48</td>\n",
              "      <td>78.0</td>\n",
              "      <td>1</td>\n",
              "      <td>3.0</td>\n",
              "      <td>0</td>\n",
              "      <td>1</td>\n",
              "      <td>0</td>\n",
              "      <td>2</td>\n",
              "      <td>1</td>\n",
              "    </tr>\n",
              "    <tr>\n",
              "      <th>20798</th>\n",
              "      <td>0</td>\n",
              "      <td>0</td>\n",
              "      <td>1</td>\n",
              "      <td>234</td>\n",
              "      <td>178</td>\n",
              "      <td>9.0</td>\n",
              "      <td>1</td>\n",
              "      <td>2.0</td>\n",
              "      <td>0</td>\n",
              "      <td>1</td>\n",
              "      <td>0</td>\n",
              "      <td>0</td>\n",
              "      <td>1</td>\n",
              "    </tr>\n",
              "  </tbody>\n",
              "</table>\n",
              "</div>"
            ],
            "text/plain": [
              "         published_at2021 content_lang  ...  source_grouped  clusters\n",
              "meme_id                                 ...                          \n",
              "13395                   0            0  ...               0         1\n",
              "13952                   0            1  ...               2         1\n",
              "15593                   0            0  ...               1         1\n",
              "18442                   0            1  ...               2         1\n",
              "20798                   0            0  ...               0         1\n",
              "\n",
              "[5 rows x 13 columns]"
            ]
          },
          "metadata": {
            "tags": []
          },
          "execution_count": 63
        }
      ]
    },
    {
      "cell_type": "code",
      "metadata": {
        "colab": {
          "base_uri": "https://localhost:8080/",
          "height": 233
        },
        "id": "JYqZ4XtLtIy_",
        "outputId": "f76b725e-6ffa-4723-f40c-bfbb75540d77"
      },
      "source": [
        "user.head()"
      ],
      "execution_count": null,
      "outputs": [
        {
          "output_type": "execute_result",
          "data": {
            "text/html": [
              "<div>\n",
              "<style scoped>\n",
              "    .dataframe tbody tr th:only-of-type {\n",
              "        vertical-align: middle;\n",
              "    }\n",
              "\n",
              "    .dataframe tbody tr th {\n",
              "        vertical-align: top;\n",
              "    }\n",
              "\n",
              "    .dataframe thead th {\n",
              "        text-align: right;\n",
              "    }\n",
              "</style>\n",
              "<table border=\"1\" class=\"dataframe\">\n",
              "  <thead>\n",
              "    <tr style=\"text-align: right;\">\n",
              "      <th></th>\n",
              "      <th>sessions</th>\n",
              "      <th>last_session_memes</th>\n",
              "      <th>watched_memes</th>\n",
              "      <th>interface_lang</th>\n",
              "      <th>clusters</th>\n",
              "    </tr>\n",
              "    <tr>\n",
              "      <th>user_id</th>\n",
              "      <th></th>\n",
              "      <th></th>\n",
              "      <th></th>\n",
              "      <th></th>\n",
              "      <th></th>\n",
              "    </tr>\n",
              "  </thead>\n",
              "  <tbody>\n",
              "    <tr>\n",
              "      <th>1235209430</th>\n",
              "      <td>3</td>\n",
              "      <td>4</td>\n",
              "      <td>8</td>\n",
              "      <td>1</td>\n",
              "      <td>1</td>\n",
              "    </tr>\n",
              "    <tr>\n",
              "      <th>113584040</th>\n",
              "      <td>1</td>\n",
              "      <td>1</td>\n",
              "      <td>0</td>\n",
              "      <td>0</td>\n",
              "      <td>0</td>\n",
              "    </tr>\n",
              "    <tr>\n",
              "      <th>1142713343</th>\n",
              "      <td>1</td>\n",
              "      <td>1</td>\n",
              "      <td>0</td>\n",
              "      <td>1</td>\n",
              "      <td>1</td>\n",
              "    </tr>\n",
              "    <tr>\n",
              "      <th>187967374</th>\n",
              "      <td>2</td>\n",
              "      <td>5</td>\n",
              "      <td>9</td>\n",
              "      <td>0</td>\n",
              "      <td>0</td>\n",
              "    </tr>\n",
              "    <tr>\n",
              "      <th>923016092</th>\n",
              "      <td>39</td>\n",
              "      <td>1</td>\n",
              "      <td>35</td>\n",
              "      <td>1</td>\n",
              "      <td>1</td>\n",
              "    </tr>\n",
              "  </tbody>\n",
              "</table>\n",
              "</div>"
            ],
            "text/plain": [
              "            sessions  last_session_memes  ...  interface_lang clusters\n",
              "user_id                                   ...                         \n",
              "1235209430         3                   4  ...               1        1\n",
              "113584040          1                   1  ...               0        0\n",
              "1142713343         1                   1  ...               1        1\n",
              "187967374          2                   5  ...               0        0\n",
              "923016092         39                   1  ...               1        1\n",
              "\n",
              "[5 rows x 5 columns]"
            ]
          },
          "metadata": {
            "tags": []
          },
          "execution_count": 64
        }
      ]
    },
    {
      "cell_type": "markdown",
      "metadata": {
        "id": "-wmIHaggzB54"
      },
      "source": [
        "## Объединение датасэтов"
      ]
    },
    {
      "cell_type": "code",
      "metadata": {
        "colab": {
          "base_uri": "https://localhost:8080/",
          "height": 436
        },
        "id": "jmCrW6ehwDXS",
        "outputId": "e0bc0d84-56c0-4124-9fb7-135bbe1bf3f3"
      },
      "source": [
        "event_meme = pd.merge(event, meme, on = 'meme_id')\n",
        "event_meme_user = pd.merge(event_meme, user, on = 'user_id')\n",
        "event_meme_user.rename(columns={'clusters_x' : 'clusters_meme', 'clusters_y' : 'clusters_user'})"
      ],
      "execution_count": null,
      "outputs": [
        {
          "output_type": "execute_result",
          "data": {
            "text/html": [
              "<div>\n",
              "<style scoped>\n",
              "    .dataframe tbody tr th:only-of-type {\n",
              "        vertical-align: middle;\n",
              "    }\n",
              "\n",
              "    .dataframe tbody tr th {\n",
              "        vertical-align: top;\n",
              "    }\n",
              "\n",
              "    .dataframe thead th {\n",
              "        text-align: right;\n",
              "    }\n",
              "</style>\n",
              "<table border=\"1\" class=\"dataframe\">\n",
              "  <thead>\n",
              "    <tr style=\"text-align: right;\">\n",
              "      <th></th>\n",
              "      <th>event_id</th>\n",
              "      <th>reaction_id</th>\n",
              "      <th>meme_id</th>\n",
              "      <th>user_id</th>\n",
              "      <th>published_at2021</th>\n",
              "      <th>content_lang</th>\n",
              "      <th>is_available</th>\n",
              "      <th>likes</th>\n",
              "      <th>dislikes</th>\n",
              "      <th>source_id</th>\n",
              "      <th>content_text</th>\n",
              "      <th>language_id</th>\n",
              "      <th>meme_type_animation</th>\n",
              "      <th>meme_type_photo</th>\n",
              "      <th>meme_type_video</th>\n",
              "      <th>source_grouped</th>\n",
              "      <th>clusters_meme</th>\n",
              "      <th>sessions</th>\n",
              "      <th>last_session_memes</th>\n",
              "      <th>watched_memes</th>\n",
              "      <th>interface_lang</th>\n",
              "      <th>clusters_user</th>\n",
              "    </tr>\n",
              "  </thead>\n",
              "  <tbody>\n",
              "    <tr>\n",
              "      <th>0</th>\n",
              "      <td>1569409</td>\n",
              "      <td>1.0</td>\n",
              "      <td>9197</td>\n",
              "      <td>1153946021</td>\n",
              "      <td>0</td>\n",
              "      <td>0</td>\n",
              "      <td>1</td>\n",
              "      <td>554</td>\n",
              "      <td>600</td>\n",
              "      <td>46.0</td>\n",
              "      <td>1</td>\n",
              "      <td>2.0</td>\n",
              "      <td>0</td>\n",
              "      <td>1</td>\n",
              "      <td>0</td>\n",
              "      <td>0</td>\n",
              "      <td>1</td>\n",
              "      <td>39</td>\n",
              "      <td>1</td>\n",
              "      <td>636</td>\n",
              "      <td>0</td>\n",
              "      <td>0</td>\n",
              "    </tr>\n",
              "    <tr>\n",
              "      <th>1</th>\n",
              "      <td>1563971</td>\n",
              "      <td>1.0</td>\n",
              "      <td>46731</td>\n",
              "      <td>1153946021</td>\n",
              "      <td>0</td>\n",
              "      <td>0</td>\n",
              "      <td>1</td>\n",
              "      <td>1660</td>\n",
              "      <td>1154</td>\n",
              "      <td>8.0</td>\n",
              "      <td>1</td>\n",
              "      <td>2.0</td>\n",
              "      <td>0</td>\n",
              "      <td>1</td>\n",
              "      <td>0</td>\n",
              "      <td>0</td>\n",
              "      <td>1</td>\n",
              "      <td>39</td>\n",
              "      <td>1</td>\n",
              "      <td>636</td>\n",
              "      <td>0</td>\n",
              "      <td>0</td>\n",
              "    </tr>\n",
              "    <tr>\n",
              "      <th>2</th>\n",
              "      <td>1564013</td>\n",
              "      <td>1.0</td>\n",
              "      <td>49571</td>\n",
              "      <td>1153946021</td>\n",
              "      <td>0</td>\n",
              "      <td>0</td>\n",
              "      <td>1</td>\n",
              "      <td>839</td>\n",
              "      <td>381</td>\n",
              "      <td>21.0</td>\n",
              "      <td>1</td>\n",
              "      <td>2.0</td>\n",
              "      <td>0</td>\n",
              "      <td>1</td>\n",
              "      <td>0</td>\n",
              "      <td>0</td>\n",
              "      <td>1</td>\n",
              "      <td>39</td>\n",
              "      <td>1</td>\n",
              "      <td>636</td>\n",
              "      <td>0</td>\n",
              "      <td>0</td>\n",
              "    </tr>\n",
              "    <tr>\n",
              "      <th>3</th>\n",
              "      <td>1569414</td>\n",
              "      <td>1.0</td>\n",
              "      <td>53977</td>\n",
              "      <td>1153946021</td>\n",
              "      <td>0</td>\n",
              "      <td>0</td>\n",
              "      <td>1</td>\n",
              "      <td>564</td>\n",
              "      <td>260</td>\n",
              "      <td>21.0</td>\n",
              "      <td>1</td>\n",
              "      <td>2.0</td>\n",
              "      <td>0</td>\n",
              "      <td>1</td>\n",
              "      <td>0</td>\n",
              "      <td>0</td>\n",
              "      <td>1</td>\n",
              "      <td>39</td>\n",
              "      <td>1</td>\n",
              "      <td>636</td>\n",
              "      <td>0</td>\n",
              "      <td>0</td>\n",
              "    </tr>\n",
              "    <tr>\n",
              "      <th>4</th>\n",
              "      <td>1569391</td>\n",
              "      <td>1.0</td>\n",
              "      <td>58789</td>\n",
              "      <td>1153946021</td>\n",
              "      <td>0</td>\n",
              "      <td>0</td>\n",
              "      <td>1</td>\n",
              "      <td>466</td>\n",
              "      <td>212</td>\n",
              "      <td>21.0</td>\n",
              "      <td>1</td>\n",
              "      <td>2.0</td>\n",
              "      <td>0</td>\n",
              "      <td>1</td>\n",
              "      <td>0</td>\n",
              "      <td>0</td>\n",
              "      <td>1</td>\n",
              "      <td>39</td>\n",
              "      <td>1</td>\n",
              "      <td>636</td>\n",
              "      <td>0</td>\n",
              "      <td>0</td>\n",
              "    </tr>\n",
              "    <tr>\n",
              "      <th>...</th>\n",
              "      <td>...</td>\n",
              "      <td>...</td>\n",
              "      <td>...</td>\n",
              "      <td>...</td>\n",
              "      <td>...</td>\n",
              "      <td>...</td>\n",
              "      <td>...</td>\n",
              "      <td>...</td>\n",
              "      <td>...</td>\n",
              "      <td>...</td>\n",
              "      <td>...</td>\n",
              "      <td>...</td>\n",
              "      <td>...</td>\n",
              "      <td>...</td>\n",
              "      <td>...</td>\n",
              "      <td>...</td>\n",
              "      <td>...</td>\n",
              "      <td>...</td>\n",
              "      <td>...</td>\n",
              "      <td>...</td>\n",
              "      <td>...</td>\n",
              "      <td>...</td>\n",
              "    </tr>\n",
              "    <tr>\n",
              "      <th>9741065</th>\n",
              "      <td>9140450</td>\n",
              "      <td>2.0</td>\n",
              "      <td>89872</td>\n",
              "      <td>1350802492</td>\n",
              "      <td>1</td>\n",
              "      <td>2</td>\n",
              "      <td>1</td>\n",
              "      <td>10</td>\n",
              "      <td>15</td>\n",
              "      <td>117.0</td>\n",
              "      <td>0</td>\n",
              "      <td>2.0</td>\n",
              "      <td>0</td>\n",
              "      <td>1</td>\n",
              "      <td>0</td>\n",
              "      <td>1</td>\n",
              "      <td>2</td>\n",
              "      <td>1</td>\n",
              "      <td>8</td>\n",
              "      <td>7</td>\n",
              "      <td>0</td>\n",
              "      <td>0</td>\n",
              "    </tr>\n",
              "    <tr>\n",
              "      <th>9741066</th>\n",
              "      <td>9150545</td>\n",
              "      <td>1.0</td>\n",
              "      <td>89776</td>\n",
              "      <td>566881811</td>\n",
              "      <td>1</td>\n",
              "      <td>2</td>\n",
              "      <td>1</td>\n",
              "      <td>291</td>\n",
              "      <td>140</td>\n",
              "      <td>82.0</td>\n",
              "      <td>0</td>\n",
              "      <td>2.0</td>\n",
              "      <td>0</td>\n",
              "      <td>1</td>\n",
              "      <td>0</td>\n",
              "      <td>1</td>\n",
              "      <td>2</td>\n",
              "      <td>1</td>\n",
              "      <td>1</td>\n",
              "      <td>0</td>\n",
              "      <td>0</td>\n",
              "      <td>0</td>\n",
              "    </tr>\n",
              "    <tr>\n",
              "      <th>9741067</th>\n",
              "      <td>9207987</td>\n",
              "      <td>2.0</td>\n",
              "      <td>90201</td>\n",
              "      <td>30495324</td>\n",
              "      <td>1</td>\n",
              "      <td>2</td>\n",
              "      <td>1</td>\n",
              "      <td>55</td>\n",
              "      <td>42</td>\n",
              "      <td>9.0</td>\n",
              "      <td>0</td>\n",
              "      <td>2.0</td>\n",
              "      <td>0</td>\n",
              "      <td>1</td>\n",
              "      <td>0</td>\n",
              "      <td>0</td>\n",
              "      <td>2</td>\n",
              "      <td>1</td>\n",
              "      <td>3</td>\n",
              "      <td>2</td>\n",
              "      <td>0</td>\n",
              "      <td>0</td>\n",
              "    </tr>\n",
              "    <tr>\n",
              "      <th>9741068</th>\n",
              "      <td>9207969</td>\n",
              "      <td>2.0</td>\n",
              "      <td>90174</td>\n",
              "      <td>30495324</td>\n",
              "      <td>1</td>\n",
              "      <td>2</td>\n",
              "      <td>1</td>\n",
              "      <td>221</td>\n",
              "      <td>107</td>\n",
              "      <td>82.0</td>\n",
              "      <td>0</td>\n",
              "      <td>2.0</td>\n",
              "      <td>0</td>\n",
              "      <td>1</td>\n",
              "      <td>0</td>\n",
              "      <td>1</td>\n",
              "      <td>2</td>\n",
              "      <td>1</td>\n",
              "      <td>3</td>\n",
              "      <td>2</td>\n",
              "      <td>0</td>\n",
              "      <td>0</td>\n",
              "    </tr>\n",
              "    <tr>\n",
              "      <th>9741069</th>\n",
              "      <td>9207981</td>\n",
              "      <td>2.0</td>\n",
              "      <td>90173</td>\n",
              "      <td>30495324</td>\n",
              "      <td>1</td>\n",
              "      <td>2</td>\n",
              "      <td>1</td>\n",
              "      <td>198</td>\n",
              "      <td>95</td>\n",
              "      <td>82.0</td>\n",
              "      <td>0</td>\n",
              "      <td>2.0</td>\n",
              "      <td>0</td>\n",
              "      <td>1</td>\n",
              "      <td>0</td>\n",
              "      <td>1</td>\n",
              "      <td>2</td>\n",
              "      <td>1</td>\n",
              "      <td>3</td>\n",
              "      <td>2</td>\n",
              "      <td>0</td>\n",
              "      <td>0</td>\n",
              "    </tr>\n",
              "  </tbody>\n",
              "</table>\n",
              "<p>9741070 rows × 22 columns</p>\n",
              "</div>"
            ],
            "text/plain": [
              "         event_id  reaction_id  ...  interface_lang  clusters_user\n",
              "0         1569409          1.0  ...               0              0\n",
              "1         1563971          1.0  ...               0              0\n",
              "2         1564013          1.0  ...               0              0\n",
              "3         1569414          1.0  ...               0              0\n",
              "4         1569391          1.0  ...               0              0\n",
              "...           ...          ...  ...             ...            ...\n",
              "9741065   9140450          2.0  ...               0              0\n",
              "9741066   9150545          1.0  ...               0              0\n",
              "9741067   9207987          2.0  ...               0              0\n",
              "9741068   9207969          2.0  ...               0              0\n",
              "9741069   9207981          2.0  ...               0              0\n",
              "\n",
              "[9741070 rows x 22 columns]"
            ]
          },
          "metadata": {
            "tags": []
          },
          "execution_count": 65
        }
      ]
    },
    {
      "cell_type": "code",
      "metadata": {
        "id": "jFYUvwVcwvd_"
      },
      "source": [
        "event_meme_user.rename(columns={'clusters_x' : 'clusters_meme', 'clusters_y' : 'clusters_user'}, inplace = True)"
      ],
      "execution_count": null,
      "outputs": []
    },
    {
      "cell_type": "code",
      "metadata": {
        "colab": {
          "base_uri": "https://localhost:8080/",
          "height": 436
        },
        "id": "yk-MNagexm4-",
        "outputId": "362ba833-18bf-483d-ad42-f4e49ac011f1"
      },
      "source": [
        "event_meme_user[event_meme_user['reaction_id'] == 1] // 40"
      ],
      "execution_count": null,
      "outputs": [
        {
          "output_type": "execute_result",
          "data": {
            "text/html": [
              "<div>\n",
              "<style scoped>\n",
              "    .dataframe tbody tr th:only-of-type {\n",
              "        vertical-align: middle;\n",
              "    }\n",
              "\n",
              "    .dataframe tbody tr th {\n",
              "        vertical-align: top;\n",
              "    }\n",
              "\n",
              "    .dataframe thead th {\n",
              "        text-align: right;\n",
              "    }\n",
              "</style>\n",
              "<table border=\"1\" class=\"dataframe\">\n",
              "  <thead>\n",
              "    <tr style=\"text-align: right;\">\n",
              "      <th></th>\n",
              "      <th>event_id</th>\n",
              "      <th>reaction_id</th>\n",
              "      <th>meme_id</th>\n",
              "      <th>user_id</th>\n",
              "      <th>published_at2021</th>\n",
              "      <th>content_lang</th>\n",
              "      <th>is_available</th>\n",
              "      <th>likes</th>\n",
              "      <th>dislikes</th>\n",
              "      <th>source_id</th>\n",
              "      <th>content_text</th>\n",
              "      <th>language_id</th>\n",
              "      <th>meme_type_animation</th>\n",
              "      <th>meme_type_photo</th>\n",
              "      <th>meme_type_video</th>\n",
              "      <th>source_grouped</th>\n",
              "      <th>clusters_meme</th>\n",
              "      <th>sessions</th>\n",
              "      <th>last_session_memes</th>\n",
              "      <th>watched_memes</th>\n",
              "      <th>interface_lang</th>\n",
              "      <th>clusters_user</th>\n",
              "    </tr>\n",
              "  </thead>\n",
              "  <tbody>\n",
              "    <tr>\n",
              "      <th>0</th>\n",
              "      <td>39235</td>\n",
              "      <td>0.0</td>\n",
              "      <td>229</td>\n",
              "      <td>28848650</td>\n",
              "      <td>0</td>\n",
              "      <td>0</td>\n",
              "      <td>0</td>\n",
              "      <td>13</td>\n",
              "      <td>15</td>\n",
              "      <td>1.0</td>\n",
              "      <td>0</td>\n",
              "      <td>0.0</td>\n",
              "      <td>0</td>\n",
              "      <td>0</td>\n",
              "      <td>0</td>\n",
              "      <td>0</td>\n",
              "      <td>0</td>\n",
              "      <td>0</td>\n",
              "      <td>0</td>\n",
              "      <td>15</td>\n",
              "      <td>0</td>\n",
              "      <td>0</td>\n",
              "    </tr>\n",
              "    <tr>\n",
              "      <th>1</th>\n",
              "      <td>39099</td>\n",
              "      <td>0.0</td>\n",
              "      <td>1168</td>\n",
              "      <td>28848650</td>\n",
              "      <td>0</td>\n",
              "      <td>0</td>\n",
              "      <td>0</td>\n",
              "      <td>41</td>\n",
              "      <td>28</td>\n",
              "      <td>0.0</td>\n",
              "      <td>0</td>\n",
              "      <td>0.0</td>\n",
              "      <td>0</td>\n",
              "      <td>0</td>\n",
              "      <td>0</td>\n",
              "      <td>0</td>\n",
              "      <td>0</td>\n",
              "      <td>0</td>\n",
              "      <td>0</td>\n",
              "      <td>15</td>\n",
              "      <td>0</td>\n",
              "      <td>0</td>\n",
              "    </tr>\n",
              "    <tr>\n",
              "      <th>2</th>\n",
              "      <td>39100</td>\n",
              "      <td>0.0</td>\n",
              "      <td>1239</td>\n",
              "      <td>28848650</td>\n",
              "      <td>0</td>\n",
              "      <td>0</td>\n",
              "      <td>0</td>\n",
              "      <td>20</td>\n",
              "      <td>9</td>\n",
              "      <td>0.0</td>\n",
              "      <td>0</td>\n",
              "      <td>0.0</td>\n",
              "      <td>0</td>\n",
              "      <td>0</td>\n",
              "      <td>0</td>\n",
              "      <td>0</td>\n",
              "      <td>0</td>\n",
              "      <td>0</td>\n",
              "      <td>0</td>\n",
              "      <td>15</td>\n",
              "      <td>0</td>\n",
              "      <td>0</td>\n",
              "    </tr>\n",
              "    <tr>\n",
              "      <th>3</th>\n",
              "      <td>39235</td>\n",
              "      <td>0.0</td>\n",
              "      <td>1349</td>\n",
              "      <td>28848650</td>\n",
              "      <td>0</td>\n",
              "      <td>0</td>\n",
              "      <td>0</td>\n",
              "      <td>14</td>\n",
              "      <td>6</td>\n",
              "      <td>0.0</td>\n",
              "      <td>0</td>\n",
              "      <td>0.0</td>\n",
              "      <td>0</td>\n",
              "      <td>0</td>\n",
              "      <td>0</td>\n",
              "      <td>0</td>\n",
              "      <td>0</td>\n",
              "      <td>0</td>\n",
              "      <td>0</td>\n",
              "      <td>15</td>\n",
              "      <td>0</td>\n",
              "      <td>0</td>\n",
              "    </tr>\n",
              "    <tr>\n",
              "      <th>4</th>\n",
              "      <td>39234</td>\n",
              "      <td>0.0</td>\n",
              "      <td>1469</td>\n",
              "      <td>28848650</td>\n",
              "      <td>0</td>\n",
              "      <td>0</td>\n",
              "      <td>0</td>\n",
              "      <td>11</td>\n",
              "      <td>5</td>\n",
              "      <td>0.0</td>\n",
              "      <td>0</td>\n",
              "      <td>0.0</td>\n",
              "      <td>0</td>\n",
              "      <td>0</td>\n",
              "      <td>0</td>\n",
              "      <td>0</td>\n",
              "      <td>0</td>\n",
              "      <td>0</td>\n",
              "      <td>0</td>\n",
              "      <td>15</td>\n",
              "      <td>0</td>\n",
              "      <td>0</td>\n",
              "    </tr>\n",
              "    <tr>\n",
              "      <th>...</th>\n",
              "      <td>...</td>\n",
              "      <td>...</td>\n",
              "      <td>...</td>\n",
              "      <td>...</td>\n",
              "      <td>...</td>\n",
              "      <td>...</td>\n",
              "      <td>...</td>\n",
              "      <td>...</td>\n",
              "      <td>...</td>\n",
              "      <td>...</td>\n",
              "      <td>...</td>\n",
              "      <td>...</td>\n",
              "      <td>...</td>\n",
              "      <td>...</td>\n",
              "      <td>...</td>\n",
              "      <td>...</td>\n",
              "      <td>...</td>\n",
              "      <td>...</td>\n",
              "      <td>...</td>\n",
              "      <td>...</td>\n",
              "      <td>...</td>\n",
              "      <td>...</td>\n",
              "    </tr>\n",
              "    <tr>\n",
              "      <th>9741053</th>\n",
              "      <td>214010</td>\n",
              "      <td>0.0</td>\n",
              "      <td>914</td>\n",
              "      <td>34415424</td>\n",
              "      <td>0</td>\n",
              "      <td>0</td>\n",
              "      <td>0</td>\n",
              "      <td>4</td>\n",
              "      <td>2</td>\n",
              "      <td>0.0</td>\n",
              "      <td>0</td>\n",
              "      <td>0.0</td>\n",
              "      <td>0</td>\n",
              "      <td>0</td>\n",
              "      <td>0</td>\n",
              "      <td>0</td>\n",
              "      <td>0</td>\n",
              "      <td>0</td>\n",
              "      <td>0</td>\n",
              "      <td>0</td>\n",
              "      <td>0</td>\n",
              "      <td>0</td>\n",
              "    </tr>\n",
              "    <tr>\n",
              "      <th>9741055</th>\n",
              "      <td>219116</td>\n",
              "      <td>0.0</td>\n",
              "      <td>1143</td>\n",
              "      <td>13230615</td>\n",
              "      <td>0</td>\n",
              "      <td>0</td>\n",
              "      <td>0</td>\n",
              "      <td>6</td>\n",
              "      <td>3</td>\n",
              "      <td>2.0</td>\n",
              "      <td>0</td>\n",
              "      <td>0.0</td>\n",
              "      <td>0</td>\n",
              "      <td>0</td>\n",
              "      <td>0</td>\n",
              "      <td>0</td>\n",
              "      <td>0</td>\n",
              "      <td>0</td>\n",
              "      <td>0</td>\n",
              "      <td>0</td>\n",
              "      <td>0</td>\n",
              "      <td>0</td>\n",
              "    </tr>\n",
              "    <tr>\n",
              "      <th>9741056</th>\n",
              "      <td>34235</td>\n",
              "      <td>0.0</td>\n",
              "      <td>119</td>\n",
              "      <td>3215401</td>\n",
              "      <td>0</td>\n",
              "      <td>0</td>\n",
              "      <td>0</td>\n",
              "      <td>0</td>\n",
              "      <td>0</td>\n",
              "      <td>0.0</td>\n",
              "      <td>0</td>\n",
              "      <td>0.0</td>\n",
              "      <td>0</td>\n",
              "      <td>0</td>\n",
              "      <td>0</td>\n",
              "      <td>0</td>\n",
              "      <td>0</td>\n",
              "      <td>0</td>\n",
              "      <td>0</td>\n",
              "      <td>0</td>\n",
              "      <td>0</td>\n",
              "      <td>0</td>\n",
              "    </tr>\n",
              "    <tr>\n",
              "      <th>9741057</th>\n",
              "      <td>230962</td>\n",
              "      <td>0.0</td>\n",
              "      <td>2221</td>\n",
              "      <td>26273057</td>\n",
              "      <td>0</td>\n",
              "      <td>0</td>\n",
              "      <td>0</td>\n",
              "      <td>6</td>\n",
              "      <td>3</td>\n",
              "      <td>2.0</td>\n",
              "      <td>0</td>\n",
              "      <td>0.0</td>\n",
              "      <td>0</td>\n",
              "      <td>0</td>\n",
              "      <td>0</td>\n",
              "      <td>0</td>\n",
              "      <td>0</td>\n",
              "      <td>0</td>\n",
              "      <td>0</td>\n",
              "      <td>0</td>\n",
              "      <td>0</td>\n",
              "      <td>0</td>\n",
              "    </tr>\n",
              "    <tr>\n",
              "      <th>9741066</th>\n",
              "      <td>228763</td>\n",
              "      <td>0.0</td>\n",
              "      <td>2244</td>\n",
              "      <td>14172045</td>\n",
              "      <td>0</td>\n",
              "      <td>0</td>\n",
              "      <td>0</td>\n",
              "      <td>7</td>\n",
              "      <td>3</td>\n",
              "      <td>2.0</td>\n",
              "      <td>0</td>\n",
              "      <td>0.0</td>\n",
              "      <td>0</td>\n",
              "      <td>0</td>\n",
              "      <td>0</td>\n",
              "      <td>0</td>\n",
              "      <td>0</td>\n",
              "      <td>0</td>\n",
              "      <td>0</td>\n",
              "      <td>0</td>\n",
              "      <td>0</td>\n",
              "      <td>0</td>\n",
              "    </tr>\n",
              "  </tbody>\n",
              "</table>\n",
              "<p>4929880 rows × 22 columns</p>\n",
              "</div>"
            ],
            "text/plain": [
              "         event_id  reaction_id  ...  interface_lang  clusters_user\n",
              "0           39235          0.0  ...               0              0\n",
              "1           39099          0.0  ...               0              0\n",
              "2           39100          0.0  ...               0              0\n",
              "3           39235          0.0  ...               0              0\n",
              "4           39234          0.0  ...               0              0\n",
              "...           ...          ...  ...             ...            ...\n",
              "9741053    214010          0.0  ...               0              0\n",
              "9741055    219116          0.0  ...               0              0\n",
              "9741056     34235          0.0  ...               0              0\n",
              "9741057    230962          0.0  ...               0              0\n",
              "9741066    228763          0.0  ...               0              0\n",
              "\n",
              "[4929880 rows x 22 columns]"
            ]
          },
          "metadata": {
            "tags": []
          },
          "execution_count": 67
        }
      ]
    },
    {
      "cell_type": "code",
      "metadata": {
        "id": "cwbAuz9byfIQ"
      },
      "source": [
        "likes_df = event_meme_user[event_meme_user['reaction_id'] == 1]\n",
        "dislikes_df = event_meme_user[event_meme_user['reaction_id'] == 2]"
      ],
      "execution_count": null,
      "outputs": []
    },
    {
      "cell_type": "code",
      "metadata": {
        "id": "ufKZC2iAo8C-"
      },
      "source": [
        "likes_df_split = np.array_split(likes_df, 10)"
      ],
      "execution_count": null,
      "outputs": []
    },
    {
      "cell_type": "code",
      "metadata": {
        "colab": {
          "base_uri": "https://localhost:8080/",
          "height": 436
        },
        "id": "gxleV6Fzr2WI",
        "outputId": "c8af13b1-1a06-4dba-d52e-a96438789d0a"
      },
      "source": [
        "likes_df_split[0]"
      ],
      "execution_count": null,
      "outputs": [
        {
          "output_type": "execute_result",
          "data": {
            "text/html": [
              "<div>\n",
              "<style scoped>\n",
              "    .dataframe tbody tr th:only-of-type {\n",
              "        vertical-align: middle;\n",
              "    }\n",
              "\n",
              "    .dataframe tbody tr th {\n",
              "        vertical-align: top;\n",
              "    }\n",
              "\n",
              "    .dataframe thead th {\n",
              "        text-align: right;\n",
              "    }\n",
              "</style>\n",
              "<table border=\"1\" class=\"dataframe\">\n",
              "  <thead>\n",
              "    <tr style=\"text-align: right;\">\n",
              "      <th></th>\n",
              "      <th>event_id</th>\n",
              "      <th>reaction_id</th>\n",
              "      <th>meme_id</th>\n",
              "      <th>user_id</th>\n",
              "      <th>published_at2021</th>\n",
              "      <th>content_lang</th>\n",
              "      <th>is_available</th>\n",
              "      <th>likes</th>\n",
              "      <th>dislikes</th>\n",
              "      <th>source_id</th>\n",
              "      <th>content_text</th>\n",
              "      <th>language_id</th>\n",
              "      <th>meme_type_animation</th>\n",
              "      <th>meme_type_photo</th>\n",
              "      <th>meme_type_video</th>\n",
              "      <th>source_grouped</th>\n",
              "      <th>clusters_meme</th>\n",
              "      <th>sessions</th>\n",
              "      <th>last_session_memes</th>\n",
              "      <th>watched_memes</th>\n",
              "      <th>interface_lang</th>\n",
              "      <th>clusters_user</th>\n",
              "    </tr>\n",
              "  </thead>\n",
              "  <tbody>\n",
              "    <tr>\n",
              "      <th>0</th>\n",
              "      <td>1569409</td>\n",
              "      <td>1.0</td>\n",
              "      <td>9197</td>\n",
              "      <td>1153946021</td>\n",
              "      <td>0</td>\n",
              "      <td>0</td>\n",
              "      <td>1</td>\n",
              "      <td>554</td>\n",
              "      <td>600</td>\n",
              "      <td>46.0</td>\n",
              "      <td>1</td>\n",
              "      <td>2.0</td>\n",
              "      <td>0</td>\n",
              "      <td>1</td>\n",
              "      <td>0</td>\n",
              "      <td>0</td>\n",
              "      <td>1</td>\n",
              "      <td>39</td>\n",
              "      <td>1</td>\n",
              "      <td>636</td>\n",
              "      <td>0</td>\n",
              "      <td>0</td>\n",
              "    </tr>\n",
              "    <tr>\n",
              "      <th>1</th>\n",
              "      <td>1563971</td>\n",
              "      <td>1.0</td>\n",
              "      <td>46731</td>\n",
              "      <td>1153946021</td>\n",
              "      <td>0</td>\n",
              "      <td>0</td>\n",
              "      <td>1</td>\n",
              "      <td>1660</td>\n",
              "      <td>1154</td>\n",
              "      <td>8.0</td>\n",
              "      <td>1</td>\n",
              "      <td>2.0</td>\n",
              "      <td>0</td>\n",
              "      <td>1</td>\n",
              "      <td>0</td>\n",
              "      <td>0</td>\n",
              "      <td>1</td>\n",
              "      <td>39</td>\n",
              "      <td>1</td>\n",
              "      <td>636</td>\n",
              "      <td>0</td>\n",
              "      <td>0</td>\n",
              "    </tr>\n",
              "    <tr>\n",
              "      <th>2</th>\n",
              "      <td>1564013</td>\n",
              "      <td>1.0</td>\n",
              "      <td>49571</td>\n",
              "      <td>1153946021</td>\n",
              "      <td>0</td>\n",
              "      <td>0</td>\n",
              "      <td>1</td>\n",
              "      <td>839</td>\n",
              "      <td>381</td>\n",
              "      <td>21.0</td>\n",
              "      <td>1</td>\n",
              "      <td>2.0</td>\n",
              "      <td>0</td>\n",
              "      <td>1</td>\n",
              "      <td>0</td>\n",
              "      <td>0</td>\n",
              "      <td>1</td>\n",
              "      <td>39</td>\n",
              "      <td>1</td>\n",
              "      <td>636</td>\n",
              "      <td>0</td>\n",
              "      <td>0</td>\n",
              "    </tr>\n",
              "    <tr>\n",
              "      <th>3</th>\n",
              "      <td>1569414</td>\n",
              "      <td>1.0</td>\n",
              "      <td>53977</td>\n",
              "      <td>1153946021</td>\n",
              "      <td>0</td>\n",
              "      <td>0</td>\n",
              "      <td>1</td>\n",
              "      <td>564</td>\n",
              "      <td>260</td>\n",
              "      <td>21.0</td>\n",
              "      <td>1</td>\n",
              "      <td>2.0</td>\n",
              "      <td>0</td>\n",
              "      <td>1</td>\n",
              "      <td>0</td>\n",
              "      <td>0</td>\n",
              "      <td>1</td>\n",
              "      <td>39</td>\n",
              "      <td>1</td>\n",
              "      <td>636</td>\n",
              "      <td>0</td>\n",
              "      <td>0</td>\n",
              "    </tr>\n",
              "    <tr>\n",
              "      <th>4</th>\n",
              "      <td>1569391</td>\n",
              "      <td>1.0</td>\n",
              "      <td>58789</td>\n",
              "      <td>1153946021</td>\n",
              "      <td>0</td>\n",
              "      <td>0</td>\n",
              "      <td>1</td>\n",
              "      <td>466</td>\n",
              "      <td>212</td>\n",
              "      <td>21.0</td>\n",
              "      <td>1</td>\n",
              "      <td>2.0</td>\n",
              "      <td>0</td>\n",
              "      <td>1</td>\n",
              "      <td>0</td>\n",
              "      <td>0</td>\n",
              "      <td>1</td>\n",
              "      <td>39</td>\n",
              "      <td>1</td>\n",
              "      <td>636</td>\n",
              "      <td>0</td>\n",
              "      <td>0</td>\n",
              "    </tr>\n",
              "    <tr>\n",
              "      <th>...</th>\n",
              "      <td>...</td>\n",
              "      <td>...</td>\n",
              "      <td>...</td>\n",
              "      <td>...</td>\n",
              "      <td>...</td>\n",
              "      <td>...</td>\n",
              "      <td>...</td>\n",
              "      <td>...</td>\n",
              "      <td>...</td>\n",
              "      <td>...</td>\n",
              "      <td>...</td>\n",
              "      <td>...</td>\n",
              "      <td>...</td>\n",
              "      <td>...</td>\n",
              "      <td>...</td>\n",
              "      <td>...</td>\n",
              "      <td>...</td>\n",
              "      <td>...</td>\n",
              "      <td>...</td>\n",
              "      <td>...</td>\n",
              "      <td>...</td>\n",
              "      <td>...</td>\n",
              "    </tr>\n",
              "    <tr>\n",
              "      <th>1402723</th>\n",
              "      <td>5766035</td>\n",
              "      <td>1.0</td>\n",
              "      <td>24376</td>\n",
              "      <td>135004367</td>\n",
              "      <td>0</td>\n",
              "      <td>0</td>\n",
              "      <td>1</td>\n",
              "      <td>210</td>\n",
              "      <td>216</td>\n",
              "      <td>20.0</td>\n",
              "      <td>1</td>\n",
              "      <td>2.0</td>\n",
              "      <td>0</td>\n",
              "      <td>1</td>\n",
              "      <td>0</td>\n",
              "      <td>0</td>\n",
              "      <td>1</td>\n",
              "      <td>90</td>\n",
              "      <td>1</td>\n",
              "      <td>5245</td>\n",
              "      <td>0</td>\n",
              "      <td>0</td>\n",
              "    </tr>\n",
              "    <tr>\n",
              "      <th>1402724</th>\n",
              "      <td>6031326</td>\n",
              "      <td>1.0</td>\n",
              "      <td>7253</td>\n",
              "      <td>135004367</td>\n",
              "      <td>0</td>\n",
              "      <td>0</td>\n",
              "      <td>1</td>\n",
              "      <td>613</td>\n",
              "      <td>415</td>\n",
              "      <td>9.0</td>\n",
              "      <td>1</td>\n",
              "      <td>2.0</td>\n",
              "      <td>0</td>\n",
              "      <td>1</td>\n",
              "      <td>0</td>\n",
              "      <td>0</td>\n",
              "      <td>1</td>\n",
              "      <td>90</td>\n",
              "      <td>1</td>\n",
              "      <td>5245</td>\n",
              "      <td>0</td>\n",
              "      <td>0</td>\n",
              "    </tr>\n",
              "    <tr>\n",
              "      <th>1402725</th>\n",
              "      <td>7619452</td>\n",
              "      <td>1.0</td>\n",
              "      <td>50513</td>\n",
              "      <td>135004367</td>\n",
              "      <td>0</td>\n",
              "      <td>0</td>\n",
              "      <td>1</td>\n",
              "      <td>209</td>\n",
              "      <td>157</td>\n",
              "      <td>9.0</td>\n",
              "      <td>1</td>\n",
              "      <td>2.0</td>\n",
              "      <td>0</td>\n",
              "      <td>1</td>\n",
              "      <td>0</td>\n",
              "      <td>0</td>\n",
              "      <td>1</td>\n",
              "      <td>90</td>\n",
              "      <td>1</td>\n",
              "      <td>5245</td>\n",
              "      <td>0</td>\n",
              "      <td>0</td>\n",
              "    </tr>\n",
              "    <tr>\n",
              "      <th>1402726</th>\n",
              "      <td>7619573</td>\n",
              "      <td>1.0</td>\n",
              "      <td>53850</td>\n",
              "      <td>135004367</td>\n",
              "      <td>0</td>\n",
              "      <td>0</td>\n",
              "      <td>1</td>\n",
              "      <td>195</td>\n",
              "      <td>152</td>\n",
              "      <td>9.0</td>\n",
              "      <td>1</td>\n",
              "      <td>2.0</td>\n",
              "      <td>0</td>\n",
              "      <td>1</td>\n",
              "      <td>0</td>\n",
              "      <td>0</td>\n",
              "      <td>1</td>\n",
              "      <td>90</td>\n",
              "      <td>1</td>\n",
              "      <td>5245</td>\n",
              "      <td>0</td>\n",
              "      <td>0</td>\n",
              "    </tr>\n",
              "    <tr>\n",
              "      <th>1402727</th>\n",
              "      <td>6515094</td>\n",
              "      <td>1.0</td>\n",
              "      <td>40208</td>\n",
              "      <td>135004367</td>\n",
              "      <td>0</td>\n",
              "      <td>0</td>\n",
              "      <td>1</td>\n",
              "      <td>1353</td>\n",
              "      <td>613</td>\n",
              "      <td>21.0</td>\n",
              "      <td>1</td>\n",
              "      <td>2.0</td>\n",
              "      <td>0</td>\n",
              "      <td>1</td>\n",
              "      <td>0</td>\n",
              "      <td>0</td>\n",
              "      <td>1</td>\n",
              "      <td>90</td>\n",
              "      <td>1</td>\n",
              "      <td>5245</td>\n",
              "      <td>0</td>\n",
              "      <td>0</td>\n",
              "    </tr>\n",
              "  </tbody>\n",
              "</table>\n",
              "<p>492988 rows × 22 columns</p>\n",
              "</div>"
            ],
            "text/plain": [
              "         event_id  reaction_id  ...  interface_lang  clusters_user\n",
              "0         1569409          1.0  ...               0              0\n",
              "1         1563971          1.0  ...               0              0\n",
              "2         1564013          1.0  ...               0              0\n",
              "3         1569414          1.0  ...               0              0\n",
              "4         1569391          1.0  ...               0              0\n",
              "...           ...          ...  ...             ...            ...\n",
              "1402723   5766035          1.0  ...               0              0\n",
              "1402724   6031326          1.0  ...               0              0\n",
              "1402725   7619452          1.0  ...               0              0\n",
              "1402726   7619573          1.0  ...               0              0\n",
              "1402727   6515094          1.0  ...               0              0\n",
              "\n",
              "[492988 rows x 22 columns]"
            ]
          },
          "metadata": {
            "tags": []
          },
          "execution_count": 70
        }
      ]
    },
    {
      "cell_type": "code",
      "metadata": {
        "id": "VfBJqD5Qr7f3"
      },
      "source": [
        "dislikes_df_split = np.array_split(dislikes_df, 10)"
      ],
      "execution_count": null,
      "outputs": []
    },
    {
      "cell_type": "code",
      "metadata": {
        "id": "ckqBi3Lf40Kt"
      },
      "source": [
        "df = pd.concat([likes_df_split[0], dislikes_df_split[0]])"
      ],
      "execution_count": null,
      "outputs": []
    },
    {
      "cell_type": "code",
      "metadata": {
        "colab": {
          "base_uri": "https://localhost:8080/"
        },
        "id": "9edaj9KxsKkf",
        "outputId": "5178da49-09cd-4e62-bf74-97734b38b42c"
      },
      "source": [
        "df.reaction_id.value_counts()"
      ],
      "execution_count": null,
      "outputs": [
        {
          "output_type": "execute_result",
          "data": {
            "text/plain": [
              "1.0    492988\n",
              "2.0    481119\n",
              "Name: reaction_id, dtype: int64"
            ]
          },
          "metadata": {
            "tags": []
          },
          "execution_count": 73
        }
      ]
    },
    {
      "cell_type": "code",
      "metadata": {
        "colab": {
          "base_uri": "https://localhost:8080/",
          "height": 34
        },
        "id": "GaqP_st3t525",
        "outputId": "5a347483-e806-486f-f91f-c360e2d38835"
      },
      "source": [
        "# выгружаем часть датасэта, которая под силу для обучения колабом\n",
        "from google.colab import files\n",
        "df.to_csv('splitted_reactions_df10.csv') \n",
        "files.download('splitted_reactions_df10.csv')"
      ],
      "execution_count": null,
      "outputs": [
        {
          "output_type": "display_data",
          "data": {
            "application/javascript": [
              "\n",
              "    async function download(id, filename, size) {\n",
              "      if (!google.colab.kernel.accessAllowed) {\n",
              "        return;\n",
              "      }\n",
              "      const div = document.createElement('div');\n",
              "      const label = document.createElement('label');\n",
              "      label.textContent = `Downloading \"${filename}\": `;\n",
              "      div.appendChild(label);\n",
              "      const progress = document.createElement('progress');\n",
              "      progress.max = size;\n",
              "      div.appendChild(progress);\n",
              "      document.body.appendChild(div);\n",
              "\n",
              "      const buffers = [];\n",
              "      let downloaded = 0;\n",
              "\n",
              "      const channel = await google.colab.kernel.comms.open(id);\n",
              "      // Send a message to notify the kernel that we're ready.\n",
              "      channel.send({})\n",
              "\n",
              "      for await (const message of channel.messages) {\n",
              "        // Send a message to notify the kernel that we're ready.\n",
              "        channel.send({})\n",
              "        if (message.buffers) {\n",
              "          for (const buffer of message.buffers) {\n",
              "            buffers.push(buffer);\n",
              "            downloaded += buffer.byteLength;\n",
              "            progress.value = downloaded;\n",
              "          }\n",
              "        }\n",
              "      }\n",
              "      const blob = new Blob(buffers, {type: 'application/binary'});\n",
              "      const a = document.createElement('a');\n",
              "      a.href = window.URL.createObjectURL(blob);\n",
              "      a.download = filename;\n",
              "      div.appendChild(a);\n",
              "      a.click();\n",
              "      div.remove();\n",
              "    }\n",
              "  "
            ],
            "text/plain": [
              "<IPython.core.display.Javascript object>"
            ]
          },
          "metadata": {
            "tags": []
          }
        },
        {
          "output_type": "display_data",
          "data": {
            "application/javascript": [
              "download(\"download_a7dd558c-16e3-40a1-8a74-ead28179d3bc\", \"splitted_reactions_df10.csv\", 82452450)"
            ],
            "text/plain": [
              "<IPython.core.display.Javascript object>"
            ]
          },
          "metadata": {
            "tags": []
          }
        }
      ]
    }
  ]
}