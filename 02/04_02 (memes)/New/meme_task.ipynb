{
  "nbformat": 4,
  "nbformat_minor": 0,
  "metadata": {
    "colab": {
      "name": "meme_task.ipynb",
      "provenance": [],
      "collapsed_sections": []
    },
    "kernelspec": {
      "display_name": "Python 3",
      "name": "python3"
    },
    "language_info": {
      "name": "python"
    }
  },
  "cells": [
    {
      "cell_type": "markdown",
      "metadata": {
        "id": "RLJYNzD7cKw3"
      },
      "source": [
        "# Текущие задачи\n",
        "\n",
        "* Кластеризовать мемы \n",
        "* Кластеризовать юзеров\n",
        "* Сопоставить юзерам мемы (кластеры)"
      ]
    },
    {
      "cell_type": "markdown",
      "metadata": {
        "id": "wpf7wkMylob4"
      },
      "source": [
        "## Импорт библиотек и датасэтов"
      ]
    },
    {
      "cell_type": "code",
      "metadata": {
        "colab": {
          "base_uri": "https://localhost:8080/"
        },
        "id": "EwZWiJXYZ7_y",
        "outputId": "64001b80-ba7b-4008-9fed-79caa11d16bc"
      },
      "source": [
        "from google.colab import drive\n",
        "drive.mount('/content/drive')"
      ],
      "execution_count": 1,
      "outputs": [
        {
          "output_type": "stream",
          "text": [
            "Mounted at /content/drive\n"
          ],
          "name": "stdout"
        }
      ]
    },
    {
      "cell_type": "code",
      "metadata": {
        "id": "dgT-OokraES5"
      },
      "source": [
        "import pandas as pd\n",
        "import numpy as np\n",
        "import seaborn as sns\n",
        "import matplotlib.pyplot as plt"
      ],
      "execution_count": 2,
      "outputs": []
    },
    {
      "cell_type": "code",
      "metadata": {
        "id": "xMp_AO4RaEQk"
      },
      "source": [
        "path = 'drive/MyDrive/DS/meme'"
      ],
      "execution_count": 3,
      "outputs": []
    },
    {
      "cell_type": "code",
      "metadata": {
        "id": "-7ZTC-8haEOI"
      },
      "source": [
        "event = pd.read_csv(path+'/tgbot_event.csv')\n",
        "meme = pd.read_csv(path+'/tgbot_meme.csv')\n",
        "user = pd.read_csv(path+'/tgbot_user.csv')"
      ],
      "execution_count": 4,
      "outputs": []
    },
    {
      "cell_type": "code",
      "metadata": {
        "colab": {
          "base_uri": "https://localhost:8080/",
          "height": 482
        },
        "id": "7W8x4UdFaELl",
        "outputId": "9d3cfd78-7255-49dd-afa8-05043f7c22c6"
      },
      "source": [
        "meme.head()"
      ],
      "execution_count": 5,
      "outputs": [
        {
          "output_type": "execute_result",
          "data": {
            "text/html": [
              "<div>\n",
              "<style scoped>\n",
              "    .dataframe tbody tr th:only-of-type {\n",
              "        vertical-align: middle;\n",
              "    }\n",
              "\n",
              "    .dataframe tbody tr th {\n",
              "        vertical-align: top;\n",
              "    }\n",
              "\n",
              "    .dataframe thead th {\n",
              "        text-align: right;\n",
              "    }\n",
              "</style>\n",
              "<table border=\"1\" class=\"dataframe\">\n",
              "  <thead>\n",
              "    <tr style=\"text-align: right;\">\n",
              "      <th></th>\n",
              "      <th>meme_id</th>\n",
              "      <th>meme_type</th>\n",
              "      <th>original_post_link</th>\n",
              "      <th>source_name</th>\n",
              "      <th>published_at</th>\n",
              "      <th>telegram_file_id</th>\n",
              "      <th>content_url</th>\n",
              "      <th>caption</th>\n",
              "      <th>content_lang</th>\n",
              "      <th>is_available</th>\n",
              "      <th>likes</th>\n",
              "      <th>dislikes</th>\n",
              "      <th>created_at</th>\n",
              "      <th>updated_at</th>\n",
              "      <th>is_broken</th>\n",
              "      <th>source_id</th>\n",
              "      <th>content_text</th>\n",
              "      <th>caption_lang</th>\n",
              "      <th>language_id</th>\n",
              "    </tr>\n",
              "  </thead>\n",
              "  <tbody>\n",
              "    <tr>\n",
              "      <th>0</th>\n",
              "      <td>13395</td>\n",
              "      <td>photo</td>\n",
              "      <td>https://vk.com/saintbeobanka?w=wall-67185996_2...</td>\n",
              "      <td>https://vk.com/saintbeobanka</td>\n",
              "      <td>2020-03-28 00:22:26+00</td>\n",
              "      <td>AgACAgQAAx0EVqG9GwACyDJefsuwVgIydYSqXSt9L2-o3Y...</td>\n",
              "      <td>https://sun6-14.userapi.com/c7004/v7004381/823...</td>\n",
              "      <td>NaN</td>\n",
              "      <td>ru</td>\n",
              "      <td>True</td>\n",
              "      <td>28</td>\n",
              "      <td>38</td>\n",
              "      <td>2020-03-28 03:59:44.496141+00</td>\n",
              "      <td>2021-02-10 07:21:58.272992+00</td>\n",
              "      <td>False</td>\n",
              "      <td>10.0</td>\n",
              "      <td>Будильник Отложить на 10 мимут vk.com/jaimes_h...</td>\n",
              "      <td>ww</td>\n",
              "      <td>2.0</td>\n",
              "    </tr>\n",
              "    <tr>\n",
              "      <th>1</th>\n",
              "      <td>13952</td>\n",
              "      <td>photo</td>\n",
              "      <td>https://reddit.com/r/wholesomememes/comments/f...</td>\n",
              "      <td>https://www.reddit.com/r/wholesomememes/</td>\n",
              "      <td>2020-03-28 12:14:46+00</td>\n",
              "      <td>AgACAgQAAx0EVqG9GwAC0QZef4L5HUrdey1K4xOBNC0V0-...</td>\n",
              "      <td>https://i.redd.it/xo8ilxurnep41.png</td>\n",
              "      <td>Wholesome slavery?</td>\n",
              "      <td>en</td>\n",
              "      <td>True</td>\n",
              "      <td>9</td>\n",
              "      <td>16</td>\n",
              "      <td>2020-03-28 17:01:45.289559+00</td>\n",
              "      <td>2021-02-10 07:21:58.276687+00</td>\n",
              "      <td>False</td>\n",
              "      <td>80.0</td>\n",
              "      <td>Happy Thanksgiving ! I was gonna say Let's say...</td>\n",
              "      <td>en</td>\n",
              "      <td>3.0</td>\n",
              "    </tr>\n",
              "    <tr>\n",
              "      <th>2</th>\n",
              "      <td>15593</td>\n",
              "      <td>photo</td>\n",
              "      <td>https://t.me/LaQeque/41396</td>\n",
              "      <td>https://t.me/LaQeque</td>\n",
              "      <td>2020-03-30 09:11:04+00</td>\n",
              "      <td>AgACAgIAAx0CVqG9GwAC7X5egk_f1FcUOOXdwvQ6tCUBOP...</td>\n",
              "      <td>https://storage.googleapis.com/meme_imgs/15593...</td>\n",
              "      <td>NaN</td>\n",
              "      <td>ru</td>\n",
              "      <td>True</td>\n",
              "      <td>41</td>\n",
              "      <td>54</td>\n",
              "      <td>2020-03-30 12:02:40.780487+00</td>\n",
              "      <td>2021-02-10 07:21:58.28043+00</td>\n",
              "      <td>False</td>\n",
              "      <td>19.0</td>\n",
              "      <td>Ггграждане, мемння ззовут вваш преззидент, ппо...</td>\n",
              "      <td>ww</td>\n",
              "      <td>2.0</td>\n",
              "    </tr>\n",
              "    <tr>\n",
              "      <th>3</th>\n",
              "      <td>18442</td>\n",
              "      <td>photo</td>\n",
              "      <td>https://reddit.com/r/dankmemes/comments/ftalgn...</td>\n",
              "      <td>https://www.reddit.com/r/dankmemes/</td>\n",
              "      <td>2020-04-01 22:53:31+00</td>\n",
              "      <td>AgACAgQAAx0EVqG9GwABAQ8_XoVyYdS-2R9bcIpdH4YqK-...</td>\n",
              "      <td>https://i.redd.it/a3mp5spddaq41.jpg</td>\n",
              "      <td>You Won’t last 10 seconds</td>\n",
              "      <td>en</td>\n",
              "      <td>True</td>\n",
              "      <td>87</td>\n",
              "      <td>48</td>\n",
              "      <td>2020-04-02 05:04:33.300689+00</td>\n",
              "      <td>2021-02-10 07:21:58.28401+00</td>\n",
              "      <td>False</td>\n",
              "      <td>78.0</td>\n",
              "      <td>AL ALL WT Should we contact the hot milfs in o...</td>\n",
              "      <td>en</td>\n",
              "      <td>3.0</td>\n",
              "    </tr>\n",
              "    <tr>\n",
              "      <th>4</th>\n",
              "      <td>20798</td>\n",
              "      <td>photo</td>\n",
              "      <td>https://vk.com/wtf.rasha?w=wall-23486067_179559</td>\n",
              "      <td>https://vk.com/wtf.rasha</td>\n",
              "      <td>2020-04-04 11:15:01+00</td>\n",
              "      <td>AgACAgQAAx0EVqG9GwABATuvXonKXWZuSeRqN8vd8gVR09...</td>\n",
              "      <td>https://sun9-37.userapi.com/c858228/v858228646...</td>\n",
              "      <td>NaN</td>\n",
              "      <td>ru</td>\n",
              "      <td>True</td>\n",
              "      <td>234</td>\n",
              "      <td>178</td>\n",
              "      <td>2020-04-04 12:10:28.173755+00</td>\n",
              "      <td>2021-02-10 07:21:58.291519+00</td>\n",
              "      <td>False</td>\n",
              "      <td>9.0</td>\n",
              "      <td>Шляпа Патриарха Никона @NikonaShapka апрель 20...</td>\n",
              "      <td>ww</td>\n",
              "      <td>2.0</td>\n",
              "    </tr>\n",
              "  </tbody>\n",
              "</table>\n",
              "</div>"
            ],
            "text/plain": [
              "   meme_id meme_type  ... caption_lang language_id\n",
              "0    13395     photo  ...           ww         2.0\n",
              "1    13952     photo  ...           en         3.0\n",
              "2    15593     photo  ...           ww         2.0\n",
              "3    18442     photo  ...           en         3.0\n",
              "4    20798     photo  ...           ww         2.0\n",
              "\n",
              "[5 rows x 19 columns]"
            ]
          },
          "metadata": {
            "tags": []
          },
          "execution_count": 5
        }
      ]
    },
    {
      "cell_type": "code",
      "metadata": {
        "colab": {
          "base_uri": "https://localhost:8080/",
          "height": 289
        },
        "id": "MMFTh9WMaEJD",
        "outputId": "ce3ecf69-e4d0-46ff-b503-07889943b98f"
      },
      "source": [
        "user.head()"
      ],
      "execution_count": 6,
      "outputs": [
        {
          "output_type": "execute_result",
          "data": {
            "text/html": [
              "<div>\n",
              "<style scoped>\n",
              "    .dataframe tbody tr th:only-of-type {\n",
              "        vertical-align: middle;\n",
              "    }\n",
              "\n",
              "    .dataframe tbody tr th {\n",
              "        vertical-align: top;\n",
              "    }\n",
              "\n",
              "    .dataframe thead th {\n",
              "        text-align: right;\n",
              "    }\n",
              "</style>\n",
              "<table border=\"1\" class=\"dataframe\">\n",
              "  <thead>\n",
              "    <tr style=\"text-align: right;\">\n",
              "      <th></th>\n",
              "      <th>user_id</th>\n",
              "      <th>username</th>\n",
              "      <th>first_name</th>\n",
              "      <th>last_name</th>\n",
              "      <th>language_code</th>\n",
              "      <th>seed</th>\n",
              "      <th>deep_link</th>\n",
              "      <th>is_blocked_bot</th>\n",
              "      <th>is_banned</th>\n",
              "      <th>is_admin</th>\n",
              "      <th>is_moderator</th>\n",
              "      <th>sessions</th>\n",
              "      <th>last_session_memes</th>\n",
              "      <th>watched_memes</th>\n",
              "      <th>created_at</th>\n",
              "      <th>updated_at</th>\n",
              "      <th>interface_lang</th>\n",
              "      <th>gender</th>\n",
              "      <th>latest_meme_sent_at</th>\n",
              "    </tr>\n",
              "  </thead>\n",
              "  <tbody>\n",
              "    <tr>\n",
              "      <th>0</th>\n",
              "      <td>1235209430</td>\n",
              "      <td>NaN</td>\n",
              "      <td>Paras</td>\n",
              "      <td>Kamboj</td>\n",
              "      <td>NaN</td>\n",
              "      <td>6</td>\n",
              "      <td>likemeupbot_lang_en</td>\n",
              "      <td>True</td>\n",
              "      <td>False</td>\n",
              "      <td>False</td>\n",
              "      <td>0</td>\n",
              "      <td>3</td>\n",
              "      <td>4</td>\n",
              "      <td>8</td>\n",
              "      <td>2020-10-27 07:33:12.040495+00</td>\n",
              "      <td>2021-02-10 00:29:57.669801+00</td>\n",
              "      <td>en</td>\n",
              "      <td>NaN</td>\n",
              "      <td>NaN</td>\n",
              "    </tr>\n",
              "    <tr>\n",
              "      <th>1</th>\n",
              "      <td>113584040</td>\n",
              "      <td>nikrnrr</td>\n",
              "      <td>N</td>\n",
              "      <td>NaN</td>\n",
              "      <td>ru</td>\n",
              "      <td>26</td>\n",
              "      <td>NaN</td>\n",
              "      <td>True</td>\n",
              "      <td>False</td>\n",
              "      <td>False</td>\n",
              "      <td>0</td>\n",
              "      <td>1</td>\n",
              "      <td>1</td>\n",
              "      <td>0</td>\n",
              "      <td>2020-10-28 12:05:37.473558+00</td>\n",
              "      <td>2021-02-10 01:29:57.505289+00</td>\n",
              "      <td>ru</td>\n",
              "      <td>N</td>\n",
              "      <td>NaN</td>\n",
              "    </tr>\n",
              "    <tr>\n",
              "      <th>2</th>\n",
              "      <td>1142713343</td>\n",
              "      <td>NaN</td>\n",
              "      <td>Serik</td>\n",
              "      <td>NaN</td>\n",
              "      <td>NaN</td>\n",
              "      <td>32</td>\n",
              "      <td>NaN</td>\n",
              "      <td>True</td>\n",
              "      <td>False</td>\n",
              "      <td>False</td>\n",
              "      <td>0</td>\n",
              "      <td>1</td>\n",
              "      <td>1</td>\n",
              "      <td>0</td>\n",
              "      <td>2020-10-27 17:31:30.480084+00</td>\n",
              "      <td>2021-02-10 01:29:55.555919+00</td>\n",
              "      <td>en</td>\n",
              "      <td>NaN</td>\n",
              "      <td>NaN</td>\n",
              "    </tr>\n",
              "    <tr>\n",
              "      <th>3</th>\n",
              "      <td>187967374</td>\n",
              "      <td>Ddivanov</td>\n",
              "      <td>Dmitry</td>\n",
              "      <td>Ivanov</td>\n",
              "      <td>ru</td>\n",
              "      <td>13</td>\n",
              "      <td>NaN</td>\n",
              "      <td>True</td>\n",
              "      <td>False</td>\n",
              "      <td>False</td>\n",
              "      <td>0</td>\n",
              "      <td>2</td>\n",
              "      <td>5</td>\n",
              "      <td>9</td>\n",
              "      <td>2020-10-26 13:12:52.373779+00</td>\n",
              "      <td>2021-02-09 23:29:56.086916+00</td>\n",
              "      <td>ru</td>\n",
              "      <td>M</td>\n",
              "      <td>NaN</td>\n",
              "    </tr>\n",
              "    <tr>\n",
              "      <th>4</th>\n",
              "      <td>923016092</td>\n",
              "      <td>NaN</td>\n",
              "      <td>Joanna</td>\n",
              "      <td>NaN</td>\n",
              "      <td>es</td>\n",
              "      <td>99</td>\n",
              "      <td>NaN</td>\n",
              "      <td>False</td>\n",
              "      <td>False</td>\n",
              "      <td>False</td>\n",
              "      <td>0</td>\n",
              "      <td>39</td>\n",
              "      <td>1</td>\n",
              "      <td>35</td>\n",
              "      <td>2020-10-27 19:11:33.959974+00</td>\n",
              "      <td>2021-02-09 17:56:04.574689+00</td>\n",
              "      <td>en</td>\n",
              "      <td>NaN</td>\n",
              "      <td>2021-02-09 17:56:04.574558+00</td>\n",
              "    </tr>\n",
              "  </tbody>\n",
              "</table>\n",
              "</div>"
            ],
            "text/plain": [
              "      user_id  username  ... gender            latest_meme_sent_at\n",
              "0  1235209430       NaN  ...    NaN                            NaN\n",
              "1   113584040   nikrnrr  ...      N                            NaN\n",
              "2  1142713343       NaN  ...    NaN                            NaN\n",
              "3   187967374  Ddivanov  ...      M                            NaN\n",
              "4   923016092       NaN  ...    NaN  2021-02-09 17:56:04.574558+00\n",
              "\n",
              "[5 rows x 19 columns]"
            ]
          },
          "metadata": {
            "tags": []
          },
          "execution_count": 6
        }
      ]
    },
    {
      "cell_type": "markdown",
      "metadata": {
        "id": "NjYkKCesY1Ru"
      },
      "source": [
        "## Обработка датасэтов"
      ]
    },
    {
      "cell_type": "markdown",
      "metadata": {
        "id": "-tJEyBmJls6O"
      },
      "source": [
        "В  данной части будем:\n",
        "* Изучать датасэты (фичи)\n",
        "* Удалять ненужные/пустые фичи\n",
        "* Нужные и достаточно полные данные будем, при необходимости, преобразовывать в вид, приемлемый для обучения"
      ]
    },
    {
      "cell_type": "markdown",
      "metadata": {
        "id": "Q3oKhWVwcQpB"
      },
      "source": [
        "### Обработка meme_df"
      ]
    },
    {
      "cell_type": "code",
      "metadata": {
        "colab": {
          "base_uri": "https://localhost:8080/"
        },
        "id": "2YiMUSMpaEBm",
        "outputId": "9e13ab02-85cd-482c-8759-3a6d344d566b"
      },
      "source": [
        "meme.columns"
      ],
      "execution_count": 7,
      "outputs": [
        {
          "output_type": "execute_result",
          "data": {
            "text/plain": [
              "Index(['meme_id', 'meme_type', 'original_post_link', 'source_name',\n",
              "       'published_at', 'telegram_file_id', 'content_url', 'caption',\n",
              "       'content_lang', 'is_available', 'likes', 'dislikes', 'created_at',\n",
              "       'updated_at', 'is_broken', 'source_id', 'content_text', 'caption_lang',\n",
              "       'language_id'],\n",
              "      dtype='object')"
            ]
          },
          "metadata": {
            "tags": []
          },
          "execution_count": 7
        }
      ]
    },
    {
      "cell_type": "code",
      "metadata": {
        "colab": {
          "base_uri": "https://localhost:8080/"
        },
        "id": "0Ta6noREaD-_",
        "outputId": "69fcf39e-de3f-43c5-deba-4e24ae10eb3c"
      },
      "source": [
        "meme.isna().sum()"
      ],
      "execution_count": 8,
      "outputs": [
        {
          "output_type": "execute_result",
          "data": {
            "text/plain": [
              "meme_id                   0\n",
              "meme_type                 0\n",
              "original_post_link     1103\n",
              "source_name               0\n",
              "published_at              0\n",
              "telegram_file_id         29\n",
              "content_url            8829\n",
              "caption               53830\n",
              "content_lang          14256\n",
              "is_available              0\n",
              "likes                     0\n",
              "dislikes                  0\n",
              "created_at                0\n",
              "updated_at                0\n",
              "is_broken                 0\n",
              "source_id              2401\n",
              "content_text          21805\n",
              "caption_lang           4855\n",
              "language_id            1770\n",
              "dtype: int64"
            ]
          },
          "metadata": {
            "tags": []
          },
          "execution_count": 8
        }
      ]
    },
    {
      "cell_type": "code",
      "metadata": {
        "id": "jpk-szZxaD8o"
      },
      "source": [
        "meme_columns_dropped = ['original_post_link', 'telegram_file_id', 'content_url', 'updated_at', 'is_broken', 'caption', 'caption_lang', 'created_at'] # столбцы в meme_df, которые не нужны для исследования\n",
        "meme.drop(meme_columns_dropped, axis = 1, inplace= True)\n"
      ],
      "execution_count": 9,
      "outputs": []
    },
    {
      "cell_type": "code",
      "metadata": {
        "colab": {
          "base_uri": "https://localhost:8080/"
        },
        "id": "_ZuSPUYId-DB",
        "outputId": "dfff6c5c-f614-48df-b407-40a4940186d2"
      },
      "source": [
        "meme.isna().sum()"
      ],
      "execution_count": 10,
      "outputs": [
        {
          "output_type": "execute_result",
          "data": {
            "text/plain": [
              "meme_id             0\n",
              "meme_type           0\n",
              "source_name         0\n",
              "published_at        0\n",
              "content_lang    14256\n",
              "is_available        0\n",
              "likes               0\n",
              "dislikes            0\n",
              "source_id        2401\n",
              "content_text    21805\n",
              "language_id      1770\n",
              "dtype: int64"
            ]
          },
          "metadata": {
            "tags": []
          },
          "execution_count": 10
        }
      ]
    },
    {
      "cell_type": "code",
      "metadata": {
        "colab": {
          "base_uri": "https://localhost:8080/"
        },
        "id": "bxEDUPhEaD09",
        "outputId": "b651901c-9226-4d32-b51a-80df4be1b615"
      },
      "source": [
        "meme.content_lang.value_counts()"
      ],
      "execution_count": 11,
      "outputs": [
        {
          "output_type": "execute_result",
          "data": {
            "text/plain": [
              "en       33503\n",
              "ru       25724\n",
              "ww        7533\n",
              "pt-PT     3543\n",
              "und       1515\n",
              "         ...  \n",
              "yi           2\n",
              "ur           2\n",
              "th           1\n",
              "bs           1\n",
              "ta           1\n",
              "Name: content_lang, Length: 93, dtype: int64"
            ]
          },
          "metadata": {
            "tags": []
          },
          "execution_count": 11
        }
      ]
    },
    {
      "cell_type": "code",
      "metadata": {
        "id": "KKNtMRL9aDyX"
      },
      "source": [
        "# преобразуем content_lang по следующей логике: для RU - 0, EN - 1, иной язык - 2\n",
        "meme.content_lang.replace({'ru':0, 'en':1}, inplace = True)\n",
        "meme.loc[(meme['content_lang'] != 0) & (meme['content_lang'] != 1), 'content_lang'] = 2"
      ],
      "execution_count": 12,
      "outputs": []
    },
    {
      "cell_type": "code",
      "metadata": {
        "colab": {
          "base_uri": "https://localhost:8080/"
        },
        "id": "k3awGuUpaDv_",
        "outputId": "1c0080bf-450e-4686-85ef-303692cdc791"
      },
      "source": [
        "meme.isna().sum()"
      ],
      "execution_count": 13,
      "outputs": [
        {
          "output_type": "execute_result",
          "data": {
            "text/plain": [
              "meme_id             0\n",
              "meme_type           0\n",
              "source_name         0\n",
              "published_at        0\n",
              "content_lang        0\n",
              "is_available        0\n",
              "likes               0\n",
              "dislikes            0\n",
              "source_id        2401\n",
              "content_text    21805\n",
              "language_id      1770\n",
              "dtype: int64"
            ]
          },
          "metadata": {
            "tags": []
          },
          "execution_count": 13
        }
      ]
    },
    {
      "cell_type": "code",
      "metadata": {
        "id": "cS3Jr0ytfIV_"
      },
      "source": [
        "# преобразуем content_text по следующей логике: если есть текст, то ставим 1, если нет - 0\n",
        "meme['content_text'].fillna(0, inplace = True)\n",
        "meme.loc[meme['content_text'] != 0, 'content_text'] = 1\n"
      ],
      "execution_count": 14,
      "outputs": []
    },
    {
      "cell_type": "code",
      "metadata": {
        "colab": {
          "base_uri": "https://localhost:8080/"
        },
        "id": "1r8EtX2IgGvT",
        "outputId": "ac7b4f25-d668-4e77-8c73-e6ad40e0d6ea"
      },
      "source": [
        "meme.language_id.value_counts()"
      ],
      "execution_count": 15,
      "outputs": [
        {
          "output_type": "execute_result",
          "data": {
            "text/plain": [
              "2.0    41728\n",
              "3.0    36841\n",
              "4.0     5151\n",
              "1.0     3173\n",
              "5.0      256\n",
              "Name: language_id, dtype: int64"
            ]
          },
          "metadata": {
            "tags": []
          },
          "execution_count": 15
        }
      ]
    },
    {
      "cell_type": "code",
      "metadata": {
        "id": "a_go4BiDg5VY"
      },
      "source": [
        "import random\n",
        "nans = meme['language_id'].isna() # пропорциональное распределение языков по nan значениям\n",
        "language_ids = meme.language_id.unique()\n",
        "language_ids = language_ids[np.isnan(language_ids) == False]\n",
        "length = sum(nans)\n",
        "replacement = random.choices(language_ids, k=length)\n",
        "meme.loc[nans,'language_id'] = replacement"
      ],
      "execution_count": 16,
      "outputs": []
    },
    {
      "cell_type": "code",
      "metadata": {
        "colab": {
          "base_uri": "https://localhost:8080/"
        },
        "id": "pQt_ZmAqhLbp",
        "outputId": "76a589e4-cde7-4925-d52b-64ab860a848f"
      },
      "source": [
        "meme.language_id.value_counts()"
      ],
      "execution_count": 17,
      "outputs": [
        {
          "output_type": "execute_result",
          "data": {
            "text/plain": [
              "2.0    42095\n",
              "3.0    37162\n",
              "4.0     5523\n",
              "1.0     3536\n",
              "5.0      603\n",
              "Name: language_id, dtype: int64"
            ]
          },
          "metadata": {
            "tags": []
          },
          "execution_count": 17
        }
      ]
    },
    {
      "cell_type": "code",
      "metadata": {
        "colab": {
          "base_uri": "https://localhost:8080/"
        },
        "id": "-v-TwZSDhR00",
        "outputId": "01bd9d96-fe4e-4bcd-be2f-a107ae82ae44"
      },
      "source": [
        "meme.isna().sum()"
      ],
      "execution_count": 18,
      "outputs": [
        {
          "output_type": "execute_result",
          "data": {
            "text/plain": [
              "meme_id            0\n",
              "meme_type          0\n",
              "source_name        0\n",
              "published_at       0\n",
              "content_lang       0\n",
              "is_available       0\n",
              "likes              0\n",
              "dislikes           0\n",
              "source_id       2401\n",
              "content_text       0\n",
              "language_id        0\n",
              "dtype: int64"
            ]
          },
          "metadata": {
            "tags": []
          },
          "execution_count": 18
        }
      ]
    },
    {
      "cell_type": "code",
      "metadata": {
        "id": "ZpC1eA_4hVdc"
      },
      "source": [
        "meme['source_id'].fillna(0, inplace = True)"
      ],
      "execution_count": 19,
      "outputs": []
    },
    {
      "cell_type": "code",
      "metadata": {
        "colab": {
          "base_uri": "https://localhost:8080/",
          "height": 202
        },
        "id": "DMzYvhxWhmJr",
        "outputId": "dc9dda06-5958-441e-8f13-f4a183ad85b3"
      },
      "source": [
        "meme.head()"
      ],
      "execution_count": 20,
      "outputs": [
        {
          "output_type": "execute_result",
          "data": {
            "text/html": [
              "<div>\n",
              "<style scoped>\n",
              "    .dataframe tbody tr th:only-of-type {\n",
              "        vertical-align: middle;\n",
              "    }\n",
              "\n",
              "    .dataframe tbody tr th {\n",
              "        vertical-align: top;\n",
              "    }\n",
              "\n",
              "    .dataframe thead th {\n",
              "        text-align: right;\n",
              "    }\n",
              "</style>\n",
              "<table border=\"1\" class=\"dataframe\">\n",
              "  <thead>\n",
              "    <tr style=\"text-align: right;\">\n",
              "      <th></th>\n",
              "      <th>meme_id</th>\n",
              "      <th>meme_type</th>\n",
              "      <th>source_name</th>\n",
              "      <th>published_at</th>\n",
              "      <th>content_lang</th>\n",
              "      <th>is_available</th>\n",
              "      <th>likes</th>\n",
              "      <th>dislikes</th>\n",
              "      <th>source_id</th>\n",
              "      <th>content_text</th>\n",
              "      <th>language_id</th>\n",
              "    </tr>\n",
              "  </thead>\n",
              "  <tbody>\n",
              "    <tr>\n",
              "      <th>0</th>\n",
              "      <td>13395</td>\n",
              "      <td>photo</td>\n",
              "      <td>https://vk.com/saintbeobanka</td>\n",
              "      <td>2020-03-28 00:22:26+00</td>\n",
              "      <td>0</td>\n",
              "      <td>True</td>\n",
              "      <td>28</td>\n",
              "      <td>38</td>\n",
              "      <td>10.0</td>\n",
              "      <td>1</td>\n",
              "      <td>2.0</td>\n",
              "    </tr>\n",
              "    <tr>\n",
              "      <th>1</th>\n",
              "      <td>13952</td>\n",
              "      <td>photo</td>\n",
              "      <td>https://www.reddit.com/r/wholesomememes/</td>\n",
              "      <td>2020-03-28 12:14:46+00</td>\n",
              "      <td>1</td>\n",
              "      <td>True</td>\n",
              "      <td>9</td>\n",
              "      <td>16</td>\n",
              "      <td>80.0</td>\n",
              "      <td>1</td>\n",
              "      <td>3.0</td>\n",
              "    </tr>\n",
              "    <tr>\n",
              "      <th>2</th>\n",
              "      <td>15593</td>\n",
              "      <td>photo</td>\n",
              "      <td>https://t.me/LaQeque</td>\n",
              "      <td>2020-03-30 09:11:04+00</td>\n",
              "      <td>0</td>\n",
              "      <td>True</td>\n",
              "      <td>41</td>\n",
              "      <td>54</td>\n",
              "      <td>19.0</td>\n",
              "      <td>1</td>\n",
              "      <td>2.0</td>\n",
              "    </tr>\n",
              "    <tr>\n",
              "      <th>3</th>\n",
              "      <td>18442</td>\n",
              "      <td>photo</td>\n",
              "      <td>https://www.reddit.com/r/dankmemes/</td>\n",
              "      <td>2020-04-01 22:53:31+00</td>\n",
              "      <td>1</td>\n",
              "      <td>True</td>\n",
              "      <td>87</td>\n",
              "      <td>48</td>\n",
              "      <td>78.0</td>\n",
              "      <td>1</td>\n",
              "      <td>3.0</td>\n",
              "    </tr>\n",
              "    <tr>\n",
              "      <th>4</th>\n",
              "      <td>20798</td>\n",
              "      <td>photo</td>\n",
              "      <td>https://vk.com/wtf.rasha</td>\n",
              "      <td>2020-04-04 11:15:01+00</td>\n",
              "      <td>0</td>\n",
              "      <td>True</td>\n",
              "      <td>234</td>\n",
              "      <td>178</td>\n",
              "      <td>9.0</td>\n",
              "      <td>1</td>\n",
              "      <td>2.0</td>\n",
              "    </tr>\n",
              "  </tbody>\n",
              "</table>\n",
              "</div>"
            ],
            "text/plain": [
              "   meme_id meme_type  ... content_text language_id\n",
              "0    13395     photo  ...            1         2.0\n",
              "1    13952     photo  ...            1         3.0\n",
              "2    15593     photo  ...            1         2.0\n",
              "3    18442     photo  ...            1         3.0\n",
              "4    20798     photo  ...            1         2.0\n",
              "\n",
              "[5 rows x 11 columns]"
            ]
          },
          "metadata": {
            "tags": []
          },
          "execution_count": 20
        }
      ]
    },
    {
      "cell_type": "code",
      "metadata": {
        "id": "78766UBGh0s1"
      },
      "source": [
        "meme = pd.get_dummies(meme, columns = ['meme_type'])"
      ],
      "execution_count": 21,
      "outputs": []
    },
    {
      "cell_type": "code",
      "metadata": {
        "colab": {
          "base_uri": "https://localhost:8080/",
          "height": 416
        },
        "id": "R7mTHdlRh58p",
        "outputId": "95f72c9d-9924-432f-adc1-ba0b298894df"
      },
      "source": [
        "meme"
      ],
      "execution_count": 22,
      "outputs": [
        {
          "output_type": "execute_result",
          "data": {
            "text/html": [
              "<div>\n",
              "<style scoped>\n",
              "    .dataframe tbody tr th:only-of-type {\n",
              "        vertical-align: middle;\n",
              "    }\n",
              "\n",
              "    .dataframe tbody tr th {\n",
              "        vertical-align: top;\n",
              "    }\n",
              "\n",
              "    .dataframe thead th {\n",
              "        text-align: right;\n",
              "    }\n",
              "</style>\n",
              "<table border=\"1\" class=\"dataframe\">\n",
              "  <thead>\n",
              "    <tr style=\"text-align: right;\">\n",
              "      <th></th>\n",
              "      <th>meme_id</th>\n",
              "      <th>source_name</th>\n",
              "      <th>published_at</th>\n",
              "      <th>content_lang</th>\n",
              "      <th>is_available</th>\n",
              "      <th>likes</th>\n",
              "      <th>dislikes</th>\n",
              "      <th>source_id</th>\n",
              "      <th>content_text</th>\n",
              "      <th>language_id</th>\n",
              "      <th>meme_type_animation</th>\n",
              "      <th>meme_type_photo</th>\n",
              "      <th>meme_type_video</th>\n",
              "    </tr>\n",
              "  </thead>\n",
              "  <tbody>\n",
              "    <tr>\n",
              "      <th>0</th>\n",
              "      <td>13395</td>\n",
              "      <td>https://vk.com/saintbeobanka</td>\n",
              "      <td>2020-03-28 00:22:26+00</td>\n",
              "      <td>0</td>\n",
              "      <td>True</td>\n",
              "      <td>28</td>\n",
              "      <td>38</td>\n",
              "      <td>10.0</td>\n",
              "      <td>1</td>\n",
              "      <td>2.0</td>\n",
              "      <td>0</td>\n",
              "      <td>1</td>\n",
              "      <td>0</td>\n",
              "    </tr>\n",
              "    <tr>\n",
              "      <th>1</th>\n",
              "      <td>13952</td>\n",
              "      <td>https://www.reddit.com/r/wholesomememes/</td>\n",
              "      <td>2020-03-28 12:14:46+00</td>\n",
              "      <td>1</td>\n",
              "      <td>True</td>\n",
              "      <td>9</td>\n",
              "      <td>16</td>\n",
              "      <td>80.0</td>\n",
              "      <td>1</td>\n",
              "      <td>3.0</td>\n",
              "      <td>0</td>\n",
              "      <td>1</td>\n",
              "      <td>0</td>\n",
              "    </tr>\n",
              "    <tr>\n",
              "      <th>2</th>\n",
              "      <td>15593</td>\n",
              "      <td>https://t.me/LaQeque</td>\n",
              "      <td>2020-03-30 09:11:04+00</td>\n",
              "      <td>0</td>\n",
              "      <td>True</td>\n",
              "      <td>41</td>\n",
              "      <td>54</td>\n",
              "      <td>19.0</td>\n",
              "      <td>1</td>\n",
              "      <td>2.0</td>\n",
              "      <td>0</td>\n",
              "      <td>1</td>\n",
              "      <td>0</td>\n",
              "    </tr>\n",
              "    <tr>\n",
              "      <th>3</th>\n",
              "      <td>18442</td>\n",
              "      <td>https://www.reddit.com/r/dankmemes/</td>\n",
              "      <td>2020-04-01 22:53:31+00</td>\n",
              "      <td>1</td>\n",
              "      <td>True</td>\n",
              "      <td>87</td>\n",
              "      <td>48</td>\n",
              "      <td>78.0</td>\n",
              "      <td>1</td>\n",
              "      <td>3.0</td>\n",
              "      <td>0</td>\n",
              "      <td>1</td>\n",
              "      <td>0</td>\n",
              "    </tr>\n",
              "    <tr>\n",
              "      <th>4</th>\n",
              "      <td>20798</td>\n",
              "      <td>https://vk.com/wtf.rasha</td>\n",
              "      <td>2020-04-04 11:15:01+00</td>\n",
              "      <td>0</td>\n",
              "      <td>True</td>\n",
              "      <td>234</td>\n",
              "      <td>178</td>\n",
              "      <td>9.0</td>\n",
              "      <td>1</td>\n",
              "      <td>2.0</td>\n",
              "      <td>0</td>\n",
              "      <td>1</td>\n",
              "      <td>0</td>\n",
              "    </tr>\n",
              "    <tr>\n",
              "      <th>...</th>\n",
              "      <td>...</td>\n",
              "      <td>...</td>\n",
              "      <td>...</td>\n",
              "      <td>...</td>\n",
              "      <td>...</td>\n",
              "      <td>...</td>\n",
              "      <td>...</td>\n",
              "      <td>...</td>\n",
              "      <td>...</td>\n",
              "      <td>...</td>\n",
              "      <td>...</td>\n",
              "      <td>...</td>\n",
              "      <td>...</td>\n",
              "    </tr>\n",
              "    <tr>\n",
              "      <th>88914</th>\n",
              "      <td>50179</td>\n",
              "      <td>https://vk.com/socialburr</td>\n",
              "      <td>2020-07-12 12:14:20+00</td>\n",
              "      <td>0</td>\n",
              "      <td>True</td>\n",
              "      <td>662</td>\n",
              "      <td>624</td>\n",
              "      <td>46.0</td>\n",
              "      <td>1</td>\n",
              "      <td>2.0</td>\n",
              "      <td>0</td>\n",
              "      <td>1</td>\n",
              "      <td>0</td>\n",
              "    </tr>\n",
              "    <tr>\n",
              "      <th>88915</th>\n",
              "      <td>61616</td>\n",
              "      <td>https://t.me/leninstreet</td>\n",
              "      <td>2020-09-30 16:00:06+00</td>\n",
              "      <td>0</td>\n",
              "      <td>True</td>\n",
              "      <td>133</td>\n",
              "      <td>150</td>\n",
              "      <td>29.0</td>\n",
              "      <td>1</td>\n",
              "      <td>2.0</td>\n",
              "      <td>0</td>\n",
              "      <td>1</td>\n",
              "      <td>0</td>\n",
              "    </tr>\n",
              "    <tr>\n",
              "      <th>88916</th>\n",
              "      <td>22283</td>\n",
              "      <td>https://vk.com/eternalclassic</td>\n",
              "      <td>2020-04-05 16:40:00+00</td>\n",
              "      <td>1</td>\n",
              "      <td>False</td>\n",
              "      <td>5</td>\n",
              "      <td>11</td>\n",
              "      <td>4.0</td>\n",
              "      <td>1</td>\n",
              "      <td>3.0</td>\n",
              "      <td>0</td>\n",
              "      <td>1</td>\n",
              "      <td>0</td>\n",
              "    </tr>\n",
              "    <tr>\n",
              "      <th>88917</th>\n",
              "      <td>80056</td>\n",
              "      <td>https://t.me/low_content</td>\n",
              "      <td>2020-12-31 05:03:01+00</td>\n",
              "      <td>2</td>\n",
              "      <td>True</td>\n",
              "      <td>35</td>\n",
              "      <td>54</td>\n",
              "      <td>147.0</td>\n",
              "      <td>0</td>\n",
              "      <td>2.0</td>\n",
              "      <td>0</td>\n",
              "      <td>1</td>\n",
              "      <td>0</td>\n",
              "    </tr>\n",
              "    <tr>\n",
              "      <th>88918</th>\n",
              "      <td>36686</td>\n",
              "      <td>https://vk.com/eternalclassic</td>\n",
              "      <td>2020-05-05 17:40:00+00</td>\n",
              "      <td>1</td>\n",
              "      <td>False</td>\n",
              "      <td>6</td>\n",
              "      <td>11</td>\n",
              "      <td>4.0</td>\n",
              "      <td>1</td>\n",
              "      <td>3.0</td>\n",
              "      <td>0</td>\n",
              "      <td>1</td>\n",
              "      <td>0</td>\n",
              "    </tr>\n",
              "  </tbody>\n",
              "</table>\n",
              "<p>88919 rows × 13 columns</p>\n",
              "</div>"
            ],
            "text/plain": [
              "       meme_id  ... meme_type_video\n",
              "0        13395  ...               0\n",
              "1        13952  ...               0\n",
              "2        15593  ...               0\n",
              "3        18442  ...               0\n",
              "4        20798  ...               0\n",
              "...        ...  ...             ...\n",
              "88914    50179  ...               0\n",
              "88915    61616  ...               0\n",
              "88916    22283  ...               0\n",
              "88917    80056  ...               0\n",
              "88918    36686  ...               0\n",
              "\n",
              "[88919 rows x 13 columns]"
            ]
          },
          "metadata": {
            "tags": []
          },
          "execution_count": 22
        }
      ]
    },
    {
      "cell_type": "code",
      "metadata": {
        "colab": {
          "base_uri": "https://localhost:8080/"
        },
        "id": "kQYx3PFRipmz",
        "outputId": "0cbfb239-cab5-42d3-8d62-d6d7299beae5"
      },
      "source": [
        "meme.source_name.str[8:13].value_counts()"
      ],
      "execution_count": 23,
      "outputs": [
        {
          "output_type": "execute_result",
          "data": {
            "text/plain": [
              "t.me/    30063\n",
              "vk.co    28664\n",
              "www.r    20609\n",
              "insta     9325\n",
              "            89\n",
              "         ...  \n",
              "ov           1\n",
              "le_D         1\n",
              "aRavi        1\n",
              "Р И Щ        1\n",
              "hacat        1\n",
              "Name: source_name, Length: 77, dtype: int64"
            ]
          },
          "metadata": {
            "tags": []
          },
          "execution_count": 23
        }
      ]
    },
    {
      "cell_type": "code",
      "metadata": {
        "colab": {
          "base_uri": "https://localhost:8080/",
          "height": 416
        },
        "id": "VSA_a6hQigi7",
        "outputId": "2c8313f3-5c53-4e54-8a14-70a6a367acc7"
      },
      "source": [
        "# преобразование source_name. vk - 0, telegram - 1, reddit - 2, inst - 3, иной источник - 4.\n",
        "meme['source_grouped'] = meme.source_name.str[8:13]\n",
        "meme.source_grouped.replace({'vk.co':0, 't.me/':1, 'www.r':2, 'insta':3}, inplace = True)\n",
        "meme.loc[(meme['source_grouped'] != 0) & (meme['source_grouped'] != 1) & (meme['source_grouped'] != 2) & (meme['source_grouped'] != 3), 'source_grouped'] = 4\n",
        "meme.drop('source_name', axis = 1, inplace = True)\n",
        "meme"
      ],
      "execution_count": 24,
      "outputs": [
        {
          "output_type": "execute_result",
          "data": {
            "text/html": [
              "<div>\n",
              "<style scoped>\n",
              "    .dataframe tbody tr th:only-of-type {\n",
              "        vertical-align: middle;\n",
              "    }\n",
              "\n",
              "    .dataframe tbody tr th {\n",
              "        vertical-align: top;\n",
              "    }\n",
              "\n",
              "    .dataframe thead th {\n",
              "        text-align: right;\n",
              "    }\n",
              "</style>\n",
              "<table border=\"1\" class=\"dataframe\">\n",
              "  <thead>\n",
              "    <tr style=\"text-align: right;\">\n",
              "      <th></th>\n",
              "      <th>meme_id</th>\n",
              "      <th>published_at</th>\n",
              "      <th>content_lang</th>\n",
              "      <th>is_available</th>\n",
              "      <th>likes</th>\n",
              "      <th>dislikes</th>\n",
              "      <th>source_id</th>\n",
              "      <th>content_text</th>\n",
              "      <th>language_id</th>\n",
              "      <th>meme_type_animation</th>\n",
              "      <th>meme_type_photo</th>\n",
              "      <th>meme_type_video</th>\n",
              "      <th>source_grouped</th>\n",
              "    </tr>\n",
              "  </thead>\n",
              "  <tbody>\n",
              "    <tr>\n",
              "      <th>0</th>\n",
              "      <td>13395</td>\n",
              "      <td>2020-03-28 00:22:26+00</td>\n",
              "      <td>0</td>\n",
              "      <td>True</td>\n",
              "      <td>28</td>\n",
              "      <td>38</td>\n",
              "      <td>10.0</td>\n",
              "      <td>1</td>\n",
              "      <td>2.0</td>\n",
              "      <td>0</td>\n",
              "      <td>1</td>\n",
              "      <td>0</td>\n",
              "      <td>0</td>\n",
              "    </tr>\n",
              "    <tr>\n",
              "      <th>1</th>\n",
              "      <td>13952</td>\n",
              "      <td>2020-03-28 12:14:46+00</td>\n",
              "      <td>1</td>\n",
              "      <td>True</td>\n",
              "      <td>9</td>\n",
              "      <td>16</td>\n",
              "      <td>80.0</td>\n",
              "      <td>1</td>\n",
              "      <td>3.0</td>\n",
              "      <td>0</td>\n",
              "      <td>1</td>\n",
              "      <td>0</td>\n",
              "      <td>2</td>\n",
              "    </tr>\n",
              "    <tr>\n",
              "      <th>2</th>\n",
              "      <td>15593</td>\n",
              "      <td>2020-03-30 09:11:04+00</td>\n",
              "      <td>0</td>\n",
              "      <td>True</td>\n",
              "      <td>41</td>\n",
              "      <td>54</td>\n",
              "      <td>19.0</td>\n",
              "      <td>1</td>\n",
              "      <td>2.0</td>\n",
              "      <td>0</td>\n",
              "      <td>1</td>\n",
              "      <td>0</td>\n",
              "      <td>1</td>\n",
              "    </tr>\n",
              "    <tr>\n",
              "      <th>3</th>\n",
              "      <td>18442</td>\n",
              "      <td>2020-04-01 22:53:31+00</td>\n",
              "      <td>1</td>\n",
              "      <td>True</td>\n",
              "      <td>87</td>\n",
              "      <td>48</td>\n",
              "      <td>78.0</td>\n",
              "      <td>1</td>\n",
              "      <td>3.0</td>\n",
              "      <td>0</td>\n",
              "      <td>1</td>\n",
              "      <td>0</td>\n",
              "      <td>2</td>\n",
              "    </tr>\n",
              "    <tr>\n",
              "      <th>4</th>\n",
              "      <td>20798</td>\n",
              "      <td>2020-04-04 11:15:01+00</td>\n",
              "      <td>0</td>\n",
              "      <td>True</td>\n",
              "      <td>234</td>\n",
              "      <td>178</td>\n",
              "      <td>9.0</td>\n",
              "      <td>1</td>\n",
              "      <td>2.0</td>\n",
              "      <td>0</td>\n",
              "      <td>1</td>\n",
              "      <td>0</td>\n",
              "      <td>0</td>\n",
              "    </tr>\n",
              "    <tr>\n",
              "      <th>...</th>\n",
              "      <td>...</td>\n",
              "      <td>...</td>\n",
              "      <td>...</td>\n",
              "      <td>...</td>\n",
              "      <td>...</td>\n",
              "      <td>...</td>\n",
              "      <td>...</td>\n",
              "      <td>...</td>\n",
              "      <td>...</td>\n",
              "      <td>...</td>\n",
              "      <td>...</td>\n",
              "      <td>...</td>\n",
              "      <td>...</td>\n",
              "    </tr>\n",
              "    <tr>\n",
              "      <th>88914</th>\n",
              "      <td>50179</td>\n",
              "      <td>2020-07-12 12:14:20+00</td>\n",
              "      <td>0</td>\n",
              "      <td>True</td>\n",
              "      <td>662</td>\n",
              "      <td>624</td>\n",
              "      <td>46.0</td>\n",
              "      <td>1</td>\n",
              "      <td>2.0</td>\n",
              "      <td>0</td>\n",
              "      <td>1</td>\n",
              "      <td>0</td>\n",
              "      <td>0</td>\n",
              "    </tr>\n",
              "    <tr>\n",
              "      <th>88915</th>\n",
              "      <td>61616</td>\n",
              "      <td>2020-09-30 16:00:06+00</td>\n",
              "      <td>0</td>\n",
              "      <td>True</td>\n",
              "      <td>133</td>\n",
              "      <td>150</td>\n",
              "      <td>29.0</td>\n",
              "      <td>1</td>\n",
              "      <td>2.0</td>\n",
              "      <td>0</td>\n",
              "      <td>1</td>\n",
              "      <td>0</td>\n",
              "      <td>1</td>\n",
              "    </tr>\n",
              "    <tr>\n",
              "      <th>88916</th>\n",
              "      <td>22283</td>\n",
              "      <td>2020-04-05 16:40:00+00</td>\n",
              "      <td>1</td>\n",
              "      <td>False</td>\n",
              "      <td>5</td>\n",
              "      <td>11</td>\n",
              "      <td>4.0</td>\n",
              "      <td>1</td>\n",
              "      <td>3.0</td>\n",
              "      <td>0</td>\n",
              "      <td>1</td>\n",
              "      <td>0</td>\n",
              "      <td>0</td>\n",
              "    </tr>\n",
              "    <tr>\n",
              "      <th>88917</th>\n",
              "      <td>80056</td>\n",
              "      <td>2020-12-31 05:03:01+00</td>\n",
              "      <td>2</td>\n",
              "      <td>True</td>\n",
              "      <td>35</td>\n",
              "      <td>54</td>\n",
              "      <td>147.0</td>\n",
              "      <td>0</td>\n",
              "      <td>2.0</td>\n",
              "      <td>0</td>\n",
              "      <td>1</td>\n",
              "      <td>0</td>\n",
              "      <td>1</td>\n",
              "    </tr>\n",
              "    <tr>\n",
              "      <th>88918</th>\n",
              "      <td>36686</td>\n",
              "      <td>2020-05-05 17:40:00+00</td>\n",
              "      <td>1</td>\n",
              "      <td>False</td>\n",
              "      <td>6</td>\n",
              "      <td>11</td>\n",
              "      <td>4.0</td>\n",
              "      <td>1</td>\n",
              "      <td>3.0</td>\n",
              "      <td>0</td>\n",
              "      <td>1</td>\n",
              "      <td>0</td>\n",
              "      <td>0</td>\n",
              "    </tr>\n",
              "  </tbody>\n",
              "</table>\n",
              "<p>88919 rows × 13 columns</p>\n",
              "</div>"
            ],
            "text/plain": [
              "       meme_id            published_at  ... meme_type_video  source_grouped\n",
              "0        13395  2020-03-28 00:22:26+00  ...               0               0\n",
              "1        13952  2020-03-28 12:14:46+00  ...               0               2\n",
              "2        15593  2020-03-30 09:11:04+00  ...               0               1\n",
              "3        18442  2020-04-01 22:53:31+00  ...               0               2\n",
              "4        20798  2020-04-04 11:15:01+00  ...               0               0\n",
              "...        ...                     ...  ...             ...             ...\n",
              "88914    50179  2020-07-12 12:14:20+00  ...               0               0\n",
              "88915    61616  2020-09-30 16:00:06+00  ...               0               1\n",
              "88916    22283  2020-04-05 16:40:00+00  ...               0               0\n",
              "88917    80056  2020-12-31 05:03:01+00  ...               0               1\n",
              "88918    36686  2020-05-05 17:40:00+00  ...               0               0\n",
              "\n",
              "[88919 rows x 13 columns]"
            ]
          },
          "metadata": {
            "tags": []
          },
          "execution_count": 24
        }
      ]
    },
    {
      "cell_type": "code",
      "metadata": {
        "colab": {
          "base_uri": "https://localhost:8080/",
          "height": 416
        },
        "id": "Z3MEdg0_i699",
        "outputId": "1c80a6f6-12d6-4189-f134-94dfe7d66cf6"
      },
      "source": [
        "meme['is_available'] = meme['is_available'].astype(int)\n",
        "meme"
      ],
      "execution_count": 25,
      "outputs": [
        {
          "output_type": "execute_result",
          "data": {
            "text/html": [
              "<div>\n",
              "<style scoped>\n",
              "    .dataframe tbody tr th:only-of-type {\n",
              "        vertical-align: middle;\n",
              "    }\n",
              "\n",
              "    .dataframe tbody tr th {\n",
              "        vertical-align: top;\n",
              "    }\n",
              "\n",
              "    .dataframe thead th {\n",
              "        text-align: right;\n",
              "    }\n",
              "</style>\n",
              "<table border=\"1\" class=\"dataframe\">\n",
              "  <thead>\n",
              "    <tr style=\"text-align: right;\">\n",
              "      <th></th>\n",
              "      <th>meme_id</th>\n",
              "      <th>published_at</th>\n",
              "      <th>content_lang</th>\n",
              "      <th>is_available</th>\n",
              "      <th>likes</th>\n",
              "      <th>dislikes</th>\n",
              "      <th>source_id</th>\n",
              "      <th>content_text</th>\n",
              "      <th>language_id</th>\n",
              "      <th>meme_type_animation</th>\n",
              "      <th>meme_type_photo</th>\n",
              "      <th>meme_type_video</th>\n",
              "      <th>source_grouped</th>\n",
              "    </tr>\n",
              "  </thead>\n",
              "  <tbody>\n",
              "    <tr>\n",
              "      <th>0</th>\n",
              "      <td>13395</td>\n",
              "      <td>2020-03-28 00:22:26+00</td>\n",
              "      <td>0</td>\n",
              "      <td>1</td>\n",
              "      <td>28</td>\n",
              "      <td>38</td>\n",
              "      <td>10.0</td>\n",
              "      <td>1</td>\n",
              "      <td>2.0</td>\n",
              "      <td>0</td>\n",
              "      <td>1</td>\n",
              "      <td>0</td>\n",
              "      <td>0</td>\n",
              "    </tr>\n",
              "    <tr>\n",
              "      <th>1</th>\n",
              "      <td>13952</td>\n",
              "      <td>2020-03-28 12:14:46+00</td>\n",
              "      <td>1</td>\n",
              "      <td>1</td>\n",
              "      <td>9</td>\n",
              "      <td>16</td>\n",
              "      <td>80.0</td>\n",
              "      <td>1</td>\n",
              "      <td>3.0</td>\n",
              "      <td>0</td>\n",
              "      <td>1</td>\n",
              "      <td>0</td>\n",
              "      <td>2</td>\n",
              "    </tr>\n",
              "    <tr>\n",
              "      <th>2</th>\n",
              "      <td>15593</td>\n",
              "      <td>2020-03-30 09:11:04+00</td>\n",
              "      <td>0</td>\n",
              "      <td>1</td>\n",
              "      <td>41</td>\n",
              "      <td>54</td>\n",
              "      <td>19.0</td>\n",
              "      <td>1</td>\n",
              "      <td>2.0</td>\n",
              "      <td>0</td>\n",
              "      <td>1</td>\n",
              "      <td>0</td>\n",
              "      <td>1</td>\n",
              "    </tr>\n",
              "    <tr>\n",
              "      <th>3</th>\n",
              "      <td>18442</td>\n",
              "      <td>2020-04-01 22:53:31+00</td>\n",
              "      <td>1</td>\n",
              "      <td>1</td>\n",
              "      <td>87</td>\n",
              "      <td>48</td>\n",
              "      <td>78.0</td>\n",
              "      <td>1</td>\n",
              "      <td>3.0</td>\n",
              "      <td>0</td>\n",
              "      <td>1</td>\n",
              "      <td>0</td>\n",
              "      <td>2</td>\n",
              "    </tr>\n",
              "    <tr>\n",
              "      <th>4</th>\n",
              "      <td>20798</td>\n",
              "      <td>2020-04-04 11:15:01+00</td>\n",
              "      <td>0</td>\n",
              "      <td>1</td>\n",
              "      <td>234</td>\n",
              "      <td>178</td>\n",
              "      <td>9.0</td>\n",
              "      <td>1</td>\n",
              "      <td>2.0</td>\n",
              "      <td>0</td>\n",
              "      <td>1</td>\n",
              "      <td>0</td>\n",
              "      <td>0</td>\n",
              "    </tr>\n",
              "    <tr>\n",
              "      <th>...</th>\n",
              "      <td>...</td>\n",
              "      <td>...</td>\n",
              "      <td>...</td>\n",
              "      <td>...</td>\n",
              "      <td>...</td>\n",
              "      <td>...</td>\n",
              "      <td>...</td>\n",
              "      <td>...</td>\n",
              "      <td>...</td>\n",
              "      <td>...</td>\n",
              "      <td>...</td>\n",
              "      <td>...</td>\n",
              "      <td>...</td>\n",
              "    </tr>\n",
              "    <tr>\n",
              "      <th>88914</th>\n",
              "      <td>50179</td>\n",
              "      <td>2020-07-12 12:14:20+00</td>\n",
              "      <td>0</td>\n",
              "      <td>1</td>\n",
              "      <td>662</td>\n",
              "      <td>624</td>\n",
              "      <td>46.0</td>\n",
              "      <td>1</td>\n",
              "      <td>2.0</td>\n",
              "      <td>0</td>\n",
              "      <td>1</td>\n",
              "      <td>0</td>\n",
              "      <td>0</td>\n",
              "    </tr>\n",
              "    <tr>\n",
              "      <th>88915</th>\n",
              "      <td>61616</td>\n",
              "      <td>2020-09-30 16:00:06+00</td>\n",
              "      <td>0</td>\n",
              "      <td>1</td>\n",
              "      <td>133</td>\n",
              "      <td>150</td>\n",
              "      <td>29.0</td>\n",
              "      <td>1</td>\n",
              "      <td>2.0</td>\n",
              "      <td>0</td>\n",
              "      <td>1</td>\n",
              "      <td>0</td>\n",
              "      <td>1</td>\n",
              "    </tr>\n",
              "    <tr>\n",
              "      <th>88916</th>\n",
              "      <td>22283</td>\n",
              "      <td>2020-04-05 16:40:00+00</td>\n",
              "      <td>1</td>\n",
              "      <td>0</td>\n",
              "      <td>5</td>\n",
              "      <td>11</td>\n",
              "      <td>4.0</td>\n",
              "      <td>1</td>\n",
              "      <td>3.0</td>\n",
              "      <td>0</td>\n",
              "      <td>1</td>\n",
              "      <td>0</td>\n",
              "      <td>0</td>\n",
              "    </tr>\n",
              "    <tr>\n",
              "      <th>88917</th>\n",
              "      <td>80056</td>\n",
              "      <td>2020-12-31 05:03:01+00</td>\n",
              "      <td>2</td>\n",
              "      <td>1</td>\n",
              "      <td>35</td>\n",
              "      <td>54</td>\n",
              "      <td>147.0</td>\n",
              "      <td>0</td>\n",
              "      <td>2.0</td>\n",
              "      <td>0</td>\n",
              "      <td>1</td>\n",
              "      <td>0</td>\n",
              "      <td>1</td>\n",
              "    </tr>\n",
              "    <tr>\n",
              "      <th>88918</th>\n",
              "      <td>36686</td>\n",
              "      <td>2020-05-05 17:40:00+00</td>\n",
              "      <td>1</td>\n",
              "      <td>0</td>\n",
              "      <td>6</td>\n",
              "      <td>11</td>\n",
              "      <td>4.0</td>\n",
              "      <td>1</td>\n",
              "      <td>3.0</td>\n",
              "      <td>0</td>\n",
              "      <td>1</td>\n",
              "      <td>0</td>\n",
              "      <td>0</td>\n",
              "    </tr>\n",
              "  </tbody>\n",
              "</table>\n",
              "<p>88919 rows × 13 columns</p>\n",
              "</div>"
            ],
            "text/plain": [
              "       meme_id            published_at  ... meme_type_video  source_grouped\n",
              "0        13395  2020-03-28 00:22:26+00  ...               0               0\n",
              "1        13952  2020-03-28 12:14:46+00  ...               0               2\n",
              "2        15593  2020-03-30 09:11:04+00  ...               0               1\n",
              "3        18442  2020-04-01 22:53:31+00  ...               0               2\n",
              "4        20798  2020-04-04 11:15:01+00  ...               0               0\n",
              "...        ...                     ...  ...             ...             ...\n",
              "88914    50179  2020-07-12 12:14:20+00  ...               0               0\n",
              "88915    61616  2020-09-30 16:00:06+00  ...               0               1\n",
              "88916    22283  2020-04-05 16:40:00+00  ...               0               0\n",
              "88917    80056  2020-12-31 05:03:01+00  ...               0               1\n",
              "88918    36686  2020-05-05 17:40:00+00  ...               0               0\n",
              "\n",
              "[88919 rows x 13 columns]"
            ]
          },
          "metadata": {
            "tags": []
          },
          "execution_count": 25
        }
      ]
    },
    {
      "cell_type": "code",
      "metadata": {
        "colab": {
          "base_uri": "https://localhost:8080/"
        },
        "id": "wwZRU2L6om48",
        "outputId": "b5cdc5f7-2f71-489a-cdb4-88a56152d3b7"
      },
      "source": [
        "meme['published_at'] = meme['published_at'].str[0:4].astype(int) # Вытащим из даты только год\n",
        "meme['published_at'].value_counts()"
      ],
      "execution_count": 26,
      "outputs": [
        {
          "output_type": "execute_result",
          "data": {
            "text/plain": [
              "2020    76791\n",
              "2021    12064\n",
              "2019       51\n",
              "2018        7\n",
              "2017        4\n",
              "2016        1\n",
              "2014        1\n",
              "Name: published_at, dtype: int64"
            ]
          },
          "metadata": {
            "tags": []
          },
          "execution_count": 26
        }
      ]
    },
    {
      "cell_type": "code",
      "metadata": {
        "id": "D9k2PFGgw9hD"
      },
      "source": [
        "#преобразуем published_at по логике: если мем опубликован в 2021 году - 1, в ином случае - 0\n",
        "meme.published_at.replace({2021:1}, inplace = True)\n",
        "meme.loc[meme['published_at'] != 1, 'published_at'] = 0\n",
        "meme['published_at'].value_counts()\n",
        "meme.rename(columns = {'published_at' : 'published_at2021'}, inplace = True)"
      ],
      "execution_count": 27,
      "outputs": []
    },
    {
      "cell_type": "code",
      "metadata": {
        "id": "GnlNPaxrz-c7"
      },
      "source": [
        "meme.set_index('meme_id', inplace = True)"
      ],
      "execution_count": 28,
      "outputs": []
    },
    {
      "cell_type": "code",
      "metadata": {
        "colab": {
          "base_uri": "https://localhost:8080/",
          "height": 233
        },
        "id": "R5EXXQtm9dyB",
        "outputId": "ded42576-0a5e-4205-f129-62f5692eee58"
      },
      "source": [
        "meme.head()"
      ],
      "execution_count": 29,
      "outputs": [
        {
          "output_type": "execute_result",
          "data": {
            "text/html": [
              "<div>\n",
              "<style scoped>\n",
              "    .dataframe tbody tr th:only-of-type {\n",
              "        vertical-align: middle;\n",
              "    }\n",
              "\n",
              "    .dataframe tbody tr th {\n",
              "        vertical-align: top;\n",
              "    }\n",
              "\n",
              "    .dataframe thead th {\n",
              "        text-align: right;\n",
              "    }\n",
              "</style>\n",
              "<table border=\"1\" class=\"dataframe\">\n",
              "  <thead>\n",
              "    <tr style=\"text-align: right;\">\n",
              "      <th></th>\n",
              "      <th>published_at2021</th>\n",
              "      <th>content_lang</th>\n",
              "      <th>is_available</th>\n",
              "      <th>likes</th>\n",
              "      <th>dislikes</th>\n",
              "      <th>source_id</th>\n",
              "      <th>content_text</th>\n",
              "      <th>language_id</th>\n",
              "      <th>meme_type_animation</th>\n",
              "      <th>meme_type_photo</th>\n",
              "      <th>meme_type_video</th>\n",
              "      <th>source_grouped</th>\n",
              "    </tr>\n",
              "    <tr>\n",
              "      <th>meme_id</th>\n",
              "      <th></th>\n",
              "      <th></th>\n",
              "      <th></th>\n",
              "      <th></th>\n",
              "      <th></th>\n",
              "      <th></th>\n",
              "      <th></th>\n",
              "      <th></th>\n",
              "      <th></th>\n",
              "      <th></th>\n",
              "      <th></th>\n",
              "      <th></th>\n",
              "    </tr>\n",
              "  </thead>\n",
              "  <tbody>\n",
              "    <tr>\n",
              "      <th>13395</th>\n",
              "      <td>0</td>\n",
              "      <td>0</td>\n",
              "      <td>1</td>\n",
              "      <td>28</td>\n",
              "      <td>38</td>\n",
              "      <td>10.0</td>\n",
              "      <td>1</td>\n",
              "      <td>2.0</td>\n",
              "      <td>0</td>\n",
              "      <td>1</td>\n",
              "      <td>0</td>\n",
              "      <td>0</td>\n",
              "    </tr>\n",
              "    <tr>\n",
              "      <th>13952</th>\n",
              "      <td>0</td>\n",
              "      <td>1</td>\n",
              "      <td>1</td>\n",
              "      <td>9</td>\n",
              "      <td>16</td>\n",
              "      <td>80.0</td>\n",
              "      <td>1</td>\n",
              "      <td>3.0</td>\n",
              "      <td>0</td>\n",
              "      <td>1</td>\n",
              "      <td>0</td>\n",
              "      <td>2</td>\n",
              "    </tr>\n",
              "    <tr>\n",
              "      <th>15593</th>\n",
              "      <td>0</td>\n",
              "      <td>0</td>\n",
              "      <td>1</td>\n",
              "      <td>41</td>\n",
              "      <td>54</td>\n",
              "      <td>19.0</td>\n",
              "      <td>1</td>\n",
              "      <td>2.0</td>\n",
              "      <td>0</td>\n",
              "      <td>1</td>\n",
              "      <td>0</td>\n",
              "      <td>1</td>\n",
              "    </tr>\n",
              "    <tr>\n",
              "      <th>18442</th>\n",
              "      <td>0</td>\n",
              "      <td>1</td>\n",
              "      <td>1</td>\n",
              "      <td>87</td>\n",
              "      <td>48</td>\n",
              "      <td>78.0</td>\n",
              "      <td>1</td>\n",
              "      <td>3.0</td>\n",
              "      <td>0</td>\n",
              "      <td>1</td>\n",
              "      <td>0</td>\n",
              "      <td>2</td>\n",
              "    </tr>\n",
              "    <tr>\n",
              "      <th>20798</th>\n",
              "      <td>0</td>\n",
              "      <td>0</td>\n",
              "      <td>1</td>\n",
              "      <td>234</td>\n",
              "      <td>178</td>\n",
              "      <td>9.0</td>\n",
              "      <td>1</td>\n",
              "      <td>2.0</td>\n",
              "      <td>0</td>\n",
              "      <td>1</td>\n",
              "      <td>0</td>\n",
              "      <td>0</td>\n",
              "    </tr>\n",
              "  </tbody>\n",
              "</table>\n",
              "</div>"
            ],
            "text/plain": [
              "         published_at2021 content_lang  ...  meme_type_video  source_grouped\n",
              "meme_id                                 ...                                 \n",
              "13395                   0            0  ...                0               0\n",
              "13952                   0            1  ...                0               2\n",
              "15593                   0            0  ...                0               1\n",
              "18442                   0            1  ...                0               2\n",
              "20798                   0            0  ...                0               0\n",
              "\n",
              "[5 rows x 12 columns]"
            ]
          },
          "metadata": {
            "tags": []
          },
          "execution_count": 29
        }
      ]
    },
    {
      "cell_type": "markdown",
      "metadata": {
        "id": "3bJrydfG9C3M"
      },
      "source": [
        "### Обработка user_df"
      ]
    },
    {
      "cell_type": "code",
      "metadata": {
        "colab": {
          "base_uri": "https://localhost:8080/",
          "height": 289
        },
        "id": "Kl5-dUTU9O7s",
        "outputId": "bf161698-6c53-4250-a52f-04e3ff7fd7cc"
      },
      "source": [
        "user.head()"
      ],
      "execution_count": 31,
      "outputs": [
        {
          "output_type": "execute_result",
          "data": {
            "text/html": [
              "<div>\n",
              "<style scoped>\n",
              "    .dataframe tbody tr th:only-of-type {\n",
              "        vertical-align: middle;\n",
              "    }\n",
              "\n",
              "    .dataframe tbody tr th {\n",
              "        vertical-align: top;\n",
              "    }\n",
              "\n",
              "    .dataframe thead th {\n",
              "        text-align: right;\n",
              "    }\n",
              "</style>\n",
              "<table border=\"1\" class=\"dataframe\">\n",
              "  <thead>\n",
              "    <tr style=\"text-align: right;\">\n",
              "      <th></th>\n",
              "      <th>user_id</th>\n",
              "      <th>username</th>\n",
              "      <th>first_name</th>\n",
              "      <th>last_name</th>\n",
              "      <th>language_code</th>\n",
              "      <th>seed</th>\n",
              "      <th>deep_link</th>\n",
              "      <th>is_blocked_bot</th>\n",
              "      <th>is_banned</th>\n",
              "      <th>is_admin</th>\n",
              "      <th>is_moderator</th>\n",
              "      <th>sessions</th>\n",
              "      <th>last_session_memes</th>\n",
              "      <th>watched_memes</th>\n",
              "      <th>created_at</th>\n",
              "      <th>updated_at</th>\n",
              "      <th>interface_lang</th>\n",
              "      <th>gender</th>\n",
              "      <th>latest_meme_sent_at</th>\n",
              "    </tr>\n",
              "  </thead>\n",
              "  <tbody>\n",
              "    <tr>\n",
              "      <th>0</th>\n",
              "      <td>1235209430</td>\n",
              "      <td>NaN</td>\n",
              "      <td>Paras</td>\n",
              "      <td>Kamboj</td>\n",
              "      <td>NaN</td>\n",
              "      <td>6</td>\n",
              "      <td>likemeupbot_lang_en</td>\n",
              "      <td>True</td>\n",
              "      <td>False</td>\n",
              "      <td>False</td>\n",
              "      <td>0</td>\n",
              "      <td>3</td>\n",
              "      <td>4</td>\n",
              "      <td>8</td>\n",
              "      <td>2020-10-27 07:33:12.040495+00</td>\n",
              "      <td>2021-02-10 00:29:57.669801+00</td>\n",
              "      <td>en</td>\n",
              "      <td>NaN</td>\n",
              "      <td>NaN</td>\n",
              "    </tr>\n",
              "    <tr>\n",
              "      <th>1</th>\n",
              "      <td>113584040</td>\n",
              "      <td>nikrnrr</td>\n",
              "      <td>N</td>\n",
              "      <td>NaN</td>\n",
              "      <td>ru</td>\n",
              "      <td>26</td>\n",
              "      <td>NaN</td>\n",
              "      <td>True</td>\n",
              "      <td>False</td>\n",
              "      <td>False</td>\n",
              "      <td>0</td>\n",
              "      <td>1</td>\n",
              "      <td>1</td>\n",
              "      <td>0</td>\n",
              "      <td>2020-10-28 12:05:37.473558+00</td>\n",
              "      <td>2021-02-10 01:29:57.505289+00</td>\n",
              "      <td>ru</td>\n",
              "      <td>N</td>\n",
              "      <td>NaN</td>\n",
              "    </tr>\n",
              "    <tr>\n",
              "      <th>2</th>\n",
              "      <td>1142713343</td>\n",
              "      <td>NaN</td>\n",
              "      <td>Serik</td>\n",
              "      <td>NaN</td>\n",
              "      <td>NaN</td>\n",
              "      <td>32</td>\n",
              "      <td>NaN</td>\n",
              "      <td>True</td>\n",
              "      <td>False</td>\n",
              "      <td>False</td>\n",
              "      <td>0</td>\n",
              "      <td>1</td>\n",
              "      <td>1</td>\n",
              "      <td>0</td>\n",
              "      <td>2020-10-27 17:31:30.480084+00</td>\n",
              "      <td>2021-02-10 01:29:55.555919+00</td>\n",
              "      <td>en</td>\n",
              "      <td>NaN</td>\n",
              "      <td>NaN</td>\n",
              "    </tr>\n",
              "    <tr>\n",
              "      <th>3</th>\n",
              "      <td>187967374</td>\n",
              "      <td>Ddivanov</td>\n",
              "      <td>Dmitry</td>\n",
              "      <td>Ivanov</td>\n",
              "      <td>ru</td>\n",
              "      <td>13</td>\n",
              "      <td>NaN</td>\n",
              "      <td>True</td>\n",
              "      <td>False</td>\n",
              "      <td>False</td>\n",
              "      <td>0</td>\n",
              "      <td>2</td>\n",
              "      <td>5</td>\n",
              "      <td>9</td>\n",
              "      <td>2020-10-26 13:12:52.373779+00</td>\n",
              "      <td>2021-02-09 23:29:56.086916+00</td>\n",
              "      <td>ru</td>\n",
              "      <td>M</td>\n",
              "      <td>NaN</td>\n",
              "    </tr>\n",
              "    <tr>\n",
              "      <th>4</th>\n",
              "      <td>923016092</td>\n",
              "      <td>NaN</td>\n",
              "      <td>Joanna</td>\n",
              "      <td>NaN</td>\n",
              "      <td>es</td>\n",
              "      <td>99</td>\n",
              "      <td>NaN</td>\n",
              "      <td>False</td>\n",
              "      <td>False</td>\n",
              "      <td>False</td>\n",
              "      <td>0</td>\n",
              "      <td>39</td>\n",
              "      <td>1</td>\n",
              "      <td>35</td>\n",
              "      <td>2020-10-27 19:11:33.959974+00</td>\n",
              "      <td>2021-02-09 17:56:04.574689+00</td>\n",
              "      <td>en</td>\n",
              "      <td>NaN</td>\n",
              "      <td>2021-02-09 17:56:04.574558+00</td>\n",
              "    </tr>\n",
              "  </tbody>\n",
              "</table>\n",
              "</div>"
            ],
            "text/plain": [
              "      user_id  username  ... gender            latest_meme_sent_at\n",
              "0  1235209430       NaN  ...    NaN                            NaN\n",
              "1   113584040   nikrnrr  ...      N                            NaN\n",
              "2  1142713343       NaN  ...    NaN                            NaN\n",
              "3   187967374  Ddivanov  ...      M                            NaN\n",
              "4   923016092       NaN  ...    NaN  2021-02-09 17:56:04.574558+00\n",
              "\n",
              "[5 rows x 19 columns]"
            ]
          },
          "metadata": {
            "tags": []
          },
          "execution_count": 31
        }
      ]
    },
    {
      "cell_type": "code",
      "metadata": {
        "colab": {
          "base_uri": "https://localhost:8080/"
        },
        "id": "-nXPDluI9POt",
        "outputId": "19a5ad6e-ae43-444e-c7cd-913ff76bd128"
      },
      "source": [
        "user.isna().sum()"
      ],
      "execution_count": 33,
      "outputs": [
        {
          "output_type": "execute_result",
          "data": {
            "text/plain": [
              "user_id                    0\n",
              "username                7785\n",
              "first_name                 2\n",
              "last_name              13458\n",
              "language_code           6897\n",
              "seed                       0\n",
              "deep_link               8534\n",
              "is_blocked_bot             0\n",
              "is_banned                  0\n",
              "is_admin                   0\n",
              "is_moderator               0\n",
              "sessions                   0\n",
              "last_session_memes         0\n",
              "watched_memes              0\n",
              "created_at                 0\n",
              "updated_at                 0\n",
              "interface_lang           155\n",
              "gender                 21968\n",
              "latest_meme_sent_at    11958\n",
              "dtype: int64"
            ]
          },
          "metadata": {
            "tags": []
          },
          "execution_count": 33
        }
      ]
    },
    {
      "cell_type": "code",
      "metadata": {
        "id": "hxKeZBfL9PML"
      },
      "source": [
        "#!pip install gender_guesser !pip install pytrovich # попытка использовать данные библиотеки для сохранения поля gender"
      ],
      "execution_count": 34,
      "outputs": []
    },
    {
      "cell_type": "code",
      "metadata": {
        "id": "bnd1JZGa9PJW"
      },
      "source": [
        "user.drop(['username', 'first_name', 'last_name', 'language_code', 'seed', 'deep_link', 'is_blocked_bot', 'is_admin', 'is_moderator', 'created_at', 'updated_at', 'gender', 'latest_meme_sent_at', 'is_banned'], axis = 1, inplace = True) # удаляем ненужные/неполные столбцы"
      ],
      "execution_count": 35,
      "outputs": []
    },
    {
      "cell_type": "code",
      "metadata": {
        "colab": {
          "base_uri": "https://localhost:8080/"
        },
        "id": "5qEDLMYna-1O",
        "outputId": "40d6d00e-901a-490f-83d7-888b1b50a638"
      },
      "source": [
        "user.interface_lang.value_counts()"
      ],
      "execution_count": 36,
      "outputs": [
        {
          "output_type": "execute_result",
          "data": {
            "text/plain": [
              "ru    17662\n",
              "en     9884\n",
              "in      262\n",
              "uk       34\n",
              "pt       22\n",
              "Name: interface_lang, dtype: int64"
            ]
          },
          "metadata": {
            "tags": []
          },
          "execution_count": 36
        }
      ]
    },
    {
      "cell_type": "code",
      "metadata": {
        "id": "xVXy6LM09PAn"
      },
      "source": [
        "user.interface_lang.replace({'en':1, 'ru':0}, inplace = True) # 1 если интерфейс английский, 0 если русский, 2 если иной\n",
        "user.loc[(user['interface_lang'] != 0) & (user['interface_lang'] != 1), 'interface_lang'] = 2"
      ],
      "execution_count": 37,
      "outputs": []
    },
    {
      "cell_type": "code",
      "metadata": {
        "colab": {
          "base_uri": "https://localhost:8080/"
        },
        "id": "HvkurIeVbZo0",
        "outputId": "58452017-10a9-4fa4-e424-147c804a60c2"
      },
      "source": [
        "# Конечно, 155 nan по interface_lang можно было запихнуть в любую категорию, т.к. малое число пропусков, но захотел распределить пропорционально по двум бОльшим категориям\n",
        "import random\n",
        "nans = user['interface_lang'].isna()\n",
        "length = sum(nans)\n",
        "replacement = random.choices([0, 1], weights=[.75, .25], k=length)\n",
        "user.loc[nans,'interface_lang'] = replacement\n",
        "user.isna().sum()"
      ],
      "execution_count": 38,
      "outputs": [
        {
          "output_type": "execute_result",
          "data": {
            "text/plain": [
              "user_id               0\n",
              "sessions              0\n",
              "last_session_memes    0\n",
              "watched_memes         0\n",
              "interface_lang        0\n",
              "dtype: int64"
            ]
          },
          "metadata": {
            "tags": []
          },
          "execution_count": 38
        }
      ]
    },
    {
      "cell_type": "code",
      "metadata": {
        "id": "RFuJYUt-bp8M"
      },
      "source": [
        "user.set_index('user_id', inplace = True)"
      ],
      "execution_count": 39,
      "outputs": []
    },
    {
      "cell_type": "code",
      "metadata": {
        "colab": {
          "base_uri": "https://localhost:8080/",
          "height": 233
        },
        "id": "VOd6BzrmcT7o",
        "outputId": "21b48e8e-5c35-4747-8802-8c729b8fec2e"
      },
      "source": [
        "user.head()"
      ],
      "execution_count": 40,
      "outputs": [
        {
          "output_type": "execute_result",
          "data": {
            "text/html": [
              "<div>\n",
              "<style scoped>\n",
              "    .dataframe tbody tr th:only-of-type {\n",
              "        vertical-align: middle;\n",
              "    }\n",
              "\n",
              "    .dataframe tbody tr th {\n",
              "        vertical-align: top;\n",
              "    }\n",
              "\n",
              "    .dataframe thead th {\n",
              "        text-align: right;\n",
              "    }\n",
              "</style>\n",
              "<table border=\"1\" class=\"dataframe\">\n",
              "  <thead>\n",
              "    <tr style=\"text-align: right;\">\n",
              "      <th></th>\n",
              "      <th>sessions</th>\n",
              "      <th>last_session_memes</th>\n",
              "      <th>watched_memes</th>\n",
              "      <th>interface_lang</th>\n",
              "    </tr>\n",
              "    <tr>\n",
              "      <th>user_id</th>\n",
              "      <th></th>\n",
              "      <th></th>\n",
              "      <th></th>\n",
              "      <th></th>\n",
              "    </tr>\n",
              "  </thead>\n",
              "  <tbody>\n",
              "    <tr>\n",
              "      <th>1235209430</th>\n",
              "      <td>3</td>\n",
              "      <td>4</td>\n",
              "      <td>8</td>\n",
              "      <td>1</td>\n",
              "    </tr>\n",
              "    <tr>\n",
              "      <th>113584040</th>\n",
              "      <td>1</td>\n",
              "      <td>1</td>\n",
              "      <td>0</td>\n",
              "      <td>0</td>\n",
              "    </tr>\n",
              "    <tr>\n",
              "      <th>1142713343</th>\n",
              "      <td>1</td>\n",
              "      <td>1</td>\n",
              "      <td>0</td>\n",
              "      <td>1</td>\n",
              "    </tr>\n",
              "    <tr>\n",
              "      <th>187967374</th>\n",
              "      <td>2</td>\n",
              "      <td>5</td>\n",
              "      <td>9</td>\n",
              "      <td>0</td>\n",
              "    </tr>\n",
              "    <tr>\n",
              "      <th>923016092</th>\n",
              "      <td>39</td>\n",
              "      <td>1</td>\n",
              "      <td>35</td>\n",
              "      <td>1</td>\n",
              "    </tr>\n",
              "  </tbody>\n",
              "</table>\n",
              "</div>"
            ],
            "text/plain": [
              "            sessions  last_session_memes  watched_memes interface_lang\n",
              "user_id                                                               \n",
              "1235209430         3                   4              8              1\n",
              "113584040          1                   1              0              0\n",
              "1142713343         1                   1              0              1\n",
              "187967374          2                   5              9              0\n",
              "923016092         39                   1             35              1"
            ]
          },
          "metadata": {
            "tags": []
          },
          "execution_count": 40
        }
      ]
    },
    {
      "cell_type": "markdown",
      "metadata": {
        "id": "FIIjDSrCuXGl"
      },
      "source": [
        "### Обработка event_df"
      ]
    },
    {
      "cell_type": "code",
      "metadata": {
        "colab": {
          "base_uri": "https://localhost:8080/",
          "height": 202
        },
        "id": "QEjvKWrxuaRW",
        "outputId": "1e7f5db6-970a-4805-c5f2-7114740b9fce"
      },
      "source": [
        "event.head()"
      ],
      "execution_count": 79,
      "outputs": [
        {
          "output_type": "execute_result",
          "data": {
            "text/html": [
              "<div>\n",
              "<style scoped>\n",
              "    .dataframe tbody tr th:only-of-type {\n",
              "        vertical-align: middle;\n",
              "    }\n",
              "\n",
              "    .dataframe tbody tr th {\n",
              "        vertical-align: top;\n",
              "    }\n",
              "\n",
              "    .dataframe thead th {\n",
              "        text-align: right;\n",
              "    }\n",
              "</style>\n",
              "<table border=\"1\" class=\"dataframe\">\n",
              "  <thead>\n",
              "    <tr style=\"text-align: right;\">\n",
              "      <th></th>\n",
              "      <th>event_id</th>\n",
              "      <th>reaction_id</th>\n",
              "      <th>session_idx</th>\n",
              "      <th>meme_idx</th>\n",
              "      <th>created_at</th>\n",
              "      <th>reacted_at</th>\n",
              "      <th>meme_id</th>\n",
              "      <th>user_id</th>\n",
              "      <th>telegram_message_id</th>\n",
              "    </tr>\n",
              "  </thead>\n",
              "  <tbody>\n",
              "    <tr>\n",
              "      <th>0</th>\n",
              "      <td>1569409</td>\n",
              "      <td>1.0</td>\n",
              "      <td>1.0</td>\n",
              "      <td>171.0</td>\n",
              "      <td>2020-09-23 14:45:40.204598+00</td>\n",
              "      <td>2020-09-23 14:45:44.079206+00</td>\n",
              "      <td>9197</td>\n",
              "      <td>1153946021</td>\n",
              "      <td>1624299.0</td>\n",
              "    </tr>\n",
              "    <tr>\n",
              "      <th>1</th>\n",
              "      <td>1569228</td>\n",
              "      <td>2.0</td>\n",
              "      <td>199.0</td>\n",
              "      <td>189.0</td>\n",
              "      <td>2020-09-23 14:38:56.25774+00</td>\n",
              "      <td>2020-09-23 14:39:11.978709+00</td>\n",
              "      <td>34459</td>\n",
              "      <td>285739883</td>\n",
              "      <td>1624096.0</td>\n",
              "    </tr>\n",
              "    <tr>\n",
              "      <th>2</th>\n",
              "      <td>1569405</td>\n",
              "      <td>1.0</td>\n",
              "      <td>7.0</td>\n",
              "      <td>133.0</td>\n",
              "      <td>2020-09-23 14:45:34.244269+00</td>\n",
              "      <td>2020-09-23 14:45:46.699976+00</td>\n",
              "      <td>10879</td>\n",
              "      <td>751332478</td>\n",
              "      <td>1624295.0</td>\n",
              "    </tr>\n",
              "    <tr>\n",
              "      <th>3</th>\n",
              "      <td>1569239</td>\n",
              "      <td>1.0</td>\n",
              "      <td>2.0</td>\n",
              "      <td>265.0</td>\n",
              "      <td>2020-09-23 14:39:17.175786+00</td>\n",
              "      <td>2020-09-23 14:39:28.054075+00</td>\n",
              "      <td>46731</td>\n",
              "      <td>914220296</td>\n",
              "      <td>1624113.0</td>\n",
              "    </tr>\n",
              "    <tr>\n",
              "      <th>4</th>\n",
              "      <td>1569254</td>\n",
              "      <td>1.0</td>\n",
              "      <td>2.0</td>\n",
              "      <td>130.0</td>\n",
              "      <td>2020-09-23 14:39:57.24919+00</td>\n",
              "      <td>2020-09-23 14:39:58.963727+00</td>\n",
              "      <td>49571</td>\n",
              "      <td>1171473137</td>\n",
              "      <td>1624129.0</td>\n",
              "    </tr>\n",
              "  </tbody>\n",
              "</table>\n",
              "</div>"
            ],
            "text/plain": [
              "   event_id  reaction_id  session_idx  ...  meme_id     user_id telegram_message_id\n",
              "0   1569409          1.0          1.0  ...     9197  1153946021           1624299.0\n",
              "1   1569228          2.0        199.0  ...    34459   285739883           1624096.0\n",
              "2   1569405          1.0          7.0  ...    10879   751332478           1624295.0\n",
              "3   1569239          1.0          2.0  ...    46731   914220296           1624113.0\n",
              "4   1569254          1.0          2.0  ...    49571  1171473137           1624129.0\n",
              "\n",
              "[5 rows x 9 columns]"
            ]
          },
          "metadata": {
            "tags": []
          },
          "execution_count": 79
        }
      ]
    },
    {
      "cell_type": "code",
      "metadata": {
        "colab": {
          "base_uri": "https://localhost:8080/"
        },
        "id": "2X6MGgCLu0Bg",
        "outputId": "46c80d59-e6ab-4de3-db31-dcab41424460"
      },
      "source": [
        "event.reaction_id.unique()"
      ],
      "execution_count": 80,
      "outputs": [
        {
          "output_type": "execute_result",
          "data": {
            "text/plain": [
              "array([ 1.,  2.,  5., nan,  4.,  3.])"
            ]
          },
          "metadata": {
            "tags": []
          },
          "execution_count": 80
        }
      ]
    },
    {
      "cell_type": "code",
      "metadata": {
        "id": "XSrYBDEjuaPR"
      },
      "source": [
        "event = event.drop(event[(event.reaction_id == 3) | (event.reaction_id == 4) |(event.reaction_id == 5) ].index) # Удаление действий админов\n",
        "event.drop(['telegram_message_id', 'session_idx', 'meme_idx', 'created_at', 'reacted_at'], axis = 1, inplace = True)"
      ],
      "execution_count": 81,
      "outputs": []
    },
    {
      "cell_type": "code",
      "metadata": {
        "colab": {
          "base_uri": "https://localhost:8080/"
        },
        "id": "zxlocR1YuaM1",
        "outputId": "8e0aa93f-b428-4a24-df2f-5052fdba27f5"
      },
      "source": [
        "event.isna().sum()"
      ],
      "execution_count": 82,
      "outputs": [
        {
          "output_type": "execute_result",
          "data": {
            "text/plain": [
              "event_id            0\n",
              "reaction_id    631914\n",
              "meme_id             0\n",
              "user_id             0\n",
              "dtype: int64"
            ]
          },
          "metadata": {
            "tags": []
          },
          "execution_count": 82
        }
      ]
    },
    {
      "cell_type": "code",
      "metadata": {
        "colab": {
          "base_uri": "https://localhost:8080/"
        },
        "id": "PcwmO_83uaKO",
        "outputId": "896596eb-35df-4508-bac1-415150763dba"
      },
      "source": [
        "event.reaction_id.value_counts()"
      ],
      "execution_count": 84,
      "outputs": [
        {
          "output_type": "execute_result",
          "data": {
            "text/plain": [
              "1.0    4645144\n",
              "2.0    4538667\n",
              "Name: reaction_id, dtype: int64"
            ]
          },
          "metadata": {
            "tags": []
          },
          "execution_count": 84
        }
      ]
    },
    {
      "cell_type": "code",
      "metadata": {
        "colab": {
          "base_uri": "https://localhost:8080/"
        },
        "id": "tJgsgu7fuaHu",
        "outputId": "629b3372-436a-4aa7-f3b7-7ba468ceba79"
      },
      "source": [
        "nans = event['reaction_id'].isna()  # пропорциональное распределение лайков/дизлайков по nan значениям\n",
        "length = sum(nans)\n",
        "replacement = random.choices([1, 2], weights=[.5, .5], k=length)\n",
        "event.loc[nans,'reaction_id'] = replacement\n",
        "event.isna().sum()"
      ],
      "execution_count": 86,
      "outputs": [
        {
          "output_type": "execute_result",
          "data": {
            "text/plain": [
              "event_id       0\n",
              "reaction_id    0\n",
              "meme_id        0\n",
              "user_id        0\n",
              "dtype: int64"
            ]
          },
          "metadata": {
            "tags": []
          },
          "execution_count": 86
        }
      ]
    },
    {
      "cell_type": "code",
      "metadata": {
        "colab": {
          "base_uri": "https://localhost:8080/",
          "height": 202
        },
        "id": "9ZoE7vx5vpA5",
        "outputId": "9d083f1d-df94-44f2-c729-ccc74947ac95"
      },
      "source": [
        "event.head()"
      ],
      "execution_count": 87,
      "outputs": [
        {
          "output_type": "execute_result",
          "data": {
            "text/html": [
              "<div>\n",
              "<style scoped>\n",
              "    .dataframe tbody tr th:only-of-type {\n",
              "        vertical-align: middle;\n",
              "    }\n",
              "\n",
              "    .dataframe tbody tr th {\n",
              "        vertical-align: top;\n",
              "    }\n",
              "\n",
              "    .dataframe thead th {\n",
              "        text-align: right;\n",
              "    }\n",
              "</style>\n",
              "<table border=\"1\" class=\"dataframe\">\n",
              "  <thead>\n",
              "    <tr style=\"text-align: right;\">\n",
              "      <th></th>\n",
              "      <th>event_id</th>\n",
              "      <th>reaction_id</th>\n",
              "      <th>meme_id</th>\n",
              "      <th>user_id</th>\n",
              "    </tr>\n",
              "  </thead>\n",
              "  <tbody>\n",
              "    <tr>\n",
              "      <th>0</th>\n",
              "      <td>1569409</td>\n",
              "      <td>1.0</td>\n",
              "      <td>9197</td>\n",
              "      <td>1153946021</td>\n",
              "    </tr>\n",
              "    <tr>\n",
              "      <th>1</th>\n",
              "      <td>1569228</td>\n",
              "      <td>2.0</td>\n",
              "      <td>34459</td>\n",
              "      <td>285739883</td>\n",
              "    </tr>\n",
              "    <tr>\n",
              "      <th>2</th>\n",
              "      <td>1569405</td>\n",
              "      <td>1.0</td>\n",
              "      <td>10879</td>\n",
              "      <td>751332478</td>\n",
              "    </tr>\n",
              "    <tr>\n",
              "      <th>3</th>\n",
              "      <td>1569239</td>\n",
              "      <td>1.0</td>\n",
              "      <td>46731</td>\n",
              "      <td>914220296</td>\n",
              "    </tr>\n",
              "    <tr>\n",
              "      <th>4</th>\n",
              "      <td>1569254</td>\n",
              "      <td>1.0</td>\n",
              "      <td>49571</td>\n",
              "      <td>1171473137</td>\n",
              "    </tr>\n",
              "  </tbody>\n",
              "</table>\n",
              "</div>"
            ],
            "text/plain": [
              "   event_id  reaction_id  meme_id     user_id\n",
              "0   1569409          1.0     9197  1153946021\n",
              "1   1569228          2.0    34459   285739883\n",
              "2   1569405          1.0    10879   751332478\n",
              "3   1569239          1.0    46731   914220296\n",
              "4   1569254          1.0    49571  1171473137"
            ]
          },
          "metadata": {
            "tags": []
          },
          "execution_count": 87
        }
      ]
    },
    {
      "cell_type": "markdown",
      "metadata": {
        "id": "2FGzcJy3Y5Wx"
      },
      "source": [
        "## Кластеризация датасэтов"
      ]
    },
    {
      "cell_type": "markdown",
      "metadata": {
        "id": "2AFhherEkUQ8"
      },
      "source": [
        "В данной части будет рассчитано оптимальное количество кластеров для наших датасэтов различными способами, а именно:\n",
        "* Методом локтя\n",
        "* Методом силуэта\n",
        "* С помощью Индекс Дэвиса – Боулдина\n",
        "\n",
        "По каждому из методов выполнено обучение по датасэту, а также отражены графики для наглядности"
      ]
    },
    {
      "cell_type": "markdown",
      "metadata": {
        "id": "7H_TBTbBcbc9"
      },
      "source": [
        "### Кластеризация meme_df"
      ]
    },
    {
      "cell_type": "code",
      "metadata": {
        "id": "uNF86lJDcdk1"
      },
      "source": [
        "from sklearn.preprocessing import MinMaxScaler\n"
      ],
      "execution_count": 41,
      "outputs": []
    },
    {
      "cell_type": "code",
      "metadata": {
        "id": "KWU3e4afclqh"
      },
      "source": [
        "X=meme.copy()\n"
      ],
      "execution_count": 42,
      "outputs": []
    },
    {
      "cell_type": "code",
      "metadata": {
        "id": "EgOoB8tWciIn"
      },
      "source": [
        "scaler = MinMaxScaler()"
      ],
      "execution_count": 43,
      "outputs": []
    },
    {
      "cell_type": "code",
      "metadata": {
        "id": "fSTrdaueciGb"
      },
      "source": [
        "X_scaled=scaler.fit_transform(X)"
      ],
      "execution_count": 44,
      "outputs": []
    },
    {
      "cell_type": "code",
      "metadata": {
        "id": "qCAA2VBlciDt"
      },
      "source": [
        "from sklearn.metrics import silhouette_score, davies_bouldin_score,v_measure_score\n",
        "from sklearn.cluster import KMeans\n"
      ],
      "execution_count": 45,
      "outputs": []
    },
    {
      "cell_type": "code",
      "metadata": {
        "colab": {
          "base_uri": "https://localhost:8080/"
        },
        "id": "9UeADoW3ciBO",
        "outputId": "4c1e57bc-f344-4b80-8be2-33a3a54f2177"
      },
      "source": [
        "# Для каждого из значений кол-ва кластеров от 2 до 12 фиксируем результат по каждому из методов для дальнейшего отражения результатов на графике.\n",
        "km_scores= []\n",
        "km_silhouette = []\n",
        "db_score = []\n",
        "for i in range(2,12):\n",
        "    km = KMeans(n_clusters=i, random_state=0).fit(X_scaled)\n",
        "    preds = km.predict(X_scaled)\n",
        "    \n",
        "    print(\"Score for number of cluster(s) {}: {}\".format(i,km.score(X_scaled)))\n",
        "    km_scores.append(-km.score(X_scaled))\n",
        "    \n",
        "    silhouette = silhouette_score(X_scaled,preds)\n",
        "    km_silhouette.append(silhouette)\n",
        "    print(\"Silhouette score for number of cluster(s) {}: {}\".format(i,silhouette))\n",
        "    \n",
        "    db = davies_bouldin_score(X_scaled,preds)\n",
        "    db_score.append(db)\n",
        "    print(\"Davies Bouldin score for number of cluster(s) {}: {}\".format(i,db))"
      ],
      "execution_count": 46,
      "outputs": [
        {
          "output_type": "stream",
          "text": [
            "Score for number of cluster(s) 2: -54480.68126754742\n",
            "Silhouette score for number of cluster(s) 2: 0.4532038276362255\n",
            "Davies Bouldin score for number of cluster(s) 2: 1.2467085379097889\n",
            "Score for number of cluster(s) 3: -45889.466152878216\n",
            "Silhouette score for number of cluster(s) 3: 0.43911697899939467\n",
            "Davies Bouldin score for number of cluster(s) 3: 1.2596618128213315\n",
            "Score for number of cluster(s) 4: -37702.578039795684\n",
            "Silhouette score for number of cluster(s) 4: 0.43029319251653503\n",
            "Davies Bouldin score for number of cluster(s) 4: 1.171857539358558\n",
            "Score for number of cluster(s) 5: -31498.848809358184\n",
            "Silhouette score for number of cluster(s) 5: 0.3725801970396311\n",
            "Davies Bouldin score for number of cluster(s) 5: 1.175382335235994\n",
            "Score for number of cluster(s) 6: -26859.075388989364\n",
            "Silhouette score for number of cluster(s) 6: 0.40374467552826004\n",
            "Davies Bouldin score for number of cluster(s) 6: 1.0091759528915496\n",
            "Score for number of cluster(s) 7: -22360.01917740157\n",
            "Silhouette score for number of cluster(s) 7: 0.43015706487028743\n",
            "Davies Bouldin score for number of cluster(s) 7: 0.9240738131262652\n",
            "Score for number of cluster(s) 8: -18833.345496803096\n",
            "Silhouette score for number of cluster(s) 8: 0.45896283323401804\n",
            "Davies Bouldin score for number of cluster(s) 8: 0.8828757159284222\n",
            "Score for number of cluster(s) 9: -16389.626758862254\n",
            "Silhouette score for number of cluster(s) 9: 0.4987314160460644\n",
            "Davies Bouldin score for number of cluster(s) 9: 0.8452478014707275\n",
            "Score for number of cluster(s) 10: -14932.959050864883\n",
            "Silhouette score for number of cluster(s) 10: 0.5089075310405198\n",
            "Davies Bouldin score for number of cluster(s) 10: 0.8072071345193113\n",
            "Score for number of cluster(s) 11: -13537.959360513121\n",
            "Silhouette score for number of cluster(s) 11: 0.5151037228456279\n",
            "Davies Bouldin score for number of cluster(s) 11: 0.8017834302415476\n"
          ],
          "name": "stdout"
        }
      ]
    },
    {
      "cell_type": "code",
      "metadata": {
        "colab": {
          "base_uri": "https://localhost:8080/",
          "height": 322
        },
        "id": "HnlX40Wdch-m",
        "outputId": "a19d2b78-bb53-43de-fb6a-f044c6638204"
      },
      "source": [
        "plt.figure(figsize=(7,4))\n",
        "plt.title(\"The elbow method for determining number of clusters\\n\",fontsize=16)\n",
        "plt.scatter(x=[i for i in range(2,12)],y=km_scores,s=150,edgecolor='k')\n",
        "plt.grid(True)\n",
        "plt.xlabel(\"Number of clusters\",fontsize=14)\n",
        "plt.ylabel(\"K-means score\",fontsize=15)\n",
        "plt.xticks([i for i in range(2,12)],fontsize=14)\n",
        "plt.yticks(fontsize=15)\n",
        "plt.show()"
      ],
      "execution_count": 47,
      "outputs": [
        {
          "output_type": "display_data",
          "data": {
            "image/png": "[encoded data removed]",
            "text/plain": [
              "<Figure size 504x288 with 1 Axes>"
            ]
          },
          "metadata": {
            "tags": [],
            "needs_background": "light"
          }
        }
      ]
    },
    {
      "cell_type": "code",
      "metadata": {
        "colab": {
          "base_uri": "https://localhost:8080/",
          "height": 340
        },
        "id": "TE0qT6S6ch8H",
        "outputId": "d247e9f7-19c1-4fee-b94f-ae07e0a52f8d"
      },
      "source": [
        "plt.figure(figsize=(7,4))\n",
        "plt.title(\"The silhouette coefficient method \\nfor determining number of clusters\\n\",fontsize=16)\n",
        "plt.scatter(x=[i for i in range(2,12)],y=km_silhouette,s=150,edgecolor='k')\n",
        "plt.grid(True)\n",
        "plt.xlabel(\"Number of clusters\",fontsize=14)\n",
        "plt.ylabel(\"Silhouette score\",fontsize=15)\n",
        "plt.xticks([i for i in range(2,12)],fontsize=14)\n",
        "plt.yticks(fontsize=15)\n",
        "plt.show()"
      ],
      "execution_count": 48,
      "outputs": [
        {
          "output_type": "display_data",
          "data": {
            "image/png": "[encoded data removed]",
            "text/plain": [
              "<Figure size 504x288 with 1 Axes>"
            ]
          },
          "metadata": {
            "tags": [],
            "needs_background": "light"
          }
        }
      ]
    },
    {
      "cell_type": "code",
      "metadata": {
        "colab": {
          "base_uri": "https://localhost:8080/",
          "height": 279
        },
        "id": "WQi0wWdfch5u",
        "outputId": "29719e2d-3098-4803-ce8f-85af2cbd83a6"
      },
      "source": [
        "plt.scatter(x=[i for i in range(2,12)],y=db_score,s=150,edgecolor='k')\n",
        "plt.grid(True)\n",
        "plt.xlabel(\"Davies-Bouldin score\")\n",
        "plt.show()"
      ],
      "execution_count": 49,
      "outputs": [
        {
          "output_type": "display_data",
          "data": {
            "image/png": "[encoded data removed]",
            "text/plain": [
              "<Figure size 432x288 with 1 Axes>"
            ]
          },
          "metadata": {
            "tags": [],
            "needs_background": "light"
          }
        }
      ]
    },
    {
      "cell_type": "markdown",
      "metadata": {
        "id": "GylJWNZlnE8z"
      },
      "source": [
        "Основываясь на графиках, я бы сказал, что оптимальным количеством кластеров для датасэта с мемами будет 2-3."
      ]
    },
    {
      "cell_type": "markdown",
      "metadata": {
        "id": "p1BADc3kY92-"
      },
      "source": [
        "### Кластеризация user_df"
      ]
    },
    {
      "cell_type": "code",
      "metadata": {
        "id": "zVYr1oNbZAkx"
      },
      "source": [
        "X2=user.copy()\n"
      ],
      "execution_count": 50,
      "outputs": []
    },
    {
      "cell_type": "code",
      "metadata": {
        "id": "ek8KviwIZA1l"
      },
      "source": [
        "X2_scaled=scaler.fit_transform(X2)"
      ],
      "execution_count": 57,
      "outputs": []
    },
    {
      "cell_type": "code",
      "metadata": {
        "colab": {
          "base_uri": "https://localhost:8080/"
        },
        "id": "_LfSv3MTZAzI",
        "outputId": "e8d04fce-28e9-4fd8-94fb-037417cb061c"
      },
      "source": [
        "# Повторяем для пользователей\n",
        "km_scores2= []\n",
        "km_silhouette2 = []\n",
        "db_score2 = []\n",
        "for i in range(2,12):\n",
        "    km = KMeans(n_clusters=i, random_state=0).fit(X2_scaled)\n",
        "    preds = km.predict(X2_scaled)\n",
        "    \n",
        "    print(\"Score for number of cluster(s) {}: {}\".format(i,km.score(X2_scaled)))\n",
        "    km_scores2.append(-km.score(X2_scaled))\n",
        "    \n",
        "    silhouette = silhouette_score(X2_scaled,preds)\n",
        "    km_silhouette2.append(silhouette)\n",
        "    print(\"Silhouette score for number of cluster(s) {}: {}\".format(i,silhouette))\n",
        "    \n",
        "    db = davies_bouldin_score(X2_scaled,preds)\n",
        "    db_score2.append(db)\n",
        "    print(\"Davies Bouldin score for number of cluster(s) {}: {}\".format(i,db))"
      ],
      "execution_count": 58,
      "outputs": [
        {
          "output_type": "stream",
          "text": [
            "Score for number of cluster(s) 2: -178.41730670035446\n",
            "Silhouette score for number of cluster(s) 2: 0.9072211878479516\n",
            "Davies Bouldin score for number of cluster(s) 2: 0.15953897927903168\n",
            "Score for number of cluster(s) 3: -65.56603312106492\n",
            "Silhouette score for number of cluster(s) 3: 0.9273706845351748\n",
            "Davies Bouldin score for number of cluster(s) 3: 0.09516048531809464\n",
            "Score for number of cluster(s) 4: -47.54791556903776\n",
            "Silhouette score for number of cluster(s) 4: 0.8969068814093958\n",
            "Davies Bouldin score for number of cluster(s) 4: 0.5719738853134028\n",
            "Score for number of cluster(s) 5: -36.34565271110847\n",
            "Silhouette score for number of cluster(s) 5: 0.893395073215103\n",
            "Davies Bouldin score for number of cluster(s) 5: 0.515767674969871\n",
            "Score for number of cluster(s) 6: -28.768374672042455\n",
            "Silhouette score for number of cluster(s) 6: 0.705361756341275\n",
            "Davies Bouldin score for number of cluster(s) 6: 0.5754698066014091\n",
            "Score for number of cluster(s) 7: -23.795820560949068\n",
            "Silhouette score for number of cluster(s) 7: 0.7129011632953214\n",
            "Davies Bouldin score for number of cluster(s) 7: 0.5685549585853901\n",
            "Score for number of cluster(s) 8: -19.680277438342337\n",
            "Silhouette score for number of cluster(s) 8: 0.7305013217150722\n",
            "Davies Bouldin score for number of cluster(s) 8: 0.5437590820124811\n",
            "Score for number of cluster(s) 9: -16.345626063106245\n",
            "Silhouette score for number of cluster(s) 9: 0.6577646744041644\n",
            "Davies Bouldin score for number of cluster(s) 9: 0.5366559469473305\n",
            "Score for number of cluster(s) 10: -14.24994606886011\n",
            "Silhouette score for number of cluster(s) 10: 0.6698724757320854\n",
            "Davies Bouldin score for number of cluster(s) 10: 0.5407637143354471\n",
            "Score for number of cluster(s) 11: -12.629386572434722\n",
            "Silhouette score for number of cluster(s) 11: 0.6755014540200208\n",
            "Davies Bouldin score for number of cluster(s) 11: 0.5941573597293318\n"
          ],
          "name": "stdout"
        }
      ]
    },
    {
      "cell_type": "code",
      "metadata": {
        "colab": {
          "base_uri": "https://localhost:8080/",
          "height": 322
        },
        "id": "G_G--eW0ZAqf",
        "outputId": "1ef90318-1676-4df5-cc49-8f3f8b8af8a6"
      },
      "source": [
        "plt.figure(figsize=(7,4))\n",
        "plt.title(\"The elbow method for determining number of clusters\\n\",fontsize=16)\n",
        "plt.scatter(x=[i for i in range(2,12)],y=km_scores2,s=150,edgecolor='k')\n",
        "plt.grid(True)\n",
        "plt.xlabel(\"Number of clusters\",fontsize=14)\n",
        "plt.ylabel(\"K-means score\",fontsize=15)\n",
        "plt.xticks([i for i in range(2,12)],fontsize=14)\n",
        "plt.yticks(fontsize=15)\n",
        "plt.show()"
      ],
      "execution_count": 59,
      "outputs": [
        {
          "output_type": "display_data",
          "data": {
            "image/png": "[encoded data removed]",
            "text/plain": [
              "<Figure size 504x288 with 1 Axes>"
            ]
          },
          "metadata": {
            "tags": [],
            "needs_background": "light"
          }
        }
      ]
    },
    {
      "cell_type": "code",
      "metadata": {
        "colab": {
          "base_uri": "https://localhost:8080/",
          "height": 340
        },
        "id": "3k4O1D8vZAni",
        "outputId": "6dacd528-2891-464e-98f2-3a92f7737ff1"
      },
      "source": [
        "plt.figure(figsize=(7,4))\n",
        "plt.title(\"The silhouette coefficient method \\nfor determining number of clusters\\n\",fontsize=16)\n",
        "plt.scatter(x=[i for i in range(2,12)],y=km_silhouette2,s=150,edgecolor='k')\n",
        "plt.grid(True)\n",
        "plt.xlabel(\"Number of clusters\",fontsize=14)\n",
        "plt.ylabel(\"Silhouette score\",fontsize=15)\n",
        "plt.xticks([i for i in range(2,12)],fontsize=14)\n",
        "plt.yticks(fontsize=15)\n",
        "plt.show()"
      ],
      "execution_count": 60,
      "outputs": [
        {
          "output_type": "display_data",
          "data": {
            "image/png": "[encoded data removed]",
            "text/plain": [
              "<Figure size 504x288 with 1 Axes>"
            ]
          },
          "metadata": {
            "tags": [],
            "needs_background": "light"
          }
        }
      ]
    },
    {
      "cell_type": "code",
      "metadata": {
        "colab": {
          "base_uri": "https://localhost:8080/",
          "height": 279
        },
        "id": "lemoMblKa1jy",
        "outputId": "5e411454-a264-428c-b864-95b33d5a9522"
      },
      "source": [
        "plt.scatter(x=[i for i in range(2,12)],y=db_score2,s=150,edgecolor='k')\n",
        "plt.grid(True)\n",
        "plt.xlabel(\"Davies-Bouldin score\")\n",
        "plt.show()"
      ],
      "execution_count": 61,
      "outputs": [
        {
          "output_type": "display_data",
          "data": {
            "image/png": "[encoded data removed]",
            "text/plain": [
              "<Figure size 432x288 with 1 Axes>"
            ]
          },
          "metadata": {
            "tags": [],
            "needs_background": "light"
          }
        }
      ]
    },
    {
      "cell_type": "markdown",
      "metadata": {
        "id": "CYw7Mt4erN-w"
      },
      "source": [
        "Тут четко видно, что 3 кластера является оптимальным количеством для датасэта с пользователями. Дальше оценка либо не улучшается, либо ухудшается."
      ]
    },
    {
      "cell_type": "code",
      "metadata": {
        "id": "HLLvEqvxrz1f"
      },
      "source": [
        "meme_preds = KMeans(n_clusters = 3, random_state=0).fit_predict(X_scaled)\n",
        "user_preds = KMeans(n_clusters = 2, random_state=0).fit_predict(X2_scaled)"
      ],
      "execution_count": 62,
      "outputs": []
    },
    {
      "cell_type": "markdown",
      "metadata": {
        "id": "VuXg2ZZEt6RN"
      },
      "source": [
        "### Добавление кластеров"
      ]
    },
    {
      "cell_type": "code",
      "metadata": {
        "id": "K9P3E1ilsrV6"
      },
      "source": [
        "meme['clusters'] = meme_preds\n",
        "user['clusters'] = user_preds"
      ],
      "execution_count": 71,
      "outputs": []
    },
    {
      "cell_type": "code",
      "metadata": {
        "colab": {
          "base_uri": "https://localhost:8080/",
          "height": 217
        },
        "id": "NhN_7rb7suph",
        "outputId": "c45df646-021d-4246-9e17-54ae3a382fc9"
      },
      "source": [
        "meme.head()"
      ],
      "execution_count": 72,
      "outputs": [
        {
          "output_type": "execute_result",
          "data": {
            "text/html": [
              "<div>\n",
              "<style scoped>\n",
              "    .dataframe tbody tr th:only-of-type {\n",
              "        vertical-align: middle;\n",
              "    }\n",
              "\n",
              "    .dataframe tbody tr th {\n",
              "        vertical-align: top;\n",
              "    }\n",
              "\n",
              "    .dataframe thead th {\n",
              "        text-align: right;\n",
              "    }\n",
              "</style>\n",
              "<table border=\"1\" class=\"dataframe\">\n",
              "  <thead>\n",
              "    <tr style=\"text-align: right;\">\n",
              "      <th></th>\n",
              "      <th>published_at2021</th>\n",
              "      <th>content_lang</th>\n",
              "      <th>is_available</th>\n",
              "      <th>likes</th>\n",
              "      <th>dislikes</th>\n",
              "      <th>source_id</th>\n",
              "      <th>content_text</th>\n",
              "      <th>language_id</th>\n",
              "      <th>meme_type_animation</th>\n",
              "      <th>meme_type_photo</th>\n",
              "      <th>meme_type_video</th>\n",
              "      <th>source_grouped</th>\n",
              "      <th>clusters</th>\n",
              "    </tr>\n",
              "    <tr>\n",
              "      <th>meme_id</th>\n",
              "      <th></th>\n",
              "      <th></th>\n",
              "      <th></th>\n",
              "      <th></th>\n",
              "      <th></th>\n",
              "      <th></th>\n",
              "      <th></th>\n",
              "      <th></th>\n",
              "      <th></th>\n",
              "      <th></th>\n",
              "      <th></th>\n",
              "      <th></th>\n",
              "      <th></th>\n",
              "    </tr>\n",
              "  </thead>\n",
              "  <tbody>\n",
              "    <tr>\n",
              "      <th>13395</th>\n",
              "      <td>0</td>\n",
              "      <td>0</td>\n",
              "      <td>1</td>\n",
              "      <td>28</td>\n",
              "      <td>38</td>\n",
              "      <td>10.0</td>\n",
              "      <td>1</td>\n",
              "      <td>2.0</td>\n",
              "      <td>0</td>\n",
              "      <td>1</td>\n",
              "      <td>0</td>\n",
              "      <td>0</td>\n",
              "      <td>0</td>\n",
              "    </tr>\n",
              "    <tr>\n",
              "      <th>13952</th>\n",
              "      <td>0</td>\n",
              "      <td>1</td>\n",
              "      <td>1</td>\n",
              "      <td>9</td>\n",
              "      <td>16</td>\n",
              "      <td>80.0</td>\n",
              "      <td>1</td>\n",
              "      <td>3.0</td>\n",
              "      <td>0</td>\n",
              "      <td>1</td>\n",
              "      <td>0</td>\n",
              "      <td>2</td>\n",
              "      <td>0</td>\n",
              "    </tr>\n",
              "    <tr>\n",
              "      <th>15593</th>\n",
              "      <td>0</td>\n",
              "      <td>0</td>\n",
              "      <td>1</td>\n",
              "      <td>41</td>\n",
              "      <td>54</td>\n",
              "      <td>19.0</td>\n",
              "      <td>1</td>\n",
              "      <td>2.0</td>\n",
              "      <td>0</td>\n",
              "      <td>1</td>\n",
              "      <td>0</td>\n",
              "      <td>1</td>\n",
              "      <td>0</td>\n",
              "    </tr>\n",
              "    <tr>\n",
              "      <th>18442</th>\n",
              "      <td>0</td>\n",
              "      <td>1</td>\n",
              "      <td>1</td>\n",
              "      <td>87</td>\n",
              "      <td>48</td>\n",
              "      <td>78.0</td>\n",
              "      <td>1</td>\n",
              "      <td>3.0</td>\n",
              "      <td>0</td>\n",
              "      <td>1</td>\n",
              "      <td>0</td>\n",
              "      <td>2</td>\n",
              "      <td>0</td>\n",
              "    </tr>\n",
              "    <tr>\n",
              "      <th>20798</th>\n",
              "      <td>0</td>\n",
              "      <td>0</td>\n",
              "      <td>1</td>\n",
              "      <td>234</td>\n",
              "      <td>178</td>\n",
              "      <td>9.0</td>\n",
              "      <td>1</td>\n",
              "      <td>2.0</td>\n",
              "      <td>0</td>\n",
              "      <td>1</td>\n",
              "      <td>0</td>\n",
              "      <td>0</td>\n",
              "      <td>0</td>\n",
              "    </tr>\n",
              "  </tbody>\n",
              "</table>\n",
              "</div>"
            ],
            "text/plain": [
              "         published_at2021 content_lang  ...  source_grouped  clusters\n",
              "meme_id                                 ...                          \n",
              "13395                   0            0  ...               0         0\n",
              "13952                   0            1  ...               2         0\n",
              "15593                   0            0  ...               1         0\n",
              "18442                   0            1  ...               2         0\n",
              "20798                   0            0  ...               0         0\n",
              "\n",
              "[5 rows x 13 columns]"
            ]
          },
          "metadata": {
            "tags": []
          },
          "execution_count": 72
        }
      ]
    },
    {
      "cell_type": "code",
      "metadata": {
        "colab": {
          "base_uri": "https://localhost:8080/",
          "height": 217
        },
        "id": "JYqZ4XtLtIy_",
        "outputId": "21d511b4-3051-4ad6-b841-58568067ca58"
      },
      "source": [
        "user.head()"
      ],
      "execution_count": 73,
      "outputs": [
        {
          "output_type": "execute_result",
          "data": {
            "text/html": [
              "<div>\n",
              "<style scoped>\n",
              "    .dataframe tbody tr th:only-of-type {\n",
              "        vertical-align: middle;\n",
              "    }\n",
              "\n",
              "    .dataframe tbody tr th {\n",
              "        vertical-align: top;\n",
              "    }\n",
              "\n",
              "    .dataframe thead th {\n",
              "        text-align: right;\n",
              "    }\n",
              "</style>\n",
              "<table border=\"1\" class=\"dataframe\">\n",
              "  <thead>\n",
              "    <tr style=\"text-align: right;\">\n",
              "      <th></th>\n",
              "      <th>sessions</th>\n",
              "      <th>last_session_memes</th>\n",
              "      <th>watched_memes</th>\n",
              "      <th>interface_lang</th>\n",
              "      <th>clusters</th>\n",
              "    </tr>\n",
              "    <tr>\n",
              "      <th>user_id</th>\n",
              "      <th></th>\n",
              "      <th></th>\n",
              "      <th></th>\n",
              "      <th></th>\n",
              "      <th></th>\n",
              "    </tr>\n",
              "  </thead>\n",
              "  <tbody>\n",
              "    <tr>\n",
              "      <th>1235209430</th>\n",
              "      <td>3</td>\n",
              "      <td>4</td>\n",
              "      <td>8</td>\n",
              "      <td>1</td>\n",
              "      <td>1</td>\n",
              "    </tr>\n",
              "    <tr>\n",
              "      <th>113584040</th>\n",
              "      <td>1</td>\n",
              "      <td>1</td>\n",
              "      <td>0</td>\n",
              "      <td>0</td>\n",
              "      <td>0</td>\n",
              "    </tr>\n",
              "    <tr>\n",
              "      <th>1142713343</th>\n",
              "      <td>1</td>\n",
              "      <td>1</td>\n",
              "      <td>0</td>\n",
              "      <td>1</td>\n",
              "      <td>1</td>\n",
              "    </tr>\n",
              "    <tr>\n",
              "      <th>187967374</th>\n",
              "      <td>2</td>\n",
              "      <td>5</td>\n",
              "      <td>9</td>\n",
              "      <td>0</td>\n",
              "      <td>0</td>\n",
              "    </tr>\n",
              "    <tr>\n",
              "      <th>923016092</th>\n",
              "      <td>39</td>\n",
              "      <td>1</td>\n",
              "      <td>35</td>\n",
              "      <td>1</td>\n",
              "      <td>1</td>\n",
              "    </tr>\n",
              "  </tbody>\n",
              "</table>\n",
              "</div>"
            ],
            "text/plain": [
              "            sessions  last_session_memes  ...  interface_lang clusters\n",
              "user_id                                   ...                         \n",
              "1235209430         3                   4  ...               1        1\n",
              "113584040          1                   1  ...               0        0\n",
              "1142713343         1                   1  ...               1        1\n",
              "187967374          2                   5  ...               0        0\n",
              "923016092         39                   1  ...               1        1\n",
              "\n",
              "[5 rows x 5 columns]"
            ]
          },
          "metadata": {
            "tags": []
          },
          "execution_count": 73
        }
      ]
    },
    {
      "cell_type": "markdown",
      "metadata": {
        "id": "-wmIHaggzB54"
      },
      "source": [
        "## Объединение датасэтов"
      ]
    },
    {
      "cell_type": "code",
      "metadata": {
        "id": "4HPpOj7xwDe_"
      },
      "source": [
        ""
      ],
      "execution_count": null,
      "outputs": []
    },
    {
      "cell_type": "code",
      "metadata": {
        "colab": {
          "base_uri": "https://localhost:8080/",
          "height": 388
        },
        "id": "jmCrW6ehwDXS",
        "outputId": "3f69bce3-b884-4c47-b346-5fc0a7dc2cd3"
      },
      "source": [
        "event_meme = pd.merge(event, meme, on = 'meme_id')\n",
        "event_meme_user = pd.merge(event_meme, user, on = 'user_id')\n",
        "event_meme_user.rename(columns={'clusters_x' : 'clusters_meme', 'clusters_y' : 'clusters_user'})"
      ],
      "execution_count": 88,
      "outputs": [
        {
          "output_type": "execute_result",
          "data": {
            "text/html": [
              "<div>\n",
              "<style scoped>\n",
              "    .dataframe tbody tr th:only-of-type {\n",
              "        vertical-align: middle;\n",
              "    }\n",
              "\n",
              "    .dataframe tbody tr th {\n",
              "        vertical-align: top;\n",
              "    }\n",
              "\n",
              "    .dataframe thead th {\n",
              "        text-align: right;\n",
              "    }\n",
              "</style>\n",
              "<table border=\"1\" class=\"dataframe\">\n",
              "  <thead>\n",
              "    <tr style=\"text-align: right;\">\n",
              "      <th></th>\n",
              "      <th>event_id</th>\n",
              "      <th>reaction_id</th>\n",
              "      <th>meme_id</th>\n",
              "      <th>user_id</th>\n",
              "      <th>published_at2021</th>\n",
              "      <th>content_lang</th>\n",
              "      <th>is_available</th>\n",
              "      <th>likes</th>\n",
              "      <th>dislikes</th>\n",
              "      <th>source_id</th>\n",
              "      <th>content_text</th>\n",
              "      <th>language_id</th>\n",
              "      <th>meme_type_animation</th>\n",
              "      <th>meme_type_photo</th>\n",
              "      <th>meme_type_video</th>\n",
              "      <th>source_grouped</th>\n",
              "      <th>clusters_x</th>\n",
              "      <th>sessions</th>\n",
              "      <th>last_session_memes</th>\n",
              "      <th>watched_memes</th>\n",
              "      <th>interface_lang</th>\n",
              "      <th>clusters_y</th>\n",
              "    </tr>\n",
              "  </thead>\n",
              "  <tbody>\n",
              "    <tr>\n",
              "      <th>0</th>\n",
              "      <td>1569409</td>\n",
              "      <td>1.0</td>\n",
              "      <td>9197</td>\n",
              "      <td>1153946021</td>\n",
              "      <td>0</td>\n",
              "      <td>0</td>\n",
              "      <td>1</td>\n",
              "      <td>554</td>\n",
              "      <td>600</td>\n",
              "      <td>46.0</td>\n",
              "      <td>1</td>\n",
              "      <td>2.0</td>\n",
              "      <td>0</td>\n",
              "      <td>1</td>\n",
              "      <td>0</td>\n",
              "      <td>0</td>\n",
              "      <td>0</td>\n",
              "      <td>39</td>\n",
              "      <td>1</td>\n",
              "      <td>636</td>\n",
              "      <td>0</td>\n",
              "      <td>0</td>\n",
              "    </tr>\n",
              "    <tr>\n",
              "      <th>1</th>\n",
              "      <td>1563971</td>\n",
              "      <td>1.0</td>\n",
              "      <td>46731</td>\n",
              "      <td>1153946021</td>\n",
              "      <td>0</td>\n",
              "      <td>0</td>\n",
              "      <td>1</td>\n",
              "      <td>1660</td>\n",
              "      <td>1154</td>\n",
              "      <td>8.0</td>\n",
              "      <td>1</td>\n",
              "      <td>2.0</td>\n",
              "      <td>0</td>\n",
              "      <td>1</td>\n",
              "      <td>0</td>\n",
              "      <td>0</td>\n",
              "      <td>0</td>\n",
              "      <td>39</td>\n",
              "      <td>1</td>\n",
              "      <td>636</td>\n",
              "      <td>0</td>\n",
              "      <td>0</td>\n",
              "    </tr>\n",
              "    <tr>\n",
              "      <th>2</th>\n",
              "      <td>1564013</td>\n",
              "      <td>1.0</td>\n",
              "      <td>49571</td>\n",
              "      <td>1153946021</td>\n",
              "      <td>0</td>\n",
              "      <td>0</td>\n",
              "      <td>1</td>\n",
              "      <td>839</td>\n",
              "      <td>381</td>\n",
              "      <td>21.0</td>\n",
              "      <td>1</td>\n",
              "      <td>2.0</td>\n",
              "      <td>0</td>\n",
              "      <td>1</td>\n",
              "      <td>0</td>\n",
              "      <td>0</td>\n",
              "      <td>0</td>\n",
              "      <td>39</td>\n",
              "      <td>1</td>\n",
              "      <td>636</td>\n",
              "      <td>0</td>\n",
              "      <td>0</td>\n",
              "    </tr>\n",
              "    <tr>\n",
              "      <th>3</th>\n",
              "      <td>1569414</td>\n",
              "      <td>1.0</td>\n",
              "      <td>53977</td>\n",
              "      <td>1153946021</td>\n",
              "      <td>0</td>\n",
              "      <td>0</td>\n",
              "      <td>1</td>\n",
              "      <td>564</td>\n",
              "      <td>260</td>\n",
              "      <td>21.0</td>\n",
              "      <td>1</td>\n",
              "      <td>2.0</td>\n",
              "      <td>0</td>\n",
              "      <td>1</td>\n",
              "      <td>0</td>\n",
              "      <td>0</td>\n",
              "      <td>0</td>\n",
              "      <td>39</td>\n",
              "      <td>1</td>\n",
              "      <td>636</td>\n",
              "      <td>0</td>\n",
              "      <td>0</td>\n",
              "    </tr>\n",
              "    <tr>\n",
              "      <th>4</th>\n",
              "      <td>1569391</td>\n",
              "      <td>1.0</td>\n",
              "      <td>58789</td>\n",
              "      <td>1153946021</td>\n",
              "      <td>0</td>\n",
              "      <td>0</td>\n",
              "      <td>1</td>\n",
              "      <td>466</td>\n",
              "      <td>212</td>\n",
              "      <td>21.0</td>\n",
              "      <td>1</td>\n",
              "      <td>2.0</td>\n",
              "      <td>0</td>\n",
              "      <td>1</td>\n",
              "      <td>0</td>\n",
              "      <td>0</td>\n",
              "      <td>0</td>\n",
              "      <td>39</td>\n",
              "      <td>1</td>\n",
              "      <td>636</td>\n",
              "      <td>0</td>\n",
              "      <td>0</td>\n",
              "    </tr>\n",
              "    <tr>\n",
              "      <th>...</th>\n",
              "      <td>...</td>\n",
              "      <td>...</td>\n",
              "      <td>...</td>\n",
              "      <td>...</td>\n",
              "      <td>...</td>\n",
              "      <td>...</td>\n",
              "      <td>...</td>\n",
              "      <td>...</td>\n",
              "      <td>...</td>\n",
              "      <td>...</td>\n",
              "      <td>...</td>\n",
              "      <td>...</td>\n",
              "      <td>...</td>\n",
              "      <td>...</td>\n",
              "      <td>...</td>\n",
              "      <td>...</td>\n",
              "      <td>...</td>\n",
              "      <td>...</td>\n",
              "      <td>...</td>\n",
              "      <td>...</td>\n",
              "      <td>...</td>\n",
              "      <td>...</td>\n",
              "    </tr>\n",
              "    <tr>\n",
              "      <th>9741065</th>\n",
              "      <td>9140450</td>\n",
              "      <td>2.0</td>\n",
              "      <td>89872</td>\n",
              "      <td>1350802492</td>\n",
              "      <td>1</td>\n",
              "      <td>2</td>\n",
              "      <td>1</td>\n",
              "      <td>10</td>\n",
              "      <td>15</td>\n",
              "      <td>117.0</td>\n",
              "      <td>0</td>\n",
              "      <td>2.0</td>\n",
              "      <td>0</td>\n",
              "      <td>1</td>\n",
              "      <td>0</td>\n",
              "      <td>1</td>\n",
              "      <td>2</td>\n",
              "      <td>1</td>\n",
              "      <td>8</td>\n",
              "      <td>7</td>\n",
              "      <td>0</td>\n",
              "      <td>0</td>\n",
              "    </tr>\n",
              "    <tr>\n",
              "      <th>9741066</th>\n",
              "      <td>9150545</td>\n",
              "      <td>1.0</td>\n",
              "      <td>89776</td>\n",
              "      <td>566881811</td>\n",
              "      <td>1</td>\n",
              "      <td>2</td>\n",
              "      <td>1</td>\n",
              "      <td>291</td>\n",
              "      <td>140</td>\n",
              "      <td>82.0</td>\n",
              "      <td>0</td>\n",
              "      <td>2.0</td>\n",
              "      <td>0</td>\n",
              "      <td>1</td>\n",
              "      <td>0</td>\n",
              "      <td>1</td>\n",
              "      <td>2</td>\n",
              "      <td>1</td>\n",
              "      <td>1</td>\n",
              "      <td>0</td>\n",
              "      <td>0</td>\n",
              "      <td>0</td>\n",
              "    </tr>\n",
              "    <tr>\n",
              "      <th>9741067</th>\n",
              "      <td>9207987</td>\n",
              "      <td>1.0</td>\n",
              "      <td>90201</td>\n",
              "      <td>30495324</td>\n",
              "      <td>1</td>\n",
              "      <td>2</td>\n",
              "      <td>1</td>\n",
              "      <td>55</td>\n",
              "      <td>42</td>\n",
              "      <td>9.0</td>\n",
              "      <td>0</td>\n",
              "      <td>2.0</td>\n",
              "      <td>0</td>\n",
              "      <td>1</td>\n",
              "      <td>0</td>\n",
              "      <td>0</td>\n",
              "      <td>2</td>\n",
              "      <td>1</td>\n",
              "      <td>3</td>\n",
              "      <td>2</td>\n",
              "      <td>0</td>\n",
              "      <td>0</td>\n",
              "    </tr>\n",
              "    <tr>\n",
              "      <th>9741068</th>\n",
              "      <td>9207969</td>\n",
              "      <td>2.0</td>\n",
              "      <td>90174</td>\n",
              "      <td>30495324</td>\n",
              "      <td>1</td>\n",
              "      <td>2</td>\n",
              "      <td>1</td>\n",
              "      <td>221</td>\n",
              "      <td>107</td>\n",
              "      <td>82.0</td>\n",
              "      <td>0</td>\n",
              "      <td>2.0</td>\n",
              "      <td>0</td>\n",
              "      <td>1</td>\n",
              "      <td>0</td>\n",
              "      <td>1</td>\n",
              "      <td>2</td>\n",
              "      <td>1</td>\n",
              "      <td>3</td>\n",
              "      <td>2</td>\n",
              "      <td>0</td>\n",
              "      <td>0</td>\n",
              "    </tr>\n",
              "    <tr>\n",
              "      <th>9741069</th>\n",
              "      <td>9207981</td>\n",
              "      <td>2.0</td>\n",
              "      <td>90173</td>\n",
              "      <td>30495324</td>\n",
              "      <td>1</td>\n",
              "      <td>2</td>\n",
              "      <td>1</td>\n",
              "      <td>198</td>\n",
              "      <td>95</td>\n",
              "      <td>82.0</td>\n",
              "      <td>0</td>\n",
              "      <td>2.0</td>\n",
              "      <td>0</td>\n",
              "      <td>1</td>\n",
              "      <td>0</td>\n",
              "      <td>1</td>\n",
              "      <td>2</td>\n",
              "      <td>1</td>\n",
              "      <td>3</td>\n",
              "      <td>2</td>\n",
              "      <td>0</td>\n",
              "      <td>0</td>\n",
              "    </tr>\n",
              "  </tbody>\n",
              "</table>\n",
              "<p>9741070 rows × 22 columns</p>\n",
              "</div>"
            ],
            "text/plain": [
              "         event_id  reaction_id  ...  interface_lang  clusters_y\n",
              "0         1569409          1.0  ...               0           0\n",
              "1         1563971          1.0  ...               0           0\n",
              "2         1564013          1.0  ...               0           0\n",
              "3         1569414          1.0  ...               0           0\n",
              "4         1569391          1.0  ...               0           0\n",
              "...           ...          ...  ...             ...         ...\n",
              "9741065   9140450          2.0  ...               0           0\n",
              "9741066   9150545          1.0  ...               0           0\n",
              "9741067   9207987          1.0  ...               0           0\n",
              "9741068   9207969          2.0  ...               0           0\n",
              "9741069   9207981          2.0  ...               0           0\n",
              "\n",
              "[9741070 rows x 22 columns]"
            ]
          },
          "metadata": {
            "tags": []
          },
          "execution_count": 88
        }
      ]
    },
    {
      "cell_type": "code",
      "metadata": {
        "id": "jFYUvwVcwvd_"
      },
      "source": [
        "event_meme_user.rename(columns={'clusters_x' : 'clusters_meme', 'clusters_y' : 'clusters_user'}, inplace = True)"
      ],
      "execution_count": 91,
      "outputs": []
    },
    {
      "cell_type": "code",
      "metadata": {
        "colab": {
          "base_uri": "https://localhost:8080/",
          "height": 189
        },
        "id": "yk-MNagexm4-",
        "outputId": "df5c6a20-f157-4f96-c3bc-f33060f4b878"
      },
      "source": [
        "event_meme_user.head()"
      ],
      "execution_count": 92,
      "outputs": [
        {
          "output_type": "execute_result",
          "data": {
            "text/html": [
              "<div>\n",
              "<style scoped>\n",
              "    .dataframe tbody tr th:only-of-type {\n",
              "        vertical-align: middle;\n",
              "    }\n",
              "\n",
              "    .dataframe tbody tr th {\n",
              "        vertical-align: top;\n",
              "    }\n",
              "\n",
              "    .dataframe thead th {\n",
              "        text-align: right;\n",
              "    }\n",
              "</style>\n",
              "<table border=\"1\" class=\"dataframe\">\n",
              "  <thead>\n",
              "    <tr style=\"text-align: right;\">\n",
              "      <th></th>\n",
              "      <th>event_id</th>\n",
              "      <th>reaction_id</th>\n",
              "      <th>meme_id</th>\n",
              "      <th>user_id</th>\n",
              "      <th>published_at2021</th>\n",
              "      <th>content_lang</th>\n",
              "      <th>is_available</th>\n",
              "      <th>likes</th>\n",
              "      <th>dislikes</th>\n",
              "      <th>source_id</th>\n",
              "      <th>content_text</th>\n",
              "      <th>language_id</th>\n",
              "      <th>meme_type_animation</th>\n",
              "      <th>meme_type_photo</th>\n",
              "      <th>meme_type_video</th>\n",
              "      <th>source_grouped</th>\n",
              "      <th>clusters_meme</th>\n",
              "      <th>sessions</th>\n",
              "      <th>last_session_memes</th>\n",
              "      <th>watched_memes</th>\n",
              "      <th>interface_lang</th>\n",
              "      <th>clusters_user</th>\n",
              "    </tr>\n",
              "  </thead>\n",
              "  <tbody>\n",
              "    <tr>\n",
              "      <th>0</th>\n",
              "      <td>1569409</td>\n",
              "      <td>1.0</td>\n",
              "      <td>9197</td>\n",
              "      <td>1153946021</td>\n",
              "      <td>0</td>\n",
              "      <td>0</td>\n",
              "      <td>1</td>\n",
              "      <td>554</td>\n",
              "      <td>600</td>\n",
              "      <td>46.0</td>\n",
              "      <td>1</td>\n",
              "      <td>2.0</td>\n",
              "      <td>0</td>\n",
              "      <td>1</td>\n",
              "      <td>0</td>\n",
              "      <td>0</td>\n",
              "      <td>0</td>\n",
              "      <td>39</td>\n",
              "      <td>1</td>\n",
              "      <td>636</td>\n",
              "      <td>0</td>\n",
              "      <td>0</td>\n",
              "    </tr>\n",
              "    <tr>\n",
              "      <th>1</th>\n",
              "      <td>1563971</td>\n",
              "      <td>1.0</td>\n",
              "      <td>46731</td>\n",
              "      <td>1153946021</td>\n",
              "      <td>0</td>\n",
              "      <td>0</td>\n",
              "      <td>1</td>\n",
              "      <td>1660</td>\n",
              "      <td>1154</td>\n",
              "      <td>8.0</td>\n",
              "      <td>1</td>\n",
              "      <td>2.0</td>\n",
              "      <td>0</td>\n",
              "      <td>1</td>\n",
              "      <td>0</td>\n",
              "      <td>0</td>\n",
              "      <td>0</td>\n",
              "      <td>39</td>\n",
              "      <td>1</td>\n",
              "      <td>636</td>\n",
              "      <td>0</td>\n",
              "      <td>0</td>\n",
              "    </tr>\n",
              "    <tr>\n",
              "      <th>2</th>\n",
              "      <td>1564013</td>\n",
              "      <td>1.0</td>\n",
              "      <td>49571</td>\n",
              "      <td>1153946021</td>\n",
              "      <td>0</td>\n",
              "      <td>0</td>\n",
              "      <td>1</td>\n",
              "      <td>839</td>\n",
              "      <td>381</td>\n",
              "      <td>21.0</td>\n",
              "      <td>1</td>\n",
              "      <td>2.0</td>\n",
              "      <td>0</td>\n",
              "      <td>1</td>\n",
              "      <td>0</td>\n",
              "      <td>0</td>\n",
              "      <td>0</td>\n",
              "      <td>39</td>\n",
              "      <td>1</td>\n",
              "      <td>636</td>\n",
              "      <td>0</td>\n",
              "      <td>0</td>\n",
              "    </tr>\n",
              "    <tr>\n",
              "      <th>3</th>\n",
              "      <td>1569414</td>\n",
              "      <td>1.0</td>\n",
              "      <td>53977</td>\n",
              "      <td>1153946021</td>\n",
              "      <td>0</td>\n",
              "      <td>0</td>\n",
              "      <td>1</td>\n",
              "      <td>564</td>\n",
              "      <td>260</td>\n",
              "      <td>21.0</td>\n",
              "      <td>1</td>\n",
              "      <td>2.0</td>\n",
              "      <td>0</td>\n",
              "      <td>1</td>\n",
              "      <td>0</td>\n",
              "      <td>0</td>\n",
              "      <td>0</td>\n",
              "      <td>39</td>\n",
              "      <td>1</td>\n",
              "      <td>636</td>\n",
              "      <td>0</td>\n",
              "      <td>0</td>\n",
              "    </tr>\n",
              "    <tr>\n",
              "      <th>4</th>\n",
              "      <td>1569391</td>\n",
              "      <td>1.0</td>\n",
              "      <td>58789</td>\n",
              "      <td>1153946021</td>\n",
              "      <td>0</td>\n",
              "      <td>0</td>\n",
              "      <td>1</td>\n",
              "      <td>466</td>\n",
              "      <td>212</td>\n",
              "      <td>21.0</td>\n",
              "      <td>1</td>\n",
              "      <td>2.0</td>\n",
              "      <td>0</td>\n",
              "      <td>1</td>\n",
              "      <td>0</td>\n",
              "      <td>0</td>\n",
              "      <td>0</td>\n",
              "      <td>39</td>\n",
              "      <td>1</td>\n",
              "      <td>636</td>\n",
              "      <td>0</td>\n",
              "      <td>0</td>\n",
              "    </tr>\n",
              "  </tbody>\n",
              "</table>\n",
              "</div>"
            ],
            "text/plain": [
              "   event_id  reaction_id  meme_id  ...  watched_memes  interface_lang clusters_user\n",
              "0   1569409          1.0     9197  ...            636               0             0\n",
              "1   1563971          1.0    46731  ...            636               0             0\n",
              "2   1564013          1.0    49571  ...            636               0             0\n",
              "3   1569414          1.0    53977  ...            636               0             0\n",
              "4   1569391          1.0    58789  ...            636               0             0\n",
              "\n",
              "[5 rows x 22 columns]"
            ]
          },
          "metadata": {
            "tags": []
          },
          "execution_count": 92
        }
      ]
    }
  ]
}