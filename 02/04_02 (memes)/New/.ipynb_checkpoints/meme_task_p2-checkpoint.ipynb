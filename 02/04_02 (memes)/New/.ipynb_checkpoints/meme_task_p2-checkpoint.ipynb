{
 "cells": [
  {
   "cell_type": "markdown",
   "metadata": {
    "id": "7v5iVvXFcvy5"
   },
   "source": [
    "# Продолжнеие работы"
   ]
  },
  {
   "cell_type": "markdown",
   "metadata": {
    "id": "bkDSVnlrcym9"
   },
   "source": [
    "## Прогнозирование лайка/дизлайка"
   ]
  },
  {
   "cell_type": "code",
   "execution_count": 1,
   "metadata": {
    "id": "kt-vYngu9ePq"
   },
   "outputs": [],
   "source": [
    "import pandas as pd\n",
    "import numpy as np\n",
    "import matplotlib.pyplot as plt"
   ]
  },
  {
   "cell_type": "code",
   "execution_count": 2,
   "metadata": {
    "id": "ttX5_4o897og"
   },
   "outputs": [],
   "source": [
    "path = 'drive/MyDrive/DS/meme'"
   ]
  },
  {
   "cell_type": "code",
   "execution_count": 3,
   "metadata": {
    "id": "ZKNpxZdS9qtd"
   },
   "outputs": [],
   "source": [
    "#df = pd.read_csv(path+'/splitted_reactions_df10.csv', index_col = 0)\n",
    "df = pd.read_csv('splitted_reactions_df25.csv', index_col = 0)"
   ]
  },
  {
   "cell_type": "code",
   "execution_count": 4,
   "metadata": {
    "colab": {
     "base_uri": "https://localhost:8080/",
     "height": 436
    },
    "id": "-SNbAjUt-GSg",
    "outputId": "7e094a1a-1d39-407f-86e3-f795f1800221"
   },
   "outputs": [
    {
     "data": {
      "text/html": [
       "<div>\n",
       "<style scoped>\n",
       "    .dataframe tbody tr th:only-of-type {\n",
       "        vertical-align: middle;\n",
       "    }\n",
       "\n",
       "    .dataframe tbody tr th {\n",
       "        vertical-align: top;\n",
       "    }\n",
       "\n",
       "    .dataframe thead th {\n",
       "        text-align: right;\n",
       "    }\n",
       "</style>\n",
       "<table border=\"1\" class=\"dataframe\">\n",
       "  <thead>\n",
       "    <tr style=\"text-align: right;\">\n",
       "      <th></th>\n",
       "      <th>event_id</th>\n",
       "      <th>reaction_id</th>\n",
       "      <th>meme_id</th>\n",
       "      <th>user_id</th>\n",
       "      <th>published_at2021</th>\n",
       "      <th>content_lang</th>\n",
       "      <th>is_available</th>\n",
       "      <th>likes</th>\n",
       "      <th>dislikes</th>\n",
       "      <th>source_id</th>\n",
       "      <th>...</th>\n",
       "      <th>meme_type_animation</th>\n",
       "      <th>meme_type_photo</th>\n",
       "      <th>meme_type_video</th>\n",
       "      <th>source_grouped</th>\n",
       "      <th>clusters_meme</th>\n",
       "      <th>sessions</th>\n",
       "      <th>last_session_memes</th>\n",
       "      <th>watched_memes</th>\n",
       "      <th>interface_lang</th>\n",
       "      <th>clusters_user</th>\n",
       "    </tr>\n",
       "  </thead>\n",
       "  <tbody>\n",
       "    <tr>\n",
       "      <th>7308559</th>\n",
       "      <td>5448568</td>\n",
       "      <td>1.0</td>\n",
       "      <td>39935</td>\n",
       "      <td>2097345</td>\n",
       "      <td>0</td>\n",
       "      <td>1</td>\n",
       "      <td>1</td>\n",
       "      <td>27</td>\n",
       "      <td>33</td>\n",
       "      <td>75.0</td>\n",
       "      <td>...</td>\n",
       "      <td>0</td>\n",
       "      <td>1</td>\n",
       "      <td>0</td>\n",
       "      <td>2</td>\n",
       "      <td>0</td>\n",
       "      <td>63</td>\n",
       "      <td>1</td>\n",
       "      <td>1225</td>\n",
       "      <td>0</td>\n",
       "      <td>0</td>\n",
       "    </tr>\n",
       "    <tr>\n",
       "      <th>7453267</th>\n",
       "      <td>1913244</td>\n",
       "      <td>1.0</td>\n",
       "      <td>6133</td>\n",
       "      <td>114294768</td>\n",
       "      <td>0</td>\n",
       "      <td>0</td>\n",
       "      <td>1</td>\n",
       "      <td>427</td>\n",
       "      <td>195</td>\n",
       "      <td>21.0</td>\n",
       "      <td>...</td>\n",
       "      <td>0</td>\n",
       "      <td>1</td>\n",
       "      <td>0</td>\n",
       "      <td>0</td>\n",
       "      <td>0</td>\n",
       "      <td>41</td>\n",
       "      <td>1</td>\n",
       "      <td>105</td>\n",
       "      <td>0</td>\n",
       "      <td>0</td>\n",
       "    </tr>\n",
       "    <tr>\n",
       "      <th>314351</th>\n",
       "      <td>2737228</td>\n",
       "      <td>1.0</td>\n",
       "      <td>16821</td>\n",
       "      <td>806867</td>\n",
       "      <td>0</td>\n",
       "      <td>0</td>\n",
       "      <td>1</td>\n",
       "      <td>52</td>\n",
       "      <td>69</td>\n",
       "      <td>16.0</td>\n",
       "      <td>...</td>\n",
       "      <td>0</td>\n",
       "      <td>1</td>\n",
       "      <td>0</td>\n",
       "      <td>1</td>\n",
       "      <td>0</td>\n",
       "      <td>64</td>\n",
       "      <td>1</td>\n",
       "      <td>27842</td>\n",
       "      <td>0</td>\n",
       "      <td>0</td>\n",
       "    </tr>\n",
       "    <tr>\n",
       "      <th>5049912</th>\n",
       "      <td>6291582</td>\n",
       "      <td>1.0</td>\n",
       "      <td>35081</td>\n",
       "      <td>189249608</td>\n",
       "      <td>0</td>\n",
       "      <td>1</td>\n",
       "      <td>1</td>\n",
       "      <td>955</td>\n",
       "      <td>373</td>\n",
       "      <td>75.0</td>\n",
       "      <td>...</td>\n",
       "      <td>0</td>\n",
       "      <td>1</td>\n",
       "      <td>0</td>\n",
       "      <td>2</td>\n",
       "      <td>0</td>\n",
       "      <td>34</td>\n",
       "      <td>4</td>\n",
       "      <td>224</td>\n",
       "      <td>0</td>\n",
       "      <td>0</td>\n",
       "    </tr>\n",
       "    <tr>\n",
       "      <th>8251920</th>\n",
       "      <td>4373217</td>\n",
       "      <td>1.0</td>\n",
       "      <td>60558</td>\n",
       "      <td>116570969</td>\n",
       "      <td>0</td>\n",
       "      <td>0</td>\n",
       "      <td>1</td>\n",
       "      <td>628</td>\n",
       "      <td>285</td>\n",
       "      <td>21.0</td>\n",
       "      <td>...</td>\n",
       "      <td>0</td>\n",
       "      <td>1</td>\n",
       "      <td>0</td>\n",
       "      <td>0</td>\n",
       "      <td>0</td>\n",
       "      <td>37</td>\n",
       "      <td>3</td>\n",
       "      <td>42</td>\n",
       "      <td>0</td>\n",
       "      <td>0</td>\n",
       "    </tr>\n",
       "    <tr>\n",
       "      <th>...</th>\n",
       "      <td>...</td>\n",
       "      <td>...</td>\n",
       "      <td>...</td>\n",
       "      <td>...</td>\n",
       "      <td>...</td>\n",
       "      <td>...</td>\n",
       "      <td>...</td>\n",
       "      <td>...</td>\n",
       "      <td>...</td>\n",
       "      <td>...</td>\n",
       "      <td>...</td>\n",
       "      <td>...</td>\n",
       "      <td>...</td>\n",
       "      <td>...</td>\n",
       "      <td>...</td>\n",
       "      <td>...</td>\n",
       "      <td>...</td>\n",
       "      <td>...</td>\n",
       "      <td>...</td>\n",
       "      <td>...</td>\n",
       "      <td>...</td>\n",
       "    </tr>\n",
       "    <tr>\n",
       "      <th>1956047</th>\n",
       "      <td>4708610</td>\n",
       "      <td>2.0</td>\n",
       "      <td>9065</td>\n",
       "      <td>884385097</td>\n",
       "      <td>0</td>\n",
       "      <td>0</td>\n",
       "      <td>1</td>\n",
       "      <td>176</td>\n",
       "      <td>183</td>\n",
       "      <td>22.0</td>\n",
       "      <td>...</td>\n",
       "      <td>0</td>\n",
       "      <td>1</td>\n",
       "      <td>0</td>\n",
       "      <td>0</td>\n",
       "      <td>0</td>\n",
       "      <td>203</td>\n",
       "      <td>4</td>\n",
       "      <td>12149</td>\n",
       "      <td>0</td>\n",
       "      <td>0</td>\n",
       "    </tr>\n",
       "    <tr>\n",
       "      <th>9634334</th>\n",
       "      <td>6886699</td>\n",
       "      <td>2.0</td>\n",
       "      <td>70057</td>\n",
       "      <td>334735928</td>\n",
       "      <td>0</td>\n",
       "      <td>0</td>\n",
       "      <td>1</td>\n",
       "      <td>682</td>\n",
       "      <td>650</td>\n",
       "      <td>110.0</td>\n",
       "      <td>...</td>\n",
       "      <td>0</td>\n",
       "      <td>1</td>\n",
       "      <td>0</td>\n",
       "      <td>3</td>\n",
       "      <td>0</td>\n",
       "      <td>37</td>\n",
       "      <td>1</td>\n",
       "      <td>12</td>\n",
       "      <td>0</td>\n",
       "      <td>0</td>\n",
       "    </tr>\n",
       "    <tr>\n",
       "      <th>9597394</th>\n",
       "      <td>1874335</td>\n",
       "      <td>2.0</td>\n",
       "      <td>37400</td>\n",
       "      <td>325757506</td>\n",
       "      <td>0</td>\n",
       "      <td>1</td>\n",
       "      <td>1</td>\n",
       "      <td>517</td>\n",
       "      <td>279</td>\n",
       "      <td>78.0</td>\n",
       "      <td>...</td>\n",
       "      <td>0</td>\n",
       "      <td>1</td>\n",
       "      <td>0</td>\n",
       "      <td>2</td>\n",
       "      <td>0</td>\n",
       "      <td>1</td>\n",
       "      <td>50</td>\n",
       "      <td>50</td>\n",
       "      <td>1</td>\n",
       "      <td>1</td>\n",
       "    </tr>\n",
       "    <tr>\n",
       "      <th>3769524</th>\n",
       "      <td>9426983</td>\n",
       "      <td>2.0</td>\n",
       "      <td>91262</td>\n",
       "      <td>85305914</td>\n",
       "      <td>1</td>\n",
       "      <td>2</td>\n",
       "      <td>1</td>\n",
       "      <td>7</td>\n",
       "      <td>16</td>\n",
       "      <td>16.0</td>\n",
       "      <td>...</td>\n",
       "      <td>0</td>\n",
       "      <td>1</td>\n",
       "      <td>0</td>\n",
       "      <td>1</td>\n",
       "      <td>2</td>\n",
       "      <td>76</td>\n",
       "      <td>3</td>\n",
       "      <td>5533</td>\n",
       "      <td>0</td>\n",
       "      <td>0</td>\n",
       "    </tr>\n",
       "    <tr>\n",
       "      <th>2722240</th>\n",
       "      <td>8061957</td>\n",
       "      <td>2.0</td>\n",
       "      <td>83612</td>\n",
       "      <td>515944547</td>\n",
       "      <td>1</td>\n",
       "      <td>1</td>\n",
       "      <td>1</td>\n",
       "      <td>9</td>\n",
       "      <td>15</td>\n",
       "      <td>2.0</td>\n",
       "      <td>...</td>\n",
       "      <td>0</td>\n",
       "      <td>1</td>\n",
       "      <td>0</td>\n",
       "      <td>1</td>\n",
       "      <td>0</td>\n",
       "      <td>148</td>\n",
       "      <td>31</td>\n",
       "      <td>13466</td>\n",
       "      <td>0</td>\n",
       "      <td>0</td>\n",
       "    </tr>\n",
       "  </tbody>\n",
       "</table>\n",
       "<p>389644 rows × 22 columns</p>\n",
       "</div>"
      ],
      "text/plain": [
       "         event_id  reaction_id  meme_id    user_id  published_at2021  \\\n",
       "7308559   5448568          1.0    39935    2097345                 0   \n",
       "7453267   1913244          1.0     6133  114294768                 0   \n",
       "314351    2737228          1.0    16821     806867                 0   \n",
       "5049912   6291582          1.0    35081  189249608                 0   \n",
       "8251920   4373217          1.0    60558  116570969                 0   \n",
       "...           ...          ...      ...        ...               ...   \n",
       "1956047   4708610          2.0     9065  884385097                 0   \n",
       "9634334   6886699          2.0    70057  334735928                 0   \n",
       "9597394   1874335          2.0    37400  325757506                 0   \n",
       "3769524   9426983          2.0    91262   85305914                 1   \n",
       "2722240   8061957          2.0    83612  515944547                 1   \n",
       "\n",
       "         content_lang  is_available  likes  dislikes  source_id  ...  \\\n",
       "7308559             1             1     27        33       75.0  ...   \n",
       "7453267             0             1    427       195       21.0  ...   \n",
       "314351              0             1     52        69       16.0  ...   \n",
       "5049912             1             1    955       373       75.0  ...   \n",
       "8251920             0             1    628       285       21.0  ...   \n",
       "...               ...           ...    ...       ...        ...  ...   \n",
       "1956047             0             1    176       183       22.0  ...   \n",
       "9634334             0             1    682       650      110.0  ...   \n",
       "9597394             1             1    517       279       78.0  ...   \n",
       "3769524             2             1      7        16       16.0  ...   \n",
       "2722240             1             1      9        15        2.0  ...   \n",
       "\n",
       "         meme_type_animation  meme_type_photo  meme_type_video  \\\n",
       "7308559                    0                1                0   \n",
       "7453267                    0                1                0   \n",
       "314351                     0                1                0   \n",
       "5049912                    0                1                0   \n",
       "8251920                    0                1                0   \n",
       "...                      ...              ...              ...   \n",
       "1956047                    0                1                0   \n",
       "9634334                    0                1                0   \n",
       "9597394                    0                1                0   \n",
       "3769524                    0                1                0   \n",
       "2722240                    0                1                0   \n",
       "\n",
       "         source_grouped  clusters_meme  sessions  last_session_memes  \\\n",
       "7308559               2              0        63                   1   \n",
       "7453267               0              0        41                   1   \n",
       "314351                1              0        64                   1   \n",
       "5049912               2              0        34                   4   \n",
       "8251920               0              0        37                   3   \n",
       "...                 ...            ...       ...                 ...   \n",
       "1956047               0              0       203                   4   \n",
       "9634334               3              0        37                   1   \n",
       "9597394               2              0         1                  50   \n",
       "3769524               1              2        76                   3   \n",
       "2722240               1              0       148                  31   \n",
       "\n",
       "         watched_memes  interface_lang  clusters_user  \n",
       "7308559           1225               0              0  \n",
       "7453267            105               0              0  \n",
       "314351           27842               0              0  \n",
       "5049912            224               0              0  \n",
       "8251920             42               0              0  \n",
       "...                ...             ...            ...  \n",
       "1956047          12149               0              0  \n",
       "9634334             12               0              0  \n",
       "9597394             50               1              1  \n",
       "3769524           5533               0              0  \n",
       "2722240          13466               0              0  \n",
       "\n",
       "[389644 rows x 22 columns]"
      ]
     },
     "execution_count": 4,
     "metadata": {},
     "output_type": "execute_result"
    }
   ],
   "source": [
    "df"
   ]
  },
  {
   "cell_type": "code",
   "execution_count": 5,
   "metadata": {
    "colab": {
     "base_uri": "https://localhost:8080/"
    },
    "id": "xUPHz4Y8-M0F",
    "outputId": "f26c9727-fde1-4abd-f369-f4cc00b5233d"
   },
   "outputs": [
    {
     "data": {
      "text/plain": [
       "event_id               0\n",
       "reaction_id            0\n",
       "meme_id                0\n",
       "user_id                0\n",
       "published_at2021       0\n",
       "content_lang           0\n",
       "is_available           0\n",
       "likes                  0\n",
       "dislikes               0\n",
       "source_id              0\n",
       "content_text           0\n",
       "language_id            0\n",
       "meme_type_animation    0\n",
       "meme_type_photo        0\n",
       "meme_type_video        0\n",
       "source_grouped         0\n",
       "clusters_meme          0\n",
       "sessions               0\n",
       "last_session_memes     0\n",
       "watched_memes          0\n",
       "interface_lang         0\n",
       "clusters_user          0\n",
       "dtype: int64"
      ]
     },
     "execution_count": 5,
     "metadata": {},
     "output_type": "execute_result"
    }
   ],
   "source": [
    "df.isna().sum()"
   ]
  },
  {
   "cell_type": "code",
   "execution_count": 6,
   "metadata": {
    "id": "f2LOgwSZ-Wl0"
   },
   "outputs": [],
   "source": [
    "df.drop(columns = ['event_id', 'user_id', 'meme_id'], axis =1 , inplace = True)"
   ]
  },
  {
   "cell_type": "code",
   "execution_count": 7,
   "metadata": {
    "id": "TxitH9Ig_TQe"
   },
   "outputs": [],
   "source": [
    "X = df.iloc[:,1:]"
   ]
  },
  {
   "cell_type": "code",
   "execution_count": 8,
   "metadata": {
    "id": "rBHrtru4_Ym_"
   },
   "outputs": [],
   "source": [
    "y = df.iloc[:,0:1]"
   ]
  },
  {
   "cell_type": "code",
   "execution_count": 9,
   "metadata": {
    "colab": {
     "base_uri": "https://localhost:8080/",
     "height": 416
    },
    "id": "F9wLFYrzZLu6",
    "outputId": "f2c6be35-8cd4-470e-c50a-792c45de2e8a",
    "scrolled": true
   },
   "outputs": [
    {
     "data": {
      "text/html": [
       "<div>\n",
       "<style scoped>\n",
       "    .dataframe tbody tr th:only-of-type {\n",
       "        vertical-align: middle;\n",
       "    }\n",
       "\n",
       "    .dataframe tbody tr th {\n",
       "        vertical-align: top;\n",
       "    }\n",
       "\n",
       "    .dataframe thead th {\n",
       "        text-align: right;\n",
       "    }\n",
       "</style>\n",
       "<table border=\"1\" class=\"dataframe\">\n",
       "  <thead>\n",
       "    <tr style=\"text-align: right;\">\n",
       "      <th></th>\n",
       "      <th>reaction_id</th>\n",
       "    </tr>\n",
       "  </thead>\n",
       "  <tbody>\n",
       "    <tr>\n",
       "      <th>7308559</th>\n",
       "      <td>1.0</td>\n",
       "    </tr>\n",
       "    <tr>\n",
       "      <th>7453267</th>\n",
       "      <td>1.0</td>\n",
       "    </tr>\n",
       "    <tr>\n",
       "      <th>314351</th>\n",
       "      <td>1.0</td>\n",
       "    </tr>\n",
       "    <tr>\n",
       "      <th>5049912</th>\n",
       "      <td>1.0</td>\n",
       "    </tr>\n",
       "    <tr>\n",
       "      <th>8251920</th>\n",
       "      <td>1.0</td>\n",
       "    </tr>\n",
       "    <tr>\n",
       "      <th>...</th>\n",
       "      <td>...</td>\n",
       "    </tr>\n",
       "    <tr>\n",
       "      <th>1956047</th>\n",
       "      <td>2.0</td>\n",
       "    </tr>\n",
       "    <tr>\n",
       "      <th>9634334</th>\n",
       "      <td>2.0</td>\n",
       "    </tr>\n",
       "    <tr>\n",
       "      <th>9597394</th>\n",
       "      <td>2.0</td>\n",
       "    </tr>\n",
       "    <tr>\n",
       "      <th>3769524</th>\n",
       "      <td>2.0</td>\n",
       "    </tr>\n",
       "    <tr>\n",
       "      <th>2722240</th>\n",
       "      <td>2.0</td>\n",
       "    </tr>\n",
       "  </tbody>\n",
       "</table>\n",
       "<p>389644 rows × 1 columns</p>\n",
       "</div>"
      ],
      "text/plain": [
       "         reaction_id\n",
       "7308559          1.0\n",
       "7453267          1.0\n",
       "314351           1.0\n",
       "5049912          1.0\n",
       "8251920          1.0\n",
       "...              ...\n",
       "1956047          2.0\n",
       "9634334          2.0\n",
       "9597394          2.0\n",
       "3769524          2.0\n",
       "2722240          2.0\n",
       "\n",
       "[389644 rows x 1 columns]"
      ]
     },
     "execution_count": 9,
     "metadata": {},
     "output_type": "execute_result"
    }
   ],
   "source": [
    "y"
   ]
  },
  {
   "cell_type": "code",
   "execution_count": 10,
   "metadata": {
    "id": "JtjJxBW-C6WO"
   },
   "outputs": [],
   "source": [
    "from sklearn.model_selection import train_test_split"
   ]
  },
  {
   "cell_type": "code",
   "execution_count": 11,
   "metadata": {
    "id": "0YHBDdc6DBGt"
   },
   "outputs": [],
   "source": [
    "X_train, X_test, y_train, y_test = train_test_split(X, y, test_size = 0.2 , random_state = 1)"
   ]
  },
  {
   "cell_type": "markdown",
   "metadata": {},
   "source": [
    "Далее я решил протестировать, как себя ведут оригинальные, нормализованные и стандартизированные данные\n",
    "Для этого я использовал код из этой статьи: \n",
    "https://www.analyticsvidhya.com/blog/2020/04/feature-scaling-machine-learning-normalization-standardization/"
   ]
  },
  {
   "cell_type": "code",
   "execution_count": 12,
   "metadata": {
    "id": "tl_I6sOSHj70"
   },
   "outputs": [],
   "source": [
    "# data normalization with sklearn\n",
    "from sklearn.preprocessing import MinMaxScaler\n",
    "\n",
    "# fit scaler on training data\n",
    "norm = MinMaxScaler().fit(X_train)\n",
    "\n",
    "# transform training data\n",
    "X_train_norm = norm.transform(X_train)\n",
    "\n",
    "# transform testing dataabs\n",
    "X_test_norm = norm.transform(X_test)"
   ]
  },
  {
   "cell_type": "code",
   "execution_count": 13,
   "metadata": {
    "id": "OCXaaINlHj5n"
   },
   "outputs": [],
   "source": [
    "# data standardization with  sklearn\n",
    "from sklearn.preprocessing import StandardScaler\n",
    "\n",
    "# copy of datasets\n",
    "X_train_stand = X_train.copy()\n",
    "X_test_stand = X_test.copy()\n",
    "\n",
    "# numerical features\n",
    "num_cols = ['likes','dislikes','sessions','watched_memes']\n",
    "\n",
    "# apply standardization on numerical features\n",
    "for i in num_cols:\n",
    "    \n",
    "    # fit on training data column\n",
    "    scale = StandardScaler().fit(X_train_stand[[i]])\n",
    "    \n",
    "    # transform the training data column\n",
    "    X_train_stand[i] = scale.transform(X_train_stand[[i]])\n",
    "    \n",
    "    # transform the testing data column\n",
    "    X_test_stand[i] = scale.transform(X_test_stand[[i]])"
   ]
  },
  {
   "cell_type": "code",
   "execution_count": 14,
   "metadata": {
    "colab": {
     "base_uri": "https://localhost:8080/",
     "height": 414
    },
    "id": "Uep3FdgfHj2z",
    "outputId": "23bbeec4-760d-4cbb-d841-7d23d31321ed"
   },
   "outputs": [
    {
     "name": "stderr",
     "output_type": "stream",
     "text": [
      "<ipython-input-14-043ba3d7a088>:20: DataConversionWarning: A column-vector y was passed when a 1d array was expected. Please change the shape of y to (n_samples, ), for example using ravel().\n",
      "  knn.fit(trainX[i],y_train)\n",
      "<ipython-input-14-043ba3d7a088>:20: DataConversionWarning: A column-vector y was passed when a 1d array was expected. Please change the shape of y to (n_samples, ), for example using ravel().\n",
      "  knn.fit(trainX[i],y_train)\n",
      "<ipython-input-14-043ba3d7a088>:20: DataConversionWarning: A column-vector y was passed when a 1d array was expected. Please change the shape of y to (n_samples, ), for example using ravel().\n",
      "  knn.fit(trainX[i],y_train)\n"
     ]
    }
   ],
   "source": [
    "# training a KNN model\n",
    "from sklearn.neighbors import KNeighborsClassifier\n",
    "# measuring RMSE score\n",
    "from sklearn.metrics import mean_squared_error\n",
    "\n",
    "# knn \n",
    "knn = KNeighborsClassifier(n_neighbors=7) # Взял число из статьи без изменений\n",
    "\n",
    "rmse = []\n",
    "\n",
    "# raw, normalized and standardized training and testing data\n",
    "trainX = [X_train, X_train_norm, X_train_stand]\n",
    "testX = [X_test, X_test_norm, X_test_stand]\n",
    "pred = []\n",
    "\n",
    "# model fitting and measuring RMSE\n",
    "for i in range(len(trainX)):\n",
    "    \n",
    "    # fit\n",
    "    knn.fit(trainX[i],y_train)\n",
    "    # predict\n",
    "    pred.append(knn.predict(testX[i]))\n",
    "    # RMSE\n",
    "    rmse.append(np.sqrt(mean_squared_error(y_test,pred[i])))\n",
    "\n",
    "# visualizing the result\n",
    "#df_knn = pd.DataFrame({'RMSE':rmse},index=['Original','Normalized','Standardized'])\n",
    "#df_knn"
   ]
  },
  {
   "cell_type": "code",
   "execution_count": 15,
   "metadata": {
    "id": "tcfue0adHj0V"
   },
   "outputs": [],
   "source": [
    "#f_knn = pd.DataFrame({'RMSE':rmse},index=['Original','Normalized','Standardized'])\n",
    "#df_knn"
   ]
  },
  {
   "cell_type": "code",
   "execution_count": 16,
   "metadata": {
    "id": "hZOBa1yhHjxv"
   },
   "outputs": [
    {
     "data": {
      "text/plain": [
       "[0.533508089869922, 0.5708758323427108, 0.5668945683990769]"
      ]
     },
     "execution_count": 16,
     "metadata": {},
     "output_type": "execute_result"
    }
   ],
   "source": [
    "rmse "
   ]
  },
  {
   "cell_type": "markdown",
   "metadata": {
    "id": "PwXl_7INMm7N"
   },
   "source": [
    "В нашем случае, информация в оригинальном виде обладает меньшей ошибкой, чем в случае стандартизации"
   ]
  },
  {
   "cell_type": "markdown",
   "metadata": {
    "id": "yE4R8USldc5I"
   },
   "source": [
    "## Использование ROC AUC вместо RMSE"
   ]
  },
  {
   "cell_type": "markdown",
   "metadata": {
    "id": "HLa9kHILdMAV"
   },
   "source": [
    "Также для оценки решил изучить ROC-AUC CURVE.\n",
    "Источник того, как выполнял дальнейшие действия: https://colab.research.google.com/github/dataprofessor/code/blob/master/python/ROC_curve.ipynb "
   ]
  },
  {
   "cell_type": "markdown",
   "metadata": {
    "id": "bDR1EWnkScPX"
   },
   "source": [
    "## Prediction probabilities"
   ]
  },
  {
   "cell_type": "code",
   "execution_count": 17,
   "metadata": {
    "id": "5XDZk4kVSeQ_"
   },
   "outputs": [],
   "source": [
    "r_probs = [0 for _ in range(len(y_test))]\n",
    "knn_probs = []\n",
    "for i in range(len(trainX)):\n",
    "  knn_probs.append(knn.predict_proba(testX[i]))"
   ]
  },
  {
   "cell_type": "markdown",
   "metadata": {
    "id": "Ulr0vc3vX-Fb"
   },
   "source": [
    "Probabilities for the positive outcome is kept."
   ]
  },
  {
   "cell_type": "code",
   "execution_count": 18,
   "metadata": {
    "id": "XSaqiO9pTIXF"
   },
   "outputs": [],
   "source": [
    "for i in range(len(trainX)):  \n",
    "  knn_probs[i] = knn_probs[i][:, 1]"
   ]
  },
  {
   "cell_type": "code",
   "execution_count": 19,
   "metadata": {
    "id": "16U02kVOTiBQ"
   },
   "outputs": [
    {
     "data": {
      "text/plain": [
       "array([1.        , 0.71428571, 1.        , ..., 1.        , 0.85714286,\n",
       "       0.85714286])"
      ]
     },
     "execution_count": 19,
     "metadata": {},
     "output_type": "execute_result"
    }
   ],
   "source": [
    "knn_probs[0]"
   ]
  },
  {
   "cell_type": "markdown",
   "metadata": {
    "id": "S5L3opXRdZpN"
   },
   "source": [
    "## Computing AUROC and ROC curve values"
   ]
  },
  {
   "cell_type": "code",
   "execution_count": 20,
   "metadata": {
    "id": "ZdZ8raK6Ms6c"
   },
   "outputs": [],
   "source": [
    "from sklearn.metrics import roc_curve, roc_auc_score"
   ]
  },
  {
   "cell_type": "markdown",
   "metadata": {
    "id": "-B6lNZGAdjmr"
   },
   "source": [
    "### **Calculate AUROC**\n",
    "**ROC** is the receiver operating characteristic\n",
    "**AUROC** is the area under the ROC curve"
   ]
  },
  {
   "cell_type": "code",
   "execution_count": 21,
   "metadata": {
    "id": "a1ZeSXijTqGz"
   },
   "outputs": [],
   "source": [
    "r_auc = roc_auc_score(y_test, r_probs)\n",
    "knn_auc = []\n",
    "for i in range(len(trainX)):\n",
    "  knn_auc.append(roc_auc_score(y_test, knn_probs[i]))"
   ]
  },
  {
   "cell_type": "markdown",
   "metadata": {
    "id": "H-QN1_BndpKS"
   },
   "source": [
    "### **Print AUROC scores**"
   ]
  },
  {
   "cell_type": "code",
   "execution_count": 22,
   "metadata": {
    "id": "7zCHGSXDTqCe"
   },
   "outputs": [
    {
     "name": "stdout",
     "output_type": "stream",
     "text": [
      "Random (chance) Prediction: AUROC = 0.500\n",
      "KNN with original data: AUROC = 0.441\n",
      "KNN with data after normalization: AUROC = 0.499\n",
      "KNN with data after standardization: AUROC = 0.751\n"
     ]
    }
   ],
   "source": [
    "print('Random (chance) Prediction: AUROC = %.3f' % (r_auc))  \n",
    "print('KNN with original data: AUROC = %.3f' % (knn_auc[0]))\n",
    "print('KNN with data after normalization: AUROC = %.3f' % (knn_auc[1]))\n",
    "print('KNN with data after standardization: AUROC = %.3f' % (knn_auc[2]))"
   ]
  },
  {
   "cell_type": "markdown",
   "metadata": {
    "id": "0C850dqUdsIU"
   },
   "source": [
    "### **Calculate ROC curve**"
   ]
  },
  {
   "cell_type": "code",
   "execution_count": 23,
   "metadata": {
    "id": "4nt7aXzaTp_2"
   },
   "outputs": [],
   "source": [
    "r_fpr, r_tpr, _ = roc_curve(y_test, r_probs, pos_label = 2)\n",
    "orig_fpr, orig_tpr, _ = roc_curve(y_test, knn_probs[0], pos_label = 2)\n",
    "norm_fpr, norm_tpr, _ = roc_curve(y_test, knn_probs[1], pos_label = 2)\n",
    "stand_fpr, stand_tpr, _ = roc_curve(y_test, knn_probs[2], pos_label = 2)"
   ]
  },
  {
   "cell_type": "markdown",
   "metadata": {
    "id": "QtTyB6vxdvCa"
   },
   "source": [
    "## **Plot the ROC curve**"
   ]
  },
  {
   "cell_type": "code",
   "execution_count": 24,
   "metadata": {
    "id": "bL9-7ZTvTp9M"
   },
   "outputs": [
    {
     "data": {
      "image/png": "[encoded data removed]",
      "text/plain": [
       "<Figure size 432x288 with 1 Axes>"
      ]
     },
     "metadata": {
      "needs_background": "light"
     },
     "output_type": "display_data"
    }
   ],
   "source": [
    "plt.plot(r_fpr, r_tpr, linestyle='--', label='Random prediction (AUROC = %0.3f)' % r_auc)\n",
    "plt.plot(orig_fpr, orig_tpr, marker='.', label='KNN with original data: AUROC = %.3f' % knn_auc[0])\n",
    "plt.plot(norm_fpr, norm_tpr, marker='.', label='KNN with data after normalization: AUROC = %.3f' % knn_auc[1])\n",
    "plt.plot(stand_fpr, stand_tpr, marker='.', label='KNN with data after standardization: AUROC = %.3f' % knn_auc[2])\n",
    "\n",
    "# Title\n",
    "plt.title('ROC Plot')\n",
    "# Axis labels\n",
    "plt.xlabel('False Positive Rate')\n",
    "plt.ylabel('True Positive Rate')\n",
    "# Show legend\n",
    "plt.legend() # \n",
    "# Show plot\n",
    "plt.show()"
   ]
  },
  {
   "cell_type": "code",
   "execution_count": null,
   "metadata": {},
   "outputs": [],
   "source": []
  },
  {
   "cell_type": "code",
   "execution_count": null,
   "metadata": {},
   "outputs": [],
   "source": []
  },
  {
   "cell_type": "code",
   "execution_count": null,
   "metadata": {},
   "outputs": [],
   "source": []
  },
  {
   "cell_type": "code",
   "execution_count": null,
   "metadata": {},
   "outputs": [],
   "source": []
  }
 ],
 "metadata": {
  "colab": {
   "collapsed_sections": [],
   "name": "meme_task_p2.ipynb",
   "provenance": [],
   "toc_visible": true
  },
  "kernelspec": {
   "display_name": "Python 3",
   "language": "python",
   "name": "python3"
  },
  "language_info": {
   "codemirror_mode": {
    "name": "ipython",
    "version": 3
   },
   "file_extension": ".py",
   "mimetype": "text/x-python",
   "name": "python",
   "nbconvert_exporter": "python",
   "pygments_lexer": "ipython3",
   "version": "3.8.5"
  }
 },
 "nbformat": 4,
 "nbformat_minor": 1
}
