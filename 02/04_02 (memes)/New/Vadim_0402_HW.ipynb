{
  "nbformat": 4,
  "nbformat_minor": 0,
  "metadata": {
    "colab": {
      "name": "Vadim_0402_HW.ipynb",
      "provenance": [],
      "collapsed_sections": [],
      "toc_visible": true
    },
    "kernelspec": {
      "name": "python3",
      "display_name": "Python 3"
    }
  },
  "cells": [
    {
      "cell_type": "markdown",
      "metadata": {
        "id": "N8vJRadWWovv"
      },
      "source": [
        "# Мемы"
      ]
    },
    {
      "cell_type": "code",
      "metadata": {
        "id": "mG-ozKlkWncr",
        "colab": {
          "base_uri": "https://localhost:8080/"
        },
        "outputId": "7823a656-426b-46f0-f6e7-acf95f2ea275"
      },
      "source": [
        "from google.colab import drive\r\n",
        "drive.mount('/content/drive')"
      ],
      "execution_count": null,
      "outputs": [
        {
          "output_type": "stream",
          "text": [
            "Mounted at /content/drive\n"
          ],
          "name": "stdout"
        }
      ]
    },
    {
      "cell_type": "code",
      "metadata": {
        "id": "WS5hRH1TaLfD"
      },
      "source": [
        "import pandas as pd\r\n",
        "import numpy as np"
      ],
      "execution_count": null,
      "outputs": []
    },
    {
      "cell_type": "code",
      "metadata": {
        "id": "hOz4VP-2aLho"
      },
      "source": [
        "path = 'drive/MyDrive/DS/meme'\r\n"
      ],
      "execution_count": null,
      "outputs": []
    },
    {
      "cell_type": "code",
      "metadata": {
        "id": "30ZnaJjqaLkX"
      },
      "source": [
        "event = pd.read_csv(path+'/danila_event.csv')\r\n"
      ],
      "execution_count": null,
      "outputs": []
    },
    {
      "cell_type": "code",
      "metadata": {
        "id": "_N8X8xUUaLmY"
      },
      "source": [
        "meme = pd.read_csv(path+'/danila_meme.csv')\r\n",
        "user = pd.read_csv(path+'/danila_user.csv')"
      ],
      "execution_count": null,
      "outputs": []
    },
    {
      "cell_type": "code",
      "metadata": {
        "colab": {
          "base_uri": "https://localhost:8080/",
          "height": 281
        },
        "id": "-NkokV15bC1Q",
        "outputId": "a96e90ae-42bb-46ec-807b-a5ac06d95ea0"
      },
      "source": [
        "meme.head()"
      ],
      "execution_count": null,
      "outputs": [
        {
          "output_type": "execute_result",
          "data": {
            "text/html": [
              "<div>\n",
              "<style scoped>\n",
              "    .dataframe tbody tr th:only-of-type {\n",
              "        vertical-align: middle;\n",
              "    }\n",
              "\n",
              "    .dataframe tbody tr th {\n",
              "        vertical-align: top;\n",
              "    }\n",
              "\n",
              "    .dataframe thead th {\n",
              "        text-align: right;\n",
              "    }\n",
              "</style>\n",
              "<table border=\"1\" class=\"dataframe\">\n",
              "  <thead>\n",
              "    <tr style=\"text-align: right;\">\n",
              "      <th></th>\n",
              "      <th>meme_id</th>\n",
              "      <th>meme_type</th>\n",
              "      <th>source_id</th>\n",
              "      <th>published_at</th>\n",
              "      <th>caption</th>\n",
              "      <th>content_lang</th>\n",
              "      <th>is_available</th>\n",
              "      <th>likes</th>\n",
              "      <th>dislikes</th>\n",
              "      <th>created_at</th>\n",
              "      <th>updated_at</th>\n",
              "      <th>is_broken</th>\n",
              "      <th>content_text</th>\n",
              "      <th>caption_lang</th>\n",
              "      <th>language_id</th>\n",
              "    </tr>\n",
              "  </thead>\n",
              "  <tbody>\n",
              "    <tr>\n",
              "      <th>0</th>\n",
              "      <td>28997</td>\n",
              "      <td>photo</td>\n",
              "      <td>79.0</td>\n",
              "      <td>2020-04-12 01:48:13+00</td>\n",
              "      <td>I mean shitt it ain't their fault</td>\n",
              "      <td>en</td>\n",
              "      <td>True</td>\n",
              "      <td>17</td>\n",
              "      <td>14</td>\n",
              "      <td>2020-04-12 09:04:37.341908+00</td>\n",
              "      <td>2020-10-26 19:20:58.198825+00</td>\n",
              "      <td>False</td>\n",
              "      <td>brandon @brndvx females live on recruit diffic...</td>\n",
              "      <td>en</td>\n",
              "      <td>3.0</td>\n",
              "    </tr>\n",
              "    <tr>\n",
              "      <th>1</th>\n",
              "      <td>10873</td>\n",
              "      <td>photo</td>\n",
              "      <td>43.0</td>\n",
              "      <td>2020-03-25 11:48:14+00</td>\n",
              "      <td>NaN</td>\n",
              "      <td>ru</td>\n",
              "      <td>True</td>\n",
              "      <td>79</td>\n",
              "      <td>74</td>\n",
              "      <td>2020-03-25 20:00:01.154096+00</td>\n",
              "      <td>2020-10-26 19:20:58.226846+00</td>\n",
              "      <td>False</td>\n",
              "      <td>Я не робот Докажите, что всякое односвязное Ит...</td>\n",
              "      <td>ww</td>\n",
              "      <td>2.0</td>\n",
              "    </tr>\n",
              "    <tr>\n",
              "      <th>2</th>\n",
              "      <td>9874</td>\n",
              "      <td>photo</td>\n",
              "      <td>78.0</td>\n",
              "      <td>2020-03-24 07:18:03+00</td>\n",
              "      <td>Anime toddies expert</td>\n",
              "      <td>en</td>\n",
              "      <td>True</td>\n",
              "      <td>1</td>\n",
              "      <td>7</td>\n",
              "      <td>2020-03-24 13:06:18.588359+00</td>\n",
              "      <td>2020-10-26 19:20:58.259045+00</td>\n",
              "      <td>False</td>\n",
              "      <td>When you find the actual interview and it does...</td>\n",
              "      <td>en</td>\n",
              "      <td>3.0</td>\n",
              "    </tr>\n",
              "    <tr>\n",
              "      <th>3</th>\n",
              "      <td>43458</td>\n",
              "      <td>photo</td>\n",
              "      <td>43.0</td>\n",
              "      <td>2020-05-23 12:50:52+00</td>\n",
              "      <td>NaN</td>\n",
              "      <td>ru</td>\n",
              "      <td>False</td>\n",
              "      <td>8</td>\n",
              "      <td>12</td>\n",
              "      <td>2020-05-24 22:03:34.926116+00</td>\n",
              "      <td>2020-10-26 19:20:58.265179+00</td>\n",
              "      <td>False</td>\n",
              "      <td>Google сколько калорий в грамме урана а Все В ...</td>\n",
              "      <td>ww</td>\n",
              "      <td>2.0</td>\n",
              "    </tr>\n",
              "    <tr>\n",
              "      <th>4</th>\n",
              "      <td>9000</td>\n",
              "      <td>photo</td>\n",
              "      <td>76.0</td>\n",
              "      <td>2020-03-23 07:16:05+00</td>\n",
              "      <td>New treasure</td>\n",
              "      <td>und</td>\n",
              "      <td>True</td>\n",
              "      <td>2</td>\n",
              "      <td>9</td>\n",
              "      <td>2020-03-23 13:04:55.258554+00</td>\n",
              "      <td>2020-10-26 19:20:58.29742+00</td>\n",
              "      <td>False</td>\n",
              "      <td>YRO .20.</td>\n",
              "      <td>en</td>\n",
              "      <td>3.0</td>\n",
              "    </tr>\n",
              "  </tbody>\n",
              "</table>\n",
              "</div>"
            ],
            "text/plain": [
              "   meme_id meme_type  ...  caption_lang language_id\n",
              "0    28997     photo  ...            en         3.0\n",
              "1    10873     photo  ...            ww         2.0\n",
              "2     9874     photo  ...            en         3.0\n",
              "3    43458     photo  ...            ww         2.0\n",
              "4     9000     photo  ...            en         3.0\n",
              "\n",
              "[5 rows x 15 columns]"
            ]
          },
          "metadata": {
            "tags": []
          },
          "execution_count": 6
        }
      ]
    },
    {
      "cell_type": "code",
      "metadata": {
        "colab": {
          "base_uri": "https://localhost:8080/",
          "height": 197
        },
        "id": "ndKHSUtVbCyx",
        "outputId": "06261189-d33c-42b3-cd4e-a36b4a252c39"
      },
      "source": [
        "user.head()"
      ],
      "execution_count": null,
      "outputs": [
        {
          "output_type": "execute_result",
          "data": {
            "text/html": [
              "<div>\n",
              "<style scoped>\n",
              "    .dataframe tbody tr th:only-of-type {\n",
              "        vertical-align: middle;\n",
              "    }\n",
              "\n",
              "    .dataframe tbody tr th {\n",
              "        vertical-align: top;\n",
              "    }\n",
              "\n",
              "    .dataframe thead th {\n",
              "        text-align: right;\n",
              "    }\n",
              "</style>\n",
              "<table border=\"1\" class=\"dataframe\">\n",
              "  <thead>\n",
              "    <tr style=\"text-align: right;\">\n",
              "      <th></th>\n",
              "      <th>user_id</th>\n",
              "      <th>deep_link</th>\n",
              "      <th>is_blocked_bot</th>\n",
              "      <th>is_banned</th>\n",
              "      <th>is_moderator</th>\n",
              "      <th>sessions</th>\n",
              "      <th>last_session_memes</th>\n",
              "      <th>watched_memes</th>\n",
              "      <th>created_at</th>\n",
              "      <th>updated_at</th>\n",
              "      <th>interface_lang</th>\n",
              "      <th>gender</th>\n",
              "    </tr>\n",
              "  </thead>\n",
              "  <tbody>\n",
              "    <tr>\n",
              "      <th>0</th>\n",
              "      <td>820326025</td>\n",
              "      <td>anime0ch_lang_ru</td>\n",
              "      <td>False</td>\n",
              "      <td>False</td>\n",
              "      <td>False</td>\n",
              "      <td>6</td>\n",
              "      <td>1</td>\n",
              "      <td>20</td>\n",
              "      <td>2020-09-12 20:07:11.668743+00</td>\n",
              "      <td>2020-10-26 12:16:18.458654+00</td>\n",
              "      <td>ru</td>\n",
              "      <td>M</td>\n",
              "    </tr>\n",
              "    <tr>\n",
              "      <th>1</th>\n",
              "      <td>1040875164</td>\n",
              "      <td>likemeupbot_lang_en</td>\n",
              "      <td>False</td>\n",
              "      <td>False</td>\n",
              "      <td>False</td>\n",
              "      <td>2</td>\n",
              "      <td>1</td>\n",
              "      <td>7</td>\n",
              "      <td>2020-07-21 05:54:12.671036+00</td>\n",
              "      <td>2020-10-26 14:37:05.637591+00</td>\n",
              "      <td>en</td>\n",
              "      <td>NaN</td>\n",
              "    </tr>\n",
              "    <tr>\n",
              "      <th>2</th>\n",
              "      <td>449432539</td>\n",
              "      <td>debil_ebaniy</td>\n",
              "      <td>True</td>\n",
              "      <td>False</td>\n",
              "      <td>False</td>\n",
              "      <td>2</td>\n",
              "      <td>1</td>\n",
              "      <td>9</td>\n",
              "      <td>2020-09-14 19:02:06.80911+00</td>\n",
              "      <td>2020-10-17 21:26:52.029824+00</td>\n",
              "      <td>ru</td>\n",
              "      <td>F</td>\n",
              "    </tr>\n",
              "    <tr>\n",
              "      <th>3</th>\n",
              "      <td>230248850</td>\n",
              "      <td>NaN</td>\n",
              "      <td>False</td>\n",
              "      <td>False</td>\n",
              "      <td>False</td>\n",
              "      <td>26</td>\n",
              "      <td>1</td>\n",
              "      <td>38</td>\n",
              "      <td>2020-03-16 00:36:42.252438+00</td>\n",
              "      <td>2020-10-26 12:11:02.159405+00</td>\n",
              "      <td>ru</td>\n",
              "      <td>M</td>\n",
              "    </tr>\n",
              "    <tr>\n",
              "      <th>4</th>\n",
              "      <td>7719424</td>\n",
              "      <td>NaN</td>\n",
              "      <td>True</td>\n",
              "      <td>False</td>\n",
              "      <td>False</td>\n",
              "      <td>27</td>\n",
              "      <td>6</td>\n",
              "      <td>49</td>\n",
              "      <td>2020-03-15 22:30:45.300242+00</td>\n",
              "      <td>2020-10-17 21:26:52.19941+00</td>\n",
              "      <td>ru</td>\n",
              "      <td>M</td>\n",
              "    </tr>\n",
              "  </tbody>\n",
              "</table>\n",
              "</div>"
            ],
            "text/plain": [
              "      user_id            deep_link  ...  interface_lang  gender\n",
              "0   820326025     anime0ch_lang_ru  ...              ru       M\n",
              "1  1040875164  likemeupbot_lang_en  ...              en     NaN\n",
              "2   449432539         debil_ebaniy  ...              ru       F\n",
              "3   230248850                  NaN  ...              ru       M\n",
              "4     7719424                  NaN  ...              ru       M\n",
              "\n",
              "[5 rows x 12 columns]"
            ]
          },
          "metadata": {
            "tags": []
          },
          "execution_count": 7
        }
      ]
    },
    {
      "cell_type": "code",
      "metadata": {
        "colab": {
          "base_uri": "https://localhost:8080/",
          "height": 197
        },
        "id": "hL3Xc3q_bCwK",
        "outputId": "07dc5cc6-054e-47f1-c72c-bfe409e028b1"
      },
      "source": [
        "event.head()"
      ],
      "execution_count": null,
      "outputs": [
        {
          "output_type": "execute_result",
          "data": {
            "text/html": [
              "<div>\n",
              "<style scoped>\n",
              "    .dataframe tbody tr th:only-of-type {\n",
              "        vertical-align: middle;\n",
              "    }\n",
              "\n",
              "    .dataframe tbody tr th {\n",
              "        vertical-align: top;\n",
              "    }\n",
              "\n",
              "    .dataframe thead th {\n",
              "        text-align: right;\n",
              "    }\n",
              "</style>\n",
              "<table border=\"1\" class=\"dataframe\">\n",
              "  <thead>\n",
              "    <tr style=\"text-align: right;\">\n",
              "      <th></th>\n",
              "      <th>event_id</th>\n",
              "      <th>reaction_id</th>\n",
              "      <th>session_idx</th>\n",
              "      <th>meme_idx</th>\n",
              "      <th>created_at</th>\n",
              "      <th>updated_at</th>\n",
              "      <th>meme_id</th>\n",
              "      <th>user_id</th>\n",
              "    </tr>\n",
              "  </thead>\n",
              "  <tbody>\n",
              "    <tr>\n",
              "      <th>0</th>\n",
              "      <td>3607617</td>\n",
              "      <td>2.0</td>\n",
              "      <td>55</td>\n",
              "      <td>11</td>\n",
              "      <td>2020-10-24 19:45:50.964474+00</td>\n",
              "      <td>2020-10-24 19:45:51.049752+00</td>\n",
              "      <td>24379</td>\n",
              "      <td>280747086</td>\n",
              "    </tr>\n",
              "    <tr>\n",
              "      <th>1</th>\n",
              "      <td>3608100</td>\n",
              "      <td>1.0</td>\n",
              "      <td>280</td>\n",
              "      <td>45</td>\n",
              "      <td>2020-10-24 19:52:33.681933+00</td>\n",
              "      <td>2020-10-24 19:52:33.763993+00</td>\n",
              "      <td>49173</td>\n",
              "      <td>285739883</td>\n",
              "    </tr>\n",
              "    <tr>\n",
              "      <th>2</th>\n",
              "      <td>3607629</td>\n",
              "      <td>1.0</td>\n",
              "      <td>55</td>\n",
              "      <td>13</td>\n",
              "      <td>2020-10-24 19:46:08.690407+00</td>\n",
              "      <td>2020-10-24 19:46:08.779079+00</td>\n",
              "      <td>8340</td>\n",
              "      <td>280747086</td>\n",
              "    </tr>\n",
              "    <tr>\n",
              "      <th>3</th>\n",
              "      <td>3607649</td>\n",
              "      <td>NaN</td>\n",
              "      <td>30</td>\n",
              "      <td>2</td>\n",
              "      <td>2020-10-24 19:46:24.443014+00</td>\n",
              "      <td>2020-10-24 19:46:24.519787+00</td>\n",
              "      <td>64748</td>\n",
              "      <td>78991522</td>\n",
              "    </tr>\n",
              "    <tr>\n",
              "      <th>4</th>\n",
              "      <td>3608045</td>\n",
              "      <td>2.0</td>\n",
              "      <td>35</td>\n",
              "      <td>341</td>\n",
              "      <td>2020-10-24 19:51:28.544856+00</td>\n",
              "      <td>2020-10-24 19:51:28.586788+00</td>\n",
              "      <td>45163</td>\n",
              "      <td>860086058</td>\n",
              "    </tr>\n",
              "  </tbody>\n",
              "</table>\n",
              "</div>"
            ],
            "text/plain": [
              "   event_id  reaction_id  ...  meme_id    user_id\n",
              "0   3607617          2.0  ...    24379  280747086\n",
              "1   3608100          1.0  ...    49173  285739883\n",
              "2   3607629          1.0  ...     8340  280747086\n",
              "3   3607649          NaN  ...    64748   78991522\n",
              "4   3608045          2.0  ...    45163  860086058\n",
              "\n",
              "[5 rows x 8 columns]"
            ]
          },
          "metadata": {
            "tags": []
          },
          "execution_count": 8
        }
      ]
    },
    {
      "cell_type": "code",
      "metadata": {
        "id": "_vtxTPoebuHd"
      },
      "source": [
        "# Создать рекомендательную систему для каждого пользователя"
      ],
      "execution_count": null,
      "outputs": []
    },
    {
      "cell_type": "markdown",
      "metadata": {
        "id": "Klr4Oz0XWlrN"
      },
      "source": [
        "## Создать рекомендательную систему для каждого пользователя"
      ]
    },
    {
      "cell_type": "code",
      "metadata": {
        "id": "v6bCqNj-buFM"
      },
      "source": [
        "#meme['is_broken'].value_counts()\r\n",
        "\r\n",
        "meme = meme[meme['is_broken'] == False]"
      ],
      "execution_count": null,
      "outputs": []
    },
    {
      "cell_type": "code",
      "metadata": {
        "colab": {
          "base_uri": "https://localhost:8080/",
          "height": 573
        },
        "id": "qnRjg53pbuCt",
        "outputId": "593f0317-e701-40ed-fd2d-8314e3b21ed7"
      },
      "source": [
        "meme"
      ],
      "execution_count": null,
      "outputs": [
        {
          "output_type": "execute_result",
          "data": {
            "text/html": [
              "<div>\n",
              "<style scoped>\n",
              "    .dataframe tbody tr th:only-of-type {\n",
              "        vertical-align: middle;\n",
              "    }\n",
              "\n",
              "    .dataframe tbody tr th {\n",
              "        vertical-align: top;\n",
              "    }\n",
              "\n",
              "    .dataframe thead th {\n",
              "        text-align: right;\n",
              "    }\n",
              "</style>\n",
              "<table border=\"1\" class=\"dataframe\">\n",
              "  <thead>\n",
              "    <tr style=\"text-align: right;\">\n",
              "      <th></th>\n",
              "      <th>meme_id</th>\n",
              "      <th>meme_type</th>\n",
              "      <th>source_id</th>\n",
              "      <th>published_at</th>\n",
              "      <th>caption</th>\n",
              "      <th>content_lang</th>\n",
              "      <th>is_available</th>\n",
              "      <th>likes</th>\n",
              "      <th>dislikes</th>\n",
              "      <th>created_at</th>\n",
              "      <th>updated_at</th>\n",
              "      <th>is_broken</th>\n",
              "      <th>content_text</th>\n",
              "      <th>caption_lang</th>\n",
              "      <th>language_id</th>\n",
              "    </tr>\n",
              "  </thead>\n",
              "  <tbody>\n",
              "    <tr>\n",
              "      <th>0</th>\n",
              "      <td>28997</td>\n",
              "      <td>photo</td>\n",
              "      <td>79.0</td>\n",
              "      <td>2020-04-12 01:48:13+00</td>\n",
              "      <td>I mean shitt it ain't their fault</td>\n",
              "      <td>en</td>\n",
              "      <td>True</td>\n",
              "      <td>17</td>\n",
              "      <td>14</td>\n",
              "      <td>2020-04-12 09:04:37.341908+00</td>\n",
              "      <td>2020-10-26 19:20:58.198825+00</td>\n",
              "      <td>False</td>\n",
              "      <td>brandon @brndvx females live on recruit diffic...</td>\n",
              "      <td>en</td>\n",
              "      <td>3.0</td>\n",
              "    </tr>\n",
              "    <tr>\n",
              "      <th>1</th>\n",
              "      <td>10873</td>\n",
              "      <td>photo</td>\n",
              "      <td>43.0</td>\n",
              "      <td>2020-03-25 11:48:14+00</td>\n",
              "      <td>NaN</td>\n",
              "      <td>ru</td>\n",
              "      <td>True</td>\n",
              "      <td>79</td>\n",
              "      <td>74</td>\n",
              "      <td>2020-03-25 20:00:01.154096+00</td>\n",
              "      <td>2020-10-26 19:20:58.226846+00</td>\n",
              "      <td>False</td>\n",
              "      <td>Я не робот Докажите, что всякое односвязное Ит...</td>\n",
              "      <td>ww</td>\n",
              "      <td>2.0</td>\n",
              "    </tr>\n",
              "    <tr>\n",
              "      <th>2</th>\n",
              "      <td>9874</td>\n",
              "      <td>photo</td>\n",
              "      <td>78.0</td>\n",
              "      <td>2020-03-24 07:18:03+00</td>\n",
              "      <td>Anime toddies expert</td>\n",
              "      <td>en</td>\n",
              "      <td>True</td>\n",
              "      <td>1</td>\n",
              "      <td>7</td>\n",
              "      <td>2020-03-24 13:06:18.588359+00</td>\n",
              "      <td>2020-10-26 19:20:58.259045+00</td>\n",
              "      <td>False</td>\n",
              "      <td>When you find the actual interview and it does...</td>\n",
              "      <td>en</td>\n",
              "      <td>3.0</td>\n",
              "    </tr>\n",
              "    <tr>\n",
              "      <th>3</th>\n",
              "      <td>43458</td>\n",
              "      <td>photo</td>\n",
              "      <td>43.0</td>\n",
              "      <td>2020-05-23 12:50:52+00</td>\n",
              "      <td>NaN</td>\n",
              "      <td>ru</td>\n",
              "      <td>False</td>\n",
              "      <td>8</td>\n",
              "      <td>12</td>\n",
              "      <td>2020-05-24 22:03:34.926116+00</td>\n",
              "      <td>2020-10-26 19:20:58.265179+00</td>\n",
              "      <td>False</td>\n",
              "      <td>Google сколько калорий в грамме урана а Все В ...</td>\n",
              "      <td>ww</td>\n",
              "      <td>2.0</td>\n",
              "    </tr>\n",
              "    <tr>\n",
              "      <th>4</th>\n",
              "      <td>9000</td>\n",
              "      <td>photo</td>\n",
              "      <td>76.0</td>\n",
              "      <td>2020-03-23 07:16:05+00</td>\n",
              "      <td>New treasure</td>\n",
              "      <td>und</td>\n",
              "      <td>True</td>\n",
              "      <td>2</td>\n",
              "      <td>9</td>\n",
              "      <td>2020-03-23 13:04:55.258554+00</td>\n",
              "      <td>2020-10-26 19:20:58.29742+00</td>\n",
              "      <td>False</td>\n",
              "      <td>YRO .20.</td>\n",
              "      <td>en</td>\n",
              "      <td>3.0</td>\n",
              "    </tr>\n",
              "    <tr>\n",
              "      <th>...</th>\n",
              "      <td>...</td>\n",
              "      <td>...</td>\n",
              "      <td>...</td>\n",
              "      <td>...</td>\n",
              "      <td>...</td>\n",
              "      <td>...</td>\n",
              "      <td>...</td>\n",
              "      <td>...</td>\n",
              "      <td>...</td>\n",
              "      <td>...</td>\n",
              "      <td>...</td>\n",
              "      <td>...</td>\n",
              "      <td>...</td>\n",
              "      <td>...</td>\n",
              "      <td>...</td>\n",
              "    </tr>\n",
              "    <tr>\n",
              "      <th>61851</th>\n",
              "      <td>29440</td>\n",
              "      <td>photo</td>\n",
              "      <td>80.0</td>\n",
              "      <td>2020-04-12 16:52:08+00</td>\n",
              "      <td>She never needed makeup</td>\n",
              "      <td>en</td>\n",
              "      <td>True</td>\n",
              "      <td>2</td>\n",
              "      <td>8</td>\n",
              "      <td>2020-04-12 21:02:06.757845+00</td>\n",
              "      <td>2020-10-26 19:20:58.103871+00</td>\n",
              "      <td>False</td>\n",
              "      <td>When your girlfriend takes off her makeup but ...</td>\n",
              "      <td>en</td>\n",
              "      <td>3.0</td>\n",
              "    </tr>\n",
              "    <tr>\n",
              "      <th>61852</th>\n",
              "      <td>50912</td>\n",
              "      <td>photo</td>\n",
              "      <td>18.0</td>\n",
              "      <td>2020-07-18 17:00:07+00</td>\n",
              "      <td>NaN</td>\n",
              "      <td>ru</td>\n",
              "      <td>True</td>\n",
              "      <td>539</td>\n",
              "      <td>225</td>\n",
              "      <td>2020-07-19 06:14:42.821713+00</td>\n",
              "      <td>2020-10-26 19:20:58.113269+00</td>\n",
              "      <td>False</td>\n",
              "      <td>katevictoriax Парней нужно чаще ласкать. Клади...</td>\n",
              "      <td>ww</td>\n",
              "      <td>2.0</td>\n",
              "    </tr>\n",
              "    <tr>\n",
              "      <th>61853</th>\n",
              "      <td>22646</td>\n",
              "      <td>photo</td>\n",
              "      <td>2.0</td>\n",
              "      <td>2020-04-06 06:52:16+00</td>\n",
              "      <td>NaN</td>\n",
              "      <td>en</td>\n",
              "      <td>False</td>\n",
              "      <td>1</td>\n",
              "      <td>2</td>\n",
              "      <td>2020-04-06 08:00:00.352386+00</td>\n",
              "      <td>2020-10-26 19:20:58.143725+00</td>\n",
              "      <td>False</td>\n",
              "      <td>I COME TOTHEDARKSIDE WE HAVE RESPIRATOR MASKS</td>\n",
              "      <td>ww</td>\n",
              "      <td>3.0</td>\n",
              "    </tr>\n",
              "    <tr>\n",
              "      <th>61854</th>\n",
              "      <td>49822</td>\n",
              "      <td>photo</td>\n",
              "      <td>NaN</td>\n",
              "      <td>2020-07-10 12:08:55+00</td>\n",
              "      <td>NaN</td>\n",
              "      <td>ru</td>\n",
              "      <td>True</td>\n",
              "      <td>5</td>\n",
              "      <td>17</td>\n",
              "      <td>2020-07-10 18:15:20.413744+00</td>\n",
              "      <td>2020-10-26 19:20:58.148913+00</td>\n",
              "      <td>False</td>\n",
              "      <td>Шаг Не знаете, куда поехать? Едьте в центр! Ян...</td>\n",
              "      <td>ww</td>\n",
              "      <td>2.0</td>\n",
              "    </tr>\n",
              "    <tr>\n",
              "      <th>61855</th>\n",
              "      <td>21074</td>\n",
              "      <td>photo</td>\n",
              "      <td>79.0</td>\n",
              "      <td>2020-04-04 12:20:31+00</td>\n",
              "      <td>Damn straight! You can't stop the rock!</td>\n",
              "      <td>en</td>\n",
              "      <td>True</td>\n",
              "      <td>4</td>\n",
              "      <td>10</td>\n",
              "      <td>2020-04-04 17:04:08.832725+00</td>\n",
              "      <td>2020-10-26 19:20:58.158679+00</td>\n",
              "      <td>False</td>\n",
              "      <td>Pøgba Senior @TheSaltIsHere · 16h You just kno...</td>\n",
              "      <td>en</td>\n",
              "      <td>3.0</td>\n",
              "    </tr>\n",
              "  </tbody>\n",
              "</table>\n",
              "<p>61516 rows × 15 columns</p>\n",
              "</div>"
            ],
            "text/plain": [
              "       meme_id meme_type  ...  caption_lang language_id\n",
              "0        28997     photo  ...            en         3.0\n",
              "1        10873     photo  ...            ww         2.0\n",
              "2         9874     photo  ...            en         3.0\n",
              "3        43458     photo  ...            ww         2.0\n",
              "4         9000     photo  ...            en         3.0\n",
              "...        ...       ...  ...           ...         ...\n",
              "61851    29440     photo  ...            en         3.0\n",
              "61852    50912     photo  ...            ww         2.0\n",
              "61853    22646     photo  ...            ww         3.0\n",
              "61854    49822     photo  ...            ww         2.0\n",
              "61855    21074     photo  ...            en         3.0\n",
              "\n",
              "[61516 rows x 15 columns]"
            ]
          },
          "metadata": {
            "tags": []
          },
          "execution_count": 11
        }
      ]
    },
    {
      "cell_type": "code",
      "metadata": {
        "colab": {
          "base_uri": "https://localhost:8080/"
        },
        "id": "vAgGGXxFbuAB",
        "outputId": "0bdd7aac-e853-4d9b-cd45-d06a55dd8796"
      },
      "source": [
        "user['is_banned'].value_counts()"
      ],
      "execution_count": null,
      "outputs": [
        {
          "output_type": "execute_result",
          "data": {
            "text/plain": [
              "False    19918\n",
              "Name: is_banned, dtype: int64"
            ]
          },
          "metadata": {
            "tags": []
          },
          "execution_count": 12
        }
      ]
    },
    {
      "cell_type": "code",
      "metadata": {
        "id": "VV3Wtbzhbt9b"
      },
      "source": [
        "# Проверить гипотезу: англ пользователи более активные чем русские\r\n",
        "# лайки\r\n",
        "# дизлайки\r\n",
        "# отношение L/D\r\n",
        "# Диаграмма (рус в среднем и eng в среднем)"
      ],
      "execution_count": null,
      "outputs": []
    },
    {
      "cell_type": "code",
      "metadata": {
        "colab": {
          "base_uri": "https://localhost:8080/"
        },
        "id": "vlIngkyHdiGv",
        "outputId": "bf6c334b-9974-4d18-d6c0-b2a3e62ff178"
      },
      "source": [
        "user['interface_lang'].value_counts()"
      ],
      "execution_count": null,
      "outputs": [
        {
          "output_type": "execute_result",
          "data": {
            "text/plain": [
              "ru    14156\n",
              "en     5714\n",
              "Name: interface_lang, dtype: int64"
            ]
          },
          "metadata": {
            "tags": []
          },
          "execution_count": 14
        }
      ]
    },
    {
      "cell_type": "code",
      "metadata": {
        "colab": {
          "base_uri": "https://localhost:8080/"
        },
        "id": "8souLvXUeiC3",
        "outputId": "c8ebc11c-6472-426e-deee-8a5d79f96bf5"
      },
      "source": [
        "reactions = event.groupby('user_id').count()['event_id']\r\n",
        "reactions"
      ],
      "execution_count": null,
      "outputs": [
        {
          "output_type": "execute_result",
          "data": {
            "text/plain": [
              "user_id\n",
              "1615           47\n",
              "3859          193\n",
              "12199           3\n",
              "13934           6\n",
              "14229          15\n",
              "             ... \n",
              "1399229617      1\n",
              "1399329801      1\n",
              "1399419434     11\n",
              "1399511615      2\n",
              "1399599499      9\n",
              "Name: event_id, Length: 19699, dtype: int64"
            ]
          },
          "metadata": {
            "tags": []
          },
          "execution_count": 15
        }
      ]
    },
    {
      "cell_type": "code",
      "metadata": {
        "colab": {
          "base_uri": "https://localhost:8080/"
        },
        "id": "jI8Qq9xJf-R0",
        "outputId": "0b55f1af-6389-4c10-f791-928f7210cd49"
      },
      "source": [
        "# 1 - лайк\r\n",
        "# 2 - дизлайк\r\n",
        "likes = event[event['reaction_id'] == 1].groupby('user_id').count()['event_id']\r\n",
        "#likes.rename(columns = {'event_id':'likes'})\r\n",
        "likes\r\n"
      ],
      "execution_count": null,
      "outputs": [
        {
          "output_type": "execute_result",
          "data": {
            "text/plain": [
              "user_id\n",
              "1615           25\n",
              "3859          106\n",
              "13934           1\n",
              "14229           2\n",
              "16060          14\n",
              "             ... \n",
              "1398188580      5\n",
              "1398529159     12\n",
              "1398799657      6\n",
              "1399419434      6\n",
              "1399599499      8\n",
              "Name: event_id, Length: 16633, dtype: int64"
            ]
          },
          "metadata": {
            "tags": []
          },
          "execution_count": 16
        }
      ]
    },
    {
      "cell_type": "code",
      "metadata": {
        "colab": {
          "base_uri": "https://localhost:8080/"
        },
        "id": "J-En8pdweiAe",
        "outputId": "247b7363-516e-4b81-f1f8-17d0afde36d5"
      },
      "source": [
        "dislikes =  event[event['reaction_id'] == 2].groupby('user_id').count()['event_id']\r\n",
        "dislikes\r\n"
      ],
      "execution_count": null,
      "outputs": [
        {
          "output_type": "execute_result",
          "data": {
            "text/plain": [
              "user_id\n",
              "1615           11\n",
              "3859           83\n",
              "14229          10\n",
              "16060         111\n",
              "20535          10\n",
              "             ... \n",
              "1397824939      2\n",
              "1397992921      5\n",
              "1397993276      3\n",
              "1398022998     14\n",
              "1398799657      1\n",
              "Name: event_id, Length: 15881, dtype: int64"
            ]
          },
          "metadata": {
            "tags": []
          },
          "execution_count": 17
        }
      ]
    },
    {
      "cell_type": "code",
      "metadata": {
        "id": "mjjkoZUSeh94"
      },
      "source": [
        "event_reactions = pd.DataFrame([likes.values,dislikes.values, reactions.values]).transpose()\r\n",
        "event_reactions.rename(columns = {0:'likes', 1:'dislikes', 2:'reactions'}, inplace = True)\r\n"
      ],
      "execution_count": null,
      "outputs": []
    },
    {
      "cell_type": "code",
      "metadata": {
        "colab": {
          "base_uri": "https://localhost:8080/",
          "height": 436
        },
        "id": "oVpocRU_iqUN",
        "outputId": "e32cd871-b31b-4ae0-c3f2-c502a43bbc06"
      },
      "source": [
        "event_reactions.index = reactions.index\r\n",
        "event_reactions"
      ],
      "execution_count": null,
      "outputs": [
        {
          "output_type": "execute_result",
          "data": {
            "text/html": [
              "<div>\n",
              "<style scoped>\n",
              "    .dataframe tbody tr th:only-of-type {\n",
              "        vertical-align: middle;\n",
              "    }\n",
              "\n",
              "    .dataframe tbody tr th {\n",
              "        vertical-align: top;\n",
              "    }\n",
              "\n",
              "    .dataframe thead th {\n",
              "        text-align: right;\n",
              "    }\n",
              "</style>\n",
              "<table border=\"1\" class=\"dataframe\">\n",
              "  <thead>\n",
              "    <tr style=\"text-align: right;\">\n",
              "      <th></th>\n",
              "      <th>likes</th>\n",
              "      <th>dislikes</th>\n",
              "      <th>reactions</th>\n",
              "    </tr>\n",
              "    <tr>\n",
              "      <th>user_id</th>\n",
              "      <th></th>\n",
              "      <th></th>\n",
              "      <th></th>\n",
              "    </tr>\n",
              "  </thead>\n",
              "  <tbody>\n",
              "    <tr>\n",
              "      <th>1615</th>\n",
              "      <td>25.0</td>\n",
              "      <td>11.0</td>\n",
              "      <td>47.0</td>\n",
              "    </tr>\n",
              "    <tr>\n",
              "      <th>3859</th>\n",
              "      <td>106.0</td>\n",
              "      <td>83.0</td>\n",
              "      <td>193.0</td>\n",
              "    </tr>\n",
              "    <tr>\n",
              "      <th>12199</th>\n",
              "      <td>1.0</td>\n",
              "      <td>10.0</td>\n",
              "      <td>3.0</td>\n",
              "    </tr>\n",
              "    <tr>\n",
              "      <th>13934</th>\n",
              "      <td>2.0</td>\n",
              "      <td>111.0</td>\n",
              "      <td>6.0</td>\n",
              "    </tr>\n",
              "    <tr>\n",
              "      <th>14229</th>\n",
              "      <td>14.0</td>\n",
              "      <td>10.0</td>\n",
              "      <td>15.0</td>\n",
              "    </tr>\n",
              "    <tr>\n",
              "      <th>...</th>\n",
              "      <td>...</td>\n",
              "      <td>...</td>\n",
              "      <td>...</td>\n",
              "    </tr>\n",
              "    <tr>\n",
              "      <th>1399229617</th>\n",
              "      <td>NaN</td>\n",
              "      <td>NaN</td>\n",
              "      <td>1.0</td>\n",
              "    </tr>\n",
              "    <tr>\n",
              "      <th>1399329801</th>\n",
              "      <td>NaN</td>\n",
              "      <td>NaN</td>\n",
              "      <td>1.0</td>\n",
              "    </tr>\n",
              "    <tr>\n",
              "      <th>1399419434</th>\n",
              "      <td>NaN</td>\n",
              "      <td>NaN</td>\n",
              "      <td>11.0</td>\n",
              "    </tr>\n",
              "    <tr>\n",
              "      <th>1399511615</th>\n",
              "      <td>NaN</td>\n",
              "      <td>NaN</td>\n",
              "      <td>2.0</td>\n",
              "    </tr>\n",
              "    <tr>\n",
              "      <th>1399599499</th>\n",
              "      <td>NaN</td>\n",
              "      <td>NaN</td>\n",
              "      <td>9.0</td>\n",
              "    </tr>\n",
              "  </tbody>\n",
              "</table>\n",
              "<p>19699 rows × 3 columns</p>\n",
              "</div>"
            ],
            "text/plain": [
              "            likes  dislikes  reactions\n",
              "user_id                               \n",
              "1615         25.0      11.0       47.0\n",
              "3859        106.0      83.0      193.0\n",
              "12199         1.0      10.0        3.0\n",
              "13934         2.0     111.0        6.0\n",
              "14229        14.0      10.0       15.0\n",
              "...           ...       ...        ...\n",
              "1399229617    NaN       NaN        1.0\n",
              "1399329801    NaN       NaN        1.0\n",
              "1399419434    NaN       NaN       11.0\n",
              "1399511615    NaN       NaN        2.0\n",
              "1399599499    NaN       NaN        9.0\n",
              "\n",
              "[19699 rows x 3 columns]"
            ]
          },
          "metadata": {
            "tags": []
          },
          "execution_count": 19
        }
      ]
    },
    {
      "cell_type": "markdown",
      "metadata": {
        "id": "2xe92e9nXm2O"
      },
      "source": [
        "### Построить график для лайков"
      ]
    },
    {
      "cell_type": "code",
      "metadata": {
        "colab": {
          "base_uri": "https://localhost:8080/"
        },
        "id": "MsTMqHQbiqYw",
        "outputId": "e16397b7-2ccb-4b6f-f175-8bfb55b744d3"
      },
      "source": [
        "likes_users_ids = likes.index\r\n",
        "likes_users_ids"
      ],
      "execution_count": null,
      "outputs": [
        {
          "output_type": "execute_result",
          "data": {
            "text/plain": [
              "Int64Index([      1615,       3859,      13934,      14229,      16060,\n",
              "                 20535,      28327,      30767,      37459,      39129,\n",
              "            ...\n",
              "            1397540701, 1397824939, 1397992921, 1397993276, 1398022998,\n",
              "            1398188580, 1398529159, 1398799657, 1399419434, 1399599499],\n",
              "           dtype='int64', name='user_id', length=16633)"
            ]
          },
          "metadata": {
            "tags": []
          },
          "execution_count": 20
        }
      ]
    },
    {
      "cell_type": "code",
      "metadata": {
        "colab": {
          "base_uri": "https://localhost:8080/"
        },
        "id": "-EBo49TKlPaG",
        "outputId": "86fef6cb-497f-45ba-f2db-109b58a9a19b"
      },
      "source": [
        "users_likes = user[user.user_id.isin(likes_users_ids)].set_index('user_id')['interface_lang'].copy()\r\n",
        "users_likes"
      ],
      "execution_count": null,
      "outputs": [
        {
          "output_type": "execute_result",
          "data": {
            "text/plain": [
              "user_id\n",
              "820326025     ru\n",
              "1040875164    en\n",
              "449432539     ru\n",
              "1008072970    en\n",
              "8239465       ru\n",
              "              ..\n",
              "125474047     ru\n",
              "608727447     ru\n",
              "1254871249    ru\n",
              "184147840     ru\n",
              "761418142     ru\n",
              "Name: interface_lang, Length: 16633, dtype: object"
            ]
          },
          "metadata": {
            "tags": []
          },
          "execution_count": 21
        }
      ]
    },
    {
      "cell_type": "code",
      "metadata": {
        "colab": {
          "base_uri": "https://localhost:8080/",
          "height": 137
        },
        "id": "veglbolWlPYE",
        "outputId": "6a526697-07be-49a1-aa06-abb86efa3121"
      },
      "source": [
        "detailed_likes =  pd.DataFrame([users_likes, likes]).transpose()\r\n",
        "grouped_det_likes = detailed_likes.groupby('interface_lang').count()\r\n",
        "grouped_det_likes"
      ],
      "execution_count": null,
      "outputs": [
        {
          "output_type": "execute_result",
          "data": {
            "text/html": [
              "<div>\n",
              "<style scoped>\n",
              "    .dataframe tbody tr th:only-of-type {\n",
              "        vertical-align: middle;\n",
              "    }\n",
              "\n",
              "    .dataframe tbody tr th {\n",
              "        vertical-align: top;\n",
              "    }\n",
              "\n",
              "    .dataframe thead th {\n",
              "        text-align: right;\n",
              "    }\n",
              "</style>\n",
              "<table border=\"1\" class=\"dataframe\">\n",
              "  <thead>\n",
              "    <tr style=\"text-align: right;\">\n",
              "      <th></th>\n",
              "      <th>event_id</th>\n",
              "    </tr>\n",
              "    <tr>\n",
              "      <th>interface_lang</th>\n",
              "      <th></th>\n",
              "    </tr>\n",
              "  </thead>\n",
              "  <tbody>\n",
              "    <tr>\n",
              "      <th>en</th>\n",
              "      <td>4546</td>\n",
              "    </tr>\n",
              "    <tr>\n",
              "      <th>ru</th>\n",
              "      <td>12087</td>\n",
              "    </tr>\n",
              "  </tbody>\n",
              "</table>\n",
              "</div>"
            ],
            "text/plain": [
              "                event_id\n",
              "interface_lang          \n",
              "en                  4546\n",
              "ru                 12087"
            ]
          },
          "metadata": {
            "tags": []
          },
          "execution_count": 22
        }
      ]
    },
    {
      "cell_type": "code",
      "metadata": {
        "colab": {
          "base_uri": "https://localhost:8080/",
          "height": 542
        },
        "id": "8R3bd1wVlPVN",
        "outputId": "a11b9d92-3f2c-4ae6-829c-38a44f5e1725"
      },
      "source": [
        "import plotly.express as px\r\n",
        "fig = px.bar(grouped_det_likes, x = grouped_det_likes.index, y = 'event_id')\r\n",
        "fig.show()"
      ],
      "execution_count": null,
      "outputs": [
        {
          "output_type": "display_data",
          "data": {
            "text/html": [
              "<html>\n",
              "<head><meta charset=\"utf-8\" /></head>\n",
              "<body>\n",
              "    <div>\n",
              "            <script src=\"https://cdnjs.cloudflare.com/ajax/libs/mathjax/2.7.5/MathJax.js?config=TeX-AMS-MML_SVG\"></script><script type=\"text/javascript\">if (window.MathJax) {MathJax.Hub.Config({SVG: {font: \"STIX-Web\"}});}</script>\n",
              "                <script type=\"text/javascript\">window.PlotlyConfig = {MathJaxConfig: 'local'};</script>\n",
              "        <script src=\"https://cdn.plot.ly/plotly-latest.min.js\"></script>    \n",
              "            <div id=\"0f9d3ddb-c099-4dcf-a96d-32219f30043b\" class=\"plotly-graph-div\" style=\"height:525px; width:100%;\"></div>\n",
              "            <script type=\"text/javascript\">\n",
              "                \n",
              "                    window.PLOTLYENV=window.PLOTLYENV || {};\n",
              "                    \n",
              "                if (document.getElementById(\"0f9d3ddb-c099-4dcf-a96d-32219f30043b\")) {\n",
              "                    Plotly.newPlot(\n",
              "                        '0f9d3ddb-c099-4dcf-a96d-32219f30043b',\n",
              "                        [{\"alignmentgroup\": \"True\", \"hoverlabel\": {\"namelength\": 0}, \"hovertemplate\": \"x=%{x}<br>event_id=%{y}\", \"legendgroup\": \"\", \"marker\": {\"color\": \"#636efa\"}, \"name\": \"\", \"offsetgroup\": \"\", \"orientation\": \"v\", \"showlegend\": false, \"textposition\": \"auto\", \"type\": \"bar\", \"x\": [\"en\", \"ru\"], \"xaxis\": \"x\", \"y\": [4546, 12087], \"yaxis\": \"y\"}],\n",
              "                        {\"barmode\": \"relative\", \"legend\": {\"tracegroupgap\": 0}, \"margin\": {\"t\": 60}, \"template\": {\"data\": {\"bar\": [{\"error_x\": {\"color\": \"#2a3f5f\"}, \"error_y\": {\"color\": \"#2a3f5f\"}, \"marker\": {\"line\": {\"color\": \"#E5ECF6\", \"width\": 0.5}}, \"type\": \"bar\"}], \"barpolar\": [{\"marker\": {\"line\": {\"color\": \"#E5ECF6\", \"width\": 0.5}}, \"type\": \"barpolar\"}], \"carpet\": [{\"aaxis\": {\"endlinecolor\": \"#2a3f5f\", \"gridcolor\": \"white\", \"linecolor\": \"white\", \"minorgridcolor\": \"white\", \"startlinecolor\": \"#2a3f5f\"}, \"baxis\": {\"endlinecolor\": \"#2a3f5f\", \"gridcolor\": \"white\", \"linecolor\": \"white\", \"minorgridcolor\": \"white\", \"startlinecolor\": \"#2a3f5f\"}, \"type\": \"carpet\"}], \"choropleth\": [{\"colorbar\": {\"outlinewidth\": 0, \"ticks\": \"\"}, \"type\": \"choropleth\"}], \"contour\": [{\"colorbar\": {\"outlinewidth\": 0, \"ticks\": \"\"}, \"colorscale\": [[0.0, \"#0d0887\"], [0.1111111111111111, \"#46039f\"], [0.2222222222222222, \"#7201a8\"], [0.3333333333333333, \"#9c179e\"], [0.4444444444444444, \"#bd3786\"], [0.5555555555555556, \"#d8576b\"], [0.6666666666666666, \"#ed7953\"], [0.7777777777777778, \"#fb9f3a\"], [0.8888888888888888, \"#fdca26\"], [1.0, \"#f0f921\"]], \"type\": \"contour\"}], \"contourcarpet\": [{\"colorbar\": {\"outlinewidth\": 0, \"ticks\": \"\"}, \"type\": \"contourcarpet\"}], \"heatmap\": [{\"colorbar\": {\"outlinewidth\": 0, \"ticks\": \"\"}, \"colorscale\": [[0.0, \"#0d0887\"], [0.1111111111111111, \"#46039f\"], [0.2222222222222222, \"#7201a8\"], [0.3333333333333333, \"#9c179e\"], [0.4444444444444444, \"#bd3786\"], [0.5555555555555556, \"#d8576b\"], [0.6666666666666666, \"#ed7953\"], [0.7777777777777778, \"#fb9f3a\"], [0.8888888888888888, \"#fdca26\"], [1.0, \"#f0f921\"]], \"type\": \"heatmap\"}], \"heatmapgl\": [{\"colorbar\": {\"outlinewidth\": 0, \"ticks\": \"\"}, \"colorscale\": [[0.0, \"#0d0887\"], [0.1111111111111111, \"#46039f\"], [0.2222222222222222, \"#7201a8\"], [0.3333333333333333, \"#9c179e\"], [0.4444444444444444, \"#bd3786\"], [0.5555555555555556, \"#d8576b\"], [0.6666666666666666, \"#ed7953\"], [0.7777777777777778, \"#fb9f3a\"], [0.8888888888888888, \"#fdca26\"], [1.0, \"#f0f921\"]], \"type\": \"heatmapgl\"}], \"histogram\": [{\"marker\": {\"colorbar\": {\"outlinewidth\": 0, \"ticks\": \"\"}}, \"type\": \"histogram\"}], \"histogram2d\": [{\"colorbar\": {\"outlinewidth\": 0, \"ticks\": \"\"}, \"colorscale\": [[0.0, \"#0d0887\"], [0.1111111111111111, \"#46039f\"], [0.2222222222222222, \"#7201a8\"], [0.3333333333333333, \"#9c179e\"], [0.4444444444444444, \"#bd3786\"], [0.5555555555555556, \"#d8576b\"], [0.6666666666666666, \"#ed7953\"], [0.7777777777777778, \"#fb9f3a\"], [0.8888888888888888, \"#fdca26\"], [1.0, \"#f0f921\"]], \"type\": \"histogram2d\"}], \"histogram2dcontour\": [{\"colorbar\": {\"outlinewidth\": 0, \"ticks\": \"\"}, \"colorscale\": [[0.0, \"#0d0887\"], [0.1111111111111111, \"#46039f\"], [0.2222222222222222, \"#7201a8\"], [0.3333333333333333, \"#9c179e\"], [0.4444444444444444, \"#bd3786\"], [0.5555555555555556, \"#d8576b\"], [0.6666666666666666, \"#ed7953\"], [0.7777777777777778, \"#fb9f3a\"], [0.8888888888888888, \"#fdca26\"], [1.0, \"#f0f921\"]], \"type\": \"histogram2dcontour\"}], \"mesh3d\": [{\"colorbar\": {\"outlinewidth\": 0, \"ticks\": \"\"}, \"type\": \"mesh3d\"}], \"parcoords\": [{\"line\": {\"colorbar\": {\"outlinewidth\": 0, \"ticks\": \"\"}}, \"type\": \"parcoords\"}], \"pie\": [{\"automargin\": true, \"type\": \"pie\"}], \"scatter\": [{\"marker\": {\"colorbar\": {\"outlinewidth\": 0, \"ticks\": \"\"}}, \"type\": \"scatter\"}], \"scatter3d\": [{\"line\": {\"colorbar\": {\"outlinewidth\": 0, \"ticks\": \"\"}}, \"marker\": {\"colorbar\": {\"outlinewidth\": 0, \"ticks\": \"\"}}, \"type\": \"scatter3d\"}], \"scattercarpet\": [{\"marker\": {\"colorbar\": {\"outlinewidth\": 0, \"ticks\": \"\"}}, \"type\": \"scattercarpet\"}], \"scattergeo\": [{\"marker\": {\"colorbar\": {\"outlinewidth\": 0, \"ticks\": \"\"}}, \"type\": \"scattergeo\"}], \"scattergl\": [{\"marker\": {\"colorbar\": {\"outlinewidth\": 0, \"ticks\": \"\"}}, \"type\": \"scattergl\"}], \"scattermapbox\": [{\"marker\": {\"colorbar\": {\"outlinewidth\": 0, \"ticks\": \"\"}}, \"type\": \"scattermapbox\"}], \"scatterpolar\": [{\"marker\": {\"colorbar\": {\"outlinewidth\": 0, \"ticks\": \"\"}}, \"type\": \"scatterpolar\"}], \"scatterpolargl\": [{\"marker\": {\"colorbar\": {\"outlinewidth\": 0, \"ticks\": \"\"}}, \"type\": \"scatterpolargl\"}], \"scatterternary\": [{\"marker\": {\"colorbar\": {\"outlinewidth\": 0, \"ticks\": \"\"}}, \"type\": \"scatterternary\"}], \"surface\": [{\"colorbar\": {\"outlinewidth\": 0, \"ticks\": \"\"}, \"colorscale\": [[0.0, \"#0d0887\"], [0.1111111111111111, \"#46039f\"], [0.2222222222222222, \"#7201a8\"], [0.3333333333333333, \"#9c179e\"], [0.4444444444444444, \"#bd3786\"], [0.5555555555555556, \"#d8576b\"], [0.6666666666666666, \"#ed7953\"], [0.7777777777777778, \"#fb9f3a\"], [0.8888888888888888, \"#fdca26\"], [1.0, \"#f0f921\"]], \"type\": \"surface\"}], \"table\": [{\"cells\": {\"fill\": {\"color\": \"#EBF0F8\"}, \"line\": {\"color\": \"white\"}}, \"header\": {\"fill\": {\"color\": \"#C8D4E3\"}, \"line\": {\"color\": \"white\"}}, \"type\": \"table\"}]}, \"layout\": {\"annotationdefaults\": {\"arrowcolor\": \"#2a3f5f\", \"arrowhead\": 0, \"arrowwidth\": 1}, \"coloraxis\": {\"colorbar\": {\"outlinewidth\": 0, \"ticks\": \"\"}}, \"colorscale\": {\"diverging\": [[0, \"#8e0152\"], [0.1, \"#c51b7d\"], [0.2, \"#de77ae\"], [0.3, \"#f1b6da\"], [0.4, \"#fde0ef\"], [0.5, \"#f7f7f7\"], [0.6, \"#e6f5d0\"], [0.7, \"#b8e186\"], [0.8, \"#7fbc41\"], [0.9, \"#4d9221\"], [1, \"#276419\"]], \"sequential\": [[0.0, \"#0d0887\"], [0.1111111111111111, \"#46039f\"], [0.2222222222222222, \"#7201a8\"], [0.3333333333333333, \"#9c179e\"], [0.4444444444444444, \"#bd3786\"], [0.5555555555555556, \"#d8576b\"], [0.6666666666666666, \"#ed7953\"], [0.7777777777777778, \"#fb9f3a\"], [0.8888888888888888, \"#fdca26\"], [1.0, \"#f0f921\"]], \"sequentialminus\": [[0.0, \"#0d0887\"], [0.1111111111111111, \"#46039f\"], [0.2222222222222222, \"#7201a8\"], [0.3333333333333333, \"#9c179e\"], [0.4444444444444444, \"#bd3786\"], [0.5555555555555556, \"#d8576b\"], [0.6666666666666666, \"#ed7953\"], [0.7777777777777778, \"#fb9f3a\"], [0.8888888888888888, \"#fdca26\"], [1.0, \"#f0f921\"]]}, \"colorway\": [\"#636efa\", \"#EF553B\", \"#00cc96\", \"#ab63fa\", \"#FFA15A\", \"#19d3f3\", \"#FF6692\", \"#B6E880\", \"#FF97FF\", \"#FECB52\"], \"font\": {\"color\": \"#2a3f5f\"}, \"geo\": {\"bgcolor\": \"white\", \"lakecolor\": \"white\", \"landcolor\": \"#E5ECF6\", \"showlakes\": true, \"showland\": true, \"subunitcolor\": \"white\"}, \"hoverlabel\": {\"align\": \"left\"}, \"hovermode\": \"closest\", \"mapbox\": {\"style\": \"light\"}, \"paper_bgcolor\": \"white\", \"plot_bgcolor\": \"#E5ECF6\", \"polar\": {\"angularaxis\": {\"gridcolor\": \"white\", \"linecolor\": \"white\", \"ticks\": \"\"}, \"bgcolor\": \"#E5ECF6\", \"radialaxis\": {\"gridcolor\": \"white\", \"linecolor\": \"white\", \"ticks\": \"\"}}, \"scene\": {\"xaxis\": {\"backgroundcolor\": \"#E5ECF6\", \"gridcolor\": \"white\", \"gridwidth\": 2, \"linecolor\": \"white\", \"showbackground\": true, \"ticks\": \"\", \"zerolinecolor\": \"white\"}, \"yaxis\": {\"backgroundcolor\": \"#E5ECF6\", \"gridcolor\": \"white\", \"gridwidth\": 2, \"linecolor\": \"white\", \"showbackground\": true, \"ticks\": \"\", \"zerolinecolor\": \"white\"}, \"zaxis\": {\"backgroundcolor\": \"#E5ECF6\", \"gridcolor\": \"white\", \"gridwidth\": 2, \"linecolor\": \"white\", \"showbackground\": true, \"ticks\": \"\", \"zerolinecolor\": \"white\"}}, \"shapedefaults\": {\"line\": {\"color\": \"#2a3f5f\"}}, \"ternary\": {\"aaxis\": {\"gridcolor\": \"white\", \"linecolor\": \"white\", \"ticks\": \"\"}, \"baxis\": {\"gridcolor\": \"white\", \"linecolor\": \"white\", \"ticks\": \"\"}, \"bgcolor\": \"#E5ECF6\", \"caxis\": {\"gridcolor\": \"white\", \"linecolor\": \"white\", \"ticks\": \"\"}}, \"title\": {\"x\": 0.05}, \"xaxis\": {\"automargin\": true, \"gridcolor\": \"white\", \"linecolor\": \"white\", \"ticks\": \"\", \"title\": {\"standoff\": 15}, \"zerolinecolor\": \"white\", \"zerolinewidth\": 2}, \"yaxis\": {\"automargin\": true, \"gridcolor\": \"white\", \"linecolor\": \"white\", \"ticks\": \"\", \"title\": {\"standoff\": 15}, \"zerolinecolor\": \"white\", \"zerolinewidth\": 2}}}, \"xaxis\": {\"anchor\": \"y\", \"domain\": [0.0, 1.0], \"title\": {\"text\": \"x\"}}, \"yaxis\": {\"anchor\": \"x\", \"domain\": [0.0, 1.0], \"title\": {\"text\": \"event_id\"}}},\n",
              "                        {\"responsive\": true}\n",
              "                    ).then(function(){\n",
              "                            \n",
              "var gd = document.getElementById('0f9d3ddb-c099-4dcf-a96d-32219f30043b');\n",
              "var x = new MutationObserver(function (mutations, observer) {{\n",
              "        var display = window.getComputedStyle(gd).display;\n",
              "        if (!display || display === 'none') {{\n",
              "            console.log([gd, 'removed!']);\n",
              "            Plotly.purge(gd);\n",
              "            observer.disconnect();\n",
              "        }}\n",
              "}});\n",
              "\n",
              "// Listen for the removal of the full notebook cells\n",
              "var notebookContainer = gd.closest('#notebook-container');\n",
              "if (notebookContainer) {{\n",
              "    x.observe(notebookContainer, {childList: true});\n",
              "}}\n",
              "\n",
              "// Listen for the clearing of the current output cell\n",
              "var outputEl = gd.closest('.output');\n",
              "if (outputEl) {{\n",
              "    x.observe(outputEl, {childList: true});\n",
              "}}\n",
              "\n",
              "                        })\n",
              "                };\n",
              "                \n",
              "            </script>\n",
              "        </div>\n",
              "</body>\n",
              "</html>"
            ]
          },
          "metadata": {
            "tags": []
          }
        }
      ]
    },
    {
      "cell_type": "markdown",
      "metadata": {
        "id": "3oO2w4JqWhcT"
      },
      "source": [
        "### Для каждого source соотношение лайков дизлайков"
      ]
    },
    {
      "cell_type": "code",
      "metadata": {
        "colab": {
          "base_uri": "https://localhost:8080/",
          "height": 436
        },
        "id": "r7VvUxDpncSE",
        "outputId": "1a2de854-2b78-4805-f185-16ab3f774403"
      },
      "source": [
        "memes_grouped = meme[['source_id', 'likes', 'dislikes']]\r\n",
        "memes_grouped_sum = memes_grouped.groupby('source_id').sum()\r\n",
        "memes_grouped_sum['l\\\\d'] = memes_grouped_sum['likes'] / memes_grouped_sum['dislikes']\r\n",
        "memes_grouped_sum"
      ],
      "execution_count": null,
      "outputs": [
        {
          "output_type": "execute_result",
          "data": {
            "text/html": [
              "<div>\n",
              "<style scoped>\n",
              "    .dataframe tbody tr th:only-of-type {\n",
              "        vertical-align: middle;\n",
              "    }\n",
              "\n",
              "    .dataframe tbody tr th {\n",
              "        vertical-align: top;\n",
              "    }\n",
              "\n",
              "    .dataframe thead th {\n",
              "        text-align: right;\n",
              "    }\n",
              "</style>\n",
              "<table border=\"1\" class=\"dataframe\">\n",
              "  <thead>\n",
              "    <tr style=\"text-align: right;\">\n",
              "      <th></th>\n",
              "      <th>likes</th>\n",
              "      <th>dislikes</th>\n",
              "      <th>l\\d</th>\n",
              "    </tr>\n",
              "    <tr>\n",
              "      <th>source_id</th>\n",
              "      <th></th>\n",
              "      <th></th>\n",
              "      <th></th>\n",
              "    </tr>\n",
              "  </thead>\n",
              "  <tbody>\n",
              "    <tr>\n",
              "      <th>1.0</th>\n",
              "      <td>141</td>\n",
              "      <td>447</td>\n",
              "      <td>0.315436</td>\n",
              "    </tr>\n",
              "    <tr>\n",
              "      <th>2.0</th>\n",
              "      <td>8753</td>\n",
              "      <td>11876</td>\n",
              "      <td>0.737033</td>\n",
              "    </tr>\n",
              "    <tr>\n",
              "      <th>3.0</th>\n",
              "      <td>17852</td>\n",
              "      <td>19303</td>\n",
              "      <td>0.924830</td>\n",
              "    </tr>\n",
              "    <tr>\n",
              "      <th>4.0</th>\n",
              "      <td>17265</td>\n",
              "      <td>27841</td>\n",
              "      <td>0.620129</td>\n",
              "    </tr>\n",
              "    <tr>\n",
              "      <th>5.0</th>\n",
              "      <td>11334</td>\n",
              "      <td>15323</td>\n",
              "      <td>0.739672</td>\n",
              "    </tr>\n",
              "    <tr>\n",
              "      <th>...</th>\n",
              "      <td>...</td>\n",
              "      <td>...</td>\n",
              "      <td>...</td>\n",
              "    </tr>\n",
              "    <tr>\n",
              "      <th>155.0</th>\n",
              "      <td>172</td>\n",
              "      <td>463</td>\n",
              "      <td>0.371490</td>\n",
              "    </tr>\n",
              "    <tr>\n",
              "      <th>156.0</th>\n",
              "      <td>741</td>\n",
              "      <td>1331</td>\n",
              "      <td>0.556724</td>\n",
              "    </tr>\n",
              "    <tr>\n",
              "      <th>157.0</th>\n",
              "      <td>823</td>\n",
              "      <td>1532</td>\n",
              "      <td>0.537206</td>\n",
              "    </tr>\n",
              "    <tr>\n",
              "      <th>158.0</th>\n",
              "      <td>387</td>\n",
              "      <td>592</td>\n",
              "      <td>0.653716</td>\n",
              "    </tr>\n",
              "    <tr>\n",
              "      <th>159.0</th>\n",
              "      <td>24</td>\n",
              "      <td>110</td>\n",
              "      <td>0.218182</td>\n",
              "    </tr>\n",
              "  </tbody>\n",
              "</table>\n",
              "<p>142 rows × 3 columns</p>\n",
              "</div>"
            ],
            "text/plain": [
              "           likes  dislikes       l\\d\n",
              "source_id                           \n",
              "1.0          141       447  0.315436\n",
              "2.0         8753     11876  0.737033\n",
              "3.0        17852     19303  0.924830\n",
              "4.0        17265     27841  0.620129\n",
              "5.0        11334     15323  0.739672\n",
              "...          ...       ...       ...\n",
              "155.0        172       463  0.371490\n",
              "156.0        741      1331  0.556724\n",
              "157.0        823      1532  0.537206\n",
              "158.0        387       592  0.653716\n",
              "159.0         24       110  0.218182\n",
              "\n",
              "[142 rows x 3 columns]"
            ]
          },
          "metadata": {
            "tags": []
          },
          "execution_count": 24
        }
      ]
    },
    {
      "cell_type": "markdown",
      "metadata": {
        "id": "-lZlpLucWfhI"
      },
      "source": [
        "### Проделать ту же работу для дизлайков и всех реакций"
      ]
    },
    {
      "cell_type": "markdown",
      "metadata": {
        "id": "woYd5nCiZaVb"
      },
      "source": [
        "#### Дизлайки"
      ]
    },
    {
      "cell_type": "code",
      "metadata": {
        "colab": {
          "base_uri": "https://localhost:8080/"
        },
        "id": "Csh6DKGBWx-x",
        "outputId": "2b5c1386-0a6a-4d65-fe72-a684a47842b9"
      },
      "source": [
        "dislikes_users_ids = dislikes.index\r\n",
        "dislikes_users_ids"
      ],
      "execution_count": null,
      "outputs": [
        {
          "output_type": "execute_result",
          "data": {
            "text/plain": [
              "Int64Index([      1615,       3859,      14229,      16060,      20535,\n",
              "                 28327,      30767,      37459,      45215,      45795,\n",
              "            ...\n",
              "            1396154939, 1396196160, 1397068897, 1397208607, 1397490541,\n",
              "            1397824939, 1397992921, 1397993276, 1398022998, 1398799657],\n",
              "           dtype='int64', name='user_id', length=15881)"
            ]
          },
          "metadata": {
            "tags": []
          },
          "execution_count": 25
        }
      ]
    },
    {
      "cell_type": "code",
      "metadata": {
        "colab": {
          "base_uri": "https://localhost:8080/"
        },
        "id": "w0o-bzwTWx55",
        "outputId": "ec31c88d-588f-4dd7-d463-b02cf3a8d3f6"
      },
      "source": [
        "users_dislikes = user[user.user_id.isin(dislikes_users_ids)].set_index('user_id')['interface_lang'].copy()\r\n",
        "users_dislikes"
      ],
      "execution_count": null,
      "outputs": [
        {
          "output_type": "execute_result",
          "data": {
            "text/plain": [
              "user_id\n",
              "820326025     ru\n",
              "1040875164    en\n",
              "7719424       ru\n",
              "8239465       ru\n",
              "379260363     ru\n",
              "              ..\n",
              "125474047     ru\n",
              "608727447     ru\n",
              "1254871249    ru\n",
              "184147840     ru\n",
              "761418142     ru\n",
              "Name: interface_lang, Length: 15881, dtype: object"
            ]
          },
          "metadata": {
            "tags": []
          },
          "execution_count": 26
        }
      ]
    },
    {
      "cell_type": "code",
      "metadata": {
        "colab": {
          "base_uri": "https://localhost:8080/",
          "height": 137
        },
        "id": "zVUmhGXCWx1V",
        "outputId": "c40da863-c93b-45cb-c3ef-552e42889ee8"
      },
      "source": [
        "detailed_dislikes =  pd.DataFrame([users_dislikes, dislikes]).transpose()\r\n",
        "grouped_det_dislikes = detailed_dislikes.groupby('interface_lang').count()\r\n",
        "grouped_det_dislikes"
      ],
      "execution_count": null,
      "outputs": [
        {
          "output_type": "execute_result",
          "data": {
            "text/html": [
              "<div>\n",
              "<style scoped>\n",
              "    .dataframe tbody tr th:only-of-type {\n",
              "        vertical-align: middle;\n",
              "    }\n",
              "\n",
              "    .dataframe tbody tr th {\n",
              "        vertical-align: top;\n",
              "    }\n",
              "\n",
              "    .dataframe thead th {\n",
              "        text-align: right;\n",
              "    }\n",
              "</style>\n",
              "<table border=\"1\" class=\"dataframe\">\n",
              "  <thead>\n",
              "    <tr style=\"text-align: right;\">\n",
              "      <th></th>\n",
              "      <th>event_id</th>\n",
              "    </tr>\n",
              "    <tr>\n",
              "      <th>interface_lang</th>\n",
              "      <th></th>\n",
              "    </tr>\n",
              "  </thead>\n",
              "  <tbody>\n",
              "    <tr>\n",
              "      <th>en</th>\n",
              "      <td>3532</td>\n",
              "    </tr>\n",
              "    <tr>\n",
              "      <th>ru</th>\n",
              "      <td>12349</td>\n",
              "    </tr>\n",
              "  </tbody>\n",
              "</table>\n",
              "</div>"
            ],
            "text/plain": [
              "                event_id\n",
              "interface_lang          \n",
              "en                  3532\n",
              "ru                 12349"
            ]
          },
          "metadata": {
            "tags": []
          },
          "execution_count": 27
        }
      ]
    },
    {
      "cell_type": "code",
      "metadata": {
        "colab": {
          "base_uri": "https://localhost:8080/",
          "height": 542
        },
        "id": "FcBAGrBFXXr3",
        "outputId": "7ce476cb-f324-4e75-9387-5f2a74d81312"
      },
      "source": [
        "fig = px.bar(grouped_det_dislikes, x = grouped_det_dislikes.index, y = 'event_id')\r\n",
        "fig.show()"
      ],
      "execution_count": null,
      "outputs": [
        {
          "output_type": "display_data",
          "data": {
            "text/html": [
              "<html>\n",
              "<head><meta charset=\"utf-8\" /></head>\n",
              "<body>\n",
              "    <div>\n",
              "            <script src=\"https://cdnjs.cloudflare.com/ajax/libs/mathjax/2.7.5/MathJax.js?config=TeX-AMS-MML_SVG\"></script><script type=\"text/javascript\">if (window.MathJax) {MathJax.Hub.Config({SVG: {font: \"STIX-Web\"}});}</script>\n",
              "                <script type=\"text/javascript\">window.PlotlyConfig = {MathJaxConfig: 'local'};</script>\n",
              "        <script src=\"https://cdn.plot.ly/plotly-latest.min.js\"></script>    \n",
              "            <div id=\"9b83848b-da89-4f56-93b9-06ebd04e5401\" class=\"plotly-graph-div\" style=\"height:525px; width:100%;\"></div>\n",
              "            <script type=\"text/javascript\">\n",
              "                \n",
              "                    window.PLOTLYENV=window.PLOTLYENV || {};\n",
              "                    \n",
              "                if (document.getElementById(\"9b83848b-da89-4f56-93b9-06ebd04e5401\")) {\n",
              "                    Plotly.newPlot(\n",
              "                        '9b83848b-da89-4f56-93b9-06ebd04e5401',\n",
              "                        [{\"alignmentgroup\": \"True\", \"hoverlabel\": {\"namelength\": 0}, \"hovertemplate\": \"x=%{x}<br>event_id=%{y}\", \"legendgroup\": \"\", \"marker\": {\"color\": \"#636efa\"}, \"name\": \"\", \"offsetgroup\": \"\", \"orientation\": \"v\", \"showlegend\": false, \"textposition\": \"auto\", \"type\": \"bar\", \"x\": [\"en\", \"ru\"], \"xaxis\": \"x\", \"y\": [3532, 12349], \"yaxis\": \"y\"}],\n",
              "                        {\"barmode\": \"relative\", \"legend\": {\"tracegroupgap\": 0}, \"margin\": {\"t\": 60}, \"template\": {\"data\": {\"bar\": [{\"error_x\": {\"color\": \"#2a3f5f\"}, \"error_y\": {\"color\": \"#2a3f5f\"}, \"marker\": {\"line\": {\"color\": \"#E5ECF6\", \"width\": 0.5}}, \"type\": \"bar\"}], \"barpolar\": [{\"marker\": {\"line\": {\"color\": \"#E5ECF6\", \"width\": 0.5}}, \"type\": \"barpolar\"}], \"carpet\": [{\"aaxis\": {\"endlinecolor\": \"#2a3f5f\", \"gridcolor\": \"white\", \"linecolor\": \"white\", \"minorgridcolor\": \"white\", \"startlinecolor\": \"#2a3f5f\"}, \"baxis\": {\"endlinecolor\": \"#2a3f5f\", \"gridcolor\": \"white\", \"linecolor\": \"white\", \"minorgridcolor\": \"white\", \"startlinecolor\": \"#2a3f5f\"}, \"type\": \"carpet\"}], \"choropleth\": [{\"colorbar\": {\"outlinewidth\": 0, \"ticks\": \"\"}, \"type\": \"choropleth\"}], \"contour\": [{\"colorbar\": {\"outlinewidth\": 0, \"ticks\": \"\"}, \"colorscale\": [[0.0, \"#0d0887\"], [0.1111111111111111, \"#46039f\"], [0.2222222222222222, \"#7201a8\"], [0.3333333333333333, \"#9c179e\"], [0.4444444444444444, \"#bd3786\"], [0.5555555555555556, \"#d8576b\"], [0.6666666666666666, \"#ed7953\"], [0.7777777777777778, \"#fb9f3a\"], [0.8888888888888888, \"#fdca26\"], [1.0, \"#f0f921\"]], \"type\": \"contour\"}], \"contourcarpet\": [{\"colorbar\": {\"outlinewidth\": 0, \"ticks\": \"\"}, \"type\": \"contourcarpet\"}], \"heatmap\": [{\"colorbar\": {\"outlinewidth\": 0, \"ticks\": \"\"}, \"colorscale\": [[0.0, \"#0d0887\"], [0.1111111111111111, \"#46039f\"], [0.2222222222222222, \"#7201a8\"], [0.3333333333333333, \"#9c179e\"], [0.4444444444444444, \"#bd3786\"], [0.5555555555555556, \"#d8576b\"], [0.6666666666666666, \"#ed7953\"], [0.7777777777777778, \"#fb9f3a\"], [0.8888888888888888, \"#fdca26\"], [1.0, \"#f0f921\"]], \"type\": \"heatmap\"}], \"heatmapgl\": [{\"colorbar\": {\"outlinewidth\": 0, \"ticks\": \"\"}, \"colorscale\": [[0.0, \"#0d0887\"], [0.1111111111111111, \"#46039f\"], [0.2222222222222222, \"#7201a8\"], [0.3333333333333333, \"#9c179e\"], [0.4444444444444444, \"#bd3786\"], [0.5555555555555556, \"#d8576b\"], [0.6666666666666666, \"#ed7953\"], [0.7777777777777778, \"#fb9f3a\"], [0.8888888888888888, \"#fdca26\"], [1.0, \"#f0f921\"]], \"type\": \"heatmapgl\"}], \"histogram\": [{\"marker\": {\"colorbar\": {\"outlinewidth\": 0, \"ticks\": \"\"}}, \"type\": \"histogram\"}], \"histogram2d\": [{\"colorbar\": {\"outlinewidth\": 0, \"ticks\": \"\"}, \"colorscale\": [[0.0, \"#0d0887\"], [0.1111111111111111, \"#46039f\"], [0.2222222222222222, \"#7201a8\"], [0.3333333333333333, \"#9c179e\"], [0.4444444444444444, \"#bd3786\"], [0.5555555555555556, \"#d8576b\"], [0.6666666666666666, \"#ed7953\"], [0.7777777777777778, \"#fb9f3a\"], [0.8888888888888888, \"#fdca26\"], [1.0, \"#f0f921\"]], \"type\": \"histogram2d\"}], \"histogram2dcontour\": [{\"colorbar\": {\"outlinewidth\": 0, \"ticks\": \"\"}, \"colorscale\": [[0.0, \"#0d0887\"], [0.1111111111111111, \"#46039f\"], [0.2222222222222222, \"#7201a8\"], [0.3333333333333333, \"#9c179e\"], [0.4444444444444444, \"#bd3786\"], [0.5555555555555556, \"#d8576b\"], [0.6666666666666666, \"#ed7953\"], [0.7777777777777778, \"#fb9f3a\"], [0.8888888888888888, \"#fdca26\"], [1.0, \"#f0f921\"]], \"type\": \"histogram2dcontour\"}], \"mesh3d\": [{\"colorbar\": {\"outlinewidth\": 0, \"ticks\": \"\"}, \"type\": \"mesh3d\"}], \"parcoords\": [{\"line\": {\"colorbar\": {\"outlinewidth\": 0, \"ticks\": \"\"}}, \"type\": \"parcoords\"}], \"pie\": [{\"automargin\": true, \"type\": \"pie\"}], \"scatter\": [{\"marker\": {\"colorbar\": {\"outlinewidth\": 0, \"ticks\": \"\"}}, \"type\": \"scatter\"}], \"scatter3d\": [{\"line\": {\"colorbar\": {\"outlinewidth\": 0, \"ticks\": \"\"}}, \"marker\": {\"colorbar\": {\"outlinewidth\": 0, \"ticks\": \"\"}}, \"type\": \"scatter3d\"}], \"scattercarpet\": [{\"marker\": {\"colorbar\": {\"outlinewidth\": 0, \"ticks\": \"\"}}, \"type\": \"scattercarpet\"}], \"scattergeo\": [{\"marker\": {\"colorbar\": {\"outlinewidth\": 0, \"ticks\": \"\"}}, \"type\": \"scattergeo\"}], \"scattergl\": [{\"marker\": {\"colorbar\": {\"outlinewidth\": 0, \"ticks\": \"\"}}, \"type\": \"scattergl\"}], \"scattermapbox\": [{\"marker\": {\"colorbar\": {\"outlinewidth\": 0, \"ticks\": \"\"}}, \"type\": \"scattermapbox\"}], \"scatterpolar\": [{\"marker\": {\"colorbar\": {\"outlinewidth\": 0, \"ticks\": \"\"}}, \"type\": \"scatterpolar\"}], \"scatterpolargl\": [{\"marker\": {\"colorbar\": {\"outlinewidth\": 0, \"ticks\": \"\"}}, \"type\": \"scatterpolargl\"}], \"scatterternary\": [{\"marker\": {\"colorbar\": {\"outlinewidth\": 0, \"ticks\": \"\"}}, \"type\": \"scatterternary\"}], \"surface\": [{\"colorbar\": {\"outlinewidth\": 0, \"ticks\": \"\"}, \"colorscale\": [[0.0, \"#0d0887\"], [0.1111111111111111, \"#46039f\"], [0.2222222222222222, \"#7201a8\"], [0.3333333333333333, \"#9c179e\"], [0.4444444444444444, \"#bd3786\"], [0.5555555555555556, \"#d8576b\"], [0.6666666666666666, \"#ed7953\"], [0.7777777777777778, \"#fb9f3a\"], [0.8888888888888888, \"#fdca26\"], [1.0, \"#f0f921\"]], \"type\": \"surface\"}], \"table\": [{\"cells\": {\"fill\": {\"color\": \"#EBF0F8\"}, \"line\": {\"color\": \"white\"}}, \"header\": {\"fill\": {\"color\": \"#C8D4E3\"}, \"line\": {\"color\": \"white\"}}, \"type\": \"table\"}]}, \"layout\": {\"annotationdefaults\": {\"arrowcolor\": \"#2a3f5f\", \"arrowhead\": 0, \"arrowwidth\": 1}, \"coloraxis\": {\"colorbar\": {\"outlinewidth\": 0, \"ticks\": \"\"}}, \"colorscale\": {\"diverging\": [[0, \"#8e0152\"], [0.1, \"#c51b7d\"], [0.2, \"#de77ae\"], [0.3, \"#f1b6da\"], [0.4, \"#fde0ef\"], [0.5, \"#f7f7f7\"], [0.6, \"#e6f5d0\"], [0.7, \"#b8e186\"], [0.8, \"#7fbc41\"], [0.9, \"#4d9221\"], [1, \"#276419\"]], \"sequential\": [[0.0, \"#0d0887\"], [0.1111111111111111, \"#46039f\"], [0.2222222222222222, \"#7201a8\"], [0.3333333333333333, \"#9c179e\"], [0.4444444444444444, \"#bd3786\"], [0.5555555555555556, \"#d8576b\"], [0.6666666666666666, \"#ed7953\"], [0.7777777777777778, \"#fb9f3a\"], [0.8888888888888888, \"#fdca26\"], [1.0, \"#f0f921\"]], \"sequentialminus\": [[0.0, \"#0d0887\"], [0.1111111111111111, \"#46039f\"], [0.2222222222222222, \"#7201a8\"], [0.3333333333333333, \"#9c179e\"], [0.4444444444444444, \"#bd3786\"], [0.5555555555555556, \"#d8576b\"], [0.6666666666666666, \"#ed7953\"], [0.7777777777777778, \"#fb9f3a\"], [0.8888888888888888, \"#fdca26\"], [1.0, \"#f0f921\"]]}, \"colorway\": [\"#636efa\", \"#EF553B\", \"#00cc96\", \"#ab63fa\", \"#FFA15A\", \"#19d3f3\", \"#FF6692\", \"#B6E880\", \"#FF97FF\", \"#FECB52\"], \"font\": {\"color\": \"#2a3f5f\"}, \"geo\": {\"bgcolor\": \"white\", \"lakecolor\": \"white\", \"landcolor\": \"#E5ECF6\", \"showlakes\": true, \"showland\": true, \"subunitcolor\": \"white\"}, \"hoverlabel\": {\"align\": \"left\"}, \"hovermode\": \"closest\", \"mapbox\": {\"style\": \"light\"}, \"paper_bgcolor\": \"white\", \"plot_bgcolor\": \"#E5ECF6\", \"polar\": {\"angularaxis\": {\"gridcolor\": \"white\", \"linecolor\": \"white\", \"ticks\": \"\"}, \"bgcolor\": \"#E5ECF6\", \"radialaxis\": {\"gridcolor\": \"white\", \"linecolor\": \"white\", \"ticks\": \"\"}}, \"scene\": {\"xaxis\": {\"backgroundcolor\": \"#E5ECF6\", \"gridcolor\": \"white\", \"gridwidth\": 2, \"linecolor\": \"white\", \"showbackground\": true, \"ticks\": \"\", \"zerolinecolor\": \"white\"}, \"yaxis\": {\"backgroundcolor\": \"#E5ECF6\", \"gridcolor\": \"white\", \"gridwidth\": 2, \"linecolor\": \"white\", \"showbackground\": true, \"ticks\": \"\", \"zerolinecolor\": \"white\"}, \"zaxis\": {\"backgroundcolor\": \"#E5ECF6\", \"gridcolor\": \"white\", \"gridwidth\": 2, \"linecolor\": \"white\", \"showbackground\": true, \"ticks\": \"\", \"zerolinecolor\": \"white\"}}, \"shapedefaults\": {\"line\": {\"color\": \"#2a3f5f\"}}, \"ternary\": {\"aaxis\": {\"gridcolor\": \"white\", \"linecolor\": \"white\", \"ticks\": \"\"}, \"baxis\": {\"gridcolor\": \"white\", \"linecolor\": \"white\", \"ticks\": \"\"}, \"bgcolor\": \"#E5ECF6\", \"caxis\": {\"gridcolor\": \"white\", \"linecolor\": \"white\", \"ticks\": \"\"}}, \"title\": {\"x\": 0.05}, \"xaxis\": {\"automargin\": true, \"gridcolor\": \"white\", \"linecolor\": \"white\", \"ticks\": \"\", \"title\": {\"standoff\": 15}, \"zerolinecolor\": \"white\", \"zerolinewidth\": 2}, \"yaxis\": {\"automargin\": true, \"gridcolor\": \"white\", \"linecolor\": \"white\", \"ticks\": \"\", \"title\": {\"standoff\": 15}, \"zerolinecolor\": \"white\", \"zerolinewidth\": 2}}}, \"xaxis\": {\"anchor\": \"y\", \"domain\": [0.0, 1.0], \"title\": {\"text\": \"x\"}}, \"yaxis\": {\"anchor\": \"x\", \"domain\": [0.0, 1.0], \"title\": {\"text\": \"event_id\"}}},\n",
              "                        {\"responsive\": true}\n",
              "                    ).then(function(){\n",
              "                            \n",
              "var gd = document.getElementById('9b83848b-da89-4f56-93b9-06ebd04e5401');\n",
              "var x = new MutationObserver(function (mutations, observer) {{\n",
              "        var display = window.getComputedStyle(gd).display;\n",
              "        if (!display || display === 'none') {{\n",
              "            console.log([gd, 'removed!']);\n",
              "            Plotly.purge(gd);\n",
              "            observer.disconnect();\n",
              "        }}\n",
              "}});\n",
              "\n",
              "// Listen for the removal of the full notebook cells\n",
              "var notebookContainer = gd.closest('#notebook-container');\n",
              "if (notebookContainer) {{\n",
              "    x.observe(notebookContainer, {childList: true});\n",
              "}}\n",
              "\n",
              "// Listen for the clearing of the current output cell\n",
              "var outputEl = gd.closest('.output');\n",
              "if (outputEl) {{\n",
              "    x.observe(outputEl, {childList: true});\n",
              "}}\n",
              "\n",
              "                        })\n",
              "                };\n",
              "                \n",
              "            </script>\n",
              "        </div>\n",
              "</body>\n",
              "</html>"
            ]
          },
          "metadata": {
            "tags": []
          }
        }
      ]
    },
    {
      "cell_type": "markdown",
      "metadata": {
        "id": "JXq3jkERZco7"
      },
      "source": [
        "### Все реакции"
      ]
    },
    {
      "cell_type": "code",
      "metadata": {
        "colab": {
          "base_uri": "https://localhost:8080/"
        },
        "id": "kW6uABNhXXpv",
        "outputId": "290796fa-9295-44fc-9482-00790c71aa61"
      },
      "source": [
        "reactions_users_ids = reactions.index\r\n",
        "reactions_users_ids"
      ],
      "execution_count": null,
      "outputs": [
        {
          "output_type": "execute_result",
          "data": {
            "text/plain": [
              "Int64Index([      1615,       3859,      12199,      13934,      14229,\n",
              "                 16060,      20535,      28327,      30767,      37459,\n",
              "            ...\n",
              "            1398022998, 1398188580, 1398529159, 1398678076, 1398799657,\n",
              "            1399229617, 1399329801, 1399419434, 1399511615, 1399599499],\n",
              "           dtype='int64', name='user_id', length=19699)"
            ]
          },
          "metadata": {
            "tags": []
          },
          "execution_count": 29
        }
      ]
    },
    {
      "cell_type": "code",
      "metadata": {
        "colab": {
          "base_uri": "https://localhost:8080/"
        },
        "id": "X9zznfncXXmw",
        "outputId": "561a2eb0-0f69-4a63-8ee0-b88c89d91dc0"
      },
      "source": [
        "users_reactions = user[user.user_id.isin(reactions_users_ids)].set_index('user_id')['interface_lang'].copy()\r\n",
        "users_reactions"
      ],
      "execution_count": null,
      "outputs": [
        {
          "output_type": "execute_result",
          "data": {
            "text/plain": [
              "user_id\n",
              "820326025     ru\n",
              "1040875164    en\n",
              "449432539     ru\n",
              "230248850     ru\n",
              "7719424       ru\n",
              "              ..\n",
              "125474047     ru\n",
              "608727447     ru\n",
              "1254871249    ru\n",
              "184147840     ru\n",
              "761418142     ru\n",
              "Name: interface_lang, Length: 19699, dtype: object"
            ]
          },
          "metadata": {
            "tags": []
          },
          "execution_count": 30
        }
      ]
    },
    {
      "cell_type": "code",
      "metadata": {
        "id": "RlKHtVWQXXkE"
      },
      "source": [
        "detailed_reactions = pd.DataFrame([users_reactions, reactions]).transpose()\r\n",
        "grouped_det_reactions = detailed_reactions.groupby('interface_lang').count()"
      ],
      "execution_count": null,
      "outputs": []
    },
    {
      "cell_type": "code",
      "metadata": {
        "colab": {
          "base_uri": "https://localhost:8080/",
          "height": 542
        },
        "id": "AJeUNpw0am7V",
        "outputId": "652c55d3-1181-4aac-ef59-f4e761908539"
      },
      "source": [
        "fig = px.bar(grouped_det_reactions, x = grouped_det_reactions.index, y = 'event_id')\r\n",
        "fig.show()"
      ],
      "execution_count": null,
      "outputs": [
        {
          "output_type": "display_data",
          "data": {
            "text/html": [
              "<html>\n",
              "<head><meta charset=\"utf-8\" /></head>\n",
              "<body>\n",
              "    <div>\n",
              "            <script src=\"https://cdnjs.cloudflare.com/ajax/libs/mathjax/2.7.5/MathJax.js?config=TeX-AMS-MML_SVG\"></script><script type=\"text/javascript\">if (window.MathJax) {MathJax.Hub.Config({SVG: {font: \"STIX-Web\"}});}</script>\n",
              "                <script type=\"text/javascript\">window.PlotlyConfig = {MathJaxConfig: 'local'};</script>\n",
              "        <script src=\"https://cdn.plot.ly/plotly-latest.min.js\"></script>    \n",
              "            <div id=\"fb353838-6312-4d0a-a902-191d6751dc43\" class=\"plotly-graph-div\" style=\"height:525px; width:100%;\"></div>\n",
              "            <script type=\"text/javascript\">\n",
              "                \n",
              "                    window.PLOTLYENV=window.PLOTLYENV || {};\n",
              "                    \n",
              "                if (document.getElementById(\"fb353838-6312-4d0a-a902-191d6751dc43\")) {\n",
              "                    Plotly.newPlot(\n",
              "                        'fb353838-6312-4d0a-a902-191d6751dc43',\n",
              "                        [{\"alignmentgroup\": \"True\", \"hoverlabel\": {\"namelength\": 0}, \"hovertemplate\": \"x=%{x}<br>event_id=%{y}\", \"legendgroup\": \"\", \"marker\": {\"color\": \"#636efa\"}, \"name\": \"\", \"offsetgroup\": \"\", \"orientation\": \"v\", \"showlegend\": false, \"textposition\": \"auto\", \"type\": \"bar\", \"x\": [\"en\", \"ru\"], \"xaxis\": \"x\", \"y\": [5684, 14015], \"yaxis\": \"y\"}],\n",
              "                        {\"barmode\": \"relative\", \"legend\": {\"tracegroupgap\": 0}, \"margin\": {\"t\": 60}, \"template\": {\"data\": {\"bar\": [{\"error_x\": {\"color\": \"#2a3f5f\"}, \"error_y\": {\"color\": \"#2a3f5f\"}, \"marker\": {\"line\": {\"color\": \"#E5ECF6\", \"width\": 0.5}}, \"type\": \"bar\"}], \"barpolar\": [{\"marker\": {\"line\": {\"color\": \"#E5ECF6\", \"width\": 0.5}}, \"type\": \"barpolar\"}], \"carpet\": [{\"aaxis\": {\"endlinecolor\": \"#2a3f5f\", \"gridcolor\": \"white\", \"linecolor\": \"white\", \"minorgridcolor\": \"white\", \"startlinecolor\": \"#2a3f5f\"}, \"baxis\": {\"endlinecolor\": \"#2a3f5f\", \"gridcolor\": \"white\", \"linecolor\": \"white\", \"minorgridcolor\": \"white\", \"startlinecolor\": \"#2a3f5f\"}, \"type\": \"carpet\"}], \"choropleth\": [{\"colorbar\": {\"outlinewidth\": 0, \"ticks\": \"\"}, \"type\": \"choropleth\"}], \"contour\": [{\"colorbar\": {\"outlinewidth\": 0, \"ticks\": \"\"}, \"colorscale\": [[0.0, \"#0d0887\"], [0.1111111111111111, \"#46039f\"], [0.2222222222222222, \"#7201a8\"], [0.3333333333333333, \"#9c179e\"], [0.4444444444444444, \"#bd3786\"], [0.5555555555555556, \"#d8576b\"], [0.6666666666666666, \"#ed7953\"], [0.7777777777777778, \"#fb9f3a\"], [0.8888888888888888, \"#fdca26\"], [1.0, \"#f0f921\"]], \"type\": \"contour\"}], \"contourcarpet\": [{\"colorbar\": {\"outlinewidth\": 0, \"ticks\": \"\"}, \"type\": \"contourcarpet\"}], \"heatmap\": [{\"colorbar\": {\"outlinewidth\": 0, \"ticks\": \"\"}, \"colorscale\": [[0.0, \"#0d0887\"], [0.1111111111111111, \"#46039f\"], [0.2222222222222222, \"#7201a8\"], [0.3333333333333333, \"#9c179e\"], [0.4444444444444444, \"#bd3786\"], [0.5555555555555556, \"#d8576b\"], [0.6666666666666666, \"#ed7953\"], [0.7777777777777778, \"#fb9f3a\"], [0.8888888888888888, \"#fdca26\"], [1.0, \"#f0f921\"]], \"type\": \"heatmap\"}], \"heatmapgl\": [{\"colorbar\": {\"outlinewidth\": 0, \"ticks\": \"\"}, \"colorscale\": [[0.0, \"#0d0887\"], [0.1111111111111111, \"#46039f\"], [0.2222222222222222, \"#7201a8\"], [0.3333333333333333, \"#9c179e\"], [0.4444444444444444, \"#bd3786\"], [0.5555555555555556, \"#d8576b\"], [0.6666666666666666, \"#ed7953\"], [0.7777777777777778, \"#fb9f3a\"], [0.8888888888888888, \"#fdca26\"], [1.0, \"#f0f921\"]], \"type\": \"heatmapgl\"}], \"histogram\": [{\"marker\": {\"colorbar\": {\"outlinewidth\": 0, \"ticks\": \"\"}}, \"type\": \"histogram\"}], \"histogram2d\": [{\"colorbar\": {\"outlinewidth\": 0, \"ticks\": \"\"}, \"colorscale\": [[0.0, \"#0d0887\"], [0.1111111111111111, \"#46039f\"], [0.2222222222222222, \"#7201a8\"], [0.3333333333333333, \"#9c179e\"], [0.4444444444444444, \"#bd3786\"], [0.5555555555555556, \"#d8576b\"], [0.6666666666666666, \"#ed7953\"], [0.7777777777777778, \"#fb9f3a\"], [0.8888888888888888, \"#fdca26\"], [1.0, \"#f0f921\"]], \"type\": \"histogram2d\"}], \"histogram2dcontour\": [{\"colorbar\": {\"outlinewidth\": 0, \"ticks\": \"\"}, \"colorscale\": [[0.0, \"#0d0887\"], [0.1111111111111111, \"#46039f\"], [0.2222222222222222, \"#7201a8\"], [0.3333333333333333, \"#9c179e\"], [0.4444444444444444, \"#bd3786\"], [0.5555555555555556, \"#d8576b\"], [0.6666666666666666, \"#ed7953\"], [0.7777777777777778, \"#fb9f3a\"], [0.8888888888888888, \"#fdca26\"], [1.0, \"#f0f921\"]], \"type\": \"histogram2dcontour\"}], \"mesh3d\": [{\"colorbar\": {\"outlinewidth\": 0, \"ticks\": \"\"}, \"type\": \"mesh3d\"}], \"parcoords\": [{\"line\": {\"colorbar\": {\"outlinewidth\": 0, \"ticks\": \"\"}}, \"type\": \"parcoords\"}], \"pie\": [{\"automargin\": true, \"type\": \"pie\"}], \"scatter\": [{\"marker\": {\"colorbar\": {\"outlinewidth\": 0, \"ticks\": \"\"}}, \"type\": \"scatter\"}], \"scatter3d\": [{\"line\": {\"colorbar\": {\"outlinewidth\": 0, \"ticks\": \"\"}}, \"marker\": {\"colorbar\": {\"outlinewidth\": 0, \"ticks\": \"\"}}, \"type\": \"scatter3d\"}], \"scattercarpet\": [{\"marker\": {\"colorbar\": {\"outlinewidth\": 0, \"ticks\": \"\"}}, \"type\": \"scattercarpet\"}], \"scattergeo\": [{\"marker\": {\"colorbar\": {\"outlinewidth\": 0, \"ticks\": \"\"}}, \"type\": \"scattergeo\"}], \"scattergl\": [{\"marker\": {\"colorbar\": {\"outlinewidth\": 0, \"ticks\": \"\"}}, \"type\": \"scattergl\"}], \"scattermapbox\": [{\"marker\": {\"colorbar\": {\"outlinewidth\": 0, \"ticks\": \"\"}}, \"type\": \"scattermapbox\"}], \"scatterpolar\": [{\"marker\": {\"colorbar\": {\"outlinewidth\": 0, \"ticks\": \"\"}}, \"type\": \"scatterpolar\"}], \"scatterpolargl\": [{\"marker\": {\"colorbar\": {\"outlinewidth\": 0, \"ticks\": \"\"}}, \"type\": \"scatterpolargl\"}], \"scatterternary\": [{\"marker\": {\"colorbar\": {\"outlinewidth\": 0, \"ticks\": \"\"}}, \"type\": \"scatterternary\"}], \"surface\": [{\"colorbar\": {\"outlinewidth\": 0, \"ticks\": \"\"}, \"colorscale\": [[0.0, \"#0d0887\"], [0.1111111111111111, \"#46039f\"], [0.2222222222222222, \"#7201a8\"], [0.3333333333333333, \"#9c179e\"], [0.4444444444444444, \"#bd3786\"], [0.5555555555555556, \"#d8576b\"], [0.6666666666666666, \"#ed7953\"], [0.7777777777777778, \"#fb9f3a\"], [0.8888888888888888, \"#fdca26\"], [1.0, \"#f0f921\"]], \"type\": \"surface\"}], \"table\": [{\"cells\": {\"fill\": {\"color\": \"#EBF0F8\"}, \"line\": {\"color\": \"white\"}}, \"header\": {\"fill\": {\"color\": \"#C8D4E3\"}, \"line\": {\"color\": \"white\"}}, \"type\": \"table\"}]}, \"layout\": {\"annotationdefaults\": {\"arrowcolor\": \"#2a3f5f\", \"arrowhead\": 0, \"arrowwidth\": 1}, \"coloraxis\": {\"colorbar\": {\"outlinewidth\": 0, \"ticks\": \"\"}}, \"colorscale\": {\"diverging\": [[0, \"#8e0152\"], [0.1, \"#c51b7d\"], [0.2, \"#de77ae\"], [0.3, \"#f1b6da\"], [0.4, \"#fde0ef\"], [0.5, \"#f7f7f7\"], [0.6, \"#e6f5d0\"], [0.7, \"#b8e186\"], [0.8, \"#7fbc41\"], [0.9, \"#4d9221\"], [1, \"#276419\"]], \"sequential\": [[0.0, \"#0d0887\"], [0.1111111111111111, \"#46039f\"], [0.2222222222222222, \"#7201a8\"], [0.3333333333333333, \"#9c179e\"], [0.4444444444444444, \"#bd3786\"], [0.5555555555555556, \"#d8576b\"], [0.6666666666666666, \"#ed7953\"], [0.7777777777777778, \"#fb9f3a\"], [0.8888888888888888, \"#fdca26\"], [1.0, \"#f0f921\"]], \"sequentialminus\": [[0.0, \"#0d0887\"], [0.1111111111111111, \"#46039f\"], [0.2222222222222222, \"#7201a8\"], [0.3333333333333333, \"#9c179e\"], [0.4444444444444444, \"#bd3786\"], [0.5555555555555556, \"#d8576b\"], [0.6666666666666666, \"#ed7953\"], [0.7777777777777778, \"#fb9f3a\"], [0.8888888888888888, \"#fdca26\"], [1.0, \"#f0f921\"]]}, \"colorway\": [\"#636efa\", \"#EF553B\", \"#00cc96\", \"#ab63fa\", \"#FFA15A\", \"#19d3f3\", \"#FF6692\", \"#B6E880\", \"#FF97FF\", \"#FECB52\"], \"font\": {\"color\": \"#2a3f5f\"}, \"geo\": {\"bgcolor\": \"white\", \"lakecolor\": \"white\", \"landcolor\": \"#E5ECF6\", \"showlakes\": true, \"showland\": true, \"subunitcolor\": \"white\"}, \"hoverlabel\": {\"align\": \"left\"}, \"hovermode\": \"closest\", \"mapbox\": {\"style\": \"light\"}, \"paper_bgcolor\": \"white\", \"plot_bgcolor\": \"#E5ECF6\", \"polar\": {\"angularaxis\": {\"gridcolor\": \"white\", \"linecolor\": \"white\", \"ticks\": \"\"}, \"bgcolor\": \"#E5ECF6\", \"radialaxis\": {\"gridcolor\": \"white\", \"linecolor\": \"white\", \"ticks\": \"\"}}, \"scene\": {\"xaxis\": {\"backgroundcolor\": \"#E5ECF6\", \"gridcolor\": \"white\", \"gridwidth\": 2, \"linecolor\": \"white\", \"showbackground\": true, \"ticks\": \"\", \"zerolinecolor\": \"white\"}, \"yaxis\": {\"backgroundcolor\": \"#E5ECF6\", \"gridcolor\": \"white\", \"gridwidth\": 2, \"linecolor\": \"white\", \"showbackground\": true, \"ticks\": \"\", \"zerolinecolor\": \"white\"}, \"zaxis\": {\"backgroundcolor\": \"#E5ECF6\", \"gridcolor\": \"white\", \"gridwidth\": 2, \"linecolor\": \"white\", \"showbackground\": true, \"ticks\": \"\", \"zerolinecolor\": \"white\"}}, \"shapedefaults\": {\"line\": {\"color\": \"#2a3f5f\"}}, \"ternary\": {\"aaxis\": {\"gridcolor\": \"white\", \"linecolor\": \"white\", \"ticks\": \"\"}, \"baxis\": {\"gridcolor\": \"white\", \"linecolor\": \"white\", \"ticks\": \"\"}, \"bgcolor\": \"#E5ECF6\", \"caxis\": {\"gridcolor\": \"white\", \"linecolor\": \"white\", \"ticks\": \"\"}}, \"title\": {\"x\": 0.05}, \"xaxis\": {\"automargin\": true, \"gridcolor\": \"white\", \"linecolor\": \"white\", \"ticks\": \"\", \"title\": {\"standoff\": 15}, \"zerolinecolor\": \"white\", \"zerolinewidth\": 2}, \"yaxis\": {\"automargin\": true, \"gridcolor\": \"white\", \"linecolor\": \"white\", \"ticks\": \"\", \"title\": {\"standoff\": 15}, \"zerolinecolor\": \"white\", \"zerolinewidth\": 2}}}, \"xaxis\": {\"anchor\": \"y\", \"domain\": [0.0, 1.0], \"title\": {\"text\": \"x\"}}, \"yaxis\": {\"anchor\": \"x\", \"domain\": [0.0, 1.0], \"title\": {\"text\": \"event_id\"}}},\n",
              "                        {\"responsive\": true}\n",
              "                    ).then(function(){\n",
              "                            \n",
              "var gd = document.getElementById('fb353838-6312-4d0a-a902-191d6751dc43');\n",
              "var x = new MutationObserver(function (mutations, observer) {{\n",
              "        var display = window.getComputedStyle(gd).display;\n",
              "        if (!display || display === 'none') {{\n",
              "            console.log([gd, 'removed!']);\n",
              "            Plotly.purge(gd);\n",
              "            observer.disconnect();\n",
              "        }}\n",
              "}});\n",
              "\n",
              "// Listen for the removal of the full notebook cells\n",
              "var notebookContainer = gd.closest('#notebook-container');\n",
              "if (notebookContainer) {{\n",
              "    x.observe(notebookContainer, {childList: true});\n",
              "}}\n",
              "\n",
              "// Listen for the clearing of the current output cell\n",
              "var outputEl = gd.closest('.output');\n",
              "if (outputEl) {{\n",
              "    x.observe(outputEl, {childList: true});\n",
              "}}\n",
              "\n",
              "                        })\n",
              "                };\n",
              "                \n",
              "            </script>\n",
              "        </div>\n",
              "</body>\n",
              "</html>"
            ]
          },
          "metadata": {
            "tags": []
          }
        }
      ]
    },
    {
      "cell_type": "code",
      "metadata": {
        "colab": {
          "base_uri": "https://localhost:8080/",
          "height": 137
        },
        "id": "iR0MzlGXczKx",
        "outputId": "77c48b5c-caa0-49f0-a768-13130e52061d"
      },
      "source": [
        "grouped_det_likes"
      ],
      "execution_count": null,
      "outputs": [
        {
          "output_type": "execute_result",
          "data": {
            "text/html": [
              "<div>\n",
              "<style scoped>\n",
              "    .dataframe tbody tr th:only-of-type {\n",
              "        vertical-align: middle;\n",
              "    }\n",
              "\n",
              "    .dataframe tbody tr th {\n",
              "        vertical-align: top;\n",
              "    }\n",
              "\n",
              "    .dataframe thead th {\n",
              "        text-align: right;\n",
              "    }\n",
              "</style>\n",
              "<table border=\"1\" class=\"dataframe\">\n",
              "  <thead>\n",
              "    <tr style=\"text-align: right;\">\n",
              "      <th></th>\n",
              "      <th>event_id</th>\n",
              "    </tr>\n",
              "    <tr>\n",
              "      <th>interface_lang</th>\n",
              "      <th></th>\n",
              "    </tr>\n",
              "  </thead>\n",
              "  <tbody>\n",
              "    <tr>\n",
              "      <th>en</th>\n",
              "      <td>4546</td>\n",
              "    </tr>\n",
              "    <tr>\n",
              "      <th>ru</th>\n",
              "      <td>12087</td>\n",
              "    </tr>\n",
              "  </tbody>\n",
              "</table>\n",
              "</div>"
            ],
            "text/plain": [
              "                event_id\n",
              "interface_lang          \n",
              "en                  4546\n",
              "ru                 12087"
            ]
          },
          "metadata": {
            "tags": []
          },
          "execution_count": 33
        }
      ]
    },
    {
      "cell_type": "code",
      "metadata": {
        "colab": {
          "base_uri": "https://localhost:8080/",
          "height": 137
        },
        "id": "5SMDIjt6bG7s",
        "outputId": "312f6e9f-6617-48ca-db4e-92c6c8e7a368"
      },
      "source": [
        "grouped_det_dislikes"
      ],
      "execution_count": null,
      "outputs": [
        {
          "output_type": "execute_result",
          "data": {
            "text/html": [
              "<div>\n",
              "<style scoped>\n",
              "    .dataframe tbody tr th:only-of-type {\n",
              "        vertical-align: middle;\n",
              "    }\n",
              "\n",
              "    .dataframe tbody tr th {\n",
              "        vertical-align: top;\n",
              "    }\n",
              "\n",
              "    .dataframe thead th {\n",
              "        text-align: right;\n",
              "    }\n",
              "</style>\n",
              "<table border=\"1\" class=\"dataframe\">\n",
              "  <thead>\n",
              "    <tr style=\"text-align: right;\">\n",
              "      <th></th>\n",
              "      <th>event_id</th>\n",
              "    </tr>\n",
              "    <tr>\n",
              "      <th>interface_lang</th>\n",
              "      <th></th>\n",
              "    </tr>\n",
              "  </thead>\n",
              "  <tbody>\n",
              "    <tr>\n",
              "      <th>en</th>\n",
              "      <td>3532</td>\n",
              "    </tr>\n",
              "    <tr>\n",
              "      <th>ru</th>\n",
              "      <td>12349</td>\n",
              "    </tr>\n",
              "  </tbody>\n",
              "</table>\n",
              "</div>"
            ],
            "text/plain": [
              "                event_id\n",
              "interface_lang          \n",
              "en                  3532\n",
              "ru                 12349"
            ]
          },
          "metadata": {
            "tags": []
          },
          "execution_count": 34
        }
      ]
    },
    {
      "cell_type": "code",
      "metadata": {
        "colab": {
          "base_uri": "https://localhost:8080/",
          "height": 137
        },
        "id": "QxTE_EM2bG0n",
        "outputId": "6b43a923-8c81-4a7f-f2c9-fa083f8029f2"
      },
      "source": [
        "grouped_det_likes / grouped_det_dislikes"
      ],
      "execution_count": null,
      "outputs": [
        {
          "output_type": "execute_result",
          "data": {
            "text/html": [
              "<div>\n",
              "<style scoped>\n",
              "    .dataframe tbody tr th:only-of-type {\n",
              "        vertical-align: middle;\n",
              "    }\n",
              "\n",
              "    .dataframe tbody tr th {\n",
              "        vertical-align: top;\n",
              "    }\n",
              "\n",
              "    .dataframe thead th {\n",
              "        text-align: right;\n",
              "    }\n",
              "</style>\n",
              "<table border=\"1\" class=\"dataframe\">\n",
              "  <thead>\n",
              "    <tr style=\"text-align: right;\">\n",
              "      <th></th>\n",
              "      <th>event_id</th>\n",
              "    </tr>\n",
              "    <tr>\n",
              "      <th>interface_lang</th>\n",
              "      <th></th>\n",
              "    </tr>\n",
              "  </thead>\n",
              "  <tbody>\n",
              "    <tr>\n",
              "      <th>en</th>\n",
              "      <td>1.287089</td>\n",
              "    </tr>\n",
              "    <tr>\n",
              "      <th>ru</th>\n",
              "      <td>0.978784</td>\n",
              "    </tr>\n",
              "  </tbody>\n",
              "</table>\n",
              "</div>"
            ],
            "text/plain": [
              "                event_id\n",
              "interface_lang          \n",
              "en              1.287089\n",
              "ru              0.978784"
            ]
          },
          "metadata": {
            "tags": []
          },
          "execution_count": 35
        }
      ]
    },
    {
      "cell_type": "code",
      "metadata": {
        "colab": {
          "base_uri": "https://localhost:8080/",
          "height": 137
        },
        "id": "YN0AmAv7cZxo",
        "outputId": "ecb1024f-3a4a-471a-b8f8-470760528836"
      },
      "source": [
        "grouped_det_reactions"
      ],
      "execution_count": null,
      "outputs": [
        {
          "output_type": "execute_result",
          "data": {
            "text/html": [
              "<div>\n",
              "<style scoped>\n",
              "    .dataframe tbody tr th:only-of-type {\n",
              "        vertical-align: middle;\n",
              "    }\n",
              "\n",
              "    .dataframe tbody tr th {\n",
              "        vertical-align: top;\n",
              "    }\n",
              "\n",
              "    .dataframe thead th {\n",
              "        text-align: right;\n",
              "    }\n",
              "</style>\n",
              "<table border=\"1\" class=\"dataframe\">\n",
              "  <thead>\n",
              "    <tr style=\"text-align: right;\">\n",
              "      <th></th>\n",
              "      <th>event_id</th>\n",
              "    </tr>\n",
              "    <tr>\n",
              "      <th>interface_lang</th>\n",
              "      <th></th>\n",
              "    </tr>\n",
              "  </thead>\n",
              "  <tbody>\n",
              "    <tr>\n",
              "      <th>en</th>\n",
              "      <td>5684</td>\n",
              "    </tr>\n",
              "    <tr>\n",
              "      <th>ru</th>\n",
              "      <td>14015</td>\n",
              "    </tr>\n",
              "  </tbody>\n",
              "</table>\n",
              "</div>"
            ],
            "text/plain": [
              "                event_id\n",
              "interface_lang          \n",
              "en                  5684\n",
              "ru                 14015"
            ]
          },
          "metadata": {
            "tags": []
          },
          "execution_count": 36
        }
      ]
    },
    {
      "cell_type": "markdown",
      "metadata": {
        "id": "OyhWP3L0avQX"
      },
      "source": [
        "Выводы, которые можно сделать из проделанной работы из имеющихся данных:\r\n",
        "- В наблюдении кол-во людей с RU интерфейсом преобладает над иными значениями в ~3 раза, но это не означает, что они более активны\r\n",
        "- Люди с EN интерфейсом предпочитают лайкать мемы (L/D показатель = 1.28 для EN и ~0.98 для RU)"
      ]
    },
    {
      "cell_type": "markdown",
      "metadata": {
        "id": "VZ37kIc-o3QM"
      },
      "source": [
        "# ДЗ\r\n",
        "- Построить гипотезы (2-3 штуки)\r\n",
        "- Датасет + модель (какой мем какому пользователю зайдет)\r\n",
        "- Реком система в цикле(как вариант) будет смотреть каждый мем и классифицировать на 1 или 0\r\n",
        "- Презентация"
      ]
    },
    {
      "cell_type": "code",
      "metadata": {
        "colab": {
          "base_uri": "https://localhost:8080/"
        },
        "id": "Em4GZJl7ncMv",
        "outputId": "b2d94896-d480-4c66-d0b3-b9afa6ce8a0b"
      },
      "source": [
        "meme.meme_type.value_counts()"
      ],
      "execution_count": null,
      "outputs": [
        {
          "output_type": "execute_result",
          "data": {
            "text/plain": [
              "photo        55917\n",
              "animation     2885\n",
              "video         2714\n",
              "Name: meme_type, dtype: int64"
            ]
          },
          "metadata": {
            "tags": []
          },
          "execution_count": 37
        }
      ]
    },
    {
      "cell_type": "markdown",
      "metadata": {
        "id": "rerdt2X9zFuS"
      },
      "source": [
        "## Гипотеза №1: отношение l/d у мужчин ниже, чем у женщин"
      ]
    },
    {
      "cell_type": "code",
      "metadata": {
        "id": "KQBgpg1VpvaI"
      },
      "source": [
        "data_for_gender = event[['reaction_id', 'user_id']].copy()"
      ],
      "execution_count": null,
      "outputs": []
    },
    {
      "cell_type": "code",
      "metadata": {
        "colab": {
          "base_uri": "https://localhost:8080/",
          "height": 406
        },
        "id": "_wDR64GIzO-T",
        "outputId": "2734356b-c297-405f-df77-95eba9f81016"
      },
      "source": [
        "data_for_gender"
      ],
      "execution_count": null,
      "outputs": [
        {
          "output_type": "execute_result",
          "data": {
            "text/html": [
              "<div>\n",
              "<style scoped>\n",
              "    .dataframe tbody tr th:only-of-type {\n",
              "        vertical-align: middle;\n",
              "    }\n",
              "\n",
              "    .dataframe tbody tr th {\n",
              "        vertical-align: top;\n",
              "    }\n",
              "\n",
              "    .dataframe thead th {\n",
              "        text-align: right;\n",
              "    }\n",
              "</style>\n",
              "<table border=\"1\" class=\"dataframe\">\n",
              "  <thead>\n",
              "    <tr style=\"text-align: right;\">\n",
              "      <th></th>\n",
              "      <th>reaction_id</th>\n",
              "      <th>user_id</th>\n",
              "    </tr>\n",
              "  </thead>\n",
              "  <tbody>\n",
              "    <tr>\n",
              "      <th>0</th>\n",
              "      <td>2.0</td>\n",
              "      <td>280747086</td>\n",
              "    </tr>\n",
              "    <tr>\n",
              "      <th>1</th>\n",
              "      <td>1.0</td>\n",
              "      <td>285739883</td>\n",
              "    </tr>\n",
              "    <tr>\n",
              "      <th>2</th>\n",
              "      <td>1.0</td>\n",
              "      <td>280747086</td>\n",
              "    </tr>\n",
              "    <tr>\n",
              "      <th>3</th>\n",
              "      <td>NaN</td>\n",
              "      <td>78991522</td>\n",
              "    </tr>\n",
              "    <tr>\n",
              "      <th>4</th>\n",
              "      <td>2.0</td>\n",
              "      <td>860086058</td>\n",
              "    </tr>\n",
              "    <tr>\n",
              "      <th>...</th>\n",
              "      <td>...</td>\n",
              "      <td>...</td>\n",
              "    </tr>\n",
              "    <tr>\n",
              "      <th>3652698</th>\n",
              "      <td>2.0</td>\n",
              "      <td>860086058</td>\n",
              "    </tr>\n",
              "    <tr>\n",
              "      <th>3652699</th>\n",
              "      <td>2.0</td>\n",
              "      <td>381510059</td>\n",
              "    </tr>\n",
              "    <tr>\n",
              "      <th>3652700</th>\n",
              "      <td>2.0</td>\n",
              "      <td>285739883</td>\n",
              "    </tr>\n",
              "    <tr>\n",
              "      <th>3652701</th>\n",
              "      <td>1.0</td>\n",
              "      <td>245482</td>\n",
              "    </tr>\n",
              "    <tr>\n",
              "      <th>3652702</th>\n",
              "      <td>2.0</td>\n",
              "      <td>1023088184</td>\n",
              "    </tr>\n",
              "  </tbody>\n",
              "</table>\n",
              "<p>3652703 rows × 2 columns</p>\n",
              "</div>"
            ],
            "text/plain": [
              "         reaction_id     user_id\n",
              "0                2.0   280747086\n",
              "1                1.0   285739883\n",
              "2                1.0   280747086\n",
              "3                NaN    78991522\n",
              "4                2.0   860086058\n",
              "...              ...         ...\n",
              "3652698          2.0   860086058\n",
              "3652699          2.0   381510059\n",
              "3652700          2.0   285739883\n",
              "3652701          1.0      245482\n",
              "3652702          2.0  1023088184\n",
              "\n",
              "[3652703 rows x 2 columns]"
            ]
          },
          "metadata": {
            "tags": []
          },
          "execution_count": 39
        }
      ]
    },
    {
      "cell_type": "code",
      "metadata": {
        "id": "Q5ptG8WYzubu"
      },
      "source": [
        "users = user[['user_id', 'gender']].copy()"
      ],
      "execution_count": null,
      "outputs": []
    },
    {
      "cell_type": "code",
      "metadata": {
        "colab": {
          "base_uri": "https://localhost:8080/",
          "height": 406
        },
        "id": "Rl_LOq-Fk5it",
        "outputId": "9e35a9f2-a05c-42a6-e876-492b2b71ef52"
      },
      "source": [
        "users"
      ],
      "execution_count": null,
      "outputs": [
        {
          "output_type": "execute_result",
          "data": {
            "text/html": [
              "<div>\n",
              "<style scoped>\n",
              "    .dataframe tbody tr th:only-of-type {\n",
              "        vertical-align: middle;\n",
              "    }\n",
              "\n",
              "    .dataframe tbody tr th {\n",
              "        vertical-align: top;\n",
              "    }\n",
              "\n",
              "    .dataframe thead th {\n",
              "        text-align: right;\n",
              "    }\n",
              "</style>\n",
              "<table border=\"1\" class=\"dataframe\">\n",
              "  <thead>\n",
              "    <tr style=\"text-align: right;\">\n",
              "      <th></th>\n",
              "      <th>user_id</th>\n",
              "      <th>gender</th>\n",
              "    </tr>\n",
              "  </thead>\n",
              "  <tbody>\n",
              "    <tr>\n",
              "      <th>0</th>\n",
              "      <td>820326025</td>\n",
              "      <td>M</td>\n",
              "    </tr>\n",
              "    <tr>\n",
              "      <th>1</th>\n",
              "      <td>1040875164</td>\n",
              "      <td>NaN</td>\n",
              "    </tr>\n",
              "    <tr>\n",
              "      <th>2</th>\n",
              "      <td>449432539</td>\n",
              "      <td>F</td>\n",
              "    </tr>\n",
              "    <tr>\n",
              "      <th>3</th>\n",
              "      <td>230248850</td>\n",
              "      <td>M</td>\n",
              "    </tr>\n",
              "    <tr>\n",
              "      <th>4</th>\n",
              "      <td>7719424</td>\n",
              "      <td>M</td>\n",
              "    </tr>\n",
              "    <tr>\n",
              "      <th>...</th>\n",
              "      <td>...</td>\n",
              "      <td>...</td>\n",
              "    </tr>\n",
              "    <tr>\n",
              "      <th>19913</th>\n",
              "      <td>184147840</td>\n",
              "      <td>NaN</td>\n",
              "    </tr>\n",
              "    <tr>\n",
              "      <th>19914</th>\n",
              "      <td>663303657</td>\n",
              "      <td>NaN</td>\n",
              "    </tr>\n",
              "    <tr>\n",
              "      <th>19915</th>\n",
              "      <td>761418142</td>\n",
              "      <td>NaN</td>\n",
              "    </tr>\n",
              "    <tr>\n",
              "      <th>19916</th>\n",
              "      <td>669142397</td>\n",
              "      <td>NaN</td>\n",
              "    </tr>\n",
              "    <tr>\n",
              "      <th>19917</th>\n",
              "      <td>1952378</td>\n",
              "      <td>NaN</td>\n",
              "    </tr>\n",
              "  </tbody>\n",
              "</table>\n",
              "<p>19918 rows × 2 columns</p>\n",
              "</div>"
            ],
            "text/plain": [
              "          user_id gender\n",
              "0       820326025      M\n",
              "1      1040875164    NaN\n",
              "2       449432539      F\n",
              "3       230248850      M\n",
              "4         7719424      M\n",
              "...           ...    ...\n",
              "19913   184147840    NaN\n",
              "19914   663303657    NaN\n",
              "19915   761418142    NaN\n",
              "19916   669142397    NaN\n",
              "19917     1952378    NaN\n",
              "\n",
              "[19918 rows x 2 columns]"
            ]
          },
          "metadata": {
            "tags": []
          },
          "execution_count": 41
        }
      ]
    },
    {
      "cell_type": "code",
      "metadata": {
        "colab": {
          "base_uri": "https://localhost:8080/"
        },
        "id": "OoB6HxXA0h-_",
        "outputId": "d44110f3-ffb7-46ff-e9cb-11fffae81eb8"
      },
      "source": [
        "users['gender'].value_counts()"
      ],
      "execution_count": null,
      "outputs": [
        {
          "output_type": "execute_result",
          "data": {
            "text/plain": [
              "M    2679\n",
              "N    1927\n",
              "F    1109\n",
              "Name: gender, dtype: int64"
            ]
          },
          "metadata": {
            "tags": []
          },
          "execution_count": 42
        }
      ]
    },
    {
      "cell_type": "code",
      "metadata": {
        "id": "QOcLA0sZkt-z"
      },
      "source": [
        "inner = pd.merge(users, data_for_gender, on='user_id')"
      ],
      "execution_count": null,
      "outputs": []
    },
    {
      "cell_type": "code",
      "metadata": {
        "id": "B1Gynrxgk9JO"
      },
      "source": [
        "users_likes_w_gender = inner[inner['reaction_id'] == 1].copy()\r\n",
        "users_dislikes_w_gender = inner[inner['reaction_id'] == 2].copy()\r\n"
      ],
      "execution_count": null,
      "outputs": []
    },
    {
      "cell_type": "code",
      "metadata": {
        "colab": {
          "base_uri": "https://localhost:8080/",
          "height": 406
        },
        "id": "nyGPRR60l1ta",
        "outputId": "d38d44a2-d49c-4b30-b5df-c511a79abf43"
      },
      "source": [
        "users_likes_w_gender"
      ],
      "execution_count": null,
      "outputs": [
        {
          "output_type": "execute_result",
          "data": {
            "text/html": [
              "<div>\n",
              "<style scoped>\n",
              "    .dataframe tbody tr th:only-of-type {\n",
              "        vertical-align: middle;\n",
              "    }\n",
              "\n",
              "    .dataframe tbody tr th {\n",
              "        vertical-align: top;\n",
              "    }\n",
              "\n",
              "    .dataframe thead th {\n",
              "        text-align: right;\n",
              "    }\n",
              "</style>\n",
              "<table border=\"1\" class=\"dataframe\">\n",
              "  <thead>\n",
              "    <tr style=\"text-align: right;\">\n",
              "      <th></th>\n",
              "      <th>user_id</th>\n",
              "      <th>gender</th>\n",
              "      <th>reaction_id</th>\n",
              "    </tr>\n",
              "  </thead>\n",
              "  <tbody>\n",
              "    <tr>\n",
              "      <th>15</th>\n",
              "      <td>820326025</td>\n",
              "      <td>M</td>\n",
              "      <td>1.0</td>\n",
              "    </tr>\n",
              "    <tr>\n",
              "      <th>16</th>\n",
              "      <td>820326025</td>\n",
              "      <td>M</td>\n",
              "      <td>1.0</td>\n",
              "    </tr>\n",
              "    <tr>\n",
              "      <th>17</th>\n",
              "      <td>820326025</td>\n",
              "      <td>M</td>\n",
              "      <td>1.0</td>\n",
              "    </tr>\n",
              "    <tr>\n",
              "      <th>22</th>\n",
              "      <td>820326025</td>\n",
              "      <td>M</td>\n",
              "      <td>1.0</td>\n",
              "    </tr>\n",
              "    <tr>\n",
              "      <th>24</th>\n",
              "      <td>1040875164</td>\n",
              "      <td>NaN</td>\n",
              "      <td>1.0</td>\n",
              "    </tr>\n",
              "    <tr>\n",
              "      <th>...</th>\n",
              "      <td>...</td>\n",
              "      <td>...</td>\n",
              "      <td>...</td>\n",
              "    </tr>\n",
              "    <tr>\n",
              "      <th>3652689</th>\n",
              "      <td>761418142</td>\n",
              "      <td>NaN</td>\n",
              "      <td>1.0</td>\n",
              "    </tr>\n",
              "    <tr>\n",
              "      <th>3652690</th>\n",
              "      <td>761418142</td>\n",
              "      <td>NaN</td>\n",
              "      <td>1.0</td>\n",
              "    </tr>\n",
              "    <tr>\n",
              "      <th>3652692</th>\n",
              "      <td>761418142</td>\n",
              "      <td>NaN</td>\n",
              "      <td>1.0</td>\n",
              "    </tr>\n",
              "    <tr>\n",
              "      <th>3652694</th>\n",
              "      <td>761418142</td>\n",
              "      <td>NaN</td>\n",
              "      <td>1.0</td>\n",
              "    </tr>\n",
              "    <tr>\n",
              "      <th>3652696</th>\n",
              "      <td>761418142</td>\n",
              "      <td>NaN</td>\n",
              "      <td>1.0</td>\n",
              "    </tr>\n",
              "  </tbody>\n",
              "</table>\n",
              "<p>1866242 rows × 3 columns</p>\n",
              "</div>"
            ],
            "text/plain": [
              "            user_id gender  reaction_id\n",
              "15        820326025      M          1.0\n",
              "16        820326025      M          1.0\n",
              "17        820326025      M          1.0\n",
              "22        820326025      M          1.0\n",
              "24       1040875164    NaN          1.0\n",
              "...             ...    ...          ...\n",
              "3652689   761418142    NaN          1.0\n",
              "3652690   761418142    NaN          1.0\n",
              "3652692   761418142    NaN          1.0\n",
              "3652694   761418142    NaN          1.0\n",
              "3652696   761418142    NaN          1.0\n",
              "\n",
              "[1866242 rows x 3 columns]"
            ]
          },
          "metadata": {
            "tags": []
          },
          "execution_count": 45
        }
      ]
    },
    {
      "cell_type": "code",
      "metadata": {
        "id": "9LgKIpkjlwew"
      },
      "source": [
        "M_likes = users_likes_w_gender[users_likes_w_gender['gender'] == 'M'].copy()\r\n",
        "F_likes = users_likes_w_gender[users_likes_w_gender['gender'] == 'F'].copy()\r\n",
        "M_dislikes = users_dislikes_w_gender[users_dislikes_w_gender['gender'] == 'M'].copy()\r\n",
        "F_dislikes = users_dislikes_w_gender[users_dislikes_w_gender['gender'] == 'F'].copy()"
      ],
      "execution_count": null,
      "outputs": []
    },
    {
      "cell_type": "code",
      "metadata": {
        "colab": {
          "base_uri": "https://localhost:8080/",
          "height": 107
        },
        "id": "pMErjPEJnJ9A",
        "outputId": "b87cbe24-3a58-4229-b97c-5bcdd6da608a"
      },
      "source": [
        "MF_values_dict = {'M/F_ratio':[len(M_likes) / len (M_dislikes), len(F_likes) / len (F_dislikes)]}\r\n",
        "MF_values = pd.DataFrame(MF_values_dict)\r\n",
        "MF_values.rename(index={0:'M',1:'F'}, inplace = True)\r\n",
        "MF_values"
      ],
      "execution_count": null,
      "outputs": [
        {
          "output_type": "execute_result",
          "data": {
            "text/html": [
              "<div>\n",
              "<style scoped>\n",
              "    .dataframe tbody tr th:only-of-type {\n",
              "        vertical-align: middle;\n",
              "    }\n",
              "\n",
              "    .dataframe tbody tr th {\n",
              "        vertical-align: top;\n",
              "    }\n",
              "\n",
              "    .dataframe thead th {\n",
              "        text-align: right;\n",
              "    }\n",
              "</style>\n",
              "<table border=\"1\" class=\"dataframe\">\n",
              "  <thead>\n",
              "    <tr style=\"text-align: right;\">\n",
              "      <th></th>\n",
              "      <th>M/F_ratio</th>\n",
              "    </tr>\n",
              "  </thead>\n",
              "  <tbody>\n",
              "    <tr>\n",
              "      <th>M</th>\n",
              "      <td>1.337439</td>\n",
              "    </tr>\n",
              "    <tr>\n",
              "      <th>F</th>\n",
              "      <td>1.653884</td>\n",
              "    </tr>\n",
              "  </tbody>\n",
              "</table>\n",
              "</div>"
            ],
            "text/plain": [
              "   M/F_ratio\n",
              "M   1.337439\n",
              "F   1.653884"
            ]
          },
          "metadata": {
            "tags": []
          },
          "execution_count": 47
        }
      ]
    },
    {
      "cell_type": "markdown",
      "metadata": {
        "id": "FIk0KSJoyBo_"
      },
      "source": [
        "Как и предполагалось, L/D отношение у мужчин ниже, чем у женщин. Возможно, это связано с тем, что мужчины в целом как юзеры более активны чем женщины. Возможно, мужчины в Интернете более категоричны и при недовольстве чаще ставят дизлайк, когда представительницы женского пола просто проигнорируют и пойдут дальше  "
      ]
    },
    {
      "cell_type": "markdown",
      "metadata": {
        "id": "_yKMoxBqyBmO"
      },
      "source": [
        ""
      ]
    },
    {
      "cell_type": "markdown",
      "metadata": {
        "id": "53Tb2oKB0ZDU"
      },
      "source": [
        "## Гипотеза №2: фото мемы в среднем лайкают больше, чем мемы иного типа"
      ]
    },
    {
      "cell_type": "code",
      "metadata": {
        "colab": {
          "base_uri": "https://localhost:8080/"
        },
        "id": "anuKQwBV0f9l",
        "outputId": "60b4120b-5e88-4d82-b655-a74fa949001e"
      },
      "source": [
        "meme.meme_type.value_counts()"
      ],
      "execution_count": null,
      "outputs": [
        {
          "output_type": "execute_result",
          "data": {
            "text/plain": [
              "photo        55917\n",
              "animation     2885\n",
              "video         2714\n",
              "Name: meme_type, dtype: int64"
            ]
          },
          "metadata": {
            "tags": []
          },
          "execution_count": 48
        }
      ]
    },
    {
      "cell_type": "code",
      "metadata": {
        "colab": {
          "base_uri": "https://localhost:8080/",
          "height": 167
        },
        "id": "2bbQEQmW0tch",
        "outputId": "1163bb37-4b10-470f-c2a6-2aab25e1a24a"
      },
      "source": [
        "detailed_meme = meme[['meme_type', 'likes', 'dislikes']].copy()\r\n",
        "detailed_meme.groupby('meme_type').mean()"
      ],
      "execution_count": null,
      "outputs": [
        {
          "output_type": "execute_result",
          "data": {
            "text/html": [
              "<div>\n",
              "<style scoped>\n",
              "    .dataframe tbody tr th:only-of-type {\n",
              "        vertical-align: middle;\n",
              "    }\n",
              "\n",
              "    .dataframe tbody tr th {\n",
              "        vertical-align: top;\n",
              "    }\n",
              "\n",
              "    .dataframe thead th {\n",
              "        text-align: right;\n",
              "    }\n",
              "</style>\n",
              "<table border=\"1\" class=\"dataframe\">\n",
              "  <thead>\n",
              "    <tr style=\"text-align: right;\">\n",
              "      <th></th>\n",
              "      <th>likes</th>\n",
              "      <th>dislikes</th>\n",
              "    </tr>\n",
              "    <tr>\n",
              "      <th>meme_type</th>\n",
              "      <th></th>\n",
              "      <th></th>\n",
              "    </tr>\n",
              "  </thead>\n",
              "  <tbody>\n",
              "    <tr>\n",
              "      <th>animation</th>\n",
              "      <td>14.407972</td>\n",
              "      <td>21.242288</td>\n",
              "    </tr>\n",
              "    <tr>\n",
              "      <th>photo</th>\n",
              "      <td>33.899691</td>\n",
              "      <td>28.570274</td>\n",
              "    </tr>\n",
              "    <tr>\n",
              "      <th>video</th>\n",
              "      <td>12.654753</td>\n",
              "      <td>23.306559</td>\n",
              "    </tr>\n",
              "  </tbody>\n",
              "</table>\n",
              "</div>"
            ],
            "text/plain": [
              "               likes   dislikes\n",
              "meme_type                      \n",
              "animation  14.407972  21.242288\n",
              "photo      33.899691  28.570274\n",
              "video      12.654753  23.306559"
            ]
          },
          "metadata": {
            "tags": []
          },
          "execution_count": 49
        }
      ]
    },
    {
      "cell_type": "markdown",
      "metadata": {
        "id": "hms8-T_H1ImV"
      },
      "source": [
        "Как и предполагалось, в среднем из 3 типов мемов, большее кол-во лайков собирают мемы-картинки, а не мемы в виде видео или анимации. Это можно объяснить тем, что юзеру удобнее(быстрее) посмотреть картинку, и ему не нужно тратить много времени на ее просмотр, поэтому и лайк проще получить картинке. "
      ]
    },
    {
      "cell_type": "markdown",
      "metadata": {
        "id": "m4jZ4ViN_UHW"
      },
      "source": [
        "## Датасет + модель (какой мем какому пользователю зайдет)"
      ]
    },
    {
      "cell_type": "markdown",
      "metadata": {
        "id": "GMd4K4CRJ7ba"
      },
      "source": [
        "* Подготовка данных"
      ]
    },
    {
      "cell_type": "code",
      "metadata": {
        "colab": {
          "base_uri": "https://localhost:8080/",
          "height": 197
        },
        "id": "GNZ4jFPE_jF8",
        "outputId": "c21e4bc9-444b-4e3d-a69c-e29cbfba3800"
      },
      "source": [
        "event.head()"
      ],
      "execution_count": null,
      "outputs": [
        {
          "output_type": "execute_result",
          "data": {
            "text/html": [
              "<div>\n",
              "<style scoped>\n",
              "    .dataframe tbody tr th:only-of-type {\n",
              "        vertical-align: middle;\n",
              "    }\n",
              "\n",
              "    .dataframe tbody tr th {\n",
              "        vertical-align: top;\n",
              "    }\n",
              "\n",
              "    .dataframe thead th {\n",
              "        text-align: right;\n",
              "    }\n",
              "</style>\n",
              "<table border=\"1\" class=\"dataframe\">\n",
              "  <thead>\n",
              "    <tr style=\"text-align: right;\">\n",
              "      <th></th>\n",
              "      <th>event_id</th>\n",
              "      <th>reaction_id</th>\n",
              "      <th>session_idx</th>\n",
              "      <th>meme_idx</th>\n",
              "      <th>created_at</th>\n",
              "      <th>updated_at</th>\n",
              "      <th>meme_id</th>\n",
              "      <th>user_id</th>\n",
              "    </tr>\n",
              "  </thead>\n",
              "  <tbody>\n",
              "    <tr>\n",
              "      <th>0</th>\n",
              "      <td>3607617</td>\n",
              "      <td>2.0</td>\n",
              "      <td>55</td>\n",
              "      <td>11</td>\n",
              "      <td>2020-10-24 19:45:50.964474+00</td>\n",
              "      <td>2020-10-24 19:45:51.049752+00</td>\n",
              "      <td>24379</td>\n",
              "      <td>280747086</td>\n",
              "    </tr>\n",
              "    <tr>\n",
              "      <th>1</th>\n",
              "      <td>3608100</td>\n",
              "      <td>1.0</td>\n",
              "      <td>280</td>\n",
              "      <td>45</td>\n",
              "      <td>2020-10-24 19:52:33.681933+00</td>\n",
              "      <td>2020-10-24 19:52:33.763993+00</td>\n",
              "      <td>49173</td>\n",
              "      <td>285739883</td>\n",
              "    </tr>\n",
              "    <tr>\n",
              "      <th>2</th>\n",
              "      <td>3607629</td>\n",
              "      <td>1.0</td>\n",
              "      <td>55</td>\n",
              "      <td>13</td>\n",
              "      <td>2020-10-24 19:46:08.690407+00</td>\n",
              "      <td>2020-10-24 19:46:08.779079+00</td>\n",
              "      <td>8340</td>\n",
              "      <td>280747086</td>\n",
              "    </tr>\n",
              "    <tr>\n",
              "      <th>3</th>\n",
              "      <td>3607649</td>\n",
              "      <td>NaN</td>\n",
              "      <td>30</td>\n",
              "      <td>2</td>\n",
              "      <td>2020-10-24 19:46:24.443014+00</td>\n",
              "      <td>2020-10-24 19:46:24.519787+00</td>\n",
              "      <td>64748</td>\n",
              "      <td>78991522</td>\n",
              "    </tr>\n",
              "    <tr>\n",
              "      <th>4</th>\n",
              "      <td>3608045</td>\n",
              "      <td>2.0</td>\n",
              "      <td>35</td>\n",
              "      <td>341</td>\n",
              "      <td>2020-10-24 19:51:28.544856+00</td>\n",
              "      <td>2020-10-24 19:51:28.586788+00</td>\n",
              "      <td>45163</td>\n",
              "      <td>860086058</td>\n",
              "    </tr>\n",
              "  </tbody>\n",
              "</table>\n",
              "</div>"
            ],
            "text/plain": [
              "   event_id  reaction_id  ...  meme_id    user_id\n",
              "0   3607617          2.0  ...    24379  280747086\n",
              "1   3608100          1.0  ...    49173  285739883\n",
              "2   3607629          1.0  ...     8340  280747086\n",
              "3   3607649          NaN  ...    64748   78991522\n",
              "4   3608045          2.0  ...    45163  860086058\n",
              "\n",
              "[5 rows x 8 columns]"
            ]
          },
          "metadata": {
            "tags": []
          },
          "execution_count": 50
        }
      ]
    },
    {
      "cell_type": "code",
      "metadata": {
        "colab": {
          "base_uri": "https://localhost:8080/",
          "height": 281
        },
        "id": "-stkfOwnIf14",
        "outputId": "f0bcc6ff-7934-478d-ad84-fc12ddb01714"
      },
      "source": [
        "meme.head()"
      ],
      "execution_count": null,
      "outputs": [
        {
          "output_type": "execute_result",
          "data": {
            "text/html": [
              "<div>\n",
              "<style scoped>\n",
              "    .dataframe tbody tr th:only-of-type {\n",
              "        vertical-align: middle;\n",
              "    }\n",
              "\n",
              "    .dataframe tbody tr th {\n",
              "        vertical-align: top;\n",
              "    }\n",
              "\n",
              "    .dataframe thead th {\n",
              "        text-align: right;\n",
              "    }\n",
              "</style>\n",
              "<table border=\"1\" class=\"dataframe\">\n",
              "  <thead>\n",
              "    <tr style=\"text-align: right;\">\n",
              "      <th></th>\n",
              "      <th>meme_id</th>\n",
              "      <th>meme_type</th>\n",
              "      <th>source_id</th>\n",
              "      <th>published_at</th>\n",
              "      <th>caption</th>\n",
              "      <th>content_lang</th>\n",
              "      <th>is_available</th>\n",
              "      <th>likes</th>\n",
              "      <th>dislikes</th>\n",
              "      <th>created_at</th>\n",
              "      <th>updated_at</th>\n",
              "      <th>is_broken</th>\n",
              "      <th>content_text</th>\n",
              "      <th>caption_lang</th>\n",
              "      <th>language_id</th>\n",
              "    </tr>\n",
              "  </thead>\n",
              "  <tbody>\n",
              "    <tr>\n",
              "      <th>0</th>\n",
              "      <td>28997</td>\n",
              "      <td>photo</td>\n",
              "      <td>79.0</td>\n",
              "      <td>2020-04-12 01:48:13+00</td>\n",
              "      <td>I mean shitt it ain't their fault</td>\n",
              "      <td>en</td>\n",
              "      <td>True</td>\n",
              "      <td>17</td>\n",
              "      <td>14</td>\n",
              "      <td>2020-04-12 09:04:37.341908+00</td>\n",
              "      <td>2020-10-26 19:20:58.198825+00</td>\n",
              "      <td>False</td>\n",
              "      <td>brandon @brndvx females live on recruit diffic...</td>\n",
              "      <td>en</td>\n",
              "      <td>3.0</td>\n",
              "    </tr>\n",
              "    <tr>\n",
              "      <th>1</th>\n",
              "      <td>10873</td>\n",
              "      <td>photo</td>\n",
              "      <td>43.0</td>\n",
              "      <td>2020-03-25 11:48:14+00</td>\n",
              "      <td>NaN</td>\n",
              "      <td>ru</td>\n",
              "      <td>True</td>\n",
              "      <td>79</td>\n",
              "      <td>74</td>\n",
              "      <td>2020-03-25 20:00:01.154096+00</td>\n",
              "      <td>2020-10-26 19:20:58.226846+00</td>\n",
              "      <td>False</td>\n",
              "      <td>Я не робот Докажите, что всякое односвязное Ит...</td>\n",
              "      <td>ww</td>\n",
              "      <td>2.0</td>\n",
              "    </tr>\n",
              "    <tr>\n",
              "      <th>2</th>\n",
              "      <td>9874</td>\n",
              "      <td>photo</td>\n",
              "      <td>78.0</td>\n",
              "      <td>2020-03-24 07:18:03+00</td>\n",
              "      <td>Anime toddies expert</td>\n",
              "      <td>en</td>\n",
              "      <td>True</td>\n",
              "      <td>1</td>\n",
              "      <td>7</td>\n",
              "      <td>2020-03-24 13:06:18.588359+00</td>\n",
              "      <td>2020-10-26 19:20:58.259045+00</td>\n",
              "      <td>False</td>\n",
              "      <td>When you find the actual interview and it does...</td>\n",
              "      <td>en</td>\n",
              "      <td>3.0</td>\n",
              "    </tr>\n",
              "    <tr>\n",
              "      <th>3</th>\n",
              "      <td>43458</td>\n",
              "      <td>photo</td>\n",
              "      <td>43.0</td>\n",
              "      <td>2020-05-23 12:50:52+00</td>\n",
              "      <td>NaN</td>\n",
              "      <td>ru</td>\n",
              "      <td>False</td>\n",
              "      <td>8</td>\n",
              "      <td>12</td>\n",
              "      <td>2020-05-24 22:03:34.926116+00</td>\n",
              "      <td>2020-10-26 19:20:58.265179+00</td>\n",
              "      <td>False</td>\n",
              "      <td>Google сколько калорий в грамме урана а Все В ...</td>\n",
              "      <td>ww</td>\n",
              "      <td>2.0</td>\n",
              "    </tr>\n",
              "    <tr>\n",
              "      <th>4</th>\n",
              "      <td>9000</td>\n",
              "      <td>photo</td>\n",
              "      <td>76.0</td>\n",
              "      <td>2020-03-23 07:16:05+00</td>\n",
              "      <td>New treasure</td>\n",
              "      <td>und</td>\n",
              "      <td>True</td>\n",
              "      <td>2</td>\n",
              "      <td>9</td>\n",
              "      <td>2020-03-23 13:04:55.258554+00</td>\n",
              "      <td>2020-10-26 19:20:58.29742+00</td>\n",
              "      <td>False</td>\n",
              "      <td>YRO .20.</td>\n",
              "      <td>en</td>\n",
              "      <td>3.0</td>\n",
              "    </tr>\n",
              "  </tbody>\n",
              "</table>\n",
              "</div>"
            ],
            "text/plain": [
              "   meme_id meme_type  ...  caption_lang language_id\n",
              "0    28997     photo  ...            en         3.0\n",
              "1    10873     photo  ...            ww         2.0\n",
              "2     9874     photo  ...            en         3.0\n",
              "3    43458     photo  ...            ww         2.0\n",
              "4     9000     photo  ...            en         3.0\n",
              "\n",
              "[5 rows x 15 columns]"
            ]
          },
          "metadata": {
            "tags": []
          },
          "execution_count": 51
        }
      ]
    },
    {
      "cell_type": "code",
      "metadata": {
        "colab": {
          "base_uri": "https://localhost:8080/",
          "height": 197
        },
        "id": "nk0UJ-RdIis6",
        "outputId": "3d325e80-a2d6-4569-c71b-6a4e95014379"
      },
      "source": [
        "user.head()"
      ],
      "execution_count": null,
      "outputs": [
        {
          "output_type": "execute_result",
          "data": {
            "text/html": [
              "<div>\n",
              "<style scoped>\n",
              "    .dataframe tbody tr th:only-of-type {\n",
              "        vertical-align: middle;\n",
              "    }\n",
              "\n",
              "    .dataframe tbody tr th {\n",
              "        vertical-align: top;\n",
              "    }\n",
              "\n",
              "    .dataframe thead th {\n",
              "        text-align: right;\n",
              "    }\n",
              "</style>\n",
              "<table border=\"1\" class=\"dataframe\">\n",
              "  <thead>\n",
              "    <tr style=\"text-align: right;\">\n",
              "      <th></th>\n",
              "      <th>user_id</th>\n",
              "      <th>deep_link</th>\n",
              "      <th>is_blocked_bot</th>\n",
              "      <th>is_banned</th>\n",
              "      <th>is_moderator</th>\n",
              "      <th>sessions</th>\n",
              "      <th>last_session_memes</th>\n",
              "      <th>watched_memes</th>\n",
              "      <th>created_at</th>\n",
              "      <th>updated_at</th>\n",
              "      <th>interface_lang</th>\n",
              "      <th>gender</th>\n",
              "    </tr>\n",
              "  </thead>\n",
              "  <tbody>\n",
              "    <tr>\n",
              "      <th>0</th>\n",
              "      <td>820326025</td>\n",
              "      <td>anime0ch_lang_ru</td>\n",
              "      <td>False</td>\n",
              "      <td>False</td>\n",
              "      <td>False</td>\n",
              "      <td>6</td>\n",
              "      <td>1</td>\n",
              "      <td>20</td>\n",
              "      <td>2020-09-12 20:07:11.668743+00</td>\n",
              "      <td>2020-10-26 12:16:18.458654+00</td>\n",
              "      <td>ru</td>\n",
              "      <td>M</td>\n",
              "    </tr>\n",
              "    <tr>\n",
              "      <th>1</th>\n",
              "      <td>1040875164</td>\n",
              "      <td>likemeupbot_lang_en</td>\n",
              "      <td>False</td>\n",
              "      <td>False</td>\n",
              "      <td>False</td>\n",
              "      <td>2</td>\n",
              "      <td>1</td>\n",
              "      <td>7</td>\n",
              "      <td>2020-07-21 05:54:12.671036+00</td>\n",
              "      <td>2020-10-26 14:37:05.637591+00</td>\n",
              "      <td>en</td>\n",
              "      <td>NaN</td>\n",
              "    </tr>\n",
              "    <tr>\n",
              "      <th>2</th>\n",
              "      <td>449432539</td>\n",
              "      <td>debil_ebaniy</td>\n",
              "      <td>True</td>\n",
              "      <td>False</td>\n",
              "      <td>False</td>\n",
              "      <td>2</td>\n",
              "      <td>1</td>\n",
              "      <td>9</td>\n",
              "      <td>2020-09-14 19:02:06.80911+00</td>\n",
              "      <td>2020-10-17 21:26:52.029824+00</td>\n",
              "      <td>ru</td>\n",
              "      <td>F</td>\n",
              "    </tr>\n",
              "    <tr>\n",
              "      <th>3</th>\n",
              "      <td>230248850</td>\n",
              "      <td>NaN</td>\n",
              "      <td>False</td>\n",
              "      <td>False</td>\n",
              "      <td>False</td>\n",
              "      <td>26</td>\n",
              "      <td>1</td>\n",
              "      <td>38</td>\n",
              "      <td>2020-03-16 00:36:42.252438+00</td>\n",
              "      <td>2020-10-26 12:11:02.159405+00</td>\n",
              "      <td>ru</td>\n",
              "      <td>M</td>\n",
              "    </tr>\n",
              "    <tr>\n",
              "      <th>4</th>\n",
              "      <td>7719424</td>\n",
              "      <td>NaN</td>\n",
              "      <td>True</td>\n",
              "      <td>False</td>\n",
              "      <td>False</td>\n",
              "      <td>27</td>\n",
              "      <td>6</td>\n",
              "      <td>49</td>\n",
              "      <td>2020-03-15 22:30:45.300242+00</td>\n",
              "      <td>2020-10-17 21:26:52.19941+00</td>\n",
              "      <td>ru</td>\n",
              "      <td>M</td>\n",
              "    </tr>\n",
              "  </tbody>\n",
              "</table>\n",
              "</div>"
            ],
            "text/plain": [
              "      user_id            deep_link  ...  interface_lang  gender\n",
              "0   820326025     anime0ch_lang_ru  ...              ru       M\n",
              "1  1040875164  likemeupbot_lang_en  ...              en     NaN\n",
              "2   449432539         debil_ebaniy  ...              ru       F\n",
              "3   230248850                  NaN  ...              ru       M\n",
              "4     7719424                  NaN  ...              ru       M\n",
              "\n",
              "[5 rows x 12 columns]"
            ]
          },
          "metadata": {
            "tags": []
          },
          "execution_count": 52
        }
      ]
    },
    {
      "cell_type": "code",
      "metadata": {
        "id": "DU0gFK30IklI"
      },
      "source": [
        "# Создал копии датасетов, чтобы не изменять начальные файлы\r\n",
        "event_df = event.copy()\r\n",
        "meme_df = meme.copy()\r\n",
        "user_df = user.copy()"
      ],
      "execution_count": null,
      "outputs": []
    },
    {
      "cell_type": "code",
      "metadata": {
        "id": "CyQqIKr6Iwpf"
      },
      "source": [
        "#Удаление данных, которые неинформативны в рамках исследования\r\n",
        "event_df.drop(['session_idx', 'meme_idx', 'created_at', 'updated_at', 'event_id'], axis = 1, inplace = True)"
      ],
      "execution_count": null,
      "outputs": []
    },
    {
      "cell_type": "code",
      "metadata": {
        "colab": {
          "base_uri": "https://localhost:8080/"
        },
        "id": "oLykg4DUJiOd",
        "outputId": "11ffb6d8-d35f-4630-f72d-72d944362608"
      },
      "source": [
        "meme_df.columns"
      ],
      "execution_count": null,
      "outputs": [
        {
          "output_type": "execute_result",
          "data": {
            "text/plain": [
              "Index(['meme_id', 'meme_type', 'source_id', 'published_at', 'caption',\n",
              "       'content_lang', 'is_available', 'likes', 'dislikes', 'created_at',\n",
              "       'updated_at', 'is_broken', 'content_text', 'caption_lang',\n",
              "       'language_id'],\n",
              "      dtype='object')"
            ]
          },
          "metadata": {
            "tags": []
          },
          "execution_count": 55
        }
      ]
    },
    {
      "cell_type": "code",
      "metadata": {
        "id": "j2nyJdLkJiht"
      },
      "source": [
        "#Удаление данных, которые неинформативны в рамках исследования\r\n",
        "meme_df.drop(['published_at', 'caption','created_at', 'updated_at','content_text'], axis = 1, inplace = True)"
      ],
      "execution_count": null,
      "outputs": []
    },
    {
      "cell_type": "code",
      "metadata": {
        "colab": {
          "base_uri": "https://localhost:8080/"
        },
        "id": "kxjAaih-Jie_",
        "outputId": "b36df33e-8a8c-493e-dd09-11bb607cc924"
      },
      "source": [
        "user_df.columns"
      ],
      "execution_count": null,
      "outputs": [
        {
          "output_type": "execute_result",
          "data": {
            "text/plain": [
              "Index(['user_id', 'deep_link', 'is_blocked_bot', 'is_banned', 'is_moderator',\n",
              "       'sessions', 'last_session_memes', 'watched_memes', 'created_at',\n",
              "       'updated_at', 'interface_lang', 'gender'],\n",
              "      dtype='object')"
            ]
          },
          "metadata": {
            "tags": []
          },
          "execution_count": 57
        }
      ]
    },
    {
      "cell_type": "markdown",
      "metadata": {
        "id": "gezcvdNSVb12"
      },
      "source": [
        "### Работа с user_df"
      ]
    },
    {
      "cell_type": "code",
      "metadata": {
        "id": "LSjsmD5xJ6OY"
      },
      "source": [
        "#Удаление данных, которые неинформативны в рамках исследования (тут хотел бы отметить, что поле gender не хотелось удалять, но по нему нет данных по большинству записей, поэтому был вынужден удалить это поле)\r\n",
        "user_df.drop(['deep_link','last_session_memes', 'created_at', 'updated_at', 'is_banned','is_moderator', 'gender', 'is_blocked_bot'], axis = 1, inplace = True)"
      ],
      "execution_count": null,
      "outputs": []
    },
    {
      "cell_type": "code",
      "metadata": {
        "id": "Hese8yOjOjkE"
      },
      "source": [
        "user_df.interface_lang.replace({'en':1, 'ru':0}, inplace = True) # 1 если интерфейс английский, 0 если русский"
      ],
      "execution_count": null,
      "outputs": []
    },
    {
      "cell_type": "code",
      "metadata": {
        "colab": {
          "base_uri": "https://localhost:8080/"
        },
        "id": "9KrgRYV2T1vt",
        "outputId": "0c4cdd55-d8e4-4efb-f860-b6f2c7495fe0"
      },
      "source": [
        "user_df.interface_lang.value_counts() # ~75% используют русский интерфейс"
      ],
      "execution_count": null,
      "outputs": [
        {
          "output_type": "execute_result",
          "data": {
            "text/plain": [
              "0.0    14156\n",
              "1.0     5714\n",
              "Name: interface_lang, dtype: int64"
            ]
          },
          "metadata": {
            "tags": []
          },
          "execution_count": 60
        }
      ]
    },
    {
      "cell_type": "code",
      "metadata": {
        "colab": {
          "base_uri": "https://localhost:8080/"
        },
        "id": "vM_mg4dyTyXi",
        "outputId": "c4785104-91d2-434c-d3f0-ca89ccfc8c8e"
      },
      "source": [
        "user_df.isna().sum()"
      ],
      "execution_count": null,
      "outputs": [
        {
          "output_type": "execute_result",
          "data": {
            "text/plain": [
              "user_id            0\n",
              "sessions           0\n",
              "watched_memes      0\n",
              "interface_lang    48\n",
              "dtype: int64"
            ]
          },
          "metadata": {
            "tags": []
          },
          "execution_count": 61
        }
      ]
    },
    {
      "cell_type": "code",
      "metadata": {
        "colab": {
          "base_uri": "https://localhost:8080/"
        },
        "id": "UJVJLHQ9UoEm",
        "outputId": "9ac1bd6e-5551-4c75-f82c-4c1faa7c2df5"
      },
      "source": [
        "# Конечно, 48 nan можно было запихнуть в любую категорию, т.к. малое число пропусков, но захотел распределить пропорционально\r\n",
        "import random\r\n",
        "nans = user_df['interface_lang'].isna()\r\n",
        "length = sum(nans)\r\n",
        "replacement = random.choices([0, 1], weights=[.75, .25], k=length)\r\n",
        "user_df.loc[nans,'interface_lang'] = replacement\r\n",
        "user_df.isna().sum()"
      ],
      "execution_count": null,
      "outputs": [
        {
          "output_type": "execute_result",
          "data": {
            "text/plain": [
              "user_id           0\n",
              "sessions          0\n",
              "watched_memes     0\n",
              "interface_lang    0\n",
              "dtype: int64"
            ]
          },
          "metadata": {
            "tags": []
          },
          "execution_count": 62
        }
      ]
    },
    {
      "cell_type": "code",
      "metadata": {
        "colab": {
          "base_uri": "https://localhost:8080/"
        },
        "id": "F5I6hgL8VFjp",
        "outputId": "84da6aed-ebc4-4641-e8f6-28f3413c2727"
      },
      "source": [
        "user_df.interface_lang.value_counts() # Не получилось :)"
      ],
      "execution_count": null,
      "outputs": [
        {
          "output_type": "execute_result",
          "data": {
            "text/plain": [
              "0.0    14192\n",
              "1.0     5726\n",
              "Name: interface_lang, dtype: int64"
            ]
          },
          "metadata": {
            "tags": []
          },
          "execution_count": 63
        }
      ]
    },
    {
      "cell_type": "code",
      "metadata": {
        "colab": {
          "base_uri": "https://localhost:8080/",
          "height": 197
        },
        "id": "R6HK25ZUQ60B",
        "outputId": "1147bcb9-916f-48fa-fa7b-579629e7208a"
      },
      "source": [
        "user_df.head() # отформатированный датасэт"
      ],
      "execution_count": null,
      "outputs": [
        {
          "output_type": "execute_result",
          "data": {
            "text/html": [
              "<div>\n",
              "<style scoped>\n",
              "    .dataframe tbody tr th:only-of-type {\n",
              "        vertical-align: middle;\n",
              "    }\n",
              "\n",
              "    .dataframe tbody tr th {\n",
              "        vertical-align: top;\n",
              "    }\n",
              "\n",
              "    .dataframe thead th {\n",
              "        text-align: right;\n",
              "    }\n",
              "</style>\n",
              "<table border=\"1\" class=\"dataframe\">\n",
              "  <thead>\n",
              "    <tr style=\"text-align: right;\">\n",
              "      <th></th>\n",
              "      <th>user_id</th>\n",
              "      <th>sessions</th>\n",
              "      <th>watched_memes</th>\n",
              "      <th>interface_lang</th>\n",
              "    </tr>\n",
              "  </thead>\n",
              "  <tbody>\n",
              "    <tr>\n",
              "      <th>0</th>\n",
              "      <td>820326025</td>\n",
              "      <td>6</td>\n",
              "      <td>20</td>\n",
              "      <td>0.0</td>\n",
              "    </tr>\n",
              "    <tr>\n",
              "      <th>1</th>\n",
              "      <td>1040875164</td>\n",
              "      <td>2</td>\n",
              "      <td>7</td>\n",
              "      <td>1.0</td>\n",
              "    </tr>\n",
              "    <tr>\n",
              "      <th>2</th>\n",
              "      <td>449432539</td>\n",
              "      <td>2</td>\n",
              "      <td>9</td>\n",
              "      <td>0.0</td>\n",
              "    </tr>\n",
              "    <tr>\n",
              "      <th>3</th>\n",
              "      <td>230248850</td>\n",
              "      <td>26</td>\n",
              "      <td>38</td>\n",
              "      <td>0.0</td>\n",
              "    </tr>\n",
              "    <tr>\n",
              "      <th>4</th>\n",
              "      <td>7719424</td>\n",
              "      <td>27</td>\n",
              "      <td>49</td>\n",
              "      <td>0.0</td>\n",
              "    </tr>\n",
              "  </tbody>\n",
              "</table>\n",
              "</div>"
            ],
            "text/plain": [
              "      user_id  sessions  watched_memes  interface_lang\n",
              "0   820326025         6             20             0.0\n",
              "1  1040875164         2              7             1.0\n",
              "2   449432539         2              9             0.0\n",
              "3   230248850        26             38             0.0\n",
              "4     7719424        27             49             0.0"
            ]
          },
          "metadata": {
            "tags": []
          },
          "execution_count": 64
        }
      ]
    },
    {
      "cell_type": "markdown",
      "metadata": {
        "id": "qVwHIdJSVeqZ"
      },
      "source": [
        "### Работа с event_df"
      ]
    },
    {
      "cell_type": "code",
      "metadata": {
        "colab": {
          "base_uri": "https://localhost:8080/",
          "height": 197
        },
        "id": "w3LewgpFRvEO",
        "outputId": "bfa66c9e-1e7d-4bb9-d585-05f74c85f881"
      },
      "source": [
        "event_df.head()"
      ],
      "execution_count": null,
      "outputs": [
        {
          "output_type": "execute_result",
          "data": {
            "text/html": [
              "<div>\n",
              "<style scoped>\n",
              "    .dataframe tbody tr th:only-of-type {\n",
              "        vertical-align: middle;\n",
              "    }\n",
              "\n",
              "    .dataframe tbody tr th {\n",
              "        vertical-align: top;\n",
              "    }\n",
              "\n",
              "    .dataframe thead th {\n",
              "        text-align: right;\n",
              "    }\n",
              "</style>\n",
              "<table border=\"1\" class=\"dataframe\">\n",
              "  <thead>\n",
              "    <tr style=\"text-align: right;\">\n",
              "      <th></th>\n",
              "      <th>reaction_id</th>\n",
              "      <th>meme_id</th>\n",
              "      <th>user_id</th>\n",
              "    </tr>\n",
              "  </thead>\n",
              "  <tbody>\n",
              "    <tr>\n",
              "      <th>0</th>\n",
              "      <td>2.0</td>\n",
              "      <td>24379</td>\n",
              "      <td>280747086</td>\n",
              "    </tr>\n",
              "    <tr>\n",
              "      <th>1</th>\n",
              "      <td>1.0</td>\n",
              "      <td>49173</td>\n",
              "      <td>285739883</td>\n",
              "    </tr>\n",
              "    <tr>\n",
              "      <th>2</th>\n",
              "      <td>1.0</td>\n",
              "      <td>8340</td>\n",
              "      <td>280747086</td>\n",
              "    </tr>\n",
              "    <tr>\n",
              "      <th>3</th>\n",
              "      <td>NaN</td>\n",
              "      <td>64748</td>\n",
              "      <td>78991522</td>\n",
              "    </tr>\n",
              "    <tr>\n",
              "      <th>4</th>\n",
              "      <td>2.0</td>\n",
              "      <td>45163</td>\n",
              "      <td>860086058</td>\n",
              "    </tr>\n",
              "  </tbody>\n",
              "</table>\n",
              "</div>"
            ],
            "text/plain": [
              "   reaction_id  meme_id    user_id\n",
              "0          2.0    24379  280747086\n",
              "1          1.0    49173  285739883\n",
              "2          1.0     8340  280747086\n",
              "3          NaN    64748   78991522\n",
              "4          2.0    45163  860086058"
            ]
          },
          "metadata": {
            "tags": []
          },
          "execution_count": 65
        }
      ]
    },
    {
      "cell_type": "code",
      "metadata": {
        "id": "CLv9nmyBSPnr"
      },
      "source": [
        "event_df = event_df.drop(event_df[(event_df.reaction_id == 3) | (event_df.reaction_id == 4) |(event_df.reaction_id == 5) ].index) # Удаление действий админов"
      ],
      "execution_count": null,
      "outputs": []
    },
    {
      "cell_type": "code",
      "metadata": {
        "colab": {
          "base_uri": "https://localhost:8080/"
        },
        "id": "Q0jW3s7RTgdZ",
        "outputId": "ba8718f2-f177-494d-fd6d-5e4db8aa1452"
      },
      "source": [
        "event_df.isna().sum()"
      ],
      "execution_count": null,
      "outputs": [
        {
          "output_type": "execute_result",
          "data": {
            "text/plain": [
              "reaction_id    41960\n",
              "meme_id            0\n",
              "user_id            0\n",
              "dtype: int64"
            ]
          },
          "metadata": {
            "tags": []
          },
          "execution_count": 67
        }
      ]
    },
    {
      "cell_type": "code",
      "metadata": {
        "colab": {
          "base_uri": "https://localhost:8080/"
        },
        "id": "dTUxn8t8VaB8",
        "outputId": "927cd33c-65dd-40b2-aa4f-30822c286fce"
      },
      "source": [
        "event_df.reaction_id.value_counts()"
      ],
      "execution_count": null,
      "outputs": [
        {
          "output_type": "execute_result",
          "data": {
            "text/plain": [
              "1.0    1866242\n",
              "2.0    1611488\n",
              "Name: reaction_id, dtype: int64"
            ]
          },
          "metadata": {
            "tags": []
          },
          "execution_count": 68
        }
      ]
    },
    {
      "cell_type": "code",
      "metadata": {
        "colab": {
          "base_uri": "https://localhost:8080/"
        },
        "id": "O58HkAVIVrMq",
        "outputId": "8980a3e8-300c-42e7-f75e-26bc50d978c0"
      },
      "source": [
        "nans = event_df['reaction_id'].isna()  # пропорциональное распределение лайков/дизлайков по nan значениям\r\n",
        "length = sum(nans)\r\n",
        "replacement = random.choices([1, 2], weights=[.5, .5], k=length)\r\n",
        "event_df.loc[nans,'reaction_id'] = replacement\r\n",
        "event_df.isna().sum()"
      ],
      "execution_count": null,
      "outputs": [
        {
          "output_type": "execute_result",
          "data": {
            "text/plain": [
              "reaction_id    0\n",
              "meme_id        0\n",
              "user_id        0\n",
              "dtype: int64"
            ]
          },
          "metadata": {
            "tags": []
          },
          "execution_count": 69
        }
      ]
    },
    {
      "cell_type": "code",
      "metadata": {
        "colab": {
          "base_uri": "https://localhost:8080/"
        },
        "id": "BfUbs7lOWrGA",
        "outputId": "09888e9b-bb13-41a1-9504-c1fe6d31b1fc"
      },
      "source": [
        "event_df.reaction_id.value_counts()"
      ],
      "execution_count": null,
      "outputs": [
        {
          "output_type": "execute_result",
          "data": {
            "text/plain": [
              "1.0    1887393\n",
              "2.0    1632297\n",
              "Name: reaction_id, dtype: int64"
            ]
          },
          "metadata": {
            "tags": []
          },
          "execution_count": 70
        }
      ]
    },
    {
      "cell_type": "code",
      "metadata": {
        "colab": {
          "base_uri": "https://localhost:8080/",
          "height": 197
        },
        "id": "WuWmZ6DGW7ZF",
        "outputId": "e9b86c70-9779-4022-aa4e-38bf8ea12063"
      },
      "source": [
        "event_df.head() # отформатированный датасэт"
      ],
      "execution_count": null,
      "outputs": [
        {
          "output_type": "execute_result",
          "data": {
            "text/html": [
              "<div>\n",
              "<style scoped>\n",
              "    .dataframe tbody tr th:only-of-type {\n",
              "        vertical-align: middle;\n",
              "    }\n",
              "\n",
              "    .dataframe tbody tr th {\n",
              "        vertical-align: top;\n",
              "    }\n",
              "\n",
              "    .dataframe thead th {\n",
              "        text-align: right;\n",
              "    }\n",
              "</style>\n",
              "<table border=\"1\" class=\"dataframe\">\n",
              "  <thead>\n",
              "    <tr style=\"text-align: right;\">\n",
              "      <th></th>\n",
              "      <th>reaction_id</th>\n",
              "      <th>meme_id</th>\n",
              "      <th>user_id</th>\n",
              "    </tr>\n",
              "  </thead>\n",
              "  <tbody>\n",
              "    <tr>\n",
              "      <th>0</th>\n",
              "      <td>2.0</td>\n",
              "      <td>24379</td>\n",
              "      <td>280747086</td>\n",
              "    </tr>\n",
              "    <tr>\n",
              "      <th>1</th>\n",
              "      <td>1.0</td>\n",
              "      <td>49173</td>\n",
              "      <td>285739883</td>\n",
              "    </tr>\n",
              "    <tr>\n",
              "      <th>2</th>\n",
              "      <td>1.0</td>\n",
              "      <td>8340</td>\n",
              "      <td>280747086</td>\n",
              "    </tr>\n",
              "    <tr>\n",
              "      <th>3</th>\n",
              "      <td>1.0</td>\n",
              "      <td>64748</td>\n",
              "      <td>78991522</td>\n",
              "    </tr>\n",
              "    <tr>\n",
              "      <th>4</th>\n",
              "      <td>2.0</td>\n",
              "      <td>45163</td>\n",
              "      <td>860086058</td>\n",
              "    </tr>\n",
              "  </tbody>\n",
              "</table>\n",
              "</div>"
            ],
            "text/plain": [
              "   reaction_id  meme_id    user_id\n",
              "0          2.0    24379  280747086\n",
              "1          1.0    49173  285739883\n",
              "2          1.0     8340  280747086\n",
              "3          1.0    64748   78991522\n",
              "4          2.0    45163  860086058"
            ]
          },
          "metadata": {
            "tags": []
          },
          "execution_count": 71
        }
      ]
    },
    {
      "cell_type": "markdown",
      "metadata": {
        "id": "XgnPoaqpXA0F"
      },
      "source": [
        "### Работа с meme_df"
      ]
    },
    {
      "cell_type": "code",
      "metadata": {
        "colab": {
          "base_uri": "https://localhost:8080/",
          "height": 197
        },
        "id": "AonAl7veXFpS",
        "outputId": "9a73a14d-3af9-42b6-8b45-dfbff6f42534"
      },
      "source": [
        "meme_df.head()"
      ],
      "execution_count": null,
      "outputs": [
        {
          "output_type": "execute_result",
          "data": {
            "text/html": [
              "<div>\n",
              "<style scoped>\n",
              "    .dataframe tbody tr th:only-of-type {\n",
              "        vertical-align: middle;\n",
              "    }\n",
              "\n",
              "    .dataframe tbody tr th {\n",
              "        vertical-align: top;\n",
              "    }\n",
              "\n",
              "    .dataframe thead th {\n",
              "        text-align: right;\n",
              "    }\n",
              "</style>\n",
              "<table border=\"1\" class=\"dataframe\">\n",
              "  <thead>\n",
              "    <tr style=\"text-align: right;\">\n",
              "      <th></th>\n",
              "      <th>meme_id</th>\n",
              "      <th>meme_type</th>\n",
              "      <th>source_id</th>\n",
              "      <th>content_lang</th>\n",
              "      <th>is_available</th>\n",
              "      <th>likes</th>\n",
              "      <th>dislikes</th>\n",
              "      <th>is_broken</th>\n",
              "      <th>caption_lang</th>\n",
              "      <th>language_id</th>\n",
              "    </tr>\n",
              "  </thead>\n",
              "  <tbody>\n",
              "    <tr>\n",
              "      <th>0</th>\n",
              "      <td>28997</td>\n",
              "      <td>photo</td>\n",
              "      <td>79.0</td>\n",
              "      <td>en</td>\n",
              "      <td>True</td>\n",
              "      <td>17</td>\n",
              "      <td>14</td>\n",
              "      <td>False</td>\n",
              "      <td>en</td>\n",
              "      <td>3.0</td>\n",
              "    </tr>\n",
              "    <tr>\n",
              "      <th>1</th>\n",
              "      <td>10873</td>\n",
              "      <td>photo</td>\n",
              "      <td>43.0</td>\n",
              "      <td>ru</td>\n",
              "      <td>True</td>\n",
              "      <td>79</td>\n",
              "      <td>74</td>\n",
              "      <td>False</td>\n",
              "      <td>ww</td>\n",
              "      <td>2.0</td>\n",
              "    </tr>\n",
              "    <tr>\n",
              "      <th>2</th>\n",
              "      <td>9874</td>\n",
              "      <td>photo</td>\n",
              "      <td>78.0</td>\n",
              "      <td>en</td>\n",
              "      <td>True</td>\n",
              "      <td>1</td>\n",
              "      <td>7</td>\n",
              "      <td>False</td>\n",
              "      <td>en</td>\n",
              "      <td>3.0</td>\n",
              "    </tr>\n",
              "    <tr>\n",
              "      <th>3</th>\n",
              "      <td>43458</td>\n",
              "      <td>photo</td>\n",
              "      <td>43.0</td>\n",
              "      <td>ru</td>\n",
              "      <td>False</td>\n",
              "      <td>8</td>\n",
              "      <td>12</td>\n",
              "      <td>False</td>\n",
              "      <td>ww</td>\n",
              "      <td>2.0</td>\n",
              "    </tr>\n",
              "    <tr>\n",
              "      <th>4</th>\n",
              "      <td>9000</td>\n",
              "      <td>photo</td>\n",
              "      <td>76.0</td>\n",
              "      <td>und</td>\n",
              "      <td>True</td>\n",
              "      <td>2</td>\n",
              "      <td>9</td>\n",
              "      <td>False</td>\n",
              "      <td>en</td>\n",
              "      <td>3.0</td>\n",
              "    </tr>\n",
              "  </tbody>\n",
              "</table>\n",
              "</div>"
            ],
            "text/plain": [
              "   meme_id meme_type  source_id  ... is_broken  caption_lang  language_id\n",
              "0    28997     photo       79.0  ...     False            en          3.0\n",
              "1    10873     photo       43.0  ...     False            ww          2.0\n",
              "2     9874     photo       78.0  ...     False            en          3.0\n",
              "3    43458     photo       43.0  ...     False            ww          2.0\n",
              "4     9000     photo       76.0  ...     False            en          3.0\n",
              "\n",
              "[5 rows x 10 columns]"
            ]
          },
          "metadata": {
            "tags": []
          },
          "execution_count": 72
        }
      ]
    },
    {
      "cell_type": "code",
      "metadata": {
        "colab": {
          "base_uri": "https://localhost:8080/"
        },
        "id": "YHMACYPOXKdm",
        "outputId": "d9730675-7455-449d-f4b8-d34d70272bef"
      },
      "source": [
        "meme_df.drop(['content_lang', 'caption_lang', 'is_broken'], axis = 1, inplace = True)\r\n",
        "meme_df.is_available.value_counts()"
      ],
      "execution_count": null,
      "outputs": [
        {
          "output_type": "execute_result",
          "data": {
            "text/plain": [
              "True     42837\n",
              "False    18679\n",
              "Name: is_available, dtype: int64"
            ]
          },
          "metadata": {
            "tags": []
          },
          "execution_count": 73
        }
      ]
    },
    {
      "cell_type": "code",
      "metadata": {
        "colab": {
          "base_uri": "https://localhost:8080/"
        },
        "id": "uSAD3Wvlcp5M",
        "outputId": "40cac1cf-8e10-4910-896d-6d7677f3005b"
      },
      "source": [
        "meme_df.isna().sum()"
      ],
      "execution_count": null,
      "outputs": [
        {
          "output_type": "execute_result",
          "data": {
            "text/plain": [
              "meme_id            0\n",
              "meme_type          0\n",
              "source_id       1877\n",
              "is_available       0\n",
              "likes              0\n",
              "dislikes           0\n",
              "language_id      297\n",
              "dtype: int64"
            ]
          },
          "metadata": {
            "tags": []
          },
          "execution_count": 74
        }
      ]
    },
    {
      "cell_type": "code",
      "metadata": {
        "id": "LlzrWYGWegPg"
      },
      "source": [
        "meme_df = pd.get_dummies(meme_df, columns = ['meme_type'])"
      ],
      "execution_count": null,
      "outputs": []
    },
    {
      "cell_type": "code",
      "metadata": {
        "id": "Ao7-16A9gmLV"
      },
      "source": [
        "result = meme_df['is_available'].astype(int)\r\n",
        "meme_df['is_available'] = result\r\n",
        "del result"
      ],
      "execution_count": null,
      "outputs": []
    },
    {
      "cell_type": "code",
      "metadata": {
        "colab": {
          "base_uri": "https://localhost:8080/"
        },
        "id": "bKDzsP-tj4lm",
        "outputId": "e447a95d-4ddb-473a-e717-f5bee81a8a41"
      },
      "source": [
        "meme_df.source_id.value_counts()"
      ],
      "execution_count": null,
      "outputs": [
        {
          "output_type": "execute_result",
          "data": {
            "text/plain": [
              "75.0     4885\n",
              "78.0     3815\n",
              "76.0     2648\n",
              "4.0      2508\n",
              "80.0     2471\n",
              "         ... \n",
              "128.0       6\n",
              "93.0        6\n",
              "142.0       6\n",
              "144.0       4\n",
              "107.0       3\n",
              "Name: source_id, Length: 142, dtype: int64"
            ]
          },
          "metadata": {
            "tags": []
          },
          "execution_count": 77
        }
      ]
    },
    {
      "cell_type": "code",
      "metadata": {
        "id": "MQ-i0NfmhqfL"
      },
      "source": [
        "nans = meme_df['source_id'].isna() # пропорциональное распределение источников по nan значениям\r\n",
        "source_ids = meme_df.source_id.unique()\r\n",
        "source_ids = source_ids[np.isnan(source_ids) == False]\r\n",
        "length = sum(nans)\r\n",
        "replacement = random.choices(source_ids, k=length)\r\n",
        "meme_df.loc[nans,'source_id'] = replacement"
      ],
      "execution_count": null,
      "outputs": []
    },
    {
      "cell_type": "code",
      "metadata": {
        "colab": {
          "base_uri": "https://localhost:8080/"
        },
        "id": "Bm7DMbtwj8Wd",
        "outputId": "16f9940b-c572-46f2-d2a5-a88a5d7754e7"
      },
      "source": [
        "meme_df.source_id.value_counts()"
      ],
      "execution_count": null,
      "outputs": [
        {
          "output_type": "execute_result",
          "data": {
            "text/plain": [
              "75.0     4903\n",
              "78.0     3829\n",
              "76.0     2657\n",
              "4.0      2518\n",
              "80.0     2497\n",
              "         ... \n",
              "93.0       18\n",
              "103.0      18\n",
              "142.0      15\n",
              "144.0      14\n",
              "107.0      13\n",
              "Name: source_id, Length: 142, dtype: int64"
            ]
          },
          "metadata": {
            "tags": []
          },
          "execution_count": 79
        }
      ]
    },
    {
      "cell_type": "code",
      "metadata": {
        "colab": {
          "base_uri": "https://localhost:8080/"
        },
        "id": "ul7haj9gjtOs",
        "outputId": "7c98156f-1c5c-4b3a-d127-71c9ed506c27"
      },
      "source": [
        "meme_df.isna().sum()"
      ],
      "execution_count": null,
      "outputs": [
        {
          "output_type": "execute_result",
          "data": {
            "text/plain": [
              "meme_id                  0\n",
              "source_id                0\n",
              "is_available             0\n",
              "likes                    0\n",
              "dislikes                 0\n",
              "language_id            297\n",
              "meme_type_animation      0\n",
              "meme_type_photo          0\n",
              "meme_type_video          0\n",
              "dtype: int64"
            ]
          },
          "metadata": {
            "tags": []
          },
          "execution_count": 80
        }
      ]
    },
    {
      "cell_type": "code",
      "metadata": {
        "colab": {
          "base_uri": "https://localhost:8080/"
        },
        "id": "rIv7XUW-lnxH",
        "outputId": "1424872d-c912-4d6d-d085-aa8d6a8c8b2b"
      },
      "source": [
        "meme_df.language_id.value_counts()"
      ],
      "execution_count": null,
      "outputs": [
        {
          "output_type": "execute_result",
          "data": {
            "text/plain": [
              "3.0    32151\n",
              "2.0    22094\n",
              "1.0     6336\n",
              "4.0      638\n",
              "Name: language_id, dtype: int64"
            ]
          },
          "metadata": {
            "tags": []
          },
          "execution_count": 81
        }
      ]
    },
    {
      "cell_type": "code",
      "metadata": {
        "id": "DD5JGdZTldLy"
      },
      "source": [
        "nans = meme_df['language_id'].isna() # пропорциональное распределение языков по nan значениям\r\n",
        "language_ids = meme_df.language_id.unique()\r\n",
        "language_ids = language_ids[np.isnan(language_ids) == False]\r\n",
        "length = sum(nans)\r\n",
        "replacement = random.choices(language_ids, k=length)\r\n",
        "meme_df.loc[nans,'language_id'] = replacement"
      ],
      "execution_count": null,
      "outputs": []
    },
    {
      "cell_type": "code",
      "metadata": {
        "colab": {
          "base_uri": "https://localhost:8080/"
        },
        "id": "wVOATll4lrdh",
        "outputId": "1b769806-307f-445c-a2da-0842f5153bae"
      },
      "source": [
        "meme_df.language_id.value_counts()"
      ],
      "execution_count": null,
      "outputs": [
        {
          "output_type": "execute_result",
          "data": {
            "text/plain": [
              "3.0    32227\n",
              "2.0    22169\n",
              "1.0     6403\n",
              "4.0      717\n",
              "Name: language_id, dtype: int64"
            ]
          },
          "metadata": {
            "tags": []
          },
          "execution_count": 83
        }
      ]
    },
    {
      "cell_type": "code",
      "metadata": {
        "colab": {
          "base_uri": "https://localhost:8080/"
        },
        "id": "WLvjgAxblwzc",
        "outputId": "c70f5e36-3b75-4775-dd34-f9f99cf35a8d"
      },
      "source": [
        "meme_df.isna().sum()"
      ],
      "execution_count": null,
      "outputs": [
        {
          "output_type": "execute_result",
          "data": {
            "text/plain": [
              "meme_id                0\n",
              "source_id              0\n",
              "is_available           0\n",
              "likes                  0\n",
              "dislikes               0\n",
              "language_id            0\n",
              "meme_type_animation    0\n",
              "meme_type_photo        0\n",
              "meme_type_video        0\n",
              "dtype: int64"
            ]
          },
          "metadata": {
            "tags": []
          },
          "execution_count": 84
        }
      ]
    },
    {
      "cell_type": "code",
      "metadata": {
        "colab": {
          "base_uri": "https://localhost:8080/",
          "height": 197
        },
        "id": "jdKQ3CGslyTb",
        "outputId": "79bfb71e-c28b-46c8-9727-818d84266816"
      },
      "source": [
        "meme_df.head() # готовый датафрейм"
      ],
      "execution_count": null,
      "outputs": [
        {
          "output_type": "execute_result",
          "data": {
            "text/html": [
              "<div>\n",
              "<style scoped>\n",
              "    .dataframe tbody tr th:only-of-type {\n",
              "        vertical-align: middle;\n",
              "    }\n",
              "\n",
              "    .dataframe tbody tr th {\n",
              "        vertical-align: top;\n",
              "    }\n",
              "\n",
              "    .dataframe thead th {\n",
              "        text-align: right;\n",
              "    }\n",
              "</style>\n",
              "<table border=\"1\" class=\"dataframe\">\n",
              "  <thead>\n",
              "    <tr style=\"text-align: right;\">\n",
              "      <th></th>\n",
              "      <th>meme_id</th>\n",
              "      <th>source_id</th>\n",
              "      <th>is_available</th>\n",
              "      <th>likes</th>\n",
              "      <th>dislikes</th>\n",
              "      <th>language_id</th>\n",
              "      <th>meme_type_animation</th>\n",
              "      <th>meme_type_photo</th>\n",
              "      <th>meme_type_video</th>\n",
              "    </tr>\n",
              "  </thead>\n",
              "  <tbody>\n",
              "    <tr>\n",
              "      <th>0</th>\n",
              "      <td>28997</td>\n",
              "      <td>79.0</td>\n",
              "      <td>1</td>\n",
              "      <td>17</td>\n",
              "      <td>14</td>\n",
              "      <td>3.0</td>\n",
              "      <td>0</td>\n",
              "      <td>1</td>\n",
              "      <td>0</td>\n",
              "    </tr>\n",
              "    <tr>\n",
              "      <th>1</th>\n",
              "      <td>10873</td>\n",
              "      <td>43.0</td>\n",
              "      <td>1</td>\n",
              "      <td>79</td>\n",
              "      <td>74</td>\n",
              "      <td>2.0</td>\n",
              "      <td>0</td>\n",
              "      <td>1</td>\n",
              "      <td>0</td>\n",
              "    </tr>\n",
              "    <tr>\n",
              "      <th>2</th>\n",
              "      <td>9874</td>\n",
              "      <td>78.0</td>\n",
              "      <td>1</td>\n",
              "      <td>1</td>\n",
              "      <td>7</td>\n",
              "      <td>3.0</td>\n",
              "      <td>0</td>\n",
              "      <td>1</td>\n",
              "      <td>0</td>\n",
              "    </tr>\n",
              "    <tr>\n",
              "      <th>3</th>\n",
              "      <td>43458</td>\n",
              "      <td>43.0</td>\n",
              "      <td>0</td>\n",
              "      <td>8</td>\n",
              "      <td>12</td>\n",
              "      <td>2.0</td>\n",
              "      <td>0</td>\n",
              "      <td>1</td>\n",
              "      <td>0</td>\n",
              "    </tr>\n",
              "    <tr>\n",
              "      <th>4</th>\n",
              "      <td>9000</td>\n",
              "      <td>76.0</td>\n",
              "      <td>1</td>\n",
              "      <td>2</td>\n",
              "      <td>9</td>\n",
              "      <td>3.0</td>\n",
              "      <td>0</td>\n",
              "      <td>1</td>\n",
              "      <td>0</td>\n",
              "    </tr>\n",
              "  </tbody>\n",
              "</table>\n",
              "</div>"
            ],
            "text/plain": [
              "   meme_id  source_id  ...  meme_type_photo  meme_type_video\n",
              "0    28997       79.0  ...                1                0\n",
              "1    10873       43.0  ...                1                0\n",
              "2     9874       78.0  ...                1                0\n",
              "3    43458       43.0  ...                1                0\n",
              "4     9000       76.0  ...                1                0\n",
              "\n",
              "[5 rows x 9 columns]"
            ]
          },
          "metadata": {
            "tags": []
          },
          "execution_count": 85
        }
      ]
    },
    {
      "cell_type": "markdown",
      "metadata": {
        "id": "-HNyqrPPbarX"
      },
      "source": [
        "## Объединение датасэтов"
      ]
    },
    {
      "cell_type": "code",
      "metadata": {
        "colab": {
          "base_uri": "https://localhost:8080/",
          "height": 406
        },
        "id": "d4e97XibbisB",
        "outputId": "778e87a3-45bf-4ec5-f862-c37f8c17719f"
      },
      "source": [
        "event_df"
      ],
      "execution_count": null,
      "outputs": [
        {
          "output_type": "execute_result",
          "data": {
            "text/html": [
              "<div>\n",
              "<style scoped>\n",
              "    .dataframe tbody tr th:only-of-type {\n",
              "        vertical-align: middle;\n",
              "    }\n",
              "\n",
              "    .dataframe tbody tr th {\n",
              "        vertical-align: top;\n",
              "    }\n",
              "\n",
              "    .dataframe thead th {\n",
              "        text-align: right;\n",
              "    }\n",
              "</style>\n",
              "<table border=\"1\" class=\"dataframe\">\n",
              "  <thead>\n",
              "    <tr style=\"text-align: right;\">\n",
              "      <th></th>\n",
              "      <th>reaction_id</th>\n",
              "      <th>meme_id</th>\n",
              "      <th>user_id</th>\n",
              "    </tr>\n",
              "  </thead>\n",
              "  <tbody>\n",
              "    <tr>\n",
              "      <th>0</th>\n",
              "      <td>2.0</td>\n",
              "      <td>24379</td>\n",
              "      <td>280747086</td>\n",
              "    </tr>\n",
              "    <tr>\n",
              "      <th>1</th>\n",
              "      <td>1.0</td>\n",
              "      <td>49173</td>\n",
              "      <td>285739883</td>\n",
              "    </tr>\n",
              "    <tr>\n",
              "      <th>2</th>\n",
              "      <td>1.0</td>\n",
              "      <td>8340</td>\n",
              "      <td>280747086</td>\n",
              "    </tr>\n",
              "    <tr>\n",
              "      <th>3</th>\n",
              "      <td>1.0</td>\n",
              "      <td>64748</td>\n",
              "      <td>78991522</td>\n",
              "    </tr>\n",
              "    <tr>\n",
              "      <th>4</th>\n",
              "      <td>2.0</td>\n",
              "      <td>45163</td>\n",
              "      <td>860086058</td>\n",
              "    </tr>\n",
              "    <tr>\n",
              "      <th>...</th>\n",
              "      <td>...</td>\n",
              "      <td>...</td>\n",
              "      <td>...</td>\n",
              "    </tr>\n",
              "    <tr>\n",
              "      <th>3652698</th>\n",
              "      <td>2.0</td>\n",
              "      <td>53209</td>\n",
              "      <td>860086058</td>\n",
              "    </tr>\n",
              "    <tr>\n",
              "      <th>3652699</th>\n",
              "      <td>2.0</td>\n",
              "      <td>54890</td>\n",
              "      <td>381510059</td>\n",
              "    </tr>\n",
              "    <tr>\n",
              "      <th>3652700</th>\n",
              "      <td>2.0</td>\n",
              "      <td>38116</td>\n",
              "      <td>285739883</td>\n",
              "    </tr>\n",
              "    <tr>\n",
              "      <th>3652701</th>\n",
              "      <td>1.0</td>\n",
              "      <td>10188</td>\n",
              "      <td>245482</td>\n",
              "    </tr>\n",
              "    <tr>\n",
              "      <th>3652702</th>\n",
              "      <td>2.0</td>\n",
              "      <td>13534</td>\n",
              "      <td>1023088184</td>\n",
              "    </tr>\n",
              "  </tbody>\n",
              "</table>\n",
              "<p>3519690 rows × 3 columns</p>\n",
              "</div>"
            ],
            "text/plain": [
              "         reaction_id  meme_id     user_id\n",
              "0                2.0    24379   280747086\n",
              "1                1.0    49173   285739883\n",
              "2                1.0     8340   280747086\n",
              "3                1.0    64748    78991522\n",
              "4                2.0    45163   860086058\n",
              "...              ...      ...         ...\n",
              "3652698          2.0    53209   860086058\n",
              "3652699          2.0    54890   381510059\n",
              "3652700          2.0    38116   285739883\n",
              "3652701          1.0    10188      245482\n",
              "3652702          2.0    13534  1023088184\n",
              "\n",
              "[3519690 rows x 3 columns]"
            ]
          },
          "metadata": {
            "tags": []
          },
          "execution_count": 86
        }
      ]
    },
    {
      "cell_type": "code",
      "metadata": {
        "colab": {
          "base_uri": "https://localhost:8080/",
          "height": 197
        },
        "id": "Cu5v0hIBbndN",
        "outputId": "d106f54d-c373-41b6-bfe3-354280677520"
      },
      "source": [
        "meme_df.head()"
      ],
      "execution_count": null,
      "outputs": [
        {
          "output_type": "execute_result",
          "data": {
            "text/html": [
              "<div>\n",
              "<style scoped>\n",
              "    .dataframe tbody tr th:only-of-type {\n",
              "        vertical-align: middle;\n",
              "    }\n",
              "\n",
              "    .dataframe tbody tr th {\n",
              "        vertical-align: top;\n",
              "    }\n",
              "\n",
              "    .dataframe thead th {\n",
              "        text-align: right;\n",
              "    }\n",
              "</style>\n",
              "<table border=\"1\" class=\"dataframe\">\n",
              "  <thead>\n",
              "    <tr style=\"text-align: right;\">\n",
              "      <th></th>\n",
              "      <th>meme_id</th>\n",
              "      <th>source_id</th>\n",
              "      <th>is_available</th>\n",
              "      <th>likes</th>\n",
              "      <th>dislikes</th>\n",
              "      <th>language_id</th>\n",
              "      <th>meme_type_animation</th>\n",
              "      <th>meme_type_photo</th>\n",
              "      <th>meme_type_video</th>\n",
              "    </tr>\n",
              "  </thead>\n",
              "  <tbody>\n",
              "    <tr>\n",
              "      <th>0</th>\n",
              "      <td>28997</td>\n",
              "      <td>79.0</td>\n",
              "      <td>1</td>\n",
              "      <td>17</td>\n",
              "      <td>14</td>\n",
              "      <td>3.0</td>\n",
              "      <td>0</td>\n",
              "      <td>1</td>\n",
              "      <td>0</td>\n",
              "    </tr>\n",
              "    <tr>\n",
              "      <th>1</th>\n",
              "      <td>10873</td>\n",
              "      <td>43.0</td>\n",
              "      <td>1</td>\n",
              "      <td>79</td>\n",
              "      <td>74</td>\n",
              "      <td>2.0</td>\n",
              "      <td>0</td>\n",
              "      <td>1</td>\n",
              "      <td>0</td>\n",
              "    </tr>\n",
              "    <tr>\n",
              "      <th>2</th>\n",
              "      <td>9874</td>\n",
              "      <td>78.0</td>\n",
              "      <td>1</td>\n",
              "      <td>1</td>\n",
              "      <td>7</td>\n",
              "      <td>3.0</td>\n",
              "      <td>0</td>\n",
              "      <td>1</td>\n",
              "      <td>0</td>\n",
              "    </tr>\n",
              "    <tr>\n",
              "      <th>3</th>\n",
              "      <td>43458</td>\n",
              "      <td>43.0</td>\n",
              "      <td>0</td>\n",
              "      <td>8</td>\n",
              "      <td>12</td>\n",
              "      <td>2.0</td>\n",
              "      <td>0</td>\n",
              "      <td>1</td>\n",
              "      <td>0</td>\n",
              "    </tr>\n",
              "    <tr>\n",
              "      <th>4</th>\n",
              "      <td>9000</td>\n",
              "      <td>76.0</td>\n",
              "      <td>1</td>\n",
              "      <td>2</td>\n",
              "      <td>9</td>\n",
              "      <td>3.0</td>\n",
              "      <td>0</td>\n",
              "      <td>1</td>\n",
              "      <td>0</td>\n",
              "    </tr>\n",
              "  </tbody>\n",
              "</table>\n",
              "</div>"
            ],
            "text/plain": [
              "   meme_id  source_id  ...  meme_type_photo  meme_type_video\n",
              "0    28997       79.0  ...                1                0\n",
              "1    10873       43.0  ...                1                0\n",
              "2     9874       78.0  ...                1                0\n",
              "3    43458       43.0  ...                1                0\n",
              "4     9000       76.0  ...                1                0\n",
              "\n",
              "[5 rows x 9 columns]"
            ]
          },
          "metadata": {
            "tags": []
          },
          "execution_count": 87
        }
      ]
    },
    {
      "cell_type": "code",
      "metadata": {
        "colab": {
          "base_uri": "https://localhost:8080/",
          "height": 197
        },
        "id": "yAd_ckvuboMl",
        "outputId": "2976aaa8-52dc-4721-a219-b212dd351ea6"
      },
      "source": [
        "user_df.head()"
      ],
      "execution_count": null,
      "outputs": [
        {
          "output_type": "execute_result",
          "data": {
            "text/html": [
              "<div>\n",
              "<style scoped>\n",
              "    .dataframe tbody tr th:only-of-type {\n",
              "        vertical-align: middle;\n",
              "    }\n",
              "\n",
              "    .dataframe tbody tr th {\n",
              "        vertical-align: top;\n",
              "    }\n",
              "\n",
              "    .dataframe thead th {\n",
              "        text-align: right;\n",
              "    }\n",
              "</style>\n",
              "<table border=\"1\" class=\"dataframe\">\n",
              "  <thead>\n",
              "    <tr style=\"text-align: right;\">\n",
              "      <th></th>\n",
              "      <th>user_id</th>\n",
              "      <th>sessions</th>\n",
              "      <th>watched_memes</th>\n",
              "      <th>interface_lang</th>\n",
              "    </tr>\n",
              "  </thead>\n",
              "  <tbody>\n",
              "    <tr>\n",
              "      <th>0</th>\n",
              "      <td>820326025</td>\n",
              "      <td>6</td>\n",
              "      <td>20</td>\n",
              "      <td>0.0</td>\n",
              "    </tr>\n",
              "    <tr>\n",
              "      <th>1</th>\n",
              "      <td>1040875164</td>\n",
              "      <td>2</td>\n",
              "      <td>7</td>\n",
              "      <td>1.0</td>\n",
              "    </tr>\n",
              "    <tr>\n",
              "      <th>2</th>\n",
              "      <td>449432539</td>\n",
              "      <td>2</td>\n",
              "      <td>9</td>\n",
              "      <td>0.0</td>\n",
              "    </tr>\n",
              "    <tr>\n",
              "      <th>3</th>\n",
              "      <td>230248850</td>\n",
              "      <td>26</td>\n",
              "      <td>38</td>\n",
              "      <td>0.0</td>\n",
              "    </tr>\n",
              "    <tr>\n",
              "      <th>4</th>\n",
              "      <td>7719424</td>\n",
              "      <td>27</td>\n",
              "      <td>49</td>\n",
              "      <td>0.0</td>\n",
              "    </tr>\n",
              "  </tbody>\n",
              "</table>\n",
              "</div>"
            ],
            "text/plain": [
              "      user_id  sessions  watched_memes  interface_lang\n",
              "0   820326025         6             20             0.0\n",
              "1  1040875164         2              7             1.0\n",
              "2   449432539         2              9             0.0\n",
              "3   230248850        26             38             0.0\n",
              "4     7719424        27             49             0.0"
            ]
          },
          "metadata": {
            "tags": []
          },
          "execution_count": 88
        }
      ]
    },
    {
      "cell_type": "code",
      "metadata": {
        "colab": {
          "base_uri": "https://localhost:8080/",
          "height": 406
        },
        "id": "cOcXukLJb4Dj",
        "outputId": "0ef57fcf-6053-4725-f9fe-6f91a1e39526"
      },
      "source": [
        "event_meme = pd.merge(event_df, meme_df, on = 'meme_id')\r\n",
        "event_meme_user = pd.merge(event_meme, user_df, on = 'user_id')\r\n",
        "event_meme_user.drop(['meme_id', 'user_id'], axis = 1, inplace = True)\r\n",
        "event_meme_user"
      ],
      "execution_count": null,
      "outputs": [
        {
          "output_type": "execute_result",
          "data": {
            "text/html": [
              "<div>\n",
              "<style scoped>\n",
              "    .dataframe tbody tr th:only-of-type {\n",
              "        vertical-align: middle;\n",
              "    }\n",
              "\n",
              "    .dataframe tbody tr th {\n",
              "        vertical-align: top;\n",
              "    }\n",
              "\n",
              "    .dataframe thead th {\n",
              "        text-align: right;\n",
              "    }\n",
              "</style>\n",
              "<table border=\"1\" class=\"dataframe\">\n",
              "  <thead>\n",
              "    <tr style=\"text-align: right;\">\n",
              "      <th></th>\n",
              "      <th>reaction_id</th>\n",
              "      <th>source_id</th>\n",
              "      <th>is_available</th>\n",
              "      <th>likes</th>\n",
              "      <th>dislikes</th>\n",
              "      <th>language_id</th>\n",
              "      <th>meme_type_animation</th>\n",
              "      <th>meme_type_photo</th>\n",
              "      <th>meme_type_video</th>\n",
              "      <th>sessions</th>\n",
              "      <th>watched_memes</th>\n",
              "      <th>interface_lang</th>\n",
              "    </tr>\n",
              "  </thead>\n",
              "  <tbody>\n",
              "    <tr>\n",
              "      <th>0</th>\n",
              "      <td>2.0</td>\n",
              "      <td>45.0</td>\n",
              "      <td>1</td>\n",
              "      <td>22</td>\n",
              "      <td>33</td>\n",
              "      <td>2.0</td>\n",
              "      <td>0</td>\n",
              "      <td>1</td>\n",
              "      <td>0</td>\n",
              "      <td>64</td>\n",
              "      <td>4353</td>\n",
              "      <td>0.0</td>\n",
              "    </tr>\n",
              "    <tr>\n",
              "      <th>1</th>\n",
              "      <td>1.0</td>\n",
              "      <td>46.0</td>\n",
              "      <td>1</td>\n",
              "      <td>106</td>\n",
              "      <td>90</td>\n",
              "      <td>2.0</td>\n",
              "      <td>0</td>\n",
              "      <td>1</td>\n",
              "      <td>0</td>\n",
              "      <td>64</td>\n",
              "      <td>4353</td>\n",
              "      <td>0.0</td>\n",
              "    </tr>\n",
              "    <tr>\n",
              "      <th>2</th>\n",
              "      <td>1.0</td>\n",
              "      <td>43.0</td>\n",
              "      <td>1</td>\n",
              "      <td>63</td>\n",
              "      <td>69</td>\n",
              "      <td>2.0</td>\n",
              "      <td>0</td>\n",
              "      <td>1</td>\n",
              "      <td>0</td>\n",
              "      <td>64</td>\n",
              "      <td>4353</td>\n",
              "      <td>0.0</td>\n",
              "    </tr>\n",
              "    <tr>\n",
              "      <th>3</th>\n",
              "      <td>2.0</td>\n",
              "      <td>8.0</td>\n",
              "      <td>1</td>\n",
              "      <td>43</td>\n",
              "      <td>52</td>\n",
              "      <td>2.0</td>\n",
              "      <td>0</td>\n",
              "      <td>1</td>\n",
              "      <td>0</td>\n",
              "      <td>64</td>\n",
              "      <td>4353</td>\n",
              "      <td>0.0</td>\n",
              "    </tr>\n",
              "    <tr>\n",
              "      <th>4</th>\n",
              "      <td>1.0</td>\n",
              "      <td>21.0</td>\n",
              "      <td>1</td>\n",
              "      <td>192</td>\n",
              "      <td>70</td>\n",
              "      <td>2.0</td>\n",
              "      <td>0</td>\n",
              "      <td>1</td>\n",
              "      <td>0</td>\n",
              "      <td>64</td>\n",
              "      <td>4353</td>\n",
              "      <td>0.0</td>\n",
              "    </tr>\n",
              "    <tr>\n",
              "      <th>...</th>\n",
              "      <td>...</td>\n",
              "      <td>...</td>\n",
              "      <td>...</td>\n",
              "      <td>...</td>\n",
              "      <td>...</td>\n",
              "      <td>...</td>\n",
              "      <td>...</td>\n",
              "      <td>...</td>\n",
              "      <td>...</td>\n",
              "      <td>...</td>\n",
              "      <td>...</td>\n",
              "      <td>...</td>\n",
              "    </tr>\n",
              "    <tr>\n",
              "      <th>3480367</th>\n",
              "      <td>2.0</td>\n",
              "      <td>75.0</td>\n",
              "      <td>1</td>\n",
              "      <td>77</td>\n",
              "      <td>28</td>\n",
              "      <td>3.0</td>\n",
              "      <td>0</td>\n",
              "      <td>1</td>\n",
              "      <td>0</td>\n",
              "      <td>1</td>\n",
              "      <td>1</td>\n",
              "      <td>1.0</td>\n",
              "    </tr>\n",
              "    <tr>\n",
              "      <th>3480368</th>\n",
              "      <td>2.0</td>\n",
              "      <td>75.0</td>\n",
              "      <td>1</td>\n",
              "      <td>77</td>\n",
              "      <td>28</td>\n",
              "      <td>3.0</td>\n",
              "      <td>0</td>\n",
              "      <td>1</td>\n",
              "      <td>0</td>\n",
              "      <td>1</td>\n",
              "      <td>1</td>\n",
              "      <td>1.0</td>\n",
              "    </tr>\n",
              "    <tr>\n",
              "      <th>3480369</th>\n",
              "      <td>2.0</td>\n",
              "      <td>78.0</td>\n",
              "      <td>1</td>\n",
              "      <td>9</td>\n",
              "      <td>16</td>\n",
              "      <td>3.0</td>\n",
              "      <td>0</td>\n",
              "      <td>1</td>\n",
              "      <td>0</td>\n",
              "      <td>1</td>\n",
              "      <td>1</td>\n",
              "      <td>0.0</td>\n",
              "    </tr>\n",
              "    <tr>\n",
              "      <th>3480370</th>\n",
              "      <td>2.0</td>\n",
              "      <td>78.0</td>\n",
              "      <td>1</td>\n",
              "      <td>23</td>\n",
              "      <td>12</td>\n",
              "      <td>3.0</td>\n",
              "      <td>0</td>\n",
              "      <td>1</td>\n",
              "      <td>0</td>\n",
              "      <td>1</td>\n",
              "      <td>1</td>\n",
              "      <td>1.0</td>\n",
              "    </tr>\n",
              "    <tr>\n",
              "      <th>3480371</th>\n",
              "      <td>2.0</td>\n",
              "      <td>75.0</td>\n",
              "      <td>1</td>\n",
              "      <td>19</td>\n",
              "      <td>18</td>\n",
              "      <td>3.0</td>\n",
              "      <td>0</td>\n",
              "      <td>1</td>\n",
              "      <td>0</td>\n",
              "      <td>1</td>\n",
              "      <td>1</td>\n",
              "      <td>1.0</td>\n",
              "    </tr>\n",
              "  </tbody>\n",
              "</table>\n",
              "<p>3480372 rows × 12 columns</p>\n",
              "</div>"
            ],
            "text/plain": [
              "         reaction_id  source_id  ...  watched_memes  interface_lang\n",
              "0                2.0       45.0  ...           4353             0.0\n",
              "1                1.0       46.0  ...           4353             0.0\n",
              "2                1.0       43.0  ...           4353             0.0\n",
              "3                2.0        8.0  ...           4353             0.0\n",
              "4                1.0       21.0  ...           4353             0.0\n",
              "...              ...        ...  ...            ...             ...\n",
              "3480367          2.0       75.0  ...              1             1.0\n",
              "3480368          2.0       75.0  ...              1             1.0\n",
              "3480369          2.0       78.0  ...              1             0.0\n",
              "3480370          2.0       78.0  ...              1             1.0\n",
              "3480371          2.0       75.0  ...              1             1.0\n",
              "\n",
              "[3480372 rows x 12 columns]"
            ]
          },
          "metadata": {
            "tags": []
          },
          "execution_count": 89
        }
      ]
    },
    {
      "cell_type": "code",
      "metadata": {
        "colab": {
          "base_uri": "https://localhost:8080/"
        },
        "id": "73y1ZjTBct7F",
        "outputId": "d75df040-25a1-40a2-d44d-691b1ed57124"
      },
      "source": [
        "event_meme_user.isna().sum()"
      ],
      "execution_count": null,
      "outputs": [
        {
          "output_type": "execute_result",
          "data": {
            "text/plain": [
              "reaction_id            0\n",
              "source_id              0\n",
              "is_available           0\n",
              "likes                  0\n",
              "dislikes               0\n",
              "language_id            0\n",
              "meme_type_animation    0\n",
              "meme_type_photo        0\n",
              "meme_type_video        0\n",
              "sessions               0\n",
              "watched_memes          0\n",
              "interface_lang         0\n",
              "dtype: int64"
            ]
          },
          "metadata": {
            "tags": []
          },
          "execution_count": 90
        }
      ]
    },
    {
      "cell_type": "markdown",
      "metadata": {
        "id": "yt8LkZS5c2rC"
      },
      "source": [
        "## Подготовка модели"
      ]
    },
    {
      "cell_type": "code",
      "metadata": {
        "id": "5RIjtz-0c4wZ"
      },
      "source": [
        "x = event_meme_user.iloc[:,1:]\r\n",
        "y = event_meme_user.iloc[:,0]\r\n",
        " "
      ],
      "execution_count": null,
      "outputs": []
    },
    {
      "cell_type": "code",
      "metadata": {
        "colab": {
          "base_uri": "https://localhost:8080/",
          "height": 406
        },
        "id": "RAQZ3hdYdDfl",
        "outputId": "c39ed5e7-46f4-463f-ed8b-ccd4f93fb0de"
      },
      "source": [
        "x"
      ],
      "execution_count": null,
      "outputs": [
        {
          "output_type": "execute_result",
          "data": {
            "text/html": [
              "<div>\n",
              "<style scoped>\n",
              "    .dataframe tbody tr th:only-of-type {\n",
              "        vertical-align: middle;\n",
              "    }\n",
              "\n",
              "    .dataframe tbody tr th {\n",
              "        vertical-align: top;\n",
              "    }\n",
              "\n",
              "    .dataframe thead th {\n",
              "        text-align: right;\n",
              "    }\n",
              "</style>\n",
              "<table border=\"1\" class=\"dataframe\">\n",
              "  <thead>\n",
              "    <tr style=\"text-align: right;\">\n",
              "      <th></th>\n",
              "      <th>source_id</th>\n",
              "      <th>is_available</th>\n",
              "      <th>likes</th>\n",
              "      <th>dislikes</th>\n",
              "      <th>language_id</th>\n",
              "      <th>meme_type_animation</th>\n",
              "      <th>meme_type_photo</th>\n",
              "      <th>meme_type_video</th>\n",
              "      <th>sessions</th>\n",
              "      <th>watched_memes</th>\n",
              "      <th>interface_lang</th>\n",
              "    </tr>\n",
              "  </thead>\n",
              "  <tbody>\n",
              "    <tr>\n",
              "      <th>0</th>\n",
              "      <td>45.0</td>\n",
              "      <td>1</td>\n",
              "      <td>22</td>\n",
              "      <td>33</td>\n",
              "      <td>2.0</td>\n",
              "      <td>0</td>\n",
              "      <td>1</td>\n",
              "      <td>0</td>\n",
              "      <td>64</td>\n",
              "      <td>4353</td>\n",
              "      <td>0.0</td>\n",
              "    </tr>\n",
              "    <tr>\n",
              "      <th>1</th>\n",
              "      <td>46.0</td>\n",
              "      <td>1</td>\n",
              "      <td>106</td>\n",
              "      <td>90</td>\n",
              "      <td>2.0</td>\n",
              "      <td>0</td>\n",
              "      <td>1</td>\n",
              "      <td>0</td>\n",
              "      <td>64</td>\n",
              "      <td>4353</td>\n",
              "      <td>0.0</td>\n",
              "    </tr>\n",
              "    <tr>\n",
              "      <th>2</th>\n",
              "      <td>43.0</td>\n",
              "      <td>1</td>\n",
              "      <td>63</td>\n",
              "      <td>69</td>\n",
              "      <td>2.0</td>\n",
              "      <td>0</td>\n",
              "      <td>1</td>\n",
              "      <td>0</td>\n",
              "      <td>64</td>\n",
              "      <td>4353</td>\n",
              "      <td>0.0</td>\n",
              "    </tr>\n",
              "    <tr>\n",
              "      <th>3</th>\n",
              "      <td>8.0</td>\n",
              "      <td>1</td>\n",
              "      <td>43</td>\n",
              "      <td>52</td>\n",
              "      <td>2.0</td>\n",
              "      <td>0</td>\n",
              "      <td>1</td>\n",
              "      <td>0</td>\n",
              "      <td>64</td>\n",
              "      <td>4353</td>\n",
              "      <td>0.0</td>\n",
              "    </tr>\n",
              "    <tr>\n",
              "      <th>4</th>\n",
              "      <td>21.0</td>\n",
              "      <td>1</td>\n",
              "      <td>192</td>\n",
              "      <td>70</td>\n",
              "      <td>2.0</td>\n",
              "      <td>0</td>\n",
              "      <td>1</td>\n",
              "      <td>0</td>\n",
              "      <td>64</td>\n",
              "      <td>4353</td>\n",
              "      <td>0.0</td>\n",
              "    </tr>\n",
              "    <tr>\n",
              "      <th>...</th>\n",
              "      <td>...</td>\n",
              "      <td>...</td>\n",
              "      <td>...</td>\n",
              "      <td>...</td>\n",
              "      <td>...</td>\n",
              "      <td>...</td>\n",
              "      <td>...</td>\n",
              "      <td>...</td>\n",
              "      <td>...</td>\n",
              "      <td>...</td>\n",
              "      <td>...</td>\n",
              "    </tr>\n",
              "    <tr>\n",
              "      <th>3480367</th>\n",
              "      <td>75.0</td>\n",
              "      <td>1</td>\n",
              "      <td>77</td>\n",
              "      <td>28</td>\n",
              "      <td>3.0</td>\n",
              "      <td>0</td>\n",
              "      <td>1</td>\n",
              "      <td>0</td>\n",
              "      <td>1</td>\n",
              "      <td>1</td>\n",
              "      <td>1.0</td>\n",
              "    </tr>\n",
              "    <tr>\n",
              "      <th>3480368</th>\n",
              "      <td>75.0</td>\n",
              "      <td>1</td>\n",
              "      <td>77</td>\n",
              "      <td>28</td>\n",
              "      <td>3.0</td>\n",
              "      <td>0</td>\n",
              "      <td>1</td>\n",
              "      <td>0</td>\n",
              "      <td>1</td>\n",
              "      <td>1</td>\n",
              "      <td>1.0</td>\n",
              "    </tr>\n",
              "    <tr>\n",
              "      <th>3480369</th>\n",
              "      <td>78.0</td>\n",
              "      <td>1</td>\n",
              "      <td>9</td>\n",
              "      <td>16</td>\n",
              "      <td>3.0</td>\n",
              "      <td>0</td>\n",
              "      <td>1</td>\n",
              "      <td>0</td>\n",
              "      <td>1</td>\n",
              "      <td>1</td>\n",
              "      <td>0.0</td>\n",
              "    </tr>\n",
              "    <tr>\n",
              "      <th>3480370</th>\n",
              "      <td>78.0</td>\n",
              "      <td>1</td>\n",
              "      <td>23</td>\n",
              "      <td>12</td>\n",
              "      <td>3.0</td>\n",
              "      <td>0</td>\n",
              "      <td>1</td>\n",
              "      <td>0</td>\n",
              "      <td>1</td>\n",
              "      <td>1</td>\n",
              "      <td>1.0</td>\n",
              "    </tr>\n",
              "    <tr>\n",
              "      <th>3480371</th>\n",
              "      <td>75.0</td>\n",
              "      <td>1</td>\n",
              "      <td>19</td>\n",
              "      <td>18</td>\n",
              "      <td>3.0</td>\n",
              "      <td>0</td>\n",
              "      <td>1</td>\n",
              "      <td>0</td>\n",
              "      <td>1</td>\n",
              "      <td>1</td>\n",
              "      <td>1.0</td>\n",
              "    </tr>\n",
              "  </tbody>\n",
              "</table>\n",
              "<p>3480372 rows × 11 columns</p>\n",
              "</div>"
            ],
            "text/plain": [
              "         source_id  is_available  ...  watched_memes  interface_lang\n",
              "0             45.0             1  ...           4353             0.0\n",
              "1             46.0             1  ...           4353             0.0\n",
              "2             43.0             1  ...           4353             0.0\n",
              "3              8.0             1  ...           4353             0.0\n",
              "4             21.0             1  ...           4353             0.0\n",
              "...            ...           ...  ...            ...             ...\n",
              "3480367       75.0             1  ...              1             1.0\n",
              "3480368       75.0             1  ...              1             1.0\n",
              "3480369       78.0             1  ...              1             0.0\n",
              "3480370       78.0             1  ...              1             1.0\n",
              "3480371       75.0             1  ...              1             1.0\n",
              "\n",
              "[3480372 rows x 11 columns]"
            ]
          },
          "metadata": {
            "tags": []
          },
          "execution_count": 92
        }
      ]
    },
    {
      "cell_type": "code",
      "metadata": {
        "colab": {
          "base_uri": "https://localhost:8080/"
        },
        "id": "GB7t5OV5deHK",
        "outputId": "f59e2f10-ae7a-4b9c-db96-dd10877c2100"
      },
      "source": [
        "y"
      ],
      "execution_count": null,
      "outputs": [
        {
          "output_type": "execute_result",
          "data": {
            "text/plain": [
              "0          2.0\n",
              "1          1.0\n",
              "2          1.0\n",
              "3          2.0\n",
              "4          1.0\n",
              "          ... \n",
              "3480367    2.0\n",
              "3480368    2.0\n",
              "3480369    2.0\n",
              "3480370    2.0\n",
              "3480371    2.0\n",
              "Name: reaction_id, Length: 3480372, dtype: float64"
            ]
          },
          "metadata": {
            "tags": []
          },
          "execution_count": 93
        }
      ]
    },
    {
      "cell_type": "code",
      "metadata": {
        "id": "KMi5skO5dr6g"
      },
      "source": [
        "from sklearn.model_selection import train_test_split\r\n",
        "x_tr, x_ts, y_tr, y_ts = train_test_split(x, y, random_state = 1)"
      ],
      "execution_count": null,
      "outputs": []
    },
    {
      "cell_type": "markdown",
      "metadata": {
        "id": "Rn7UThX9eauD"
      },
      "source": [
        "### Логистическая регрессия"
      ]
    },
    {
      "cell_type": "code",
      "metadata": {
        "colab": {
          "base_uri": "https://localhost:8080/"
        },
        "id": "VFNJ8gJBd6Bz",
        "outputId": "b5301a6d-ae40-4968-cd04-b2ee7198a7ce"
      },
      "source": [
        "from sklearn.linear_model import LogisticRegression\r\n",
        "logreg = LogisticRegression()\r\n",
        "logreg.fit(x_tr, y_tr)\r\n",
        "print('Accuracy of Logistic regression classifier on training set: {:.2f}'\r\n",
        "     .format(logreg.score(x_tr, y_tr)))\r\n",
        "print('Accuracy of Logistic regression classifier on test set: {:.2f}'\r\n",
        "     .format(logreg.score(x_ts, y_ts)))"
      ],
      "execution_count": null,
      "outputs": [
        {
          "output_type": "stream",
          "text": [
            "Accuracy of Logistic regression classifier on training set: 0.60\n",
            "Accuracy of Logistic regression classifier on test set: 0.60\n"
          ],
          "name": "stdout"
        }
      ]
    },
    {
      "cell_type": "markdown",
      "metadata": {
        "id": "64A7nTlkgLW0"
      },
      "source": [
        "### Дерево решений"
      ]
    },
    {
      "cell_type": "code",
      "metadata": {
        "colab": {
          "base_uri": "https://localhost:8080/"
        },
        "id": "GN9Cm1z1gNzM",
        "outputId": "af8b7edd-e1cd-45ef-8aa7-5032cb5416f6"
      },
      "source": [
        "from sklearn.tree import DecisionTreeClassifier\r\n",
        "clf = DecisionTreeClassifier().fit(x_tr, y_tr)\r\n",
        "print('Accuracy of Decision Tree classifier on training set: {:.2f}'\r\n",
        "     .format(clf.score(x_tr, y_tr)))\r\n",
        "print('Accuracy of Decision Tree classifier on test set: {:.2f}'\r\n",
        "     .format(clf.score(x_ts, y_ts)))"
      ],
      "execution_count": null,
      "outputs": [
        {
          "output_type": "stream",
          "text": [
            "Accuracy of Decision Tree classifier on training set: 0.96\n",
            "Accuracy of Decision Tree classifier on test set: 0.74\n"
          ],
          "name": "stdout"
        }
      ]
    },
    {
      "cell_type": "markdown",
      "metadata": {
        "id": "2cC0R-y_hK7X"
      },
      "source": [
        "### KNN (Метод ближайших соседей)"
      ]
    },
    {
      "cell_type": "code",
      "metadata": {
        "colab": {
          "base_uri": "https://localhost:8080/",
          "height": 458
        },
        "id": "6PuP32Ivh63u",
        "outputId": "f31863e2-1d60-431d-c123-f20e995d91ce"
      },
      "source": [
        "from sklearn.neighbors import KNeighborsClassifier\r\n",
        "knn = KNeighborsClassifier()\r\n",
        "knn.fit(x_tr, y_tr)\r\n",
        "print('Accuracy of K-NN classifier on training set: {:.2f}'\r\n",
        "     .format(knn.score(x_tr, y_tr)))\r\n",
        "print('Accuracy of K-NN classifier on test set: {:.2f}'\r\n",
        "     .format(knn.score(x_ts, y_ts)))"
      ],
      "execution_count": null,
      "outputs": [
        {
          "output_type": "error",
          "ename": "KeyboardInterrupt",
          "evalue": "ignored",
          "traceback": [
            "\u001b[0;31m---------------------------------------------------------------------------\u001b[0m",
            "\u001b[0;31mKeyboardInterrupt\u001b[0m                         Traceback (most recent call last)",
            "\u001b[0;32m<ipython-input-97-d2453a76070f>\u001b[0m in \u001b[0;36m<module>\u001b[0;34m()\u001b[0m\n\u001b[1;32m      3\u001b[0m \u001b[0mknn\u001b[0m\u001b[0;34m.\u001b[0m\u001b[0mfit\u001b[0m\u001b[0;34m(\u001b[0m\u001b[0mx_tr\u001b[0m\u001b[0;34m,\u001b[0m \u001b[0my_tr\u001b[0m\u001b[0;34m)\u001b[0m\u001b[0;34m\u001b[0m\u001b[0;34m\u001b[0m\u001b[0m\n\u001b[1;32m      4\u001b[0m print('Accuracy of K-NN classifier on training set: {:.2f}'\n\u001b[0;32m----> 5\u001b[0;31m      .format(knn.score(x_tr, y_tr)))\n\u001b[0m\u001b[1;32m      6\u001b[0m print('Accuracy of K-NN classifier on test set: {:.2f}'\n\u001b[1;32m      7\u001b[0m      .format(knn.score(x_ts, y_ts)))\n",
            "\u001b[0;32m/usr/local/lib/python3.6/dist-packages/sklearn/base.py\u001b[0m in \u001b[0;36mscore\u001b[0;34m(self, X, y, sample_weight)\u001b[0m\n\u001b[1;32m    367\u001b[0m         \"\"\"\n\u001b[1;32m    368\u001b[0m         \u001b[0;32mfrom\u001b[0m \u001b[0;34m.\u001b[0m\u001b[0mmetrics\u001b[0m \u001b[0;32mimport\u001b[0m \u001b[0maccuracy_score\u001b[0m\u001b[0;34m\u001b[0m\u001b[0;34m\u001b[0m\u001b[0m\n\u001b[0;32m--> 369\u001b[0;31m         \u001b[0;32mreturn\u001b[0m \u001b[0maccuracy_score\u001b[0m\u001b[0;34m(\u001b[0m\u001b[0my\u001b[0m\u001b[0;34m,\u001b[0m \u001b[0mself\u001b[0m\u001b[0;34m.\u001b[0m\u001b[0mpredict\u001b[0m\u001b[0;34m(\u001b[0m\u001b[0mX\u001b[0m\u001b[0;34m)\u001b[0m\u001b[0;34m,\u001b[0m \u001b[0msample_weight\u001b[0m\u001b[0;34m=\u001b[0m\u001b[0msample_weight\u001b[0m\u001b[0;34m)\u001b[0m\u001b[0;34m\u001b[0m\u001b[0;34m\u001b[0m\u001b[0m\n\u001b[0m\u001b[1;32m    370\u001b[0m \u001b[0;34m\u001b[0m\u001b[0m\n\u001b[1;32m    371\u001b[0m \u001b[0;34m\u001b[0m\u001b[0m\n",
            "\u001b[0;32m/usr/local/lib/python3.6/dist-packages/sklearn/neighbors/_classification.py\u001b[0m in \u001b[0;36mpredict\u001b[0;34m(self, X)\u001b[0m\n\u001b[1;32m    185\u001b[0m         \u001b[0;32mfor\u001b[0m \u001b[0mk\u001b[0m\u001b[0;34m,\u001b[0m \u001b[0mclasses_k\u001b[0m \u001b[0;32min\u001b[0m \u001b[0menumerate\u001b[0m\u001b[0;34m(\u001b[0m\u001b[0mclasses_\u001b[0m\u001b[0;34m)\u001b[0m\u001b[0;34m:\u001b[0m\u001b[0;34m\u001b[0m\u001b[0;34m\u001b[0m\u001b[0m\n\u001b[1;32m    186\u001b[0m             \u001b[0;32mif\u001b[0m \u001b[0mweights\u001b[0m \u001b[0;32mis\u001b[0m \u001b[0;32mNone\u001b[0m\u001b[0;34m:\u001b[0m\u001b[0;34m\u001b[0m\u001b[0;34m\u001b[0m\u001b[0m\n\u001b[0;32m--> 187\u001b[0;31m                 \u001b[0mmode\u001b[0m\u001b[0;34m,\u001b[0m \u001b[0m_\u001b[0m \u001b[0;34m=\u001b[0m \u001b[0mstats\u001b[0m\u001b[0;34m.\u001b[0m\u001b[0mmode\u001b[0m\u001b[0;34m(\u001b[0m\u001b[0m_y\u001b[0m\u001b[0;34m[\u001b[0m\u001b[0mneigh_ind\u001b[0m\u001b[0;34m,\u001b[0m \u001b[0mk\u001b[0m\u001b[0;34m]\u001b[0m\u001b[0;34m,\u001b[0m \u001b[0maxis\u001b[0m\u001b[0;34m=\u001b[0m\u001b[0;36m1\u001b[0m\u001b[0;34m)\u001b[0m\u001b[0;34m\u001b[0m\u001b[0;34m\u001b[0m\u001b[0m\n\u001b[0m\u001b[1;32m    188\u001b[0m             \u001b[0;32melse\u001b[0m\u001b[0;34m:\u001b[0m\u001b[0;34m\u001b[0m\u001b[0;34m\u001b[0m\u001b[0m\n\u001b[1;32m    189\u001b[0m                 \u001b[0mmode\u001b[0m\u001b[0;34m,\u001b[0m \u001b[0m_\u001b[0m \u001b[0;34m=\u001b[0m \u001b[0mweighted_mode\u001b[0m\u001b[0;34m(\u001b[0m\u001b[0m_y\u001b[0m\u001b[0;34m[\u001b[0m\u001b[0mneigh_ind\u001b[0m\u001b[0;34m,\u001b[0m \u001b[0mk\u001b[0m\u001b[0;34m]\u001b[0m\u001b[0;34m,\u001b[0m \u001b[0mweights\u001b[0m\u001b[0;34m,\u001b[0m \u001b[0maxis\u001b[0m\u001b[0;34m=\u001b[0m\u001b[0;36m1\u001b[0m\u001b[0;34m)\u001b[0m\u001b[0;34m\u001b[0m\u001b[0;34m\u001b[0m\u001b[0m\n",
            "\u001b[0;32m/usr/local/lib/python3.6/dist-packages/scipy/stats/stats.py\u001b[0m in \u001b[0;36mmode\u001b[0;34m(a, axis, nan_policy)\u001b[0m\n\u001b[1;32m    498\u001b[0m     \u001b[0mcounts\u001b[0m \u001b[0;34m=\u001b[0m \u001b[0mnp\u001b[0m\u001b[0;34m.\u001b[0m\u001b[0mzeros\u001b[0m\u001b[0;34m(\u001b[0m\u001b[0ma_view\u001b[0m\u001b[0;34m.\u001b[0m\u001b[0mshape\u001b[0m\u001b[0;34m[\u001b[0m\u001b[0;34m:\u001b[0m\u001b[0;34m-\u001b[0m\u001b[0;36m1\u001b[0m\u001b[0;34m]\u001b[0m\u001b[0;34m,\u001b[0m \u001b[0mdtype\u001b[0m\u001b[0;34m=\u001b[0m\u001b[0mnp\u001b[0m\u001b[0;34m.\u001b[0m\u001b[0mint\u001b[0m\u001b[0;34m)\u001b[0m\u001b[0;34m\u001b[0m\u001b[0;34m\u001b[0m\u001b[0m\n\u001b[1;32m    499\u001b[0m     \u001b[0;32mfor\u001b[0m \u001b[0mind\u001b[0m \u001b[0;32min\u001b[0m \u001b[0minds\u001b[0m\u001b[0;34m:\u001b[0m\u001b[0;34m\u001b[0m\u001b[0;34m\u001b[0m\u001b[0m\n\u001b[0;32m--> 500\u001b[0;31m         \u001b[0mmodes\u001b[0m\u001b[0;34m[\u001b[0m\u001b[0mind\u001b[0m\u001b[0;34m]\u001b[0m\u001b[0;34m,\u001b[0m \u001b[0mcounts\u001b[0m\u001b[0;34m[\u001b[0m\u001b[0mind\u001b[0m\u001b[0;34m]\u001b[0m \u001b[0;34m=\u001b[0m \u001b[0m_mode1D\u001b[0m\u001b[0;34m(\u001b[0m\u001b[0ma_view\u001b[0m\u001b[0;34m[\u001b[0m\u001b[0mind\u001b[0m\u001b[0;34m]\u001b[0m\u001b[0;34m)\u001b[0m\u001b[0;34m\u001b[0m\u001b[0;34m\u001b[0m\u001b[0m\n\u001b[0m\u001b[1;32m    501\u001b[0m     \u001b[0mnewshape\u001b[0m \u001b[0;34m=\u001b[0m \u001b[0mlist\u001b[0m\u001b[0;34m(\u001b[0m\u001b[0ma\u001b[0m\u001b[0;34m.\u001b[0m\u001b[0mshape\u001b[0m\u001b[0;34m)\u001b[0m\u001b[0;34m\u001b[0m\u001b[0;34m\u001b[0m\u001b[0m\n\u001b[1;32m    502\u001b[0m     \u001b[0mnewshape\u001b[0m\u001b[0;34m[\u001b[0m\u001b[0maxis\u001b[0m\u001b[0;34m]\u001b[0m \u001b[0;34m=\u001b[0m \u001b[0;36m1\u001b[0m\u001b[0;34m\u001b[0m\u001b[0;34m\u001b[0m\u001b[0m\n",
            "\u001b[0;32m/usr/local/lib/python3.6/dist-packages/scipy/stats/stats.py\u001b[0m in \u001b[0;36m_mode1D\u001b[0;34m(a)\u001b[0m\n\u001b[1;32m    485\u001b[0m \u001b[0;34m\u001b[0m\u001b[0m\n\u001b[1;32m    486\u001b[0m     \u001b[0;32mdef\u001b[0m \u001b[0m_mode1D\u001b[0m\u001b[0;34m(\u001b[0m\u001b[0ma\u001b[0m\u001b[0;34m)\u001b[0m\u001b[0;34m:\u001b[0m\u001b[0;34m\u001b[0m\u001b[0;34m\u001b[0m\u001b[0m\n\u001b[0;32m--> 487\u001b[0;31m         \u001b[0mvals\u001b[0m\u001b[0;34m,\u001b[0m \u001b[0mcnts\u001b[0m \u001b[0;34m=\u001b[0m \u001b[0mnp\u001b[0m\u001b[0;34m.\u001b[0m\u001b[0munique\u001b[0m\u001b[0;34m(\u001b[0m\u001b[0ma\u001b[0m\u001b[0;34m,\u001b[0m \u001b[0mreturn_counts\u001b[0m\u001b[0;34m=\u001b[0m\u001b[0;32mTrue\u001b[0m\u001b[0;34m)\u001b[0m\u001b[0;34m\u001b[0m\u001b[0;34m\u001b[0m\u001b[0m\n\u001b[0m\u001b[1;32m    488\u001b[0m         \u001b[0;32mreturn\u001b[0m \u001b[0mvals\u001b[0m\u001b[0;34m[\u001b[0m\u001b[0mcnts\u001b[0m\u001b[0;34m.\u001b[0m\u001b[0margmax\u001b[0m\u001b[0;34m(\u001b[0m\u001b[0;34m)\u001b[0m\u001b[0;34m]\u001b[0m\u001b[0;34m,\u001b[0m \u001b[0mcnts\u001b[0m\u001b[0;34m.\u001b[0m\u001b[0mmax\u001b[0m\u001b[0;34m(\u001b[0m\u001b[0;34m)\u001b[0m\u001b[0;34m\u001b[0m\u001b[0;34m\u001b[0m\u001b[0m\n\u001b[1;32m    489\u001b[0m \u001b[0;34m\u001b[0m\u001b[0m\n",
            "\u001b[0;32m<__array_function__ internals>\u001b[0m in \u001b[0;36munique\u001b[0;34m(*args, **kwargs)\u001b[0m\n",
            "\u001b[0;32m/usr/local/lib/python3.6/dist-packages/numpy/lib/arraysetops.py\u001b[0m in \u001b[0;36munique\u001b[0;34m(ar, return_index, return_inverse, return_counts, axis)\u001b[0m\n\u001b[1;32m    259\u001b[0m     \u001b[0mar\u001b[0m \u001b[0;34m=\u001b[0m \u001b[0mnp\u001b[0m\u001b[0;34m.\u001b[0m\u001b[0masanyarray\u001b[0m\u001b[0;34m(\u001b[0m\u001b[0mar\u001b[0m\u001b[0;34m)\u001b[0m\u001b[0;34m\u001b[0m\u001b[0;34m\u001b[0m\u001b[0m\n\u001b[1;32m    260\u001b[0m     \u001b[0;32mif\u001b[0m \u001b[0maxis\u001b[0m \u001b[0;32mis\u001b[0m \u001b[0;32mNone\u001b[0m\u001b[0;34m:\u001b[0m\u001b[0;34m\u001b[0m\u001b[0;34m\u001b[0m\u001b[0m\n\u001b[0;32m--> 261\u001b[0;31m         \u001b[0mret\u001b[0m \u001b[0;34m=\u001b[0m \u001b[0m_unique1d\u001b[0m\u001b[0;34m(\u001b[0m\u001b[0mar\u001b[0m\u001b[0;34m,\u001b[0m \u001b[0mreturn_index\u001b[0m\u001b[0;34m,\u001b[0m \u001b[0mreturn_inverse\u001b[0m\u001b[0;34m,\u001b[0m \u001b[0mreturn_counts\u001b[0m\u001b[0;34m)\u001b[0m\u001b[0;34m\u001b[0m\u001b[0;34m\u001b[0m\u001b[0m\n\u001b[0m\u001b[1;32m    262\u001b[0m         \u001b[0;32mreturn\u001b[0m \u001b[0m_unpack_tuple\u001b[0m\u001b[0;34m(\u001b[0m\u001b[0mret\u001b[0m\u001b[0;34m)\u001b[0m\u001b[0;34m\u001b[0m\u001b[0;34m\u001b[0m\u001b[0m\n\u001b[1;32m    263\u001b[0m \u001b[0;34m\u001b[0m\u001b[0m\n",
            "\u001b[0;32m/usr/local/lib/python3.6/dist-packages/numpy/lib/arraysetops.py\u001b[0m in \u001b[0;36m_unique1d\u001b[0;34m(ar, return_index, return_inverse, return_counts)\u001b[0m\n\u001b[1;32m    336\u001b[0m     \u001b[0;32mif\u001b[0m \u001b[0mreturn_counts\u001b[0m\u001b[0;34m:\u001b[0m\u001b[0;34m\u001b[0m\u001b[0;34m\u001b[0m\u001b[0m\n\u001b[1;32m    337\u001b[0m         \u001b[0midx\u001b[0m \u001b[0;34m=\u001b[0m \u001b[0mnp\u001b[0m\u001b[0;34m.\u001b[0m\u001b[0mconcatenate\u001b[0m\u001b[0;34m(\u001b[0m\u001b[0mnp\u001b[0m\u001b[0;34m.\u001b[0m\u001b[0mnonzero\u001b[0m\u001b[0;34m(\u001b[0m\u001b[0mmask\u001b[0m\u001b[0;34m)\u001b[0m \u001b[0;34m+\u001b[0m \u001b[0;34m(\u001b[0m\u001b[0;34m[\u001b[0m\u001b[0mmask\u001b[0m\u001b[0;34m.\u001b[0m\u001b[0msize\u001b[0m\u001b[0;34m]\u001b[0m\u001b[0;34m,\u001b[0m\u001b[0;34m)\u001b[0m\u001b[0;34m)\u001b[0m\u001b[0;34m\u001b[0m\u001b[0;34m\u001b[0m\u001b[0m\n\u001b[0;32m--> 338\u001b[0;31m         \u001b[0mret\u001b[0m \u001b[0;34m+=\u001b[0m \u001b[0;34m(\u001b[0m\u001b[0mnp\u001b[0m\u001b[0;34m.\u001b[0m\u001b[0mdiff\u001b[0m\u001b[0;34m(\u001b[0m\u001b[0midx\u001b[0m\u001b[0;34m)\u001b[0m\u001b[0;34m,\u001b[0m\u001b[0;34m)\u001b[0m\u001b[0;34m\u001b[0m\u001b[0;34m\u001b[0m\u001b[0m\n\u001b[0m\u001b[1;32m    339\u001b[0m     \u001b[0;32mreturn\u001b[0m \u001b[0mret\u001b[0m\u001b[0;34m\u001b[0m\u001b[0;34m\u001b[0m\u001b[0m\n\u001b[1;32m    340\u001b[0m \u001b[0;34m\u001b[0m\u001b[0m\n",
            "\u001b[0;32m<__array_function__ internals>\u001b[0m in \u001b[0;36mdiff\u001b[0;34m(*args, **kwargs)\u001b[0m\n",
            "\u001b[0;32m/usr/local/lib/python3.6/dist-packages/numpy/lib/function_base.py\u001b[0m in \u001b[0;36mdiff\u001b[0;34m(a, n, axis, prepend, append)\u001b[0m\n\u001b[1;32m   1272\u001b[0m     \u001b[0mslice2\u001b[0m \u001b[0;34m=\u001b[0m \u001b[0;34m[\u001b[0m\u001b[0mslice\u001b[0m\u001b[0;34m(\u001b[0m\u001b[0;32mNone\u001b[0m\u001b[0;34m)\u001b[0m\u001b[0;34m]\u001b[0m \u001b[0;34m*\u001b[0m \u001b[0mnd\u001b[0m\u001b[0;34m\u001b[0m\u001b[0;34m\u001b[0m\u001b[0m\n\u001b[1;32m   1273\u001b[0m     \u001b[0mslice1\u001b[0m\u001b[0;34m[\u001b[0m\u001b[0maxis\u001b[0m\u001b[0;34m]\u001b[0m \u001b[0;34m=\u001b[0m \u001b[0mslice\u001b[0m\u001b[0;34m(\u001b[0m\u001b[0;36m1\u001b[0m\u001b[0;34m,\u001b[0m \u001b[0;32mNone\u001b[0m\u001b[0;34m)\u001b[0m\u001b[0;34m\u001b[0m\u001b[0;34m\u001b[0m\u001b[0m\n\u001b[0;32m-> 1274\u001b[0;31m     \u001b[0mslice2\u001b[0m\u001b[0;34m[\u001b[0m\u001b[0maxis\u001b[0m\u001b[0;34m]\u001b[0m \u001b[0;34m=\u001b[0m \u001b[0mslice\u001b[0m\u001b[0;34m(\u001b[0m\u001b[0;32mNone\u001b[0m\u001b[0;34m,\u001b[0m \u001b[0;34m-\u001b[0m\u001b[0;36m1\u001b[0m\u001b[0;34m)\u001b[0m\u001b[0;34m\u001b[0m\u001b[0;34m\u001b[0m\u001b[0m\n\u001b[0m\u001b[1;32m   1275\u001b[0m     \u001b[0mslice1\u001b[0m \u001b[0;34m=\u001b[0m \u001b[0mtuple\u001b[0m\u001b[0;34m(\u001b[0m\u001b[0mslice1\u001b[0m\u001b[0;34m)\u001b[0m\u001b[0;34m\u001b[0m\u001b[0;34m\u001b[0m\u001b[0m\n\u001b[1;32m   1276\u001b[0m     \u001b[0mslice2\u001b[0m \u001b[0;34m=\u001b[0m \u001b[0mtuple\u001b[0m\u001b[0;34m(\u001b[0m\u001b[0mslice2\u001b[0m\u001b[0;34m)\u001b[0m\u001b[0;34m\u001b[0m\u001b[0;34m\u001b[0m\u001b[0m\n",
            "\u001b[0;31mKeyboardInterrupt\u001b[0m: "
          ]
        }
      ]
    },
    {
      "cell_type": "markdown",
      "metadata": {
        "id": "L_19GYoHi54S"
      },
      "source": [
        "### LDA (Линейный дискриминантный анализ)"
      ]
    },
    {
      "cell_type": "code",
      "metadata": {
        "id": "XpMV4VFMjJW5"
      },
      "source": [
        "from sklearn.discriminant_analysis import LinearDiscriminantAnalysis\r\n",
        "lda = LinearDiscriminantAnalysis()\r\n",
        "lda.fit(x_tr, y_tr)\r\n",
        "print('Accuracy of LDA classifier on training set: {:.2f}'\r\n",
        "     .format(lda.score(x_tr, y_tr)))\r\n",
        "print('Accuracy of LDA classifier on test set: {:.2f}'\r\n",
        "     .format(lda.score(x_ts, y_ts)))"
      ],
      "execution_count": null,
      "outputs": []
    },
    {
      "cell_type": "markdown",
      "metadata": {
        "id": "gtQRwVGCjQ2h"
      },
      "source": [
        "### Наинвый байес"
      ]
    },
    {
      "cell_type": "code",
      "metadata": {
        "id": "fCDAJpCLjXWq"
      },
      "source": [
        "from sklearn.naive_bayes import GaussianNB\r\n",
        "gnb = GaussianNB()\r\n",
        "gnb.fit(x_tr, y_tr)\r\n",
        "print('Accuracy of GNB classifier on training set: {:.2f}'\r\n",
        "     .format(gnb.score(x_tr, y_tr)))\r\n",
        "print('Accuracy of GNB classifier on test set: {:.2f}'\r\n",
        "     .format(gnb.score(x_ts, y_ts)))"
      ],
      "execution_count": null,
      "outputs": []
    },
    {
      "cell_type": "markdown",
      "metadata": {
        "id": "6JsUuF9Qotqa"
      },
      "source": [
        "## Создание df со всеми имеющимися оценками"
      ]
    },
    {
      "cell_type": "code",
      "metadata": {
        "id": "Y3MQyqVcpKIP"
      },
      "source": [
        "event_meme = pd.merge(event_df, meme_df, on = 'meme_id')\r\n",
        "full_info = pd.merge(event_meme, user_df, on = 'user_id')\r\n",
        "ratings_info = full_info.copy()\r\n",
        "ratings_info"
      ],
      "execution_count": null,
      "outputs": []
    },
    {
      "cell_type": "code",
      "metadata": {
        "id": "sYbhty1SotDt"
      },
      "source": [
        "unique_memes = pd.DataFrame(ratings_info.meme_id.unique(), columns = ['meme_id'])\r\n",
        "unique_users = pd.DataFrame(ratings_info.user_id.unique(), columns = ['user_id'])\r\n",
        "unique_combinations = pd.DataFrame()\r\n"
      ],
      "execution_count": null,
      "outputs": []
    },
    {
      "cell_type": "code",
      "metadata": {
        "id": "nqdZRyMIyBmY"
      },
      "source": [
        "#unique_combinations = pd.DataFrame(columns = ['user_id', 'meme_id'])"
      ],
      "execution_count": null,
      "outputs": []
    },
    {
      "cell_type": "code",
      "metadata": {
        "id": "urPPvjvB4Y5H"
      },
      "source": [
        "class user_data:\r\n",
        "    \r\n",
        "    def __init__(self, users, memes, events):\r\n",
        "        self.users = users\r\n",
        "        self.memes = memes\r\n",
        "        self.events = events\r\n",
        "        \r\n",
        "    def like_rate_user(self, user_id, meme_id):\r\n",
        "        '''\r\n",
        "        Функция поиска лайкрейта юзера\r\n",
        "        Если нет дизлайков, то ставим в лайкрейт сумму лайков\r\n",
        "        '''\r\n",
        "        events = self.events\r\n",
        "        condition_likes = ((events.reaction_id==1)&(events.user_id==user_id)&(events.meme_id==meme_id))\r\n",
        "        condition_dislikes = ((events.reaction_id==2)&(events.user_id==user_id)&(events.meme_id==meme_id))\r\n",
        "        likes = events.loc[condition_likes, 'reaction_id'].count()\r\n",
        "        dislikes = events.loc[condition_dislikes, 'reaction_id'].count()\r\n",
        "        ratio = likes/dislikes if dislikes > 0 else likes\r\n",
        "        return ratio\r\n",
        "    \r\n",
        "    def like_rate_meme(self, meme_id):\r\n",
        "        '''\r\n",
        "        Функция поиска лайкрейта мема\r\n",
        "        Если нет дизлайков, то ставим в лайкрейт сумму лайков\r\n",
        "        '''\r\n",
        "        memes = self.memes\r\n",
        "        condition = (memes.meme_id==meme_id)\r\n",
        "        meme_row = memes.loc[condition]\r\n",
        "        likes = meme_row['likes'].values\r\n",
        "        dislikes = meme_row['dislikes'].values\r\n",
        "        ratio = likes/dislikes if dislikes > 0 else likes\r\n",
        "        return ratio[0]\r\n",
        "    \r\n",
        "    def user_likes_for_types(self, user_id):\r\n",
        "        events = self.events\r\n",
        "        memes = self.memes\r\n",
        "        types = sorted(self.memes['meme_type'].unique())\r\n",
        "        events = events.loc[events.user_id==user_id]\r\n",
        "        meme_ids = events.meme_id.unique()\r\n",
        "        memes = memes.loc[memes.meme_id.isin(meme_ids), ['meme_type', 'meme_id']]\r\n",
        "        events = pd.merge(events, memes, on='meme_id')\r\n",
        "        res = []# лайки-дизлайки для каждого типа мема\r\n",
        "        for t in types:\r\n",
        "            for i in range(1,3): #реакции 1, 2\r\n",
        "                val = events.loc[(events.meme_type==t)&(events.reaction_id==i), 'reaction_id'].count()\r\n",
        "                res.append(val)\r\n",
        "        return res"
      ],
      "execution_count": null,
      "outputs": []
    },
    {
      "cell_type": "code",
      "metadata": {
        "id": "CG8O7Alv4axr"
      },
      "source": [
        "unique_memes"
      ],
      "execution_count": null,
      "outputs": []
    },
    {
      "cell_type": "code",
      "metadata": {
        "id": "3q_h_Bv94s6e"
      },
      "source": [
        "unique_users"
      ],
      "execution_count": null,
      "outputs": []
    },
    {
      "cell_type": "code",
      "metadata": {
        "id": "LFzlgGlb4vo9"
      },
      "source": [
        "data = user_data(user, meme, event)\r\n",
        "data.like_rate_user(280747086, 8340)"
      ],
      "execution_count": null,
      "outputs": []
    },
    {
      "cell_type": "code",
      "metadata": {
        "colab": {
          "base_uri": "https://localhost:8080/",
          "height": 197
        },
        "id": "B1Np33HUe0we",
        "outputId": "edfe1144-0fcf-4a35-9052-34ade2ba9382"
      },
      "source": [
        "user.head()"
      ],
      "execution_count": null,
      "outputs": [
        {
          "output_type": "execute_result",
          "data": {
            "text/html": [
              "<div>\n",
              "<style scoped>\n",
              "    .dataframe tbody tr th:only-of-type {\n",
              "        vertical-align: middle;\n",
              "    }\n",
              "\n",
              "    .dataframe tbody tr th {\n",
              "        vertical-align: top;\n",
              "    }\n",
              "\n",
              "    .dataframe thead th {\n",
              "        text-align: right;\n",
              "    }\n",
              "</style>\n",
              "<table border=\"1\" class=\"dataframe\">\n",
              "  <thead>\n",
              "    <tr style=\"text-align: right;\">\n",
              "      <th></th>\n",
              "      <th>user_id</th>\n",
              "      <th>deep_link</th>\n",
              "      <th>is_blocked_bot</th>\n",
              "      <th>is_banned</th>\n",
              "      <th>is_moderator</th>\n",
              "      <th>sessions</th>\n",
              "      <th>last_session_memes</th>\n",
              "      <th>watched_memes</th>\n",
              "      <th>created_at</th>\n",
              "      <th>updated_at</th>\n",
              "      <th>interface_lang</th>\n",
              "      <th>gender</th>\n",
              "    </tr>\n",
              "  </thead>\n",
              "  <tbody>\n",
              "    <tr>\n",
              "      <th>0</th>\n",
              "      <td>820326025</td>\n",
              "      <td>anime0ch_lang_ru</td>\n",
              "      <td>False</td>\n",
              "      <td>False</td>\n",
              "      <td>False</td>\n",
              "      <td>6</td>\n",
              "      <td>1</td>\n",
              "      <td>20</td>\n",
              "      <td>2020-09-12 20:07:11.668743+00</td>\n",
              "      <td>2020-10-26 12:16:18.458654+00</td>\n",
              "      <td>ru</td>\n",
              "      <td>M</td>\n",
              "    </tr>\n",
              "    <tr>\n",
              "      <th>1</th>\n",
              "      <td>1040875164</td>\n",
              "      <td>likemeupbot_lang_en</td>\n",
              "      <td>False</td>\n",
              "      <td>False</td>\n",
              "      <td>False</td>\n",
              "      <td>2</td>\n",
              "      <td>1</td>\n",
              "      <td>7</td>\n",
              "      <td>2020-07-21 05:54:12.671036+00</td>\n",
              "      <td>2020-10-26 14:37:05.637591+00</td>\n",
              "      <td>en</td>\n",
              "      <td>NaN</td>\n",
              "    </tr>\n",
              "    <tr>\n",
              "      <th>2</th>\n",
              "      <td>449432539</td>\n",
              "      <td>debil_ebaniy</td>\n",
              "      <td>True</td>\n",
              "      <td>False</td>\n",
              "      <td>False</td>\n",
              "      <td>2</td>\n",
              "      <td>1</td>\n",
              "      <td>9</td>\n",
              "      <td>2020-09-14 19:02:06.80911+00</td>\n",
              "      <td>2020-10-17 21:26:52.029824+00</td>\n",
              "      <td>ru</td>\n",
              "      <td>F</td>\n",
              "    </tr>\n",
              "    <tr>\n",
              "      <th>3</th>\n",
              "      <td>230248850</td>\n",
              "      <td>NaN</td>\n",
              "      <td>False</td>\n",
              "      <td>False</td>\n",
              "      <td>False</td>\n",
              "      <td>26</td>\n",
              "      <td>1</td>\n",
              "      <td>38</td>\n",
              "      <td>2020-03-16 00:36:42.252438+00</td>\n",
              "      <td>2020-10-26 12:11:02.159405+00</td>\n",
              "      <td>ru</td>\n",
              "      <td>M</td>\n",
              "    </tr>\n",
              "    <tr>\n",
              "      <th>4</th>\n",
              "      <td>7719424</td>\n",
              "      <td>NaN</td>\n",
              "      <td>True</td>\n",
              "      <td>False</td>\n",
              "      <td>False</td>\n",
              "      <td>27</td>\n",
              "      <td>6</td>\n",
              "      <td>49</td>\n",
              "      <td>2020-03-15 22:30:45.300242+00</td>\n",
              "      <td>2020-10-17 21:26:52.19941+00</td>\n",
              "      <td>ru</td>\n",
              "      <td>M</td>\n",
              "    </tr>\n",
              "  </tbody>\n",
              "</table>\n",
              "</div>"
            ],
            "text/plain": [
              "      user_id            deep_link  ...  interface_lang  gender\n",
              "0   820326025     anime0ch_lang_ru  ...              ru       M\n",
              "1  1040875164  likemeupbot_lang_en  ...              en     NaN\n",
              "2   449432539         debil_ebaniy  ...              ru       F\n",
              "3   230248850                  NaN  ...              ru       M\n",
              "4     7719424                  NaN  ...              ru       M\n",
              "\n",
              "[5 rows x 12 columns]"
            ]
          },
          "metadata": {
            "tags": []
          },
          "execution_count": 103
        }
      ]
    },
    {
      "cell_type": "code",
      "metadata": {
        "colab": {
          "base_uri": "https://localhost:8080/",
          "height": 281
        },
        "id": "x01t9tsQfmo3",
        "outputId": "c5b31e11-aea2-477f-e290-c8598086a660"
      },
      "source": [
        "meme.head()"
      ],
      "execution_count": null,
      "outputs": [
        {
          "output_type": "execute_result",
          "data": {
            "text/html": [
              "<div>\n",
              "<style scoped>\n",
              "    .dataframe tbody tr th:only-of-type {\n",
              "        vertical-align: middle;\n",
              "    }\n",
              "\n",
              "    .dataframe tbody tr th {\n",
              "        vertical-align: top;\n",
              "    }\n",
              "\n",
              "    .dataframe thead th {\n",
              "        text-align: right;\n",
              "    }\n",
              "</style>\n",
              "<table border=\"1\" class=\"dataframe\">\n",
              "  <thead>\n",
              "    <tr style=\"text-align: right;\">\n",
              "      <th></th>\n",
              "      <th>meme_id</th>\n",
              "      <th>meme_type</th>\n",
              "      <th>source_id</th>\n",
              "      <th>published_at</th>\n",
              "      <th>caption</th>\n",
              "      <th>content_lang</th>\n",
              "      <th>is_available</th>\n",
              "      <th>likes</th>\n",
              "      <th>dislikes</th>\n",
              "      <th>created_at</th>\n",
              "      <th>updated_at</th>\n",
              "      <th>is_broken</th>\n",
              "      <th>content_text</th>\n",
              "      <th>caption_lang</th>\n",
              "      <th>language_id</th>\n",
              "    </tr>\n",
              "  </thead>\n",
              "  <tbody>\n",
              "    <tr>\n",
              "      <th>0</th>\n",
              "      <td>28997</td>\n",
              "      <td>photo</td>\n",
              "      <td>79.0</td>\n",
              "      <td>2020-04-12 01:48:13+00</td>\n",
              "      <td>I mean shitt it ain't their fault</td>\n",
              "      <td>en</td>\n",
              "      <td>True</td>\n",
              "      <td>17</td>\n",
              "      <td>14</td>\n",
              "      <td>2020-04-12 09:04:37.341908+00</td>\n",
              "      <td>2020-10-26 19:20:58.198825+00</td>\n",
              "      <td>False</td>\n",
              "      <td>brandon @brndvx females live on recruit diffic...</td>\n",
              "      <td>en</td>\n",
              "      <td>3.0</td>\n",
              "    </tr>\n",
              "    <tr>\n",
              "      <th>1</th>\n",
              "      <td>10873</td>\n",
              "      <td>photo</td>\n",
              "      <td>43.0</td>\n",
              "      <td>2020-03-25 11:48:14+00</td>\n",
              "      <td>NaN</td>\n",
              "      <td>ru</td>\n",
              "      <td>True</td>\n",
              "      <td>79</td>\n",
              "      <td>74</td>\n",
              "      <td>2020-03-25 20:00:01.154096+00</td>\n",
              "      <td>2020-10-26 19:20:58.226846+00</td>\n",
              "      <td>False</td>\n",
              "      <td>Я не робот Докажите, что всякое односвязное Ит...</td>\n",
              "      <td>ww</td>\n",
              "      <td>2.0</td>\n",
              "    </tr>\n",
              "    <tr>\n",
              "      <th>2</th>\n",
              "      <td>9874</td>\n",
              "      <td>photo</td>\n",
              "      <td>78.0</td>\n",
              "      <td>2020-03-24 07:18:03+00</td>\n",
              "      <td>Anime toddies expert</td>\n",
              "      <td>en</td>\n",
              "      <td>True</td>\n",
              "      <td>1</td>\n",
              "      <td>7</td>\n",
              "      <td>2020-03-24 13:06:18.588359+00</td>\n",
              "      <td>2020-10-26 19:20:58.259045+00</td>\n",
              "      <td>False</td>\n",
              "      <td>When you find the actual interview and it does...</td>\n",
              "      <td>en</td>\n",
              "      <td>3.0</td>\n",
              "    </tr>\n",
              "    <tr>\n",
              "      <th>3</th>\n",
              "      <td>43458</td>\n",
              "      <td>photo</td>\n",
              "      <td>43.0</td>\n",
              "      <td>2020-05-23 12:50:52+00</td>\n",
              "      <td>NaN</td>\n",
              "      <td>ru</td>\n",
              "      <td>False</td>\n",
              "      <td>8</td>\n",
              "      <td>12</td>\n",
              "      <td>2020-05-24 22:03:34.926116+00</td>\n",
              "      <td>2020-10-26 19:20:58.265179+00</td>\n",
              "      <td>False</td>\n",
              "      <td>Google сколько калорий в грамме урана а Все В ...</td>\n",
              "      <td>ww</td>\n",
              "      <td>2.0</td>\n",
              "    </tr>\n",
              "    <tr>\n",
              "      <th>4</th>\n",
              "      <td>9000</td>\n",
              "      <td>photo</td>\n",
              "      <td>76.0</td>\n",
              "      <td>2020-03-23 07:16:05+00</td>\n",
              "      <td>New treasure</td>\n",
              "      <td>und</td>\n",
              "      <td>True</td>\n",
              "      <td>2</td>\n",
              "      <td>9</td>\n",
              "      <td>2020-03-23 13:04:55.258554+00</td>\n",
              "      <td>2020-10-26 19:20:58.29742+00</td>\n",
              "      <td>False</td>\n",
              "      <td>YRO .20.</td>\n",
              "      <td>en</td>\n",
              "      <td>3.0</td>\n",
              "    </tr>\n",
              "  </tbody>\n",
              "</table>\n",
              "</div>"
            ],
            "text/plain": [
              "   meme_id meme_type  ...  caption_lang language_id\n",
              "0    28997     photo  ...            en         3.0\n",
              "1    10873     photo  ...            ww         2.0\n",
              "2     9874     photo  ...            en         3.0\n",
              "3    43458     photo  ...            ww         2.0\n",
              "4     9000     photo  ...            en         3.0\n",
              "\n",
              "[5 rows x 15 columns]"
            ]
          },
          "metadata": {
            "tags": []
          },
          "execution_count": 104
        }
      ]
    },
    {
      "cell_type": "code",
      "metadata": {
        "colab": {
          "base_uri": "https://localhost:8080/",
          "height": 194
        },
        "id": "FQ_Mcju0fo8u",
        "outputId": "00d76b8d-8771-47f4-c8e8-a540e737553e"
      },
      "source": [
        "event.head()"
      ],
      "execution_count": null,
      "outputs": [
        {
          "output_type": "execute_result",
          "data": {
            "text/html": [
              "<div>\n",
              "<style scoped>\n",
              "    .dataframe tbody tr th:only-of-type {\n",
              "        vertical-align: middle;\n",
              "    }\n",
              "\n",
              "    .dataframe tbody tr th {\n",
              "        vertical-align: top;\n",
              "    }\n",
              "\n",
              "    .dataframe thead th {\n",
              "        text-align: right;\n",
              "    }\n",
              "</style>\n",
              "<table border=\"1\" class=\"dataframe\">\n",
              "  <thead>\n",
              "    <tr style=\"text-align: right;\">\n",
              "      <th></th>\n",
              "      <th>event_id</th>\n",
              "      <th>reaction_id</th>\n",
              "      <th>session_idx</th>\n",
              "      <th>meme_idx</th>\n",
              "      <th>created_at</th>\n",
              "      <th>updated_at</th>\n",
              "      <th>meme_id</th>\n",
              "      <th>user_id</th>\n",
              "    </tr>\n",
              "  </thead>\n",
              "  <tbody>\n",
              "    <tr>\n",
              "      <th>0</th>\n",
              "      <td>3607617</td>\n",
              "      <td>2.0</td>\n",
              "      <td>55</td>\n",
              "      <td>11</td>\n",
              "      <td>2020-10-24 19:45:50.964474+00</td>\n",
              "      <td>2020-10-24 19:45:51.049752+00</td>\n",
              "      <td>24379</td>\n",
              "      <td>280747086</td>\n",
              "    </tr>\n",
              "    <tr>\n",
              "      <th>1</th>\n",
              "      <td>3608100</td>\n",
              "      <td>1.0</td>\n",
              "      <td>280</td>\n",
              "      <td>45</td>\n",
              "      <td>2020-10-24 19:52:33.681933+00</td>\n",
              "      <td>2020-10-24 19:52:33.763993+00</td>\n",
              "      <td>49173</td>\n",
              "      <td>285739883</td>\n",
              "    </tr>\n",
              "    <tr>\n",
              "      <th>2</th>\n",
              "      <td>3607629</td>\n",
              "      <td>1.0</td>\n",
              "      <td>55</td>\n",
              "      <td>13</td>\n",
              "      <td>2020-10-24 19:46:08.690407+00</td>\n",
              "      <td>2020-10-24 19:46:08.779079+00</td>\n",
              "      <td>8340</td>\n",
              "      <td>280747086</td>\n",
              "    </tr>\n",
              "    <tr>\n",
              "      <th>3</th>\n",
              "      <td>3607649</td>\n",
              "      <td>NaN</td>\n",
              "      <td>30</td>\n",
              "      <td>2</td>\n",
              "      <td>2020-10-24 19:46:24.443014+00</td>\n",
              "      <td>2020-10-24 19:46:24.519787+00</td>\n",
              "      <td>64748</td>\n",
              "      <td>78991522</td>\n",
              "    </tr>\n",
              "    <tr>\n",
              "      <th>4</th>\n",
              "      <td>3608045</td>\n",
              "      <td>2.0</td>\n",
              "      <td>35</td>\n",
              "      <td>341</td>\n",
              "      <td>2020-10-24 19:51:28.544856+00</td>\n",
              "      <td>2020-10-24 19:51:28.586788+00</td>\n",
              "      <td>45163</td>\n",
              "      <td>860086058</td>\n",
              "    </tr>\n",
              "  </tbody>\n",
              "</table>\n",
              "</div>"
            ],
            "text/plain": [
              "   event_id  reaction_id  ...  meme_id    user_id\n",
              "0   3607617          2.0  ...    24379  280747086\n",
              "1   3608100          1.0  ...    49173  285739883\n",
              "2   3607629          1.0  ...     8340  280747086\n",
              "3   3607649          NaN  ...    64748   78991522\n",
              "4   3608045          2.0  ...    45163  860086058\n",
              "\n",
              "[5 rows x 8 columns]"
            ]
          },
          "metadata": {
            "tags": []
          },
          "execution_count": 105
        }
      ]
    },
    {
      "cell_type": "markdown",
      "metadata": {
        "id": "49YVglLWhqP5"
      },
      "source": [
        "### Работа с классами (с Данилой)"
      ]
    },
    {
      "cell_type": "code",
      "metadata": {
        "id": "2-DYIlwVdbf2"
      },
      "source": [
        "class users_memes:\r\n",
        "\r\n",
        "  def __init__(self, user_id, meme_id):\r\n",
        "    self.meme_id = meme_id\r\n",
        "    self.user_id = user_id\r\n",
        "# Отношение l/d к типу мема конкретного юзера\r\n",
        "  def ld_ratio_for_type(self):\r\n",
        "    meme_type = meme[meme['meme_id']== self.meme_id].meme_type.values[0]\r\n",
        "    likes_counter = event_copy.loc[(event_copy['meme_type'] == meme_type) & (event_copy['reaction_id'] == 1.0), 'reaction_id'].count() # кол-во лайков на тип мема\r\n",
        "    dislikes_counter = event_copy.loc[(event_copy['meme_type'] == meme_type) & (event_copy['reaction_id'] == 2.0), 'reaction_id'].count() # кол-во дизлайков на тип мема\r\n",
        "    return likes_counter/dislikes_counter if dislikes_counter != 0 else likes_counter"
      ],
      "execution_count": null,
      "outputs": []
    },
    {
      "cell_type": "code",
      "metadata": {
        "colab": {
          "base_uri": "https://localhost:8080/",
          "height": 36
        },
        "id": "tLF7IbJOfyms",
        "outputId": "e93a30bb-b2e8-44e8-f356-d3e32c7542f3"
      },
      "source": [
        "# meme_id = 9000\r\n",
        "meme[meme['meme_id']== 9000].meme_type.values[0]"
      ],
      "execution_count": null,
      "outputs": [
        {
          "output_type": "execute_result",
          "data": {
            "application/vnd.google.colaboratory.intrinsic+json": {
              "type": "string"
            },
            "text/plain": [
              "'photo'"
            ]
          },
          "metadata": {
            "tags": []
          },
          "execution_count": 113
        }
      ]
    },
    {
      "cell_type": "code",
      "metadata": {
        "id": "C63ePuiDhJoe"
      },
      "source": [
        "event_copy = event.copy()"
      ],
      "execution_count": null,
      "outputs": []
    },
    {
      "cell_type": "code",
      "metadata": {
        "id": "-Iu2hu5ZhL7n"
      },
      "source": [
        "event_copy = event_copy[event_copy['user_id'] == 280747086]\r\n",
        "event_copy = pd.merge(event_copy, meme[['meme_type', 'meme_id']], on = 'meme_id')"
      ],
      "execution_count": null,
      "outputs": []
    },
    {
      "cell_type": "code",
      "metadata": {
        "colab": {
          "base_uri": "https://localhost:8080/"
        },
        "id": "yw1xmUy1iauI",
        "outputId": "2a911165-7c9b-40d0-a0f3-d6522d09eb4c"
      },
      "source": [
        "event_copy.loc[(event_copy['meme_type'] == 'photo') & (event_copy['reaction_id'] == 1.0), 'reaction_id'].count()"
      ],
      "execution_count": null,
      "outputs": [
        {
          "output_type": "execute_result",
          "data": {
            "text/plain": [
              "3293"
            ]
          },
          "metadata": {
            "tags": []
          },
          "execution_count": 123
        }
      ]
    },
    {
      "cell_type": "code",
      "metadata": {
        "colab": {
          "base_uri": "https://localhost:8080/"
        },
        "id": "WlllFWWzkmcD",
        "outputId": "bd6d0324-4554-4f1c-d464-929777ae4612"
      },
      "source": [
        "users_memes(280747086, 24379).ld_ratio_for_type()"
      ],
      "execution_count": null,
      "outputs": [
        {
          "output_type": "execute_result",
          "data": {
            "text/plain": [
              "3.3533604887983706"
            ]
          },
          "metadata": {
            "tags": []
          },
          "execution_count": 126
        }
      ]
    }
  ]
}