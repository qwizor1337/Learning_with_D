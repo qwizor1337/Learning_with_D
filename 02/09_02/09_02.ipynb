{
  "nbformat": 4,
  "nbformat_minor": 0,
  "metadata": {
    "colab": {
      "name": "Untitled2.ipynb",
      "provenance": []
    },
    "kernelspec": {
      "name": "python3",
      "display_name": "Python 3"
    }
  },
  "cells": [
    {
      "cell_type": "code",
      "metadata": {
        "id": "QAmF7wILGgJm"
      },
      "source": [
        "import pandas as pd\r\n",
        "import numpy as np"
      ],
      "execution_count": 1,
      "outputs": []
    },
    {
      "cell_type": "code",
      "metadata": {
        "id": "bUjbWIo5HBe4"
      },
      "source": [
        "path = 'drive/MyDrive/DS/movies/'"
      ],
      "execution_count": 4,
      "outputs": []
    },
    {
      "cell_type": "code",
      "metadata": {
        "colab": {
          "base_uri": "https://localhost:8080/",
          "height": 436
        },
        "id": "8diU2Q0hHFf6",
        "outputId": "0524fabd-52d5-44fd-ac2a-7adce6049ce0"
      },
      "source": [
        "df = pd.read_csv(path+'movies.csv', index_col=0)\r\n",
        "df"
      ],
      "execution_count": 8,
      "outputs": [
        {
          "output_type": "execute_result",
          "data": {
            "text/html": [
              "<div>\n",
              "<style scoped>\n",
              "    .dataframe tbody tr th:only-of-type {\n",
              "        vertical-align: middle;\n",
              "    }\n",
              "\n",
              "    .dataframe tbody tr th {\n",
              "        vertical-align: top;\n",
              "    }\n",
              "\n",
              "    .dataframe thead th {\n",
              "        text-align: right;\n",
              "    }\n",
              "</style>\n",
              "<table border=\"1\" class=\"dataframe\">\n",
              "  <thead>\n",
              "    <tr style=\"text-align: right;\">\n",
              "      <th></th>\n",
              "      <th>Title</th>\n",
              "      <th>Year</th>\n",
              "      <th>Score</th>\n",
              "      <th>Metascore</th>\n",
              "      <th>Genre</th>\n",
              "      <th>Vote</th>\n",
              "      <th>Director</th>\n",
              "      <th>Runtime</th>\n",
              "      <th>Revenue</th>\n",
              "      <th>Description</th>\n",
              "    </tr>\n",
              "    <tr>\n",
              "      <th>Rank</th>\n",
              "      <th></th>\n",
              "      <th></th>\n",
              "      <th></th>\n",
              "      <th></th>\n",
              "      <th></th>\n",
              "      <th></th>\n",
              "      <th></th>\n",
              "      <th></th>\n",
              "      <th></th>\n",
              "      <th></th>\n",
              "    </tr>\n",
              "  </thead>\n",
              "  <tbody>\n",
              "    <tr>\n",
              "      <th>1</th>\n",
              "      <td>The Shawshank Redemption</td>\n",
              "      <td>1994</td>\n",
              "      <td>9.3</td>\n",
              "      <td>80.0</td>\n",
              "      <td>Drama</td>\n",
              "      <td>2011509</td>\n",
              "      <td>Frank Darabont</td>\n",
              "      <td>142</td>\n",
              "      <td>28.34</td>\n",
              "      <td>Two imprisoned men bond over a number of years...</td>\n",
              "    </tr>\n",
              "    <tr>\n",
              "      <th>2</th>\n",
              "      <td>The Dark Knight</td>\n",
              "      <td>2008</td>\n",
              "      <td>9.0</td>\n",
              "      <td>84.0</td>\n",
              "      <td>Action, Crime, Drama</td>\n",
              "      <td>1980200</td>\n",
              "      <td>Christopher Nolan</td>\n",
              "      <td>152</td>\n",
              "      <td>534.86</td>\n",
              "      <td>When the menace known as the Joker emerges fro...</td>\n",
              "    </tr>\n",
              "    <tr>\n",
              "      <th>3</th>\n",
              "      <td>Inception</td>\n",
              "      <td>2010</td>\n",
              "      <td>8.8</td>\n",
              "      <td>74.0</td>\n",
              "      <td>Action, Adventure, Sci-Fi</td>\n",
              "      <td>1760209</td>\n",
              "      <td>Christopher Nolan</td>\n",
              "      <td>148</td>\n",
              "      <td>292.58</td>\n",
              "      <td>A thief who steals corporate secrets through t...</td>\n",
              "    </tr>\n",
              "    <tr>\n",
              "      <th>4</th>\n",
              "      <td>Fight Club</td>\n",
              "      <td>1999</td>\n",
              "      <td>8.8</td>\n",
              "      <td>66.0</td>\n",
              "      <td>Drama</td>\n",
              "      <td>1609459</td>\n",
              "      <td>David Fincher</td>\n",
              "      <td>139</td>\n",
              "      <td>37.03</td>\n",
              "      <td>An insomniac office worker and a devil-may-car...</td>\n",
              "    </tr>\n",
              "    <tr>\n",
              "      <th>5</th>\n",
              "      <td>Pulp Fiction</td>\n",
              "      <td>1994</td>\n",
              "      <td>8.9</td>\n",
              "      <td>94.0</td>\n",
              "      <td>Crime, Drama</td>\n",
              "      <td>1570194</td>\n",
              "      <td>Quentin Tarantino</td>\n",
              "      <td>154</td>\n",
              "      <td>107.93</td>\n",
              "      <td>The lives of two mob hitmen, a boxer, a gangst...</td>\n",
              "    </tr>\n",
              "    <tr>\n",
              "      <th>...</th>\n",
              "      <td>...</td>\n",
              "      <td>...</td>\n",
              "      <td>...</td>\n",
              "      <td>...</td>\n",
              "      <td>...</td>\n",
              "      <td>...</td>\n",
              "      <td>...</td>\n",
              "      <td>...</td>\n",
              "      <td>...</td>\n",
              "      <td>...</td>\n",
              "    </tr>\n",
              "    <tr>\n",
              "      <th>9996</th>\n",
              "      <td>When Night Is Falling</td>\n",
              "      <td>1995</td>\n",
              "      <td>6.6</td>\n",
              "      <td>NaN</td>\n",
              "      <td>Drama, Romance</td>\n",
              "      <td>6022</td>\n",
              "      <td>Patricia Rozema</td>\n",
              "      <td>94</td>\n",
              "      <td>1.19</td>\n",
              "      <td>An uptight and conservative woman, working on ...</td>\n",
              "    </tr>\n",
              "    <tr>\n",
              "      <th>9997</th>\n",
              "      <td>Stachka</td>\n",
              "      <td>1925</td>\n",
              "      <td>7.6</td>\n",
              "      <td>NaN</td>\n",
              "      <td>Drama</td>\n",
              "      <td>6021</td>\n",
              "      <td>Sergei M. Eisenstein</td>\n",
              "      <td>95</td>\n",
              "      <td>NaN</td>\n",
              "      <td>A group of oppressed factory workers go on str...</td>\n",
              "    </tr>\n",
              "    <tr>\n",
              "      <th>9998</th>\n",
              "      <td>November Criminals</td>\n",
              "      <td>2017</td>\n",
              "      <td>5.3</td>\n",
              "      <td>31.0</td>\n",
              "      <td>Crime, Drama, Mystery</td>\n",
              "      <td>6020</td>\n",
              "      <td>Sacha Gervasi</td>\n",
              "      <td>85</td>\n",
              "      <td>NaN</td>\n",
              "      <td>After his friend is murdered, a Washington, D....</td>\n",
              "    </tr>\n",
              "    <tr>\n",
              "      <th>9999</th>\n",
              "      <td>120</td>\n",
              "      <td>2008</td>\n",
              "      <td>7.3</td>\n",
              "      <td>NaN</td>\n",
              "      <td>Drama, History, War</td>\n",
              "      <td>6018</td>\n",
              "      <td>Özhan Eren</td>\n",
              "      <td>114</td>\n",
              "      <td>NaN</td>\n",
              "      <td>During the Sarikamis Battle, the Ottoman army ...</td>\n",
              "    </tr>\n",
              "    <tr>\n",
              "      <th>10000</th>\n",
              "      <td>The Terror</td>\n",
              "      <td>1963</td>\n",
              "      <td>5.0</td>\n",
              "      <td>NaN</td>\n",
              "      <td>Horror, Thriller</td>\n",
              "      <td>6015</td>\n",
              "      <td>Roger Corman</td>\n",
              "      <td>81</td>\n",
              "      <td>NaN</td>\n",
              "      <td>A young officer in Napoleon's Army pursues a m...</td>\n",
              "    </tr>\n",
              "  </tbody>\n",
              "</table>\n",
              "<p>10000 rows × 10 columns</p>\n",
              "</div>"
            ],
            "text/plain": [
              "                          Title  ...                                        Description\n",
              "Rank                             ...                                                   \n",
              "1      The Shawshank Redemption  ...  Two imprisoned men bond over a number of years...\n",
              "2               The Dark Knight  ...  When the menace known as the Joker emerges fro...\n",
              "3                     Inception  ...  A thief who steals corporate secrets through t...\n",
              "4                    Fight Club  ...  An insomniac office worker and a devil-may-car...\n",
              "5                  Pulp Fiction  ...  The lives of two mob hitmen, a boxer, a gangst...\n",
              "...                         ...  ...                                                ...\n",
              "9996      When Night Is Falling  ...  An uptight and conservative woman, working on ...\n",
              "9997                    Stachka  ...  A group of oppressed factory workers go on str...\n",
              "9998         November Criminals  ...  After his friend is murdered, a Washington, D....\n",
              "9999                        120  ...  During the Sarikamis Battle, the Ottoman army ...\n",
              "10000                The Terror  ...  A young officer in Napoleon's Army pursues a m...\n",
              "\n",
              "[10000 rows x 10 columns]"
            ]
          },
          "metadata": {
            "tags": []
          },
          "execution_count": 8
        }
      ]
    },
    {
      "cell_type": "code",
      "metadata": {
        "colab": {
          "base_uri": "https://localhost:8080/",
          "height": 287
        },
        "id": "Ux8lvaP2H38R",
        "outputId": "c1a41504-4120-4c3b-dcc7-9c006ad3229c"
      },
      "source": [
        "df.describe()"
      ],
      "execution_count": 9,
      "outputs": [
        {
          "output_type": "execute_result",
          "data": {
            "text/html": [
              "<div>\n",
              "<style scoped>\n",
              "    .dataframe tbody tr th:only-of-type {\n",
              "        vertical-align: middle;\n",
              "    }\n",
              "\n",
              "    .dataframe tbody tr th {\n",
              "        vertical-align: top;\n",
              "    }\n",
              "\n",
              "    .dataframe thead th {\n",
              "        text-align: right;\n",
              "    }\n",
              "</style>\n",
              "<table border=\"1\" class=\"dataframe\">\n",
              "  <thead>\n",
              "    <tr style=\"text-align: right;\">\n",
              "      <th></th>\n",
              "      <th>Year</th>\n",
              "      <th>Score</th>\n",
              "      <th>Metascore</th>\n",
              "      <th>Vote</th>\n",
              "      <th>Runtime</th>\n",
              "      <th>Revenue</th>\n",
              "    </tr>\n",
              "  </thead>\n",
              "  <tbody>\n",
              "    <tr>\n",
              "      <th>count</th>\n",
              "      <td>10000.000000</td>\n",
              "      <td>10000.000000</td>\n",
              "      <td>6781.000000</td>\n",
              "      <td>1.000000e+04</td>\n",
              "      <td>10000.000000</td>\n",
              "      <td>7473.000000</td>\n",
              "    </tr>\n",
              "    <tr>\n",
              "      <th>mean</th>\n",
              "      <td>1998.116200</td>\n",
              "      <td>6.627530</td>\n",
              "      <td>56.534140</td>\n",
              "      <td>6.448852e+04</td>\n",
              "      <td>108.696900</td>\n",
              "      <td>36.263402</td>\n",
              "    </tr>\n",
              "    <tr>\n",
              "      <th>std</th>\n",
              "      <td>18.249608</td>\n",
              "      <td>1.041204</td>\n",
              "      <td>17.965689</td>\n",
              "      <td>1.249423e+05</td>\n",
              "      <td>21.659929</td>\n",
              "      <td>60.882025</td>\n",
              "    </tr>\n",
              "    <tr>\n",
              "      <th>min</th>\n",
              "      <td>1915.000000</td>\n",
              "      <td>1.300000</td>\n",
              "      <td>10.000000</td>\n",
              "      <td>6.015000e+03</td>\n",
              "      <td>45.000000</td>\n",
              "      <td>0.000000</td>\n",
              "    </tr>\n",
              "    <tr>\n",
              "      <th>25%</th>\n",
              "      <td>1991.000000</td>\n",
              "      <td>6.000000</td>\n",
              "      <td>44.000000</td>\n",
              "      <td>1.014725e+04</td>\n",
              "      <td>94.000000</td>\n",
              "      <td>1.890000</td>\n",
              "    </tr>\n",
              "    <tr>\n",
              "      <th>50%</th>\n",
              "      <td>2004.000000</td>\n",
              "      <td>6.700000</td>\n",
              "      <td>57.000000</td>\n",
              "      <td>2.117250e+04</td>\n",
              "      <td>105.000000</td>\n",
              "      <td>15.090000</td>\n",
              "    </tr>\n",
              "    <tr>\n",
              "      <th>75%</th>\n",
              "      <td>2011.000000</td>\n",
              "      <td>7.400000</td>\n",
              "      <td>70.000000</td>\n",
              "      <td>6.205200e+04</td>\n",
              "      <td>118.000000</td>\n",
              "      <td>43.860000</td>\n",
              "    </tr>\n",
              "    <tr>\n",
              "      <th>max</th>\n",
              "      <td>2018.000000</td>\n",
              "      <td>9.600000</td>\n",
              "      <td>99.000000</td>\n",
              "      <td>2.011509e+06</td>\n",
              "      <td>450.000000</td>\n",
              "      <td>936.660000</td>\n",
              "    </tr>\n",
              "  </tbody>\n",
              "</table>\n",
              "</div>"
            ],
            "text/plain": [
              "               Year         Score  ...       Runtime      Revenue\n",
              "count  10000.000000  10000.000000  ...  10000.000000  7473.000000\n",
              "mean    1998.116200      6.627530  ...    108.696900    36.263402\n",
              "std       18.249608      1.041204  ...     21.659929    60.882025\n",
              "min     1915.000000      1.300000  ...     45.000000     0.000000\n",
              "25%     1991.000000      6.000000  ...     94.000000     1.890000\n",
              "50%     2004.000000      6.700000  ...    105.000000    15.090000\n",
              "75%     2011.000000      7.400000  ...    118.000000    43.860000\n",
              "max     2018.000000      9.600000  ...    450.000000   936.660000\n",
              "\n",
              "[8 rows x 6 columns]"
            ]
          },
          "metadata": {
            "tags": []
          },
          "execution_count": 9
        }
      ]
    },
    {
      "cell_type": "code",
      "metadata": {
        "colab": {
          "base_uri": "https://localhost:8080/"
        },
        "id": "Txw4pdjxIGyq",
        "outputId": "1505ad4c-268f-48da-e32c-aa57e5fa0f95"
      },
      "source": [
        "df.isnull().sum()"
      ],
      "execution_count": 18,
      "outputs": [
        {
          "output_type": "execute_result",
          "data": {
            "text/plain": [
              "Title             0\n",
              "Year              0\n",
              "Score             0\n",
              "Metascore      3219\n",
              "Genre             0\n",
              "Vote              0\n",
              "Director          1\n",
              "Runtime           0\n",
              "Revenue        2527\n",
              "Description       0\n",
              "dtype: int64"
            ]
          },
          "metadata": {
            "tags": []
          },
          "execution_count": 18
        }
      ]
    },
    {
      "cell_type": "code",
      "metadata": {
        "colab": {
          "base_uri": "https://localhost:8080/"
        },
        "id": "QviDJsKZINeF",
        "outputId": "b8ec0e62-7715-449a-e004-007cd741409c"
      },
      "source": [
        "def isnull_func(df):\r\n",
        "  cols = []\r\n",
        "  for col in df.columns:\r\n",
        "    if df[col].isnull().sum() != 0:\r\n",
        "      cols.append(col)\r\n",
        "  return cols    \r\n",
        "isnull_func(df)"
      ],
      "execution_count": 17,
      "outputs": [
        {
          "output_type": "execute_result",
          "data": {
            "text/plain": [
              "['Metascore', 'Director', 'Revenue']"
            ]
          },
          "metadata": {
            "tags": []
          },
          "execution_count": 17
        }
      ]
    },
    {
      "cell_type": "code",
      "metadata": {
        "colab": {
          "base_uri": "https://localhost:8080/",
          "height": 377
        },
        "id": "pI6LiG1uJZKf",
        "outputId": "979f01f5-c4c6-4605-953e-74bc28d7f7cd"
      },
      "source": [
        "df.sort_values('Metascore', ascending= False).head(10)"
      ],
      "execution_count": 22,
      "outputs": [
        {
          "output_type": "execute_result",
          "data": {
            "text/html": [
              "<div>\n",
              "<style scoped>\n",
              "    .dataframe tbody tr th:only-of-type {\n",
              "        vertical-align: middle;\n",
              "    }\n",
              "\n",
              "    .dataframe tbody tr th {\n",
              "        vertical-align: top;\n",
              "    }\n",
              "\n",
              "    .dataframe thead th {\n",
              "        text-align: right;\n",
              "    }\n",
              "</style>\n",
              "<table border=\"1\" class=\"dataframe\">\n",
              "  <thead>\n",
              "    <tr style=\"text-align: right;\">\n",
              "      <th></th>\n",
              "      <th>Title</th>\n",
              "      <th>Year</th>\n",
              "      <th>Score</th>\n",
              "      <th>Metascore</th>\n",
              "      <th>Genre</th>\n",
              "      <th>Vote</th>\n",
              "      <th>Director</th>\n",
              "      <th>Runtime</th>\n",
              "      <th>Revenue</th>\n",
              "      <th>Description</th>\n",
              "    </tr>\n",
              "    <tr>\n",
              "      <th>Rank</th>\n",
              "      <th></th>\n",
              "      <th></th>\n",
              "      <th></th>\n",
              "      <th></th>\n",
              "      <th></th>\n",
              "      <th></th>\n",
              "      <th></th>\n",
              "      <th></th>\n",
              "      <th></th>\n",
              "      <th></th>\n",
              "    </tr>\n",
              "  </thead>\n",
              "  <tbody>\n",
              "    <tr>\n",
              "      <th>1473</th>\n",
              "      <td>Pinocchio</td>\n",
              "      <td>1940</td>\n",
              "      <td>7.5</td>\n",
              "      <td>99.0</td>\n",
              "      <td>Animation, Comedy, Family</td>\n",
              "      <td>110272</td>\n",
              "      <td>Norman Ferguson</td>\n",
              "      <td>88</td>\n",
              "      <td>84.25</td>\n",
              "      <td>A living puppet, with the help of a cricket as...</td>\n",
              "    </tr>\n",
              "    <tr>\n",
              "      <th>818</th>\n",
              "      <td>Singin' in the Rain</td>\n",
              "      <td>1952</td>\n",
              "      <td>8.3</td>\n",
              "      <td>99.0</td>\n",
              "      <td>Comedy, Musical, Romance</td>\n",
              "      <td>187723</td>\n",
              "      <td>Stanley Donen</td>\n",
              "      <td>103</td>\n",
              "      <td>8.82</td>\n",
              "      <td>A silent film production company and cast make...</td>\n",
              "    </tr>\n",
              "    <tr>\n",
              "      <th>2177</th>\n",
              "      <td>The Night of the Hunter</td>\n",
              "      <td>1955</td>\n",
              "      <td>8.0</td>\n",
              "      <td>99.0</td>\n",
              "      <td>Crime, Drama, FilmNoir</td>\n",
              "      <td>73188</td>\n",
              "      <td>Charles Laughton</td>\n",
              "      <td>92</td>\n",
              "      <td>NaN</td>\n",
              "      <td>A religious fanatic marries a gullible widow w...</td>\n",
              "    </tr>\n",
              "    <tr>\n",
              "      <th>5605</th>\n",
              "      <td>Army of Shadows</td>\n",
              "      <td>1969</td>\n",
              "      <td>8.2</td>\n",
              "      <td>99.0</td>\n",
              "      <td>Drama, War</td>\n",
              "      <td>17294</td>\n",
              "      <td>Jean-Pierre Melville</td>\n",
              "      <td>145</td>\n",
              "      <td>0.74</td>\n",
              "      <td>An account of underground resistance fighters ...</td>\n",
              "    </tr>\n",
              "    <tr>\n",
              "      <th>718</th>\n",
              "      <td>Moonlight</td>\n",
              "      <td>2016</td>\n",
              "      <td>7.4</td>\n",
              "      <td>99.0</td>\n",
              "      <td>Drama</td>\n",
              "      <td>207369</td>\n",
              "      <td>Barry Jenkins</td>\n",
              "      <td>111</td>\n",
              "      <td>27.85</td>\n",
              "      <td>A chronicle of the childhood, adolescence and ...</td>\n",
              "    </tr>\n",
              "    <tr>\n",
              "      <th>1802</th>\n",
              "      <td>Touch of Evil</td>\n",
              "      <td>1958</td>\n",
              "      <td>8.1</td>\n",
              "      <td>99.0</td>\n",
              "      <td>Crime, Drama, FilmNoir</td>\n",
              "      <td>89813</td>\n",
              "      <td>Orson Welles</td>\n",
              "      <td>95</td>\n",
              "      <td>2.24</td>\n",
              "      <td>A stark, perverse story of murder, kidnapping,...</td>\n",
              "    </tr>\n",
              "    <tr>\n",
              "      <th>1657</th>\n",
              "      <td>The Treasure of the Sierra Madre</td>\n",
              "      <td>1948</td>\n",
              "      <td>8.3</td>\n",
              "      <td>99.0</td>\n",
              "      <td>Adventure, Drama, Western</td>\n",
              "      <td>97729</td>\n",
              "      <td>John Huston</td>\n",
              "      <td>126</td>\n",
              "      <td>5.01</td>\n",
              "      <td>Fred Dobbs and Bob Curtin, two Americans searc...</td>\n",
              "    </tr>\n",
              "    <tr>\n",
              "      <th>488</th>\n",
              "      <td>Seven Samurai</td>\n",
              "      <td>1954</td>\n",
              "      <td>8.7</td>\n",
              "      <td>98.0</td>\n",
              "      <td>Adventure, Drama</td>\n",
              "      <td>272331</td>\n",
              "      <td>Akira Kurosawa</td>\n",
              "      <td>207</td>\n",
              "      <td>0.27</td>\n",
              "      <td>A poor village under attack by bandits recruit...</td>\n",
              "    </tr>\n",
              "    <tr>\n",
              "      <th>1585</th>\n",
              "      <td>Dumbo</td>\n",
              "      <td>1941</td>\n",
              "      <td>7.3</td>\n",
              "      <td>98.0</td>\n",
              "      <td>Animation, Drama, Family</td>\n",
              "      <td>102098</td>\n",
              "      <td>Samuel Armstrong</td>\n",
              "      <td>64</td>\n",
              "      <td>1.60</td>\n",
              "      <td>Ridiculed because of his enormous ears, a youn...</td>\n",
              "    </tr>\n",
              "    <tr>\n",
              "      <th>516</th>\n",
              "      <td>North by Northwest</td>\n",
              "      <td>1959</td>\n",
              "      <td>8.3</td>\n",
              "      <td>98.0</td>\n",
              "      <td>Adventure, Mystery, Thriller</td>\n",
              "      <td>261554</td>\n",
              "      <td>Alfred Hitchcock</td>\n",
              "      <td>136</td>\n",
              "      <td>13.28</td>\n",
              "      <td>A hapless New York advertising executive is mi...</td>\n",
              "    </tr>\n",
              "  </tbody>\n",
              "</table>\n",
              "</div>"
            ],
            "text/plain": [
              "                                 Title  ...                                        Description\n",
              "Rank                                    ...                                                   \n",
              "1473                         Pinocchio  ...  A living puppet, with the help of a cricket as...\n",
              "818                Singin' in the Rain  ...  A silent film production company and cast make...\n",
              "2177           The Night of the Hunter  ...  A religious fanatic marries a gullible widow w...\n",
              "5605                   Army of Shadows  ...  An account of underground resistance fighters ...\n",
              "718                          Moonlight  ...  A chronicle of the childhood, adolescence and ...\n",
              "1802                     Touch of Evil  ...  A stark, perverse story of murder, kidnapping,...\n",
              "1657  The Treasure of the Sierra Madre  ...  Fred Dobbs and Bob Curtin, two Americans searc...\n",
              "488                      Seven Samurai  ...  A poor village under attack by bandits recruit...\n",
              "1585                             Dumbo  ...  Ridiculed because of his enormous ears, a youn...\n",
              "516                 North by Northwest  ...  A hapless New York advertising executive is mi...\n",
              "\n",
              "[10 rows x 10 columns]"
            ]
          },
          "metadata": {
            "tags": []
          },
          "execution_count": 22
        }
      ]
    },
    {
      "cell_type": "code",
      "metadata": {
        "id": "FUMPSRzLKskX"
      },
      "source": [
        "def mape(y_true, y_pred): \r\n",
        "    y_true, y_pred = np.array(y_true), np.array(y_pred)\r\n",
        "    return np.mean(np.abs((y_true - y_pred) / y_true)) * 100"
      ],
      "execution_count": 23,
      "outputs": []
    },
    {
      "cell_type": "code",
      "metadata": {
        "colab": {
          "base_uri": "https://localhost:8080/"
        },
        "id": "mtlFsW2iK2_s",
        "outputId": "81af450c-b58f-45a3-e396-d9ca57509d0f"
      },
      "source": [
        "mape(df['Score']*10, df['Metascore'])"
      ],
      "execution_count": 24,
      "outputs": [
        {
          "output_type": "execute_result",
          "data": {
            "text/plain": [
              "nan"
            ]
          },
          "metadata": {
            "tags": []
          },
          "execution_count": 24
        }
      ]
    },
    {
      "cell_type": "code",
      "metadata": {
        "colab": {
          "base_uri": "https://localhost:8080/"
        },
        "id": "uNydeM4ULKL4",
        "outputId": "69bde410-ffe8-4ddc-a462-1881e1b16f8d"
      },
      "source": [
        "df['Metascore'].mean()"
      ],
      "execution_count": 25,
      "outputs": [
        {
          "output_type": "execute_result",
          "data": {
            "text/plain": [
              "56.53413950744728"
            ]
          },
          "metadata": {
            "tags": []
          },
          "execution_count": 25
        }
      ]
    },
    {
      "cell_type": "code",
      "metadata": {
        "colab": {
          "base_uri": "https://localhost:8080/"
        },
        "id": "eyuvELbCLX1o",
        "outputId": "8f8bc6fb-e3b4-435a-c2ad-b50113f97c0e"
      },
      "source": [
        "df['Metascore'].median()"
      ],
      "execution_count": 26,
      "outputs": [
        {
          "output_type": "execute_result",
          "data": {
            "text/plain": [
              "57.0"
            ]
          },
          "metadata": {
            "tags": []
          },
          "execution_count": 26
        }
      ]
    },
    {
      "cell_type": "code",
      "metadata": {
        "colab": {
          "base_uri": "https://localhost:8080/"
        },
        "id": "yaW1H1RVLjkl",
        "outputId": "111ddf9a-50df-45a2-9e64-c0216b4c2312"
      },
      "source": [
        "df['Metascore'].fillna(df['Metascore'].median(), inplace = True)\r\n",
        "mape(df['Score']*10, df['Metascore'])"
      ],
      "execution_count": 27,
      "outputs": [
        {
          "output_type": "execute_result",
          "data": {
            "text/plain": [
              "20.38670383979397"
            ]
          },
          "metadata": {
            "tags": []
          },
          "execution_count": 27
        }
      ]
    },
    {
      "cell_type": "code",
      "metadata": {
        "id": "0T-qL-6DMQyE"
      },
      "source": [
        "from sklearn.metrics import mean_absolute_error\r\n"
      ],
      "execution_count": 28,
      "outputs": []
    },
    {
      "cell_type": "code",
      "metadata": {
        "colab": {
          "base_uri": "https://localhost:8080/"
        },
        "id": "FVKFnQ7GMUkK",
        "outputId": "67ec9632-3f5b-42d0-8d06-1989d4ab942d"
      },
      "source": [
        "mean_absolute_error(df['Score']*10, df['Metascore'])"
      ],
      "execution_count": 29,
      "outputs": [
        {
          "output_type": "execute_result",
          "data": {
            "text/plain": [
              "12.9122"
            ]
          },
          "metadata": {
            "tags": []
          },
          "execution_count": 29
        }
      ]
    },
    {
      "cell_type": "markdown",
      "metadata": {
        "id": "2JupxcCLMbRT"
      },
      "source": [
        "## Самый популярный жанр"
      ]
    },
    {
      "cell_type": "code",
      "metadata": {
        "colab": {
          "base_uri": "https://localhost:8080/"
        },
        "id": "PTqqU0nQMd9B",
        "outputId": "c7258049-eae4-47b0-9b4c-107a188c6156"
      },
      "source": [
        "df['Genre'].value_counts()"
      ],
      "execution_count": 30,
      "outputs": [
        {
          "output_type": "execute_result",
          "data": {
            "text/plain": [
              "Comedy, Drama, Romance     494\n",
              "Drama                      482\n",
              "Comedy, Drama              407\n",
              "Drama, Romance             365\n",
              "Comedy                     357\n",
              "                          ... \n",
              "War                          1\n",
              "Drama, History, Sci-Fi       1\n",
              "Comedy, Romance, Family      1\n",
              "Musical, Drama, Romance      1\n",
              "Drama, Fantasy, Sport        1\n",
              "Name: Genre, Length: 486, dtype: int64"
            ]
          },
          "metadata": {
            "tags": []
          },
          "execution_count": 30
        }
      ]
    },
    {
      "cell_type": "markdown",
      "metadata": {
        "id": "zFuc6MEBNEEZ"
      },
      "source": [
        "## Для самого популярного рассчитать - сборы и средний рейтинг"
      ]
    },
    {
      "cell_type": "code",
      "metadata": {
        "colab": {
          "base_uri": "https://localhost:8080/"
        },
        "id": "whbO1SKLNBxO",
        "outputId": "794b62ee-5b57-4288-a48b-1f5657aec9d8"
      },
      "source": [
        "df[df['Genre'] == 'Comedy, Drama, Romance'].Revenue.sum()"
      ],
      "execution_count": 32,
      "outputs": [
        {
          "output_type": "execute_result",
          "data": {
            "text/plain": [
              "9302.399999999998"
            ]
          },
          "metadata": {
            "tags": []
          },
          "execution_count": 32
        }
      ]
    },
    {
      "cell_type": "markdown",
      "metadata": {
        "id": "UUhsW_HANXxC"
      },
      "source": [
        "### Создать класс "
      ]
    },
    {
      "cell_type": "code",
      "metadata": {
        "id": "K5u7ylJQNVVz"
      },
      "source": [
        "class genre_filter:\r\n",
        "\r\n",
        "  def __init__(self, df): # прием df\r\n",
        "    self.df = df\r\n",
        "\r\n",
        "  def df_genres(self, genre_name):\r\n",
        "     return self.df[self.df['Genre'] == genre_name].Revenue.sum()\r\n",
        "\r\n",
        "  def top_directors(self, col, methods = 'sum'):\r\n",
        "    temp = self.df[['Director', col]].groupby('Director')\r\n",
        "\r\n",
        "    return temp.sum().sort_values(col, ascending = False).head(10) if methods == 'sum' \\\r\n",
        "                                                                   else  temp.count().sort_values(col, ascending = False).head(10) \r\n",
        "\r\n",
        "\r\n",
        "data = genre_filter(df)"
      ],
      "execution_count": 72,
      "outputs": []
    },
    {
      "cell_type": "code",
      "metadata": {
        "colab": {
          "base_uri": "https://localhost:8080/",
          "height": 377
        },
        "id": "aFpH85m7Pp03",
        "outputId": "3e94a523-fee3-45f3-ead7-ceeb2b2bba1d"
      },
      "source": [
        "data.top_directors('Revenue', 'sum')"
      ],
      "execution_count": 73,
      "outputs": [
        {
          "output_type": "execute_result",
          "data": {
            "text/html": [
              "<div>\n",
              "<style scoped>\n",
              "    .dataframe tbody tr th:only-of-type {\n",
              "        vertical-align: middle;\n",
              "    }\n",
              "\n",
              "    .dataframe tbody tr th {\n",
              "        vertical-align: top;\n",
              "    }\n",
              "\n",
              "    .dataframe thead th {\n",
              "        text-align: right;\n",
              "    }\n",
              "</style>\n",
              "<table border=\"1\" class=\"dataframe\">\n",
              "  <thead>\n",
              "    <tr style=\"text-align: right;\">\n",
              "      <th></th>\n",
              "      <th>Revenue</th>\n",
              "    </tr>\n",
              "    <tr>\n",
              "      <th>Director</th>\n",
              "      <th></th>\n",
              "    </tr>\n",
              "  </thead>\n",
              "  <tbody>\n",
              "    <tr>\n",
              "      <th>Steven Spielberg</th>\n",
              "      <td>4502.56</td>\n",
              "    </tr>\n",
              "    <tr>\n",
              "      <th>Michael Bay</th>\n",
              "      <td>2326.33</td>\n",
              "    </tr>\n",
              "    <tr>\n",
              "      <th>Peter Jackson</th>\n",
              "      <td>2134.38</td>\n",
              "    </tr>\n",
              "    <tr>\n",
              "      <th>Ron Howard</th>\n",
              "      <td>2101.40</td>\n",
              "    </tr>\n",
              "    <tr>\n",
              "      <th>Robert Zemeckis</th>\n",
              "      <td>2075.91</td>\n",
              "    </tr>\n",
              "    <tr>\n",
              "      <th>Christopher Nolan</th>\n",
              "      <td>2004.86</td>\n",
              "    </tr>\n",
              "    <tr>\n",
              "      <th>James Cameron</th>\n",
              "      <td>1948.98</td>\n",
              "    </tr>\n",
              "    <tr>\n",
              "      <th>Clint Eastwood</th>\n",
              "      <td>1846.95</td>\n",
              "    </tr>\n",
              "    <tr>\n",
              "      <th>Tim Burton</th>\n",
              "      <td>1839.64</td>\n",
              "    </tr>\n",
              "    <tr>\n",
              "      <th>Chris Columbus</th>\n",
              "      <td>1744.76</td>\n",
              "    </tr>\n",
              "  </tbody>\n",
              "</table>\n",
              "</div>"
            ],
            "text/plain": [
              "                   Revenue\n",
              "Director                  \n",
              "Steven Spielberg   4502.56\n",
              "Michael Bay        2326.33\n",
              "Peter Jackson      2134.38\n",
              "Ron Howard         2101.40\n",
              "Robert Zemeckis    2075.91\n",
              "Christopher Nolan  2004.86\n",
              "James Cameron      1948.98\n",
              "Clint Eastwood     1846.95\n",
              "Tim Burton         1839.64\n",
              "Chris Columbus     1744.76"
            ]
          },
          "metadata": {
            "tags": []
          },
          "execution_count": 73
        }
      ]
    },
    {
      "cell_type": "code",
      "metadata": {
        "id": "k3BzhXEOUwU9"
      },
      "source": [
        "a = max"
      ],
      "execution_count": 61,
      "outputs": []
    }
  ]
}