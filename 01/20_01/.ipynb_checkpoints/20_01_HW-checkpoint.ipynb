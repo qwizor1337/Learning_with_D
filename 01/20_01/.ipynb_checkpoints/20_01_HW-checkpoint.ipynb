{
 "cells": [
  {
   "cell_type": "markdown",
   "metadata": {},
   "source": [
    "#### Задание №1. Самостоятельно реализовать функцию подсчета корреляции Пирсона"
   ]
  },
  {
   "cell_type": "code",
   "execution_count": 7,
   "metadata": {},
   "outputs": [
    {
     "name": "stdout",
     "output_type": "stream",
     "text": [
      "-0.1889822365046136\n"
     ]
    },
    {
     "data": {
      "text/plain": [
       "-0.189"
      ]
     },
     "execution_count": 7,
     "metadata": {},
     "output_type": "execute_result"
    }
   ],
   "source": [
    "#Импортируем необходимые библиотеки\n",
    "import numpy as np\n",
    "import math as m\n",
    "\n",
    "#Данные для примера\n",
    "a1 = [4,6,8]\n",
    "b1 = [5,0,4]  \n",
    "\n",
    "#Добавляем функцию для расчета дисперсии\n",
    "def disper(a):\n",
    "    summ = 0\n",
    "    a_mean = np.mean(a)\n",
    "    for i in range(0,len(a)):\n",
    "        summ += (a[i]-a_mean)**2\n",
    "    return summ/(len(a)-1)    \n",
    "\n",
    "#Рассчитываем стандартное отклонение как корень от дисперсии\n",
    "\n",
    "std_a1 = m.sqrt(disper(a1))\n",
    "std_b1 = m.sqrt(disper(b1))\n",
    "\n",
    "#Добавляем функцию для расчета корреляции Пирсона\n",
    "def Pirson_corr(a1, b1, std_a1, std_b1):\n",
    "    a1_mean = np.mean(a1)\n",
    "    b1_mean = np.mean(b1)\n",
    "    corr_top = 0\n",
    "    for i in range(0, len(a1)):\n",
    "        corr_top += ((a1[i]-a1_mean)*(b1[i]-b1_mean))\n",
    "    return corr_top/((len(a1)-1)*std_a1*std_b1)\n",
    "\n",
    "#Рассчитываем корреляцию\n",
    "print(Pirson_corr(a1, b1, std_a1, std_b1))\n",
    "\n",
    "#Округляем до 3 знака после запятой\n",
    "round(Pirson_corr(a1, b1, std_a1, std_b1),3)"
   ]
  },
  {
   "cell_type": "markdown",
   "metadata": {},
   "source": [
    "#### Задание №2. Объяснить, как работает линейная регрессия"
   ]
  },
  {
   "cell_type": "markdown",
   "metadata": {},
   "source": [
    "Уравнение простой линейной регрессии (для расчета взаимосвязи между значениями двух переменных): "
   ]
  },
  {
   "attachments": {},
   "cell_type": "markdown",
   "metadata": {},
   "source": [
    "<b>y = a + bx</b>"
   ]
  },
  {
   "cell_type": "markdown",
   "metadata": {},
   "source": [
    "(В классической формуле эпсилон отсутствует)\n",
    "\n",
    "Простая линейная регрессия определяет, как изменится y (зависимая переменная) при изменении x (независимой переменной) на определенную величину. x и y взаимозаменяемы. a - значение, которому будет равно y, если х = 0\n",
    "\n",
    "Цель линейной регрессии - построение оптимальной прямой, проходящей через все заданные точки. Оптимальная прямая - это такая прямая, которая имеет минимальное отклонение от каждой из точек. "
   ]
  },
  {
   "cell_type": "markdown",
   "metadata": {},
   "source": [
    "#### Задание №3. Почему в последней задаче модель линейной регрессии может быть использована?"
   ]
  },
  {
   "cell_type": "markdown",
   "metadata": {},
   "source": [
    "В данной задаче может быть использована линейная регрессия по следующим причинам: \n",
    "* У нас есть одна зависимая переменная(фича) и одна переменная, которую мы предсказываем (целевой признак)\n",
    "* При просмотре scatterplot видно, что обе переменные имеют положительную корреляцию"
   ]
  },
  {
   "cell_type": "code",
   "execution_count": null,
   "metadata": {},
   "outputs": [],
   "source": []
  },
  {
   "cell_type": "code",
   "execution_count": null,
   "metadata": {},
   "outputs": [],
   "source": []
  }
 ],
 "metadata": {
  "kernelspec": {
   "display_name": "Python 3",
   "language": "python",
   "name": "python3"
  },
  "language_info": {
   "codemirror_mode": {
    "name": "ipython",
    "version": 3
   },
   "file_extension": ".py",
   "mimetype": "text/x-python",
   "name": "python",
   "nbconvert_exporter": "python",
   "pygments_lexer": "ipython3",
   "version": "3.8.3"
  }
 },
 "nbformat": 4,
 "nbformat_minor": 4
}
