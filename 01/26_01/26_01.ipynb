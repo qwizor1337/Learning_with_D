{
  "nbformat": 4,
  "nbformat_minor": 0,
  "metadata": {
    "colab": {
      "name": "Untitled0.ipynb",
      "provenance": []
    },
    "kernelspec": {
      "name": "python3",
      "display_name": "Python 3"
    }
  },
  "cells": [
    {
      "cell_type": "code",
      "metadata": {
        "id": "MvyHtW1uKbkp"
      },
      "source": [
        "import pandas as pd\r\n",
        "import json"
      ],
      "execution_count": 1,
      "outputs": []
    },
    {
      "cell_type": "code",
      "metadata": {
        "id": "_UOzhqfQKkjn"
      },
      "source": [
        "with open('data_file_it.json') as f:\r\n",
        "    data = json.load(f)"
      ],
      "execution_count": 11,
      "outputs": []
    },
    {
      "cell_type": "code",
      "metadata": {
        "colab": {
          "base_uri": "https://localhost:8080/",
          "height": 35
        },
        "id": "VToMyN9-Kkbw",
        "outputId": "265f8067-8e64-4b60-bd28-be66b50b14e6"
      },
      "source": [
        "data[0]['education'][1]['name']"
      ],
      "execution_count": 10,
      "outputs": [
        {
          "output_type": "execute_result",
          "data": {
            "application/vnd.google.colaboratory.intrinsic+json": {
              "type": "string"
            },
            "text/plain": [
              "'Московский государственный университет им. М.В. Ломоносова, Москва'"
            ]
          },
          "metadata": {
            "tags": []
          },
          "execution_count": 10
        }
      ]
    },
    {
      "cell_type": "code",
      "metadata": {
        "colab": {
          "base_uri": "https://localhost:8080/"
        },
        "id": "ZSDKrT_YLVX4",
        "outputId": "2e645036-aa2d-4212-ddec-b51347922dad"
      },
      "source": [
        "data[0]"
      ],
      "execution_count": 13,
      "outputs": [
        {
          "output_type": "execute_result",
          "data": {
            "text/plain": [
              "{'area': 'Москва',\n",
              " 'birth_date': '23\\xa0августа\\xa01994',\n",
              " 'education': [{'name': 'Московский государственный университет им. М.В. Ломоносова, Москва',\n",
              "   'organization': 'Физический, Нелинейная оптика и лазерная физика',\n",
              "   'year': 2018},\n",
              "  {'name': 'Московский государственный университет им. М.В. Ломоносова, Москва',\n",
              "   'organization': 'Физический, Физика',\n",
              "   'year': 2016}],\n",
              " 'education_level': 'Высшее образование (Магистр)',\n",
              " 'experience': [{'description': 'Обязанности: Разработка программ и библиотек, обеспечивающих работу видео-стриминговых и транскодирующих приложений, дальнейшее их тестирование и отладка. Осуществление сопровождения внедренных программ и программных средств\\n\\nОсновные инструменты: C/C++, Python, Bash, FFmpeg, Git\\n\\nДостижения: Реализовал и внедрил в действующее ПО технологию адаптивной потоковой передачи данных (DASH)',\n",
              "   'end': '01-09-2020',\n",
              "   'position': 'Программист C/С++',\n",
              "   'start': '01-03-2018'}],\n",
              " 'gender': 'Мужчина',\n",
              " 'language': [{'level': 'Родной', 'name': 'Русский'},\n",
              "  {'level': 'B1 - Средний', 'name': 'Английский'}],\n",
              " 'salary': {'amount': 120000, 'currency': 'руб.'},\n",
              " 'skill_set': ['Машинное обучение',\n",
              "  'Data Mining',\n",
              "  'Data Analysis',\n",
              "  'C/C++',\n",
              "  'Python',\n",
              "  'Git',\n",
              "  'Linux',\n",
              "  'SQL',\n",
              "  'Bash',\n",
              "  'Pandas',\n",
              "  'Numpy',\n",
              "  'Vkontakte Api',\n",
              "  'LabVIEW',\n",
              "  'MATLAB',\n",
              "  'PyTorch'],\n",
              " 'skills': 'Ответственное отношение к учебе\\\\работе.  \\nОкончил школу с золотой медалью, бакалавриат и магистратуру физического факультета МГУ им. М. В. Ломоносова с красными дипломами. Во время учебы занимался автоматизацией измерений в лаборатории оптоакустики, с использованием LabView, C++.\\n\\nУспешно закончил курс \"Введение в машинное обучение\" от Техносферы  Mail.ru, занял первое место в курсовом проекте - рекомендательная система сообществ соц. сети Вконтакте.\\n\\nВ данный момент учусь на основной программе Техносферы \"Анализ больших объемов данных\", успешно закончил первый семестр - первое место по курсовому проекту: https://www.kaggle.com/c/anomaly-detection-competition-ml1-ts-spring-2020/leaderboard\\n\\nУмею работать в команде, проекты Техносферы были командными, координировал действия двух своих коллег.\\nСтремлюсь к развитию, считаю, что постоянно надо развиваться и пробовать новое. Работая разработчиком C++, заинтересовался машинным обучением, легко совмещал работу и изучение новой сферы.',\n",
              " 'specialization': [{'name': 'Программирование, Разработка',\n",
              "   'profarea_name': 'Информационные технологии, интернет, телеком'},\n",
              "  {'name': 'Аналитик',\n",
              "   'profarea_name': 'Информационные технологии, интернет, телеком'}],\n",
              " 'title': 'Специалист по машинному обучению'}"
            ]
          },
          "metadata": {
            "tags": []
          },
          "execution_count": 13
        }
      ]
    },
    {
      "cell_type": "code",
      "metadata": {
        "id": "MlbtUTv0LJFV"
      },
      "source": [
        "gender = []\r\n",
        "area = []\r\n",
        "spec_name = []\r\n",
        "title = []\r\n",
        "salary =[]\r\n",
        "edu = []\r\n",
        "exp =[]\r\n",
        "skill_set = []\r\n",
        "skills = []\r\n",
        "\r\n",
        "for resume in data:\r\n",
        "  gender.append(resume['gender'])\r\n",
        "  area.append(resume['area'])\r\n",
        "  title.append(resume['title'])\r\n",
        "  salary.append(resume['salary']['amount'])\r\n",
        "  edu.append(resume['education_level'])\r\n",
        "  skill_set.append(resume['skill_set'])\r\n",
        "  skills.append(resume['skills'])\r\n",
        "\r\n",
        "  exp_temp = []\r\n",
        "  for i in range(len(resume['experience'])):\r\n",
        "    exp_temp.append(resume['experience'][i]['position'])\r\n",
        "  exp.append(exp_temp)\r\n",
        "\r\n",
        "  spec_temp = []\r\n",
        "  for i in range(len(resume['specialization'])):\r\n",
        "    spec_temp.append(resume['specialization'][i]['name'])\r\n",
        "  spec_name.append(spec_temp)  "
      ],
      "execution_count": 56,
      "outputs": []
    },
    {
      "cell_type": "code",
      "metadata": {
        "id": "c2dAq8jmLKgs"
      },
      "source": [
        "import random as rd\r\n",
        "\r\n",
        "prior = []\r\n",
        "for i in range(len(data)):\r\n",
        "  prior.append(rd.randint(0,1))"
      ],
      "execution_count": 57,
      "outputs": []
    },
    {
      "cell_type": "code",
      "metadata": {
        "id": "92F3ylNlLLFz"
      },
      "source": [
        "df = pd.DataFrame([gender, area, title, salary, edu, skill_set, skills, exp, spec_name, prior]).transpose()"
      ],
      "execution_count": 58,
      "outputs": []
    },
    {
      "cell_type": "code",
      "metadata": {
        "colab": {
          "base_uri": "https://localhost:8080/",
          "height": 414
        },
        "id": "2CgErQ4jLLAZ",
        "outputId": "36d0cab5-d4d0-4fae-98f6-b4d850bde15e"
      },
      "source": [
        "df.head()"
      ],
      "execution_count": 59,
      "outputs": [
        {
          "output_type": "execute_result",
          "data": {
            "text/html": [
              "<div>\n",
              "<style scoped>\n",
              "    .dataframe tbody tr th:only-of-type {\n",
              "        vertical-align: middle;\n",
              "    }\n",
              "\n",
              "    .dataframe tbody tr th {\n",
              "        vertical-align: top;\n",
              "    }\n",
              "\n",
              "    .dataframe thead th {\n",
              "        text-align: right;\n",
              "    }\n",
              "</style>\n",
              "<table border=\"1\" class=\"dataframe\">\n",
              "  <thead>\n",
              "    <tr style=\"text-align: right;\">\n",
              "      <th></th>\n",
              "      <th>0</th>\n",
              "      <th>1</th>\n",
              "      <th>2</th>\n",
              "      <th>3</th>\n",
              "      <th>4</th>\n",
              "      <th>5</th>\n",
              "      <th>6</th>\n",
              "      <th>7</th>\n",
              "      <th>8</th>\n",
              "      <th>9</th>\n",
              "    </tr>\n",
              "  </thead>\n",
              "  <tbody>\n",
              "    <tr>\n",
              "      <th>0</th>\n",
              "      <td>Мужчина</td>\n",
              "      <td>Москва</td>\n",
              "      <td>Специалист по машинному обучению</td>\n",
              "      <td>120000</td>\n",
              "      <td>Высшее образование (Магистр)</td>\n",
              "      <td>[Машинное обучение, Data Mining, Data Analysis...</td>\n",
              "      <td>Ответственное отношение к учебе\\работе.  \\nОко...</td>\n",
              "      <td>[Программист C/С++]</td>\n",
              "      <td>[Программирование, Разработка, Аналитик]</td>\n",
              "      <td>1</td>\n",
              "    </tr>\n",
              "    <tr>\n",
              "      <th>1</th>\n",
              "      <td>Мужчина</td>\n",
              "      <td>Москва</td>\n",
              "      <td>Разработчик React-Native JavaScript  (Redux)</td>\n",
              "      <td>None</td>\n",
              "      <td>Высшее образование</td>\n",
              "      <td>[HTML, CSS, React-Native, JS6, Git, FireBase, ...</td>\n",
              "      <td>Из резюме удален весь нерелевантный опыт, чтоб...</td>\n",
              "      <td>[Разработчик React Native, Разработчик React N...</td>\n",
              "      <td>[Программирование, Разработка]</td>\n",
              "      <td>0</td>\n",
              "    </tr>\n",
              "    <tr>\n",
              "      <th>2</th>\n",
              "      <td>Мужчина</td>\n",
              "      <td>Санкт-Петербург</td>\n",
              "      <td>ИТ-специалист</td>\n",
              "      <td>None</td>\n",
              "      <td>Высшее образование</td>\n",
              "      <td>[HTML, CSS, PHP, Сборка ПК, Настройка ПК, MySQ...</td>\n",
              "      <td>Окончил университет СПБГУТ в Санкт-Петербурге ...</td>\n",
              "      <td>[Специалист технической поддержки, ИТ Специали...</td>\n",
              "      <td>[Банковское ПО, Программирование, Разработка, ...</td>\n",
              "      <td>0</td>\n",
              "    </tr>\n",
              "    <tr>\n",
              "      <th>3</th>\n",
              "      <td>Мужчина</td>\n",
              "      <td>Санкт-Петербург</td>\n",
              "      <td>Программист C#</td>\n",
              "      <td>None</td>\n",
              "      <td>Среднее образование</td>\n",
              "      <td>[C#, Unity, Godot, SQL, MySQL, Git, .NET Frame...</td>\n",
              "      <td>Примеры моего кода и прочего\\nhttps://github.c...</td>\n",
              "      <td>[Оператор call-центра, Диспетчер технической п...</td>\n",
              "      <td>[Игровое ПО, Программирование, Разработка]</td>\n",
              "      <td>1</td>\n",
              "    </tr>\n",
              "    <tr>\n",
              "      <th>4</th>\n",
              "      <td>Женщина</td>\n",
              "      <td>Санкт-Петербург</td>\n",
              "      <td>Frontend-разработчик (JavaScript) junior</td>\n",
              "      <td>30000</td>\n",
              "      <td>Высшее образование</td>\n",
              "      <td>[HTML5, CSS3, JavaScript, jQuery, CSS, Git, HT...</td>\n",
              "      <td>- Дипломы колледжа и бакалавра с отличием (кра...</td>\n",
              "      <td>[Junior  разработчик веб-интерфейсов, Оператор...</td>\n",
              "      <td>[Программирование, Разработка, Web инженер, We...</td>\n",
              "      <td>1</td>\n",
              "    </tr>\n",
              "  </tbody>\n",
              "</table>\n",
              "</div>"
            ],
            "text/plain": [
              "         0  ...  9\n",
              "0  Мужчина  ...  1\n",
              "1  Мужчина  ...  0\n",
              "2  Мужчина  ...  0\n",
              "3  Мужчина  ...  1\n",
              "4  Женщина  ...  1\n",
              "\n",
              "[5 rows x 10 columns]"
            ]
          },
          "metadata": {
            "tags": []
          },
          "execution_count": 59
        }
      ]
    },
    {
      "cell_type": "code",
      "metadata": {
        "id": "42H4criZLK4e"
      },
      "source": [
        "#gender, area, title, salary, edu, skill_set, skills, exp, spec_name, prior\r\n",
        "df.rename(columns={0:'gender', 1:'area', 2:'title', 3:'salary',\r\n",
        "                   4: 'education', 5:'skill_set', 6: 'skills', 7:'exp', 8:'spec_name', 9:'prior'\r\n",
        "                    }, inplace = True)"
      ],
      "execution_count": 60,
      "outputs": []
    },
    {
      "cell_type": "markdown",
      "metadata": {
        "id": "6s5LfOclOaB9"
      },
      "source": [
        "# Очистка данных (ДЗ)"
      ]
    },
    {
      "cell_type": "code",
      "metadata": {
        "colab": {
          "base_uri": "https://localhost:8080/"
        },
        "id": "58H4KJmyNRZD",
        "outputId": "9dac8bb7-6430-46a0-98a2-e0f6a97e86c9"
      },
      "source": [
        "df['education'].value_counts()"
      ],
      "execution_count": 61,
      "outputs": [
        {
          "output_type": "execute_result",
          "data": {
            "text/plain": [
              "Высшее образование                    198\n",
              "Неоконченное высшее образование        51\n",
              "Высшее образование (Магистр)           36\n",
              "Среднее специальное образование        34\n",
              "Высшее образование (Бакалавр)          34\n",
              "Образование                            16\n",
              "Higher education                        5\n",
              "Среднее образование                     4\n",
              "Higher education (bachelor)             4\n",
              "Высшее образование (Кандидат наук)      3\n",
              "Secondary special education             2\n",
              "Education                               2\n",
              "Secondary education                     1\n",
              "Name: education, dtype: int64"
            ]
          },
          "metadata": {
            "tags": []
          },
          "execution_count": 61
        }
      ]
    },
    {
      "cell_type": "code",
      "metadata": {
        "colab": {
          "base_uri": "https://localhost:8080/"
        },
        "id": "iMXbqIViNRV0",
        "outputId": "aed3d527-1fda-4e00-96eb-15d30c218d0c"
      },
      "source": [
        "df.info()"
      ],
      "execution_count": 62,
      "outputs": [
        {
          "output_type": "stream",
          "text": [
            "<class 'pandas.core.frame.DataFrame'>\n",
            "RangeIndex: 390 entries, 0 to 389\n",
            "Data columns (total 10 columns):\n",
            " #   Column     Non-Null Count  Dtype \n",
            "---  ------     --------------  ----- \n",
            " 0   gender     390 non-null    object\n",
            " 1   area       390 non-null    object\n",
            " 2   title      390 non-null    object\n",
            " 3   salary     198 non-null    object\n",
            " 4   education  390 non-null    object\n",
            " 5   skill_set  390 non-null    object\n",
            " 6   skills     390 non-null    object\n",
            " 7   exp        390 non-null    object\n",
            " 8   spec_name  390 non-null    object\n",
            " 9   prior      390 non-null    object\n",
            "dtypes: object(10)\n",
            "memory usage: 30.6+ KB\n"
          ],
          "name": "stdout"
        }
      ]
    },
    {
      "cell_type": "code",
      "metadata": {
        "colab": {
          "base_uri": "https://localhost:8080/"
        },
        "id": "J2ZKIyFBOnr7",
        "outputId": "341d0341-f6cf-4982-e6f7-91789b6ba53b"
      },
      "source": [
        "df.dropna().info() # NANов нет"
      ],
      "execution_count": 63,
      "outputs": [
        {
          "output_type": "stream",
          "text": [
            "<class 'pandas.core.frame.DataFrame'>\n",
            "Int64Index: 198 entries, 0 to 389\n",
            "Data columns (total 10 columns):\n",
            " #   Column     Non-Null Count  Dtype \n",
            "---  ------     --------------  ----- \n",
            " 0   gender     198 non-null    object\n",
            " 1   area       198 non-null    object\n",
            " 2   title      198 non-null    object\n",
            " 3   salary     198 non-null    object\n",
            " 4   education  198 non-null    object\n",
            " 5   skill_set  198 non-null    object\n",
            " 6   skills     198 non-null    object\n",
            " 7   exp        198 non-null    object\n",
            " 8   spec_name  198 non-null    object\n",
            " 9   prior      198 non-null    object\n",
            "dtypes: object(10)\n",
            "memory usage: 17.0+ KB\n"
          ],
          "name": "stdout"
        }
      ]
    },
    {
      "cell_type": "code",
      "metadata": {
        "id": "rbuY6dfTOnoL"
      },
      "source": [
        "df.loc[df.education ==' Higher education', 'education'] = ' Высшее образование' # берем поле education, где education = Higher education"
      ],
      "execution_count": 64,
      "outputs": []
    },
    {
      "cell_type": "code",
      "metadata": {
        "colab": {
          "base_uri": "https://localhost:8080/"
        },
        "id": "VFMHjB1QP4jY",
        "outputId": "adb937e1-22c4-4cd0-8094-ef9e1ed9da2c"
      },
      "source": [
        "df['area'].value_counts()"
      ],
      "execution_count": 65,
      "outputs": [
        {
          "output_type": "execute_result",
          "data": {
            "text/plain": [
              "Москва             148\n",
              "Санкт-Петербург     64\n",
              "Краснодар           14\n",
              "Екатеринбург         8\n",
              "Челябинск            8\n",
              "                  ... \n",
              "Орел                 1\n",
              "Петрозаводск         1\n",
              "Татарск              1\n",
              "Павлодар             1\n",
              "Ставрополь           1\n",
              "Name: area, Length: 90, dtype: int64"
            ]
          },
          "metadata": {
            "tags": []
          },
          "execution_count": 65
        }
      ]
    },
    {
      "cell_type": "code",
      "metadata": {
        "colab": {
          "base_uri": "https://localhost:8080/"
        },
        "id": "6EzHPALMP4dT",
        "outputId": "04b2ce21-5d21-48b4-adac-58873cfc7e89"
      },
      "source": [
        "df['gender'].value_counts()"
      ],
      "execution_count": 66,
      "outputs": [
        {
          "output_type": "execute_result",
          "data": {
            "text/plain": [
              "Мужчина    347\n",
              "Женщина     29\n",
              "Male        12\n",
              "Female       2\n",
              "Name: gender, dtype: int64"
            ]
          },
          "metadata": {
            "tags": []
          },
          "execution_count": 66
        }
      ]
    },
    {
      "cell_type": "code",
      "metadata": {
        "id": "W0RYd-z9P4U9"
      },
      "source": [
        "df.loc[df.gender =='Male', 'gender'] = 'Мужчина'\r\n",
        "df.loc[df.gender =='Female', 'gender'] = 'Женщина'"
      ],
      "execution_count": 67,
      "outputs": []
    },
    {
      "cell_type": "code",
      "metadata": {
        "colab": {
          "base_uri": "https://localhost:8080/"
        },
        "id": "MjibjsCvQm3K",
        "outputId": "145d7b8b-4a09-47cf-bb35-91a7004604a8"
      },
      "source": [
        "df['gender'].value_counts()"
      ],
      "execution_count": 68,
      "outputs": [
        {
          "output_type": "execute_result",
          "data": {
            "text/plain": [
              "Мужчина    359\n",
              "Женщина     31\n",
              "Name: gender, dtype: int64"
            ]
          },
          "metadata": {
            "tags": []
          },
          "execution_count": 68
        }
      ]
    },
    {
      "cell_type": "code",
      "metadata": {
        "id": "yYFvtb9EQm1L"
      },
      "source": [
        "df = df.join(pd.get_dummies(df['gender']))"
      ],
      "execution_count": 69,
      "outputs": []
    },
    {
      "cell_type": "code",
      "metadata": {
        "id": "i3RhI0OEQmy1"
      },
      "source": [
        "df.drop('gender', axis = 1, inplace = True)"
      ],
      "execution_count": 70,
      "outputs": []
    },
    {
      "cell_type": "code",
      "metadata": {
        "id": "gUUW63rnQ7fU"
      },
      "source": [
        "areas = list(df['area'].unique())\r\n",
        "#df['area'].unique()\r\n",
        "#df['area'].value_counts()\r\n",
        "#df['area'].value_counts().index\r\n",
        "for i in range(len(areas)):\r\n",
        "  df.loc[df['area']==areas[i], 'area'] = i"
      ],
      "execution_count": 71,
      "outputs": []
    },
    {
      "cell_type": "code",
      "metadata": {
        "id": "4TJZeNNDR0Yg"
      },
      "source": [
        "titles = list(df['title'].unique())\r\n",
        "for i in range(len(titles)):\r\n",
        "  df.loc[df['title']==titles[i], 'title'] = i"
      ],
      "execution_count": 72,
      "outputs": []
    },
    {
      "cell_type": "code",
      "metadata": {
        "id": "pTPrhjyXSbVM"
      },
      "source": [
        "edus = list(df['education'].unique())\r\n",
        "for i in range(len(edus)):\r\n",
        "  df.loc[df['education']==edus[i], 'education'] = i"
      ],
      "execution_count": 73,
      "outputs": []
    },
    {
      "cell_type": "code",
      "metadata": {
        "colab": {
          "base_uri": "https://localhost:8080/",
          "height": 397
        },
        "id": "oVLbbPvySbN6",
        "outputId": "e6f583e9-6f9a-4f90-a6fb-e5118caa2f4c"
      },
      "source": [
        "df.head()"
      ],
      "execution_count": 74,
      "outputs": [
        {
          "output_type": "execute_result",
          "data": {
            "text/html": [
              "<div>\n",
              "<style scoped>\n",
              "    .dataframe tbody tr th:only-of-type {\n",
              "        vertical-align: middle;\n",
              "    }\n",
              "\n",
              "    .dataframe tbody tr th {\n",
              "        vertical-align: top;\n",
              "    }\n",
              "\n",
              "    .dataframe thead th {\n",
              "        text-align: right;\n",
              "    }\n",
              "</style>\n",
              "<table border=\"1\" class=\"dataframe\">\n",
              "  <thead>\n",
              "    <tr style=\"text-align: right;\">\n",
              "      <th></th>\n",
              "      <th>area</th>\n",
              "      <th>title</th>\n",
              "      <th>salary</th>\n",
              "      <th>education</th>\n",
              "      <th>skill_set</th>\n",
              "      <th>skills</th>\n",
              "      <th>exp</th>\n",
              "      <th>spec_name</th>\n",
              "      <th>prior</th>\n",
              "      <th>Женщина</th>\n",
              "      <th>Мужчина</th>\n",
              "    </tr>\n",
              "  </thead>\n",
              "  <tbody>\n",
              "    <tr>\n",
              "      <th>0</th>\n",
              "      <td>0</td>\n",
              "      <td>0</td>\n",
              "      <td>120000</td>\n",
              "      <td>0</td>\n",
              "      <td>[Машинное обучение, Data Mining, Data Analysis...</td>\n",
              "      <td>Ответственное отношение к учебе\\работе.  \\nОко...</td>\n",
              "      <td>[Программист C/С++]</td>\n",
              "      <td>[Программирование, Разработка, Аналитик]</td>\n",
              "      <td>1</td>\n",
              "      <td>0</td>\n",
              "      <td>1</td>\n",
              "    </tr>\n",
              "    <tr>\n",
              "      <th>1</th>\n",
              "      <td>0</td>\n",
              "      <td>1</td>\n",
              "      <td>None</td>\n",
              "      <td>1</td>\n",
              "      <td>[HTML, CSS, React-Native, JS6, Git, FireBase, ...</td>\n",
              "      <td>Из резюме удален весь нерелевантный опыт, чтоб...</td>\n",
              "      <td>[Разработчик React Native, Разработчик React N...</td>\n",
              "      <td>[Программирование, Разработка]</td>\n",
              "      <td>0</td>\n",
              "      <td>0</td>\n",
              "      <td>1</td>\n",
              "    </tr>\n",
              "    <tr>\n",
              "      <th>2</th>\n",
              "      <td>1</td>\n",
              "      <td>2</td>\n",
              "      <td>None</td>\n",
              "      <td>1</td>\n",
              "      <td>[HTML, CSS, PHP, Сборка ПК, Настройка ПК, MySQ...</td>\n",
              "      <td>Окончил университет СПБГУТ в Санкт-Петербурге ...</td>\n",
              "      <td>[Специалист технической поддержки, ИТ Специали...</td>\n",
              "      <td>[Банковское ПО, Программирование, Разработка, ...</td>\n",
              "      <td>0</td>\n",
              "      <td>0</td>\n",
              "      <td>1</td>\n",
              "    </tr>\n",
              "    <tr>\n",
              "      <th>3</th>\n",
              "      <td>1</td>\n",
              "      <td>3</td>\n",
              "      <td>None</td>\n",
              "      <td>2</td>\n",
              "      <td>[C#, Unity, Godot, SQL, MySQL, Git, .NET Frame...</td>\n",
              "      <td>Примеры моего кода и прочего\\nhttps://github.c...</td>\n",
              "      <td>[Оператор call-центра, Диспетчер технической п...</td>\n",
              "      <td>[Игровое ПО, Программирование, Разработка]</td>\n",
              "      <td>1</td>\n",
              "      <td>0</td>\n",
              "      <td>1</td>\n",
              "    </tr>\n",
              "    <tr>\n",
              "      <th>4</th>\n",
              "      <td>1</td>\n",
              "      <td>4</td>\n",
              "      <td>30000</td>\n",
              "      <td>1</td>\n",
              "      <td>[HTML5, CSS3, JavaScript, jQuery, CSS, Git, HT...</td>\n",
              "      <td>- Дипломы колледжа и бакалавра с отличием (кра...</td>\n",
              "      <td>[Junior  разработчик веб-интерфейсов, Оператор...</td>\n",
              "      <td>[Программирование, Разработка, Web инженер, We...</td>\n",
              "      <td>1</td>\n",
              "      <td>1</td>\n",
              "      <td>0</td>\n",
              "    </tr>\n",
              "  </tbody>\n",
              "</table>\n",
              "</div>"
            ],
            "text/plain": [
              "  area title  salary  ... prior Женщина Мужчина\n",
              "0    0     0  120000  ...     1       0       1\n",
              "1    0     1    None  ...     0       0       1\n",
              "2    1     2    None  ...     0       0       1\n",
              "3    1     3    None  ...     1       0       1\n",
              "4    1     4   30000  ...     1       1       0\n",
              "\n",
              "[5 rows x 11 columns]"
            ]
          },
          "metadata": {
            "tags": []
          },
          "execution_count": 74
        }
      ]
    },
    {
      "cell_type": "code",
      "metadata": {
        "colab": {
          "base_uri": "https://localhost:8080/",
          "height": 414
        },
        "id": "UvSV6gK3SbIv",
        "outputId": "18f06837-4bf0-4d96-d3c3-1278265bd2c0"
      },
      "source": [
        "df['spec_name'].value_counts() # данные ненужные"
      ],
      "execution_count": 75,
      "outputs": [
        {
          "output_type": "error",
          "ename": "TypeError",
          "evalue": "ignored",
          "traceback": [
            "\u001b[0;31m---------------------------------------------------------------------------\u001b[0m",
            "\u001b[0;31mTypeError\u001b[0m                                 Traceback (most recent call last)",
            "\u001b[0;32mpandas/_libs/hashtable_class_helper.pxi\u001b[0m in \u001b[0;36mpandas._libs.hashtable.PyObjectHashTable.map_locations\u001b[0;34m()\u001b[0m\n",
            "\u001b[0;31mTypeError\u001b[0m: unhashable type: 'list'"
          ]
        },
        {
          "output_type": "stream",
          "text": [
            "Exception ignored in: 'pandas._libs.index.IndexEngine._call_map_locations'\n",
            "Traceback (most recent call last):\n",
            "  File \"pandas/_libs/hashtable_class_helper.pxi\", line 1709, in pandas._libs.hashtable.PyObjectHashTable.map_locations\n",
            "TypeError: unhashable type: 'list'\n"
          ],
          "name": "stderr"
        },
        {
          "output_type": "execute_result",
          "data": {
            "text/plain": [
              "[Программирование, Разработка]                                                    89\n",
              "[Программирование, Разработка, Web инженер, Web мастер]                           43\n",
              "[Программирование, Разработка, Инженер]                                           39\n",
              "[Игровое ПО, Программирование, Разработка]                                        11\n",
              "[Программирование, Разработка, Аналитик]                                          10\n",
              "                                                                                  ..\n",
              "[Программирование, Разработка, Web мастер, Стартапы]                               1\n",
              "[Программирование, Разработка, Web инженер, Аналитик]                              1\n",
              "[Программирование, Разработка, Системная интеграция, Системный администратор]      1\n",
              "[Программирование, Разработка, Компьютерная безопасность, Поддержка, Helpdesk]     1\n",
              "[Software Development, Project Management]                                         1\n",
              "Name: spec_name, Length: 116, dtype: int64"
            ]
          },
          "metadata": {
            "tags": []
          },
          "execution_count": 75
        }
      ]
    },
    {
      "cell_type": "code",
      "metadata": {
        "id": "dSxmJ5aIR0Vd"
      },
      "source": [
        "df.drop('spec_name', axis = 1, inplace = True)"
      ],
      "execution_count": 76,
      "outputs": []
    },
    {
      "cell_type": "code",
      "metadata": {
        "colab": {
          "base_uri": "https://localhost:8080/",
          "height": 94
        },
        "id": "BEZEX7vuR0OM",
        "outputId": "7e6e64ff-926e-4da7-d936-ae67146371be"
      },
      "source": [
        "df.head(1)"
      ],
      "execution_count": 77,
      "outputs": [
        {
          "output_type": "execute_result",
          "data": {
            "text/html": [
              "<div>\n",
              "<style scoped>\n",
              "    .dataframe tbody tr th:only-of-type {\n",
              "        vertical-align: middle;\n",
              "    }\n",
              "\n",
              "    .dataframe tbody tr th {\n",
              "        vertical-align: top;\n",
              "    }\n",
              "\n",
              "    .dataframe thead th {\n",
              "        text-align: right;\n",
              "    }\n",
              "</style>\n",
              "<table border=\"1\" class=\"dataframe\">\n",
              "  <thead>\n",
              "    <tr style=\"text-align: right;\">\n",
              "      <th></th>\n",
              "      <th>area</th>\n",
              "      <th>title</th>\n",
              "      <th>salary</th>\n",
              "      <th>education</th>\n",
              "      <th>skill_set</th>\n",
              "      <th>skills</th>\n",
              "      <th>exp</th>\n",
              "      <th>prior</th>\n",
              "      <th>Женщина</th>\n",
              "      <th>Мужчина</th>\n",
              "    </tr>\n",
              "  </thead>\n",
              "  <tbody>\n",
              "    <tr>\n",
              "      <th>0</th>\n",
              "      <td>0</td>\n",
              "      <td>0</td>\n",
              "      <td>120000</td>\n",
              "      <td>0</td>\n",
              "      <td>[Машинное обучение, Data Mining, Data Analysis...</td>\n",
              "      <td>Ответственное отношение к учебе\\работе.  \\nОко...</td>\n",
              "      <td>[Программист C/С++]</td>\n",
              "      <td>1</td>\n",
              "      <td>0</td>\n",
              "      <td>1</td>\n",
              "    </tr>\n",
              "  </tbody>\n",
              "</table>\n",
              "</div>"
            ],
            "text/plain": [
              "  area title  salary education  ...                  exp prior Женщина Мужчина\n",
              "0    0     0  120000         0  ...  [Программист C/С++]     1       0       1\n",
              "\n",
              "[1 rows x 10 columns]"
            ]
          },
          "metadata": {
            "tags": []
          },
          "execution_count": 77
        }
      ]
    },
    {
      "cell_type": "code",
      "metadata": {
        "colab": {
          "base_uri": "https://localhost:8080/"
        },
        "id": "ubBTTIVJRKT3",
        "outputId": "ac07c8ab-67e7-418d-8e9a-d0fa1af4ec25"
      },
      "source": [
        "df['skill_set']"
      ],
      "execution_count": 79,
      "outputs": [
        {
          "output_type": "execute_result",
          "data": {
            "text/plain": [
              "0      [Машинное обучение, Data Mining, Data Analysis...\n",
              "1      [HTML, CSS, React-Native, JS6, Git, FireBase, ...\n",
              "2      [HTML, CSS, PHP, Сборка ПК, Настройка ПК, MySQ...\n",
              "3      [C#, Unity, Godot, SQL, MySQL, Git, .NET Frame...\n",
              "4      [HTML5, CSS3, JavaScript, jQuery, CSS, Git, HT...\n",
              "                             ...                        \n",
              "385    [Пользователь ПК, MS Office, Работа в команде,...\n",
              "386    [Unix, Администрирование серверов Linux, Unix ...\n",
              "387    [Python, C/C++, Qt, MySQL, pytorch, OpenCV, Ma...\n",
              "388    [1C: Бухгалтерия, MS SharePoint, Symantec Anti...\n",
              "389                                                   []\n",
              "Name: skill_set, Length: 390, dtype: object"
            ]
          },
          "metadata": {
            "tags": []
          },
          "execution_count": 79
        }
      ]
    },
    {
      "cell_type": "code",
      "metadata": {
        "id": "dfcUYt74RKRu"
      },
      "source": [
        "import numpy as np\r\n",
        "#поиск по скиллам\r\n",
        "def skill_search(col, skills):\r\n",
        "  \"\"\"\r\n",
        "  Функция для поиска ключевых слов в резюме\r\n",
        "  \"\"\"\r\n",
        "  for skill in skills:\r\n",
        "    df[skill] = 0 # создание столбца с названием skill \r\n",
        "    skilled_ids = df[col].apply(lambda x: x if skill in str(x).lower() \r\n",
        "                                else np.nan).dropna().index # все айди людей с этим скиллом\r\n",
        "    df.loc[df.index.isin(skilled_ids), skill] = 1 # если индекс равен ид из skilled_ids, в столбце skill получают 1\r\n"
      ],
      "execution_count": 82,
      "outputs": []
    },
    {
      "cell_type": "code",
      "metadata": {
        "id": "agmO2RenRKPC"
      },
      "source": [
        "skills_for_candidates = ['английский']\r\n",
        "col = 'skills'\r\n",
        "skill_search(col, skills_for_candidates)"
      ],
      "execution_count": 83,
      "outputs": []
    },
    {
      "cell_type": "code",
      "metadata": {
        "id": "YkNEjmxSRKMT"
      },
      "source": [
        "exp = ['программист c', '++', 'react']\r\n",
        "col = 'exp'\r\n",
        "skill_search(col, exp)"
      ],
      "execution_count": 87,
      "outputs": []
    },
    {
      "cell_type": "code",
      "metadata": {
        "colab": {
          "base_uri": "https://localhost:8080/",
          "height": 198
        },
        "id": "4_S18OuiU-6o",
        "outputId": "80988f50-4435-4179-be6e-f25f77aa1d38"
      },
      "source": [
        "df.head(1)"
      ],
      "execution_count": 88,
      "outputs": [
        {
          "output_type": "execute_result",
          "data": {
            "text/html": [
              "<div>\n",
              "<style scoped>\n",
              "    .dataframe tbody tr th:only-of-type {\n",
              "        vertical-align: middle;\n",
              "    }\n",
              "\n",
              "    .dataframe tbody tr th {\n",
              "        vertical-align: top;\n",
              "    }\n",
              "\n",
              "    .dataframe thead th {\n",
              "        text-align: right;\n",
              "    }\n",
              "</style>\n",
              "<table border=\"1\" class=\"dataframe\">\n",
              "  <thead>\n",
              "    <tr style=\"text-align: right;\">\n",
              "      <th></th>\n",
              "      <th>area</th>\n",
              "      <th>title</th>\n",
              "      <th>salary</th>\n",
              "      <th>education</th>\n",
              "      <th>skill_set</th>\n",
              "      <th>skills</th>\n",
              "      <th>exp</th>\n",
              "      <th>prior</th>\n",
              "      <th>Женщина</th>\n",
              "      <th>Мужчина</th>\n",
              "      <th>английский</th>\n",
              "      <th>программист с</th>\n",
              "      <th>++</th>\n",
              "      <th>react</th>\n",
              "      <th>программист c</th>\n",
              "    </tr>\n",
              "  </thead>\n",
              "  <tbody>\n",
              "    <tr>\n",
              "      <th>0</th>\n",
              "      <td>0</td>\n",
              "      <td>0</td>\n",
              "      <td>120000</td>\n",
              "      <td>0</td>\n",
              "      <td>[Машинное обучение, Data Mining, Data Analysis...</td>\n",
              "      <td>Ответственное отношение к учебе\\работе.  \\nОко...</td>\n",
              "      <td>[Программист C/С++]</td>\n",
              "      <td>1</td>\n",
              "      <td>0</td>\n",
              "      <td>1</td>\n",
              "      <td>0</td>\n",
              "      <td>0</td>\n",
              "      <td>1</td>\n",
              "      <td>0</td>\n",
              "      <td>1</td>\n",
              "    </tr>\n",
              "  </tbody>\n",
              "</table>\n",
              "</div>"
            ],
            "text/plain": [
              "  area title  salary education  ... программист с ++ react программист c\n",
              "0    0     0  120000         0  ...             0  1     0             1\n",
              "\n",
              "[1 rows x 15 columns]"
            ]
          },
          "metadata": {
            "tags": []
          },
          "execution_count": 88
        }
      ]
    },
    {
      "cell_type": "code",
      "metadata": {
        "id": "qvNH9c5kU-28"
      },
      "source": [
        "skills = ['машинное обучение', 'sql', 'data mining']\r\n",
        "col = 'skill_set'\r\n",
        "skill_search(col, skills)"
      ],
      "execution_count": 89,
      "outputs": []
    },
    {
      "cell_type": "code",
      "metadata": {
        "id": "GZItg9APU-zr"
      },
      "source": [
        "df.drop(['skill_set', 'skills', 'exp', 'программист с'], axis = 1, inplace = True)"
      ],
      "execution_count": 91,
      "outputs": []
    },
    {
      "cell_type": "code",
      "metadata": {
        "id": "z3gm3PFxVlXB"
      },
      "source": [
        "df.fillna(0,inplace = True)"
      ],
      "execution_count": 92,
      "outputs": []
    },
    {
      "cell_type": "code",
      "metadata": {
        "id": "RMssLKCOVlUt"
      },
      "source": [
        "x = df.drop('prior', axis = 1)\r\n",
        "y = df['prior']"
      ],
      "execution_count": 93,
      "outputs": []
    },
    {
      "cell_type": "code",
      "metadata": {
        "id": "8EGeNhWKVlSL"
      },
      "source": [
        "from sklearn.model_selection import train_test_split\r\n",
        "\r\n",
        "x_tr, x_ts, y_tr, y_ts = train_test_split(x, y, test_size = .3, random_state =1)"
      ],
      "execution_count": 94,
      "outputs": []
    },
    {
      "cell_type": "code",
      "metadata": {
        "colab": {
          "base_uri": "https://localhost:8080/"
        },
        "id": "dg8Rn4UcV_9R",
        "outputId": "aafc9947-5856-4c29-a77e-ddf73abb9e46"
      },
      "source": [
        "from sklearn.ensemble import RandomForestClassifier\r\n",
        "\r\n",
        "rfc = RandomForestClassifier()\r\n",
        "rfc.fit(x_tr, y_tr)"
      ],
      "execution_count": 95,
      "outputs": [
        {
          "output_type": "execute_result",
          "data": {
            "text/plain": [
              "RandomForestClassifier(bootstrap=True, ccp_alpha=0.0, class_weight=None,\n",
              "                       criterion='gini', max_depth=None, max_features='auto',\n",
              "                       max_leaf_nodes=None, max_samples=None,\n",
              "                       min_impurity_decrease=0.0, min_impurity_split=None,\n",
              "                       min_samples_leaf=1, min_samples_split=2,\n",
              "                       min_weight_fraction_leaf=0.0, n_estimators=100,\n",
              "                       n_jobs=None, oob_score=False, random_state=None,\n",
              "                       verbose=0, warm_start=False)"
            ]
          },
          "metadata": {
            "tags": []
          },
          "execution_count": 95
        }
      ]
    },
    {
      "cell_type": "code",
      "metadata": {
        "id": "shru9CFKV_7P"
      },
      "source": [
        "proba = pd.DataFrame(rfc.predict_proba(x_ts))[1]\r\n",
        "#predict выводил либо 0, либо 1, predict_proba выводит вероятность для каждого пройти или не пройти"
      ],
      "execution_count": 101,
      "outputs": []
    },
    {
      "cell_type": "code",
      "metadata": {
        "colab": {
          "base_uri": "https://localhost:8080/"
        },
        "id": "FpZElF_PWvci",
        "outputId": "e3185136-1dee-47c5-b574-ff92bf280cb4"
      },
      "source": [
        "rfc.predict(x_ts)"
      ],
      "execution_count": 103,
      "outputs": [
        {
          "output_type": "execute_result",
          "data": {
            "text/plain": [
              "array([0, 0, 0, 1, 0, 1, 1, 1, 1, 1, 1, 0, 1, 1, 0, 0, 0, 1, 1, 1, 1, 0,\n",
              "       1, 1, 1, 1, 1, 1, 0, 0, 0, 0, 0, 1, 0, 1, 0, 0, 0, 0, 1, 1, 0, 0,\n",
              "       1, 1, 0, 1, 0, 0, 0, 0, 0, 0, 1, 1, 0, 0, 0, 0, 1, 0, 1, 1, 1, 1,\n",
              "       1, 1, 1, 1, 0, 1, 1, 1, 0, 0, 1, 0, 1, 0, 0, 0, 1, 1, 1, 0, 0, 1,\n",
              "       1, 1, 1, 1, 0, 0, 0, 0, 0, 0, 1, 1, 0, 1, 1, 1, 0, 1, 1, 0, 0, 1,\n",
              "       1, 1, 1, 1, 0, 0, 1])"
            ]
          },
          "metadata": {
            "tags": []
          },
          "execution_count": 103
        }
      ]
    },
    {
      "cell_type": "code",
      "metadata": {
        "colab": {
          "base_uri": "https://localhost:8080/"
        },
        "id": "PB9Q7US4V_4j",
        "outputId": "aec1d991-ef3e-4850-d919-3df176a7e7cd"
      },
      "source": [
        "proba[:20]"
      ],
      "execution_count": 104,
      "outputs": [
        {
          "output_type": "execute_result",
          "data": {
            "text/plain": [
              "0     0.47\n",
              "1     0.28\n",
              "2     0.24\n",
              "3     0.74\n",
              "4     0.42\n",
              "5     0.56\n",
              "6     0.73\n",
              "7     0.87\n",
              "8     0.76\n",
              "9     0.71\n",
              "10    0.82\n",
              "11    0.40\n",
              "12    0.76\n",
              "13    0.57\n",
              "14    0.49\n",
              "15    0.29\n",
              "16    0.28\n",
              "17    0.60\n",
              "18    0.67\n",
              "19    0.62\n",
              "Name: 1, dtype: float64"
            ]
          },
          "metadata": {
            "tags": []
          },
          "execution_count": 104
        }
      ]
    },
    {
      "cell_type": "code",
      "metadata": {
        "colab": {
          "base_uri": "https://localhost:8080/"
        },
        "id": "HkfI28eaV_1l",
        "outputId": "4c21773b-47b4-46fd-b06c-e099ef2a1e76"
      },
      "source": [
        "from sklearn.metrics import accuracy_score # количество попаданий\r\n",
        "\r\n",
        "accuracy_score(rfc.predict(x_ts), y_ts) # 50% потому что prior расставлен рандомно"
      ],
      "execution_count": 105,
      "outputs": [
        {
          "output_type": "execute_result",
          "data": {
            "text/plain": [
              "0.4700854700854701"
            ]
          },
          "metadata": {
            "tags": []
          },
          "execution_count": 105
        }
      ]
    }
  ]
}