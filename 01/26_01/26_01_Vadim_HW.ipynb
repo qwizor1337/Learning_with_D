{
  "nbformat": 4,
  "nbformat_minor": 0,
  "metadata": {
    "colab": {
      "name": "26_01.ipynb",
      "provenance": [],
      "collapsed_sections": [],
      "toc_visible": true
    },
    "kernelspec": {
      "name": "python3",
      "display_name": "Python 3"
    }
  },
  "cells": [
    {
      "cell_type": "markdown",
      "metadata": {
        "id": "CfpzRE2YpG7M"
      },
      "source": [
        "# Импортирование библиотек/данных"
      ]
    },
    {
      "cell_type": "code",
      "metadata": {
        "id": "tKxm2cPapGCp"
      },
      "source": [
        "import pandas as pd\r\n",
        "import json"
      ],
      "execution_count": null,
      "outputs": []
    },
    {
      "cell_type": "code",
      "metadata": {
        "id": "_UOzhqfQKkjn"
      },
      "source": [
        "with open('data_file_it.json') as f:\r\n",
        "    data = json.load(f)"
      ],
      "execution_count": 793,
      "outputs": []
    },
    {
      "cell_type": "code",
      "metadata": {
        "id": "VToMyN9-Kkbw"
      },
      "source": [
        "#data[0]['education'][1]['name']\r\n",
        "#data[0]\r\n",
        "#data[17]['skills']"
      ],
      "execution_count": 794,
      "outputs": []
    },
    {
      "cell_type": "code",
      "metadata": {
        "id": "MlbtUTv0LJFV"
      },
      "source": [
        "gender = []\r\n",
        "area = []\r\n",
        "title = []\r\n",
        "salary =[]\r\n",
        "edu = []\r\n",
        "exp =[]\r\n",
        "skill_set = []\r\n",
        "skills = []\r\n",
        "\r\n",
        "for resume in data:\r\n",
        "  gender.append(resume['gender'])\r\n",
        "  area.append(resume['area'])\r\n",
        "  title.append(resume['title'])\r\n",
        "  salary.append(resume['salary']['amount'])\r\n",
        "  edu.append(resume['education_level'])\r\n",
        "  skill_set.append(resume['skill_set'])\r\n",
        "  skills.append(resume['skills'])\r\n",
        "\r\n",
        "  exp_temp = []\r\n",
        "  for i in range(len(resume['experience'])):\r\n",
        "    exp_temp.append(resume['experience'][i]['position'])\r\n",
        "  exp.append(exp_temp)\r\n",
        " "
      ],
      "execution_count": 795,
      "outputs": []
    },
    {
      "cell_type": "code",
      "metadata": {
        "id": "92F3ylNlLLFz"
      },
      "source": [
        "df = pd.DataFrame([gender, area, title, salary, edu, skill_set, skills, exp]).transpose()"
      ],
      "execution_count": 796,
      "outputs": []
    },
    {
      "cell_type": "code",
      "metadata": {
        "colab": {
          "base_uri": "https://localhost:8080/",
          "height": 289
        },
        "id": "2CgErQ4jLLAZ",
        "outputId": "6f60f0d5-b49e-43b5-dd8b-f3564ddef2db"
      },
      "source": [
        "df.head()"
      ],
      "execution_count": 797,
      "outputs": [
        {
          "output_type": "execute_result",
          "data": {
            "text/html": [
              "<div>\n",
              "<style scoped>\n",
              "    .dataframe tbody tr th:only-of-type {\n",
              "        vertical-align: middle;\n",
              "    }\n",
              "\n",
              "    .dataframe tbody tr th {\n",
              "        vertical-align: top;\n",
              "    }\n",
              "\n",
              "    .dataframe thead th {\n",
              "        text-align: right;\n",
              "    }\n",
              "</style>\n",
              "<table border=\"1\" class=\"dataframe\">\n",
              "  <thead>\n",
              "    <tr style=\"text-align: right;\">\n",
              "      <th></th>\n",
              "      <th>0</th>\n",
              "      <th>1</th>\n",
              "      <th>2</th>\n",
              "      <th>3</th>\n",
              "      <th>4</th>\n",
              "      <th>5</th>\n",
              "      <th>6</th>\n",
              "      <th>7</th>\n",
              "    </tr>\n",
              "  </thead>\n",
              "  <tbody>\n",
              "    <tr>\n",
              "      <th>0</th>\n",
              "      <td>Мужчина</td>\n",
              "      <td>Москва</td>\n",
              "      <td>Специалист по машинному обучению</td>\n",
              "      <td>120000</td>\n",
              "      <td>Высшее образование (Магистр)</td>\n",
              "      <td>[Машинное обучение, Data Mining, Data Analysis...</td>\n",
              "      <td>Ответственное отношение к учебе\\работе.  \\nОко...</td>\n",
              "      <td>[Программист C/С++]</td>\n",
              "    </tr>\n",
              "    <tr>\n",
              "      <th>1</th>\n",
              "      <td>Мужчина</td>\n",
              "      <td>Москва</td>\n",
              "      <td>Разработчик React-Native JavaScript  (Redux)</td>\n",
              "      <td>None</td>\n",
              "      <td>Высшее образование</td>\n",
              "      <td>[HTML, CSS, React-Native, JS6, Git, FireBase, ...</td>\n",
              "      <td>Из резюме удален весь нерелевантный опыт, чтоб...</td>\n",
              "      <td>[Разработчик React Native, Разработчик React N...</td>\n",
              "    </tr>\n",
              "    <tr>\n",
              "      <th>2</th>\n",
              "      <td>Мужчина</td>\n",
              "      <td>Санкт-Петербург</td>\n",
              "      <td>ИТ-специалист</td>\n",
              "      <td>None</td>\n",
              "      <td>Высшее образование</td>\n",
              "      <td>[HTML, CSS, PHP, Сборка ПК, Настройка ПК, MySQ...</td>\n",
              "      <td>Окончил университет СПБГУТ в Санкт-Петербурге ...</td>\n",
              "      <td>[Специалист технической поддержки, ИТ Специали...</td>\n",
              "    </tr>\n",
              "    <tr>\n",
              "      <th>3</th>\n",
              "      <td>Мужчина</td>\n",
              "      <td>Санкт-Петербург</td>\n",
              "      <td>Программист C#</td>\n",
              "      <td>None</td>\n",
              "      <td>Среднее образование</td>\n",
              "      <td>[C#, Unity, Godot, SQL, MySQL, Git, .NET Frame...</td>\n",
              "      <td>Примеры моего кода и прочего\\nhttps://github.c...</td>\n",
              "      <td>[Оператор call-центра, Диспетчер технической п...</td>\n",
              "    </tr>\n",
              "    <tr>\n",
              "      <th>4</th>\n",
              "      <td>Женщина</td>\n",
              "      <td>Санкт-Петербург</td>\n",
              "      <td>Frontend-разработчик (JavaScript) junior</td>\n",
              "      <td>30000</td>\n",
              "      <td>Высшее образование</td>\n",
              "      <td>[HTML5, CSS3, JavaScript, jQuery, CSS, Git, HT...</td>\n",
              "      <td>- Дипломы колледжа и бакалавра с отличием (кра...</td>\n",
              "      <td>[Junior  разработчик веб-интерфейсов, Оператор...</td>\n",
              "    </tr>\n",
              "  </tbody>\n",
              "</table>\n",
              "</div>"
            ],
            "text/plain": [
              "         0  ...                                                  7\n",
              "0  Мужчина  ...                                [Программист C/С++]\n",
              "1  Мужчина  ...  [Разработчик React Native, Разработчик React N...\n",
              "2  Мужчина  ...  [Специалист технической поддержки, ИТ Специали...\n",
              "3  Мужчина  ...  [Оператор call-центра, Диспетчер технической п...\n",
              "4  Женщина  ...  [Junior  разработчик веб-интерфейсов, Оператор...\n",
              "\n",
              "[5 rows x 8 columns]"
            ]
          },
          "metadata": {
            "tags": []
          },
          "execution_count": 797
        }
      ]
    },
    {
      "cell_type": "code",
      "metadata": {
        "id": "42H4criZLK4e"
      },
      "source": [
        "#gender, area, title, salary, edu, skill_set, skills, exp, spec_name, prior\r\n",
        "df.rename(columns={0:'gender', 1:'area', 2:'title', 3:'salary',\r\n",
        "                   4: 'education', 5:'skill_set', 6: 'skills', 7:'exp', 8:'spec_name'\r\n",
        "                    }, inplace = True)"
      ],
      "execution_count": 798,
      "outputs": []
    },
    {
      "cell_type": "markdown",
      "metadata": {
        "id": "6s5LfOclOaB9"
      },
      "source": [
        "# Очистка данных\r\n"
      ]
    },
    {
      "cell_type": "code",
      "metadata": {
        "colab": {
          "base_uri": "https://localhost:8080/"
        },
        "id": "58H4KJmyNRZD",
        "outputId": "82e476a1-f2e0-4494-fde3-c0f619959229"
      },
      "source": [
        "df['education'].value_counts()"
      ],
      "execution_count": 799,
      "outputs": [
        {
          "output_type": "execute_result",
          "data": {
            "text/plain": [
              "Высшее образование                    198\n",
              "Неоконченное высшее образование        51\n",
              "Высшее образование (Магистр)           36\n",
              "Высшее образование (Бакалавр)          34\n",
              "Среднее специальное образование        34\n",
              "Образование                            16\n",
              "Higher education                        5\n",
              "Среднее образование                     4\n",
              "Higher education (bachelor)             4\n",
              "Высшее образование (Кандидат наук)      3\n",
              "Education                               2\n",
              "Secondary special education             2\n",
              "Secondary education                     1\n",
              "Name: education, dtype: int64"
            ]
          },
          "metadata": {
            "tags": []
          },
          "execution_count": 799
        }
      ]
    },
    {
      "cell_type": "code",
      "metadata": {
        "id": "rbuY6dfTOnoL"
      },
      "source": [
        "#Приведение поля с образованием к единому виду\r\n",
        "df.loc[df.education =='Higher education', 'education'] = 'Высшее образование' # берем поле education, где education = Higher education\r\n",
        "df.loc[df.education =='Высшее образование (Магистр)', 'education'] = 'Высшее образование'\r\n",
        "df.loc[df.education =='Высшее образование (Бакалавр)', 'education'] = 'Высшее образование'\r\n",
        "df.loc[df.education =='Higher education (bachelor)', 'education'] = 'Высшее образование'\r\n",
        "df.loc[df.education =='Высшее образование (Кандидат наук)', 'education'] = 'Высшее образование'\r\n",
        "df.loc[df.education =='Secondary special education', 'education'] = 'Среднее образование'\r\n",
        "df.loc[df.education =='Secondary education', 'education'] = 'Среднее образование'\r\n",
        "df.loc[df.education =='Education', 'education'] = 'Среднее образование'"
      ],
      "execution_count": 800,
      "outputs": []
    },
    {
      "cell_type": "code",
      "metadata": {
        "id": "kXA6MlHfQncL"
      },
      "source": [
        ""
      ],
      "execution_count": 800,
      "outputs": []
    },
    {
      "cell_type": "code",
      "metadata": {
        "colab": {
          "base_uri": "https://localhost:8080/"
        },
        "id": "efWeMVg_Pxbk",
        "outputId": "d362115e-b77f-41f6-d8c9-e9313ebb4c89"
      },
      "source": [
        "df['education'].value_counts()"
      ],
      "execution_count": 801,
      "outputs": [
        {
          "output_type": "execute_result",
          "data": {
            "text/plain": [
              "Высшее образование                 280\n",
              "Неоконченное высшее образование     51\n",
              "Среднее специальное образование     34\n",
              "Образование                         16\n",
              "Среднее образование                  9\n",
              "Name: education, dtype: int64"
            ]
          },
          "metadata": {
            "tags": []
          },
          "execution_count": 801
        }
      ]
    },
    {
      "cell_type": "code",
      "metadata": {
        "colab": {
          "base_uri": "https://localhost:8080/"
        },
        "id": "VFMHjB1QP4jY",
        "outputId": "20274fb3-242f-4cd4-ecad-4e49289baf47"
      },
      "source": [
        "df['area'].value_counts()"
      ],
      "execution_count": 802,
      "outputs": [
        {
          "output_type": "execute_result",
          "data": {
            "text/plain": [
              "Москва             148\n",
              "Санкт-Петербург     64\n",
              "Краснодар           14\n",
              "Челябинск            8\n",
              "Екатеринбург         8\n",
              "                  ... \n",
              "Долгопрудный         1\n",
              "Новороссийск         1\n",
              "Раменское            1\n",
              "Ufa                  1\n",
              "Вологда              1\n",
              "Name: area, Length: 90, dtype: int64"
            ]
          },
          "metadata": {
            "tags": []
          },
          "execution_count": 802
        }
      ]
    },
    {
      "cell_type": "code",
      "metadata": {
        "id": "vKYTMOwfSyJF"
      },
      "source": [
        "#Приведение поля с городом к единому виду\r\n",
        "df['area'] = df['area'].apply(lambda x: x if x=='Москва' or x=='Санкт-Петербург' else 'Регионы')"
      ],
      "execution_count": 803,
      "outputs": []
    },
    {
      "cell_type": "code",
      "metadata": {
        "colab": {
          "base_uri": "https://localhost:8080/"
        },
        "id": "cqvy334RSvsi",
        "outputId": "473d0db2-5e1d-4b5e-9622-9b48ec3a4a16"
      },
      "source": [
        "df['area'].value_counts()"
      ],
      "execution_count": 804,
      "outputs": [
        {
          "output_type": "execute_result",
          "data": {
            "text/plain": [
              "Регионы            178\n",
              "Москва             148\n",
              "Санкт-Петербург     64\n",
              "Name: area, dtype: int64"
            ]
          },
          "metadata": {
            "tags": []
          },
          "execution_count": 804
        }
      ]
    },
    {
      "cell_type": "code",
      "metadata": {
        "colab": {
          "base_uri": "https://localhost:8080/"
        },
        "id": "6EzHPALMP4dT",
        "outputId": "d5886cd4-31ed-488b-dbf7-27b7cba31aeb"
      },
      "source": [
        "df['gender'].value_counts()"
      ],
      "execution_count": 805,
      "outputs": [
        {
          "output_type": "execute_result",
          "data": {
            "text/plain": [
              "Мужчина    347\n",
              "Женщина     29\n",
              "Male        12\n",
              "Female       2\n",
              "Name: gender, dtype: int64"
            ]
          },
          "metadata": {
            "tags": []
          },
          "execution_count": 805
        }
      ]
    },
    {
      "cell_type": "code",
      "metadata": {
        "id": "W0RYd-z9P4U9"
      },
      "source": [
        "df.loc[df.gender =='Male', 'gender'] = 'Мужчина'\r\n",
        "df.loc[df.gender =='Female', 'gender'] = 'Женщина'"
      ],
      "execution_count": 806,
      "outputs": []
    },
    {
      "cell_type": "code",
      "metadata": {
        "colab": {
          "base_uri": "https://localhost:8080/"
        },
        "id": "MjibjsCvQm3K",
        "outputId": "b246c7a8-7f61-43a0-a981-937234d9e9d1"
      },
      "source": [
        "df['gender'].value_counts()"
      ],
      "execution_count": 807,
      "outputs": [
        {
          "output_type": "execute_result",
          "data": {
            "text/plain": [
              "Мужчина    359\n",
              "Женщина     31\n",
              "Name: gender, dtype: int64"
            ]
          },
          "metadata": {
            "tags": []
          },
          "execution_count": 807
        }
      ]
    },
    {
      "cell_type": "code",
      "metadata": {
        "id": "yYFvtb9EQm1L"
      },
      "source": [
        "df = df.join(pd.get_dummies(df['gender']))"
      ],
      "execution_count": 808,
      "outputs": []
    },
    {
      "cell_type": "code",
      "metadata": {
        "id": "i3RhI0OEQmy1"
      },
      "source": [
        "df.drop('gender', axis = 1, inplace = True)"
      ],
      "execution_count": 809,
      "outputs": []
    },
    {
      "cell_type": "code",
      "metadata": {
        "id": "gUUW63rnQ7fU"
      },
      "source": [
        "areas = list(df['area'].unique())\r\n",
        "#df['area'].unique()\r\n",
        "#df['area'].value_counts()\r\n",
        "#df['area'].value_counts().index\r\n",
        "for i in range(len(areas)):\r\n",
        "  df.loc[df['area']==areas[i], 'area'] = i"
      ],
      "execution_count": 810,
      "outputs": []
    },
    {
      "cell_type": "code",
      "metadata": {
        "id": "4TJZeNNDR0Yg"
      },
      "source": [
        "titles = list(df['title'].unique())\r\n",
        "for i in range(len(titles)):\r\n",
        "  df.loc[df['title']==titles[i], 'title'] = i"
      ],
      "execution_count": 811,
      "outputs": []
    },
    {
      "cell_type": "code",
      "metadata": {
        "id": "pTPrhjyXSbVM"
      },
      "source": [
        "edus = list(df['education'].unique())\r\n",
        "for i in range(len(edus)):\r\n",
        "  df.loc[df['education']==edus[i], 'education'] = i"
      ],
      "execution_count": 812,
      "outputs": []
    },
    {
      "cell_type": "code",
      "metadata": {
        "colab": {
          "base_uri": "https://localhost:8080/",
          "height": 204
        },
        "id": "oVLbbPvySbN6",
        "outputId": "8a06b469-ba0d-4b5d-9608-b2c36c0012dc"
      },
      "source": [
        "df.head()"
      ],
      "execution_count": 813,
      "outputs": [
        {
          "output_type": "execute_result",
          "data": {
            "text/html": [
              "<div>\n",
              "<style scoped>\n",
              "    .dataframe tbody tr th:only-of-type {\n",
              "        vertical-align: middle;\n",
              "    }\n",
              "\n",
              "    .dataframe tbody tr th {\n",
              "        vertical-align: top;\n",
              "    }\n",
              "\n",
              "    .dataframe thead th {\n",
              "        text-align: right;\n",
              "    }\n",
              "</style>\n",
              "<table border=\"1\" class=\"dataframe\">\n",
              "  <thead>\n",
              "    <tr style=\"text-align: right;\">\n",
              "      <th></th>\n",
              "      <th>area</th>\n",
              "      <th>title</th>\n",
              "      <th>salary</th>\n",
              "      <th>education</th>\n",
              "      <th>skill_set</th>\n",
              "      <th>skills</th>\n",
              "      <th>exp</th>\n",
              "      <th>Женщина</th>\n",
              "      <th>Мужчина</th>\n",
              "    </tr>\n",
              "  </thead>\n",
              "  <tbody>\n",
              "    <tr>\n",
              "      <th>0</th>\n",
              "      <td>0</td>\n",
              "      <td>0</td>\n",
              "      <td>120000</td>\n",
              "      <td>0</td>\n",
              "      <td>[Машинное обучение, Data Mining, Data Analysis...</td>\n",
              "      <td>Ответственное отношение к учебе\\работе.  \\nОко...</td>\n",
              "      <td>[Программист C/С++]</td>\n",
              "      <td>0</td>\n",
              "      <td>1</td>\n",
              "    </tr>\n",
              "    <tr>\n",
              "      <th>1</th>\n",
              "      <td>0</td>\n",
              "      <td>1</td>\n",
              "      <td>None</td>\n",
              "      <td>0</td>\n",
              "      <td>[HTML, CSS, React-Native, JS6, Git, FireBase, ...</td>\n",
              "      <td>Из резюме удален весь нерелевантный опыт, чтоб...</td>\n",
              "      <td>[Разработчик React Native, Разработчик React N...</td>\n",
              "      <td>0</td>\n",
              "      <td>1</td>\n",
              "    </tr>\n",
              "    <tr>\n",
              "      <th>2</th>\n",
              "      <td>1</td>\n",
              "      <td>2</td>\n",
              "      <td>None</td>\n",
              "      <td>0</td>\n",
              "      <td>[HTML, CSS, PHP, Сборка ПК, Настройка ПК, MySQ...</td>\n",
              "      <td>Окончил университет СПБГУТ в Санкт-Петербурге ...</td>\n",
              "      <td>[Специалист технической поддержки, ИТ Специали...</td>\n",
              "      <td>0</td>\n",
              "      <td>1</td>\n",
              "    </tr>\n",
              "    <tr>\n",
              "      <th>3</th>\n",
              "      <td>1</td>\n",
              "      <td>3</td>\n",
              "      <td>None</td>\n",
              "      <td>1</td>\n",
              "      <td>[C#, Unity, Godot, SQL, MySQL, Git, .NET Frame...</td>\n",
              "      <td>Примеры моего кода и прочего\\nhttps://github.c...</td>\n",
              "      <td>[Оператор call-центра, Диспетчер технической п...</td>\n",
              "      <td>0</td>\n",
              "      <td>1</td>\n",
              "    </tr>\n",
              "    <tr>\n",
              "      <th>4</th>\n",
              "      <td>1</td>\n",
              "      <td>4</td>\n",
              "      <td>30000</td>\n",
              "      <td>0</td>\n",
              "      <td>[HTML5, CSS3, JavaScript, jQuery, CSS, Git, HT...</td>\n",
              "      <td>- Дипломы колледжа и бакалавра с отличием (кра...</td>\n",
              "      <td>[Junior  разработчик веб-интерфейсов, Оператор...</td>\n",
              "      <td>1</td>\n",
              "      <td>0</td>\n",
              "    </tr>\n",
              "  </tbody>\n",
              "</table>\n",
              "</div>"
            ],
            "text/plain": [
              "  area title  ... Женщина Мужчина\n",
              "0    0     0  ...       0       1\n",
              "1    0     1  ...       0       1\n",
              "2    1     2  ...       0       1\n",
              "3    1     3  ...       0       1\n",
              "4    1     4  ...       1       0\n",
              "\n",
              "[5 rows x 9 columns]"
            ]
          },
          "metadata": {
            "tags": []
          },
          "execution_count": 813
        }
      ]
    },
    {
      "cell_type": "code",
      "metadata": {
        "id": "dfcUYt74RKRu"
      },
      "source": [
        "import numpy as np\r\n",
        "#поиск по скиллам\r\n",
        "def skill_search(col, skills):\r\n",
        "  \"\"\"\r\n",
        "  Функция для поиска ключевых слов в резюме\r\n",
        "  \"\"\"\r\n",
        "  for skill in skills:\r\n",
        "    df[skill] = 0 # создание столбца с названием skill \r\n",
        "    skilled_ids = df[col].apply(lambda x: x if skill in str(x).lower() \r\n",
        "                                else np.nan).dropna().index # все айди людей с этим скиллом\r\n",
        "    df.loc[df.index.isin(skilled_ids), skill] = 1 # если индекс равен ид из skilled_ids, в столбце skill получают 1\r\n"
      ],
      "execution_count": 814,
      "outputs": []
    },
    {
      "cell_type": "code",
      "metadata": {
        "id": "Qn4xF10BUgnM"
      },
      "source": [
        "skills_set_for_success = ['машинное обучение', 'data mining', 'machine learning', 'sql', 'html', 'css']\r\n",
        "col = 'skill_set'\r\n",
        "skill_search(col, skills_set_for_success)"
      ],
      "execution_count": 815,
      "outputs": []
    },
    {
      "cell_type": "code",
      "metadata": {
        "id": "7I_HFMdHU0MI"
      },
      "source": [
        "#Создание столбца success, которое означает, прошел кандидат или нет. Набираем DSов, аналитиков/разработчиков БД, а также верстальщиков сайтов)\r\n",
        "conditions = [(df['машинное обучение'] == 1),\r\n",
        "              (df['data mining'] == 1),\r\n",
        "              (df['machine learning'] == 1),\r\n",
        "              (df['sql'] == 1),\r\n",
        "              (df['html'] == 1),\r\n",
        "              (df['css'] == 1)\r\n",
        "             ]\r\n",
        "             \r\n",
        "values = [1, 1, 1, 1, 1, 1] \r\n",
        "\r\n",
        "df['success'] = 0\r\n",
        "df['success'] = np.select(conditions, values)\r\n",
        "\r\n",
        "df.drop(['машинное обучение', 'data mining', 'machine learning', 'sql', 'html', 'css'], axis = 1, inplace = True)"
      ],
      "execution_count": 816,
      "outputs": []
    },
    {
      "cell_type": "code",
      "metadata": {
        "id": "agmO2RenRKPC"
      },
      "source": [
        "skills_for_candidates = ['английский', 'github']\r\n",
        "col = 'skills'\r\n",
        "skill_search(col, skills_for_candidates)"
      ],
      "execution_count": 817,
      "outputs": []
    },
    {
      "cell_type": "code",
      "metadata": {
        "id": "YkNEjmxSRKMT"
      },
      "source": [
        "exp = ['программист c', '++', 'react']\r\n",
        "col = 'exp'\r\n",
        "skill_search(col, exp)"
      ],
      "execution_count": 818,
      "outputs": []
    },
    {
      "cell_type": "code",
      "metadata": {
        "id": "qvNH9c5kU-28"
      },
      "source": [
        "skills = ['машинное обучение', 'sql', 'data mining', 'python', 'pandas', 'numpy']\r\n",
        "col = 'skill_set'\r\n",
        "skill_search(col, skills)"
      ],
      "execution_count": 819,
      "outputs": []
    },
    {
      "cell_type": "code",
      "metadata": {
        "id": "GZItg9APU-zr"
      },
      "source": [
        "df.drop(['skill_set', 'skills', 'exp'], axis = 1, inplace = True)"
      ],
      "execution_count": 820,
      "outputs": []
    },
    {
      "cell_type": "code",
      "metadata": {
        "id": "z3gm3PFxVlXB"
      },
      "source": [
        "df.fillna(0,inplace = True)"
      ],
      "execution_count": 821,
      "outputs": []
    },
    {
      "cell_type": "markdown",
      "metadata": {
        "id": "4WBWHVcLpN0I"
      },
      "source": [
        "#Создание модели и её обучение"
      ]
    },
    {
      "cell_type": "code",
      "metadata": {
        "id": "RMssLKCOVlUt"
      },
      "source": [
        "x = df.drop('success', axis = 1)\r\n",
        "y = df['success']"
      ],
      "execution_count": 822,
      "outputs": []
    },
    {
      "cell_type": "code",
      "metadata": {
        "id": "8EGeNhWKVlSL"
      },
      "source": [
        "from sklearn.model_selection import train_test_split\r\n",
        "\r\n",
        "x_tr, x_ts, y_tr, y_ts = train_test_split(x, y, test_size = .3, random_state =1)"
      ],
      "execution_count": 823,
      "outputs": []
    },
    {
      "cell_type": "code",
      "metadata": {
        "colab": {
          "base_uri": "https://localhost:8080/"
        },
        "id": "dg8Rn4UcV_9R",
        "outputId": "f888981b-6e56-461f-d198-b4bf309528cd"
      },
      "source": [
        "from sklearn.ensemble import RandomForestClassifier\r\n",
        "\r\n",
        "rfc = RandomForestClassifier()\r\n",
        "rfc.fit(x_tr, y_tr)"
      ],
      "execution_count": 824,
      "outputs": [
        {
          "output_type": "execute_result",
          "data": {
            "text/plain": [
              "RandomForestClassifier(bootstrap=True, ccp_alpha=0.0, class_weight=None,\n",
              "                       criterion='gini', max_depth=None, max_features='auto',\n",
              "                       max_leaf_nodes=None, max_samples=None,\n",
              "                       min_impurity_decrease=0.0, min_impurity_split=None,\n",
              "                       min_samples_leaf=1, min_samples_split=2,\n",
              "                       min_weight_fraction_leaf=0.0, n_estimators=100,\n",
              "                       n_jobs=None, oob_score=False, random_state=None,\n",
              "                       verbose=0, warm_start=False)"
            ]
          },
          "metadata": {
            "tags": []
          },
          "execution_count": 824
        }
      ]
    },
    {
      "cell_type": "code",
      "metadata": {
        "id": "shru9CFKV_7P"
      },
      "source": [
        "proba = pd.DataFrame(rfc.predict_proba(x_ts))[1]\r\n",
        "#predict выводил либо 0, либо 1, predict_proba выводит вероятность для каждого пройти или не пройти"
      ],
      "execution_count": 825,
      "outputs": []
    },
    {
      "cell_type": "code",
      "metadata": {
        "colab": {
          "base_uri": "https://localhost:8080/"
        },
        "id": "FpZElF_PWvci",
        "outputId": "260a5f74-aa92-4448-bfff-e99cbf3b5468"
      },
      "source": [
        "rfc.predict(x_ts)"
      ],
      "execution_count": 826,
      "outputs": [
        {
          "output_type": "execute_result",
          "data": {
            "text/plain": [
              "array([1, 1, 0, 0, 1, 1, 0, 1, 1, 1, 1, 1, 1, 1, 1, 1, 1, 1, 0, 1, 1, 0,\n",
              "       0, 1, 1, 1, 1, 0, 0, 1, 0, 0, 1, 0, 1, 1, 1, 1, 0, 0, 1, 1, 1, 0,\n",
              "       1, 1, 0, 1, 1, 1, 1, 1, 0, 1, 1, 1, 1, 1, 1, 1, 0, 1, 0, 1, 1, 1,\n",
              "       1, 1, 0, 1, 0, 1, 1, 1, 0, 0, 1, 1, 0, 1, 0, 1, 1, 1, 0, 0, 1, 1,\n",
              "       0, 1, 1, 0, 1, 1, 1, 0, 1, 1, 1, 1, 0, 0, 0, 0, 1, 1, 1, 1, 1, 1,\n",
              "       0, 0, 1, 1, 0, 1, 1])"
            ]
          },
          "metadata": {
            "tags": []
          },
          "execution_count": 826
        }
      ]
    },
    {
      "cell_type": "code",
      "metadata": {
        "colab": {
          "base_uri": "https://localhost:8080/"
        },
        "id": "PB9Q7US4V_4j",
        "outputId": "c34f84ca-a065-45fc-f0fe-a674ae4bbfd9"
      },
      "source": [
        "proba[:20]"
      ],
      "execution_count": 827,
      "outputs": [
        {
          "output_type": "execute_result",
          "data": {
            "text/plain": [
              "0     1.00\n",
              "1     1.00\n",
              "2     0.22\n",
              "3     0.43\n",
              "4     1.00\n",
              "5     0.53\n",
              "6     0.44\n",
              "7     0.95\n",
              "8     0.98\n",
              "9     0.71\n",
              "10    0.76\n",
              "11    0.97\n",
              "12    0.94\n",
              "13    1.00\n",
              "14    0.98\n",
              "15    0.98\n",
              "16    1.00\n",
              "17    0.70\n",
              "18    0.46\n",
              "19    0.94\n",
              "Name: 1, dtype: float64"
            ]
          },
          "metadata": {
            "tags": []
          },
          "execution_count": 827
        }
      ]
    },
    {
      "cell_type": "code",
      "metadata": {
        "colab": {
          "base_uri": "https://localhost:8080/"
        },
        "id": "HkfI28eaV_1l",
        "outputId": "1d64be01-e3ff-4c05-e1d3-a4651045cb18"
      },
      "source": [
        "from sklearn.metrics import accuracy_score # количество попаданий\r\n",
        "\r\n",
        "accuracy_score(rfc.predict(x_ts), y_ts) # в ~80% случаев модель правильно подбирает кандидатов в команду"
      ],
      "execution_count": 828,
      "outputs": [
        {
          "output_type": "execute_result",
          "data": {
            "text/plain": [
              "0.8034188034188035"
            ]
          },
          "metadata": {
            "tags": []
          },
          "execution_count": 828
        }
      ]
    }
  ]
}