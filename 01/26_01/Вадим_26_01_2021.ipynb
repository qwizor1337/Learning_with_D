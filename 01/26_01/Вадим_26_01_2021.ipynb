{
  "nbformat": 4,
  "nbformat_minor": 0,
  "metadata": {
    "colab": {
      "name": "Вадим 26-01-2021.ipynb",
      "provenance": [],
      "collapsed_sections": []
    },
    "kernelspec": {
      "name": "python3",
      "display_name": "Python 3"
    }
  },
  "cells": [
    {
      "cell_type": "markdown",
      "metadata": {
        "id": "dd1mhplxWWRp"
      },
      "source": [
        "# Обработка резюме HH RU"
      ]
    },
    {
      "cell_type": "code",
      "metadata": {
        "id": "T-RHyIlkVIXp"
      },
      "source": [
        "import pandas as pd\r\n",
        "import json"
      ],
      "execution_count": null,
      "outputs": []
    },
    {
      "cell_type": "code",
      "metadata": {
        "id": "h7rM2I4XmG-q"
      },
      "source": [
        "from parse_hh_data import download, parse\r\n",
        "ids = download.resume_ids(area_id = 113, specialization_id = 4, search_period = 365, num_pages = 2)\r\n",
        "\r\n",
        "var = []\r\n",
        "for i in range(0, len(ids)):\r\n",
        "    resume = download.resume(ids[i])\r\n",
        "    resume = parse.resume(resume)\r\n",
        "    var.append(resume)\r\n",
        "\r\n",
        "import json\r\n",
        "with open(\"data_file.json\", \"w\", encoding='utf-8') as write_file:\r\n",
        "    json.dump(var, write_file, ensure_ascii=False)\r\n",
        "write_file.close()"
      ],
      "execution_count": null,
      "outputs": []
    },
    {
      "cell_type": "code",
      "metadata": {
        "id": "0a6LiS5KXGF-"
      },
      "source": [
        "with open('drive/MyDrive/LD final/data_file_it.json') as f:\r\n",
        "  data = json.load(f)"
      ],
      "execution_count": 2,
      "outputs": []
    },
    {
      "cell_type": "code",
      "metadata": {
        "colab": {
          "base_uri": "https://localhost:8080/"
        },
        "id": "yURIYpedXmgc",
        "outputId": "cab2726a-3bbe-449b-8a98-11bcab8340fe"
      },
      "source": [
        "data[0]"
      ],
      "execution_count": 12,
      "outputs": [
        {
          "output_type": "execute_result",
          "data": {
            "text/plain": [
              "{'area': 'Москва',\n",
              " 'birth_date': '23\\xa0августа\\xa01994',\n",
              " 'education': [{'name': 'Московский государственный университет им. М.В. Ломоносова, Москва',\n",
              "   'organization': 'Физический, Нелинейная оптика и лазерная физика',\n",
              "   'year': 2018},\n",
              "  {'name': 'Московский государственный университет им. М.В. Ломоносова, Москва',\n",
              "   'organization': 'Физический, Физика',\n",
              "   'year': 2016}],\n",
              " 'education_level': 'Высшее образование (Магистр)',\n",
              " 'experience': [{'description': 'Обязанности: Разработка программ и библиотек, обеспечивающих работу видео-стриминговых и транскодирующих приложений, дальнейшее их тестирование и отладка. Осуществление сопровождения внедренных программ и программных средств\\n\\nОсновные инструменты: C/C++, Python, Bash, FFmpeg, Git\\n\\nДостижения: Реализовал и внедрил в действующее ПО технологию адаптивной потоковой передачи данных (DASH)',\n",
              "   'end': '01-09-2020',\n",
              "   'position': 'Программист C/С++',\n",
              "   'start': '01-03-2018'}],\n",
              " 'gender': 'Мужчина',\n",
              " 'language': [{'level': 'Родной', 'name': 'Русский'},\n",
              "  {'level': 'B1 - Средний', 'name': 'Английский'}],\n",
              " 'salary': {'amount': 120000, 'currency': 'руб.'},\n",
              " 'skill_set': ['Машинное обучение',\n",
              "  'Data Mining',\n",
              "  'Data Analysis',\n",
              "  'C/C++',\n",
              "  'Python',\n",
              "  'Git',\n",
              "  'Linux',\n",
              "  'SQL',\n",
              "  'Bash',\n",
              "  'Pandas',\n",
              "  'Numpy',\n",
              "  'Vkontakte Api',\n",
              "  'LabVIEW',\n",
              "  'MATLAB',\n",
              "  'PyTorch'],\n",
              " 'skills': 'Ответственное отношение к учебе\\\\работе.  \\nОкончил школу с золотой медалью, бакалавриат и магистратуру физического факультета МГУ им. М. В. Ломоносова с красными дипломами. Во время учебы занимался автоматизацией измерений в лаборатории оптоакустики, с использованием LabView, C++.\\n\\nУспешно закончил курс \"Введение в машинное обучение\" от Техносферы  Mail.ru, занял первое место в курсовом проекте - рекомендательная система сообществ соц. сети Вконтакте.\\n\\nВ данный момент учусь на основной программе Техносферы \"Анализ больших объемов данных\", успешно закончил первый семестр - первое место по курсовому проекту: https://www.kaggle.com/c/anomaly-detection-competition-ml1-ts-spring-2020/leaderboard\\n\\nУмею работать в команде, проекты Техносферы были командными, координировал действия двух своих коллег.\\nСтремлюсь к развитию, считаю, что постоянно надо развиваться и пробовать новое. Работая разработчиком C++, заинтересовался машинным обучением, легко совмещал работу и изучение новой сферы.',\n",
              " 'specialization': [{'name': 'Программирование, Разработка',\n",
              "   'profarea_name': 'Информационные технологии, интернет, телеком'},\n",
              "  {'name': 'Аналитик',\n",
              "   'profarea_name': 'Информационные технологии, интернет, телеком'}],\n",
              " 'title': 'Специалист по машинному обучению'}"
            ]
          },
          "metadata": {
            "tags": []
          },
          "execution_count": 12
        }
      ]
    },
    {
      "cell_type": "code",
      "metadata": {
        "id": "gxFQqS-6XnLX"
      },
      "source": [
        "gender = []\r\n",
        "area = []\r\n",
        "spec_name = []\r\n",
        "title = []\r\n",
        "salary = []\r\n",
        "edu = []\r\n",
        "exp = []\r\n",
        "skill_set = []\r\n",
        "skills = []\r\n",
        "\r\n",
        "for resume in data:\r\n",
        "  gender.append(resume['gender'])\r\n",
        "  area.append(resume['area'])\r\n",
        "  title.append(resume['title'])\r\n",
        "  salary.append(resume['salary']['amount'])\r\n",
        "  edu.append(resume['education_level'])\r\n",
        "  skill_set.append(resume['skill_set'])\r\n",
        "  skills.append(resume['skills'])\r\n",
        "\r\n",
        "  exp_temp = []\r\n",
        "  for i in range(len(resume['experience'])):\r\n",
        "    exp_temp.append(resume['experience'][i]['position'])\r\n",
        "  exp.append(exp_temp)\r\n",
        "\r\n",
        "  spec_temp = []\r\n",
        "  for i in range(len(resume['specialization'])):\r\n",
        "    spec_temp.append(resume['specialization'][i]['name'])\r\n",
        "  spec_name.append(spec_temp)"
      ],
      "execution_count": 57,
      "outputs": []
    },
    {
      "cell_type": "code",
      "metadata": {
        "id": "X6URcI91aeSv"
      },
      "source": [
        "import random as rd\r\n",
        "\r\n",
        "prior = []\r\n",
        "for i in range(len(data)):\r\n",
        "  prior.append(rd.randint(0, 1))"
      ],
      "execution_count": 58,
      "outputs": []
    },
    {
      "cell_type": "code",
      "metadata": {
        "id": "pPr4NZU7ap9W"
      },
      "source": [
        "df = pd.DataFrame([gender, area, title, salary, edu, skill_set, skills, exp, spec_name, prior]).transpose()"
      ],
      "execution_count": 59,
      "outputs": []
    },
    {
      "cell_type": "code",
      "metadata": {
        "colab": {
          "base_uri": "https://localhost:8080/",
          "height": 652
        },
        "id": "a8QiKXJ4a_gW",
        "outputId": "aebbbb3b-ceea-4ed5-bb21-d2f409a1b294"
      },
      "source": [
        "df.head()"
      ],
      "execution_count": 60,
      "outputs": [
        {
          "output_type": "execute_result",
          "data": {
            "text/html": [
              "<div>\n",
              "<style scoped>\n",
              "    .dataframe tbody tr th:only-of-type {\n",
              "        vertical-align: middle;\n",
              "    }\n",
              "\n",
              "    .dataframe tbody tr th {\n",
              "        vertical-align: top;\n",
              "    }\n",
              "\n",
              "    .dataframe thead th {\n",
              "        text-align: right;\n",
              "    }\n",
              "</style>\n",
              "<table border=\"1\" class=\"dataframe\">\n",
              "  <thead>\n",
              "    <tr style=\"text-align: right;\">\n",
              "      <th></th>\n",
              "      <th>0</th>\n",
              "      <th>1</th>\n",
              "      <th>2</th>\n",
              "      <th>3</th>\n",
              "      <th>4</th>\n",
              "      <th>5</th>\n",
              "      <th>6</th>\n",
              "      <th>7</th>\n",
              "      <th>8</th>\n",
              "      <th>9</th>\n",
              "    </tr>\n",
              "  </thead>\n",
              "  <tbody>\n",
              "    <tr>\n",
              "      <th>0</th>\n",
              "      <td>Мужчина</td>\n",
              "      <td>Москва</td>\n",
              "      <td>Специалист по машинному обучению</td>\n",
              "      <td>120000</td>\n",
              "      <td>Высшее образование (Магистр)</td>\n",
              "      <td>[Машинное обучение, Data Mining, Data Analysis...</td>\n",
              "      <td>Ответственное отношение к учебе\\работе.  \\nОко...</td>\n",
              "      <td>[Программист C/С++]</td>\n",
              "      <td>[Программирование, Разработка, Аналитик]</td>\n",
              "      <td>1</td>\n",
              "    </tr>\n",
              "    <tr>\n",
              "      <th>1</th>\n",
              "      <td>Мужчина</td>\n",
              "      <td>Москва</td>\n",
              "      <td>Разработчик React-Native JavaScript  (Redux)</td>\n",
              "      <td>None</td>\n",
              "      <td>Высшее образование</td>\n",
              "      <td>[HTML, CSS, React-Native, JS6, Git, FireBase, ...</td>\n",
              "      <td>Из резюме удален весь нерелевантный опыт, чтоб...</td>\n",
              "      <td>[Разработчик React Native, Разработчик React N...</td>\n",
              "      <td>[Программирование, Разработка]</td>\n",
              "      <td>1</td>\n",
              "    </tr>\n",
              "    <tr>\n",
              "      <th>2</th>\n",
              "      <td>Мужчина</td>\n",
              "      <td>Санкт-Петербург</td>\n",
              "      <td>ИТ-специалист</td>\n",
              "      <td>None</td>\n",
              "      <td>Высшее образование</td>\n",
              "      <td>[HTML, CSS, PHP, Сборка ПК, Настройка ПК, MySQ...</td>\n",
              "      <td>Окончил университет СПБГУТ в Санкт-Петербурге ...</td>\n",
              "      <td>[Специалист технической поддержки, ИТ Специали...</td>\n",
              "      <td>[Банковское ПО, Программирование, Разработка, ...</td>\n",
              "      <td>0</td>\n",
              "    </tr>\n",
              "    <tr>\n",
              "      <th>3</th>\n",
              "      <td>Мужчина</td>\n",
              "      <td>Санкт-Петербург</td>\n",
              "      <td>Программист C#</td>\n",
              "      <td>None</td>\n",
              "      <td>Среднее образование</td>\n",
              "      <td>[C#, Unity, Godot, SQL, MySQL, Git, .NET Frame...</td>\n",
              "      <td>Примеры моего кода и прочего\\nhttps://github.c...</td>\n",
              "      <td>[Оператор call-центра, Диспетчер технической п...</td>\n",
              "      <td>[Игровое ПО, Программирование, Разработка]</td>\n",
              "      <td>1</td>\n",
              "    </tr>\n",
              "    <tr>\n",
              "      <th>4</th>\n",
              "      <td>Женщина</td>\n",
              "      <td>Санкт-Петербург</td>\n",
              "      <td>Frontend-разработчик (JavaScript) junior</td>\n",
              "      <td>30000</td>\n",
              "      <td>Высшее образование</td>\n",
              "      <td>[HTML5, CSS3, JavaScript, jQuery, CSS, Git, HT...</td>\n",
              "      <td>- Дипломы колледжа и бакалавра с отличием (кра...</td>\n",
              "      <td>[Junior  разработчик веб-интерфейсов, Оператор...</td>\n",
              "      <td>[Программирование, Разработка, Web инженер, We...</td>\n",
              "      <td>1</td>\n",
              "    </tr>\n",
              "  </tbody>\n",
              "</table>\n",
              "</div>"
            ],
            "text/plain": [
              "         0  ...  9\n",
              "0  Мужчина  ...  1\n",
              "1  Мужчина  ...  1\n",
              "2  Мужчина  ...  0\n",
              "3  Мужчина  ...  1\n",
              "4  Женщина  ...  1\n",
              "\n",
              "[5 rows x 10 columns]"
            ]
          },
          "metadata": {
            "tags": []
          },
          "execution_count": 60
        }
      ]
    },
    {
      "cell_type": "code",
      "metadata": {
        "id": "l15ZwisKbBOe"
      },
      "source": [
        "#gender, area, title, salary, edu, skill_set, skills, exp, spec_name, prior\r\n",
        "df.rename(columns={0:'gender', 1:'area', 2:'title', 3:'salary',\r\n",
        "                   4:'education', 5:'skill_set', 6:'skills', 7:'exp', 8:'spec_name', 9:'prior'}, inplace=True)"
      ],
      "execution_count": 61,
      "outputs": []
    },
    {
      "cell_type": "markdown",
      "metadata": {
        "id": "tK5Rjx4XcU7q"
      },
      "source": [
        "# Очистка данных (ДЗ)"
      ]
    },
    {
      "cell_type": "code",
      "metadata": {
        "colab": {
          "base_uri": "https://localhost:8080/"
        },
        "id": "ONSLXjdTbnvc",
        "outputId": "e428f865-020f-415e-f8eb-c81bf92fdaed"
      },
      "source": [
        "df['education'].value_counts()"
      ],
      "execution_count": 62,
      "outputs": [
        {
          "output_type": "execute_result",
          "data": {
            "text/plain": [
              "Высшее образование                    198\n",
              "Неоконченное высшее образование        51\n",
              "Высшее образование (Магистр)           36\n",
              "Среднее специальное образование        34\n",
              "Высшее образование (Бакалавр)          34\n",
              "Образование                            16\n",
              "Higher education                        5\n",
              "Среднее образование                     4\n",
              "Higher education (bachelor)             4\n",
              "Высшее образование (Кандидат наук)      3\n",
              "Education                               2\n",
              "Secondary special education             2\n",
              "Secondary education                     1\n",
              "Name: education, dtype: int64"
            ]
          },
          "metadata": {
            "tags": []
          },
          "execution_count": 62
        }
      ]
    },
    {
      "cell_type": "code",
      "metadata": {
        "colab": {
          "base_uri": "https://localhost:8080/"
        },
        "id": "-4e8IOY4cPP_",
        "outputId": "bd0f2850-218d-4359-b13f-1553d132581a"
      },
      "source": [
        "df.info()"
      ],
      "execution_count": 63,
      "outputs": [
        {
          "output_type": "stream",
          "text": [
            "<class 'pandas.core.frame.DataFrame'>\n",
            "RangeIndex: 390 entries, 0 to 389\n",
            "Data columns (total 10 columns):\n",
            " #   Column     Non-Null Count  Dtype \n",
            "---  ------     --------------  ----- \n",
            " 0   gender     390 non-null    object\n",
            " 1   area       390 non-null    object\n",
            " 2   title      390 non-null    object\n",
            " 3   salary     198 non-null    object\n",
            " 4   education  390 non-null    object\n",
            " 5   skill_set  390 non-null    object\n",
            " 6   skills     390 non-null    object\n",
            " 7   exp        390 non-null    object\n",
            " 8   spec_name  390 non-null    object\n",
            " 9   prior      390 non-null    object\n",
            "dtypes: object(10)\n",
            "memory usage: 30.6+ KB\n"
          ],
          "name": "stdout"
        }
      ]
    },
    {
      "cell_type": "code",
      "metadata": {
        "colab": {
          "base_uri": "https://localhost:8080/"
        },
        "id": "-uwUzPlCchpq",
        "outputId": "7e8e9317-e560-493a-c9a0-52dad716bc6a"
      },
      "source": [
        "df.dropna().info()"
      ],
      "execution_count": 64,
      "outputs": [
        {
          "output_type": "stream",
          "text": [
            "<class 'pandas.core.frame.DataFrame'>\n",
            "Int64Index: 198 entries, 0 to 389\n",
            "Data columns (total 10 columns):\n",
            " #   Column     Non-Null Count  Dtype \n",
            "---  ------     --------------  ----- \n",
            " 0   gender     198 non-null    object\n",
            " 1   area       198 non-null    object\n",
            " 2   title      198 non-null    object\n",
            " 3   salary     198 non-null    object\n",
            " 4   education  198 non-null    object\n",
            " 5   skill_set  198 non-null    object\n",
            " 6   skills     198 non-null    object\n",
            " 7   exp        198 non-null    object\n",
            " 8   spec_name  198 non-null    object\n",
            " 9   prior      198 non-null    object\n",
            "dtypes: object(10)\n",
            "memory usage: 17.0+ KB\n"
          ],
          "name": "stdout"
        }
      ]
    },
    {
      "cell_type": "code",
      "metadata": {
        "id": "vhu0Z90EcliY"
      },
      "source": [
        "df.loc[df.education=='Higher education', 'education'] = 'Высшее образование'"
      ],
      "execution_count": 65,
      "outputs": []
    },
    {
      "cell_type": "code",
      "metadata": {
        "id": "GV_U_q_ZeagN"
      },
      "source": [
        "df.loc[df.gender=='Male', 'gender'] = 'Мужчина'\r\n",
        "df.loc[df.gender=='Female', 'gender'] = 'Женщина'"
      ],
      "execution_count": 66,
      "outputs": []
    },
    {
      "cell_type": "code",
      "metadata": {
        "colab": {
          "base_uri": "https://localhost:8080/",
          "height": 181
        },
        "id": "qUChcVzAdcIE",
        "outputId": "30e125e3-25ee-4658-b376-5bd93391ec1c"
      },
      "source": [
        "df.head(1)"
      ],
      "execution_count": 67,
      "outputs": [
        {
          "output_type": "execute_result",
          "data": {
            "text/html": [
              "<div>\n",
              "<style scoped>\n",
              "    .dataframe tbody tr th:only-of-type {\n",
              "        vertical-align: middle;\n",
              "    }\n",
              "\n",
              "    .dataframe tbody tr th {\n",
              "        vertical-align: top;\n",
              "    }\n",
              "\n",
              "    .dataframe thead th {\n",
              "        text-align: right;\n",
              "    }\n",
              "</style>\n",
              "<table border=\"1\" class=\"dataframe\">\n",
              "  <thead>\n",
              "    <tr style=\"text-align: right;\">\n",
              "      <th></th>\n",
              "      <th>gender</th>\n",
              "      <th>area</th>\n",
              "      <th>title</th>\n",
              "      <th>salary</th>\n",
              "      <th>education</th>\n",
              "      <th>skill_set</th>\n",
              "      <th>skills</th>\n",
              "      <th>exp</th>\n",
              "      <th>spec_name</th>\n",
              "      <th>prior</th>\n",
              "    </tr>\n",
              "  </thead>\n",
              "  <tbody>\n",
              "    <tr>\n",
              "      <th>0</th>\n",
              "      <td>Мужчина</td>\n",
              "      <td>Москва</td>\n",
              "      <td>Специалист по машинному обучению</td>\n",
              "      <td>120000</td>\n",
              "      <td>Высшее образование (Магистр)</td>\n",
              "      <td>[Машинное обучение, Data Mining, Data Analysis...</td>\n",
              "      <td>Ответственное отношение к учебе\\работе.  \\nОко...</td>\n",
              "      <td>[Программист C/С++]</td>\n",
              "      <td>[Программирование, Разработка, Аналитик]</td>\n",
              "      <td>1</td>\n",
              "    </tr>\n",
              "  </tbody>\n",
              "</table>\n",
              "</div>"
            ],
            "text/plain": [
              "    gender    area  ...                                 spec_name prior\n",
              "0  Мужчина  Москва  ...  [Программирование, Разработка, Аналитик]     1\n",
              "\n",
              "[1 rows x 10 columns]"
            ]
          },
          "metadata": {
            "tags": []
          },
          "execution_count": 67
        }
      ]
    },
    {
      "cell_type": "code",
      "metadata": {
        "colab": {
          "base_uri": "https://localhost:8080/"
        },
        "id": "PFRz5byddXPF",
        "outputId": "8ef679b4-a0c3-409e-c12d-7e876ceed050"
      },
      "source": [
        "df['gender'].value_counts()"
      ],
      "execution_count": 68,
      "outputs": [
        {
          "output_type": "execute_result",
          "data": {
            "text/plain": [
              "Мужчина    359\n",
              "Женщина     31\n",
              "Name: gender, dtype: int64"
            ]
          },
          "metadata": {
            "tags": []
          },
          "execution_count": 68
        }
      ]
    },
    {
      "cell_type": "code",
      "metadata": {
        "id": "FSp9K7njd5o5"
      },
      "source": [
        "df = df.join(pd.get_dummies(df['gender']))"
      ],
      "execution_count": 69,
      "outputs": []
    },
    {
      "cell_type": "code",
      "metadata": {
        "id": "7szSmhNUenjS"
      },
      "source": [
        "df.drop('gender', axis=1, inplace=True)"
      ],
      "execution_count": 70,
      "outputs": []
    },
    {
      "cell_type": "code",
      "metadata": {
        "id": "RHZm9dU6ezBZ"
      },
      "source": [
        "areas = list(df['area'].value_counts().index)\r\n",
        "\r\n",
        "for i in range(len(areas)):\r\n",
        "  df.loc[df['area']==areas[i], 'area'] = i"
      ],
      "execution_count": 71,
      "outputs": []
    },
    {
      "cell_type": "code",
      "metadata": {
        "id": "_D7A1TRFgCeo"
      },
      "source": [
        "titles = list(df['title'].value_counts().index)\r\n",
        "\r\n",
        "for i in range(len(titles)):\r\n",
        "  df.loc[df['title']==titles[i], 'title'] = i"
      ],
      "execution_count": 72,
      "outputs": []
    },
    {
      "cell_type": "code",
      "metadata": {
        "id": "p0NSkNSWgMP4"
      },
      "source": [
        "edus = list(df['education'].value_counts().index)\r\n",
        "\r\n",
        "for i in range(len(edus)):\r\n",
        "  df.loc[df['education']==edus[i], 'education'] = i"
      ],
      "execution_count": 73,
      "outputs": []
    },
    {
      "cell_type": "code",
      "metadata": {
        "colab": {
          "base_uri": "https://localhost:8080/",
          "height": 181
        },
        "id": "0lndbeU-gWRt",
        "outputId": "22282b13-28f5-4565-a601-7023485498f9"
      },
      "source": [
        "df.head(1)"
      ],
      "execution_count": 74,
      "outputs": [
        {
          "output_type": "execute_result",
          "data": {
            "text/html": [
              "<div>\n",
              "<style scoped>\n",
              "    .dataframe tbody tr th:only-of-type {\n",
              "        vertical-align: middle;\n",
              "    }\n",
              "\n",
              "    .dataframe tbody tr th {\n",
              "        vertical-align: top;\n",
              "    }\n",
              "\n",
              "    .dataframe thead th {\n",
              "        text-align: right;\n",
              "    }\n",
              "</style>\n",
              "<table border=\"1\" class=\"dataframe\">\n",
              "  <thead>\n",
              "    <tr style=\"text-align: right;\">\n",
              "      <th></th>\n",
              "      <th>area</th>\n",
              "      <th>title</th>\n",
              "      <th>salary</th>\n",
              "      <th>education</th>\n",
              "      <th>skill_set</th>\n",
              "      <th>skills</th>\n",
              "      <th>exp</th>\n",
              "      <th>spec_name</th>\n",
              "      <th>prior</th>\n",
              "      <th>Женщина</th>\n",
              "      <th>Мужчина</th>\n",
              "    </tr>\n",
              "  </thead>\n",
              "  <tbody>\n",
              "    <tr>\n",
              "      <th>0</th>\n",
              "      <td>0</td>\n",
              "      <td>227</td>\n",
              "      <td>120000</td>\n",
              "      <td>2</td>\n",
              "      <td>[Машинное обучение, Data Mining, Data Analysis...</td>\n",
              "      <td>Ответственное отношение к учебе\\работе.  \\nОко...</td>\n",
              "      <td>[Программист C/С++]</td>\n",
              "      <td>[Программирование, Разработка, Аналитик]</td>\n",
              "      <td>1</td>\n",
              "      <td>0</td>\n",
              "      <td>1</td>\n",
              "    </tr>\n",
              "  </tbody>\n",
              "</table>\n",
              "</div>"
            ],
            "text/plain": [
              "  area title  salary  ... prior Женщина Мужчина\n",
              "0    0   227  120000  ...     1       0       1\n",
              "\n",
              "[1 rows x 11 columns]"
            ]
          },
          "metadata": {
            "tags": []
          },
          "execution_count": 74
        }
      ]
    },
    {
      "cell_type": "code",
      "metadata": {
        "id": "eQlTJtoGgbV-"
      },
      "source": [
        "df.drop('spec_name', axis=1, inplace=True)\r\n"
      ],
      "execution_count": 78,
      "outputs": []
    },
    {
      "cell_type": "code",
      "metadata": {
        "colab": {
          "base_uri": "https://localhost:8080/",
          "height": 181
        },
        "id": "yeOpYNmBgr09",
        "outputId": "6899fe4e-9fa4-40b1-f3ee-2f00fe8ed339"
      },
      "source": [
        "df.head(1)"
      ],
      "execution_count": 79,
      "outputs": [
        {
          "output_type": "execute_result",
          "data": {
            "text/html": [
              "<div>\n",
              "<style scoped>\n",
              "    .dataframe tbody tr th:only-of-type {\n",
              "        vertical-align: middle;\n",
              "    }\n",
              "\n",
              "    .dataframe tbody tr th {\n",
              "        vertical-align: top;\n",
              "    }\n",
              "\n",
              "    .dataframe thead th {\n",
              "        text-align: right;\n",
              "    }\n",
              "</style>\n",
              "<table border=\"1\" class=\"dataframe\">\n",
              "  <thead>\n",
              "    <tr style=\"text-align: right;\">\n",
              "      <th></th>\n",
              "      <th>area</th>\n",
              "      <th>title</th>\n",
              "      <th>salary</th>\n",
              "      <th>education</th>\n",
              "      <th>skill_set</th>\n",
              "      <th>skills</th>\n",
              "      <th>exp</th>\n",
              "      <th>prior</th>\n",
              "      <th>Женщина</th>\n",
              "      <th>Мужчина</th>\n",
              "    </tr>\n",
              "  </thead>\n",
              "  <tbody>\n",
              "    <tr>\n",
              "      <th>0</th>\n",
              "      <td>0</td>\n",
              "      <td>227</td>\n",
              "      <td>120000</td>\n",
              "      <td>2</td>\n",
              "      <td>[Машинное обучение, Data Mining, Data Analysis...</td>\n",
              "      <td>Ответственное отношение к учебе\\работе.  \\nОко...</td>\n",
              "      <td>[Программист C/С++]</td>\n",
              "      <td>1</td>\n",
              "      <td>0</td>\n",
              "      <td>1</td>\n",
              "    </tr>\n",
              "  </tbody>\n",
              "</table>\n",
              "</div>"
            ],
            "text/plain": [
              "  area title  salary education  ...                  exp prior Женщина Мужчина\n",
              "0    0   227  120000         2  ...  [Программист C/С++]     1       0       1\n",
              "\n",
              "[1 rows x 10 columns]"
            ]
          },
          "metadata": {
            "tags": []
          },
          "execution_count": 79
        }
      ]
    },
    {
      "cell_type": "code",
      "metadata": {
        "colab": {
          "base_uri": "https://localhost:8080/"
        },
        "id": "vMyVnHN-g-TI",
        "outputId": "1bf38abd-9b25-4317-ac3a-5b8c04aa6707"
      },
      "source": [
        "df['skill_set']"
      ],
      "execution_count": 80,
      "outputs": [
        {
          "output_type": "execute_result",
          "data": {
            "text/plain": [
              "0      [Машинное обучение, Data Mining, Data Analysis...\n",
              "1      [HTML, CSS, React-Native, JS6, Git, FireBase, ...\n",
              "2      [HTML, CSS, PHP, Сборка ПК, Настройка ПК, MySQ...\n",
              "3      [C#, Unity, Godot, SQL, MySQL, Git, .NET Frame...\n",
              "4      [HTML5, CSS3, JavaScript, jQuery, CSS, Git, HT...\n",
              "                             ...                        \n",
              "385    [Пользователь ПК, MS Office, Работа в команде,...\n",
              "386    [Unix, Администрирование серверов Linux, Unix ...\n",
              "387    [Python, C/C++, Qt, MySQL, pytorch, OpenCV, Ma...\n",
              "388    [1C: Бухгалтерия, MS SharePoint, Symantec Anti...\n",
              "389                                                   []\n",
              "Name: skill_set, Length: 390, dtype: object"
            ]
          },
          "metadata": {
            "tags": []
          },
          "execution_count": 80
        }
      ]
    },
    {
      "cell_type": "code",
      "metadata": {
        "id": "DZ_iqyoPhFmG"
      },
      "source": [
        "import numpy as np\r\n",
        "\r\n",
        "def skill_search(col, skills):\r\n",
        "  \"\"\"\r\n",
        "  Функция для поиска ключевых слов в резюме\r\n",
        "  \"\"\"\r\n",
        "  for skill in skills:\r\n",
        "    df[skill] = 0\r\n",
        "    skilled_ids = df[col].apply(lambda x: x if skill in str(x).lower() \r\n",
        "                                else np.nan).dropna().index\r\n",
        "    df.loc[df.index.isin(skilled_ids), skill] = 1"
      ],
      "execution_count": 85,
      "outputs": []
    },
    {
      "cell_type": "code",
      "metadata": {
        "id": "Ni1GbBzQiHs1"
      },
      "source": [
        "skills_for_candidates = ['английский']\r\n",
        "col = 'skills'\r\n",
        "skill_search(col, skills_for_candidates)"
      ],
      "execution_count": 86,
      "outputs": []
    },
    {
      "cell_type": "code",
      "metadata": {
        "id": "tbhihQBYifhc"
      },
      "source": [
        "exp = ['программист c', '++', 'react']\r\n",
        "col = 'exp'\r\n",
        "skill_search(col, exp)"
      ],
      "execution_count": 91,
      "outputs": []
    },
    {
      "cell_type": "code",
      "metadata": {
        "colab": {
          "base_uri": "https://localhost:8080/",
          "height": 198
        },
        "id": "wIWN8Wsfiruf",
        "outputId": "93c569f0-3c97-4c52-a891-a158dd6ef9a5"
      },
      "source": [
        "df.head(1)"
      ],
      "execution_count": 92,
      "outputs": [
        {
          "output_type": "execute_result",
          "data": {
            "text/html": [
              "<div>\n",
              "<style scoped>\n",
              "    .dataframe tbody tr th:only-of-type {\n",
              "        vertical-align: middle;\n",
              "    }\n",
              "\n",
              "    .dataframe tbody tr th {\n",
              "        vertical-align: top;\n",
              "    }\n",
              "\n",
              "    .dataframe thead th {\n",
              "        text-align: right;\n",
              "    }\n",
              "</style>\n",
              "<table border=\"1\" class=\"dataframe\">\n",
              "  <thead>\n",
              "    <tr style=\"text-align: right;\">\n",
              "      <th></th>\n",
              "      <th>area</th>\n",
              "      <th>title</th>\n",
              "      <th>salary</th>\n",
              "      <th>education</th>\n",
              "      <th>skill_set</th>\n",
              "      <th>skills</th>\n",
              "      <th>exp</th>\n",
              "      <th>prior</th>\n",
              "      <th>Женщина</th>\n",
              "      <th>Мужчина</th>\n",
              "      <th>английский</th>\n",
              "      <th>программист с</th>\n",
              "      <th>++</th>\n",
              "      <th>react</th>\n",
              "      <th>программист c</th>\n",
              "    </tr>\n",
              "  </thead>\n",
              "  <tbody>\n",
              "    <tr>\n",
              "      <th>0</th>\n",
              "      <td>0</td>\n",
              "      <td>227</td>\n",
              "      <td>120000</td>\n",
              "      <td>2</td>\n",
              "      <td>[Машинное обучение, Data Mining, Data Analysis...</td>\n",
              "      <td>Ответственное отношение к учебе\\работе.  \\nОко...</td>\n",
              "      <td>[Программист C/С++]</td>\n",
              "      <td>1</td>\n",
              "      <td>0</td>\n",
              "      <td>1</td>\n",
              "      <td>0</td>\n",
              "      <td>0</td>\n",
              "      <td>1</td>\n",
              "      <td>0</td>\n",
              "      <td>1</td>\n",
              "    </tr>\n",
              "  </tbody>\n",
              "</table>\n",
              "</div>"
            ],
            "text/plain": [
              "  area title  salary education  ... программист с ++ react программист c\n",
              "0    0   227  120000         2  ...             0  1     0             1\n",
              "\n",
              "[1 rows x 15 columns]"
            ]
          },
          "metadata": {
            "tags": []
          },
          "execution_count": 92
        }
      ]
    },
    {
      "cell_type": "code",
      "metadata": {
        "id": "IrqxyBgDi7Er"
      },
      "source": [
        "skills = ['машинное обучение', 'sql', 'data mining']\r\n",
        "col = 'skill_set'\r\n",
        "skill_search(col, skills)"
      ],
      "execution_count": 93,
      "outputs": []
    },
    {
      "cell_type": "code",
      "metadata": {
        "id": "NxCXIBsujL9f"
      },
      "source": [
        "df.drop(['skill_set', 'skills', 'exp'], axis=1, inplace=True)"
      ],
      "execution_count": 96,
      "outputs": []
    },
    {
      "cell_type": "code",
      "metadata": {
        "id": "7SXtZTVMjMmB"
      },
      "source": [
        "df.drop('программист с', axis=1, inplace=True)"
      ],
      "execution_count": 97,
      "outputs": []
    },
    {
      "cell_type": "code",
      "metadata": {
        "id": "djkG0MJIjbB1"
      },
      "source": [
        "df.fillna(0, inplace=True)"
      ],
      "execution_count": 99,
      "outputs": []
    },
    {
      "cell_type": "code",
      "metadata": {
        "id": "SL8sgQnujhzK"
      },
      "source": [
        "x = df.drop('prior', axis=1)\r\n",
        "y = df['prior']"
      ],
      "execution_count": 100,
      "outputs": []
    },
    {
      "cell_type": "code",
      "metadata": {
        "id": "pURArfVNjx0-"
      },
      "source": [
        "from sklearn.model_selection import train_test_split\r\n",
        "\r\n",
        "x_tr, x_ts, y_tr, y_ts = train_test_split(x, y, test_size=.3, random_state=1)"
      ],
      "execution_count": 101,
      "outputs": []
    },
    {
      "cell_type": "code",
      "metadata": {
        "colab": {
          "base_uri": "https://localhost:8080/"
        },
        "id": "zT4xP8wZj7e7",
        "outputId": "18aec58d-4060-4d35-8332-2d04ff24a155"
      },
      "source": [
        "from sklearn.ensemble import RandomForestClassifier\r\n",
        "\r\n",
        "rfc = RandomForestClassifier()\r\n",
        "rfc.fit(x_tr, y_tr)"
      ],
      "execution_count": 102,
      "outputs": [
        {
          "output_type": "execute_result",
          "data": {
            "text/plain": [
              "RandomForestClassifier(bootstrap=True, ccp_alpha=0.0, class_weight=None,\n",
              "                       criterion='gini', max_depth=None, max_features='auto',\n",
              "                       max_leaf_nodes=None, max_samples=None,\n",
              "                       min_impurity_decrease=0.0, min_impurity_split=None,\n",
              "                       min_samples_leaf=1, min_samples_split=2,\n",
              "                       min_weight_fraction_leaf=0.0, n_estimators=100,\n",
              "                       n_jobs=None, oob_score=False, random_state=None,\n",
              "                       verbose=0, warm_start=False)"
            ]
          },
          "metadata": {
            "tags": []
          },
          "execution_count": 102
        }
      ]
    },
    {
      "cell_type": "code",
      "metadata": {
        "id": "bqmUIf-GkDwy"
      },
      "source": [
        "proba = pd.DataFrame(rfc.predict_proba(x_ts))[1]\r\n"
      ],
      "execution_count": 105,
      "outputs": []
    },
    {
      "cell_type": "code",
      "metadata": {
        "colab": {
          "base_uri": "https://localhost:8080/"
        },
        "id": "K8wySxmmkq0-",
        "outputId": "f4c953c1-87dd-4b0a-8f80-26c269d25e50"
      },
      "source": [
        "rfc.predict(x_ts)"
      ],
      "execution_count": 110,
      "outputs": [
        {
          "output_type": "execute_result",
          "data": {
            "text/plain": [
              "array([0, 0, 1, 1, 0, 1, 1, 0, 1, 0, 0, 0, 0, 1, 1, 0, 0, 1, 1, 1, 0, 1,\n",
              "       1, 0, 0, 1, 0, 0, 0, 0, 0, 1, 1, 1, 0, 1, 0, 1, 1, 0, 1, 0, 1, 1,\n",
              "       0, 0, 1, 0, 0, 0, 1, 1, 1, 0, 0, 0, 1, 1, 0, 0, 1, 0, 0, 1, 1, 0,\n",
              "       0, 0, 1, 0, 1, 1, 1, 1, 1, 0, 0, 1, 0, 1, 0, 0, 0, 0, 0, 0, 1, 0,\n",
              "       1, 0, 0, 1, 1, 0, 1, 1, 0, 1, 1, 0, 1, 1, 0, 0, 1, 1, 0, 1, 1, 0,\n",
              "       0, 0, 1, 1, 1, 0, 0])"
            ]
          },
          "metadata": {
            "tags": []
          },
          "execution_count": 110
        }
      ]
    },
    {
      "cell_type": "code",
      "metadata": {
        "colab": {
          "base_uri": "https://localhost:8080/"
        },
        "id": "pBIFoUsOkgeW",
        "outputId": "53fa38fc-d68a-42d2-bca6-870bec54eb42"
      },
      "source": [
        "rfc.predict_proba(x_ts)"
      ],
      "execution_count": 109,
      "outputs": [
        {
          "output_type": "execute_result",
          "data": {
            "text/plain": [
              "array([[0.81, 0.19],\n",
              "       [0.64, 0.36],\n",
              "       [0.3 , 0.7 ],\n",
              "       [0.19, 0.81],\n",
              "       [0.64, 0.36],\n",
              "       [0.42, 0.58],\n",
              "       [0.42, 0.58],\n",
              "       [0.79, 0.21],\n",
              "       [0.33, 0.67],\n",
              "       [0.73, 0.27],\n",
              "       [0.56, 0.44],\n",
              "       [0.69, 0.31],\n",
              "       [0.6 , 0.4 ],\n",
              "       [0.43, 0.57],\n",
              "       [0.25, 0.75],\n",
              "       [0.78, 0.22],\n",
              "       [0.8 , 0.2 ],\n",
              "       [0.46, 0.54],\n",
              "       [0.42, 0.58],\n",
              "       [0.36, 0.64],\n",
              "       [0.58, 0.42],\n",
              "       [0.29, 0.71],\n",
              "       [0.09, 0.91],\n",
              "       [0.55, 0.45],\n",
              "       [0.83, 0.17],\n",
              "       [0.47, 0.53],\n",
              "       [0.55, 0.45],\n",
              "       [0.52, 0.48],\n",
              "       [0.69, 0.31],\n",
              "       [0.71, 0.29],\n",
              "       [0.68, 0.32],\n",
              "       [0.36, 0.64],\n",
              "       [0.36, 0.64],\n",
              "       [0.26, 0.74],\n",
              "       [0.62, 0.38],\n",
              "       [0.43, 0.57],\n",
              "       [0.59, 0.41],\n",
              "       [0.39, 0.61],\n",
              "       [0.35, 0.65],\n",
              "       [0.8 , 0.2 ],\n",
              "       [0.41, 0.59],\n",
              "       [0.71, 0.29],\n",
              "       [0.23, 0.77],\n",
              "       [0.36, 0.64],\n",
              "       [0.88, 0.12],\n",
              "       [0.66, 0.34],\n",
              "       [0.19, 0.81],\n",
              "       [0.73, 0.27],\n",
              "       [0.56, 0.44],\n",
              "       [0.68, 0.32],\n",
              "       [0.35, 0.65],\n",
              "       [0.33, 0.67],\n",
              "       [0.4 , 0.6 ],\n",
              "       [0.86, 0.14],\n",
              "       [0.77, 0.23],\n",
              "       [0.52, 0.48],\n",
              "       [0.15, 0.85],\n",
              "       [0.27, 0.73],\n",
              "       [0.72, 0.28],\n",
              "       [0.5 , 0.5 ],\n",
              "       [0.21, 0.79],\n",
              "       [0.69, 0.31],\n",
              "       [0.72, 0.28],\n",
              "       [0.43, 0.57],\n",
              "       [0.37, 0.63],\n",
              "       [0.62, 0.38],\n",
              "       [0.57, 0.43],\n",
              "       [0.58, 0.42],\n",
              "       [0.28, 0.72],\n",
              "       [0.72, 0.28],\n",
              "       [0.25, 0.75],\n",
              "       [0.41, 0.59],\n",
              "       [0.32, 0.68],\n",
              "       [0.35, 0.65],\n",
              "       [0.44, 0.56],\n",
              "       [0.7 , 0.3 ],\n",
              "       [0.82, 0.18],\n",
              "       [0.32, 0.68],\n",
              "       [0.61, 0.39],\n",
              "       [0.43, 0.57],\n",
              "       [0.51, 0.49],\n",
              "       [0.51, 0.49],\n",
              "       [0.84, 0.16],\n",
              "       [0.75, 0.25],\n",
              "       [0.65, 0.35],\n",
              "       [0.5 , 0.5 ],\n",
              "       [0.36, 0.64],\n",
              "       [0.54, 0.46],\n",
              "       [0.24, 0.76],\n",
              "       [0.73, 0.27],\n",
              "       [0.73, 0.27],\n",
              "       [0.3 , 0.7 ],\n",
              "       [0.4 , 0.6 ],\n",
              "       [0.73, 0.27],\n",
              "       [0.39, 0.61],\n",
              "       [0.34, 0.66],\n",
              "       [0.54, 0.46],\n",
              "       [0.19, 0.81],\n",
              "       [0.14, 0.86],\n",
              "       [0.76, 0.24],\n",
              "       [0.42, 0.58],\n",
              "       [0.37, 0.63],\n",
              "       [0.66, 0.34],\n",
              "       [0.55, 0.45],\n",
              "       [0.42, 0.58],\n",
              "       [0.27, 0.73],\n",
              "       [0.69, 0.31],\n",
              "       [0.13, 0.87],\n",
              "       [0.31, 0.69],\n",
              "       [0.55, 0.45],\n",
              "       [0.66, 0.34],\n",
              "       [0.58, 0.42],\n",
              "       [0.33, 0.67],\n",
              "       [0.43, 0.57],\n",
              "       [0.03, 0.97],\n",
              "       [0.75, 0.25],\n",
              "       [0.63, 0.37]])"
            ]
          },
          "metadata": {
            "tags": []
          },
          "execution_count": 109
        }
      ]
    },
    {
      "cell_type": "code",
      "metadata": {
        "colab": {
          "base_uri": "https://localhost:8080/"
        },
        "id": "lPS6EL9zkQCj",
        "outputId": "a3888d80-edd6-4f34-f9ec-277346464089"
      },
      "source": [
        "proba[:20]"
      ],
      "execution_count": 107,
      "outputs": [
        {
          "output_type": "execute_result",
          "data": {
            "text/plain": [
              "0     0.19\n",
              "1     0.36\n",
              "2     0.70\n",
              "3     0.81\n",
              "4     0.36\n",
              "5     0.58\n",
              "6     0.58\n",
              "7     0.21\n",
              "8     0.67\n",
              "9     0.27\n",
              "10    0.44\n",
              "11    0.31\n",
              "12    0.40\n",
              "13    0.57\n",
              "14    0.75\n",
              "15    0.22\n",
              "16    0.20\n",
              "17    0.54\n",
              "18    0.58\n",
              "19    0.64\n",
              "Name: 1, dtype: float64"
            ]
          },
          "metadata": {
            "tags": []
          },
          "execution_count": 107
        }
      ]
    },
    {
      "cell_type": "code",
      "metadata": {
        "colab": {
          "base_uri": "https://localhost:8080/"
        },
        "id": "BAgY_BbekQjR",
        "outputId": "0642e009-31a3-4f7f-a220-024ac2f80ef1"
      },
      "source": [
        "from sklearn.metrics import accuracy_score\r\n",
        "\r\n",
        "accuracy_score(rfc.predict(x_ts), y_ts)"
      ],
      "execution_count": 111,
      "outputs": [
        {
          "output_type": "execute_result",
          "data": {
            "text/plain": [
              "0.5042735042735043"
            ]
          },
          "metadata": {
            "tags": []
          },
          "execution_count": 111
        }
      ]
    },
    {
      "cell_type": "markdown",
      "metadata": {
        "id": "E96gQHXbmP0A"
      },
      "source": [
        "# ДЗ\r\n",
        "\r\n",
        "- Очистить данные\r\n",
        "- Расставить prior в зависимости от технических скиллов и обучить модель на этой информации"
      ]
    },
    {
      "cell_type": "code",
      "metadata": {
        "id": "lG6KOgR0llhn"
      },
      "source": [
        ""
      ],
      "execution_count": null,
      "outputs": []
    }
  ]
}